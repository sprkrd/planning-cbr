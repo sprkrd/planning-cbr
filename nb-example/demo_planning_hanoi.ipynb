{
 "cells": [
  {
   "cell_type": "markdown",
   "metadata": {},
   "source": [
    "# Planning in Python\n",
    "\n",
    "Here we illustrate how to use our library to pose a simple Hanoi puzzle and solve it with our planning framework. We have implemented both blind search algorithms and informed (heuristic) search. This notebook gives a flavour of these techniques.\n",
    "\n",
    "## Simple example with 4 pegs\n",
    "\n",
    "We start importing the relevant modules:"
   ]
  },
  {
   "cell_type": "code",
   "execution_count": 1,
   "metadata": {
    "collapsed": true
   },
   "outputs": [],
   "source": [
    "import planning\n",
    "\n",
    "from IPython.display import display"
   ]
  },
  {
   "cell_type": "markdown",
   "metadata": {},
   "source": [
    "Now let us pose a simple problem with 4 pegs and 5 disks. The domain is already defined and it contains a single operator: `move(?what-disk, ?from-object, ?to-object)`, which moves disk `?what` from object `?from` (either a peg or another disk) to object `?to` (also, either a peg or a disk). Our planning framework can take care of static preconditions. That is, it does not instantiate the move operator for moving a disk onto a smaller disk) so it is not necessary to encode static predicates in the state (the `smaller(?disk1,?disk2)` predicates that are typically seen in PDDL Hanoi domains).\n",
    "\n",
    "We have also implemented a problem generator. The generator can create problems for any number of disks and pegs. It also allows random initial and ending configurations. Our first example will be fairly simple and will have 3 pegs, all the disks in the first peg in the initial state and all the disks in the third peg in the goal configuration. Although the goal in this case details the position of every disk, notice that this does not necessarily has to be the case always. The goal does not need to be a complete description of the end configuration. It is perfectly reasonable, and our framework allows it, to consider partial states (e.g. we want the biggest disk in the third peg, and we do not care about the rest)."
   ]
  },
  {
   "cell_type": "code",
   "execution_count": 14,
   "metadata": {
    "scrolled": false
   },
   "outputs": [
    {
     "name": "stdout",
     "output_type": "stream",
     "text": [
      "Domain: Hanoi\n",
      "Types: {'disk': 'object', 'peg': 'object'}\n",
      "Operators:\n",
      "  - move(?what-disk,?from-object,?to-object):\n",
      "    Pre: clear(?what), clear(?to), on(?what,?from)\n",
      "    Add: clear(?from), on(?what,?to)\n",
      "    Delete: clear(?to), on(?what,?from)\n",
      "Problem: hanoi-00\n",
      "Domain: Hanoi\n",
      "Initial state:\n",
      "  clear(disk01)\n",
      "  clear(peg2)\n",
      "  clear(peg3)\n",
      "  clear(peg4)\n",
      "  on(disk01,disk02)\n",
      "  on(disk02,disk03)\n",
      "  on(disk03,disk04)\n",
      "  on(disk04,disk05)\n",
      "  on(disk05,peg1)\n",
      "Goal:\n",
      "  clear(disk01)\n",
      "  clear(peg1)\n",
      "  clear(peg2)\n",
      "  clear(peg3)\n",
      "  on(disk01,disk02)\n",
      "  on(disk02,disk03)\n",
      "  on(disk03,disk04)\n",
      "  on(disk04,disk05)\n",
      "  on(disk05,peg4)\n",
      "Ground operators:\n",
      "  move(disk01,peg1,peg2)\n",
      "  move(disk01,peg1,peg3)\n",
      "  move(disk01,peg1,peg4)\n",
      "  move(disk01,peg1,disk02)\n",
      "  move(disk01,peg1,disk03)\n",
      "  move(disk01,peg1,disk04)\n",
      "  move(disk01,peg1,disk05)\n",
      "  move(disk01,peg2,peg1)\n",
      "  move(disk01,peg2,peg3)\n",
      "  move(disk01,peg2,peg4)\n",
      "  move(disk01,peg2,disk02)\n",
      "  move(disk01,peg2,disk03)\n",
      "  move(disk01,peg2,disk04)\n",
      "  move(disk01,peg2,disk05)\n",
      "  move(disk01,peg3,peg1)\n",
      "  move(disk01,peg3,peg2)\n",
      "  move(disk01,peg3,peg4)\n",
      "  move(disk01,peg3,disk02)\n",
      "  move(disk01,peg3,disk03)\n",
      "  move(disk01,peg3,disk04)\n",
      "  move(disk01,peg3,disk05)\n",
      "  move(disk01,peg4,peg1)\n",
      "  move(disk01,peg4,peg2)\n",
      "  move(disk01,peg4,peg3)\n",
      "  move(disk01,peg4,disk02)\n",
      "  move(disk01,peg4,disk03)\n",
      "  move(disk01,peg4,disk04)\n",
      "  move(disk01,peg4,disk05)\n",
      "  move(disk01,disk02,peg1)\n",
      "  move(disk01,disk02,peg2)\n",
      "  move(disk01,disk02,peg3)\n",
      "  move(disk01,disk02,peg4)\n",
      "  move(disk01,disk02,disk03)\n",
      "  move(disk01,disk02,disk04)\n",
      "  move(disk01,disk02,disk05)\n",
      "  move(disk01,disk03,peg1)\n",
      "  move(disk01,disk03,peg2)\n",
      "  move(disk01,disk03,peg3)\n",
      "  move(disk01,disk03,peg4)\n",
      "  move(disk01,disk03,disk02)\n",
      "  move(disk01,disk03,disk04)\n",
      "  move(disk01,disk03,disk05)\n",
      "  move(disk01,disk04,peg1)\n",
      "  move(disk01,disk04,peg2)\n",
      "  move(disk01,disk04,peg3)\n",
      "  move(disk01,disk04,peg4)\n",
      "  move(disk01,disk04,disk02)\n",
      "  move(disk01,disk04,disk03)\n",
      "  move(disk01,disk04,disk05)\n",
      "  move(disk01,disk05,peg1)\n",
      "  move(disk01,disk05,peg2)\n",
      "  move(disk01,disk05,peg3)\n",
      "  move(disk01,disk05,peg4)\n",
      "  move(disk01,disk05,disk02)\n",
      "  move(disk01,disk05,disk03)\n",
      "  move(disk01,disk05,disk04)\n",
      "  move(disk02,peg1,peg2)\n",
      "  move(disk02,peg1,peg3)\n",
      "  move(disk02,peg1,peg4)\n",
      "  move(disk02,peg1,disk03)\n",
      "  move(disk02,peg1,disk04)\n",
      "  move(disk02,peg1,disk05)\n",
      "  move(disk02,peg2,peg1)\n",
      "  move(disk02,peg2,peg3)\n",
      "  move(disk02,peg2,peg4)\n",
      "  move(disk02,peg2,disk03)\n",
      "  move(disk02,peg2,disk04)\n",
      "  move(disk02,peg2,disk05)\n",
      "  move(disk02,peg3,peg1)\n",
      "  move(disk02,peg3,peg2)\n",
      "  move(disk02,peg3,peg4)\n",
      "  move(disk02,peg3,disk03)\n",
      "  move(disk02,peg3,disk04)\n",
      "  move(disk02,peg3,disk05)\n",
      "  move(disk02,peg4,peg1)\n",
      "  move(disk02,peg4,peg2)\n",
      "  move(disk02,peg4,peg3)\n",
      "  move(disk02,peg4,disk03)\n",
      "  move(disk02,peg4,disk04)\n",
      "  move(disk02,peg4,disk05)\n",
      "  move(disk02,disk03,peg1)\n",
      "  move(disk02,disk03,peg2)\n",
      "  move(disk02,disk03,peg3)\n",
      "  move(disk02,disk03,peg4)\n",
      "  move(disk02,disk03,disk04)\n",
      "  move(disk02,disk03,disk05)\n",
      "  move(disk02,disk04,peg1)\n",
      "  move(disk02,disk04,peg2)\n",
      "  move(disk02,disk04,peg3)\n",
      "  move(disk02,disk04,peg4)\n",
      "  move(disk02,disk04,disk03)\n",
      "  move(disk02,disk04,disk05)\n",
      "  move(disk02,disk05,peg1)\n",
      "  move(disk02,disk05,peg2)\n",
      "  move(disk02,disk05,peg3)\n",
      "  move(disk02,disk05,peg4)\n",
      "  move(disk02,disk05,disk03)\n",
      "  move(disk02,disk05,disk04)\n",
      "  move(disk03,peg1,peg2)\n",
      "  move(disk03,peg1,peg3)\n",
      "  move(disk03,peg1,peg4)\n",
      "  move(disk03,peg1,disk04)\n",
      "  move(disk03,peg1,disk05)\n",
      "  move(disk03,peg2,peg1)\n",
      "  move(disk03,peg2,peg3)\n",
      "  move(disk03,peg2,peg4)\n",
      "  move(disk03,peg2,disk04)\n",
      "  move(disk03,peg2,disk05)\n",
      "  move(disk03,peg3,peg1)\n",
      "  move(disk03,peg3,peg2)\n",
      "  move(disk03,peg3,peg4)\n",
      "  move(disk03,peg3,disk04)\n",
      "  move(disk03,peg3,disk05)\n",
      "  move(disk03,peg4,peg1)\n",
      "  move(disk03,peg4,peg2)\n",
      "  move(disk03,peg4,peg3)\n",
      "  move(disk03,peg4,disk04)\n",
      "  move(disk03,peg4,disk05)\n",
      "  move(disk03,disk04,peg1)\n",
      "  move(disk03,disk04,peg2)\n",
      "  move(disk03,disk04,peg3)\n",
      "  move(disk03,disk04,peg4)\n",
      "  move(disk03,disk04,disk05)\n",
      "  move(disk03,disk05,peg1)\n",
      "  move(disk03,disk05,peg2)\n",
      "  move(disk03,disk05,peg3)\n",
      "  move(disk03,disk05,peg4)\n",
      "  move(disk03,disk05,disk04)\n",
      "  move(disk04,peg1,peg2)\n",
      "  move(disk04,peg1,peg3)\n",
      "  move(disk04,peg1,peg4)\n",
      "  move(disk04,peg1,disk05)\n",
      "  move(disk04,peg2,peg1)\n",
      "  move(disk04,peg2,peg3)\n",
      "  move(disk04,peg2,peg4)\n",
      "  move(disk04,peg2,disk05)\n",
      "  move(disk04,peg3,peg1)\n",
      "  move(disk04,peg3,peg2)\n",
      "  move(disk04,peg3,peg4)\n",
      "  move(disk04,peg3,disk05)\n",
      "  move(disk04,peg4,peg1)\n",
      "  move(disk04,peg4,peg2)\n",
      "  move(disk04,peg4,peg3)\n",
      "  move(disk04,peg4,disk05)\n",
      "  move(disk04,disk05,peg1)\n",
      "  move(disk04,disk05,peg2)\n",
      "  move(disk04,disk05,peg3)\n",
      "  move(disk04,disk05,peg4)\n",
      "  move(disk05,peg1,peg2)\n",
      "  move(disk05,peg1,peg3)\n",
      "  move(disk05,peg1,peg4)\n",
      "  move(disk05,peg2,peg1)\n",
      "  move(disk05,peg2,peg3)\n",
      "  move(disk05,peg2,peg4)\n",
      "  move(disk05,peg3,peg1)\n",
      "  move(disk05,peg3,peg2)\n",
      "  move(disk05,peg3,peg4)\n",
      "  move(disk05,peg4,peg1)\n",
      "  move(disk05,peg4,peg2)\n",
      "  move(disk05,peg4,peg3)\n",
      "Init:\n"
     ]
    },
    {
     "data": {
      "image/svg+xml": [
       "<svg baseProfile=\"full\" height=\"200\" version=\"1.1\" width=\"500\" xmlns=\"http://www.w3.org/2000/svg\" xmlns:ev=\"http://www.w3.org/2001/xml-events\" xmlns:xlink=\"http://www.w3.org/1999/xlink\"><defs /><line stroke=\"black\" x1=\"5%\" x2=\"95%\" y1=\"95%\" y2=\"95%\" /><rect fill=\"white\" height=\"80%\" stroke=\"black\" width=\"1%\" x=\"22.5%\" y=\"15.0%\" /><rect fill=\"white\" height=\"80%\" stroke=\"black\" width=\"1%\" x=\"40.5%\" y=\"15.0%\" /><rect fill=\"white\" height=\"80%\" stroke=\"black\" width=\"1%\" x=\"58.5%\" y=\"15.0%\" /><rect fill=\"white\" height=\"80%\" stroke=\"black\" width=\"1%\" x=\"76.5%\" y=\"15.0%\" /><rect fill=\"white\" height=\"4%\" stroke=\"black\" width=\"8.09%\" x=\"18.955%\" y=\"91.0%\" /><rect fill=\"white\" height=\"4%\" stroke=\"black\" width=\"6.472%\" x=\"19.764%\" y=\"87.0%\" /><rect fill=\"white\" height=\"4%\" stroke=\"black\" width=\"4.854%\" x=\"20.573%\" y=\"83.0%\" /><rect fill=\"white\" height=\"4%\" stroke=\"black\" width=\"3.236%\" x=\"21.382%\" y=\"79.0%\" /><rect fill=\"white\" height=\"4%\" stroke=\"black\" width=\"1.618%\" x=\"22.191%\" y=\"75.0%\" /></svg>"
      ],
      "text/plain": [
       "<planning.planning.State at 0x7f6ab2fb9400>"
      ]
     },
     "metadata": {},
     "output_type": "display_data"
    },
    {
     "name": "stdout",
     "output_type": "stream",
     "text": [
      "Goal:\n"
     ]
    },
    {
     "data": {
      "image/svg+xml": [
       "<svg baseProfile=\"full\" height=\"200\" version=\"1.1\" width=\"500\" xmlns=\"http://www.w3.org/2000/svg\" xmlns:ev=\"http://www.w3.org/2001/xml-events\" xmlns:xlink=\"http://www.w3.org/1999/xlink\"><defs /><line stroke=\"black\" x1=\"5%\" x2=\"95%\" y1=\"95%\" y2=\"95%\" /><rect fill=\"white\" height=\"80%\" stroke=\"black\" width=\"1%\" x=\"22.5%\" y=\"15.0%\" /><rect fill=\"white\" height=\"80%\" stroke=\"black\" width=\"1%\" x=\"40.5%\" y=\"15.0%\" /><rect fill=\"white\" height=\"80%\" stroke=\"black\" width=\"1%\" x=\"58.5%\" y=\"15.0%\" /><rect fill=\"white\" height=\"80%\" stroke=\"black\" width=\"1%\" x=\"76.5%\" y=\"15.0%\" /><rect fill=\"white\" height=\"4%\" stroke=\"black\" width=\"8.09%\" x=\"72.955%\" y=\"91.0%\" /><rect fill=\"white\" height=\"4%\" stroke=\"black\" width=\"6.472%\" x=\"73.764%\" y=\"87.0%\" /><rect fill=\"white\" height=\"4%\" stroke=\"black\" width=\"4.854%\" x=\"74.573%\" y=\"83.0%\" /><rect fill=\"white\" height=\"4%\" stroke=\"black\" width=\"3.236%\" x=\"75.382%\" y=\"79.0%\" /><rect fill=\"white\" height=\"4%\" stroke=\"black\" width=\"1.618%\" x=\"76.191%\" y=\"75.0%\" /></svg>"
      ],
      "text/plain": [
       "<planning.planning.State at 0x7f6ab2fb9198>"
      ]
     },
     "metadata": {},
     "output_type": "display_data"
    },
    {
     "name": "stdout",
     "output_type": "stream",
     "text": [
      "Applicable actions in 1st state:\n",
      "move(disk01,disk02,peg2)\n",
      "move(disk01,disk02,peg3)\n",
      "move(disk01,disk02,peg4)\n"
     ]
    }
   ],
   "source": [
    "domain = planning.domains[\"Hanoi\"]\n",
    "problem = domain.generate_problem(5, 4, random=False)\n",
    "print(domain)\n",
    "print(problem)\n",
    "print(\"Init:\")\n",
    "display(problem.init())\n",
    "print(\"Goal:\")\n",
    "display(problem.goal())\n",
    "print(\"Applicable actions in 1st state:\")\n",
    "print(\"\\n\".join(map(str, filter(problem.init().can_apply, problem.operators()))))"
   ]
  },
  {
   "cell_type": "markdown",
   "metadata": {},
   "source": [
    "Let us start applying blind search algorithms. Namely, we have implemented Breadth First Search (BFS) and Iterative Deepening Search (IDS). The algorithms have an exponential worst time complexity. More specifically, both have a time complexity of $ O(b^d) $ where $ b $ is the branching factor and $ d $ is the length of the plan. Moreover, BFS is very memory intensive, requiring also an exponential amount of memory. IDS sacrifices speed for memory efficiency: it has a linear memory usage, but requires more time than BFS to find a plan, namely, a constant factor times the time required by BFS which, of course, is hidden in the big O notation.\n",
    "\n",
    "Let us start with BFS:"
   ]
  },
  {
   "cell_type": "code",
   "execution_count": 3,
   "metadata": {
    "scrolled": false
   },
   "outputs": [
    {
     "name": "stdout",
     "output_type": "stream",
     "text": [
      "[1.032s] Plan found with 13 action(s)\n",
      "#Generated nodes: 1020\n",
      "Plan:\n",
      "  move(disk01,disk02,peg2)\n",
      "  move(disk02,disk03,peg3)\n",
      "  move(disk01,peg2,disk02)\n",
      "  move(disk03,disk04,peg4)\n",
      "  move(disk04,disk05,peg2)\n",
      "  move(disk03,peg4,disk04)\n",
      "  move(disk05,peg1,peg4)\n",
      "  move(disk03,disk04,peg1)\n",
      "  move(disk04,peg2,disk05)\n",
      "  move(disk01,disk02,peg2)\n",
      "  move(disk03,peg1,disk04)\n",
      "  move(disk02,peg3,disk03)\n",
      "  move(disk01,peg2,disk02)\n",
      "step 0\n"
     ]
    },
    {
     "data": {
      "image/svg+xml": [
       "<svg baseProfile=\"full\" height=\"200\" version=\"1.1\" width=\"500\" xmlns=\"http://www.w3.org/2000/svg\" xmlns:ev=\"http://www.w3.org/2001/xml-events\" xmlns:xlink=\"http://www.w3.org/1999/xlink\"><defs /><line stroke=\"black\" x1=\"5%\" x2=\"95%\" y1=\"95%\" y2=\"95%\" /><rect fill=\"white\" height=\"80%\" stroke=\"black\" width=\"1%\" x=\"22.5%\" y=\"15.0%\" /><rect fill=\"white\" height=\"80%\" stroke=\"black\" width=\"1%\" x=\"40.5%\" y=\"15.0%\" /><rect fill=\"white\" height=\"80%\" stroke=\"black\" width=\"1%\" x=\"58.5%\" y=\"15.0%\" /><rect fill=\"white\" height=\"80%\" stroke=\"black\" width=\"1%\" x=\"76.5%\" y=\"15.0%\" /><rect fill=\"white\" height=\"4%\" stroke=\"black\" width=\"8.09%\" x=\"18.955%\" y=\"91.0%\" /><rect fill=\"white\" height=\"4%\" stroke=\"black\" width=\"6.472%\" x=\"19.764%\" y=\"87.0%\" /><rect fill=\"white\" height=\"4%\" stroke=\"black\" width=\"4.854%\" x=\"20.573%\" y=\"83.0%\" /><rect fill=\"white\" height=\"4%\" stroke=\"black\" width=\"3.236%\" x=\"21.382%\" y=\"79.0%\" /><rect fill=\"white\" height=\"4%\" stroke=\"black\" width=\"1.618%\" x=\"22.191%\" y=\"75.0%\" /></svg>"
      ],
      "text/plain": [
       "<planning.planning.State at 0x7f6af84b4048>"
      ]
     },
     "metadata": {},
     "output_type": "display_data"
    },
    {
     "name": "stdout",
     "output_type": "stream",
     "text": [
      "step 1\n"
     ]
    },
    {
     "data": {
      "image/svg+xml": [
       "<svg baseProfile=\"full\" height=\"200\" version=\"1.1\" width=\"500\" xmlns=\"http://www.w3.org/2000/svg\" xmlns:ev=\"http://www.w3.org/2001/xml-events\" xmlns:xlink=\"http://www.w3.org/1999/xlink\"><defs /><line stroke=\"black\" x1=\"5%\" x2=\"95%\" y1=\"95%\" y2=\"95%\" /><rect fill=\"white\" height=\"80%\" stroke=\"black\" width=\"1%\" x=\"22.5%\" y=\"15.0%\" /><rect fill=\"white\" height=\"80%\" stroke=\"black\" width=\"1%\" x=\"40.5%\" y=\"15.0%\" /><rect fill=\"white\" height=\"80%\" stroke=\"black\" width=\"1%\" x=\"58.5%\" y=\"15.0%\" /><rect fill=\"white\" height=\"80%\" stroke=\"black\" width=\"1%\" x=\"76.5%\" y=\"15.0%\" /><rect fill=\"white\" height=\"4%\" stroke=\"black\" width=\"8.09%\" x=\"18.955%\" y=\"91.0%\" /><rect fill=\"white\" height=\"4%\" stroke=\"black\" width=\"6.472%\" x=\"19.764%\" y=\"87.0%\" /><rect fill=\"white\" height=\"4%\" stroke=\"black\" width=\"4.854%\" x=\"20.573%\" y=\"83.0%\" /><rect fill=\"white\" height=\"4%\" stroke=\"black\" width=\"3.236%\" x=\"21.382%\" y=\"79.0%\" /><rect fill=\"white\" height=\"4%\" stroke=\"black\" width=\"1.618%\" x=\"40.191%\" y=\"91.0%\" /></svg>"
      ],
      "text/plain": [
       "<planning.planning.State at 0x7f6af84449e8>"
      ]
     },
     "metadata": {},
     "output_type": "display_data"
    },
    {
     "name": "stdout",
     "output_type": "stream",
     "text": [
      "step 2\n"
     ]
    },
    {
     "data": {
      "image/svg+xml": [
       "<svg baseProfile=\"full\" height=\"200\" version=\"1.1\" width=\"500\" xmlns=\"http://www.w3.org/2000/svg\" xmlns:ev=\"http://www.w3.org/2001/xml-events\" xmlns:xlink=\"http://www.w3.org/1999/xlink\"><defs /><line stroke=\"black\" x1=\"5%\" x2=\"95%\" y1=\"95%\" y2=\"95%\" /><rect fill=\"white\" height=\"80%\" stroke=\"black\" width=\"1%\" x=\"22.5%\" y=\"15.0%\" /><rect fill=\"white\" height=\"80%\" stroke=\"black\" width=\"1%\" x=\"40.5%\" y=\"15.0%\" /><rect fill=\"white\" height=\"80%\" stroke=\"black\" width=\"1%\" x=\"58.5%\" y=\"15.0%\" /><rect fill=\"white\" height=\"80%\" stroke=\"black\" width=\"1%\" x=\"76.5%\" y=\"15.0%\" /><rect fill=\"white\" height=\"4%\" stroke=\"black\" width=\"8.09%\" x=\"18.955%\" y=\"91.0%\" /><rect fill=\"white\" height=\"4%\" stroke=\"black\" width=\"6.472%\" x=\"19.764%\" y=\"87.0%\" /><rect fill=\"white\" height=\"4%\" stroke=\"black\" width=\"4.854%\" x=\"20.573%\" y=\"83.0%\" /><rect fill=\"white\" height=\"4%\" stroke=\"black\" width=\"1.618%\" x=\"40.191%\" y=\"91.0%\" /><rect fill=\"white\" height=\"4%\" stroke=\"black\" width=\"3.236%\" x=\"57.382%\" y=\"91.0%\" /></svg>"
      ],
      "text/plain": [
       "<planning.planning.State at 0x7f6af84446a0>"
      ]
     },
     "metadata": {},
     "output_type": "display_data"
    },
    {
     "name": "stdout",
     "output_type": "stream",
     "text": [
      "step 3\n"
     ]
    },
    {
     "data": {
      "image/svg+xml": [
       "<svg baseProfile=\"full\" height=\"200\" version=\"1.1\" width=\"500\" xmlns=\"http://www.w3.org/2000/svg\" xmlns:ev=\"http://www.w3.org/2001/xml-events\" xmlns:xlink=\"http://www.w3.org/1999/xlink\"><defs /><line stroke=\"black\" x1=\"5%\" x2=\"95%\" y1=\"95%\" y2=\"95%\" /><rect fill=\"white\" height=\"80%\" stroke=\"black\" width=\"1%\" x=\"22.5%\" y=\"15.0%\" /><rect fill=\"white\" height=\"80%\" stroke=\"black\" width=\"1%\" x=\"40.5%\" y=\"15.0%\" /><rect fill=\"white\" height=\"80%\" stroke=\"black\" width=\"1%\" x=\"58.5%\" y=\"15.0%\" /><rect fill=\"white\" height=\"80%\" stroke=\"black\" width=\"1%\" x=\"76.5%\" y=\"15.0%\" /><rect fill=\"white\" height=\"4%\" stroke=\"black\" width=\"8.09%\" x=\"18.955%\" y=\"91.0%\" /><rect fill=\"white\" height=\"4%\" stroke=\"black\" width=\"6.472%\" x=\"19.764%\" y=\"87.0%\" /><rect fill=\"white\" height=\"4%\" stroke=\"black\" width=\"4.854%\" x=\"20.573%\" y=\"83.0%\" /><rect fill=\"white\" height=\"4%\" stroke=\"black\" width=\"3.236%\" x=\"57.382%\" y=\"91.0%\" /><rect fill=\"white\" height=\"4%\" stroke=\"black\" width=\"1.618%\" x=\"58.191%\" y=\"87.0%\" /></svg>"
      ],
      "text/plain": [
       "<planning.planning.State at 0x7f6b03152208>"
      ]
     },
     "metadata": {},
     "output_type": "display_data"
    },
    {
     "name": "stdout",
     "output_type": "stream",
     "text": [
      "step 4\n"
     ]
    },
    {
     "data": {
      "image/svg+xml": [
       "<svg baseProfile=\"full\" height=\"200\" version=\"1.1\" width=\"500\" xmlns=\"http://www.w3.org/2000/svg\" xmlns:ev=\"http://www.w3.org/2001/xml-events\" xmlns:xlink=\"http://www.w3.org/1999/xlink\"><defs /><line stroke=\"black\" x1=\"5%\" x2=\"95%\" y1=\"95%\" y2=\"95%\" /><rect fill=\"white\" height=\"80%\" stroke=\"black\" width=\"1%\" x=\"22.5%\" y=\"15.0%\" /><rect fill=\"white\" height=\"80%\" stroke=\"black\" width=\"1%\" x=\"40.5%\" y=\"15.0%\" /><rect fill=\"white\" height=\"80%\" stroke=\"black\" width=\"1%\" x=\"58.5%\" y=\"15.0%\" /><rect fill=\"white\" height=\"80%\" stroke=\"black\" width=\"1%\" x=\"76.5%\" y=\"15.0%\" /><rect fill=\"white\" height=\"4%\" stroke=\"black\" width=\"8.09%\" x=\"18.955%\" y=\"91.0%\" /><rect fill=\"white\" height=\"4%\" stroke=\"black\" width=\"6.472%\" x=\"19.764%\" y=\"87.0%\" /><rect fill=\"white\" height=\"4%\" stroke=\"black\" width=\"3.236%\" x=\"57.382%\" y=\"91.0%\" /><rect fill=\"white\" height=\"4%\" stroke=\"black\" width=\"1.618%\" x=\"58.191%\" y=\"87.0%\" /><rect fill=\"white\" height=\"4%\" stroke=\"black\" width=\"4.854%\" x=\"74.573%\" y=\"91.0%\" /></svg>"
      ],
      "text/plain": [
       "<planning.planning.State at 0x7f6af8448518>"
      ]
     },
     "metadata": {},
     "output_type": "display_data"
    },
    {
     "name": "stdout",
     "output_type": "stream",
     "text": [
      "step 5\n"
     ]
    },
    {
     "data": {
      "image/svg+xml": [
       "<svg baseProfile=\"full\" height=\"200\" version=\"1.1\" width=\"500\" xmlns=\"http://www.w3.org/2000/svg\" xmlns:ev=\"http://www.w3.org/2001/xml-events\" xmlns:xlink=\"http://www.w3.org/1999/xlink\"><defs /><line stroke=\"black\" x1=\"5%\" x2=\"95%\" y1=\"95%\" y2=\"95%\" /><rect fill=\"white\" height=\"80%\" stroke=\"black\" width=\"1%\" x=\"22.5%\" y=\"15.0%\" /><rect fill=\"white\" height=\"80%\" stroke=\"black\" width=\"1%\" x=\"40.5%\" y=\"15.0%\" /><rect fill=\"white\" height=\"80%\" stroke=\"black\" width=\"1%\" x=\"58.5%\" y=\"15.0%\" /><rect fill=\"white\" height=\"80%\" stroke=\"black\" width=\"1%\" x=\"76.5%\" y=\"15.0%\" /><rect fill=\"white\" height=\"4%\" stroke=\"black\" width=\"8.09%\" x=\"18.955%\" y=\"91.0%\" /><rect fill=\"white\" height=\"4%\" stroke=\"black\" width=\"6.472%\" x=\"37.764%\" y=\"91.0%\" /><rect fill=\"white\" height=\"4%\" stroke=\"black\" width=\"3.236%\" x=\"57.382%\" y=\"91.0%\" /><rect fill=\"white\" height=\"4%\" stroke=\"black\" width=\"1.618%\" x=\"58.191%\" y=\"87.0%\" /><rect fill=\"white\" height=\"4%\" stroke=\"black\" width=\"4.854%\" x=\"74.573%\" y=\"91.0%\" /></svg>"
      ],
      "text/plain": [
       "<planning.planning.State at 0x7f6af8448400>"
      ]
     },
     "metadata": {},
     "output_type": "display_data"
    },
    {
     "name": "stdout",
     "output_type": "stream",
     "text": [
      "step 6\n"
     ]
    },
    {
     "data": {
      "image/svg+xml": [
       "<svg baseProfile=\"full\" height=\"200\" version=\"1.1\" width=\"500\" xmlns=\"http://www.w3.org/2000/svg\" xmlns:ev=\"http://www.w3.org/2001/xml-events\" xmlns:xlink=\"http://www.w3.org/1999/xlink\"><defs /><line stroke=\"black\" x1=\"5%\" x2=\"95%\" y1=\"95%\" y2=\"95%\" /><rect fill=\"white\" height=\"80%\" stroke=\"black\" width=\"1%\" x=\"22.5%\" y=\"15.0%\" /><rect fill=\"white\" height=\"80%\" stroke=\"black\" width=\"1%\" x=\"40.5%\" y=\"15.0%\" /><rect fill=\"white\" height=\"80%\" stroke=\"black\" width=\"1%\" x=\"58.5%\" y=\"15.0%\" /><rect fill=\"white\" height=\"80%\" stroke=\"black\" width=\"1%\" x=\"76.5%\" y=\"15.0%\" /><rect fill=\"white\" height=\"4%\" stroke=\"black\" width=\"8.09%\" x=\"18.955%\" y=\"91.0%\" /><rect fill=\"white\" height=\"4%\" stroke=\"black\" width=\"6.472%\" x=\"37.764%\" y=\"91.0%\" /><rect fill=\"white\" height=\"4%\" stroke=\"black\" width=\"4.854%\" x=\"38.573%\" y=\"87.0%\" /><rect fill=\"white\" height=\"4%\" stroke=\"black\" width=\"3.236%\" x=\"57.382%\" y=\"91.0%\" /><rect fill=\"white\" height=\"4%\" stroke=\"black\" width=\"1.618%\" x=\"58.191%\" y=\"87.0%\" /></svg>"
      ],
      "text/plain": [
       "<planning.planning.State at 0x7f6af84b4160>"
      ]
     },
     "metadata": {},
     "output_type": "display_data"
    },
    {
     "name": "stdout",
     "output_type": "stream",
     "text": [
      "step 7\n"
     ]
    },
    {
     "data": {
      "image/svg+xml": [
       "<svg baseProfile=\"full\" height=\"200\" version=\"1.1\" width=\"500\" xmlns=\"http://www.w3.org/2000/svg\" xmlns:ev=\"http://www.w3.org/2001/xml-events\" xmlns:xlink=\"http://www.w3.org/1999/xlink\"><defs /><line stroke=\"black\" x1=\"5%\" x2=\"95%\" y1=\"95%\" y2=\"95%\" /><rect fill=\"white\" height=\"80%\" stroke=\"black\" width=\"1%\" x=\"22.5%\" y=\"15.0%\" /><rect fill=\"white\" height=\"80%\" stroke=\"black\" width=\"1%\" x=\"40.5%\" y=\"15.0%\" /><rect fill=\"white\" height=\"80%\" stroke=\"black\" width=\"1%\" x=\"58.5%\" y=\"15.0%\" /><rect fill=\"white\" height=\"80%\" stroke=\"black\" width=\"1%\" x=\"76.5%\" y=\"15.0%\" /><rect fill=\"white\" height=\"4%\" stroke=\"black\" width=\"6.472%\" x=\"37.764%\" y=\"91.0%\" /><rect fill=\"white\" height=\"4%\" stroke=\"black\" width=\"4.854%\" x=\"38.573%\" y=\"87.0%\" /><rect fill=\"white\" height=\"4%\" stroke=\"black\" width=\"3.236%\" x=\"57.382%\" y=\"91.0%\" /><rect fill=\"white\" height=\"4%\" stroke=\"black\" width=\"1.618%\" x=\"58.191%\" y=\"87.0%\" /><rect fill=\"white\" height=\"4%\" stroke=\"black\" width=\"8.09%\" x=\"72.955%\" y=\"91.0%\" /></svg>"
      ],
      "text/plain": [
       "<planning.planning.State at 0x7f6af842deb8>"
      ]
     },
     "metadata": {},
     "output_type": "display_data"
    },
    {
     "name": "stdout",
     "output_type": "stream",
     "text": [
      "step 8\n"
     ]
    },
    {
     "data": {
      "image/svg+xml": [
       "<svg baseProfile=\"full\" height=\"200\" version=\"1.1\" width=\"500\" xmlns=\"http://www.w3.org/2000/svg\" xmlns:ev=\"http://www.w3.org/2001/xml-events\" xmlns:xlink=\"http://www.w3.org/1999/xlink\"><defs /><line stroke=\"black\" x1=\"5%\" x2=\"95%\" y1=\"95%\" y2=\"95%\" /><rect fill=\"white\" height=\"80%\" stroke=\"black\" width=\"1%\" x=\"22.5%\" y=\"15.0%\" /><rect fill=\"white\" height=\"80%\" stroke=\"black\" width=\"1%\" x=\"40.5%\" y=\"15.0%\" /><rect fill=\"white\" height=\"80%\" stroke=\"black\" width=\"1%\" x=\"58.5%\" y=\"15.0%\" /><rect fill=\"white\" height=\"80%\" stroke=\"black\" width=\"1%\" x=\"76.5%\" y=\"15.0%\" /><rect fill=\"white\" height=\"4%\" stroke=\"black\" width=\"4.854%\" x=\"20.573%\" y=\"91.0%\" /><rect fill=\"white\" height=\"4%\" stroke=\"black\" width=\"6.472%\" x=\"37.764%\" y=\"91.0%\" /><rect fill=\"white\" height=\"4%\" stroke=\"black\" width=\"3.236%\" x=\"57.382%\" y=\"91.0%\" /><rect fill=\"white\" height=\"4%\" stroke=\"black\" width=\"1.618%\" x=\"58.191%\" y=\"87.0%\" /><rect fill=\"white\" height=\"4%\" stroke=\"black\" width=\"8.09%\" x=\"72.955%\" y=\"91.0%\" /></svg>"
      ],
      "text/plain": [
       "<planning.planning.State at 0x7f6af84349e8>"
      ]
     },
     "metadata": {},
     "output_type": "display_data"
    },
    {
     "name": "stdout",
     "output_type": "stream",
     "text": [
      "step 9\n"
     ]
    },
    {
     "data": {
      "image/svg+xml": [
       "<svg baseProfile=\"full\" height=\"200\" version=\"1.1\" width=\"500\" xmlns=\"http://www.w3.org/2000/svg\" xmlns:ev=\"http://www.w3.org/2001/xml-events\" xmlns:xlink=\"http://www.w3.org/1999/xlink\"><defs /><line stroke=\"black\" x1=\"5%\" x2=\"95%\" y1=\"95%\" y2=\"95%\" /><rect fill=\"white\" height=\"80%\" stroke=\"black\" width=\"1%\" x=\"22.5%\" y=\"15.0%\" /><rect fill=\"white\" height=\"80%\" stroke=\"black\" width=\"1%\" x=\"40.5%\" y=\"15.0%\" /><rect fill=\"white\" height=\"80%\" stroke=\"black\" width=\"1%\" x=\"58.5%\" y=\"15.0%\" /><rect fill=\"white\" height=\"80%\" stroke=\"black\" width=\"1%\" x=\"76.5%\" y=\"15.0%\" /><rect fill=\"white\" height=\"4%\" stroke=\"black\" width=\"4.854%\" x=\"20.573%\" y=\"91.0%\" /><rect fill=\"white\" height=\"4%\" stroke=\"black\" width=\"3.236%\" x=\"57.382%\" y=\"91.0%\" /><rect fill=\"white\" height=\"4%\" stroke=\"black\" width=\"1.618%\" x=\"58.191%\" y=\"87.0%\" /><rect fill=\"white\" height=\"4%\" stroke=\"black\" width=\"8.09%\" x=\"72.955%\" y=\"91.0%\" /><rect fill=\"white\" height=\"4%\" stroke=\"black\" width=\"6.472%\" x=\"73.764%\" y=\"87.0%\" /></svg>"
      ],
      "text/plain": [
       "<planning.planning.State at 0x7f6af8440198>"
      ]
     },
     "metadata": {},
     "output_type": "display_data"
    },
    {
     "name": "stdout",
     "output_type": "stream",
     "text": [
      "step 10\n"
     ]
    },
    {
     "data": {
      "image/svg+xml": [
       "<svg baseProfile=\"full\" height=\"200\" version=\"1.1\" width=\"500\" xmlns=\"http://www.w3.org/2000/svg\" xmlns:ev=\"http://www.w3.org/2001/xml-events\" xmlns:xlink=\"http://www.w3.org/1999/xlink\"><defs /><line stroke=\"black\" x1=\"5%\" x2=\"95%\" y1=\"95%\" y2=\"95%\" /><rect fill=\"white\" height=\"80%\" stroke=\"black\" width=\"1%\" x=\"22.5%\" y=\"15.0%\" /><rect fill=\"white\" height=\"80%\" stroke=\"black\" width=\"1%\" x=\"40.5%\" y=\"15.0%\" /><rect fill=\"white\" height=\"80%\" stroke=\"black\" width=\"1%\" x=\"58.5%\" y=\"15.0%\" /><rect fill=\"white\" height=\"80%\" stroke=\"black\" width=\"1%\" x=\"76.5%\" y=\"15.0%\" /><rect fill=\"white\" height=\"4%\" stroke=\"black\" width=\"4.854%\" x=\"20.573%\" y=\"91.0%\" /><rect fill=\"white\" height=\"4%\" stroke=\"black\" width=\"1.618%\" x=\"40.191%\" y=\"91.0%\" /><rect fill=\"white\" height=\"4%\" stroke=\"black\" width=\"3.236%\" x=\"57.382%\" y=\"91.0%\" /><rect fill=\"white\" height=\"4%\" stroke=\"black\" width=\"8.09%\" x=\"72.955%\" y=\"91.0%\" /><rect fill=\"white\" height=\"4%\" stroke=\"black\" width=\"6.472%\" x=\"73.764%\" y=\"87.0%\" /></svg>"
      ],
      "text/plain": [
       "<planning.planning.State at 0x7f6af8440128>"
      ]
     },
     "metadata": {},
     "output_type": "display_data"
    },
    {
     "name": "stdout",
     "output_type": "stream",
     "text": [
      "step 11\n"
     ]
    },
    {
     "data": {
      "image/svg+xml": [
       "<svg baseProfile=\"full\" height=\"200\" version=\"1.1\" width=\"500\" xmlns=\"http://www.w3.org/2000/svg\" xmlns:ev=\"http://www.w3.org/2001/xml-events\" xmlns:xlink=\"http://www.w3.org/1999/xlink\"><defs /><line stroke=\"black\" x1=\"5%\" x2=\"95%\" y1=\"95%\" y2=\"95%\" /><rect fill=\"white\" height=\"80%\" stroke=\"black\" width=\"1%\" x=\"22.5%\" y=\"15.0%\" /><rect fill=\"white\" height=\"80%\" stroke=\"black\" width=\"1%\" x=\"40.5%\" y=\"15.0%\" /><rect fill=\"white\" height=\"80%\" stroke=\"black\" width=\"1%\" x=\"58.5%\" y=\"15.0%\" /><rect fill=\"white\" height=\"80%\" stroke=\"black\" width=\"1%\" x=\"76.5%\" y=\"15.0%\" /><rect fill=\"white\" height=\"4%\" stroke=\"black\" width=\"1.618%\" x=\"40.191%\" y=\"91.0%\" /><rect fill=\"white\" height=\"4%\" stroke=\"black\" width=\"3.236%\" x=\"57.382%\" y=\"91.0%\" /><rect fill=\"white\" height=\"4%\" stroke=\"black\" width=\"8.09%\" x=\"72.955%\" y=\"91.0%\" /><rect fill=\"white\" height=\"4%\" stroke=\"black\" width=\"6.472%\" x=\"73.764%\" y=\"87.0%\" /><rect fill=\"white\" height=\"4%\" stroke=\"black\" width=\"4.854%\" x=\"74.573%\" y=\"83.0%\" /></svg>"
      ],
      "text/plain": [
       "<planning.planning.State at 0x7f6af83cfe48>"
      ]
     },
     "metadata": {},
     "output_type": "display_data"
    },
    {
     "name": "stdout",
     "output_type": "stream",
     "text": [
      "step 12\n"
     ]
    },
    {
     "data": {
      "image/svg+xml": [
       "<svg baseProfile=\"full\" height=\"200\" version=\"1.1\" width=\"500\" xmlns=\"http://www.w3.org/2000/svg\" xmlns:ev=\"http://www.w3.org/2001/xml-events\" xmlns:xlink=\"http://www.w3.org/1999/xlink\"><defs /><line stroke=\"black\" x1=\"5%\" x2=\"95%\" y1=\"95%\" y2=\"95%\" /><rect fill=\"white\" height=\"80%\" stroke=\"black\" width=\"1%\" x=\"22.5%\" y=\"15.0%\" /><rect fill=\"white\" height=\"80%\" stroke=\"black\" width=\"1%\" x=\"40.5%\" y=\"15.0%\" /><rect fill=\"white\" height=\"80%\" stroke=\"black\" width=\"1%\" x=\"58.5%\" y=\"15.0%\" /><rect fill=\"white\" height=\"80%\" stroke=\"black\" width=\"1%\" x=\"76.5%\" y=\"15.0%\" /><rect fill=\"white\" height=\"4%\" stroke=\"black\" width=\"1.618%\" x=\"40.191%\" y=\"91.0%\" /><rect fill=\"white\" height=\"4%\" stroke=\"black\" width=\"8.09%\" x=\"72.955%\" y=\"91.0%\" /><rect fill=\"white\" height=\"4%\" stroke=\"black\" width=\"6.472%\" x=\"73.764%\" y=\"87.0%\" /><rect fill=\"white\" height=\"4%\" stroke=\"black\" width=\"4.854%\" x=\"74.573%\" y=\"83.0%\" /><rect fill=\"white\" height=\"4%\" stroke=\"black\" width=\"3.236%\" x=\"75.382%\" y=\"79.0%\" /></svg>"
      ],
      "text/plain": [
       "<planning.planning.State at 0x7f6af83d41d0>"
      ]
     },
     "metadata": {},
     "output_type": "display_data"
    },
    {
     "name": "stdout",
     "output_type": "stream",
     "text": [
      "step 13\n"
     ]
    },
    {
     "data": {
      "image/svg+xml": [
       "<svg baseProfile=\"full\" height=\"200\" version=\"1.1\" width=\"500\" xmlns=\"http://www.w3.org/2000/svg\" xmlns:ev=\"http://www.w3.org/2001/xml-events\" xmlns:xlink=\"http://www.w3.org/1999/xlink\"><defs /><line stroke=\"black\" x1=\"5%\" x2=\"95%\" y1=\"95%\" y2=\"95%\" /><rect fill=\"white\" height=\"80%\" stroke=\"black\" width=\"1%\" x=\"22.5%\" y=\"15.0%\" /><rect fill=\"white\" height=\"80%\" stroke=\"black\" width=\"1%\" x=\"40.5%\" y=\"15.0%\" /><rect fill=\"white\" height=\"80%\" stroke=\"black\" width=\"1%\" x=\"58.5%\" y=\"15.0%\" /><rect fill=\"white\" height=\"80%\" stroke=\"black\" width=\"1%\" x=\"76.5%\" y=\"15.0%\" /><rect fill=\"white\" height=\"4%\" stroke=\"black\" width=\"8.09%\" x=\"72.955%\" y=\"91.0%\" /><rect fill=\"white\" height=\"4%\" stroke=\"black\" width=\"6.472%\" x=\"73.764%\" y=\"87.0%\" /><rect fill=\"white\" height=\"4%\" stroke=\"black\" width=\"4.854%\" x=\"74.573%\" y=\"83.0%\" /><rect fill=\"white\" height=\"4%\" stroke=\"black\" width=\"3.236%\" x=\"75.382%\" y=\"79.0%\" /><rect fill=\"white\" height=\"4%\" stroke=\"black\" width=\"1.618%\" x=\"76.191%\" y=\"75.0%\" /></svg>"
      ],
      "text/plain": [
       "<planning.planning.State at 0x7f6af83cfdd8>"
      ]
     },
     "metadata": {},
     "output_type": "display_data"
    }
   ],
   "source": [
    "bfs = planning.BreadthFirstSearch(problem, verbose=1, timeout=30.0, node_bound=None)\n",
    "status = bfs()\n",
    "if status == planning.search.FOUND:\n",
    "    plan = bfs.plan()\n",
    "    state_sequence = bfs.state_sequence()\n",
    "    print(\"#Generated nodes: \" + str(bfs.info()[\"generated\"]))\n",
    "    if True: #len(plan) < 10:\n",
    "        print(\"Plan:\\n  \" + \"\\n  \".join([str(op) for op in bfs.plan()]))\n",
    "        for i, state in enumerate(bfs.state_sequence()):\n",
    "            print(\"step \" + str(i))\n",
    "            display(state)"
   ]
  },
  {
   "cell_type": "markdown",
   "metadata": {},
   "source": [
    "Let us apply IDS now:"
   ]
  },
  {
   "cell_type": "code",
   "execution_count": 16,
   "metadata": {
    "scrolled": false
   },
   "outputs": [
    {
     "name": "stdout",
     "output_type": "stream",
     "text": [
      "[0.001s] Trying depth 1...\n",
      "[0.001s] Trying depth 2...\n",
      "[0.002s] Trying depth 3...\n",
      "[0.005s] Trying depth 4...\n",
      "[0.019s] Trying depth 5...\n",
      "[0.067s] Trying depth 6...\n",
      "[0.256s] Trying depth 7...\n",
      "[1.046s] Trying depth 8...\n",
      "[4.379s] Trying depth 9...\n",
      "[18.942s] Trying depth 10...\n",
      "[30.004s] Timeout\n",
      "[30.004s] Could not find solution\n"
     ]
    }
   ],
   "source": [
    "ids = planning.IterativeDeepeningSearch(problem, verbose=1, timeout=30.0)\n",
    "status = ids()\n",
    "if status == planning.search.FOUND:\n",
    "    plan = ids.plan()\n",
    "    state_sequence = ids.state_sequence()\n",
    "    if len(plan) < 10:\n",
    "        print(\"Plan:\\n  \" + \"\\n  \".join([str(op) for op in ids.plan()]))\n",
    "        for i, state in enumerate(ids.state_sequence()):\n",
    "            print(\"step \" + str(i))\n",
    "            display(state)"
   ]
  },
  {
   "cell_type": "markdown",
   "metadata": {},
   "source": [
    "Now, let us apply heuristic search. We have implemented a generic Best First Search algorithm that accepts any heuristic and uses it to guide the search. We have implemented the following heuristics:\n",
    "- Goal counting heuristic\n",
    "- Relaxed goal counting heuristic\n",
    "- Novelty-based heuristics\n",
    "- Additive heuristic ($ h_{add} $)\n",
    "- Relaxed planning graph heuristic (equivalent to $ h_{max} $)\n",
    "\n",
    "We can combine these heuristics to achieve certain behaviour. For instance, we can use a linear combination of the accumulated cost and the novelty or additive heuristic to get the $\\epsilon-A*$ (epsilon A-star) behaviour. The improvement with respect to the blind search is evident:"
   ]
  },
  {
   "cell_type": "code",
   "execution_count": 24,
   "metadata": {
    "scrolled": false
   },
   "outputs": [
    {
     "name": "stdout",
     "output_type": "stream",
     "text": [
      "[0.081s] Plan found with 13 action(s)\n",
      "#Generated nodes: 82\n"
     ]
    }
   ],
   "source": [
    "g = planning.heuristics.AccumulatedCost()\n",
    "hadd = planning.heuristics.AdditiveHeuristic()\n",
    "rpg = planning.heuristics.RelaxedPlanningGraphHeuristic()\n",
    "hlinear = planning.heuristics.LinearCombination([g, hadd], (1, 5)) # 5 A-star with additive heuristic\n",
    "h = planning.heuristics.ConcatenateHeuristic([hlinear, hadd])\n",
    "\n",
    "bfs = planning.BestFirstSearch(problem, verbose=1, timeout=300.0, node_bound=20000,\n",
    "                               heuristic=h, close_forever=False)\n",
    "bfs()\n",
    "plan = bfs.plan()\n",
    "state_sequence = bfs.state_sequence()\n",
    "print(\"#Generated nodes: \" + str(bfs.info()[\"generated\"]))\n",
    "if len(plan) < 10:\n",
    "    print(\"Plan:\\n  \" + \"\\n  \".join([str(op) for op in bfs.plan()]))\n",
    "    for i, state in enumerate(bfs.state_sequence()):\n",
    "        print(\"step \" + str(i))\n",
    "        display(state)"
   ]
  },
  {
   "cell_type": "code",
   "execution_count": 108,
   "metadata": {},
   "outputs": [
    {
     "name": "stderr",
     "output_type": "stream",
     "text": [
      "Widget Javascript not detected.  It may not be installed or enabled properly.\n"
     ]
    },
    {
     "data": {
      "application/vnd.jupyter.widget-view+json": {
       "model_id": "414fe7b9d8174cc69604df8e3bab19ee"
      }
     },
     "metadata": {},
     "output_type": "display_data"
    },
    {
     "name": "stdout",
     "output_type": "stream",
     "text": [
      "\n"
     ]
    }
   ],
   "source": [
    "import random\n",
    "import tqdm\n",
    "import matplotlib.pyplot as plt\n",
    "%matplotlib inline\n",
    "\n",
    "random.seed(42)\n",
    "\n",
    "h0_3 = []\n",
    "h1_3 = []\n",
    "h2_3 = []\n",
    "h3_3 = []\n",
    "\n",
    "N = 1000\n",
    "\n",
    "generated = set()\n",
    "\n",
    "for _ in tqdm.tqdm_notebook(range(N)):\n",
    "    while True:\n",
    "        n = random.randint(3, 7)\n",
    "#         m = random.randint(3, 4)\n",
    "        problem = domain.generate_problem(n, 3, random=True)\n",
    "        if not problem.trivial() and (problem.init(), problem.goal()) not in generated:\n",
    "            generated.add((problem.init(), problem.goal()))\n",
    "            break\n",
    "    bfs = planning.BreadthFirstSearch(problem, verbose=0, timeout=5.0, node_bound=None)\n",
    "    status = bfs()\n",
    "    if status == planning.search.FOUND:\n",
    "        h0_3.append(len(bfs.plan()))\n",
    "        h1_3.append(hadd.h(problem.init(), problem.goal()))\n",
    "        h2_3.append(rpg.h(problem.init(), problem.goal()))\n",
    "        h3_3.append(len(problem.goal().difference(problem.init())))\n"
   ]
  },
  {
   "cell_type": "code",
   "execution_count": 109,
   "metadata": {},
   "outputs": [
    {
     "name": "stdout",
     "output_type": "stream",
     "text": [
      "1000\n",
      "1000\n"
     ]
    },
    {
     "data": {
      "image/png": "[encoded data removed]",
      "text/plain": [
       "<matplotlib.figure.Figure at 0x7f6ab304db00>"
      ]
     },
     "metadata": {},
     "output_type": "display_data"
    },
    {
     "data": {
      "image/png": "[encoded data removed]",
      "text/plain": [
       "<matplotlib.figure.Figure at 0x7f6aab632ba8>"
      ]
     },
     "metadata": {},
     "output_type": "display_data"
    },
    {
     "data": {
      "image/png": "[encoded data removed]",
      "text/plain": [
       "<matplotlib.figure.Figure at 0x7f6ab0e3c048>"
      ]
     },
     "metadata": {},
     "output_type": "display_data"
    },
    {
     "data": {
      "image/png": "[encoded data removed]",
      "text/plain": [
       "<matplotlib.figure.Figure at 0x7f6ab0d68ba8>"
      ]
     },
     "metadata": {},
     "output_type": "display_data"
    }
   ],
   "source": [
    "print(len(h0_3))\n",
    "print(len(generated))\n",
    "\n",
    "plt.scatter(h2_3, h1_3)\n",
    "plt.grid(\"on\")\n",
    "plt.show()\n",
    "\n",
    "plt.scatter(h0_3, h1_3)\n",
    "plt.grid(\"on\")\n",
    "plt.show()\n",
    "\n",
    "plt.scatter(h0_3, h2_3)\n",
    "plt.grid(\"on\")\n",
    "plt.show()\n",
    "\n",
    "plt.scatter(h0_3, h3_3)\n",
    "plt.grid(\"on\")\n",
    "plt.show()"
   ]
  },
  {
   "cell_type": "code",
   "execution_count": 110,
   "metadata": {},
   "outputs": [
    {
     "name": "stderr",
     "output_type": "stream",
     "text": [
      "Widget Javascript not detected.  It may not be installed or enabled properly.\n"
     ]
    },
    {
     "data": {
      "application/vnd.jupyter.widget-view+json": {
       "model_id": "0af5a3361ee742a8aaed477cc6a97f67"
      }
     },
     "metadata": {},
     "output_type": "display_data"
    },
    {
     "name": "stdout",
     "output_type": "stream",
     "text": [
      "\n"
     ]
    },
    {
     "name": "stderr",
     "output_type": "stream",
     "text": [
      "Widget Javascript not detected.  It may not be installed or enabled properly.\n"
     ]
    },
    {
     "data": {
      "application/vnd.jupyter.widget-view+json": {
       "model_id": "c88f7fa125c146fba03f906462183c92"
      }
     },
     "metadata": {},
     "output_type": "display_data"
    },
    {
     "name": "stdout",
     "output_type": "stream",
     "text": [
      "\n",
      "0.671330366594\n",
      "4.265\n",
      "2.16\n",
      "0.0687\n",
      "0.05865\n"
     ]
    }
   ],
   "source": [
    "# Good for approximating the optimal heuristic... not so good for ranking\n",
    "\n",
    "import numpy as np\n",
    "from scipy.spatial import KDTree\n",
    "\n",
    "X = np.array(list(zip(h1_3, h2_3, h3_3)))\n",
    "y = np.array(h0_3)\n",
    "\n",
    "n = X.shape[0]\n",
    "\n",
    "p_split = 0.8\n",
    "\n",
    "X_train = X[:int(p_split*n),:]\n",
    "y_train = y[:int(p_split*n)]\n",
    "\n",
    "X_test = X[int(p_split*n):,:]\n",
    "y_test = y[int(p_split*n):]\n",
    "\n",
    "n_test = X_test.shape[0]\n",
    "\n",
    "xy_map = {}\n",
    "for x, y in zip(X_train, y_train):\n",
    "    try:\n",
    "        xy_map[tuple(x)].append(y)\n",
    "    except KeyError:\n",
    "        xy_map[tuple(x)] = [y]\n",
    "        \n",
    "tree = KDTree(X_train)\n",
    "\n",
    "error_abs_1 = 0\n",
    "error_abs_2 = 0\n",
    "error_abs_3 = 0\n",
    "\n",
    "y_guess = []\n",
    "\n",
    "for x,y in zip(X_test, y_test):\n",
    "    _, nearest_i = tree.query(x)\n",
    "    nearest = tuple(tree.data[nearest_i,:])\n",
    "    guess = np.mean(xy_map[nearest])\n",
    "    y_guess.append(guess)\n",
    "#     print(\"{}, {}, {}\".format(x,y,guess))\n",
    "    error_abs_1 += abs(y-guess)\n",
    "    error_abs_2 += abs(y-x[0])\n",
    "    error_abs_3 += abs(y-x[1])\n",
    "error_abs_1 /= X_test.shape[0]\n",
    "error_abs_2 /= X_test.shape[0]\n",
    "error_abs_3 /= X_test.shape[0]\n",
    "\n",
    "ranking_errors_1 = 0\n",
    "\n",
    "for diff1, diff2 in tqdm.tqdm_notebook([(y1-y1_, y2-y2_) for y1,y2 in zip(y_test, y_guess)\n",
    "                                                         for y1_,y2_ in zip(y_test, y_guess)]):\n",
    "    if diff1*diff2 < 0:\n",
    "        ranking_errors_1 += 1\n",
    "            \n",
    "ranking_errors_2 = 0\n",
    "\n",
    "for diff1, diff2 in tqdm.tqdm_notebook([(x[0]-x_[0], y-y_) for x,y in zip(X_test, y_test)\n",
    "                                                           for x_,y_ in zip(X_test, y_test)]):\n",
    "    if diff1*diff2 < 0:\n",
    "        ranking_errors_2 += 1\n",
    "\n",
    "print(error_abs_1)\n",
    "print(error_abs_2)\n",
    "print(error_abs_3)\n",
    "              \n",
    "print(ranking_errors_1/(n_test*n_test))\n",
    "print(ranking_errors_2/(n_test*n_test))"
   ]
  },
  {
   "cell_type": "code",
   "execution_count": 111,
   "metadata": {
    "scrolled": false
   },
   "outputs": [
    {
     "name": "stderr",
     "output_type": "stream",
     "text": [
      "Widget Javascript not detected.  It may not be installed or enabled properly.\n"
     ]
    },
    {
     "data": {
      "application/vnd.jupyter.widget-view+json": {
       "model_id": "f993fa0b86fb484584ef1c042d5008ed"
      }
     },
     "metadata": {},
     "output_type": "display_data"
    },
    {
     "name": "stdout",
     "output_type": "stream",
     "text": [
      "\n"
     ]
    },
    {
     "name": "stderr",
     "output_type": "stream",
     "text": [
      "Widget Javascript not detected.  It may not be installed or enabled properly.\n"
     ]
    },
    {
     "data": {
      "application/vnd.jupyter.widget-view+json": {
       "model_id": "b56d93ee37934a99a4ab91c4ac0962b5"
      }
     },
     "metadata": {},
     "output_type": "display_data"
    },
    {
     "name": "stdout",
     "output_type": "stream",
     "text": [
      "\n",
      "0.140925\n",
      "0.1448\n",
      "0.1994\n"
     ]
    }
   ],
   "source": [
    "# Better, but still not impressive\n",
    "\n",
    "import numpy as np\n",
    "from scipy.spatial import KDTree\n",
    "\n",
    "X = np.array(list(zip(h1_3, h2_3, h3_3)))\n",
    "y = np.array(h0_3)\n",
    "\n",
    "n = X.shape[0]\n",
    "\n",
    "p_split = 0.8\n",
    "\n",
    "X_train = X[:int(p_split*n),:]\n",
    "y_train = y[:int(p_split*n)]\n",
    "\n",
    "n_train = X_train.shape[0]\n",
    "\n",
    "X_test = X[int(p_split*n):,:]\n",
    "y_test = y[int(p_split*n):]\n",
    "\n",
    "n_test = X_test.shape[0]\n",
    "\n",
    "xy_map = {}\n",
    "\n",
    "Pairs_train = set()\n",
    "\n",
    "for i, j in tqdm.tqdm_notebook([(i,j) for i in range(n_train) for j in range(n_train)]):\n",
    "#     x1, y1 = tuple(X_train[i,:]), y_train[i]\n",
    "#     x2, y2 = tuple(X_train[j,:]), y_train[j]\n",
    "#     Pairs_train.add(x1+x2)\n",
    "#     try:\n",
    "#         xy_map[x1+x2].append(y1 <= y2)\n",
    "#     except KeyError:\n",
    "#         xy_map[x1+x2] = [y1 <= y2]\n",
    "    x1, y1 = X_train[i,:], y_train[i]\n",
    "    x2, y2 = X_train[j,:], y_train[j]\n",
    "    x = tuple(x1-x2)\n",
    "    Pairs_train.add(x)\n",
    "    try:\n",
    "        xy_map[x].append(y1 <= y2)\n",
    "    except KeyError:\n",
    "        xy_map[x] = [y1 <= y2]\n",
    "        \n",
    "Pairs_train = np.array(list(Pairs_train))\n",
    "mean = np.mean(Pairs_train, 0)\n",
    "std = np.std(Pairs_train, 0)\n",
    "Pairs_train = (Pairs_train - mean)/std\n",
    "\n",
    "weights = [2, 1.5, 0.5]\n",
    "Pairs_train *= weights\n",
    "        \n",
    "tree = KDTree(Pairs_train)\n",
    "\n",
    "error_abs_1 = 0\n",
    "error_abs_2 = 0\n",
    "error_abs_3 = 0\n",
    "\n",
    "y_guess = []\n",
    "\n",
    "ranking_errors_1 = 0\n",
    "ranking_errors_2 = 0\n",
    "ranking_errors_3 = 0\n",
    "\n",
    "for i, j in tqdm.tqdm_notebook([(i,j) for i in range(n_test) for j in range(n_test)]):\n",
    "    x1, y1 = X_test[i,:], y_test[i]\n",
    "    x2, y2 = X_test[j,:], y_test[j]\n",
    "#     x = np.r_[x1,x2]\n",
    "    x = ((x1 - x2) - mean)/std*weights\n",
    "    k = 5\n",
    "    _, nearest_i = tree.query(x, k=k)\n",
    "    if k > 1:\n",
    "        guesses = []\n",
    "        for n in nearest_i:\n",
    "            nearest = np.round(tree.data[n,:]/weights*std + mean)\n",
    "            nearest = tuple(nearest)\n",
    "            guesses += xy_map[nearest]\n",
    "    else:\n",
    "        guesses = xy_map[tuple(tree.data[nearest_i,:])]\n",
    "    guess = np.sum(guesses)/len(guesses) >= 0.5\n",
    "    if (y1 <= y2) ^ guess:\n",
    "        ranking_errors_1 += 1\n",
    "    if (y1 <= y2) ^ (x1[0] <= x2[0]):\n",
    "        ranking_errors_2 += 1\n",
    "    if (y1 <= y2) ^ (x1[1] <= x2[1]):\n",
    "        ranking_errors_3 += 1\n",
    "        \n",
    "print(ranking_errors_1/(n_test*n_test))\n",
    "print(ranking_errors_2/(n_test*n_test))\n",
    "print(ranking_errors_3/(n_test*n_test))"
   ]
  },
  {
   "cell_type": "code",
   "execution_count": 201,
   "metadata": {},
   "outputs": [
    {
     "data": {
      "application/vnd.jupyter.widget-view+json": {
       "model_id": "ce6dc3cfbf7f4a26a9d76014c05f72d8"
      }
     },
     "metadata": {},
     "output_type": "display_data"
    },
    {
     "name": "stdout",
     "output_type": "stream",
     "text": [
      "\n"
     ]
    }
   ],
   "source": [
    "import random\n",
    "import tqdm\n",
    "import matplotlib.pyplot as plt\n",
    "from itertools import product\n",
    "%matplotlib inline\n",
    "\n",
    "random.seed(42)\n",
    "\n",
    "N = 400\n",
    "\n",
    "X = []\n",
    "y = []\n",
    "\n",
    "generated = set()\n",
    "\n",
    "def count_goals(state, goal):\n",
    "    return len(goal.difference(state))\n",
    "\n",
    "def cmp_ints(i1, i2):\n",
    "    if i1 < i2:\n",
    "        return 0\n",
    "    elif i1 == i2:\n",
    "        return 1\n",
    "    else:\n",
    "        return 2\n",
    "\n",
    "heuristics = [hadd.h, rpg.h, count_goals]\n",
    "\n",
    "for _ in tqdm.tqdm_notebook(range(N)):\n",
    "    while True:\n",
    "        n = random.randint(3, 7)\n",
    "#         m = random.randint(3, 4)\n",
    "        problem = domain.generate_problem(n, 3, random=True)\n",
    "        if not problem.trivial() and (problem.init(), problem.goal()) not in generated:\n",
    "            generated.add((problem.init(), problem.goal()))\n",
    "            break\n",
    "    init = problem.init()\n",
    "    goal = problem.goal()\n",
    "    successors = [init.apply(op) for op in problem.operators() if init.can_apply(op)]\n",
    "    plan_len = []\n",
    "    for s in successors:\n",
    "        problem._init = s\n",
    "        bfs = planning.BreadthFirstSearch(problem, verbose=0)\n",
    "        bfs()\n",
    "        plan_len.append(len(bfs.plan()))\n",
    "    h_parent = [h(init, goal) for h in heuristics]\n",
    "    h_children_rel = [[h(s,goal)-hp for h,hp in zip(heuristics,h_parent)] for s in successors]\n",
    "#     min_plan_len = min(plan_len)\n",
    "    for i, j in product(range(len(successors)), range(len(successors))):\n",
    "        if i == j:\n",
    "            continue\n",
    "        X.append(h_children_rel[i] + h_children_rel[j])\n",
    "        y.append(cmp_ints(plan_len[i], plan_len[j]))\n",
    "#     print(plan_len)\n",
    "#     print(h_parent)\n",
    "#     print(h_children_rel)\n",
    "#     print(\"----\")\n",
    "\n",
    "X = np.array(X)\n",
    "y = np.array(y)"
   ]
  },
  {
   "cell_type": "code",
   "execution_count": 273,
   "metadata": {
    "scrolled": true
   },
   "outputs": [
    {
     "data": {
      "application/vnd.jupyter.widget-view+json": {
       "model_id": "e130539e433d442f85790b00116e4d4c"
      }
     },
     "metadata": {},
     "output_type": "display_data"
    },
    {
     "name": "stdout",
     "output_type": "stream",
     "text": [
      "\n"
     ]
    },
    {
     "data": {
      "application/vnd.jupyter.widget-view+json": {
       "model_id": "5e30b11f65a14043837ab5b686a05d5f"
      }
     },
     "metadata": {},
     "output_type": "display_data"
    },
    {
     "name": "stdout",
     "output_type": "stream",
     "text": [
      "\n",
      "[[ 114.   23.   50.]\n",
      " [  36.   30.   28.]\n",
      " [  70.   32.   87.]]\n",
      "[[ 87.  31.  69.]\n",
      " [ 40.  14.  40.]\n",
      " [ 69.  31.  89.]]\n",
      "[[  57.  108.   22.]\n",
      " [  19.   56.   19.]\n",
      " [  23.  109.   57.]]\n",
      "[[ 68.  46.  73.]\n",
      " [ 39.  16.  39.]\n",
      " [ 74.  47.  68.]]\n",
      "Severe mistakes: 37.23%\n",
      "Severe mistakes 1: 42.55%\n",
      "Severe mistakes 2: 55.74%\n",
      "Severe mistakes 3: 51.06%\n"
     ]
    }
   ],
   "source": [
    "def dict_count(l, d=None, inc=1):\n",
    "    d = d or {}\n",
    "    for v in l:\n",
    "        try:\n",
    "            d[v] += inc\n",
    "        except KeyError:\n",
    "            d[v] = inc\n",
    "    return d\n",
    "\n",
    "def severe_mistakes(confusion):\n",
    "    mistakes = confusion[0,1] + confusion[0,2] + confusion[2,0] + confusion[2,1]\n",
    "    return 100.0*(mistakes/np.sum(confusion))\n",
    "\n",
    "n = X.shape[0]\n",
    "\n",
    "p_split = 0.8\n",
    "\n",
    "# weights = [2,1,1.5]*2\n",
    "\n",
    "# X_ = X*weights\n",
    "\n",
    "X_train = X[:int(p_split*n),:]\n",
    "y_train = y[:int(p_split*n)]\n",
    "\n",
    "n_train = X_train.shape[0]\n",
    "\n",
    "X_test = X[int(p_split*n):,:]\n",
    "y_test = y[int(p_split*n):]\n",
    "\n",
    "n_test = X_test.shape[0]\n",
    "\n",
    "xy_map = {}\n",
    "\n",
    "for x, y_ in tqdm.tqdm_notebook(zip(X_train, y_train)):\n",
    "    x = tuple(x)\n",
    "    try:\n",
    "        xy_map[x].append(y_)\n",
    "    except KeyError:\n",
    "        xy_map[x] = [y_]\n",
    "\n",
    "tree = KDTree(X_train)\n",
    "\n",
    "confusion = np.zeros((3,3))\n",
    "confusion1 = np.zeros((3,3))\n",
    "confusion2 = np.zeros((3,3))\n",
    "confusion3 = np.zeros((3,3))\n",
    "\n",
    "for x, y_ in tqdm.tqdm_notebook(zip(X_test, y_test)):\n",
    "    k = 1\n",
    "    _, nearest_i = tree.query(x, k=k)\n",
    "    if k > 1:\n",
    "        guesses = {}\n",
    "        for rel_d, i in enumerate(nearest_i):\n",
    "            nearest = tuple(tree.data[i,:])\n",
    "            guesses = dict_count(xy_map[nearest], guesses) #, inc=k-rel_d)\n",
    "    else:\n",
    "        nearest = tuple(tree.data[nearest_i,:])\n",
    "        guesses = dict_count(xy_map[nearest])\n",
    "    guess = max(guesses, key=guesses.get)\n",
    "    guess1 = cmp_ints(x[0], x[3])\n",
    "    guess2 = cmp_ints(x[1], x[4])\n",
    "    guess3 = cmp_ints(x[2], x[5])\n",
    "#     print(\"{}: {} ({})\".format(x, guess, y_))\n",
    "    confusion[y_, guess] +=1\n",
    "    confusion1[y_, guess1] += 1\n",
    "    confusion2[y_, guess2] += 1\n",
    "    confusion3[y_, guess3] += 1\n",
    "        \n",
    "print(confusion)\n",
    "print(confusion1)\n",
    "print(confusion2)\n",
    "print(confusion3)\n",
    "\n",
    "print(\"Severe mistakes: {:.02f}%\".format(severe_mistakes(confusion)))\n",
    "print(\"Severe mistakes 1: {:.02f}%\".format(severe_mistakes(confusion1)))\n",
    "print(\"Severe mistakes 2: {:.02f}%\".format(severe_mistakes(confusion2)))\n",
    "print(\"Severe mistakes 3: {:.02f}%\".format(severe_mistakes(confusion3)))\n",
    "\n",
    "# print(ranking_errors_2/n_test)\n",
    "# print(ranking_errors_3/n_test)\n",
    "# print(ranking_errors_4/n_test)"
   ]
  }
 ],
 "metadata": {
  "kernelspec": {
   "display_name": "Python 3",
   "language": "python",
   "name": "python3"
  },
  "language_info": {
   "codemirror_mode": {
    "name": "ipython",
    "version": 3
   },
   "file_extension": ".py",
   "mimetype": "text/x-python",
   "name": "python",
   "nbconvert_exporter": "python",
   "pygments_lexer": "ipython3",
   "version": "3.5.2"
  }
 },
 "nbformat": 4,
 "nbformat_minor": 2
}
