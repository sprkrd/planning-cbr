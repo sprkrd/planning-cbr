{
 "cells": [
  {
   "cell_type": "markdown",
   "metadata": {},
   "source": [
    "# Planning in Python\n",
    "\n",
    "Here we illustrate how to use our library to pose a simple Hanoi puzzle and solve it with our planning framework. We have implemented both blind search algorithms and informed (heuristic) search. This notebook gives a flavour of these techniques.\n",
    "\n",
    "## Simple example with 4 pegs\n",
    "\n",
    "We start importing the relevant modules:"
   ]
  },
  {
   "cell_type": "code",
   "execution_count": 1,
   "metadata": {
    "collapsed": true
   },
   "outputs": [],
   "source": [
    "import planning\n",
    "\n",
    "from IPython.display import display"
   ]
  },
  {
   "cell_type": "markdown",
   "metadata": {},
   "source": [
    "Now let us pose a simple problem with 4 pegs and 5 disks. The domain is already defined and it contains a single operator: `move(?what-disk, ?from-object, ?to-object)`, which moves disk `?what` from object `?from` (either a peg or another disk) to object `?to` (also, either a peg or a disk). Our planning framework can take care of static preconditions. That is, it does not instantiate the move operator for moving a disk onto a smaller disk) so it is not necessary to encode static predicates in the state (the `smaller(?disk1,?disk2)` predicates that are typically seen in PDDL Hanoi domains).\n",
    "\n",
    "We have also implemented a problem generator. The generator can create problems for any number of disks and pegs. It also allows random initial and ending configurations. Our first example will be fairly simple and will have 3 pegs, all the disks in the first peg in the initial state and all the disks in the third peg in the goal configuration. Although the goal in this case details the position of every disk, notice that this does not necessarily has to be the case always. The goal does not need to be a complete description of the end configuration. It is perfectly reasonable, and our framework allows it, to consider partial states (e.g. we want the biggest disk in the third peg, and we do not care about the rest)."
   ]
  },
  {
   "cell_type": "code",
   "execution_count": 2,
   "metadata": {
    "scrolled": false
   },
   "outputs": [
    {
     "name": "stdout",
     "output_type": "stream",
     "text": [
      "Domain: Hanoi\n",
      "Types: {'disk': 'object', 'peg': 'object'}\n",
      "Operators:\n",
      "  - move(?what-disk,?from-object,?to-object):\n",
      "    Pre: clear(?what), clear(?to), on(?what,?from)\n",
      "    Add: clear(?from), on(?what,?to)\n",
      "    Delete: clear(?to), on(?what,?from)\n",
      "Problem: hanoi-00\n",
      "Domain: Hanoi\n",
      "Initial state:\n",
      "  clear(disk01)\n",
      "  clear(peg2)\n",
      "  clear(peg3)\n",
      "  clear(peg4)\n",
      "  on(disk01,disk02)\n",
      "  on(disk02,disk03)\n",
      "  on(disk03,disk04)\n",
      "  on(disk04,disk05)\n",
      "  on(disk05,peg1)\n",
      "Goal:\n",
      "  clear(disk01)\n",
      "  clear(peg1)\n",
      "  clear(peg2)\n",
      "  clear(peg3)\n",
      "  on(disk01,disk02)\n",
      "  on(disk02,disk03)\n",
      "  on(disk03,disk04)\n",
      "  on(disk04,disk05)\n",
      "  on(disk05,peg4)\n",
      "Ground operators:\n",
      "  move(disk01,peg1,peg2)\n",
      "  move(disk01,peg1,peg3)\n",
      "  move(disk01,peg1,peg4)\n",
      "  move(disk01,peg1,disk02)\n",
      "  move(disk01,peg1,disk03)\n",
      "  move(disk01,peg1,disk04)\n",
      "  move(disk01,peg1,disk05)\n",
      "  move(disk01,peg2,peg1)\n",
      "  move(disk01,peg2,peg3)\n",
      "  move(disk01,peg2,peg4)\n",
      "  move(disk01,peg2,disk02)\n",
      "  move(disk01,peg2,disk03)\n",
      "  move(disk01,peg2,disk04)\n",
      "  move(disk01,peg2,disk05)\n",
      "  move(disk01,peg3,peg1)\n",
      "  move(disk01,peg3,peg2)\n",
      "  move(disk01,peg3,peg4)\n",
      "  move(disk01,peg3,disk02)\n",
      "  move(disk01,peg3,disk03)\n",
      "  move(disk01,peg3,disk04)\n",
      "  move(disk01,peg3,disk05)\n",
      "  move(disk01,peg4,peg1)\n",
      "  move(disk01,peg4,peg2)\n",
      "  move(disk01,peg4,peg3)\n",
      "  move(disk01,peg4,disk02)\n",
      "  move(disk01,peg4,disk03)\n",
      "  move(disk01,peg4,disk04)\n",
      "  move(disk01,peg4,disk05)\n",
      "  move(disk01,disk02,peg1)\n",
      "  move(disk01,disk02,peg2)\n",
      "  move(disk01,disk02,peg3)\n",
      "  move(disk01,disk02,peg4)\n",
      "  move(disk01,disk02,disk03)\n",
      "  move(disk01,disk02,disk04)\n",
      "  move(disk01,disk02,disk05)\n",
      "  move(disk01,disk03,peg1)\n",
      "  move(disk01,disk03,peg2)\n",
      "  move(disk01,disk03,peg3)\n",
      "  move(disk01,disk03,peg4)\n",
      "  move(disk01,disk03,disk02)\n",
      "  move(disk01,disk03,disk04)\n",
      "  move(disk01,disk03,disk05)\n",
      "  move(disk01,disk04,peg1)\n",
      "  move(disk01,disk04,peg2)\n",
      "  move(disk01,disk04,peg3)\n",
      "  move(disk01,disk04,peg4)\n",
      "  move(disk01,disk04,disk02)\n",
      "  move(disk01,disk04,disk03)\n",
      "  move(disk01,disk04,disk05)\n",
      "  move(disk01,disk05,peg1)\n",
      "  move(disk01,disk05,peg2)\n",
      "  move(disk01,disk05,peg3)\n",
      "  move(disk01,disk05,peg4)\n",
      "  move(disk01,disk05,disk02)\n",
      "  move(disk01,disk05,disk03)\n",
      "  move(disk01,disk05,disk04)\n",
      "  move(disk02,peg1,peg2)\n",
      "  move(disk02,peg1,peg3)\n",
      "  move(disk02,peg1,peg4)\n",
      "  move(disk02,peg1,disk03)\n",
      "  move(disk02,peg1,disk04)\n",
      "  move(disk02,peg1,disk05)\n",
      "  move(disk02,peg2,peg1)\n",
      "  move(disk02,peg2,peg3)\n",
      "  move(disk02,peg2,peg4)\n",
      "  move(disk02,peg2,disk03)\n",
      "  move(disk02,peg2,disk04)\n",
      "  move(disk02,peg2,disk05)\n",
      "  move(disk02,peg3,peg1)\n",
      "  move(disk02,peg3,peg2)\n",
      "  move(disk02,peg3,peg4)\n",
      "  move(disk02,peg3,disk03)\n",
      "  move(disk02,peg3,disk04)\n",
      "  move(disk02,peg3,disk05)\n",
      "  move(disk02,peg4,peg1)\n",
      "  move(disk02,peg4,peg2)\n",
      "  move(disk02,peg4,peg3)\n",
      "  move(disk02,peg4,disk03)\n",
      "  move(disk02,peg4,disk04)\n",
      "  move(disk02,peg4,disk05)\n",
      "  move(disk02,disk03,peg1)\n",
      "  move(disk02,disk03,peg2)\n",
      "  move(disk02,disk03,peg3)\n",
      "  move(disk02,disk03,peg4)\n",
      "  move(disk02,disk03,disk04)\n",
      "  move(disk02,disk03,disk05)\n",
      "  move(disk02,disk04,peg1)\n",
      "  move(disk02,disk04,peg2)\n",
      "  move(disk02,disk04,peg3)\n",
      "  move(disk02,disk04,peg4)\n",
      "  move(disk02,disk04,disk03)\n",
      "  move(disk02,disk04,disk05)\n",
      "  move(disk02,disk05,peg1)\n",
      "  move(disk02,disk05,peg2)\n",
      "  move(disk02,disk05,peg3)\n",
      "  move(disk02,disk05,peg4)\n",
      "  move(disk02,disk05,disk03)\n",
      "  move(disk02,disk05,disk04)\n",
      "  move(disk03,peg1,peg2)\n",
      "  move(disk03,peg1,peg3)\n",
      "  move(disk03,peg1,peg4)\n",
      "  move(disk03,peg1,disk04)\n",
      "  move(disk03,peg1,disk05)\n",
      "  move(disk03,peg2,peg1)\n",
      "  move(disk03,peg2,peg3)\n",
      "  move(disk03,peg2,peg4)\n",
      "  move(disk03,peg2,disk04)\n",
      "  move(disk03,peg2,disk05)\n",
      "  move(disk03,peg3,peg1)\n",
      "  move(disk03,peg3,peg2)\n",
      "  move(disk03,peg3,peg4)\n",
      "  move(disk03,peg3,disk04)\n",
      "  move(disk03,peg3,disk05)\n",
      "  move(disk03,peg4,peg1)\n",
      "  move(disk03,peg4,peg2)\n",
      "  move(disk03,peg4,peg3)\n",
      "  move(disk03,peg4,disk04)\n",
      "  move(disk03,peg4,disk05)\n",
      "  move(disk03,disk04,peg1)\n",
      "  move(disk03,disk04,peg2)\n",
      "  move(disk03,disk04,peg3)\n",
      "  move(disk03,disk04,peg4)\n",
      "  move(disk03,disk04,disk05)\n",
      "  move(disk03,disk05,peg1)\n",
      "  move(disk03,disk05,peg2)\n",
      "  move(disk03,disk05,peg3)\n",
      "  move(disk03,disk05,peg4)\n",
      "  move(disk03,disk05,disk04)\n",
      "  move(disk04,peg1,peg2)\n",
      "  move(disk04,peg1,peg3)\n",
      "  move(disk04,peg1,peg4)\n",
      "  move(disk04,peg1,disk05)\n",
      "  move(disk04,peg2,peg1)\n",
      "  move(disk04,peg2,peg3)\n",
      "  move(disk04,peg2,peg4)\n",
      "  move(disk04,peg2,disk05)\n",
      "  move(disk04,peg3,peg1)\n",
      "  move(disk04,peg3,peg2)\n",
      "  move(disk04,peg3,peg4)\n",
      "  move(disk04,peg3,disk05)\n",
      "  move(disk04,peg4,peg1)\n",
      "  move(disk04,peg4,peg2)\n",
      "  move(disk04,peg4,peg3)\n",
      "  move(disk04,peg4,disk05)\n",
      "  move(disk04,disk05,peg1)\n",
      "  move(disk04,disk05,peg2)\n",
      "  move(disk04,disk05,peg3)\n",
      "  move(disk04,disk05,peg4)\n",
      "  move(disk05,peg1,peg2)\n",
      "  move(disk05,peg1,peg3)\n",
      "  move(disk05,peg1,peg4)\n",
      "  move(disk05,peg2,peg1)\n",
      "  move(disk05,peg2,peg3)\n",
      "  move(disk05,peg2,peg4)\n",
      "  move(disk05,peg3,peg1)\n",
      "  move(disk05,peg3,peg2)\n",
      "  move(disk05,peg3,peg4)\n",
      "  move(disk05,peg4,peg1)\n",
      "  move(disk05,peg4,peg2)\n",
      "  move(disk05,peg4,peg3)\n",
      "Init:\n"
     ]
    },
    {
     "data": {
      "image/svg+xml": [
       "<svg baseProfile=\"full\" height=\"200\" version=\"1.1\" width=\"500\" xmlns=\"http://www.w3.org/2000/svg\" xmlns:ev=\"http://www.w3.org/2001/xml-events\" xmlns:xlink=\"http://www.w3.org/1999/xlink\"><defs /><line stroke=\"black\" x1=\"5%\" x2=\"95%\" y1=\"95%\" y2=\"95%\" /><rect fill=\"white\" height=\"80%\" stroke=\"black\" width=\"1%\" x=\"22.5%\" y=\"15.0%\" /><rect fill=\"white\" height=\"80%\" stroke=\"black\" width=\"1%\" x=\"40.5%\" y=\"15.0%\" /><rect fill=\"white\" height=\"80%\" stroke=\"black\" width=\"1%\" x=\"58.5%\" y=\"15.0%\" /><rect fill=\"white\" height=\"80%\" stroke=\"black\" width=\"1%\" x=\"76.5%\" y=\"15.0%\" /><rect fill=\"white\" height=\"4%\" stroke=\"black\" width=\"8.09%\" x=\"18.955%\" y=\"91.0%\" /><rect fill=\"white\" height=\"4%\" stroke=\"black\" width=\"6.472%\" x=\"19.764%\" y=\"87.0%\" /><rect fill=\"white\" height=\"4%\" stroke=\"black\" width=\"4.854%\" x=\"20.573%\" y=\"83.0%\" /><rect fill=\"white\" height=\"4%\" stroke=\"black\" width=\"3.236%\" x=\"21.382%\" y=\"79.0%\" /><rect fill=\"white\" height=\"4%\" stroke=\"black\" width=\"1.618%\" x=\"22.191%\" y=\"75.0%\" /></svg>"
      ],
      "text/plain": [
       "<planning.planning.State at 0x7f334454afd0>"
      ]
     },
     "metadata": {},
     "output_type": "display_data"
    },
    {
     "name": "stdout",
     "output_type": "stream",
     "text": [
      "Goal:\n"
     ]
    },
    {
     "data": {
      "image/svg+xml": [
       "<svg baseProfile=\"full\" height=\"200\" version=\"1.1\" width=\"500\" xmlns=\"http://www.w3.org/2000/svg\" xmlns:ev=\"http://www.w3.org/2001/xml-events\" xmlns:xlink=\"http://www.w3.org/1999/xlink\"><defs /><line stroke=\"black\" x1=\"5%\" x2=\"95%\" y1=\"95%\" y2=\"95%\" /><rect fill=\"white\" height=\"80%\" stroke=\"black\" width=\"1%\" x=\"22.5%\" y=\"15.0%\" /><rect fill=\"white\" height=\"80%\" stroke=\"black\" width=\"1%\" x=\"40.5%\" y=\"15.0%\" /><rect fill=\"white\" height=\"80%\" stroke=\"black\" width=\"1%\" x=\"58.5%\" y=\"15.0%\" /><rect fill=\"white\" height=\"80%\" stroke=\"black\" width=\"1%\" x=\"76.5%\" y=\"15.0%\" /><rect fill=\"white\" height=\"4%\" stroke=\"black\" width=\"8.09%\" x=\"72.955%\" y=\"91.0%\" /><rect fill=\"white\" height=\"4%\" stroke=\"black\" width=\"6.472%\" x=\"73.764%\" y=\"87.0%\" /><rect fill=\"white\" height=\"4%\" stroke=\"black\" width=\"4.854%\" x=\"74.573%\" y=\"83.0%\" /><rect fill=\"white\" height=\"4%\" stroke=\"black\" width=\"3.236%\" x=\"75.382%\" y=\"79.0%\" /><rect fill=\"white\" height=\"4%\" stroke=\"black\" width=\"1.618%\" x=\"76.191%\" y=\"75.0%\" /></svg>"
      ],
      "text/plain": [
       "<planning.planning.State at 0x7f334454f048>"
      ]
     },
     "metadata": {},
     "output_type": "display_data"
    },
    {
     "name": "stdout",
     "output_type": "stream",
     "text": [
      "Applicable actions in 1st state:\n",
      "move(disk01,disk02,peg2)\n",
      "move(disk01,disk02,peg3)\n",
      "move(disk01,disk02,peg4)\n"
     ]
    }
   ],
   "source": [
    "domain = planning.domains[\"Hanoi\"]\n",
    "problem = domain.generate_problem(5, 4, random=False)\n",
    "print(domain)\n",
    "print(problem)\n",
    "print(\"Init:\")\n",
    "display(problem.init())\n",
    "print(\"Goal:\")\n",
    "display(problem.goal())\n",
    "print(\"Applicable actions in 1st state:\")\n",
    "print(\"\\n\".join(map(str, filter(problem.init().can_apply, problem.operators()))))"
   ]
  },
  {
   "cell_type": "markdown",
   "metadata": {},
   "source": [
    "Let us start applying blind search algorithms. Namely, we have implemented Breadth First Search (BFS) and Iterative Deepening Search (IDS). The algorithms have an exponential worst time complexity. More specifically, both have a time complexity of $ O(b^d) $ where $ b $ is the branching factor and $ d $ is the length of the plan. Moreover, BFS is very memory intensive, requiring also an exponential amount of memory. IDS sacrifices speed for memory efficiency: it has a linear memory usage, but requires more time than BFS to find a plan, namely, a constant factor times the time required by BFS which, of course, is hidden in the big O notation.\n",
    "\n",
    "Let us start with BFS:"
   ]
  },
  {
   "cell_type": "code",
   "execution_count": 3,
   "metadata": {
    "scrolled": false
   },
   "outputs": [
    {
     "name": "stdout",
     "output_type": "stream",
     "text": [
      "[1.127s] Plan found with 13 action(s)\n",
      "#Generated nodes: 1020\n",
      "Plan:\n",
      "  move(disk01,disk02,peg2)\n",
      "  move(disk02,disk03,peg3)\n",
      "  move(disk01,peg2,disk02)\n",
      "  move(disk03,disk04,peg4)\n",
      "  move(disk04,disk05,peg2)\n",
      "  move(disk03,peg4,disk04)\n",
      "  move(disk05,peg1,peg4)\n",
      "  move(disk03,disk04,peg1)\n",
      "  move(disk04,peg2,disk05)\n",
      "  move(disk01,disk02,peg2)\n",
      "  move(disk03,peg1,disk04)\n",
      "  move(disk02,peg3,disk03)\n",
      "  move(disk01,peg2,disk02)\n",
      "step 0\n"
     ]
    },
    {
     "data": {
      "image/svg+xml": [
       "<svg baseProfile=\"full\" height=\"200\" version=\"1.1\" width=\"500\" xmlns=\"http://www.w3.org/2000/svg\" xmlns:ev=\"http://www.w3.org/2001/xml-events\" xmlns:xlink=\"http://www.w3.org/1999/xlink\"><defs /><line stroke=\"black\" x1=\"5%\" x2=\"95%\" y1=\"95%\" y2=\"95%\" /><rect fill=\"white\" height=\"80%\" stroke=\"black\" width=\"1%\" x=\"22.5%\" y=\"15.0%\" /><rect fill=\"white\" height=\"80%\" stroke=\"black\" width=\"1%\" x=\"40.5%\" y=\"15.0%\" /><rect fill=\"white\" height=\"80%\" stroke=\"black\" width=\"1%\" x=\"58.5%\" y=\"15.0%\" /><rect fill=\"white\" height=\"80%\" stroke=\"black\" width=\"1%\" x=\"76.5%\" y=\"15.0%\" /><rect fill=\"white\" height=\"4%\" stroke=\"black\" width=\"8.09%\" x=\"18.955%\" y=\"91.0%\" /><rect fill=\"white\" height=\"4%\" stroke=\"black\" width=\"6.472%\" x=\"19.764%\" y=\"87.0%\" /><rect fill=\"white\" height=\"4%\" stroke=\"black\" width=\"4.854%\" x=\"20.573%\" y=\"83.0%\" /><rect fill=\"white\" height=\"4%\" stroke=\"black\" width=\"3.236%\" x=\"21.382%\" y=\"79.0%\" /><rect fill=\"white\" height=\"4%\" stroke=\"black\" width=\"1.618%\" x=\"22.191%\" y=\"75.0%\" /></svg>"
      ],
      "text/plain": [
       "<planning.planning.State at 0x7f334454afd0>"
      ]
     },
     "metadata": {},
     "output_type": "display_data"
    },
    {
     "name": "stdout",
     "output_type": "stream",
     "text": [
      "step 1\n"
     ]
    },
    {
     "data": {
      "image/svg+xml": [
       "<svg baseProfile=\"full\" height=\"200\" version=\"1.1\" width=\"500\" xmlns=\"http://www.w3.org/2000/svg\" xmlns:ev=\"http://www.w3.org/2001/xml-events\" xmlns:xlink=\"http://www.w3.org/1999/xlink\"><defs /><line stroke=\"black\" x1=\"5%\" x2=\"95%\" y1=\"95%\" y2=\"95%\" /><rect fill=\"white\" height=\"80%\" stroke=\"black\" width=\"1%\" x=\"22.5%\" y=\"15.0%\" /><rect fill=\"white\" height=\"80%\" stroke=\"black\" width=\"1%\" x=\"40.5%\" y=\"15.0%\" /><rect fill=\"white\" height=\"80%\" stroke=\"black\" width=\"1%\" x=\"58.5%\" y=\"15.0%\" /><rect fill=\"white\" height=\"80%\" stroke=\"black\" width=\"1%\" x=\"76.5%\" y=\"15.0%\" /><rect fill=\"white\" height=\"4%\" stroke=\"black\" width=\"8.09%\" x=\"18.955%\" y=\"91.0%\" /><rect fill=\"white\" height=\"4%\" stroke=\"black\" width=\"6.472%\" x=\"19.764%\" y=\"87.0%\" /><rect fill=\"white\" height=\"4%\" stroke=\"black\" width=\"4.854%\" x=\"20.573%\" y=\"83.0%\" /><rect fill=\"white\" height=\"4%\" stroke=\"black\" width=\"3.236%\" x=\"21.382%\" y=\"79.0%\" /><rect fill=\"white\" height=\"4%\" stroke=\"black\" width=\"1.618%\" x=\"40.191%\" y=\"91.0%\" /></svg>"
      ],
      "text/plain": [
       "<planning.planning.State at 0x7f334455a1d0>"
      ]
     },
     "metadata": {},
     "output_type": "display_data"
    },
    {
     "name": "stdout",
     "output_type": "stream",
     "text": [
      "step 2\n"
     ]
    },
    {
     "data": {
      "image/svg+xml": [
       "<svg baseProfile=\"full\" height=\"200\" version=\"1.1\" width=\"500\" xmlns=\"http://www.w3.org/2000/svg\" xmlns:ev=\"http://www.w3.org/2001/xml-events\" xmlns:xlink=\"http://www.w3.org/1999/xlink\"><defs /><line stroke=\"black\" x1=\"5%\" x2=\"95%\" y1=\"95%\" y2=\"95%\" /><rect fill=\"white\" height=\"80%\" stroke=\"black\" width=\"1%\" x=\"22.5%\" y=\"15.0%\" /><rect fill=\"white\" height=\"80%\" stroke=\"black\" width=\"1%\" x=\"40.5%\" y=\"15.0%\" /><rect fill=\"white\" height=\"80%\" stroke=\"black\" width=\"1%\" x=\"58.5%\" y=\"15.0%\" /><rect fill=\"white\" height=\"80%\" stroke=\"black\" width=\"1%\" x=\"76.5%\" y=\"15.0%\" /><rect fill=\"white\" height=\"4%\" stroke=\"black\" width=\"8.09%\" x=\"18.955%\" y=\"91.0%\" /><rect fill=\"white\" height=\"4%\" stroke=\"black\" width=\"6.472%\" x=\"19.764%\" y=\"87.0%\" /><rect fill=\"white\" height=\"4%\" stroke=\"black\" width=\"4.854%\" x=\"20.573%\" y=\"83.0%\" /><rect fill=\"white\" height=\"4%\" stroke=\"black\" width=\"1.618%\" x=\"40.191%\" y=\"91.0%\" /><rect fill=\"white\" height=\"4%\" stroke=\"black\" width=\"3.236%\" x=\"57.382%\" y=\"91.0%\" /></svg>"
      ],
      "text/plain": [
       "<planning.planning.State at 0x7f334455add8>"
      ]
     },
     "metadata": {},
     "output_type": "display_data"
    },
    {
     "name": "stdout",
     "output_type": "stream",
     "text": [
      "step 3\n"
     ]
    },
    {
     "data": {
      "image/svg+xml": [
       "<svg baseProfile=\"full\" height=\"200\" version=\"1.1\" width=\"500\" xmlns=\"http://www.w3.org/2000/svg\" xmlns:ev=\"http://www.w3.org/2001/xml-events\" xmlns:xlink=\"http://www.w3.org/1999/xlink\"><defs /><line stroke=\"black\" x1=\"5%\" x2=\"95%\" y1=\"95%\" y2=\"95%\" /><rect fill=\"white\" height=\"80%\" stroke=\"black\" width=\"1%\" x=\"22.5%\" y=\"15.0%\" /><rect fill=\"white\" height=\"80%\" stroke=\"black\" width=\"1%\" x=\"40.5%\" y=\"15.0%\" /><rect fill=\"white\" height=\"80%\" stroke=\"black\" width=\"1%\" x=\"58.5%\" y=\"15.0%\" /><rect fill=\"white\" height=\"80%\" stroke=\"black\" width=\"1%\" x=\"76.5%\" y=\"15.0%\" /><rect fill=\"white\" height=\"4%\" stroke=\"black\" width=\"8.09%\" x=\"18.955%\" y=\"91.0%\" /><rect fill=\"white\" height=\"4%\" stroke=\"black\" width=\"6.472%\" x=\"19.764%\" y=\"87.0%\" /><rect fill=\"white\" height=\"4%\" stroke=\"black\" width=\"4.854%\" x=\"20.573%\" y=\"83.0%\" /><rect fill=\"white\" height=\"4%\" stroke=\"black\" width=\"3.236%\" x=\"57.382%\" y=\"91.0%\" /><rect fill=\"white\" height=\"4%\" stroke=\"black\" width=\"1.618%\" x=\"58.191%\" y=\"87.0%\" /></svg>"
      ],
      "text/plain": [
       "<planning.planning.State at 0x7f3344554b70>"
      ]
     },
     "metadata": {},
     "output_type": "display_data"
    },
    {
     "name": "stdout",
     "output_type": "stream",
     "text": [
      "step 4\n"
     ]
    },
    {
     "data": {
      "image/svg+xml": [
       "<svg baseProfile=\"full\" height=\"200\" version=\"1.1\" width=\"500\" xmlns=\"http://www.w3.org/2000/svg\" xmlns:ev=\"http://www.w3.org/2001/xml-events\" xmlns:xlink=\"http://www.w3.org/1999/xlink\"><defs /><line stroke=\"black\" x1=\"5%\" x2=\"95%\" y1=\"95%\" y2=\"95%\" /><rect fill=\"white\" height=\"80%\" stroke=\"black\" width=\"1%\" x=\"22.5%\" y=\"15.0%\" /><rect fill=\"white\" height=\"80%\" stroke=\"black\" width=\"1%\" x=\"40.5%\" y=\"15.0%\" /><rect fill=\"white\" height=\"80%\" stroke=\"black\" width=\"1%\" x=\"58.5%\" y=\"15.0%\" /><rect fill=\"white\" height=\"80%\" stroke=\"black\" width=\"1%\" x=\"76.5%\" y=\"15.0%\" /><rect fill=\"white\" height=\"4%\" stroke=\"black\" width=\"8.09%\" x=\"18.955%\" y=\"91.0%\" /><rect fill=\"white\" height=\"4%\" stroke=\"black\" width=\"6.472%\" x=\"19.764%\" y=\"87.0%\" /><rect fill=\"white\" height=\"4%\" stroke=\"black\" width=\"3.236%\" x=\"57.382%\" y=\"91.0%\" /><rect fill=\"white\" height=\"4%\" stroke=\"black\" width=\"1.618%\" x=\"58.191%\" y=\"87.0%\" /><rect fill=\"white\" height=\"4%\" stroke=\"black\" width=\"4.854%\" x=\"74.573%\" y=\"91.0%\" /></svg>"
      ],
      "text/plain": [
       "<planning.planning.State at 0x7f33444e8080>"
      ]
     },
     "metadata": {},
     "output_type": "display_data"
    },
    {
     "name": "stdout",
     "output_type": "stream",
     "text": [
      "step 5\n"
     ]
    },
    {
     "data": {
      "image/svg+xml": [
       "<svg baseProfile=\"full\" height=\"200\" version=\"1.1\" width=\"500\" xmlns=\"http://www.w3.org/2000/svg\" xmlns:ev=\"http://www.w3.org/2001/xml-events\" xmlns:xlink=\"http://www.w3.org/1999/xlink\"><defs /><line stroke=\"black\" x1=\"5%\" x2=\"95%\" y1=\"95%\" y2=\"95%\" /><rect fill=\"white\" height=\"80%\" stroke=\"black\" width=\"1%\" x=\"22.5%\" y=\"15.0%\" /><rect fill=\"white\" height=\"80%\" stroke=\"black\" width=\"1%\" x=\"40.5%\" y=\"15.0%\" /><rect fill=\"white\" height=\"80%\" stroke=\"black\" width=\"1%\" x=\"58.5%\" y=\"15.0%\" /><rect fill=\"white\" height=\"80%\" stroke=\"black\" width=\"1%\" x=\"76.5%\" y=\"15.0%\" /><rect fill=\"white\" height=\"4%\" stroke=\"black\" width=\"8.09%\" x=\"18.955%\" y=\"91.0%\" /><rect fill=\"white\" height=\"4%\" stroke=\"black\" width=\"6.472%\" x=\"37.764%\" y=\"91.0%\" /><rect fill=\"white\" height=\"4%\" stroke=\"black\" width=\"3.236%\" x=\"57.382%\" y=\"91.0%\" /><rect fill=\"white\" height=\"4%\" stroke=\"black\" width=\"1.618%\" x=\"58.191%\" y=\"87.0%\" /><rect fill=\"white\" height=\"4%\" stroke=\"black\" width=\"4.854%\" x=\"74.573%\" y=\"91.0%\" /></svg>"
      ],
      "text/plain": [
       "<planning.planning.State at 0x7f33444e8710>"
      ]
     },
     "metadata": {},
     "output_type": "display_data"
    },
    {
     "name": "stdout",
     "output_type": "stream",
     "text": [
      "step 6\n"
     ]
    },
    {
     "data": {
      "image/svg+xml": [
       "<svg baseProfile=\"full\" height=\"200\" version=\"1.1\" width=\"500\" xmlns=\"http://www.w3.org/2000/svg\" xmlns:ev=\"http://www.w3.org/2001/xml-events\" xmlns:xlink=\"http://www.w3.org/1999/xlink\"><defs /><line stroke=\"black\" x1=\"5%\" x2=\"95%\" y1=\"95%\" y2=\"95%\" /><rect fill=\"white\" height=\"80%\" stroke=\"black\" width=\"1%\" x=\"22.5%\" y=\"15.0%\" /><rect fill=\"white\" height=\"80%\" stroke=\"black\" width=\"1%\" x=\"40.5%\" y=\"15.0%\" /><rect fill=\"white\" height=\"80%\" stroke=\"black\" width=\"1%\" x=\"58.5%\" y=\"15.0%\" /><rect fill=\"white\" height=\"80%\" stroke=\"black\" width=\"1%\" x=\"76.5%\" y=\"15.0%\" /><rect fill=\"white\" height=\"4%\" stroke=\"black\" width=\"8.09%\" x=\"18.955%\" y=\"91.0%\" /><rect fill=\"white\" height=\"4%\" stroke=\"black\" width=\"6.472%\" x=\"37.764%\" y=\"91.0%\" /><rect fill=\"white\" height=\"4%\" stroke=\"black\" width=\"4.854%\" x=\"38.573%\" y=\"87.0%\" /><rect fill=\"white\" height=\"4%\" stroke=\"black\" width=\"3.236%\" x=\"57.382%\" y=\"91.0%\" /><rect fill=\"white\" height=\"4%\" stroke=\"black\" width=\"1.618%\" x=\"58.191%\" y=\"87.0%\" /></svg>"
      ],
      "text/plain": [
       "<planning.planning.State at 0x7f334454f080>"
      ]
     },
     "metadata": {},
     "output_type": "display_data"
    },
    {
     "name": "stdout",
     "output_type": "stream",
     "text": [
      "step 7\n"
     ]
    },
    {
     "data": {
      "image/svg+xml": [
       "<svg baseProfile=\"full\" height=\"200\" version=\"1.1\" width=\"500\" xmlns=\"http://www.w3.org/2000/svg\" xmlns:ev=\"http://www.w3.org/2001/xml-events\" xmlns:xlink=\"http://www.w3.org/1999/xlink\"><defs /><line stroke=\"black\" x1=\"5%\" x2=\"95%\" y1=\"95%\" y2=\"95%\" /><rect fill=\"white\" height=\"80%\" stroke=\"black\" width=\"1%\" x=\"22.5%\" y=\"15.0%\" /><rect fill=\"white\" height=\"80%\" stroke=\"black\" width=\"1%\" x=\"40.5%\" y=\"15.0%\" /><rect fill=\"white\" height=\"80%\" stroke=\"black\" width=\"1%\" x=\"58.5%\" y=\"15.0%\" /><rect fill=\"white\" height=\"80%\" stroke=\"black\" width=\"1%\" x=\"76.5%\" y=\"15.0%\" /><rect fill=\"white\" height=\"4%\" stroke=\"black\" width=\"6.472%\" x=\"37.764%\" y=\"91.0%\" /><rect fill=\"white\" height=\"4%\" stroke=\"black\" width=\"4.854%\" x=\"38.573%\" y=\"87.0%\" /><rect fill=\"white\" height=\"4%\" stroke=\"black\" width=\"3.236%\" x=\"57.382%\" y=\"91.0%\" /><rect fill=\"white\" height=\"4%\" stroke=\"black\" width=\"1.618%\" x=\"58.191%\" y=\"87.0%\" /><rect fill=\"white\" height=\"4%\" stroke=\"black\" width=\"8.09%\" x=\"72.955%\" y=\"91.0%\" /></svg>"
      ],
      "text/plain": [
       "<planning.planning.State at 0x7f33444c9e48>"
      ]
     },
     "metadata": {},
     "output_type": "display_data"
    },
    {
     "name": "stdout",
     "output_type": "stream",
     "text": [
      "step 8\n"
     ]
    },
    {
     "data": {
      "image/svg+xml": [
       "<svg baseProfile=\"full\" height=\"200\" version=\"1.1\" width=\"500\" xmlns=\"http://www.w3.org/2000/svg\" xmlns:ev=\"http://www.w3.org/2001/xml-events\" xmlns:xlink=\"http://www.w3.org/1999/xlink\"><defs /><line stroke=\"black\" x1=\"5%\" x2=\"95%\" y1=\"95%\" y2=\"95%\" /><rect fill=\"white\" height=\"80%\" stroke=\"black\" width=\"1%\" x=\"22.5%\" y=\"15.0%\" /><rect fill=\"white\" height=\"80%\" stroke=\"black\" width=\"1%\" x=\"40.5%\" y=\"15.0%\" /><rect fill=\"white\" height=\"80%\" stroke=\"black\" width=\"1%\" x=\"58.5%\" y=\"15.0%\" /><rect fill=\"white\" height=\"80%\" stroke=\"black\" width=\"1%\" x=\"76.5%\" y=\"15.0%\" /><rect fill=\"white\" height=\"4%\" stroke=\"black\" width=\"4.854%\" x=\"20.573%\" y=\"91.0%\" /><rect fill=\"white\" height=\"4%\" stroke=\"black\" width=\"6.472%\" x=\"37.764%\" y=\"91.0%\" /><rect fill=\"white\" height=\"4%\" stroke=\"black\" width=\"3.236%\" x=\"57.382%\" y=\"91.0%\" /><rect fill=\"white\" height=\"4%\" stroke=\"black\" width=\"1.618%\" x=\"58.191%\" y=\"87.0%\" /><rect fill=\"white\" height=\"4%\" stroke=\"black\" width=\"8.09%\" x=\"72.955%\" y=\"91.0%\" /></svg>"
      ],
      "text/plain": [
       "<planning.planning.State at 0x7f33444d3978>"
      ]
     },
     "metadata": {},
     "output_type": "display_data"
    },
    {
     "name": "stdout",
     "output_type": "stream",
     "text": [
      "step 9\n"
     ]
    },
    {
     "data": {
      "image/svg+xml": [
       "<svg baseProfile=\"full\" height=\"200\" version=\"1.1\" width=\"500\" xmlns=\"http://www.w3.org/2000/svg\" xmlns:ev=\"http://www.w3.org/2001/xml-events\" xmlns:xlink=\"http://www.w3.org/1999/xlink\"><defs /><line stroke=\"black\" x1=\"5%\" x2=\"95%\" y1=\"95%\" y2=\"95%\" /><rect fill=\"white\" height=\"80%\" stroke=\"black\" width=\"1%\" x=\"22.5%\" y=\"15.0%\" /><rect fill=\"white\" height=\"80%\" stroke=\"black\" width=\"1%\" x=\"40.5%\" y=\"15.0%\" /><rect fill=\"white\" height=\"80%\" stroke=\"black\" width=\"1%\" x=\"58.5%\" y=\"15.0%\" /><rect fill=\"white\" height=\"80%\" stroke=\"black\" width=\"1%\" x=\"76.5%\" y=\"15.0%\" /><rect fill=\"white\" height=\"4%\" stroke=\"black\" width=\"4.854%\" x=\"20.573%\" y=\"91.0%\" /><rect fill=\"white\" height=\"4%\" stroke=\"black\" width=\"3.236%\" x=\"57.382%\" y=\"91.0%\" /><rect fill=\"white\" height=\"4%\" stroke=\"black\" width=\"1.618%\" x=\"58.191%\" y=\"87.0%\" /><rect fill=\"white\" height=\"4%\" stroke=\"black\" width=\"8.09%\" x=\"72.955%\" y=\"91.0%\" /><rect fill=\"white\" height=\"4%\" stroke=\"black\" width=\"6.472%\" x=\"73.764%\" y=\"87.0%\" /></svg>"
      ],
      "text/plain": [
       "<planning.planning.State at 0x7f33444df128>"
      ]
     },
     "metadata": {},
     "output_type": "display_data"
    },
    {
     "name": "stdout",
     "output_type": "stream",
     "text": [
      "step 10\n"
     ]
    },
    {
     "data": {
      "image/svg+xml": [
       "<svg baseProfile=\"full\" height=\"200\" version=\"1.1\" width=\"500\" xmlns=\"http://www.w3.org/2000/svg\" xmlns:ev=\"http://www.w3.org/2001/xml-events\" xmlns:xlink=\"http://www.w3.org/1999/xlink\"><defs /><line stroke=\"black\" x1=\"5%\" x2=\"95%\" y1=\"95%\" y2=\"95%\" /><rect fill=\"white\" height=\"80%\" stroke=\"black\" width=\"1%\" x=\"22.5%\" y=\"15.0%\" /><rect fill=\"white\" height=\"80%\" stroke=\"black\" width=\"1%\" x=\"40.5%\" y=\"15.0%\" /><rect fill=\"white\" height=\"80%\" stroke=\"black\" width=\"1%\" x=\"58.5%\" y=\"15.0%\" /><rect fill=\"white\" height=\"80%\" stroke=\"black\" width=\"1%\" x=\"76.5%\" y=\"15.0%\" /><rect fill=\"white\" height=\"4%\" stroke=\"black\" width=\"4.854%\" x=\"20.573%\" y=\"91.0%\" /><rect fill=\"white\" height=\"4%\" stroke=\"black\" width=\"1.618%\" x=\"40.191%\" y=\"91.0%\" /><rect fill=\"white\" height=\"4%\" stroke=\"black\" width=\"3.236%\" x=\"57.382%\" y=\"91.0%\" /><rect fill=\"white\" height=\"4%\" stroke=\"black\" width=\"8.09%\" x=\"72.955%\" y=\"91.0%\" /><rect fill=\"white\" height=\"4%\" stroke=\"black\" width=\"6.472%\" x=\"73.764%\" y=\"87.0%\" /></svg>"
      ],
      "text/plain": [
       "<planning.planning.State at 0x7f33444df0b8>"
      ]
     },
     "metadata": {},
     "output_type": "display_data"
    },
    {
     "name": "stdout",
     "output_type": "stream",
     "text": [
      "step 11\n"
     ]
    },
    {
     "data": {
      "image/svg+xml": [
       "<svg baseProfile=\"full\" height=\"200\" version=\"1.1\" width=\"500\" xmlns=\"http://www.w3.org/2000/svg\" xmlns:ev=\"http://www.w3.org/2001/xml-events\" xmlns:xlink=\"http://www.w3.org/1999/xlink\"><defs /><line stroke=\"black\" x1=\"5%\" x2=\"95%\" y1=\"95%\" y2=\"95%\" /><rect fill=\"white\" height=\"80%\" stroke=\"black\" width=\"1%\" x=\"22.5%\" y=\"15.0%\" /><rect fill=\"white\" height=\"80%\" stroke=\"black\" width=\"1%\" x=\"40.5%\" y=\"15.0%\" /><rect fill=\"white\" height=\"80%\" stroke=\"black\" width=\"1%\" x=\"58.5%\" y=\"15.0%\" /><rect fill=\"white\" height=\"80%\" stroke=\"black\" width=\"1%\" x=\"76.5%\" y=\"15.0%\" /><rect fill=\"white\" height=\"4%\" stroke=\"black\" width=\"1.618%\" x=\"40.191%\" y=\"91.0%\" /><rect fill=\"white\" height=\"4%\" stroke=\"black\" width=\"3.236%\" x=\"57.382%\" y=\"91.0%\" /><rect fill=\"white\" height=\"4%\" stroke=\"black\" width=\"8.09%\" x=\"72.955%\" y=\"91.0%\" /><rect fill=\"white\" height=\"4%\" stroke=\"black\" width=\"6.472%\" x=\"73.764%\" y=\"87.0%\" /><rect fill=\"white\" height=\"4%\" stroke=\"black\" width=\"4.854%\" x=\"74.573%\" y=\"83.0%\" /></svg>"
      ],
      "text/plain": [
       "<planning.planning.State at 0x7f334446cdd8>"
      ]
     },
     "metadata": {},
     "output_type": "display_data"
    },
    {
     "name": "stdout",
     "output_type": "stream",
     "text": [
      "step 12\n"
     ]
    },
    {
     "data": {
      "image/svg+xml": [
       "<svg baseProfile=\"full\" height=\"200\" version=\"1.1\" width=\"500\" xmlns=\"http://www.w3.org/2000/svg\" xmlns:ev=\"http://www.w3.org/2001/xml-events\" xmlns:xlink=\"http://www.w3.org/1999/xlink\"><defs /><line stroke=\"black\" x1=\"5%\" x2=\"95%\" y1=\"95%\" y2=\"95%\" /><rect fill=\"white\" height=\"80%\" stroke=\"black\" width=\"1%\" x=\"22.5%\" y=\"15.0%\" /><rect fill=\"white\" height=\"80%\" stroke=\"black\" width=\"1%\" x=\"40.5%\" y=\"15.0%\" /><rect fill=\"white\" height=\"80%\" stroke=\"black\" width=\"1%\" x=\"58.5%\" y=\"15.0%\" /><rect fill=\"white\" height=\"80%\" stroke=\"black\" width=\"1%\" x=\"76.5%\" y=\"15.0%\" /><rect fill=\"white\" height=\"4%\" stroke=\"black\" width=\"1.618%\" x=\"40.191%\" y=\"91.0%\" /><rect fill=\"white\" height=\"4%\" stroke=\"black\" width=\"8.09%\" x=\"72.955%\" y=\"91.0%\" /><rect fill=\"white\" height=\"4%\" stroke=\"black\" width=\"6.472%\" x=\"73.764%\" y=\"87.0%\" /><rect fill=\"white\" height=\"4%\" stroke=\"black\" width=\"4.854%\" x=\"74.573%\" y=\"83.0%\" /><rect fill=\"white\" height=\"4%\" stroke=\"black\" width=\"3.236%\" x=\"75.382%\" y=\"79.0%\" /></svg>"
      ],
      "text/plain": [
       "<planning.planning.State at 0x7f3344471160>"
      ]
     },
     "metadata": {},
     "output_type": "display_data"
    },
    {
     "name": "stdout",
     "output_type": "stream",
     "text": [
      "step 13\n"
     ]
    },
    {
     "data": {
      "image/svg+xml": [
       "<svg baseProfile=\"full\" height=\"200\" version=\"1.1\" width=\"500\" xmlns=\"http://www.w3.org/2000/svg\" xmlns:ev=\"http://www.w3.org/2001/xml-events\" xmlns:xlink=\"http://www.w3.org/1999/xlink\"><defs /><line stroke=\"black\" x1=\"5%\" x2=\"95%\" y1=\"95%\" y2=\"95%\" /><rect fill=\"white\" height=\"80%\" stroke=\"black\" width=\"1%\" x=\"22.5%\" y=\"15.0%\" /><rect fill=\"white\" height=\"80%\" stroke=\"black\" width=\"1%\" x=\"40.5%\" y=\"15.0%\" /><rect fill=\"white\" height=\"80%\" stroke=\"black\" width=\"1%\" x=\"58.5%\" y=\"15.0%\" /><rect fill=\"white\" height=\"80%\" stroke=\"black\" width=\"1%\" x=\"76.5%\" y=\"15.0%\" /><rect fill=\"white\" height=\"4%\" stroke=\"black\" width=\"8.09%\" x=\"72.955%\" y=\"91.0%\" /><rect fill=\"white\" height=\"4%\" stroke=\"black\" width=\"6.472%\" x=\"73.764%\" y=\"87.0%\" /><rect fill=\"white\" height=\"4%\" stroke=\"black\" width=\"4.854%\" x=\"74.573%\" y=\"83.0%\" /><rect fill=\"white\" height=\"4%\" stroke=\"black\" width=\"3.236%\" x=\"75.382%\" y=\"79.0%\" /><rect fill=\"white\" height=\"4%\" stroke=\"black\" width=\"1.618%\" x=\"76.191%\" y=\"75.0%\" /></svg>"
      ],
      "text/plain": [
       "<planning.planning.State at 0x7f334446cd68>"
      ]
     },
     "metadata": {},
     "output_type": "display_data"
    }
   ],
   "source": [
    "bfs = planning.BreadthFirstSearch(problem, verbose=1, timeout=30.0, node_bound=None)\n",
    "status = bfs()\n",
    "if status == planning.search.FOUND:\n",
    "    plan = bfs.plan()\n",
    "    state_sequence = bfs.state_sequence()\n",
    "    print(\"#Generated nodes: \" + str(bfs.info()[\"generated\"]))\n",
    "    if True: #len(plan) < 10:\n",
    "        print(\"Plan:\\n  \" + \"\\n  \".join([str(op) for op in bfs.plan()]))\n",
    "        for i, state in enumerate(bfs.state_sequence()):\n",
    "            print(\"step \" + str(i))\n",
    "            display(state)"
   ]
  },
  {
   "cell_type": "markdown",
   "metadata": {},
   "source": [
    "Let us apply IDS now:"
   ]
  },
  {
   "cell_type": "code",
   "execution_count": 4,
   "metadata": {
    "scrolled": false
   },
   "outputs": [
    {
     "name": "stdout",
     "output_type": "stream",
     "text": [
      "[0.000s] Trying depth 1...\n",
      "[0.001s] Trying depth 2...\n",
      "[0.002s] Trying depth 3...\n",
      "[0.008s] Trying depth 4...\n",
      "[0.026s] Trying depth 5...\n",
      "[0.079s] Trying depth 6...\n",
      "[0.296s] Trying depth 7...\n",
      "[1.147s] Trying depth 8...\n",
      "[4.591s] Trying depth 9...\n",
      "[20.370s] Trying depth 10...\n",
      "[30.007s] Timeout\n",
      "[30.007s] Could not find solution\n"
     ]
    }
   ],
   "source": [
    "ids = planning.IterativeDeepeningSearch(problem, verbose=1, timeout=30.0)\n",
    "status = ids()\n",
    "if status == planning.search.FOUND:\n",
    "    plan = ids.plan()\n",
    "    state_sequence = ids.state_sequence()\n",
    "    if len(plan) < 10:\n",
    "        print(\"Plan:\\n  \" + \"\\n  \".join([str(op) for op in ids.plan()]))\n",
    "        for i, state in enumerate(ids.state_sequence()):\n",
    "            print(\"step \" + str(i))\n",
    "            display(state)"
   ]
  },
  {
   "cell_type": "markdown",
   "metadata": {},
   "source": [
    "Now, let us apply heuristic search. We have implemented a generic Best First Search algorithm that accepts any heuristic and uses it to guide the search. We have implemented the following heuristics:\n",
    "- Goal counting heuristic\n",
    "- Relaxed goal counting heuristic\n",
    "- Novelty-based heuristics\n",
    "- Additive heuristic ($ h_{add} $)\n",
    "- Relaxed planning graph heuristic (equivalent to $ h_{max} $)\n",
    "\n",
    "We can combine these heuristics to achieve certain behaviour. For instance, we can use a linear combination of the accumulated cost and the novelty or additive heuristic to get the $\\epsilon-A*$ (epsilon A-star) behaviour. The improvement with respect to the blind search is evident:"
   ]
  },
  {
   "cell_type": "code",
   "execution_count": 5,
   "metadata": {
    "scrolled": false
   },
   "outputs": [
    {
     "name": "stdout",
     "output_type": "stream",
     "text": [
      "[0.079s] Plan found with 13 action(s)\n",
      "#Generated nodes: 82\n"
     ]
    }
   ],
   "source": [
    "g = planning.heuristics.AccumulatedCost()\n",
    "hadd = planning.heuristics.AdditiveHeuristic()\n",
    "rpg = planning.heuristics.RelaxedPlanningGraphHeuristic()\n",
    "hlinear = planning.heuristics.LinearCombination([g, hadd], (1, 5)) # 5 A-star with additive heuristic\n",
    "h = planning.heuristics.ConcatenateHeuristic([hlinear, hadd])\n",
    "\n",
    "bfs = planning.BestFirstSearch(problem, verbose=1, timeout=300.0, node_bound=20000,\n",
    "                               heuristic=h, close_forever=False)\n",
    "bfs()\n",
    "plan = bfs.plan()\n",
    "state_sequence = bfs.state_sequence()\n",
    "print(\"#Generated nodes: \" + str(bfs.info()[\"generated\"]))\n",
    "if len(plan) < 10:\n",
    "    print(\"Plan:\\n  \" + \"\\n  \".join([str(op) for op in bfs.plan()]))\n",
    "    for i, state in enumerate(bfs.state_sequence()):\n",
    "        print(\"step \" + str(i))\n",
    "        display(state)"
   ]
  },
  {
   "cell_type": "code",
   "execution_count": 6,
   "metadata": {},
   "outputs": [
    {
     "name": "stderr",
     "output_type": "stream",
     "text": [
      "Widget Javascript not detected.  It may not be installed or enabled properly.\n"
     ]
    },
    {
     "data": {
      "application/vnd.jupyter.widget-view+json": {
       "model_id": "0278702952d645e4ac2493ef3a9d27b8"
      }
     },
     "metadata": {},
     "output_type": "display_data"
    },
    {
     "name": "stdout",
     "output_type": "stream",
     "text": [
      "\n"
     ]
    }
   ],
   "source": [
    "import random\n",
    "import tqdm\n",
    "import matplotlib.pyplot as plt\n",
    "%matplotlib inline\n",
    "\n",
    "random.seed(42)\n",
    "\n",
    "h0_3 = []\n",
    "h1_3 = []\n",
    "h2_3 = []\n",
    "h3_3 = []\n",
    "\n",
    "N = 1000\n",
    "\n",
    "generated = set()\n",
    "\n",
    "for _ in tqdm.tqdm_notebook(range(N)):\n",
    "    while True:\n",
    "        n = random.randint(3, 7)\n",
    "#         m = random.randint(3, 4)\n",
    "        problem = domain.generate_problem(n, 3, random=True)\n",
    "        if (problem.init(), problem.goal()) not in generated:\n",
    "            generated.add((problem.init(), problem.goal()))\n",
    "            break\n",
    "    bfs = planning.BreadthFirstSearch(problem, verbose=0, timeout=5.0, node_bound=None)\n",
    "    status = bfs()\n",
    "    if status == planning.search.FOUND:\n",
    "        h0_3.append(len(bfs.plan()))\n",
    "        h1_3.append(hadd.hadd(problem.init(), problem.goal()))\n",
    "        h2_3.append(rpg.rpg(problem.init(), problem.goal()))\n",
    "        h3_3.append(len(problem.goal().difference(problem.init())))\n"
   ]
  },
  {
   "cell_type": "code",
   "execution_count": 7,
   "metadata": {},
   "outputs": [
    {
     "name": "stdout",
     "output_type": "stream",
     "text": [
      "992\n",
      "1000\n"
     ]
    },
    {
     "data": {
      "image/png": "[encoded data removed]",
      "text/plain": [
       "<matplotlib.figure.Figure at 0x7f33444b1080>"
      ]
     },
     "metadata": {},
     "output_type": "display_data"
    },
    {
     "data": {
      "image/png": "[encoded data removed]",
      "text/plain": [
       "<matplotlib.figure.Figure at 0x7f32f269e5f8>"
      ]
     },
     "metadata": {},
     "output_type": "display_data"
    },
    {
     "data": {
      "image/png": "[encoded data removed]",
      "text/plain": [
       "<matplotlib.figure.Figure at 0x7f32f0627e80>"
      ]
     },
     "metadata": {},
     "output_type": "display_data"
    },
    {
     "data": {
      "image/png": "[encoded data removed]",
      "text/plain": [
       "<matplotlib.figure.Figure at 0x7f32f0538f28>"
      ]
     },
     "metadata": {},
     "output_type": "display_data"
    }
   ],
   "source": [
    "print(len(h0_3))\n",
    "print(len(generated))\n",
    "\n",
    "plt.scatter(h2_3, h1_3)\n",
    "plt.grid(\"on\")\n",
    "plt.show()\n",
    "\n",
    "plt.scatter(h0_3, h1_3)\n",
    "plt.grid(\"on\")\n",
    "plt.show()\n",
    "\n",
    "plt.scatter(h0_3, h2_3)\n",
    "plt.grid(\"on\")\n",
    "plt.show()\n",
    "\n",
    "plt.scatter(h0_3, h3_3)\n",
    "plt.grid(\"on\")\n",
    "plt.show()"
   ]
  },
  {
   "cell_type": "code",
   "execution_count": 8,
   "metadata": {
    "scrolled": false
   },
   "outputs": [
    {
     "name": "stderr",
     "output_type": "stream",
     "text": [
      "Widget Javascript not detected.  It may not be installed or enabled properly.\n"
     ]
    },
    {
     "data": {
      "application/vnd.jupyter.widget-view+json": {
       "model_id": "7be36caa6179438490aeffecff1f0680"
      }
     },
     "metadata": {},
     "output_type": "display_data"
    },
    {
     "name": "stdout",
     "output_type": "stream",
     "text": [
      "\n"
     ]
    },
    {
     "name": "stderr",
     "output_type": "stream",
     "text": [
      "Widget Javascript not detected.  It may not be installed or enabled properly.\n"
     ]
    },
    {
     "data": {
      "application/vnd.jupyter.widget-view+json": {
       "model_id": "0ea689de35604ea5ab2b0e4fd03a6557"
      }
     },
     "metadata": {},
     "output_type": "display_data"
    },
    {
     "name": "stdout",
     "output_type": "stream",
     "text": [
      "\n",
      "8.3551112138\n",
      "15.3266331658\n",
      "25.3316582915\n",
      "4540\n",
      "5168\n"
     ]
    }
   ],
   "source": [
    "# Good for approximating the optimal heuristic... not so good for ranking\n",
    "\n",
    "import numpy as np\n",
    "from scipy.spatial import KDTree\n",
    "\n",
    "random\n",
    "\n",
    "X = np.array(list(zip(h1_3, h2_3, h3_3)))\n",
    "y = np.array(h0_3)\n",
    "\n",
    "n = X.shape[0]\n",
    "\n",
    "p_split = 0.8\n",
    "\n",
    "X_train = X[:int(p_split*n),:]\n",
    "y_train = y[:int(p_split*n)]\n",
    "\n",
    "X_test = X[int(p_split*n):,:]\n",
    "y_test = y[int(p_split*n):]\n",
    "\n",
    "xy_map = {}\n",
    "for x, y in zip(X_train, y_train):\n",
    "    try:\n",
    "        xy_map[tuple(x)].append(y)\n",
    "    except KeyError:\n",
    "        xy_map[tuple(x)] = [y]\n",
    "        \n",
    "tree = KDTree(X_train)\n",
    "\n",
    "error_abs_1 = 0\n",
    "error_abs_2 = 0\n",
    "error_abs_3 = 0\n",
    "\n",
    "y_guess = []\n",
    "\n",
    "for x,y in zip(X_test, y_test):\n",
    "    _, nearest_i = tree.query(x)\n",
    "    nearest = tuple(tree.data[nearest_i,:])\n",
    "    guess = np.mean(xy_map[nearest])\n",
    "    y_guess.append(guess)\n",
    "#     print(\"{}, {}, {}\".format(x,y,guess))\n",
    "    error_abs_1 += abs(y-guess)\n",
    "    error_abs_2 += abs(y-x[0])\n",
    "    error_abs_3 += abs(y-x[1])\n",
    "error_abs_1 /= X_test.shape[0]\n",
    "error_abs_2 /= X_test.shape[0]\n",
    "error_abs_3 /= X_test.shape[0]\n",
    "\n",
    "ranking_errors_1 = 0\n",
    "\n",
    "for diff1, diff2 in tqdm.tqdm_notebook([(y1-y1_, y2-y2_) for y1,y2 in zip(y_test, y_guess)\n",
    "                                                         for y1_,y2_ in zip(y_test, y_guess)]):\n",
    "    if diff1*diff2 < 0 or ((diff1 == 0) ^ (diff2 == 0)):\n",
    "        ranking_errors_1 += 1\n",
    "            \n",
    "ranking_errors_2 = 0\n",
    "\n",
    "for diff1, diff2 in tqdm.tqdm_notebook([(x[0]-x_[0], y-y_) for x,y in zip(X_test, y_test)\n",
    "                                                           for x_,y_ in zip(X_test, y_test)]):\n",
    "    if diff1*diff2 < 0 or ((diff1 == 0) ^ (diff2 == 0)):\n",
    "        ranking_errors_2 += 1\n",
    "\n",
    "print(error_abs_1)\n",
    "print(error_abs_2)\n",
    "print(error_abs_3)\n",
    "              \n",
    "print(ranking_errors_1)\n",
    "print(ranking_errors_2)"
   ]
  }
 ],
 "metadata": {
  "kernelspec": {
   "display_name": "Python 3",
   "language": "python",
   "name": "python3"
  },
  "language_info": {
   "codemirror_mode": {
    "name": "ipython",
    "version": 3
   },
   "file_extension": ".py",
   "mimetype": "text/x-python",
   "name": "python",
   "nbconvert_exporter": "python",
   "pygments_lexer": "ipython3",
   "version": "3.5.2"
  }
 },
 "nbformat": 4,
 "nbformat_minor": 2
}
