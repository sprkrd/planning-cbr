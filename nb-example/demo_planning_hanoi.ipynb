{
 "cells": [
  {
   "cell_type": "markdown",
   "metadata": {},
   "source": [
    "# Planning in Python\n",
    "\n",
    "Here we illustrate how to use our library to pose a simple Hanoi puzzle and solve it with our planning framework. We have implemented both blind search algorithms and informed (heuristic) search. This notebook gives a flavour of these techniques.\n",
    "\n",
    "## Simple example with 4 pegs\n",
    "\n",
    "We start importing the relevant modules:"
   ]
  },
  {
   "cell_type": "code",
   "execution_count": 1,
   "metadata": {},
   "outputs": [],
   "source": [
    "import planning\n",
    "\n",
    "from IPython.display import display"
   ]
  },
  {
   "cell_type": "markdown",
   "metadata": {},
   "source": [
    "Now let us pose a simple problem with 4 pegs and 5 disks. The domain is already defined and it contains a single operator: `move(?what-disk, ?from-object, ?to-object)`, which moves disk `?what` from object `?from` (either a peg or another disk) to object `?to` (also, either a peg or a disk). Our planning framework can take care of static preconditions. That is, it does not instantiate the move operator for moving a disk onto a smaller disk) so it is not necessary to encode static predicates in the state (the `smaller(?disk1,?disk2)` predicates that are typically seen in PDDL Hanoi domains).\n",
    "\n",
    "We have also implemented a problem generator. The generator can create problems for any number of disks and pegs. It also allows random initial and ending configurations. Our first example will be fairly simple and will have 3 pegs, all the disks in the first peg in the initial state and all the disks in the third peg in the goal configuration. Although the goal in this case details the position of every disk, notice that this does not necessarily has to be the case always. The goal does not need to be a complete description of the end configuration. It is perfectly reasonable, and our framework allows it, to consider partial states (e.g. we want the biggest disk in the third peg, and we do not care about the rest)."
   ]
  },
  {
   "cell_type": "code",
   "execution_count": 2,
   "metadata": {
    "scrolled": false
   },
   "outputs": [
    {
     "name": "stdout",
     "output_type": "stream",
     "text": [
      "Domain: Hanoi\n",
      "Types: {'peg': 'object', 'disk': 'object'}\n",
      "Operators:\n",
      "  - move(?what-disk,?from-object,?to-object):\n",
      "    Pre: clear(?what), clear(?to), on(?what,?from), smaller(?what,?to)\n",
      "    Add: clear(?from), on(?what,?to)\n",
      "    Delete: clear(?to), on(?what,?from)\n",
      "Init:\n"
     ]
    },
    {
     "data": {
      "image/svg+xml": [
       "<svg baseProfile=\"full\" height=\"200\" version=\"1.1\" width=\"500\" xmlns=\"http://www.w3.org/2000/svg\" xmlns:ev=\"http://www.w3.org/2001/xml-events\" xmlns:xlink=\"http://www.w3.org/1999/xlink\"><defs /><line stroke=\"black\" x1=\"5%\" x2=\"95%\" y1=\"95%\" y2=\"95%\" /><rect fill=\"white\" height=\"80%\" stroke=\"black\" width=\"1%\" x=\"22.5%\" y=\"15.0%\" /><rect fill=\"white\" height=\"80%\" stroke=\"black\" width=\"1%\" x=\"40.5%\" y=\"15.0%\" /><rect fill=\"white\" height=\"80%\" stroke=\"black\" width=\"1%\" x=\"58.5%\" y=\"15.0%\" /><rect fill=\"white\" height=\"80%\" stroke=\"black\" width=\"1%\" x=\"76.5%\" y=\"15.0%\" /><rect fill=\"white\" height=\"4%\" stroke=\"black\" width=\"8.09%\" x=\"18.955%\" y=\"91.0%\" /><rect fill=\"white\" height=\"4%\" stroke=\"black\" width=\"6.472%\" x=\"19.764%\" y=\"87.0%\" /><rect fill=\"white\" height=\"4%\" stroke=\"black\" width=\"4.854%\" x=\"20.573%\" y=\"83.0%\" /><rect fill=\"white\" height=\"4%\" stroke=\"black\" width=\"3.236%\" x=\"21.382%\" y=\"79.0%\" /><rect fill=\"white\" height=\"4%\" stroke=\"black\" width=\"1.618%\" x=\"22.191%\" y=\"75.0%\" /></svg>"
      ],
      "text/plain": [
       "<planning.planning.State at 0x7f2c80a3e9b0>"
      ]
     },
     "metadata": {},
     "output_type": "display_data"
    },
    {
     "name": "stdout",
     "output_type": "stream",
     "text": [
      "Goal:\n"
     ]
    },
    {
     "data": {
      "image/svg+xml": [
       "<svg baseProfile=\"full\" height=\"200\" version=\"1.1\" width=\"500\" xmlns=\"http://www.w3.org/2000/svg\" xmlns:ev=\"http://www.w3.org/2001/xml-events\" xmlns:xlink=\"http://www.w3.org/1999/xlink\"><defs /><line stroke=\"black\" x1=\"5%\" x2=\"95%\" y1=\"95%\" y2=\"95%\" /><rect fill=\"white\" height=\"80%\" stroke=\"black\" width=\"1%\" x=\"22.5%\" y=\"15.0%\" /><rect fill=\"white\" height=\"80%\" stroke=\"black\" width=\"1%\" x=\"40.5%\" y=\"15.0%\" /><rect fill=\"white\" height=\"80%\" stroke=\"black\" width=\"1%\" x=\"58.5%\" y=\"15.0%\" /><rect fill=\"white\" height=\"80%\" stroke=\"black\" width=\"1%\" x=\"76.5%\" y=\"15.0%\" /><rect fill=\"white\" height=\"4%\" stroke=\"black\" width=\"8.09%\" x=\"72.955%\" y=\"91.0%\" /><rect fill=\"white\" height=\"4%\" stroke=\"black\" width=\"6.472%\" x=\"73.764%\" y=\"87.0%\" /><rect fill=\"white\" height=\"4%\" stroke=\"black\" width=\"4.854%\" x=\"74.573%\" y=\"83.0%\" /><rect fill=\"white\" height=\"4%\" stroke=\"black\" width=\"3.236%\" x=\"75.382%\" y=\"79.0%\" /><rect fill=\"white\" height=\"4%\" stroke=\"black\" width=\"1.618%\" x=\"76.191%\" y=\"75.0%\" /></svg>"
      ],
      "text/plain": [
       "<planning.planning.State at 0x7f2c80a3e9e8>"
      ]
     },
     "metadata": {},
     "output_type": "display_data"
    },
    {
     "name": "stdout",
     "output_type": "stream",
     "text": [
      "Applicable actions in 1st state:\n",
      "move(disk01,disk02,peg2)\n",
      "move(disk01,disk02,peg3)\n",
      "move(disk01,disk02,peg4)\n"
     ]
    }
   ],
   "source": [
    "domain = planning.domains[\"Hanoi\"]\n",
    "problem = domain.generate_problem(5, 4, random=False)\n",
    "print(domain)\n",
    "# print(problem)\n",
    "print(\"Init:\")\n",
    "display(problem.init())\n",
    "print(\"Goal:\")\n",
    "display(problem.goal())\n",
    "print(\"Applicable actions in 1st state:\")\n",
    "l = list(filter(problem.init().can_apply, problem.operators()))\n",
    "print(\"\\n\".join(map(str, l)))\n",
    "# print(planning.pddl_utility.pddl_actions(l))\n",
    "# print(planning.pddl_utility.pddl_domain(domain))\n",
    "# print(planning.pddl_utility.pddl_problem(problem))\n",
    "\n",
    "# with open(\"domain.pddl\", \"w\") as d, open(\"problem.pddl\",\"w\") as p:\n",
    "#     d.write(planning.pddl_utility.pddl_domain(domain, problem.operators()))\n",
    "#     p.write(planning.pddl_utility.pddl_problem(problem))\n"
   ]
  },
  {
   "cell_type": "markdown",
   "metadata": {},
   "source": [
    "Let us start applying blind search algorithms. Namely, we have implemented Breadth First Search (BFS) and Iterative Deepening Search (IDS). The algorithms have an exponential worst time complexity. More specifically, both have a time complexity of $ O(b^d) $ where $ b $ is the branching factor and $ d $ is the length of the plan. Moreover, BFS is very memory intensive, requiring also an exponential amount of memory. IDS sacrifices speed for memory efficiency: it has a linear memory usage, but requires more time than BFS to find a plan, namely, a constant factor times the time required by BFS which, of course, is hidden in the big O notation.\n",
    "\n",
    "Let us start with BFS:"
   ]
  },
  {
   "cell_type": "code",
   "execution_count": 3,
   "metadata": {
    "scrolled": false
   },
   "outputs": [
    {
     "name": "stdout",
     "output_type": "stream",
     "text": [
      "[1.051s] Plan found with 13 action(s)\n",
      "#Generated nodes: 1020\n",
      "Plan:\n",
      "  move(disk01,disk02,peg2)\n",
      "  move(disk02,disk03,peg3)\n",
      "  move(disk01,peg2,disk02)\n",
      "  move(disk03,disk04,peg4)\n",
      "  move(disk04,disk05,peg2)\n",
      "  move(disk03,peg4,disk04)\n",
      "  move(disk05,peg1,peg4)\n",
      "  move(disk03,disk04,peg1)\n",
      "  move(disk04,peg2,disk05)\n",
      "  move(disk01,disk02,peg2)\n",
      "  move(disk03,peg1,disk04)\n",
      "  move(disk02,peg3,disk03)\n",
      "  move(disk01,peg2,disk02)\n",
      "step 0\n"
     ]
    },
    {
     "data": {
      "image/svg+xml": [
       "<svg baseProfile=\"full\" height=\"200\" version=\"1.1\" width=\"500\" xmlns=\"http://www.w3.org/2000/svg\" xmlns:ev=\"http://www.w3.org/2001/xml-events\" xmlns:xlink=\"http://www.w3.org/1999/xlink\"><defs /><line stroke=\"black\" x1=\"5%\" x2=\"95%\" y1=\"95%\" y2=\"95%\" /><rect fill=\"white\" height=\"80%\" stroke=\"black\" width=\"1%\" x=\"22.5%\" y=\"15.0%\" /><rect fill=\"white\" height=\"80%\" stroke=\"black\" width=\"1%\" x=\"40.5%\" y=\"15.0%\" /><rect fill=\"white\" height=\"80%\" stroke=\"black\" width=\"1%\" x=\"58.5%\" y=\"15.0%\" /><rect fill=\"white\" height=\"80%\" stroke=\"black\" width=\"1%\" x=\"76.5%\" y=\"15.0%\" /><rect fill=\"white\" height=\"4%\" stroke=\"black\" width=\"8.09%\" x=\"18.955%\" y=\"91.0%\" /><rect fill=\"white\" height=\"4%\" stroke=\"black\" width=\"6.472%\" x=\"19.764%\" y=\"87.0%\" /><rect fill=\"white\" height=\"4%\" stroke=\"black\" width=\"4.854%\" x=\"20.573%\" y=\"83.0%\" /><rect fill=\"white\" height=\"4%\" stroke=\"black\" width=\"3.236%\" x=\"21.382%\" y=\"79.0%\" /><rect fill=\"white\" height=\"4%\" stroke=\"black\" width=\"1.618%\" x=\"22.191%\" y=\"75.0%\" /></svg>"
      ],
      "text/plain": [
       "<planning.planning.State at 0x7f60081ca828>"
      ]
     },
     "metadata": {},
     "output_type": "display_data"
    },
    {
     "name": "stdout",
     "output_type": "stream",
     "text": [
      "step 1\n"
     ]
    },
    {
     "data": {
      "image/svg+xml": [
       "<svg baseProfile=\"full\" height=\"200\" version=\"1.1\" width=\"500\" xmlns=\"http://www.w3.org/2000/svg\" xmlns:ev=\"http://www.w3.org/2001/xml-events\" xmlns:xlink=\"http://www.w3.org/1999/xlink\"><defs /><line stroke=\"black\" x1=\"5%\" x2=\"95%\" y1=\"95%\" y2=\"95%\" /><rect fill=\"white\" height=\"80%\" stroke=\"black\" width=\"1%\" x=\"22.5%\" y=\"15.0%\" /><rect fill=\"white\" height=\"80%\" stroke=\"black\" width=\"1%\" x=\"40.5%\" y=\"15.0%\" /><rect fill=\"white\" height=\"80%\" stroke=\"black\" width=\"1%\" x=\"58.5%\" y=\"15.0%\" /><rect fill=\"white\" height=\"80%\" stroke=\"black\" width=\"1%\" x=\"76.5%\" y=\"15.0%\" /><rect fill=\"white\" height=\"4%\" stroke=\"black\" width=\"8.09%\" x=\"18.955%\" y=\"91.0%\" /><rect fill=\"white\" height=\"4%\" stroke=\"black\" width=\"6.472%\" x=\"19.764%\" y=\"87.0%\" /><rect fill=\"white\" height=\"4%\" stroke=\"black\" width=\"4.854%\" x=\"20.573%\" y=\"83.0%\" /><rect fill=\"white\" height=\"4%\" stroke=\"black\" width=\"3.236%\" x=\"21.382%\" y=\"79.0%\" /><rect fill=\"white\" height=\"4%\" stroke=\"black\" width=\"1.618%\" x=\"40.191%\" y=\"91.0%\" /></svg>"
      ],
      "text/plain": [
       "<planning.planning.State at 0x7f60081564e0>"
      ]
     },
     "metadata": {},
     "output_type": "display_data"
    },
    {
     "name": "stdout",
     "output_type": "stream",
     "text": [
      "step 2\n"
     ]
    },
    {
     "data": {
      "image/svg+xml": [
       "<svg baseProfile=\"full\" height=\"200\" version=\"1.1\" width=\"500\" xmlns=\"http://www.w3.org/2000/svg\" xmlns:ev=\"http://www.w3.org/2001/xml-events\" xmlns:xlink=\"http://www.w3.org/1999/xlink\"><defs /><line stroke=\"black\" x1=\"5%\" x2=\"95%\" y1=\"95%\" y2=\"95%\" /><rect fill=\"white\" height=\"80%\" stroke=\"black\" width=\"1%\" x=\"22.5%\" y=\"15.0%\" /><rect fill=\"white\" height=\"80%\" stroke=\"black\" width=\"1%\" x=\"40.5%\" y=\"15.0%\" /><rect fill=\"white\" height=\"80%\" stroke=\"black\" width=\"1%\" x=\"58.5%\" y=\"15.0%\" /><rect fill=\"white\" height=\"80%\" stroke=\"black\" width=\"1%\" x=\"76.5%\" y=\"15.0%\" /><rect fill=\"white\" height=\"4%\" stroke=\"black\" width=\"8.09%\" x=\"18.955%\" y=\"91.0%\" /><rect fill=\"white\" height=\"4%\" stroke=\"black\" width=\"6.472%\" x=\"19.764%\" y=\"87.0%\" /><rect fill=\"white\" height=\"4%\" stroke=\"black\" width=\"4.854%\" x=\"20.573%\" y=\"83.0%\" /><rect fill=\"white\" height=\"4%\" stroke=\"black\" width=\"1.618%\" x=\"40.191%\" y=\"91.0%\" /><rect fill=\"white\" height=\"4%\" stroke=\"black\" width=\"3.236%\" x=\"57.382%\" y=\"91.0%\" /></svg>"
      ],
      "text/plain": [
       "<planning.planning.State at 0x7f6008156710>"
      ]
     },
     "metadata": {},
     "output_type": "display_data"
    },
    {
     "name": "stdout",
     "output_type": "stream",
     "text": [
      "step 3\n"
     ]
    },
    {
     "data": {
      "image/svg+xml": [
       "<svg baseProfile=\"full\" height=\"200\" version=\"1.1\" width=\"500\" xmlns=\"http://www.w3.org/2000/svg\" xmlns:ev=\"http://www.w3.org/2001/xml-events\" xmlns:xlink=\"http://www.w3.org/1999/xlink\"><defs /><line stroke=\"black\" x1=\"5%\" x2=\"95%\" y1=\"95%\" y2=\"95%\" /><rect fill=\"white\" height=\"80%\" stroke=\"black\" width=\"1%\" x=\"22.5%\" y=\"15.0%\" /><rect fill=\"white\" height=\"80%\" stroke=\"black\" width=\"1%\" x=\"40.5%\" y=\"15.0%\" /><rect fill=\"white\" height=\"80%\" stroke=\"black\" width=\"1%\" x=\"58.5%\" y=\"15.0%\" /><rect fill=\"white\" height=\"80%\" stroke=\"black\" width=\"1%\" x=\"76.5%\" y=\"15.0%\" /><rect fill=\"white\" height=\"4%\" stroke=\"black\" width=\"8.09%\" x=\"18.955%\" y=\"91.0%\" /><rect fill=\"white\" height=\"4%\" stroke=\"black\" width=\"6.472%\" x=\"19.764%\" y=\"87.0%\" /><rect fill=\"white\" height=\"4%\" stroke=\"black\" width=\"4.854%\" x=\"20.573%\" y=\"83.0%\" /><rect fill=\"white\" height=\"4%\" stroke=\"black\" width=\"3.236%\" x=\"57.382%\" y=\"91.0%\" /><rect fill=\"white\" height=\"4%\" stroke=\"black\" width=\"1.618%\" x=\"58.191%\" y=\"87.0%\" /></svg>"
      ],
      "text/plain": [
       "<planning.planning.State at 0x7f6008166ac8>"
      ]
     },
     "metadata": {},
     "output_type": "display_data"
    },
    {
     "name": "stdout",
     "output_type": "stream",
     "text": [
      "step 4\n"
     ]
    },
    {
     "data": {
      "image/svg+xml": [
       "<svg baseProfile=\"full\" height=\"200\" version=\"1.1\" width=\"500\" xmlns=\"http://www.w3.org/2000/svg\" xmlns:ev=\"http://www.w3.org/2001/xml-events\" xmlns:xlink=\"http://www.w3.org/1999/xlink\"><defs /><line stroke=\"black\" x1=\"5%\" x2=\"95%\" y1=\"95%\" y2=\"95%\" /><rect fill=\"white\" height=\"80%\" stroke=\"black\" width=\"1%\" x=\"22.5%\" y=\"15.0%\" /><rect fill=\"white\" height=\"80%\" stroke=\"black\" width=\"1%\" x=\"40.5%\" y=\"15.0%\" /><rect fill=\"white\" height=\"80%\" stroke=\"black\" width=\"1%\" x=\"58.5%\" y=\"15.0%\" /><rect fill=\"white\" height=\"80%\" stroke=\"black\" width=\"1%\" x=\"76.5%\" y=\"15.0%\" /><rect fill=\"white\" height=\"4%\" stroke=\"black\" width=\"8.09%\" x=\"18.955%\" y=\"91.0%\" /><rect fill=\"white\" height=\"4%\" stroke=\"black\" width=\"6.472%\" x=\"19.764%\" y=\"87.0%\" /><rect fill=\"white\" height=\"4%\" stroke=\"black\" width=\"3.236%\" x=\"57.382%\" y=\"91.0%\" /><rect fill=\"white\" height=\"4%\" stroke=\"black\" width=\"1.618%\" x=\"58.191%\" y=\"87.0%\" /><rect fill=\"white\" height=\"4%\" stroke=\"black\" width=\"4.854%\" x=\"74.573%\" y=\"91.0%\" /></svg>"
      ],
      "text/plain": [
       "<planning.planning.State at 0x7f600816bef0>"
      ]
     },
     "metadata": {},
     "output_type": "display_data"
    },
    {
     "name": "stdout",
     "output_type": "stream",
     "text": [
      "step 5\n"
     ]
    },
    {
     "data": {
      "image/svg+xml": [
       "<svg baseProfile=\"full\" height=\"200\" version=\"1.1\" width=\"500\" xmlns=\"http://www.w3.org/2000/svg\" xmlns:ev=\"http://www.w3.org/2001/xml-events\" xmlns:xlink=\"http://www.w3.org/1999/xlink\"><defs /><line stroke=\"black\" x1=\"5%\" x2=\"95%\" y1=\"95%\" y2=\"95%\" /><rect fill=\"white\" height=\"80%\" stroke=\"black\" width=\"1%\" x=\"22.5%\" y=\"15.0%\" /><rect fill=\"white\" height=\"80%\" stroke=\"black\" width=\"1%\" x=\"40.5%\" y=\"15.0%\" /><rect fill=\"white\" height=\"80%\" stroke=\"black\" width=\"1%\" x=\"58.5%\" y=\"15.0%\" /><rect fill=\"white\" height=\"80%\" stroke=\"black\" width=\"1%\" x=\"76.5%\" y=\"15.0%\" /><rect fill=\"white\" height=\"4%\" stroke=\"black\" width=\"8.09%\" x=\"18.955%\" y=\"91.0%\" /><rect fill=\"white\" height=\"4%\" stroke=\"black\" width=\"6.472%\" x=\"37.764%\" y=\"91.0%\" /><rect fill=\"white\" height=\"4%\" stroke=\"black\" width=\"3.236%\" x=\"57.382%\" y=\"91.0%\" /><rect fill=\"white\" height=\"4%\" stroke=\"black\" width=\"1.618%\" x=\"58.191%\" y=\"87.0%\" /><rect fill=\"white\" height=\"4%\" stroke=\"black\" width=\"4.854%\" x=\"74.573%\" y=\"91.0%\" /></svg>"
      ],
      "text/plain": [
       "<planning.planning.State at 0x7f6008bab4e0>"
      ]
     },
     "metadata": {},
     "output_type": "display_data"
    },
    {
     "name": "stdout",
     "output_type": "stream",
     "text": [
      "step 6\n"
     ]
    },
    {
     "data": {
      "image/svg+xml": [
       "<svg baseProfile=\"full\" height=\"200\" version=\"1.1\" width=\"500\" xmlns=\"http://www.w3.org/2000/svg\" xmlns:ev=\"http://www.w3.org/2001/xml-events\" xmlns:xlink=\"http://www.w3.org/1999/xlink\"><defs /><line stroke=\"black\" x1=\"5%\" x2=\"95%\" y1=\"95%\" y2=\"95%\" /><rect fill=\"white\" height=\"80%\" stroke=\"black\" width=\"1%\" x=\"22.5%\" y=\"15.0%\" /><rect fill=\"white\" height=\"80%\" stroke=\"black\" width=\"1%\" x=\"40.5%\" y=\"15.0%\" /><rect fill=\"white\" height=\"80%\" stroke=\"black\" width=\"1%\" x=\"58.5%\" y=\"15.0%\" /><rect fill=\"white\" height=\"80%\" stroke=\"black\" width=\"1%\" x=\"76.5%\" y=\"15.0%\" /><rect fill=\"white\" height=\"4%\" stroke=\"black\" width=\"8.09%\" x=\"18.955%\" y=\"91.0%\" /><rect fill=\"white\" height=\"4%\" stroke=\"black\" width=\"6.472%\" x=\"37.764%\" y=\"91.0%\" /><rect fill=\"white\" height=\"4%\" stroke=\"black\" width=\"4.854%\" x=\"38.573%\" y=\"87.0%\" /><rect fill=\"white\" height=\"4%\" stroke=\"black\" width=\"3.236%\" x=\"57.382%\" y=\"91.0%\" /><rect fill=\"white\" height=\"4%\" stroke=\"black\" width=\"1.618%\" x=\"58.191%\" y=\"87.0%\" /></svg>"
      ],
      "text/plain": [
       "<planning.planning.State at 0x7f60081cab38>"
      ]
     },
     "metadata": {},
     "output_type": "display_data"
    },
    {
     "name": "stdout",
     "output_type": "stream",
     "text": [
      "step 7\n"
     ]
    },
    {
     "data": {
      "image/svg+xml": [
       "<svg baseProfile=\"full\" height=\"200\" version=\"1.1\" width=\"500\" xmlns=\"http://www.w3.org/2000/svg\" xmlns:ev=\"http://www.w3.org/2001/xml-events\" xmlns:xlink=\"http://www.w3.org/1999/xlink\"><defs /><line stroke=\"black\" x1=\"5%\" x2=\"95%\" y1=\"95%\" y2=\"95%\" /><rect fill=\"white\" height=\"80%\" stroke=\"black\" width=\"1%\" x=\"22.5%\" y=\"15.0%\" /><rect fill=\"white\" height=\"80%\" stroke=\"black\" width=\"1%\" x=\"40.5%\" y=\"15.0%\" /><rect fill=\"white\" height=\"80%\" stroke=\"black\" width=\"1%\" x=\"58.5%\" y=\"15.0%\" /><rect fill=\"white\" height=\"80%\" stroke=\"black\" width=\"1%\" x=\"76.5%\" y=\"15.0%\" /><rect fill=\"white\" height=\"4%\" stroke=\"black\" width=\"6.472%\" x=\"37.764%\" y=\"91.0%\" /><rect fill=\"white\" height=\"4%\" stroke=\"black\" width=\"4.854%\" x=\"38.573%\" y=\"87.0%\" /><rect fill=\"white\" height=\"4%\" stroke=\"black\" width=\"3.236%\" x=\"57.382%\" y=\"91.0%\" /><rect fill=\"white\" height=\"4%\" stroke=\"black\" width=\"1.618%\" x=\"58.191%\" y=\"87.0%\" /><rect fill=\"white\" height=\"4%\" stroke=\"black\" width=\"8.09%\" x=\"72.955%\" y=\"91.0%\" /></svg>"
      ],
      "text/plain": [
       "<planning.planning.State at 0x7f60080d25f8>"
      ]
     },
     "metadata": {},
     "output_type": "display_data"
    },
    {
     "name": "stdout",
     "output_type": "stream",
     "text": [
      "step 8\n"
     ]
    },
    {
     "data": {
      "image/svg+xml": [
       "<svg baseProfile=\"full\" height=\"200\" version=\"1.1\" width=\"500\" xmlns=\"http://www.w3.org/2000/svg\" xmlns:ev=\"http://www.w3.org/2001/xml-events\" xmlns:xlink=\"http://www.w3.org/1999/xlink\"><defs /><line stroke=\"black\" x1=\"5%\" x2=\"95%\" y1=\"95%\" y2=\"95%\" /><rect fill=\"white\" height=\"80%\" stroke=\"black\" width=\"1%\" x=\"22.5%\" y=\"15.0%\" /><rect fill=\"white\" height=\"80%\" stroke=\"black\" width=\"1%\" x=\"40.5%\" y=\"15.0%\" /><rect fill=\"white\" height=\"80%\" stroke=\"black\" width=\"1%\" x=\"58.5%\" y=\"15.0%\" /><rect fill=\"white\" height=\"80%\" stroke=\"black\" width=\"1%\" x=\"76.5%\" y=\"15.0%\" /><rect fill=\"white\" height=\"4%\" stroke=\"black\" width=\"4.854%\" x=\"20.573%\" y=\"91.0%\" /><rect fill=\"white\" height=\"4%\" stroke=\"black\" width=\"6.472%\" x=\"37.764%\" y=\"91.0%\" /><rect fill=\"white\" height=\"4%\" stroke=\"black\" width=\"3.236%\" x=\"57.382%\" y=\"91.0%\" /><rect fill=\"white\" height=\"4%\" stroke=\"black\" width=\"1.618%\" x=\"58.191%\" y=\"87.0%\" /><rect fill=\"white\" height=\"4%\" stroke=\"black\" width=\"8.09%\" x=\"72.955%\" y=\"91.0%\" /></svg>"
      ],
      "text/plain": [
       "<planning.planning.State at 0x7f60080d9048>"
      ]
     },
     "metadata": {},
     "output_type": "display_data"
    },
    {
     "name": "stdout",
     "output_type": "stream",
     "text": [
      "step 9\n"
     ]
    },
    {
     "data": {
      "image/svg+xml": [
       "<svg baseProfile=\"full\" height=\"200\" version=\"1.1\" width=\"500\" xmlns=\"http://www.w3.org/2000/svg\" xmlns:ev=\"http://www.w3.org/2001/xml-events\" xmlns:xlink=\"http://www.w3.org/1999/xlink\"><defs /><line stroke=\"black\" x1=\"5%\" x2=\"95%\" y1=\"95%\" y2=\"95%\" /><rect fill=\"white\" height=\"80%\" stroke=\"black\" width=\"1%\" x=\"22.5%\" y=\"15.0%\" /><rect fill=\"white\" height=\"80%\" stroke=\"black\" width=\"1%\" x=\"40.5%\" y=\"15.0%\" /><rect fill=\"white\" height=\"80%\" stroke=\"black\" width=\"1%\" x=\"58.5%\" y=\"15.0%\" /><rect fill=\"white\" height=\"80%\" stroke=\"black\" width=\"1%\" x=\"76.5%\" y=\"15.0%\" /><rect fill=\"white\" height=\"4%\" stroke=\"black\" width=\"4.854%\" x=\"20.573%\" y=\"91.0%\" /><rect fill=\"white\" height=\"4%\" stroke=\"black\" width=\"3.236%\" x=\"57.382%\" y=\"91.0%\" /><rect fill=\"white\" height=\"4%\" stroke=\"black\" width=\"1.618%\" x=\"58.191%\" y=\"87.0%\" /><rect fill=\"white\" height=\"4%\" stroke=\"black\" width=\"8.09%\" x=\"72.955%\" y=\"91.0%\" /><rect fill=\"white\" height=\"4%\" stroke=\"black\" width=\"6.472%\" x=\"73.764%\" y=\"87.0%\" /></svg>"
      ],
      "text/plain": [
       "<planning.planning.State at 0x7f60080e17b8>"
      ]
     },
     "metadata": {},
     "output_type": "display_data"
    },
    {
     "name": "stdout",
     "output_type": "stream",
     "text": [
      "step 10\n"
     ]
    },
    {
     "data": {
      "image/svg+xml": [
       "<svg baseProfile=\"full\" height=\"200\" version=\"1.1\" width=\"500\" xmlns=\"http://www.w3.org/2000/svg\" xmlns:ev=\"http://www.w3.org/2001/xml-events\" xmlns:xlink=\"http://www.w3.org/1999/xlink\"><defs /><line stroke=\"black\" x1=\"5%\" x2=\"95%\" y1=\"95%\" y2=\"95%\" /><rect fill=\"white\" height=\"80%\" stroke=\"black\" width=\"1%\" x=\"22.5%\" y=\"15.0%\" /><rect fill=\"white\" height=\"80%\" stroke=\"black\" width=\"1%\" x=\"40.5%\" y=\"15.0%\" /><rect fill=\"white\" height=\"80%\" stroke=\"black\" width=\"1%\" x=\"58.5%\" y=\"15.0%\" /><rect fill=\"white\" height=\"80%\" stroke=\"black\" width=\"1%\" x=\"76.5%\" y=\"15.0%\" /><rect fill=\"white\" height=\"4%\" stroke=\"black\" width=\"4.854%\" x=\"20.573%\" y=\"91.0%\" /><rect fill=\"white\" height=\"4%\" stroke=\"black\" width=\"1.618%\" x=\"40.191%\" y=\"91.0%\" /><rect fill=\"white\" height=\"4%\" stroke=\"black\" width=\"3.236%\" x=\"57.382%\" y=\"91.0%\" /><rect fill=\"white\" height=\"4%\" stroke=\"black\" width=\"8.09%\" x=\"72.955%\" y=\"91.0%\" /><rect fill=\"white\" height=\"4%\" stroke=\"black\" width=\"6.472%\" x=\"73.764%\" y=\"87.0%\" /></svg>"
      ],
      "text/plain": [
       "<planning.planning.State at 0x7f60080e1748>"
      ]
     },
     "metadata": {},
     "output_type": "display_data"
    },
    {
     "name": "stdout",
     "output_type": "stream",
     "text": [
      "step 11\n"
     ]
    },
    {
     "data": {
      "image/svg+xml": [
       "<svg baseProfile=\"full\" height=\"200\" version=\"1.1\" width=\"500\" xmlns=\"http://www.w3.org/2000/svg\" xmlns:ev=\"http://www.w3.org/2001/xml-events\" xmlns:xlink=\"http://www.w3.org/1999/xlink\"><defs /><line stroke=\"black\" x1=\"5%\" x2=\"95%\" y1=\"95%\" y2=\"95%\" /><rect fill=\"white\" height=\"80%\" stroke=\"black\" width=\"1%\" x=\"22.5%\" y=\"15.0%\" /><rect fill=\"white\" height=\"80%\" stroke=\"black\" width=\"1%\" x=\"40.5%\" y=\"15.0%\" /><rect fill=\"white\" height=\"80%\" stroke=\"black\" width=\"1%\" x=\"58.5%\" y=\"15.0%\" /><rect fill=\"white\" height=\"80%\" stroke=\"black\" width=\"1%\" x=\"76.5%\" y=\"15.0%\" /><rect fill=\"white\" height=\"4%\" stroke=\"black\" width=\"1.618%\" x=\"40.191%\" y=\"91.0%\" /><rect fill=\"white\" height=\"4%\" stroke=\"black\" width=\"3.236%\" x=\"57.382%\" y=\"91.0%\" /><rect fill=\"white\" height=\"4%\" stroke=\"black\" width=\"8.09%\" x=\"72.955%\" y=\"91.0%\" /><rect fill=\"white\" height=\"4%\" stroke=\"black\" width=\"6.472%\" x=\"73.764%\" y=\"87.0%\" /><rect fill=\"white\" height=\"4%\" stroke=\"black\" width=\"4.854%\" x=\"74.573%\" y=\"83.0%\" /></svg>"
      ],
      "text/plain": [
       "<planning.planning.State at 0x7f60080f44a8>"
      ]
     },
     "metadata": {},
     "output_type": "display_data"
    },
    {
     "name": "stdout",
     "output_type": "stream",
     "text": [
      "step 12\n"
     ]
    },
    {
     "data": {
      "image/svg+xml": [
       "<svg baseProfile=\"full\" height=\"200\" version=\"1.1\" width=\"500\" xmlns=\"http://www.w3.org/2000/svg\" xmlns:ev=\"http://www.w3.org/2001/xml-events\" xmlns:xlink=\"http://www.w3.org/1999/xlink\"><defs /><line stroke=\"black\" x1=\"5%\" x2=\"95%\" y1=\"95%\" y2=\"95%\" /><rect fill=\"white\" height=\"80%\" stroke=\"black\" width=\"1%\" x=\"22.5%\" y=\"15.0%\" /><rect fill=\"white\" height=\"80%\" stroke=\"black\" width=\"1%\" x=\"40.5%\" y=\"15.0%\" /><rect fill=\"white\" height=\"80%\" stroke=\"black\" width=\"1%\" x=\"58.5%\" y=\"15.0%\" /><rect fill=\"white\" height=\"80%\" stroke=\"black\" width=\"1%\" x=\"76.5%\" y=\"15.0%\" /><rect fill=\"white\" height=\"4%\" stroke=\"black\" width=\"1.618%\" x=\"40.191%\" y=\"91.0%\" /><rect fill=\"white\" height=\"4%\" stroke=\"black\" width=\"8.09%\" x=\"72.955%\" y=\"91.0%\" /><rect fill=\"white\" height=\"4%\" stroke=\"black\" width=\"6.472%\" x=\"73.764%\" y=\"87.0%\" /><rect fill=\"white\" height=\"4%\" stroke=\"black\" width=\"4.854%\" x=\"74.573%\" y=\"83.0%\" /><rect fill=\"white\" height=\"4%\" stroke=\"black\" width=\"3.236%\" x=\"75.382%\" y=\"79.0%\" /></svg>"
      ],
      "text/plain": [
       "<planning.planning.State at 0x7f60080f4828>"
      ]
     },
     "metadata": {},
     "output_type": "display_data"
    },
    {
     "name": "stdout",
     "output_type": "stream",
     "text": [
      "step 13\n"
     ]
    },
    {
     "data": {
      "image/svg+xml": [
       "<svg baseProfile=\"full\" height=\"200\" version=\"1.1\" width=\"500\" xmlns=\"http://www.w3.org/2000/svg\" xmlns:ev=\"http://www.w3.org/2001/xml-events\" xmlns:xlink=\"http://www.w3.org/1999/xlink\"><defs /><line stroke=\"black\" x1=\"5%\" x2=\"95%\" y1=\"95%\" y2=\"95%\" /><rect fill=\"white\" height=\"80%\" stroke=\"black\" width=\"1%\" x=\"22.5%\" y=\"15.0%\" /><rect fill=\"white\" height=\"80%\" stroke=\"black\" width=\"1%\" x=\"40.5%\" y=\"15.0%\" /><rect fill=\"white\" height=\"80%\" stroke=\"black\" width=\"1%\" x=\"58.5%\" y=\"15.0%\" /><rect fill=\"white\" height=\"80%\" stroke=\"black\" width=\"1%\" x=\"76.5%\" y=\"15.0%\" /><rect fill=\"white\" height=\"4%\" stroke=\"black\" width=\"8.09%\" x=\"72.955%\" y=\"91.0%\" /><rect fill=\"white\" height=\"4%\" stroke=\"black\" width=\"6.472%\" x=\"73.764%\" y=\"87.0%\" /><rect fill=\"white\" height=\"4%\" stroke=\"black\" width=\"4.854%\" x=\"74.573%\" y=\"83.0%\" /><rect fill=\"white\" height=\"4%\" stroke=\"black\" width=\"3.236%\" x=\"75.382%\" y=\"79.0%\" /><rect fill=\"white\" height=\"4%\" stroke=\"black\" width=\"1.618%\" x=\"76.191%\" y=\"75.0%\" /></svg>"
      ],
      "text/plain": [
       "<planning.planning.State at 0x7f60080f4438>"
      ]
     },
     "metadata": {},
     "output_type": "display_data"
    }
   ],
   "source": [
    "bfs = planning.BreadthFirstSearch(problem, verbose=1, timeout=30.0, node_bound=None)\n",
    "status = bfs()\n",
    "if status == planning.search.FOUND:\n",
    "    plan = bfs.plan()\n",
    "    state_sequence = bfs.state_sequence()\n",
    "    print(\"#Generated nodes: \" + str(bfs.info()[\"generated\"]))\n",
    "    if len(plan) < 15:\n",
    "        print(\"Plan:\\n  \" + \"\\n  \".join([str(op) for op in bfs.plan()]))\n",
    "        for i, state in enumerate(bfs.state_sequence()):\n",
    "            print(\"step \" + str(i))\n",
    "            display(state)"
   ]
  },
  {
   "cell_type": "markdown",
   "metadata": {},
   "source": [
    "Let us apply IDS now:"
   ]
  },
  {
   "cell_type": "code",
   "execution_count": 16,
   "metadata": {
    "scrolled": false
   },
   "outputs": [
    {
     "name": "stdout",
     "output_type": "stream",
     "text": [
      "[0.001s] Trying depth 1...\n",
      "[0.001s] Trying depth 2...\n",
      "[0.002s] Trying depth 3...\n",
      "[0.005s] Trying depth 4...\n",
      "[0.019s] Trying depth 5...\n",
      "[0.067s] Trying depth 6...\n",
      "[0.256s] Trying depth 7...\n",
      "[1.046s] Trying depth 8...\n",
      "[4.379s] Trying depth 9...\n",
      "[18.942s] Trying depth 10...\n",
      "[30.004s] Timeout\n",
      "[30.004s] Could not find solution\n"
     ]
    }
   ],
   "source": [
    "ids = planning.IterativeDeepeningSearch(problem, verbose=1, timeout=30.0)\n",
    "status = ids()\n",
    "if status == planning.search.FOUND:\n",
    "    plan = ids.plan()\n",
    "    state_sequence = ids.state_sequence()\n",
    "    if len(plan) < 10:\n",
    "        print(\"Plan:\\n  \" + \"\\n  \".join([str(op) for op in ids.plan()]))\n",
    "        for i, state in enumerate(ids.state_sequence()):\n",
    "            print(\"step \" + str(i))\n",
    "            display(state)"
   ]
  },
  {
   "cell_type": "markdown",
   "metadata": {},
   "source": [
    "Now, let us apply heuristic search. We have implemented a generic Best First Search algorithm that accepts any heuristic and uses it to guide the search. We have implemented the following heuristics:\n",
    "- Goal counting heuristic\n",
    "- Relaxed goal counting heuristic\n",
    "- Novelty-based heuristics\n",
    "- Additive heuristic ($ h_{add} $)\n",
    "- Relaxed planning graph heuristic (equivalent to $ h_{max} $)\n",
    "\n",
    "We can combine these heuristics to achieve certain behaviour. For instance, we can use a linear combination of the accumulated cost and the novelty or additive heuristic to get the $\\epsilon-A*$ (epsilon A-star) behaviour. The improvement with respect to the blind search is evident:"
   ]
  },
  {
   "cell_type": "code",
   "execution_count": 9,
   "metadata": {
    "scrolled": false
   },
   "outputs": [
    {
     "name": "stdout",
     "output_type": "stream",
     "text": [
      "[0.090s] Plan found with 13 action(s)\n",
      "#Generated nodes: 82\n"
     ]
    }
   ],
   "source": [
    "g = planning.heuristics.AccumulatedCost()\n",
    "hadd = planning.heuristics.AdditiveHeuristic()\n",
    "rpg = planning.heuristics.RelaxedPlanningGraphHeuristic()\n",
    "hlinear = planning.heuristics.LinearCombination([g, hadd], (1, 5)) # 5 A-star with additive heuristic\n",
    "h = planning.heuristics.ConcatenateHeuristic([hlinear, hadd])\n",
    "\n",
    "bfs = planning.BestFirstSearch(problem, verbose=1, timeout=300.0, node_bound=20000,\n",
    "                               heuristic=h, close_forever=False)\n",
    "bfs()\n",
    "plan = bfs.plan()\n",
    "state_sequence = bfs.state_sequence()\n",
    "print(\"#Generated nodes: \" + str(bfs.info()[\"generated\"]))\n",
    "if len(plan) < 10:\n",
    "    print(\"Plan:\\n  \" + \"\\n  \".join([str(op) for op in bfs.plan()]))\n",
    "    for i, state in enumerate(bfs.state_sequence()):\n",
    "        print(\"step \" + str(i))\n",
    "        display(state)"
   ]
  },
  {
   "cell_type": "markdown",
   "metadata": {},
   "source": [
    "Now let us generate a bunch of problems and store their heuristic values. We will also store the optimum plan length for all these states."
   ]
  },
  {
   "cell_type": "code",
   "execution_count": 34,
   "metadata": {},
   "outputs": [
    {
     "data": {
      "application/vnd.jupyter.widget-view+json": {
       "model_id": "b30840a2d4fd4bb9a8c145337d86fa3e"
      }
     },
     "metadata": {},
     "output_type": "display_data"
    },
    {
     "name": "stdout",
     "output_type": "stream",
     "text": [
      "\n"
     ]
    }
   ],
   "source": [
    "import random\n",
    "import tqdm\n",
    "import numpy as np\n",
    "import os\n",
    "\n",
    "random.seed(42)\n",
    "\n",
    "m = 4 # 4-peg Hanoi towers\n",
    "\n",
    "load = False\n",
    "\n",
    "datadir = os.path.join(\"data\", \"hanoi\", str(m))\n",
    "\n",
    "try:\n",
    "    os.makedirs(datadir)\n",
    "except OSError:\n",
    "    pass\n",
    "\n",
    "X_file = os.path.join(datadir, \"X.npy\")\n",
    "y_file = os.path.join(datadir, \"y.npy\")\n",
    "\n",
    "if load:\n",
    "    X = np.load(X_file)\n",
    "    y = np.load(y_file)\n",
    "else:\n",
    "\n",
    "    X = []\n",
    "    y = []\n",
    "\n",
    "    N = 100\n",
    "\n",
    "    generated = set()\n",
    "    \n",
    "    # Available heuristics:\n",
    "    # \"add()\", \"ff()\", \"cg()\", \"lmcut()\", \"cegar()\", \n",
    "    # \"hmax()\", \"cpdbs()\", \"cea()\", \"zopdbs()\", \"goalcount()\"\n",
    "#     fd = planning.heuristics.FDHeuristic(domain, \"add()\", \"ff()\", \"cg()\", \"lmcut()\", \"cegar()\",\n",
    "#                                          \"hmax()\", \"cpdbs()\", \"goalcount()\")\n",
    "    fd = planning.heuristics.FDHeuristic(domain, \"add()\", \"ff()\", \"cg()\", \"lmcut()\", \"cegar()\")\n",
    "\n",
    "    for _ in tqdm.tqdm_notebook(range(N)):\n",
    "        while True:\n",
    "            n = random.randint(3, 5)\n",
    "    #         m = random.randint(3, 4)\n",
    "            problem = domain.generate_problem(n, m, random=True)\n",
    "            if not problem.trivial() and (problem.init(), problem.goal()) not in generated:\n",
    "                break\n",
    "        bfs = planning.BreadthFirstSearch(problem, verbose=0, timeout=300.0, node_bound=None)\n",
    "        status = bfs()\n",
    "        if status == planning.search.FOUND:\n",
    "            plan_len = len(bfs.plan())\n",
    "            for i, state in enumerate(bfs.state_sequence()):\n",
    "                generated.add((state, problem.goal()))\n",
    "                X.append(fd.h(state, problem.goal()))\n",
    "                y.append(plan_len - i)\n",
    "\n",
    "    X = np.array(X)\n",
    "    y = np.array(y)\n",
    "    \n",
    "    np.save(X_file, X)\n",
    "    np.save(y_file, y)\n",
    "    "
   ]
  },
  {
   "cell_type": "code",
   "execution_count": 35,
   "metadata": {
    "scrolled": false
   },
   "outputs": [
    {
     "name": "stdout",
     "output_type": "stream",
     "text": [
      "#Instances: 584\n"
     ]
    },
    {
     "data": {
      "image/png": "[encoded data removed]",
      "text/plain": [
       "<matplotlib.figure.Figure at 0x7f2ca163f908>"
      ]
     },
     "metadata": {},
     "output_type": "display_data"
    }
   ],
   "source": [
    "import matplotlib as mlp\n",
    "%matplotlib inline\n",
    "plt = mlp.pyplot\n",
    "plt.rcParams[\"figure.figsize\"] = [11, 6]\n",
    "mlp.rcParams[\"figure.dpi\"] = 72\n",
    "\n",
    "print(\"#Instances: \" + str(X.shape[0]))\n",
    "\n",
    "plt.subplot(2, 3, 1)\n",
    "plt.scatter(X[:,0], X[:,1])\n",
    "plt.grid(\"on\")\n",
    "plt.xlabel(\"additive heuristic\")\n",
    "plt.ylabel(\"ff heuristic\")\n",
    "plt.title(\"Additive vs FF heuristic\")\n",
    "\n",
    "plt.subplot(2, 3, 2)\n",
    "plt.scatter(X[:,1], X[:,2])\n",
    "plt.grid(\"on\")\n",
    "plt.xlabel(\"FF heuristic\")\n",
    "plt.ylabel(\"Causal Graph heuristic\")\n",
    "plt.title(\"FF vs Causal Graph heuristic\")\n",
    "\n",
    "plt.subplot(2, 3, 3)\n",
    "plt.scatter(X[:,1], y)\n",
    "plt.grid(\"on\")\n",
    "plt.xlabel(\"FF heuristic\")\n",
    "plt.ylabel(\"h*\")\n",
    "plt.title(\"FF heuristic vs Optimal plan length\")\n",
    "\n",
    "plt.subplot(2, 3, 4)\n",
    "plt.scatter(X[:,0], y)\n",
    "plt.grid(\"on\")\n",
    "plt.xlabel(\"Additive heuristic\")\n",
    "plt.ylabel(\"h*\")\n",
    "plt.title(\"Additive heuristic vs Optimal plan length\")\n",
    "\n",
    "plt.subplot(2, 3, 5)\n",
    "plt.scatter(X[:,2], y)\n",
    "plt.grid(\"on\")\n",
    "plt.xlabel(\"Causal Graph heuristic\")\n",
    "plt.ylabel(\"h*\")\n",
    "plt.title(\"Causal Graph heuristic vs Optimal plan length\")\n",
    "\n",
    "plt.subplot(2, 3, 6)\n",
    "plt.scatter(X[:,-2], y)\n",
    "plt.grid(\"on\")\n",
    "plt.xlabel(\"Canonical PDB\")\n",
    "plt.ylabel(\"h*\")\n",
    "plt.title(\"Canonical PDB vs Optimal plan length\")\n",
    "\n",
    "plt.tight_layout()\n",
    "plt.show()"
   ]
  },
  {
   "cell_type": "code",
   "execution_count": 36,
   "metadata": {},
   "outputs": [
    {
     "data": {
      "image/png": "[encoded data removed]",
      "text/plain": [
       "<matplotlib.figure.Figure at 0x7f2ca13ec358>"
      ]
     },
     "metadata": {},
     "output_type": "display_data"
    }
   ],
   "source": [
    "from scipy.linalg import sqrtm\n",
    "\n",
    "X_ = X - np.mean(X, 0)\n",
    "\n",
    "V = np.matrix(np.cov(X_.T))\n",
    "VI = np.linalg.inv(V)\n",
    "\n",
    "VI_sqrt = sqrtm(VI)\n",
    "\n",
    "X_ = np.matmul(X_, VI_sqrt)\n",
    "\n",
    "plt.figure(figsize=(6,3))\n",
    "plt.scatter(X_[:,0], X_[:,1])\n",
    "plt.grid(\"on\")\n",
    "plt.xlabel(\"additive heuristic\")\n",
    "plt.ylabel(\"ff heuristic\")\n",
    "plt.title(\"Additive vs FF heuristic (after whitening transform)\")\n",
    "plt.show()"
   ]
  },
  {
   "cell_type": "code",
   "execution_count": 37,
   "metadata": {},
   "outputs": [
    {
     "name": "stdout",
     "output_type": "stream",
     "text": [
      "RMS error: 0.52\n",
      "Ranking error (KNN): 2.28%\n",
      "Ranking error (hadd): 4.65%\n"
     ]
    }
   ],
   "source": [
    "from scipy.linalg import sqrtm\n",
    "\n",
    "from sklearn import neighbors\n",
    "from sklearn.model_selection import cross_val_score\n",
    "\n",
    "\n",
    "dist = neighbors.DistanceMetric.get_metric(\"mahalanobis\", VI=VI)\n",
    "\n",
    "psplit = 0.8\n",
    "\n",
    "n = X.shape[0]\n",
    "n_train = int(n*psplit)\n",
    "n_test = n - n_train\n",
    "\n",
    "# weights = [1,1,1,1,1,1,1,1]\n",
    "\n",
    "X_train = X[:n_train,:]\n",
    "y_train = y[:n_train]\n",
    "\n",
    "# V = np.matrix(np.cov(X_train.T))\n",
    "# VI_sqrt = sqrtm(V.I)\n",
    "\n",
    "# X_train = np.matmul(X_train, VI_sqrt)*weights\n",
    "\n",
    "X_test = X[n_train:,:]\n",
    "# X_test = np.matmul(X[n_train:, columns], VI_sqrt)*weights\n",
    "y_test = y[n_train:]\n",
    "\n",
    "knn = neighbors.KNeighborsRegressor(4, weights=\"distance\")\n",
    "\n",
    "knn.fit(X_train, y_train)\n",
    "\n",
    "y_ = knn.predict(X_test)\n",
    "\n",
    "# print(y_test[10:20])\n",
    "# print(y_[10:20])\n",
    "# print(X_test[10:20,:])\n",
    "\n",
    "error = np.sqrt(np.sum((y_ - y_test)**2)/n_test)\n",
    "\n",
    "print(\"RMS error: {:.02}\".format(error))\n",
    "\n",
    "ranking_errors = 0\n",
    "ranking_errors_simple = 0\n",
    "\n",
    "for i in range(n_test):\n",
    "    for j in range(n_test):\n",
    "        y1, y1_ = y_test[i], y_[i]\n",
    "        y2, y2_ = y_test[j], y_[j]\n",
    "        x1, x2 = X_test[i,0], X_test[j,0]\n",
    "        if y1 < y2 and y1_ >= y2_:\n",
    "            ranking_errors += 1\n",
    "        elif y1 > y2 and y1_ <= y2_:\n",
    "            ranking_errors += 1\n",
    "        if y1 < y2 and x1 >= x2:\n",
    "            ranking_errors_simple += 1\n",
    "        elif y1 > y2 and x1 <= x2:\n",
    "            ranking_errors_simple += 1\n",
    "            \n",
    "print(\"Ranking error (KNN): {:.02f}%\".format(100*ranking_errors/(n_test*n_test)))\n",
    "print(\"Ranking error (hadd): {:.02f}%\".format(100*ranking_errors_simple/(n_test*n_test)))\n",
    "\n",
    "# print(cross_val_score(knn, X_, y, cv=10, scoring=\"r2\"))"
   ]
  },
  {
   "cell_type": "code",
   "execution_count": 32,
   "metadata": {
    "scrolled": true
   },
   "outputs": [
    {
     "name": "stdout",
     "output_type": "stream",
     "text": [
      "[0.817s] Plan found with 9 action(s)\n",
      "#Generated nodes: 134\n",
      "Plan:\n",
      "  move(disk01,disk02,peg2)\n",
      "  move(disk02,disk03,peg3)\n",
      "  move(disk01,peg2,disk02)\n",
      "  move(disk03,disk04,peg2)\n",
      "  move(disk04,peg1,peg4)\n",
      "  move(disk03,peg2,disk04)\n",
      "  move(disk01,disk02,peg1)\n",
      "  move(disk02,peg3,disk03)\n",
      "  move(disk01,peg1,disk02)\n",
      "step 0\n"
     ]
    },
    {
     "data": {
      "image/svg+xml": [
       "<svg baseProfile=\"full\" height=\"200\" version=\"1.1\" width=\"500\" xmlns=\"http://www.w3.org/2000/svg\" xmlns:ev=\"http://www.w3.org/2001/xml-events\" xmlns:xlink=\"http://www.w3.org/1999/xlink\"><defs /><line stroke=\"black\" x1=\"5%\" x2=\"95%\" y1=\"95%\" y2=\"95%\" /><rect fill=\"white\" height=\"80%\" stroke=\"black\" width=\"1%\" x=\"22.5%\" y=\"15.0%\" /><rect fill=\"white\" height=\"80%\" stroke=\"black\" width=\"1%\" x=\"40.5%\" y=\"15.0%\" /><rect fill=\"white\" height=\"80%\" stroke=\"black\" width=\"1%\" x=\"58.5%\" y=\"15.0%\" /><rect fill=\"white\" height=\"80%\" stroke=\"black\" width=\"1%\" x=\"76.5%\" y=\"15.0%\" /><rect fill=\"white\" height=\"4%\" stroke=\"black\" width=\"6.472%\" x=\"19.764%\" y=\"91.0%\" /><rect fill=\"white\" height=\"4%\" stroke=\"black\" width=\"4.854%\" x=\"20.573%\" y=\"87.0%\" /><rect fill=\"white\" height=\"4%\" stroke=\"black\" width=\"3.236%\" x=\"21.382%\" y=\"83.0%\" /><rect fill=\"white\" height=\"4%\" stroke=\"black\" width=\"1.618%\" x=\"22.191%\" y=\"79.0%\" /></svg>"
      ],
      "text/plain": [
       "<planning.planning.State at 0x7f2ca14b7e48>"
      ]
     },
     "metadata": {},
     "output_type": "display_data"
    },
    {
     "name": "stdout",
     "output_type": "stream",
     "text": [
      "step 1\n"
     ]
    },
    {
     "data": {
      "image/svg+xml": [
       "<svg baseProfile=\"full\" height=\"200\" version=\"1.1\" width=\"500\" xmlns=\"http://www.w3.org/2000/svg\" xmlns:ev=\"http://www.w3.org/2001/xml-events\" xmlns:xlink=\"http://www.w3.org/1999/xlink\"><defs /><line stroke=\"black\" x1=\"5%\" x2=\"95%\" y1=\"95%\" y2=\"95%\" /><rect fill=\"white\" height=\"80%\" stroke=\"black\" width=\"1%\" x=\"22.5%\" y=\"15.0%\" /><rect fill=\"white\" height=\"80%\" stroke=\"black\" width=\"1%\" x=\"40.5%\" y=\"15.0%\" /><rect fill=\"white\" height=\"80%\" stroke=\"black\" width=\"1%\" x=\"58.5%\" y=\"15.0%\" /><rect fill=\"white\" height=\"80%\" stroke=\"black\" width=\"1%\" x=\"76.5%\" y=\"15.0%\" /><rect fill=\"white\" height=\"4%\" stroke=\"black\" width=\"6.472%\" x=\"19.764%\" y=\"91.0%\" /><rect fill=\"white\" height=\"4%\" stroke=\"black\" width=\"4.854%\" x=\"20.573%\" y=\"87.0%\" /><rect fill=\"white\" height=\"4%\" stroke=\"black\" width=\"3.236%\" x=\"21.382%\" y=\"83.0%\" /><rect fill=\"white\" height=\"4%\" stroke=\"black\" width=\"1.618%\" x=\"40.191%\" y=\"91.0%\" /></svg>"
      ],
      "text/plain": [
       "<planning.planning.State at 0x7f2ca13998d0>"
      ]
     },
     "metadata": {},
     "output_type": "display_data"
    },
    {
     "name": "stdout",
     "output_type": "stream",
     "text": [
      "step 2\n"
     ]
    },
    {
     "data": {
      "image/svg+xml": [
       "<svg baseProfile=\"full\" height=\"200\" version=\"1.1\" width=\"500\" xmlns=\"http://www.w3.org/2000/svg\" xmlns:ev=\"http://www.w3.org/2001/xml-events\" xmlns:xlink=\"http://www.w3.org/1999/xlink\"><defs /><line stroke=\"black\" x1=\"5%\" x2=\"95%\" y1=\"95%\" y2=\"95%\" /><rect fill=\"white\" height=\"80%\" stroke=\"black\" width=\"1%\" x=\"22.5%\" y=\"15.0%\" /><rect fill=\"white\" height=\"80%\" stroke=\"black\" width=\"1%\" x=\"40.5%\" y=\"15.0%\" /><rect fill=\"white\" height=\"80%\" stroke=\"black\" width=\"1%\" x=\"58.5%\" y=\"15.0%\" /><rect fill=\"white\" height=\"80%\" stroke=\"black\" width=\"1%\" x=\"76.5%\" y=\"15.0%\" /><rect fill=\"white\" height=\"4%\" stroke=\"black\" width=\"6.472%\" x=\"19.764%\" y=\"91.0%\" /><rect fill=\"white\" height=\"4%\" stroke=\"black\" width=\"4.854%\" x=\"20.573%\" y=\"87.0%\" /><rect fill=\"white\" height=\"4%\" stroke=\"black\" width=\"1.618%\" x=\"40.191%\" y=\"91.0%\" /><rect fill=\"white\" height=\"4%\" stroke=\"black\" width=\"3.236%\" x=\"57.382%\" y=\"91.0%\" /></svg>"
      ],
      "text/plain": [
       "<planning.planning.State at 0x7f2ca1399cf8>"
      ]
     },
     "metadata": {},
     "output_type": "display_data"
    },
    {
     "name": "stdout",
     "output_type": "stream",
     "text": [
      "step 3\n"
     ]
    },
    {
     "data": {
      "image/svg+xml": [
       "<svg baseProfile=\"full\" height=\"200\" version=\"1.1\" width=\"500\" xmlns=\"http://www.w3.org/2000/svg\" xmlns:ev=\"http://www.w3.org/2001/xml-events\" xmlns:xlink=\"http://www.w3.org/1999/xlink\"><defs /><line stroke=\"black\" x1=\"5%\" x2=\"95%\" y1=\"95%\" y2=\"95%\" /><rect fill=\"white\" height=\"80%\" stroke=\"black\" width=\"1%\" x=\"22.5%\" y=\"15.0%\" /><rect fill=\"white\" height=\"80%\" stroke=\"black\" width=\"1%\" x=\"40.5%\" y=\"15.0%\" /><rect fill=\"white\" height=\"80%\" stroke=\"black\" width=\"1%\" x=\"58.5%\" y=\"15.0%\" /><rect fill=\"white\" height=\"80%\" stroke=\"black\" width=\"1%\" x=\"76.5%\" y=\"15.0%\" /><rect fill=\"white\" height=\"4%\" stroke=\"black\" width=\"6.472%\" x=\"19.764%\" y=\"91.0%\" /><rect fill=\"white\" height=\"4%\" stroke=\"black\" width=\"4.854%\" x=\"20.573%\" y=\"87.0%\" /><rect fill=\"white\" height=\"4%\" stroke=\"black\" width=\"3.236%\" x=\"57.382%\" y=\"91.0%\" /><rect fill=\"white\" height=\"4%\" stroke=\"black\" width=\"1.618%\" x=\"58.191%\" y=\"87.0%\" /></svg>"
      ],
      "text/plain": [
       "<planning.planning.State at 0x7f2ca11ad438>"
      ]
     },
     "metadata": {},
     "output_type": "display_data"
    },
    {
     "name": "stdout",
     "output_type": "stream",
     "text": [
      "step 4\n"
     ]
    },
    {
     "data": {
      "image/svg+xml": [
       "<svg baseProfile=\"full\" height=\"200\" version=\"1.1\" width=\"500\" xmlns=\"http://www.w3.org/2000/svg\" xmlns:ev=\"http://www.w3.org/2001/xml-events\" xmlns:xlink=\"http://www.w3.org/1999/xlink\"><defs /><line stroke=\"black\" x1=\"5%\" x2=\"95%\" y1=\"95%\" y2=\"95%\" /><rect fill=\"white\" height=\"80%\" stroke=\"black\" width=\"1%\" x=\"22.5%\" y=\"15.0%\" /><rect fill=\"white\" height=\"80%\" stroke=\"black\" width=\"1%\" x=\"40.5%\" y=\"15.0%\" /><rect fill=\"white\" height=\"80%\" stroke=\"black\" width=\"1%\" x=\"58.5%\" y=\"15.0%\" /><rect fill=\"white\" height=\"80%\" stroke=\"black\" width=\"1%\" x=\"76.5%\" y=\"15.0%\" /><rect fill=\"white\" height=\"4%\" stroke=\"black\" width=\"6.472%\" x=\"19.764%\" y=\"91.0%\" /><rect fill=\"white\" height=\"4%\" stroke=\"black\" width=\"4.854%\" x=\"38.573%\" y=\"91.0%\" /><rect fill=\"white\" height=\"4%\" stroke=\"black\" width=\"3.236%\" x=\"57.382%\" y=\"91.0%\" /><rect fill=\"white\" height=\"4%\" stroke=\"black\" width=\"1.618%\" x=\"58.191%\" y=\"87.0%\" /></svg>"
      ],
      "text/plain": [
       "<planning.planning.State at 0x7f2ca11c7c18>"
      ]
     },
     "metadata": {},
     "output_type": "display_data"
    },
    {
     "name": "stdout",
     "output_type": "stream",
     "text": [
      "step 5\n"
     ]
    },
    {
     "data": {
      "image/svg+xml": [
       "<svg baseProfile=\"full\" height=\"200\" version=\"1.1\" width=\"500\" xmlns=\"http://www.w3.org/2000/svg\" xmlns:ev=\"http://www.w3.org/2001/xml-events\" xmlns:xlink=\"http://www.w3.org/1999/xlink\"><defs /><line stroke=\"black\" x1=\"5%\" x2=\"95%\" y1=\"95%\" y2=\"95%\" /><rect fill=\"white\" height=\"80%\" stroke=\"black\" width=\"1%\" x=\"22.5%\" y=\"15.0%\" /><rect fill=\"white\" height=\"80%\" stroke=\"black\" width=\"1%\" x=\"40.5%\" y=\"15.0%\" /><rect fill=\"white\" height=\"80%\" stroke=\"black\" width=\"1%\" x=\"58.5%\" y=\"15.0%\" /><rect fill=\"white\" height=\"80%\" stroke=\"black\" width=\"1%\" x=\"76.5%\" y=\"15.0%\" /><rect fill=\"white\" height=\"4%\" stroke=\"black\" width=\"4.854%\" x=\"38.573%\" y=\"91.0%\" /><rect fill=\"white\" height=\"4%\" stroke=\"black\" width=\"3.236%\" x=\"57.382%\" y=\"91.0%\" /><rect fill=\"white\" height=\"4%\" stroke=\"black\" width=\"1.618%\" x=\"58.191%\" y=\"87.0%\" /><rect fill=\"white\" height=\"4%\" stroke=\"black\" width=\"6.472%\" x=\"73.764%\" y=\"91.0%\" /></svg>"
      ],
      "text/plain": [
       "<planning.planning.State at 0x7f2ca1527710>"
      ]
     },
     "metadata": {},
     "output_type": "display_data"
    },
    {
     "name": "stdout",
     "output_type": "stream",
     "text": [
      "step 6\n"
     ]
    },
    {
     "data": {
      "image/svg+xml": [
       "<svg baseProfile=\"full\" height=\"200\" version=\"1.1\" width=\"500\" xmlns=\"http://www.w3.org/2000/svg\" xmlns:ev=\"http://www.w3.org/2001/xml-events\" xmlns:xlink=\"http://www.w3.org/1999/xlink\"><defs /><line stroke=\"black\" x1=\"5%\" x2=\"95%\" y1=\"95%\" y2=\"95%\" /><rect fill=\"white\" height=\"80%\" stroke=\"black\" width=\"1%\" x=\"22.5%\" y=\"15.0%\" /><rect fill=\"white\" height=\"80%\" stroke=\"black\" width=\"1%\" x=\"40.5%\" y=\"15.0%\" /><rect fill=\"white\" height=\"80%\" stroke=\"black\" width=\"1%\" x=\"58.5%\" y=\"15.0%\" /><rect fill=\"white\" height=\"80%\" stroke=\"black\" width=\"1%\" x=\"76.5%\" y=\"15.0%\" /><rect fill=\"white\" height=\"4%\" stroke=\"black\" width=\"3.236%\" x=\"57.382%\" y=\"91.0%\" /><rect fill=\"white\" height=\"4%\" stroke=\"black\" width=\"1.618%\" x=\"58.191%\" y=\"87.0%\" /><rect fill=\"white\" height=\"4%\" stroke=\"black\" width=\"6.472%\" x=\"73.764%\" y=\"91.0%\" /><rect fill=\"white\" height=\"4%\" stroke=\"black\" width=\"4.854%\" x=\"74.573%\" y=\"87.0%\" /></svg>"
      ],
      "text/plain": [
       "<planning.planning.State at 0x7f2ca1399a90>"
      ]
     },
     "metadata": {},
     "output_type": "display_data"
    },
    {
     "name": "stdout",
     "output_type": "stream",
     "text": [
      "step 7\n"
     ]
    },
    {
     "data": {
      "image/svg+xml": [
       "<svg baseProfile=\"full\" height=\"200\" version=\"1.1\" width=\"500\" xmlns=\"http://www.w3.org/2000/svg\" xmlns:ev=\"http://www.w3.org/2001/xml-events\" xmlns:xlink=\"http://www.w3.org/1999/xlink\"><defs /><line stroke=\"black\" x1=\"5%\" x2=\"95%\" y1=\"95%\" y2=\"95%\" /><rect fill=\"white\" height=\"80%\" stroke=\"black\" width=\"1%\" x=\"22.5%\" y=\"15.0%\" /><rect fill=\"white\" height=\"80%\" stroke=\"black\" width=\"1%\" x=\"40.5%\" y=\"15.0%\" /><rect fill=\"white\" height=\"80%\" stroke=\"black\" width=\"1%\" x=\"58.5%\" y=\"15.0%\" /><rect fill=\"white\" height=\"80%\" stroke=\"black\" width=\"1%\" x=\"76.5%\" y=\"15.0%\" /><rect fill=\"white\" height=\"4%\" stroke=\"black\" width=\"1.618%\" x=\"22.191%\" y=\"91.0%\" /><rect fill=\"white\" height=\"4%\" stroke=\"black\" width=\"3.236%\" x=\"57.382%\" y=\"91.0%\" /><rect fill=\"white\" height=\"4%\" stroke=\"black\" width=\"6.472%\" x=\"73.764%\" y=\"91.0%\" /><rect fill=\"white\" height=\"4%\" stroke=\"black\" width=\"4.854%\" x=\"74.573%\" y=\"87.0%\" /></svg>"
      ],
      "text/plain": [
       "<planning.planning.State at 0x7f2ca14af048>"
      ]
     },
     "metadata": {},
     "output_type": "display_data"
    },
    {
     "name": "stdout",
     "output_type": "stream",
     "text": [
      "step 8\n"
     ]
    },
    {
     "data": {
      "image/svg+xml": [
       "<svg baseProfile=\"full\" height=\"200\" version=\"1.1\" width=\"500\" xmlns=\"http://www.w3.org/2000/svg\" xmlns:ev=\"http://www.w3.org/2001/xml-events\" xmlns:xlink=\"http://www.w3.org/1999/xlink\"><defs /><line stroke=\"black\" x1=\"5%\" x2=\"95%\" y1=\"95%\" y2=\"95%\" /><rect fill=\"white\" height=\"80%\" stroke=\"black\" width=\"1%\" x=\"22.5%\" y=\"15.0%\" /><rect fill=\"white\" height=\"80%\" stroke=\"black\" width=\"1%\" x=\"40.5%\" y=\"15.0%\" /><rect fill=\"white\" height=\"80%\" stroke=\"black\" width=\"1%\" x=\"58.5%\" y=\"15.0%\" /><rect fill=\"white\" height=\"80%\" stroke=\"black\" width=\"1%\" x=\"76.5%\" y=\"15.0%\" /><rect fill=\"white\" height=\"4%\" stroke=\"black\" width=\"1.618%\" x=\"22.191%\" y=\"91.0%\" /><rect fill=\"white\" height=\"4%\" stroke=\"black\" width=\"6.472%\" x=\"73.764%\" y=\"91.0%\" /><rect fill=\"white\" height=\"4%\" stroke=\"black\" width=\"4.854%\" x=\"74.573%\" y=\"87.0%\" /><rect fill=\"white\" height=\"4%\" stroke=\"black\" width=\"3.236%\" x=\"75.382%\" y=\"83.0%\" /></svg>"
      ],
      "text/plain": [
       "<planning.planning.State at 0x7f2ca1379278>"
      ]
     },
     "metadata": {},
     "output_type": "display_data"
    },
    {
     "name": "stdout",
     "output_type": "stream",
     "text": [
      "step 9\n"
     ]
    },
    {
     "data": {
      "image/svg+xml": [
       "<svg baseProfile=\"full\" height=\"200\" version=\"1.1\" width=\"500\" xmlns=\"http://www.w3.org/2000/svg\" xmlns:ev=\"http://www.w3.org/2001/xml-events\" xmlns:xlink=\"http://www.w3.org/1999/xlink\"><defs /><line stroke=\"black\" x1=\"5%\" x2=\"95%\" y1=\"95%\" y2=\"95%\" /><rect fill=\"white\" height=\"80%\" stroke=\"black\" width=\"1%\" x=\"22.5%\" y=\"15.0%\" /><rect fill=\"white\" height=\"80%\" stroke=\"black\" width=\"1%\" x=\"40.5%\" y=\"15.0%\" /><rect fill=\"white\" height=\"80%\" stroke=\"black\" width=\"1%\" x=\"58.5%\" y=\"15.0%\" /><rect fill=\"white\" height=\"80%\" stroke=\"black\" width=\"1%\" x=\"76.5%\" y=\"15.0%\" /><rect fill=\"white\" height=\"4%\" stroke=\"black\" width=\"6.472%\" x=\"73.764%\" y=\"91.0%\" /><rect fill=\"white\" height=\"4%\" stroke=\"black\" width=\"4.854%\" x=\"74.573%\" y=\"87.0%\" /><rect fill=\"white\" height=\"4%\" stroke=\"black\" width=\"3.236%\" x=\"75.382%\" y=\"83.0%\" /><rect fill=\"white\" height=\"4%\" stroke=\"black\" width=\"1.618%\" x=\"76.191%\" y=\"79.0%\" /></svg>"
      ],
      "text/plain": [
       "<planning.planning.State at 0x7f2ca12b6710>"
      ]
     },
     "metadata": {},
     "output_type": "display_data"
    }
   ],
   "source": [
    "random.seed(42)\n",
    "\n",
    "problem = domain.generate_problem(4, 4, random=False)\n",
    "\n",
    "g = planning.heuristics.AccumulatedCost()\n",
    "fd = planning.heuristics.FDHeuristic(domain, \"add()\", \"ff()\", \"cg()\", \"lmcut()\", \"cegar()\",\n",
    "                                     \"hmax()\", \"cpdbs()\", \"goalcount()\")\n",
    "cbr = planning.heuristics.CBRHeuristic(fd, X, y, k=4, weights=\"distance\")\n",
    "hlinear = planning.heuristics.LinearCombination([g, cbr], (1, 1)) # 5 A-star with additive heuristic\n",
    "h = planning.heuristics.ConcatenateHeuristic([hlinear, cbr])\n",
    "\n",
    "bfs = planning.BestFirstSearch(problem, verbose=1, timeout=300.0, node_bound=20000,\n",
    "                               heuristic=h, close_forever=True)\n",
    "bfs()\n",
    "plan = bfs.plan()\n",
    "state_sequence = bfs.state_sequence()\n",
    "print(\"#Generated nodes: \" + str(bfs.info()[\"generated\"]))\n",
    "if len(plan) < 10:\n",
    "    print(\"Plan:\\n  \" + \"\\n  \".join([str(op) for op in bfs.plan()]))\n",
    "    for i, state in enumerate(bfs.state_sequence()):\n",
    "        print(\"step \" + str(i))\n",
    "        display(state)"
   ]
  },
  {
   "cell_type": "code",
   "execution_count": 33,
   "metadata": {},
   "outputs": [
    {
     "name": "stdout",
     "output_type": "stream",
     "text": [
      "[0.034s] Plan found with 9 action(s)\n",
      "#Generated nodes: 43\n",
      "Plan:\n",
      "  move(disk01,disk02,peg2)\n",
      "  move(disk02,disk03,peg3)\n",
      "  move(disk01,peg2,disk02)\n",
      "  move(disk03,disk04,peg2)\n",
      "  move(disk04,peg1,peg4)\n",
      "  move(disk03,peg2,disk04)\n",
      "  move(disk01,disk02,peg1)\n",
      "  move(disk02,peg3,disk03)\n",
      "  move(disk01,peg1,disk02)\n",
      "step 0\n"
     ]
    },
    {
     "data": {
      "image/svg+xml": [
       "<svg baseProfile=\"full\" height=\"200\" version=\"1.1\" width=\"500\" xmlns=\"http://www.w3.org/2000/svg\" xmlns:ev=\"http://www.w3.org/2001/xml-events\" xmlns:xlink=\"http://www.w3.org/1999/xlink\"><defs /><line stroke=\"black\" x1=\"5%\" x2=\"95%\" y1=\"95%\" y2=\"95%\" /><rect fill=\"white\" height=\"80%\" stroke=\"black\" width=\"1%\" x=\"22.5%\" y=\"15.0%\" /><rect fill=\"white\" height=\"80%\" stroke=\"black\" width=\"1%\" x=\"40.5%\" y=\"15.0%\" /><rect fill=\"white\" height=\"80%\" stroke=\"black\" width=\"1%\" x=\"58.5%\" y=\"15.0%\" /><rect fill=\"white\" height=\"80%\" stroke=\"black\" width=\"1%\" x=\"76.5%\" y=\"15.0%\" /><rect fill=\"white\" height=\"4%\" stroke=\"black\" width=\"6.472%\" x=\"19.764%\" y=\"91.0%\" /><rect fill=\"white\" height=\"4%\" stroke=\"black\" width=\"4.854%\" x=\"20.573%\" y=\"87.0%\" /><rect fill=\"white\" height=\"4%\" stroke=\"black\" width=\"3.236%\" x=\"21.382%\" y=\"83.0%\" /><rect fill=\"white\" height=\"4%\" stroke=\"black\" width=\"1.618%\" x=\"22.191%\" y=\"79.0%\" /></svg>"
      ],
      "text/plain": [
       "<planning.planning.State at 0x7f2ca1379320>"
      ]
     },
     "metadata": {},
     "output_type": "display_data"
    },
    {
     "name": "stdout",
     "output_type": "stream",
     "text": [
      "step 1\n"
     ]
    },
    {
     "data": {
      "image/svg+xml": [
       "<svg baseProfile=\"full\" height=\"200\" version=\"1.1\" width=\"500\" xmlns=\"http://www.w3.org/2000/svg\" xmlns:ev=\"http://www.w3.org/2001/xml-events\" xmlns:xlink=\"http://www.w3.org/1999/xlink\"><defs /><line stroke=\"black\" x1=\"5%\" x2=\"95%\" y1=\"95%\" y2=\"95%\" /><rect fill=\"white\" height=\"80%\" stroke=\"black\" width=\"1%\" x=\"22.5%\" y=\"15.0%\" /><rect fill=\"white\" height=\"80%\" stroke=\"black\" width=\"1%\" x=\"40.5%\" y=\"15.0%\" /><rect fill=\"white\" height=\"80%\" stroke=\"black\" width=\"1%\" x=\"58.5%\" y=\"15.0%\" /><rect fill=\"white\" height=\"80%\" stroke=\"black\" width=\"1%\" x=\"76.5%\" y=\"15.0%\" /><rect fill=\"white\" height=\"4%\" stroke=\"black\" width=\"6.472%\" x=\"19.764%\" y=\"91.0%\" /><rect fill=\"white\" height=\"4%\" stroke=\"black\" width=\"4.854%\" x=\"20.573%\" y=\"87.0%\" /><rect fill=\"white\" height=\"4%\" stroke=\"black\" width=\"3.236%\" x=\"21.382%\" y=\"83.0%\" /><rect fill=\"white\" height=\"4%\" stroke=\"black\" width=\"1.618%\" x=\"40.191%\" y=\"91.0%\" /></svg>"
      ],
      "text/plain": [
       "<planning.planning.State at 0x7f2ca1637978>"
      ]
     },
     "metadata": {},
     "output_type": "display_data"
    },
    {
     "name": "stdout",
     "output_type": "stream",
     "text": [
      "step 2\n"
     ]
    },
    {
     "data": {
      "image/svg+xml": [
       "<svg baseProfile=\"full\" height=\"200\" version=\"1.1\" width=\"500\" xmlns=\"http://www.w3.org/2000/svg\" xmlns:ev=\"http://www.w3.org/2001/xml-events\" xmlns:xlink=\"http://www.w3.org/1999/xlink\"><defs /><line stroke=\"black\" x1=\"5%\" x2=\"95%\" y1=\"95%\" y2=\"95%\" /><rect fill=\"white\" height=\"80%\" stroke=\"black\" width=\"1%\" x=\"22.5%\" y=\"15.0%\" /><rect fill=\"white\" height=\"80%\" stroke=\"black\" width=\"1%\" x=\"40.5%\" y=\"15.0%\" /><rect fill=\"white\" height=\"80%\" stroke=\"black\" width=\"1%\" x=\"58.5%\" y=\"15.0%\" /><rect fill=\"white\" height=\"80%\" stroke=\"black\" width=\"1%\" x=\"76.5%\" y=\"15.0%\" /><rect fill=\"white\" height=\"4%\" stroke=\"black\" width=\"6.472%\" x=\"19.764%\" y=\"91.0%\" /><rect fill=\"white\" height=\"4%\" stroke=\"black\" width=\"4.854%\" x=\"20.573%\" y=\"87.0%\" /><rect fill=\"white\" height=\"4%\" stroke=\"black\" width=\"1.618%\" x=\"40.191%\" y=\"91.0%\" /><rect fill=\"white\" height=\"4%\" stroke=\"black\" width=\"3.236%\" x=\"57.382%\" y=\"91.0%\" /></svg>"
      ],
      "text/plain": [
       "<planning.planning.State at 0x7f2ca15294a8>"
      ]
     },
     "metadata": {},
     "output_type": "display_data"
    },
    {
     "name": "stdout",
     "output_type": "stream",
     "text": [
      "step 3\n"
     ]
    },
    {
     "data": {
      "image/svg+xml": [
       "<svg baseProfile=\"full\" height=\"200\" version=\"1.1\" width=\"500\" xmlns=\"http://www.w3.org/2000/svg\" xmlns:ev=\"http://www.w3.org/2001/xml-events\" xmlns:xlink=\"http://www.w3.org/1999/xlink\"><defs /><line stroke=\"black\" x1=\"5%\" x2=\"95%\" y1=\"95%\" y2=\"95%\" /><rect fill=\"white\" height=\"80%\" stroke=\"black\" width=\"1%\" x=\"22.5%\" y=\"15.0%\" /><rect fill=\"white\" height=\"80%\" stroke=\"black\" width=\"1%\" x=\"40.5%\" y=\"15.0%\" /><rect fill=\"white\" height=\"80%\" stroke=\"black\" width=\"1%\" x=\"58.5%\" y=\"15.0%\" /><rect fill=\"white\" height=\"80%\" stroke=\"black\" width=\"1%\" x=\"76.5%\" y=\"15.0%\" /><rect fill=\"white\" height=\"4%\" stroke=\"black\" width=\"6.472%\" x=\"19.764%\" y=\"91.0%\" /><rect fill=\"white\" height=\"4%\" stroke=\"black\" width=\"4.854%\" x=\"20.573%\" y=\"87.0%\" /><rect fill=\"white\" height=\"4%\" stroke=\"black\" width=\"3.236%\" x=\"57.382%\" y=\"91.0%\" /><rect fill=\"white\" height=\"4%\" stroke=\"black\" width=\"1.618%\" x=\"58.191%\" y=\"87.0%\" /></svg>"
      ],
      "text/plain": [
       "<planning.planning.State at 0x7f2ca149e208>"
      ]
     },
     "metadata": {},
     "output_type": "display_data"
    },
    {
     "name": "stdout",
     "output_type": "stream",
     "text": [
      "step 4\n"
     ]
    },
    {
     "data": {
      "image/svg+xml": [
       "<svg baseProfile=\"full\" height=\"200\" version=\"1.1\" width=\"500\" xmlns=\"http://www.w3.org/2000/svg\" xmlns:ev=\"http://www.w3.org/2001/xml-events\" xmlns:xlink=\"http://www.w3.org/1999/xlink\"><defs /><line stroke=\"black\" x1=\"5%\" x2=\"95%\" y1=\"95%\" y2=\"95%\" /><rect fill=\"white\" height=\"80%\" stroke=\"black\" width=\"1%\" x=\"22.5%\" y=\"15.0%\" /><rect fill=\"white\" height=\"80%\" stroke=\"black\" width=\"1%\" x=\"40.5%\" y=\"15.0%\" /><rect fill=\"white\" height=\"80%\" stroke=\"black\" width=\"1%\" x=\"58.5%\" y=\"15.0%\" /><rect fill=\"white\" height=\"80%\" stroke=\"black\" width=\"1%\" x=\"76.5%\" y=\"15.0%\" /><rect fill=\"white\" height=\"4%\" stroke=\"black\" width=\"6.472%\" x=\"19.764%\" y=\"91.0%\" /><rect fill=\"white\" height=\"4%\" stroke=\"black\" width=\"4.854%\" x=\"38.573%\" y=\"91.0%\" /><rect fill=\"white\" height=\"4%\" stroke=\"black\" width=\"3.236%\" x=\"57.382%\" y=\"91.0%\" /><rect fill=\"white\" height=\"4%\" stroke=\"black\" width=\"1.618%\" x=\"58.191%\" y=\"87.0%\" /></svg>"
      ],
      "text/plain": [
       "<planning.planning.State at 0x7f2ca15c4198>"
      ]
     },
     "metadata": {},
     "output_type": "display_data"
    },
    {
     "name": "stdout",
     "output_type": "stream",
     "text": [
      "step 5\n"
     ]
    },
    {
     "data": {
      "image/svg+xml": [
       "<svg baseProfile=\"full\" height=\"200\" version=\"1.1\" width=\"500\" xmlns=\"http://www.w3.org/2000/svg\" xmlns:ev=\"http://www.w3.org/2001/xml-events\" xmlns:xlink=\"http://www.w3.org/1999/xlink\"><defs /><line stroke=\"black\" x1=\"5%\" x2=\"95%\" y1=\"95%\" y2=\"95%\" /><rect fill=\"white\" height=\"80%\" stroke=\"black\" width=\"1%\" x=\"22.5%\" y=\"15.0%\" /><rect fill=\"white\" height=\"80%\" stroke=\"black\" width=\"1%\" x=\"40.5%\" y=\"15.0%\" /><rect fill=\"white\" height=\"80%\" stroke=\"black\" width=\"1%\" x=\"58.5%\" y=\"15.0%\" /><rect fill=\"white\" height=\"80%\" stroke=\"black\" width=\"1%\" x=\"76.5%\" y=\"15.0%\" /><rect fill=\"white\" height=\"4%\" stroke=\"black\" width=\"4.854%\" x=\"38.573%\" y=\"91.0%\" /><rect fill=\"white\" height=\"4%\" stroke=\"black\" width=\"3.236%\" x=\"57.382%\" y=\"91.0%\" /><rect fill=\"white\" height=\"4%\" stroke=\"black\" width=\"1.618%\" x=\"58.191%\" y=\"87.0%\" /><rect fill=\"white\" height=\"4%\" stroke=\"black\" width=\"6.472%\" x=\"73.764%\" y=\"91.0%\" /></svg>"
      ],
      "text/plain": [
       "<planning.planning.State at 0x7f2ca13f0ba8>"
      ]
     },
     "metadata": {},
     "output_type": "display_data"
    },
    {
     "name": "stdout",
     "output_type": "stream",
     "text": [
      "step 6\n"
     ]
    },
    {
     "data": {
      "image/svg+xml": [
       "<svg baseProfile=\"full\" height=\"200\" version=\"1.1\" width=\"500\" xmlns=\"http://www.w3.org/2000/svg\" xmlns:ev=\"http://www.w3.org/2001/xml-events\" xmlns:xlink=\"http://www.w3.org/1999/xlink\"><defs /><line stroke=\"black\" x1=\"5%\" x2=\"95%\" y1=\"95%\" y2=\"95%\" /><rect fill=\"white\" height=\"80%\" stroke=\"black\" width=\"1%\" x=\"22.5%\" y=\"15.0%\" /><rect fill=\"white\" height=\"80%\" stroke=\"black\" width=\"1%\" x=\"40.5%\" y=\"15.0%\" /><rect fill=\"white\" height=\"80%\" stroke=\"black\" width=\"1%\" x=\"58.5%\" y=\"15.0%\" /><rect fill=\"white\" height=\"80%\" stroke=\"black\" width=\"1%\" x=\"76.5%\" y=\"15.0%\" /><rect fill=\"white\" height=\"4%\" stroke=\"black\" width=\"3.236%\" x=\"57.382%\" y=\"91.0%\" /><rect fill=\"white\" height=\"4%\" stroke=\"black\" width=\"1.618%\" x=\"58.191%\" y=\"87.0%\" /><rect fill=\"white\" height=\"4%\" stroke=\"black\" width=\"6.472%\" x=\"73.764%\" y=\"91.0%\" /><rect fill=\"white\" height=\"4%\" stroke=\"black\" width=\"4.854%\" x=\"74.573%\" y=\"87.0%\" /></svg>"
      ],
      "text/plain": [
       "<planning.planning.State at 0x7f2ca13fa748>"
      ]
     },
     "metadata": {},
     "output_type": "display_data"
    },
    {
     "name": "stdout",
     "output_type": "stream",
     "text": [
      "step 7\n"
     ]
    },
    {
     "data": {
      "image/svg+xml": [
       "<svg baseProfile=\"full\" height=\"200\" version=\"1.1\" width=\"500\" xmlns=\"http://www.w3.org/2000/svg\" xmlns:ev=\"http://www.w3.org/2001/xml-events\" xmlns:xlink=\"http://www.w3.org/1999/xlink\"><defs /><line stroke=\"black\" x1=\"5%\" x2=\"95%\" y1=\"95%\" y2=\"95%\" /><rect fill=\"white\" height=\"80%\" stroke=\"black\" width=\"1%\" x=\"22.5%\" y=\"15.0%\" /><rect fill=\"white\" height=\"80%\" stroke=\"black\" width=\"1%\" x=\"40.5%\" y=\"15.0%\" /><rect fill=\"white\" height=\"80%\" stroke=\"black\" width=\"1%\" x=\"58.5%\" y=\"15.0%\" /><rect fill=\"white\" height=\"80%\" stroke=\"black\" width=\"1%\" x=\"76.5%\" y=\"15.0%\" /><rect fill=\"white\" height=\"4%\" stroke=\"black\" width=\"1.618%\" x=\"22.191%\" y=\"91.0%\" /><rect fill=\"white\" height=\"4%\" stroke=\"black\" width=\"3.236%\" x=\"57.382%\" y=\"91.0%\" /><rect fill=\"white\" height=\"4%\" stroke=\"black\" width=\"6.472%\" x=\"73.764%\" y=\"91.0%\" /><rect fill=\"white\" height=\"4%\" stroke=\"black\" width=\"4.854%\" x=\"74.573%\" y=\"87.0%\" /></svg>"
      ],
      "text/plain": [
       "<planning.planning.State at 0x7f2ca15c4cf8>"
      ]
     },
     "metadata": {},
     "output_type": "display_data"
    },
    {
     "name": "stdout",
     "output_type": "stream",
     "text": [
      "step 8\n"
     ]
    },
    {
     "data": {
      "image/svg+xml": [
       "<svg baseProfile=\"full\" height=\"200\" version=\"1.1\" width=\"500\" xmlns=\"http://www.w3.org/2000/svg\" xmlns:ev=\"http://www.w3.org/2001/xml-events\" xmlns:xlink=\"http://www.w3.org/1999/xlink\"><defs /><line stroke=\"black\" x1=\"5%\" x2=\"95%\" y1=\"95%\" y2=\"95%\" /><rect fill=\"white\" height=\"80%\" stroke=\"black\" width=\"1%\" x=\"22.5%\" y=\"15.0%\" /><rect fill=\"white\" height=\"80%\" stroke=\"black\" width=\"1%\" x=\"40.5%\" y=\"15.0%\" /><rect fill=\"white\" height=\"80%\" stroke=\"black\" width=\"1%\" x=\"58.5%\" y=\"15.0%\" /><rect fill=\"white\" height=\"80%\" stroke=\"black\" width=\"1%\" x=\"76.5%\" y=\"15.0%\" /><rect fill=\"white\" height=\"4%\" stroke=\"black\" width=\"1.618%\" x=\"22.191%\" y=\"91.0%\" /><rect fill=\"white\" height=\"4%\" stroke=\"black\" width=\"6.472%\" x=\"73.764%\" y=\"91.0%\" /><rect fill=\"white\" height=\"4%\" stroke=\"black\" width=\"4.854%\" x=\"74.573%\" y=\"87.0%\" /><rect fill=\"white\" height=\"4%\" stroke=\"black\" width=\"3.236%\" x=\"75.382%\" y=\"83.0%\" /></svg>"
      ],
      "text/plain": [
       "<planning.planning.State at 0x7f2ca13f0c50>"
      ]
     },
     "metadata": {},
     "output_type": "display_data"
    },
    {
     "name": "stdout",
     "output_type": "stream",
     "text": [
      "step 9\n"
     ]
    },
    {
     "data": {
      "image/svg+xml": [
       "<svg baseProfile=\"full\" height=\"200\" version=\"1.1\" width=\"500\" xmlns=\"http://www.w3.org/2000/svg\" xmlns:ev=\"http://www.w3.org/2001/xml-events\" xmlns:xlink=\"http://www.w3.org/1999/xlink\"><defs /><line stroke=\"black\" x1=\"5%\" x2=\"95%\" y1=\"95%\" y2=\"95%\" /><rect fill=\"white\" height=\"80%\" stroke=\"black\" width=\"1%\" x=\"22.5%\" y=\"15.0%\" /><rect fill=\"white\" height=\"80%\" stroke=\"black\" width=\"1%\" x=\"40.5%\" y=\"15.0%\" /><rect fill=\"white\" height=\"80%\" stroke=\"black\" width=\"1%\" x=\"58.5%\" y=\"15.0%\" /><rect fill=\"white\" height=\"80%\" stroke=\"black\" width=\"1%\" x=\"76.5%\" y=\"15.0%\" /><rect fill=\"white\" height=\"4%\" stroke=\"black\" width=\"6.472%\" x=\"73.764%\" y=\"91.0%\" /><rect fill=\"white\" height=\"4%\" stroke=\"black\" width=\"4.854%\" x=\"74.573%\" y=\"87.0%\" /><rect fill=\"white\" height=\"4%\" stroke=\"black\" width=\"3.236%\" x=\"75.382%\" y=\"83.0%\" /><rect fill=\"white\" height=\"4%\" stroke=\"black\" width=\"1.618%\" x=\"76.191%\" y=\"79.0%\" /></svg>"
      ],
      "text/plain": [
       "<planning.planning.State at 0x7f2ca164b160>"
      ]
     },
     "metadata": {},
     "output_type": "display_data"
    }
   ],
   "source": [
    "random.seed(42)\n",
    "\n",
    "problem = domain.generate_problem(4, 4, random=False)\n",
    "\n",
    "g = planning.heuristics.AccumulatedCost()\n",
    "fd = planning.heuristics.FDHeuristic(domain, \"add()\", \"ff()\", \"cg()\", \"lmcut()\", \"cegar()\",\n",
    "                                     \"hmax()\", \"cpdbs()\", \"goalcount()\")\n",
    "cbr = planning.heuristics.CBRHeuristic(fd, X, y, k=4, weights=\"distance\")\n",
    "hlinear = planning.heuristics.LinearCombination([g, hadd], (1, 1)) # 5 A-star with additive heuristic\n",
    "h = planning.heuristics.ConcatenateHeuristic([hlinear, hadd])\n",
    "\n",
    "bfs = planning.BestFirstSearch(problem, verbose=1, timeout=300.0, node_bound=20000,\n",
    "                               heuristic=h, close_forever=False)\n",
    "bfs()\n",
    "plan = bfs.plan()\n",
    "state_sequence = bfs.state_sequence()\n",
    "print(\"#Generated nodes: \" + str(bfs.info()[\"generated\"]))\n",
    "if len(plan) < 10:\n",
    "    print(\"Plan:\\n  \" + \"\\n  \".join([str(op) for op in bfs.plan()]))\n",
    "    for i, state in enumerate(bfs.state_sequence()):\n",
    "        print(\"step \" + str(i))\n",
    "        display(state)"
   ]
  }
 ],
 "metadata": {
  "kernelspec": {
   "display_name": "Python 3",
   "language": "python",
   "name": "python3"
  },
  "language_info": {
   "codemirror_mode": {
    "name": "ipython",
    "version": 3
   },
   "file_extension": ".py",
   "mimetype": "text/x-python",
   "name": "python",
   "nbconvert_exporter": "python",
   "pygments_lexer": "ipython3",
   "version": "3.5.2"
  }
 },
 "nbformat": 4,
 "nbformat_minor": 2
}
