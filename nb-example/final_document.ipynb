{
 "cells": [
  {
   "cell_type": "markdown",
   "metadata": {},
   "source": [
    "# SEL 2017/18 - Practical Work 3 - CBR prototype for planning\n",
    "*by Alberto Olivares Alarcos and Alejandro Suárez Hernández*"
   ]
  },
  {
   "cell_type": "markdown",
   "metadata": {},
   "source": [
    "## 1. Introduction\n",
    " \n",
    "In this document we present the work done for the third delivery of the *Supervised and Experimental Learning* (SEL) course. The main theme of this project is the design and implementation of a CBR system for planning. A CBR based on the use of several heuristics has been developed for general STRIPS-based domain. We exemplify this report with three different well known planning domains. We provide empirical results for these domain at the end of the document.\n",
    "\n",
    "The whole project is available in Github (https://github.com/sprkrd/planning-cbr).\n",
    "\n",
    "### 1.1. Theoretical principles of planning\n",
    "\n",
    "We devote this section to briefly introduce the unfamiliar reader to the realm of planning. We target the problem of planning for arbitrary problems with **STRIPS**-like expressivity. A problem is given by a tuple $(\\mathcal{D}, \\mathcal{P})$, where $\\mathcal{D}$ is the domain and $\\mathcal{P}$ is a particular instance of the problem in this domain.\n",
    "\n",
    "The domain $\\mathcal{D}$ represents generic knowledge about the problem. This includes:\n",
    "\n",
    "* A **type hierarchy** for the problem's objects.\n",
    "* A set of **propositional predicates** that are used to describe the problem's states. The predicates are composed of a name and a list of optionally typed arguments.\n",
    "* A set of *actions* or **operators**. At the same time, an action is composed of:\n",
    "    * A list of optionally typed **parameters** (objects from the world).\n",
    "    * A **precondition**, expressed as a conjunction of predicates. For an operator to be applicable in a given state, this precondition must be satisfied by the state.\n",
    "    * An **add list**, describing the predicates that will be added to the state after the application of this operator.\n",
    "    * A **delete list**, describing the predicates that will be deleted from the state after the application of this operator.\n",
    "    * A real positive number that represents the **cost** for this action.\n",
    "\n",
    "On the other hand, the instance $\\mathcal{P}$ represents the facts of a specific problem. This includes:\n",
    "\n",
    "* A set of optionally typed **objects** relevant for this problem.\n",
    "* Specification of the initial state, as a set of predicates.\n",
    "* Specification of the goal condition (it does not have to be a complete state), as a set of predicates.\n",
    "\n",
    "Notice that the domain is generic and shared among all the problems of the same type (e.g. the blocks world or the Towers of Hanoi), while the instance is specific to each problem. Notice too that, when specifying the domain, the operators are typically left unground (i.e. with free variables as parameters), and are instantiated for each particular problem.\n",
    "\n",
    "STRIPS adopts the closed-world assumption. That is: predicates that are present in the state are true, while predicates that are not are false. That is in contraposition to the open world assumption, in which predicates that are in the state are marked explicitly as true or false and predicates that are not in the state are unknown.\n",
    "\n",
    "In this context, planning consists in finding an applicable sequence of operator that can be executed in chain from the initial state and that result in a state that satisfies the goal condition. That is, a sequence of operators $o_1, o_2, \\dots, o_n$ such that\n",
    "\n",
    "$$o_1(s_0) \\rightarrow s_1$$\n",
    "$$o_2(s_1) \\rightarrow s_2$$\n",
    "$$\\dots $$\n",
    "$$o_{n}(s_{n-1}) \\rightarrow s_n$$\n",
    "$$s_n \\models g$$\n",
    "\n",
    "In this work, we address this in the most general way possible. That is, we do not make any assumption over the underlying domain.\n",
    "\n",
    "\n",
    "### 1.2. Basic principles of the CBR engine project\n",
    "\n",
    "Our aim was to implement a CBR engine that operates in the framework introduced in the former section. The role of the CBR in our project is to infer the cost of the optimum plan between a state and a goal. Our CBR combines several planning heuristics (numerical attributes) in order to give an estimation of the optimum plan's cost. Ideally, this estimation should be better than each of the individual heuristics. That is, we seek to enable the planner to learn from experience (i.e. problems solved in the past) so it can perform better in the future. In our project, we have considered that the cost of performing an action is unitary, so plan cost and plan length are effectively the same.\n",
    "\n",
    "An heuristic that is able to exactly compute the optimum cost is called perfect heuristic and it is often denoted as h\\*. Therefore, in light of what we have just explained, the general idea of our work is to train a system that approximates h* as good as possible. This way, we can use our system to guide pathfinding and graph traversal heuristic search algorithms (IDA*, A*, etc.). We use A*, which guarantees to find the optimal plan if an only if the found heuristic is admissible, that is, it is smaller or equal to the perfect heuristic. Although the admissibility of a learned heuriscit cannot be always guaranteed, it is often desired to tradeoff optimality with search speed. That is, we prefer to find a good and reasonable plan quickly that spend a high amount of time in finding the optimum plan.\n",
    "\n",
    "(Specifically, we do not look at the absolute value of the heuristic, but at the order that the heuristic produces in the states which are part of the plan.)\n",
    "\n",
    "The Case Library Structure we have used is **k-d tree**, the reason is that we work with purely numerical cases which can be organised and retrieved efficiently following such a structure. Namely, each case is a vector of heuristics. We are trying to solve a regression problem, so we want to aggregate the retrieved cases' targets to estimate the optimum heuristic. We use the **Scikit learn**'s **knn** regressor for this. We train an base regressor with a bunch of easy problems solved with exhaustive search, and from that point on the CBR updates the knn's data base with the data discovered in subsequent problems.\n",
    "\n",
    "\n",
    "### 1.3. Chosen application domain\n",
    "\n",
    "For this practical work we have chosen three different domains: The Tower of Hanoi, Blocks World and Elevators. All of them are typical domains used in Planning. We present the three domains and show examples of them using blind search methods (BFS and IDS). We also use those methods as target in order to test our CBR system. \n",
    "\n",
    "Nevertheless, our project is quite ambitious because we have implemented it for general purpose. It can be apply to any kind of problem which can be written with STRIPS expressivity. \n",
    "\n",
    "#### 1.3.1. The Tower of Hanoi\n",
    "The Tower of Hanoi is a mathematical game or puzzle often used in psychology. It consists of three rods or pegs and a number of disks of different sizes, which can slide onto any rod. The puzzle typically starts with all the disks stacked in the first peg (with the small disks on top of the bigger ones), although we consider a more general puzzle in which the initial configuration is arbitrary.\n",
    "\n",
    "The objective of the puzzle is to reach a particular configuration of the disks, obeying the following simple rules:\n",
    "\n",
    "1. Only one disk can be moved at a time.\n",
    "2. Each move consists of taking the upper disk from one of the stacks and placing it on top of another stack.\n",
    "3. No disk may be placed on top of a smaller disk.\n",
    "\n",
    "We have defined the domain in Python and it contains a single operator: `move(?what-disk, ?from-object, ?to-object)`, which moves disk `?what` from object `?from` (either a peg or another disk) to object `?to` (also, either a peg or a disk). Our planning framework can take care of static preconditions. That is, it does not instantiate the move operator for moving a disk onto a smaller disk) so it is not necessary to encode static predicates in the state (the `smaller(?disk1,?disk2)` predicates that are typically seen in PDDL Hanoi domains).\n",
    "\n",
    "We have also implemented a problem generator. The generator can create problems for any number of disks and pegs. It also allows random initial and ending configurations. Our first example will be fairly simple and will have 3 pegs, all the disks in the first peg in the initial state and all the disks in the third peg in the goal configuration. Although the goal in this case details the position of every disk, notice that this does not necessarily has to be the case always. The goal does not need to be a complete description of the end configuration. It is perfectly reasonable, and our framework allows it, to consider partial states (e.g. we want the biggest disk in the third peg, and we do not care about the rest).\n",
    "\n",
    "Next we show an example problem and its resolution:"
   ]
  },
  {
   "cell_type": "code",
   "execution_count": 38,
   "metadata": {},
   "outputs": [],
   "source": [
    "import planning\n",
    "import random\n",
    "\n",
    "from IPython.display import display"
   ]
  },
  {
   "cell_type": "code",
   "execution_count": 2,
   "metadata": {
    "scrolled": false
   },
   "outputs": [
    {
     "name": "stdout",
     "output_type": "stream",
     "text": [
      "Init:\n"
     ]
    },
    {
     "data": {
      "image/svg+xml": [
       "<svg baseProfile=\"full\" height=\"175\" version=\"1.1\" width=\"350\" xmlns=\"http://www.w3.org/2000/svg\" xmlns:ev=\"http://www.w3.org/2001/xml-events\" xmlns:xlink=\"http://www.w3.org/1999/xlink\"><defs /><line stroke=\"black\" x1=\"5%\" x2=\"95%\" y1=\"95%\" y2=\"95%\" /><rect fill=\"white\" height=\"80%\" stroke=\"black\" width=\"1%\" x=\"27.0%\" y=\"15.0%\" /><rect fill=\"white\" height=\"80%\" stroke=\"black\" width=\"1%\" x=\"49.5%\" y=\"15.0%\" /><rect fill=\"white\" height=\"80%\" stroke=\"black\" width=\"1%\" x=\"72.0%\" y=\"15.0%\" /><rect fill=\"white\" height=\"4%\" stroke=\"black\" width=\"4.854%\" x=\"25.073%\" y=\"91.0%\" /><rect fill=\"white\" height=\"4%\" stroke=\"black\" width=\"3.236%\" x=\"25.882%\" y=\"87.0%\" /><rect fill=\"white\" height=\"4%\" stroke=\"black\" width=\"1.618%\" x=\"26.691%\" y=\"83.0%\" /></svg>"
      ],
      "text/plain": [
       "<planning.planning.State at 0x7ff4ec173be0>"
      ]
     },
     "metadata": {},
     "output_type": "display_data"
    },
    {
     "name": "stdout",
     "output_type": "stream",
     "text": [
      "Goal:\n"
     ]
    },
    {
     "data": {
      "image/svg+xml": [
       "<svg baseProfile=\"full\" height=\"175\" version=\"1.1\" width=\"350\" xmlns=\"http://www.w3.org/2000/svg\" xmlns:ev=\"http://www.w3.org/2001/xml-events\" xmlns:xlink=\"http://www.w3.org/1999/xlink\"><defs /><line stroke=\"black\" x1=\"5%\" x2=\"95%\" y1=\"95%\" y2=\"95%\" /><rect fill=\"white\" height=\"80%\" stroke=\"black\" width=\"1%\" x=\"27.0%\" y=\"15.0%\" /><rect fill=\"white\" height=\"80%\" stroke=\"black\" width=\"1%\" x=\"49.5%\" y=\"15.0%\" /><rect fill=\"white\" height=\"80%\" stroke=\"black\" width=\"1%\" x=\"72.0%\" y=\"15.0%\" /><rect fill=\"white\" height=\"4%\" stroke=\"black\" width=\"4.854%\" x=\"70.073%\" y=\"91.0%\" /><rect fill=\"white\" height=\"4%\" stroke=\"black\" width=\"3.236%\" x=\"70.882%\" y=\"87.0%\" /><rect fill=\"white\" height=\"4%\" stroke=\"black\" width=\"1.618%\" x=\"71.691%\" y=\"83.0%\" /></svg>"
      ],
      "text/plain": [
       "<planning.planning.State at 0x7ff4ec173c18>"
      ]
     },
     "metadata": {},
     "output_type": "display_data"
    }
   ],
   "source": [
    "domain_name = \"Hanoi\"\n",
    "domain = planning.domains[domain_name]\n",
    "problem = domain.generate_problem(3, 3, random=False)\n",
    "# print(domain)\n",
    "# print(problem)\n",
    "print(\"Init:\")\n",
    "display(problem.init())\n",
    "print(\"Goal:\")\n",
    "display(problem.goal())\n",
    "# print(\"Applicable actions in 1st state:\")\n",
    "# l = list(filter(problem.init().can_apply, problem.operators()))\n",
    "# print(\"\\n\".join(map(str, l)))\n",
    "# print(planning.pddl_utility.pddl_actions(l))\n",
    "# print(planning.pddl_utility.pddl_domain(domain, problem.operators()))\n",
    "# print(planning.pddl_utility.pddl_problem(problem))\n",
    "\n",
    "# with open(\"domain\"+domain_name+\".pddl\", \"w\") as d, open(\"problem\"+domain_name+\".pddl\",\"w\") as p:\n",
    "#     d.write(planning.pddl_utility.pddl_domain(domain, problem.operators()))\n",
    "#     p.write(planning.pddl_utility.pddl_problem(problem))\n"
   ]
  },
  {
   "cell_type": "code",
   "execution_count": 3,
   "metadata": {
    "scrolled": false
   },
   "outputs": [
    {
     "name": "stdout",
     "output_type": "stream",
     "text": [
      "[0.002s] Plan found with 7 action(s)\n",
      "#Generated nodes: 24\n",
      "Plan:\n",
      "  move(disk01,disk02,peg3)\n",
      "  move(disk02,disk03,peg2)\n",
      "  move(disk01,peg3,disk02)\n",
      "  move(disk03,peg1,peg3)\n",
      "  move(disk01,disk02,peg1)\n",
      "  move(disk02,peg2,disk03)\n",
      "  move(disk01,peg1,disk02)\n",
      "step 0\n"
     ]
    },
    {
     "data": {
      "image/svg+xml": [
       "<svg baseProfile=\"full\" height=\"175\" version=\"1.1\" width=\"350\" xmlns=\"http://www.w3.org/2000/svg\" xmlns:ev=\"http://www.w3.org/2001/xml-events\" xmlns:xlink=\"http://www.w3.org/1999/xlink\"><defs /><line stroke=\"black\" x1=\"5%\" x2=\"95%\" y1=\"95%\" y2=\"95%\" /><rect fill=\"white\" height=\"80%\" stroke=\"black\" width=\"1%\" x=\"27.0%\" y=\"15.0%\" /><rect fill=\"white\" height=\"80%\" stroke=\"black\" width=\"1%\" x=\"49.5%\" y=\"15.0%\" /><rect fill=\"white\" height=\"80%\" stroke=\"black\" width=\"1%\" x=\"72.0%\" y=\"15.0%\" /><rect fill=\"white\" height=\"4%\" stroke=\"black\" width=\"4.854%\" x=\"25.073%\" y=\"91.0%\" /><rect fill=\"white\" height=\"4%\" stroke=\"black\" width=\"3.236%\" x=\"25.882%\" y=\"87.0%\" /><rect fill=\"white\" height=\"4%\" stroke=\"black\" width=\"1.618%\" x=\"26.691%\" y=\"83.0%\" /></svg>"
      ],
      "text/plain": [
       "<planning.planning.State at 0x7ff4ec173be0>"
      ]
     },
     "metadata": {},
     "output_type": "display_data"
    },
    {
     "name": "stdout",
     "output_type": "stream",
     "text": [
      "step 1\n"
     ]
    },
    {
     "data": {
      "image/svg+xml": [
       "<svg baseProfile=\"full\" height=\"175\" version=\"1.1\" width=\"350\" xmlns=\"http://www.w3.org/2000/svg\" xmlns:ev=\"http://www.w3.org/2001/xml-events\" xmlns:xlink=\"http://www.w3.org/1999/xlink\"><defs /><line stroke=\"black\" x1=\"5%\" x2=\"95%\" y1=\"95%\" y2=\"95%\" /><rect fill=\"white\" height=\"80%\" stroke=\"black\" width=\"1%\" x=\"27.0%\" y=\"15.0%\" /><rect fill=\"white\" height=\"80%\" stroke=\"black\" width=\"1%\" x=\"49.5%\" y=\"15.0%\" /><rect fill=\"white\" height=\"80%\" stroke=\"black\" width=\"1%\" x=\"72.0%\" y=\"15.0%\" /><rect fill=\"white\" height=\"4%\" stroke=\"black\" width=\"4.854%\" x=\"25.073%\" y=\"91.0%\" /><rect fill=\"white\" height=\"4%\" stroke=\"black\" width=\"3.236%\" x=\"25.882%\" y=\"87.0%\" /><rect fill=\"white\" height=\"4%\" stroke=\"black\" width=\"1.618%\" x=\"71.691%\" y=\"91.0%\" /></svg>"
      ],
      "text/plain": [
       "<planning.planning.State at 0x7ff4ec84cc50>"
      ]
     },
     "metadata": {},
     "output_type": "display_data"
    },
    {
     "name": "stdout",
     "output_type": "stream",
     "text": [
      "step 2\n"
     ]
    },
    {
     "data": {
      "image/svg+xml": [
       "<svg baseProfile=\"full\" height=\"175\" version=\"1.1\" width=\"350\" xmlns=\"http://www.w3.org/2000/svg\" xmlns:ev=\"http://www.w3.org/2001/xml-events\" xmlns:xlink=\"http://www.w3.org/1999/xlink\"><defs /><line stroke=\"black\" x1=\"5%\" x2=\"95%\" y1=\"95%\" y2=\"95%\" /><rect fill=\"white\" height=\"80%\" stroke=\"black\" width=\"1%\" x=\"27.0%\" y=\"15.0%\" /><rect fill=\"white\" height=\"80%\" stroke=\"black\" width=\"1%\" x=\"49.5%\" y=\"15.0%\" /><rect fill=\"white\" height=\"80%\" stroke=\"black\" width=\"1%\" x=\"72.0%\" y=\"15.0%\" /><rect fill=\"white\" height=\"4%\" stroke=\"black\" width=\"4.854%\" x=\"25.073%\" y=\"91.0%\" /><rect fill=\"white\" height=\"4%\" stroke=\"black\" width=\"3.236%\" x=\"48.382%\" y=\"91.0%\" /><rect fill=\"white\" height=\"4%\" stroke=\"black\" width=\"1.618%\" x=\"71.691%\" y=\"91.0%\" /></svg>"
      ],
      "text/plain": [
       "<planning.planning.State at 0x7ff4ec19a8d0>"
      ]
     },
     "metadata": {},
     "output_type": "display_data"
    },
    {
     "name": "stdout",
     "output_type": "stream",
     "text": [
      "step 3\n"
     ]
    },
    {
     "data": {
      "image/svg+xml": [
       "<svg baseProfile=\"full\" height=\"175\" version=\"1.1\" width=\"350\" xmlns=\"http://www.w3.org/2000/svg\" xmlns:ev=\"http://www.w3.org/2001/xml-events\" xmlns:xlink=\"http://www.w3.org/1999/xlink\"><defs /><line stroke=\"black\" x1=\"5%\" x2=\"95%\" y1=\"95%\" y2=\"95%\" /><rect fill=\"white\" height=\"80%\" stroke=\"black\" width=\"1%\" x=\"27.0%\" y=\"15.0%\" /><rect fill=\"white\" height=\"80%\" stroke=\"black\" width=\"1%\" x=\"49.5%\" y=\"15.0%\" /><rect fill=\"white\" height=\"80%\" stroke=\"black\" width=\"1%\" x=\"72.0%\" y=\"15.0%\" /><rect fill=\"white\" height=\"4%\" stroke=\"black\" width=\"4.854%\" x=\"25.073%\" y=\"91.0%\" /><rect fill=\"white\" height=\"4%\" stroke=\"black\" width=\"3.236%\" x=\"48.382%\" y=\"91.0%\" /><rect fill=\"white\" height=\"4%\" stroke=\"black\" width=\"1.618%\" x=\"49.191%\" y=\"87.0%\" /></svg>"
      ],
      "text/plain": [
       "<planning.planning.State at 0x7ff4ec19a7f0>"
      ]
     },
     "metadata": {},
     "output_type": "display_data"
    },
    {
     "name": "stdout",
     "output_type": "stream",
     "text": [
      "step 4\n"
     ]
    },
    {
     "data": {
      "image/svg+xml": [
       "<svg baseProfile=\"full\" height=\"175\" version=\"1.1\" width=\"350\" xmlns=\"http://www.w3.org/2000/svg\" xmlns:ev=\"http://www.w3.org/2001/xml-events\" xmlns:xlink=\"http://www.w3.org/1999/xlink\"><defs /><line stroke=\"black\" x1=\"5%\" x2=\"95%\" y1=\"95%\" y2=\"95%\" /><rect fill=\"white\" height=\"80%\" stroke=\"black\" width=\"1%\" x=\"27.0%\" y=\"15.0%\" /><rect fill=\"white\" height=\"80%\" stroke=\"black\" width=\"1%\" x=\"49.5%\" y=\"15.0%\" /><rect fill=\"white\" height=\"80%\" stroke=\"black\" width=\"1%\" x=\"72.0%\" y=\"15.0%\" /><rect fill=\"white\" height=\"4%\" stroke=\"black\" width=\"3.236%\" x=\"48.382%\" y=\"91.0%\" /><rect fill=\"white\" height=\"4%\" stroke=\"black\" width=\"1.618%\" x=\"49.191%\" y=\"87.0%\" /><rect fill=\"white\" height=\"4%\" stroke=\"black\" width=\"4.854%\" x=\"70.073%\" y=\"91.0%\" /></svg>"
      ],
      "text/plain": [
       "<planning.planning.State at 0x7ff4ec19a908>"
      ]
     },
     "metadata": {},
     "output_type": "display_data"
    },
    {
     "name": "stdout",
     "output_type": "stream",
     "text": [
      "step 5\n"
     ]
    },
    {
     "data": {
      "image/svg+xml": [
       "<svg baseProfile=\"full\" height=\"175\" version=\"1.1\" width=\"350\" xmlns=\"http://www.w3.org/2000/svg\" xmlns:ev=\"http://www.w3.org/2001/xml-events\" xmlns:xlink=\"http://www.w3.org/1999/xlink\"><defs /><line stroke=\"black\" x1=\"5%\" x2=\"95%\" y1=\"95%\" y2=\"95%\" /><rect fill=\"white\" height=\"80%\" stroke=\"black\" width=\"1%\" x=\"27.0%\" y=\"15.0%\" /><rect fill=\"white\" height=\"80%\" stroke=\"black\" width=\"1%\" x=\"49.5%\" y=\"15.0%\" /><rect fill=\"white\" height=\"80%\" stroke=\"black\" width=\"1%\" x=\"72.0%\" y=\"15.0%\" /><rect fill=\"white\" height=\"4%\" stroke=\"black\" width=\"1.618%\" x=\"26.691%\" y=\"91.0%\" /><rect fill=\"white\" height=\"4%\" stroke=\"black\" width=\"3.236%\" x=\"48.382%\" y=\"91.0%\" /><rect fill=\"white\" height=\"4%\" stroke=\"black\" width=\"4.854%\" x=\"70.073%\" y=\"91.0%\" /></svg>"
      ],
      "text/plain": [
       "<planning.planning.State at 0x7ff4ec19aa58>"
      ]
     },
     "metadata": {},
     "output_type": "display_data"
    },
    {
     "name": "stdout",
     "output_type": "stream",
     "text": [
      "step 6\n"
     ]
    },
    {
     "data": {
      "image/svg+xml": [
       "<svg baseProfile=\"full\" height=\"175\" version=\"1.1\" width=\"350\" xmlns=\"http://www.w3.org/2000/svg\" xmlns:ev=\"http://www.w3.org/2001/xml-events\" xmlns:xlink=\"http://www.w3.org/1999/xlink\"><defs /><line stroke=\"black\" x1=\"5%\" x2=\"95%\" y1=\"95%\" y2=\"95%\" /><rect fill=\"white\" height=\"80%\" stroke=\"black\" width=\"1%\" x=\"27.0%\" y=\"15.0%\" /><rect fill=\"white\" height=\"80%\" stroke=\"black\" width=\"1%\" x=\"49.5%\" y=\"15.0%\" /><rect fill=\"white\" height=\"80%\" stroke=\"black\" width=\"1%\" x=\"72.0%\" y=\"15.0%\" /><rect fill=\"white\" height=\"4%\" stroke=\"black\" width=\"1.618%\" x=\"26.691%\" y=\"91.0%\" /><rect fill=\"white\" height=\"4%\" stroke=\"black\" width=\"4.854%\" x=\"70.073%\" y=\"91.0%\" /><rect fill=\"white\" height=\"4%\" stroke=\"black\" width=\"3.236%\" x=\"70.882%\" y=\"87.0%\" /></svg>"
      ],
      "text/plain": [
       "<planning.planning.State at 0x7ff4ec19ac18>"
      ]
     },
     "metadata": {},
     "output_type": "display_data"
    },
    {
     "name": "stdout",
     "output_type": "stream",
     "text": [
      "step 7\n"
     ]
    },
    {
     "data": {
      "image/svg+xml": [
       "<svg baseProfile=\"full\" height=\"175\" version=\"1.1\" width=\"350\" xmlns=\"http://www.w3.org/2000/svg\" xmlns:ev=\"http://www.w3.org/2001/xml-events\" xmlns:xlink=\"http://www.w3.org/1999/xlink\"><defs /><line stroke=\"black\" x1=\"5%\" x2=\"95%\" y1=\"95%\" y2=\"95%\" /><rect fill=\"white\" height=\"80%\" stroke=\"black\" width=\"1%\" x=\"27.0%\" y=\"15.0%\" /><rect fill=\"white\" height=\"80%\" stroke=\"black\" width=\"1%\" x=\"49.5%\" y=\"15.0%\" /><rect fill=\"white\" height=\"80%\" stroke=\"black\" width=\"1%\" x=\"72.0%\" y=\"15.0%\" /><rect fill=\"white\" height=\"4%\" stroke=\"black\" width=\"4.854%\" x=\"70.073%\" y=\"91.0%\" /><rect fill=\"white\" height=\"4%\" stroke=\"black\" width=\"3.236%\" x=\"70.882%\" y=\"87.0%\" /><rect fill=\"white\" height=\"4%\" stroke=\"black\" width=\"1.618%\" x=\"71.691%\" y=\"83.0%\" /></svg>"
      ],
      "text/plain": [
       "<planning.planning.State at 0x7ff4ec19ae10>"
      ]
     },
     "metadata": {},
     "output_type": "display_data"
    }
   ],
   "source": [
    "bfs = planning.BreadthFirstSearch(problem, verbose=1, timeout=30.0, node_bound=None)\n",
    "status = bfs()\n",
    "if status == planning.search.FOUND:\n",
    "    plan = bfs.plan()\n",
    "    state_sequence = bfs.state_sequence()\n",
    "    print(\"#Generated nodes: \" + str(bfs.info()[\"generated\"]))\n",
    "    if True: #len(plan) < 10:\n",
    "        print(\"Plan:\\n  \" + \"\\n  \".join([str(op) for op in bfs.plan()]))\n",
    "        for i, state in enumerate(bfs.state_sequence()):\n",
    "            print(\"step \" + str(i))\n",
    "            display(state)"
   ]
  },
  {
   "cell_type": "markdown",
   "metadata": {},
   "source": [
    "#### 1.3.2. Blocks World\n",
    "The blocks world is one of the most famous planning domains in artificial intelligence. Imagine a set of wooden blocks of various shapes and colors sitting on a table. The goal is to build one or more vertical stacks of blocks. The catch is that only one block may be moved at a time: it may either be placed on the table or placed atop another block. Because of this, any blocks that are, at a given time, under another block cannot be moved. Moreover, some kinds of blocks cannot have other blocks stacked on top of them.\n",
    "\n",
    "The simplicity of this toy world lends itself readily to symbolic or classical A.I. approaches, in which the world is modeled as a set of abstract symbols which may be reasoned about.\n",
    "\n",
    "One relevant difference between our implementation of the domain with respect to the original one, is that our table is not infinite. Instead, there are a number of limited slots.\n",
    "\n",
    "We have defined the domain in Python and it contains a two operators: `pick(?what-block, ?from-object)`, which picks block `?what` from object `?from` (either a slot of the table or another block) and `put(?what-block, ?to-object)`, which puts block `?what` onto object `?to` (also, either one position of the table or a block).\n",
    "\n",
    "Here is an example problem and its resolution:"
   ]
  },
  {
   "cell_type": "code",
   "execution_count": 4,
   "metadata": {
    "scrolled": false
   },
   "outputs": [
    {
     "name": "stdout",
     "output_type": "stream",
     "text": [
      "Init:\n"
     ]
    },
    {
     "data": {
      "image/svg+xml": [
       "<svg baseProfile=\"full\" height=\"175\" version=\"1.1\" width=\"350\" xmlns=\"http://www.w3.org/2000/svg\" xmlns:ev=\"http://www.w3.org/2001/xml-events\" xmlns:xlink=\"http://www.w3.org/1999/xlink\"><defs /><line stroke=\"black\" x1=\"5%\" x2=\"95%\" y1=\"95%\" y2=\"95%\" /><line stroke=\"blue\" x1=\"15.0%\" x2=\"15.0%\" y1=\"0%\" y2=\"5%\" /><line stroke=\"blue\" x1=\"5.5%\" x2=\"5.5%\" y1=\"5%\" y2=\"10%\" /><line stroke=\"blue\" x1=\"24.5%\" x2=\"24.5%\" y1=\"5%\" y2=\"10%\" /><line stroke=\"blue\" x1=\"5.5%\" x2=\"24.5%\" y1=\"5%\" y2=\"5%\" /><rect fill=\"white\" height=\"18.0%\" stroke=\"black\" width=\"18.0%\" x=\"41.0%\" y=\"77.0%\" /><text fill=\"black\" x=\"152.95000000000002\" y=\"157.5\">block03</text><rect fill=\"white\" height=\"18.0%\" stroke=\"black\" width=\"18.0%\" x=\"41.0%\" y=\"59.0%\" /><text fill=\"black\" x=\"152.95000000000002\" y=\"126.0\">block02</text><rect fill=\"white\" height=\"18.0%\" stroke=\"black\" width=\"18.0%\" x=\"41.0%\" y=\"41.0%\" /><text fill=\"black\" x=\"152.95000000000002\" y=\"94.5\">block01</text></svg>"
      ],
      "text/plain": [
       "<planning.planning.State at 0x7ff4ec1739e8>"
      ]
     },
     "metadata": {},
     "output_type": "display_data"
    },
    {
     "name": "stdout",
     "output_type": "stream",
     "text": [
      "Goal:\n"
     ]
    },
    {
     "data": {
      "image/svg+xml": [
       "<svg baseProfile=\"full\" height=\"175\" version=\"1.1\" width=\"350\" xmlns=\"http://www.w3.org/2000/svg\" xmlns:ev=\"http://www.w3.org/2001/xml-events\" xmlns:xlink=\"http://www.w3.org/1999/xlink\"><defs /><line stroke=\"black\" x1=\"5%\" x2=\"95%\" y1=\"95%\" y2=\"95%\" /><line stroke=\"blue\" x1=\"15.0%\" x2=\"15.0%\" y1=\"0%\" y2=\"5%\" /><line stroke=\"blue\" x1=\"5.5%\" x2=\"5.5%\" y1=\"5%\" y2=\"10%\" /><line stroke=\"blue\" x1=\"24.5%\" x2=\"24.5%\" y1=\"5%\" y2=\"10%\" /><line stroke=\"blue\" x1=\"5.5%\" x2=\"24.5%\" y1=\"5%\" y2=\"5%\" /><rect fill=\"white\" height=\"18.0%\" stroke=\"black\" width=\"18.0%\" x=\"18.5%\" y=\"77.0%\" /><text fill=\"black\" x=\"74.2\" y=\"157.5\">block02</text><rect fill=\"white\" height=\"18.0%\" stroke=\"black\" width=\"18.0%\" x=\"41.0%\" y=\"77.0%\" /><text fill=\"black\" x=\"152.95000000000002\" y=\"157.5\">block03</text><rect fill=\"white\" height=\"18.0%\" stroke=\"black\" width=\"18.0%\" x=\"41.0%\" y=\"59.0%\" /><text fill=\"black\" x=\"152.95000000000002\" y=\"126.0\">block01</text></svg>"
      ],
      "text/plain": [
       "<planning.planning.State at 0x7ff524974f28>"
      ]
     },
     "metadata": {},
     "output_type": "display_data"
    }
   ],
   "source": [
    "random.seed(45)\n",
    "\n",
    "domain_name = \"Blocks\"\n",
    "domain = planning.domains[domain_name]\n",
    "problem = domain.generate_problem(3, 3)\n",
    "# print(domain)\n",
    "# print(problem)\n",
    "print(\"Init:\")\n",
    "display(problem.init())\n",
    "print(\"Goal:\")\n",
    "display(problem.goal())\n",
    "# print(\"Applicable actions in 1st state:\")\n",
    "# l = list(filter(problem.init().can_apply, problem.operators()))\n",
    "# print(\"\\n\".join(map(str, l)))\n",
    "\n",
    "# with open(\"domain\"+domain_name+\".pddl\", \"w\") as d, open(\"problem\"+domain_name+\".pddl\",\"w\") as p:\n",
    "#     d.write(planning.pddl_utility.pddl_domain(domain, problem.operators()))\n",
    "#     p.write(planning.pddl_utility.pddl_problem(problem))\n"
   ]
  },
  {
   "cell_type": "markdown",
   "metadata": {},
   "source": [
    "We can solve this problem so that we get the following result."
   ]
  },
  {
   "cell_type": "code",
   "execution_count": 5,
   "metadata": {
    "scrolled": false
   },
   "outputs": [
    {
     "name": "stdout",
     "output_type": "stream",
     "text": [
      "[0.002s] Plan found with 6 action(s)\n",
      "#Generated nodes: 23\n",
      "Plan:\n",
      "  pick(block01,block02)\n",
      "  put(block01,slot3)\n",
      "  pick(block02,block03)\n",
      "  put(block02,slot1)\n",
      "  pick(block01,slot3)\n",
      "  put(block01,block03)\n",
      "step 0\n"
     ]
    },
    {
     "data": {
      "image/svg+xml": [
       "<svg baseProfile=\"full\" height=\"175\" version=\"1.1\" width=\"350\" xmlns=\"http://www.w3.org/2000/svg\" xmlns:ev=\"http://www.w3.org/2001/xml-events\" xmlns:xlink=\"http://www.w3.org/1999/xlink\"><defs /><line stroke=\"black\" x1=\"5%\" x2=\"95%\" y1=\"95%\" y2=\"95%\" /><line stroke=\"blue\" x1=\"15.0%\" x2=\"15.0%\" y1=\"0%\" y2=\"5%\" /><line stroke=\"blue\" x1=\"5.5%\" x2=\"5.5%\" y1=\"5%\" y2=\"10%\" /><line stroke=\"blue\" x1=\"24.5%\" x2=\"24.5%\" y1=\"5%\" y2=\"10%\" /><line stroke=\"blue\" x1=\"5.5%\" x2=\"24.5%\" y1=\"5%\" y2=\"5%\" /><rect fill=\"white\" height=\"18.0%\" stroke=\"black\" width=\"18.0%\" x=\"41.0%\" y=\"77.0%\" /><text fill=\"black\" x=\"152.95000000000002\" y=\"157.5\">block03</text><rect fill=\"white\" height=\"18.0%\" stroke=\"black\" width=\"18.0%\" x=\"41.0%\" y=\"59.0%\" /><text fill=\"black\" x=\"152.95000000000002\" y=\"126.0\">block02</text><rect fill=\"white\" height=\"18.0%\" stroke=\"black\" width=\"18.0%\" x=\"41.0%\" y=\"41.0%\" /><text fill=\"black\" x=\"152.95000000000002\" y=\"94.5\">block01</text></svg>"
      ],
      "text/plain": [
       "<planning.planning.State at 0x7ff4ec1739e8>"
      ]
     },
     "metadata": {},
     "output_type": "display_data"
    },
    {
     "name": "stdout",
     "output_type": "stream",
     "text": [
      "step 1\n"
     ]
    },
    {
     "data": {
      "image/svg+xml": [
       "<svg baseProfile=\"full\" height=\"175\" version=\"1.1\" width=\"350\" xmlns=\"http://www.w3.org/2000/svg\" xmlns:ev=\"http://www.w3.org/2001/xml-events\" xmlns:xlink=\"http://www.w3.org/1999/xlink\"><defs /><line stroke=\"black\" x1=\"5%\" x2=\"95%\" y1=\"95%\" y2=\"95%\" /><line stroke=\"blue\" x1=\"15.0%\" x2=\"15.0%\" y1=\"0%\" y2=\"5%\" /><line stroke=\"blue\" x1=\"5.5%\" x2=\"5.5%\" y1=\"5%\" y2=\"10%\" /><line stroke=\"blue\" x1=\"24.5%\" x2=\"24.5%\" y1=\"5%\" y2=\"10%\" /><line stroke=\"blue\" x1=\"5.5%\" x2=\"24.5%\" y1=\"5%\" y2=\"5%\" /><rect fill=\"white\" height=\"18.0%\" stroke=\"black\" width=\"18.0%\" x=\"6.0%\" y=\"6.5%\" /><text fill=\"black\" x=\"30.449999999999996\" y=\"34.125\">block01</text><rect fill=\"white\" height=\"18.0%\" stroke=\"black\" width=\"18.0%\" x=\"41.0%\" y=\"77.0%\" /><text fill=\"black\" x=\"152.95000000000002\" y=\"157.5\">block03</text><rect fill=\"white\" height=\"18.0%\" stroke=\"black\" width=\"18.0%\" x=\"41.0%\" y=\"59.0%\" /><text fill=\"black\" x=\"152.95000000000002\" y=\"126.0\">block02</text></svg>"
      ],
      "text/plain": [
       "<planning.planning.State at 0x7ff4eb93ce48>"
      ]
     },
     "metadata": {},
     "output_type": "display_data"
    },
    {
     "name": "stdout",
     "output_type": "stream",
     "text": [
      "step 2\n"
     ]
    },
    {
     "data": {
      "image/svg+xml": [
       "<svg baseProfile=\"full\" height=\"175\" version=\"1.1\" width=\"350\" xmlns=\"http://www.w3.org/2000/svg\" xmlns:ev=\"http://www.w3.org/2001/xml-events\" xmlns:xlink=\"http://www.w3.org/1999/xlink\"><defs /><line stroke=\"black\" x1=\"5%\" x2=\"95%\" y1=\"95%\" y2=\"95%\" /><line stroke=\"blue\" x1=\"15.0%\" x2=\"15.0%\" y1=\"0%\" y2=\"5%\" /><line stroke=\"blue\" x1=\"5.5%\" x2=\"5.5%\" y1=\"5%\" y2=\"10%\" /><line stroke=\"blue\" x1=\"24.5%\" x2=\"24.5%\" y1=\"5%\" y2=\"10%\" /><line stroke=\"blue\" x1=\"5.5%\" x2=\"24.5%\" y1=\"5%\" y2=\"5%\" /><rect fill=\"white\" height=\"18.0%\" stroke=\"black\" width=\"18.0%\" x=\"41.0%\" y=\"77.0%\" /><text fill=\"black\" x=\"152.95000000000002\" y=\"157.5\">block03</text><rect fill=\"white\" height=\"18.0%\" stroke=\"black\" width=\"18.0%\" x=\"41.0%\" y=\"59.0%\" /><text fill=\"black\" x=\"152.95000000000002\" y=\"126.0\">block02</text><rect fill=\"white\" height=\"18.0%\" stroke=\"black\" width=\"18.0%\" x=\"63.5%\" y=\"77.0%\" /><text fill=\"black\" x=\"231.7\" y=\"157.5\">block01</text></svg>"
      ],
      "text/plain": [
       "<planning.planning.State at 0x7ff4eb93cfd0>"
      ]
     },
     "metadata": {},
     "output_type": "display_data"
    },
    {
     "name": "stdout",
     "output_type": "stream",
     "text": [
      "step 3\n"
     ]
    },
    {
     "data": {
      "image/svg+xml": [
       "<svg baseProfile=\"full\" height=\"175\" version=\"1.1\" width=\"350\" xmlns=\"http://www.w3.org/2000/svg\" xmlns:ev=\"http://www.w3.org/2001/xml-events\" xmlns:xlink=\"http://www.w3.org/1999/xlink\"><defs /><line stroke=\"black\" x1=\"5%\" x2=\"95%\" y1=\"95%\" y2=\"95%\" /><line stroke=\"blue\" x1=\"15.0%\" x2=\"15.0%\" y1=\"0%\" y2=\"5%\" /><line stroke=\"blue\" x1=\"5.5%\" x2=\"5.5%\" y1=\"5%\" y2=\"10%\" /><line stroke=\"blue\" x1=\"24.5%\" x2=\"24.5%\" y1=\"5%\" y2=\"10%\" /><line stroke=\"blue\" x1=\"5.5%\" x2=\"24.5%\" y1=\"5%\" y2=\"5%\" /><rect fill=\"white\" height=\"18.0%\" stroke=\"black\" width=\"18.0%\" x=\"6.0%\" y=\"6.5%\" /><text fill=\"black\" x=\"30.449999999999996\" y=\"34.125\">block02</text><rect fill=\"white\" height=\"18.0%\" stroke=\"black\" width=\"18.0%\" x=\"41.0%\" y=\"77.0%\" /><text fill=\"black\" x=\"152.95000000000002\" y=\"157.5\">block03</text><rect fill=\"white\" height=\"18.0%\" stroke=\"black\" width=\"18.0%\" x=\"63.5%\" y=\"77.0%\" /><text fill=\"black\" x=\"231.7\" y=\"157.5\">block01</text></svg>"
      ],
      "text/plain": [
       "<planning.planning.State at 0x7ff4eb93cf98>"
      ]
     },
     "metadata": {},
     "output_type": "display_data"
    },
    {
     "name": "stdout",
     "output_type": "stream",
     "text": [
      "step 4\n"
     ]
    },
    {
     "data": {
      "image/svg+xml": [
       "<svg baseProfile=\"full\" height=\"175\" version=\"1.1\" width=\"350\" xmlns=\"http://www.w3.org/2000/svg\" xmlns:ev=\"http://www.w3.org/2001/xml-events\" xmlns:xlink=\"http://www.w3.org/1999/xlink\"><defs /><line stroke=\"black\" x1=\"5%\" x2=\"95%\" y1=\"95%\" y2=\"95%\" /><line stroke=\"blue\" x1=\"15.0%\" x2=\"15.0%\" y1=\"0%\" y2=\"5%\" /><line stroke=\"blue\" x1=\"5.5%\" x2=\"5.5%\" y1=\"5%\" y2=\"10%\" /><line stroke=\"blue\" x1=\"24.5%\" x2=\"24.5%\" y1=\"5%\" y2=\"10%\" /><line stroke=\"blue\" x1=\"5.5%\" x2=\"24.5%\" y1=\"5%\" y2=\"5%\" /><rect fill=\"white\" height=\"18.0%\" stroke=\"black\" width=\"18.0%\" x=\"18.5%\" y=\"77.0%\" /><text fill=\"black\" x=\"74.2\" y=\"157.5\">block02</text><rect fill=\"white\" height=\"18.0%\" stroke=\"black\" width=\"18.0%\" x=\"41.0%\" y=\"77.0%\" /><text fill=\"black\" x=\"152.95000000000002\" y=\"157.5\">block03</text><rect fill=\"white\" height=\"18.0%\" stroke=\"black\" width=\"18.0%\" x=\"63.5%\" y=\"77.0%\" /><text fill=\"black\" x=\"231.7\" y=\"157.5\">block01</text></svg>"
      ],
      "text/plain": [
       "<planning.planning.State at 0x7ff4eb945048>"
      ]
     },
     "metadata": {},
     "output_type": "display_data"
    },
    {
     "name": "stdout",
     "output_type": "stream",
     "text": [
      "step 5\n"
     ]
    },
    {
     "data": {
      "image/svg+xml": [
       "<svg baseProfile=\"full\" height=\"175\" version=\"1.1\" width=\"350\" xmlns=\"http://www.w3.org/2000/svg\" xmlns:ev=\"http://www.w3.org/2001/xml-events\" xmlns:xlink=\"http://www.w3.org/1999/xlink\"><defs /><line stroke=\"black\" x1=\"5%\" x2=\"95%\" y1=\"95%\" y2=\"95%\" /><line stroke=\"blue\" x1=\"15.0%\" x2=\"15.0%\" y1=\"0%\" y2=\"5%\" /><line stroke=\"blue\" x1=\"5.5%\" x2=\"5.5%\" y1=\"5%\" y2=\"10%\" /><line stroke=\"blue\" x1=\"24.5%\" x2=\"24.5%\" y1=\"5%\" y2=\"10%\" /><line stroke=\"blue\" x1=\"5.5%\" x2=\"24.5%\" y1=\"5%\" y2=\"5%\" /><rect fill=\"white\" height=\"18.0%\" stroke=\"black\" width=\"18.0%\" x=\"6.0%\" y=\"6.5%\" /><text fill=\"black\" x=\"30.449999999999996\" y=\"34.125\">block01</text><rect fill=\"white\" height=\"18.0%\" stroke=\"black\" width=\"18.0%\" x=\"18.5%\" y=\"77.0%\" /><text fill=\"black\" x=\"74.2\" y=\"157.5\">block02</text><rect fill=\"white\" height=\"18.0%\" stroke=\"black\" width=\"18.0%\" x=\"41.0%\" y=\"77.0%\" /><text fill=\"black\" x=\"152.95000000000002\" y=\"157.5\">block03</text></svg>"
      ],
      "text/plain": [
       "<planning.planning.State at 0x7ff4eb945128>"
      ]
     },
     "metadata": {},
     "output_type": "display_data"
    },
    {
     "name": "stdout",
     "output_type": "stream",
     "text": [
      "step 6\n"
     ]
    },
    {
     "data": {
      "image/svg+xml": [
       "<svg baseProfile=\"full\" height=\"175\" version=\"1.1\" width=\"350\" xmlns=\"http://www.w3.org/2000/svg\" xmlns:ev=\"http://www.w3.org/2001/xml-events\" xmlns:xlink=\"http://www.w3.org/1999/xlink\"><defs /><line stroke=\"black\" x1=\"5%\" x2=\"95%\" y1=\"95%\" y2=\"95%\" /><line stroke=\"blue\" x1=\"15.0%\" x2=\"15.0%\" y1=\"0%\" y2=\"5%\" /><line stroke=\"blue\" x1=\"5.5%\" x2=\"5.5%\" y1=\"5%\" y2=\"10%\" /><line stroke=\"blue\" x1=\"24.5%\" x2=\"24.5%\" y1=\"5%\" y2=\"10%\" /><line stroke=\"blue\" x1=\"5.5%\" x2=\"24.5%\" y1=\"5%\" y2=\"5%\" /><rect fill=\"white\" height=\"18.0%\" stroke=\"black\" width=\"18.0%\" x=\"18.5%\" y=\"77.0%\" /><text fill=\"black\" x=\"74.2\" y=\"157.5\">block02</text><rect fill=\"white\" height=\"18.0%\" stroke=\"black\" width=\"18.0%\" x=\"41.0%\" y=\"77.0%\" /><text fill=\"black\" x=\"152.95000000000002\" y=\"157.5\">block03</text><rect fill=\"white\" height=\"18.0%\" stroke=\"black\" width=\"18.0%\" x=\"41.0%\" y=\"59.0%\" /><text fill=\"black\" x=\"152.95000000000002\" y=\"126.0\">block01</text></svg>"
      ],
      "text/plain": [
       "<planning.planning.State at 0x7ff4eb9455c0>"
      ]
     },
     "metadata": {},
     "output_type": "display_data"
    }
   ],
   "source": [
    "bfs = planning.BreadthFirstSearch(problem, verbose=1, timeout=30.0, node_bound=None)\n",
    "status = bfs()\n",
    "if status == planning.search.FOUND:\n",
    "    plan = bfs.plan()\n",
    "    state_sequence = bfs.state_sequence()\n",
    "    print(\"#Generated nodes: \" + str(bfs.info()[\"generated\"]))\n",
    "    if True: #len(plan) < 10:\n",
    "        print(\"Plan:\\n  \" + \"\\n  \".join([str(op) for op in bfs.plan()]))\n",
    "        for i, state in enumerate(bfs.state_sequence()):\n",
    "            print(\"step \" + str(i))\n",
    "            display(state)"
   ]
  },
  {
   "cell_type": "markdown",
   "metadata": {},
   "source": [
    "#### 1.3.3. Elevators Domain\n",
    "\n",
    "Let us consider we have a building with several floors and people who want to go from one floor to another one. An elevator, starting from one of the floors, has to satisfy all people petitions. The resctrictions are the following:\n",
    "\n",
    "1. The elevator can just move one floor each step\n",
    "2. Just one person can get into/outo the elevator each step\n",
    "\n",
    "\n",
    "We have defined the domain in Python and it contains a four operators: \n",
    "\n",
    "1. `board(?f-floor, ?p-passenger)`, which boards the passenger `?p` which is in the floor `?f`.\n",
    "2. `depart(?f-floor, ?p-passenger)`, which departs the passenger `?p` in the floor `?f`. The passenger is now served.\n",
    "3. `drive_up(?f1-floor, ?f2-floor)`, the lift goes up from floor `?f1` to floor `?f2`.\n",
    "4. `drive_down(?f1-floor, ?f2-floor)`, the lift goes down from floor `?f1` to floor `?f2`.\n",
    "\n",
    "Again, we show an example problem and resolution:"
   ]
  },
  {
   "cell_type": "code",
   "execution_count": 6,
   "metadata": {
    "scrolled": false
   },
   "outputs": [
    {
     "name": "stdout",
     "output_type": "stream",
     "text": [
      "Init:\n"
     ]
    },
    {
     "data": {
      "image/svg+xml": [
       "<svg baseProfile=\"full\" height=\"220\" version=\"1.1\" width=\"400\" xmlns=\"http://www.w3.org/2000/svg\" xmlns:ev=\"http://www.w3.org/2001/xml-events\" xmlns:xlink=\"http://www.w3.org/1999/xlink\"><defs /><rect fill=\"white\" height=\"90%\" stroke=\"black\" width=\"90%\" x=\"10.0%\" y=\"0.0%\" /><line stroke=\"black\" x1=\"55.0%\" x2=\"55.0%\" y1=\"0%\" y2=\"90%\" /><line stroke=\"black\" x1=\"55%\" x2=\"100%\" y1=\"67.5%\" y2=\"67.5%\" /><circle cx=\"60%\" cy=\"72.5%\" fill=\"black\" r=\"2\" /><text x=\"248.0\" y=\"159.5\">2</text><line stroke=\"black\" x1=\"55%\" x2=\"100%\" y1=\"45.0%\" y2=\"45.0%\" /><circle cx=\"60%\" cy=\"50.0%\" fill=\"black\" r=\"2\" /><text x=\"248.0\" y=\"110.0\">0</text><line stroke=\"black\" x1=\"55%\" x2=\"100%\" y1=\"22.5%\" y2=\"22.5%\" /><circle cx=\"60%\" cy=\"27.5%\" fill=\"black\" r=\"2\" /><text x=\"248.0\" y=\"60.5\">1</text><line stroke=\"black\" x1=\"55%\" x2=\"100%\" y1=\"0.0%\" y2=\"0.0%\" /><circle cx=\"60%\" cy=\"5.0%\" fill=\"black\" r=\"2\" /><text x=\"248.0\" y=\"11.0\">0</text><rect fill=\"white\" height=\"17.5%\" stroke=\"black\" width=\"17.5%\" x=\"21.25%\" y=\"70.0%\" /><circle cx=\"30.0%\" cy=\"78.75%\" fill=\"black\" r=\"2\" /><text x=\"128.0\" y=\"173.25\">0</text></svg>"
      ],
      "text/plain": [
       "<planning.planning.State at 0x7ff4eb93ca20>"
      ]
     },
     "metadata": {},
     "output_type": "display_data"
    },
    {
     "name": "stdout",
     "output_type": "stream",
     "text": [
      "destin(passenger01,floor2)\n",
      "destin(passenger02,floor2)\n",
      "destin(passenger03,floor2)\n",
      "origin(passenger01,floor1)\n",
      "origin(passenger02,floor1)\n",
      "origin(passenger03,floor3)\n",
      "\n",
      "Goal:\n",
      "served(passenger01)\n",
      "served(passenger02)\n",
      "served(passenger03)\n"
     ]
    }
   ],
   "source": [
    "random.seed(42)\n",
    "\n",
    "domain_name = \"Elevator\"\n",
    "domain = planning.domains[domain_name]\n",
    "problem = domain.generate_problem(3, 4)\n",
    "# print(domain)\n",
    "# print(problem)\n",
    "print(\"Init:\")\n",
    "display(problem.init())\n",
    "p_destin_orig = sorted([p for p in problem.init() if p[0] in (\"origin\", \"destin\")])\n",
    "print(planning.predicate_list_to_str(p_destin_orig, delim=\"\\n\"), end=\"\\n\\n\")\n",
    "print(\"Goal:\")\n",
    "p_served = sorted([p for p in problem.goal() if p[0] == \"served\"])\n",
    "print(planning.predicate_list_to_str(p_served, delim=\"\\n\"))\n",
    "#display(problem.goal())\n",
    "# print(\"Applicable actions in 1st state:\")\n",
    "# print(\"\\n\".join(map(str, filter(problem.init().can_apply, problem.operators()))))\n",
    "\n",
    "# with open(\"domain\"+domain_name+\".pddl\", \"w\") as d, open(\"problem\"+domain_name+\".pddl\",\"w\") as p:\n",
    "#     d.write(planning.pddl_utility.pddl_domain(domain, problem.operators()))\n",
    "#     p.write(planning.pddl_utility.pddl_problem(problem))"
   ]
  },
  {
   "cell_type": "code",
   "execution_count": 7,
   "metadata": {
    "scrolled": false
   },
   "outputs": [
    {
     "name": "stdout",
     "output_type": "stream",
     "text": [
      "[0.011s] Plan found with 9 action(s)\n",
      "#Generated nodes: 125\n",
      "Plan:\n",
      "  board(floor1,passenger01)\n",
      "  board(floor1,passenger02)\n",
      "  drive_up(floor1,floor2)\n",
      "  depart(floor2,passenger01)\n",
      "  depart(floor2,passenger02)\n",
      "  drive_up(floor2,floor3)\n",
      "  board(floor3,passenger03)\n",
      "  drive_down(floor3,floor2)\n",
      "  depart(floor2,passenger03)\n",
      "step 0\n"
     ]
    },
    {
     "data": {
      "image/svg+xml": [
       "<svg baseProfile=\"full\" height=\"220\" version=\"1.1\" width=\"400\" xmlns=\"http://www.w3.org/2000/svg\" xmlns:ev=\"http://www.w3.org/2001/xml-events\" xmlns:xlink=\"http://www.w3.org/1999/xlink\"><defs /><rect fill=\"white\" height=\"90%\" stroke=\"black\" width=\"90%\" x=\"10.0%\" y=\"0.0%\" /><line stroke=\"black\" x1=\"55.0%\" x2=\"55.0%\" y1=\"0%\" y2=\"90%\" /><line stroke=\"black\" x1=\"55%\" x2=\"100%\" y1=\"67.5%\" y2=\"67.5%\" /><circle cx=\"60%\" cy=\"72.5%\" fill=\"black\" r=\"2\" /><text x=\"248.0\" y=\"159.5\">2</text><line stroke=\"black\" x1=\"55%\" x2=\"100%\" y1=\"45.0%\" y2=\"45.0%\" /><circle cx=\"60%\" cy=\"50.0%\" fill=\"black\" r=\"2\" /><text x=\"248.0\" y=\"110.0\">0</text><line stroke=\"black\" x1=\"55%\" x2=\"100%\" y1=\"22.5%\" y2=\"22.5%\" /><circle cx=\"60%\" cy=\"27.5%\" fill=\"black\" r=\"2\" /><text x=\"248.0\" y=\"60.5\">1</text><line stroke=\"black\" x1=\"55%\" x2=\"100%\" y1=\"0.0%\" y2=\"0.0%\" /><circle cx=\"60%\" cy=\"5.0%\" fill=\"black\" r=\"2\" /><text x=\"248.0\" y=\"11.0\">0</text><rect fill=\"white\" height=\"17.5%\" stroke=\"black\" width=\"17.5%\" x=\"21.25%\" y=\"70.0%\" /><circle cx=\"30.0%\" cy=\"78.75%\" fill=\"black\" r=\"2\" /><text x=\"128.0\" y=\"173.25\">0</text></svg>"
      ],
      "text/plain": [
       "<planning.planning.State at 0x7ff4eb93ca20>"
      ]
     },
     "metadata": {},
     "output_type": "display_data"
    },
    {
     "name": "stdout",
     "output_type": "stream",
     "text": [
      "step 1\n"
     ]
    },
    {
     "data": {
      "image/svg+xml": [
       "<svg baseProfile=\"full\" height=\"220\" version=\"1.1\" width=\"400\" xmlns=\"http://www.w3.org/2000/svg\" xmlns:ev=\"http://www.w3.org/2001/xml-events\" xmlns:xlink=\"http://www.w3.org/1999/xlink\"><defs /><rect fill=\"white\" height=\"90%\" stroke=\"black\" width=\"90%\" x=\"10.0%\" y=\"0.0%\" /><line stroke=\"black\" x1=\"55.0%\" x2=\"55.0%\" y1=\"0%\" y2=\"90%\" /><line stroke=\"black\" x1=\"55%\" x2=\"100%\" y1=\"67.5%\" y2=\"67.5%\" /><circle cx=\"60%\" cy=\"72.5%\" fill=\"black\" r=\"2\" /><text x=\"248.0\" y=\"159.5\">1</text><line stroke=\"black\" x1=\"55%\" x2=\"100%\" y1=\"45.0%\" y2=\"45.0%\" /><circle cx=\"60%\" cy=\"50.0%\" fill=\"black\" r=\"2\" /><text x=\"248.0\" y=\"110.0\">0</text><line stroke=\"black\" x1=\"55%\" x2=\"100%\" y1=\"22.5%\" y2=\"22.5%\" /><circle cx=\"60%\" cy=\"27.5%\" fill=\"black\" r=\"2\" /><text x=\"248.0\" y=\"60.5\">1</text><line stroke=\"black\" x1=\"55%\" x2=\"100%\" y1=\"0.0%\" y2=\"0.0%\" /><circle cx=\"60%\" cy=\"5.0%\" fill=\"black\" r=\"2\" /><text x=\"248.0\" y=\"11.0\">0</text><rect fill=\"white\" height=\"17.5%\" stroke=\"black\" width=\"17.5%\" x=\"21.25%\" y=\"70.0%\" /><circle cx=\"30.0%\" cy=\"78.75%\" fill=\"black\" r=\"2\" /><text x=\"128.0\" y=\"173.25\">1</text></svg>"
      ],
      "text/plain": [
       "<planning.planning.State at 0x7ff4eb93ca90>"
      ]
     },
     "metadata": {},
     "output_type": "display_data"
    },
    {
     "name": "stdout",
     "output_type": "stream",
     "text": [
      "step 2\n"
     ]
    },
    {
     "data": {
      "image/svg+xml": [
       "<svg baseProfile=\"full\" height=\"220\" version=\"1.1\" width=\"400\" xmlns=\"http://www.w3.org/2000/svg\" xmlns:ev=\"http://www.w3.org/2001/xml-events\" xmlns:xlink=\"http://www.w3.org/1999/xlink\"><defs /><rect fill=\"white\" height=\"90%\" stroke=\"black\" width=\"90%\" x=\"10.0%\" y=\"0.0%\" /><line stroke=\"black\" x1=\"55.0%\" x2=\"55.0%\" y1=\"0%\" y2=\"90%\" /><line stroke=\"black\" x1=\"55%\" x2=\"100%\" y1=\"67.5%\" y2=\"67.5%\" /><circle cx=\"60%\" cy=\"72.5%\" fill=\"black\" r=\"2\" /><text x=\"248.0\" y=\"159.5\">0</text><line stroke=\"black\" x1=\"55%\" x2=\"100%\" y1=\"45.0%\" y2=\"45.0%\" /><circle cx=\"60%\" cy=\"50.0%\" fill=\"black\" r=\"2\" /><text x=\"248.0\" y=\"110.0\">0</text><line stroke=\"black\" x1=\"55%\" x2=\"100%\" y1=\"22.5%\" y2=\"22.5%\" /><circle cx=\"60%\" cy=\"27.5%\" fill=\"black\" r=\"2\" /><text x=\"248.0\" y=\"60.5\">1</text><line stroke=\"black\" x1=\"55%\" x2=\"100%\" y1=\"0.0%\" y2=\"0.0%\" /><circle cx=\"60%\" cy=\"5.0%\" fill=\"black\" r=\"2\" /><text x=\"248.0\" y=\"11.0\">0</text><rect fill=\"white\" height=\"17.5%\" stroke=\"black\" width=\"17.5%\" x=\"21.25%\" y=\"70.0%\" /><circle cx=\"30.0%\" cy=\"78.75%\" fill=\"black\" r=\"2\" /><text x=\"128.0\" y=\"173.25\">2</text></svg>"
      ],
      "text/plain": [
       "<planning.planning.State at 0x7ff4eb93ccc0>"
      ]
     },
     "metadata": {},
     "output_type": "display_data"
    },
    {
     "name": "stdout",
     "output_type": "stream",
     "text": [
      "step 3\n"
     ]
    },
    {
     "data": {
      "image/svg+xml": [
       "<svg baseProfile=\"full\" height=\"220\" version=\"1.1\" width=\"400\" xmlns=\"http://www.w3.org/2000/svg\" xmlns:ev=\"http://www.w3.org/2001/xml-events\" xmlns:xlink=\"http://www.w3.org/1999/xlink\"><defs /><rect fill=\"white\" height=\"90%\" stroke=\"black\" width=\"90%\" x=\"10.0%\" y=\"0.0%\" /><line stroke=\"black\" x1=\"55.0%\" x2=\"55.0%\" y1=\"0%\" y2=\"90%\" /><line stroke=\"black\" x1=\"55%\" x2=\"100%\" y1=\"67.5%\" y2=\"67.5%\" /><circle cx=\"60%\" cy=\"72.5%\" fill=\"black\" r=\"2\" /><text x=\"248.0\" y=\"159.5\">0</text><line stroke=\"black\" x1=\"55%\" x2=\"100%\" y1=\"45.0%\" y2=\"45.0%\" /><circle cx=\"60%\" cy=\"50.0%\" fill=\"black\" r=\"2\" /><text x=\"248.0\" y=\"110.0\">0</text><line stroke=\"black\" x1=\"55%\" x2=\"100%\" y1=\"22.5%\" y2=\"22.5%\" /><circle cx=\"60%\" cy=\"27.5%\" fill=\"black\" r=\"2\" /><text x=\"248.0\" y=\"60.5\">1</text><line stroke=\"black\" x1=\"55%\" x2=\"100%\" y1=\"0.0%\" y2=\"0.0%\" /><circle cx=\"60%\" cy=\"5.0%\" fill=\"black\" r=\"2\" /><text x=\"248.0\" y=\"11.0\">0</text><rect fill=\"white\" height=\"17.5%\" stroke=\"black\" width=\"17.5%\" x=\"21.25%\" y=\"47.5%\" /><circle cx=\"30.0%\" cy=\"56.25%\" fill=\"black\" r=\"2\" /><text x=\"128.0\" y=\"123.75\">2</text></svg>"
      ],
      "text/plain": [
       "<planning.planning.State at 0x7ff4eb93c1d0>"
      ]
     },
     "metadata": {},
     "output_type": "display_data"
    },
    {
     "name": "stdout",
     "output_type": "stream",
     "text": [
      "step 4\n"
     ]
    },
    {
     "data": {
      "image/svg+xml": [
       "<svg baseProfile=\"full\" height=\"220\" version=\"1.1\" width=\"400\" xmlns=\"http://www.w3.org/2000/svg\" xmlns:ev=\"http://www.w3.org/2001/xml-events\" xmlns:xlink=\"http://www.w3.org/1999/xlink\"><defs /><rect fill=\"white\" height=\"90%\" stroke=\"black\" width=\"90%\" x=\"10.0%\" y=\"0.0%\" /><line stroke=\"black\" x1=\"55.0%\" x2=\"55.0%\" y1=\"0%\" y2=\"90%\" /><line stroke=\"black\" x1=\"55%\" x2=\"100%\" y1=\"67.5%\" y2=\"67.5%\" /><circle cx=\"60%\" cy=\"72.5%\" fill=\"black\" r=\"2\" /><text x=\"248.0\" y=\"159.5\">0</text><line stroke=\"black\" x1=\"55%\" x2=\"100%\" y1=\"45.0%\" y2=\"45.0%\" /><circle cx=\"60%\" cy=\"50.0%\" fill=\"black\" r=\"2\" /><text x=\"248.0\" y=\"110.0\">1</text><line stroke=\"black\" x1=\"55%\" x2=\"100%\" y1=\"22.5%\" y2=\"22.5%\" /><circle cx=\"60%\" cy=\"27.5%\" fill=\"black\" r=\"2\" /><text x=\"248.0\" y=\"60.5\">1</text><line stroke=\"black\" x1=\"55%\" x2=\"100%\" y1=\"0.0%\" y2=\"0.0%\" /><circle cx=\"60%\" cy=\"5.0%\" fill=\"black\" r=\"2\" /><text x=\"248.0\" y=\"11.0\">0</text><rect fill=\"white\" height=\"17.5%\" stroke=\"black\" width=\"17.5%\" x=\"21.25%\" y=\"47.5%\" /><circle cx=\"30.0%\" cy=\"56.25%\" fill=\"black\" r=\"2\" /><text x=\"128.0\" y=\"123.75\">1</text></svg>"
      ],
      "text/plain": [
       "<planning.planning.State at 0x7ff4eb93c908>"
      ]
     },
     "metadata": {},
     "output_type": "display_data"
    },
    {
     "name": "stdout",
     "output_type": "stream",
     "text": [
      "step 5\n"
     ]
    },
    {
     "data": {
      "image/svg+xml": [
       "<svg baseProfile=\"full\" height=\"220\" version=\"1.1\" width=\"400\" xmlns=\"http://www.w3.org/2000/svg\" xmlns:ev=\"http://www.w3.org/2001/xml-events\" xmlns:xlink=\"http://www.w3.org/1999/xlink\"><defs /><rect fill=\"white\" height=\"90%\" stroke=\"black\" width=\"90%\" x=\"10.0%\" y=\"0.0%\" /><line stroke=\"black\" x1=\"55.0%\" x2=\"55.0%\" y1=\"0%\" y2=\"90%\" /><line stroke=\"black\" x1=\"55%\" x2=\"100%\" y1=\"67.5%\" y2=\"67.5%\" /><circle cx=\"60%\" cy=\"72.5%\" fill=\"black\" r=\"2\" /><text x=\"248.0\" y=\"159.5\">0</text><line stroke=\"black\" x1=\"55%\" x2=\"100%\" y1=\"45.0%\" y2=\"45.0%\" /><circle cx=\"60%\" cy=\"50.0%\" fill=\"black\" r=\"2\" /><text x=\"248.0\" y=\"110.0\">2</text><line stroke=\"black\" x1=\"55%\" x2=\"100%\" y1=\"22.5%\" y2=\"22.5%\" /><circle cx=\"60%\" cy=\"27.5%\" fill=\"black\" r=\"2\" /><text x=\"248.0\" y=\"60.5\">1</text><line stroke=\"black\" x1=\"55%\" x2=\"100%\" y1=\"0.0%\" y2=\"0.0%\" /><circle cx=\"60%\" cy=\"5.0%\" fill=\"black\" r=\"2\" /><text x=\"248.0\" y=\"11.0\">0</text><rect fill=\"white\" height=\"17.5%\" stroke=\"black\" width=\"17.5%\" x=\"21.25%\" y=\"47.5%\" /><circle cx=\"30.0%\" cy=\"56.25%\" fill=\"black\" r=\"2\" /><text x=\"128.0\" y=\"123.75\">0</text></svg>"
      ],
      "text/plain": [
       "<planning.planning.State at 0x7ff4eb93ce10>"
      ]
     },
     "metadata": {},
     "output_type": "display_data"
    },
    {
     "name": "stdout",
     "output_type": "stream",
     "text": [
      "step 6\n"
     ]
    },
    {
     "data": {
      "image/svg+xml": [
       "<svg baseProfile=\"full\" height=\"220\" version=\"1.1\" width=\"400\" xmlns=\"http://www.w3.org/2000/svg\" xmlns:ev=\"http://www.w3.org/2001/xml-events\" xmlns:xlink=\"http://www.w3.org/1999/xlink\"><defs /><rect fill=\"white\" height=\"90%\" stroke=\"black\" width=\"90%\" x=\"10.0%\" y=\"0.0%\" /><line stroke=\"black\" x1=\"55.0%\" x2=\"55.0%\" y1=\"0%\" y2=\"90%\" /><line stroke=\"black\" x1=\"55%\" x2=\"100%\" y1=\"67.5%\" y2=\"67.5%\" /><circle cx=\"60%\" cy=\"72.5%\" fill=\"black\" r=\"2\" /><text x=\"248.0\" y=\"159.5\">0</text><line stroke=\"black\" x1=\"55%\" x2=\"100%\" y1=\"45.0%\" y2=\"45.0%\" /><circle cx=\"60%\" cy=\"50.0%\" fill=\"black\" r=\"2\" /><text x=\"248.0\" y=\"110.0\">2</text><line stroke=\"black\" x1=\"55%\" x2=\"100%\" y1=\"22.5%\" y2=\"22.5%\" /><circle cx=\"60%\" cy=\"27.5%\" fill=\"black\" r=\"2\" /><text x=\"248.0\" y=\"60.5\">1</text><line stroke=\"black\" x1=\"55%\" x2=\"100%\" y1=\"0.0%\" y2=\"0.0%\" /><circle cx=\"60%\" cy=\"5.0%\" fill=\"black\" r=\"2\" /><text x=\"248.0\" y=\"11.0\">0</text><rect fill=\"white\" height=\"17.5%\" stroke=\"black\" width=\"17.5%\" x=\"21.25%\" y=\"25.0%\" /><circle cx=\"30.0%\" cy=\"33.75%\" fill=\"black\" r=\"2\" /><text x=\"128.0\" y=\"74.25\">0</text></svg>"
      ],
      "text/plain": [
       "<planning.planning.State at 0x7ff4eb95b9e8>"
      ]
     },
     "metadata": {},
     "output_type": "display_data"
    },
    {
     "name": "stdout",
     "output_type": "stream",
     "text": [
      "step 7\n"
     ]
    },
    {
     "data": {
      "image/svg+xml": [
       "<svg baseProfile=\"full\" height=\"220\" version=\"1.1\" width=\"400\" xmlns=\"http://www.w3.org/2000/svg\" xmlns:ev=\"http://www.w3.org/2001/xml-events\" xmlns:xlink=\"http://www.w3.org/1999/xlink\"><defs /><rect fill=\"white\" height=\"90%\" stroke=\"black\" width=\"90%\" x=\"10.0%\" y=\"0.0%\" /><line stroke=\"black\" x1=\"55.0%\" x2=\"55.0%\" y1=\"0%\" y2=\"90%\" /><line stroke=\"black\" x1=\"55%\" x2=\"100%\" y1=\"67.5%\" y2=\"67.5%\" /><circle cx=\"60%\" cy=\"72.5%\" fill=\"black\" r=\"2\" /><text x=\"248.0\" y=\"159.5\">0</text><line stroke=\"black\" x1=\"55%\" x2=\"100%\" y1=\"45.0%\" y2=\"45.0%\" /><circle cx=\"60%\" cy=\"50.0%\" fill=\"black\" r=\"2\" /><text x=\"248.0\" y=\"110.0\">2</text><line stroke=\"black\" x1=\"55%\" x2=\"100%\" y1=\"22.5%\" y2=\"22.5%\" /><circle cx=\"60%\" cy=\"27.5%\" fill=\"black\" r=\"2\" /><text x=\"248.0\" y=\"60.5\">0</text><line stroke=\"black\" x1=\"55%\" x2=\"100%\" y1=\"0.0%\" y2=\"0.0%\" /><circle cx=\"60%\" cy=\"5.0%\" fill=\"black\" r=\"2\" /><text x=\"248.0\" y=\"11.0\">0</text><rect fill=\"white\" height=\"17.5%\" stroke=\"black\" width=\"17.5%\" x=\"21.25%\" y=\"25.0%\" /><circle cx=\"30.0%\" cy=\"33.75%\" fill=\"black\" r=\"2\" /><text x=\"128.0\" y=\"74.25\">1</text></svg>"
      ],
      "text/plain": [
       "<planning.planning.State at 0x7ff4eb95ba20>"
      ]
     },
     "metadata": {},
     "output_type": "display_data"
    },
    {
     "name": "stdout",
     "output_type": "stream",
     "text": [
      "step 8\n"
     ]
    },
    {
     "data": {
      "image/svg+xml": [
       "<svg baseProfile=\"full\" height=\"220\" version=\"1.1\" width=\"400\" xmlns=\"http://www.w3.org/2000/svg\" xmlns:ev=\"http://www.w3.org/2001/xml-events\" xmlns:xlink=\"http://www.w3.org/1999/xlink\"><defs /><rect fill=\"white\" height=\"90%\" stroke=\"black\" width=\"90%\" x=\"10.0%\" y=\"0.0%\" /><line stroke=\"black\" x1=\"55.0%\" x2=\"55.0%\" y1=\"0%\" y2=\"90%\" /><line stroke=\"black\" x1=\"55%\" x2=\"100%\" y1=\"67.5%\" y2=\"67.5%\" /><circle cx=\"60%\" cy=\"72.5%\" fill=\"black\" r=\"2\" /><text x=\"248.0\" y=\"159.5\">0</text><line stroke=\"black\" x1=\"55%\" x2=\"100%\" y1=\"45.0%\" y2=\"45.0%\" /><circle cx=\"60%\" cy=\"50.0%\" fill=\"black\" r=\"2\" /><text x=\"248.0\" y=\"110.0\">2</text><line stroke=\"black\" x1=\"55%\" x2=\"100%\" y1=\"22.5%\" y2=\"22.5%\" /><circle cx=\"60%\" cy=\"27.5%\" fill=\"black\" r=\"2\" /><text x=\"248.0\" y=\"60.5\">0</text><line stroke=\"black\" x1=\"55%\" x2=\"100%\" y1=\"0.0%\" y2=\"0.0%\" /><circle cx=\"60%\" cy=\"5.0%\" fill=\"black\" r=\"2\" /><text x=\"248.0\" y=\"11.0\">0</text><rect fill=\"white\" height=\"17.5%\" stroke=\"black\" width=\"17.5%\" x=\"21.25%\" y=\"47.5%\" /><circle cx=\"30.0%\" cy=\"56.25%\" fill=\"black\" r=\"2\" /><text x=\"128.0\" y=\"123.75\">1</text></svg>"
      ],
      "text/plain": [
       "<planning.planning.State at 0x7ff4eb95bf98>"
      ]
     },
     "metadata": {},
     "output_type": "display_data"
    },
    {
     "name": "stdout",
     "output_type": "stream",
     "text": [
      "step 9\n"
     ]
    },
    {
     "data": {
      "image/svg+xml": [
       "<svg baseProfile=\"full\" height=\"220\" version=\"1.1\" width=\"400\" xmlns=\"http://www.w3.org/2000/svg\" xmlns:ev=\"http://www.w3.org/2001/xml-events\" xmlns:xlink=\"http://www.w3.org/1999/xlink\"><defs /><rect fill=\"white\" height=\"90%\" stroke=\"black\" width=\"90%\" x=\"10.0%\" y=\"0.0%\" /><line stroke=\"black\" x1=\"55.0%\" x2=\"55.0%\" y1=\"0%\" y2=\"90%\" /><line stroke=\"black\" x1=\"55%\" x2=\"100%\" y1=\"67.5%\" y2=\"67.5%\" /><circle cx=\"60%\" cy=\"72.5%\" fill=\"black\" r=\"2\" /><text x=\"248.0\" y=\"159.5\">0</text><line stroke=\"black\" x1=\"55%\" x2=\"100%\" y1=\"45.0%\" y2=\"45.0%\" /><circle cx=\"60%\" cy=\"50.0%\" fill=\"black\" r=\"2\" /><text x=\"248.0\" y=\"110.0\">3</text><line stroke=\"black\" x1=\"55%\" x2=\"100%\" y1=\"22.5%\" y2=\"22.5%\" /><circle cx=\"60%\" cy=\"27.5%\" fill=\"black\" r=\"2\" /><text x=\"248.0\" y=\"60.5\">0</text><line stroke=\"black\" x1=\"55%\" x2=\"100%\" y1=\"0.0%\" y2=\"0.0%\" /><circle cx=\"60%\" cy=\"5.0%\" fill=\"black\" r=\"2\" /><text x=\"248.0\" y=\"11.0\">0</text><rect fill=\"white\" height=\"17.5%\" stroke=\"black\" width=\"17.5%\" x=\"21.25%\" y=\"47.5%\" /><circle cx=\"30.0%\" cy=\"56.25%\" fill=\"black\" r=\"2\" /><text x=\"128.0\" y=\"123.75\">0</text></svg>"
      ],
      "text/plain": [
       "<planning.planning.State at 0x7ff4eb95c5f8>"
      ]
     },
     "metadata": {},
     "output_type": "display_data"
    }
   ],
   "source": [
    "bfs = planning.BreadthFirstSearch(problem, verbose=1, timeout=30.0, node_bound=None)\n",
    "status = bfs()\n",
    "if status == planning.search.FOUND:\n",
    "    plan = bfs.plan()\n",
    "    state_sequence = bfs.state_sequence()\n",
    "    print(\"#Generated nodes: \" + str(bfs.info()[\"generated\"]))\n",
    "    if True: #len(plan) < 10:\n",
    "        print(\"Plan:\\n  \" + \"\\n  \".join([str(op) for op in bfs.plan()]))\n",
    "        for i, state in enumerate(bfs.state_sequence()):\n",
    "            print(\"step \" + str(i))\n",
    "            display(state)"
   ]
  },
  {
   "cell_type": "markdown",
   "metadata": {},
   "source": [
    "## 2. Requirement Analysis of the CBR engine Project\n",
    "\n",
    "In this section we analayse both, the requirements from a user perspective and from a technical point of view. \n",
    "\n",
    "### 2.1. Requirements: Users's perspective\n",
    "\n",
    "Our system, general as it is, can be used in any sort of application in which is interesting the use of a planning system. In any domain in which a user has a problem which can be solved with planning techniques, our project is useful, so that, there are no requirements from the perspective of potential users. They will depend on the specific application of use. The main appeal of a planner capable of learning from its experience is its potential to reach the performance of domain-specific heuristic guided planners, but without having to explicitly code the specialized heuristic which can be very complicated and difficult to express.\n",
    "\n",
    "Note that the work developed in this project could be used by specialized people with technical knowledge and this include both, researchers and product designers at private companies. \n",
    "\n",
    "Among the possible domains in which our system could be used we find: robotics, industrial organization, assembly lines or applications related to the use of satellites.\n",
    "\n",
    "### 2.2. Requirements: Technical view\n",
    "\n",
    "As it is explained just above, our system is too general to present requirements as specific as: maximum time response of the system or maximum memory size of the system. All these requirements will show up once the our potential users start using our system in a specific application domain. \n",
    "\n",
    "When designing our system we tried to address the following specific requirements:\n",
    "\n",
    "1. The system should be faster than a conventional planner and expand less nodes when searching the solution.\n",
    "\n",
    "2. The computed heuristic should be as precise as possible. \n",
    "\n",
    "3. The CBR system was thought to start learning with simple problems of the specific domain and continue doing so with more difficult and specific problems."
   ]
  },
  {
   "cell_type": "markdown",
   "metadata": {},
   "source": [
    "## 3. Functional Architecture of the CBR engine Project\n",
    "\n",
    "In this project we have designed a system of general purpose, so that the functional architecture is quite simple to be used. Just four different entities take part in our Functional Architecture: \n",
    "\n",
    "* **Planner:** It implements an heuristic search algorithm. To guide the search, it can use:\n",
    "    * Any of the heuristic implemented by ourselves ($h_{add}$, $rpg$, $goal\\_counting$...)\n",
    "    * Fast Downward planner as a proxy to compute any of the heuristics that come with the planner\n",
    "    * Our continuous learning CBR.\n",
    "* **Domain:** The domain has to be coded (just once) by the user. In order to do so, it is necessary to follow the same syntaxis we have used for our three domains, which is quite intuitive and tries to be as close as possible to PDDL. This is one of the inputs of our CBR system.\n",
    "* **Problem:** Again, the problem has to be written by the user and it will be another input of our Planner. For our experiments, the problems will be generated randomly.\n",
    "* **Plan:** This is the output of our system, the final plan with the sequence to be performed in order to solve the input problem. \n",
    "\n",
    "Below, we can see an image of how this four elements interact.\n",
    "\n",
    "<img src='report_figures/functional_architecture.png'>\n"
   ]
  },
  {
   "cell_type": "markdown",
   "metadata": {},
   "source": [
    "## 4. Proposed CBR engine Project solution design:\n",
    "\n",
    "In this section we analyse in depth the design of our CBR engine: the Case Structure and Case Library Structure and the methods used for every CBR cycle step.\n",
    "\n",
    "### 4.1. Case Structure and Case Library Structure designed\n",
    "\n",
    "As said in the introduction of this document, our cases are vectors of heuristics. \n",
    "\n",
    "We have resorted to the Fast Downward planning system [1] (downloadable at http://www.fast-downward.org/) to compute a great deal of heuristics. Fast Downward is a classical planning system based on heuristic search. It can deal with general deterministic planning problems encoded in the propositional fragment of PDDL2.2, including advanced features like ADL expressivity (which, of course, it is not used since we are restricting ourselves to STRIPS). \n",
    "\n",
    "Although we have effectively managed to interface with the planner to retrieve these heuristics, each call requires a very long time (more than 100ms in our computers, which yields an unpractically high planning time when thousands of states have to be evaluated), so it is not practical for a production system. Nonetheless, Fast Downward has been useful to learn how the CBR would benefit from using a wide range of heuristics if we could implement them natively in Python.\n",
    "\n",
    "Specificially, we have used eight different heuristics from Fast Downward (3 of which are the ones we have also implemented in Python). This means that a CBR based on Fast Downward operates with 8 numerical inputs:\n",
    "\n",
    "- Additive (add)\n",
    "- Additive CEGAR (cegar) \n",
    "- Causal Graph (cg)\n",
    "- Canonical PDB (cpdbs)\n",
    "- FF (ff)\n",
    "- Goal Count (gloalcount)\n",
    "- Max Heuristic (hmax)\n",
    "- Landmark Cut (lmcut)\n",
    "\n",
    "It goes beyond the scope of this document to detail these heuristics thoroughly.\n",
    "\n",
    "Since computing these heuristics externally has associated a large overhead, we decided to implement some of the heuristics in Python. However, due to time constraints we could implement only the additive heuristic, the Relaxed planning graph heuristic ($ rpg $, same as $ h_{max} $ above for unitary costs) and $ goalcount $.\n",
    "\n",
    "Regarding the Case Library Structure, we have used *k-d tree*, which is useful for retrieve in sublinear time the most similar cases, in our case, the vector of heuristics. The value of `d` corresponds to the number of heuristics we use, eitght.\n",
    "\n",
    "### 4.2. Methods of every CBR cycle step\n",
    "\n",
    "Case-based reasoning has been formalized for purposes of computer reasoning as a four-step process:\n",
    "\n",
    "- **Retrieve:** Given a target problem, retrieve from memory cases relevant to solving it. We select the most similar vectors of heuristics and their associated targets (actual length of the plan) via K-Nearest Neighbors (KNN) algorithm. The value of K has been chosen empirically after some experiments. This choice can be improved in future versions of our system.\n",
    "- **Reuse (Adaptation):** Map the solution from the previous case to the target problem. This may involve adapting the solution as needed to fit the new situation. To do so, we just perform a weighted average the targets using the inverse of the distance to the current case as a the weight of each retrieved case.\n",
    "- **Revise:** Having mapped the previous solution to the target situation, test the new solution in the real world (or a simulation) and, if necessary, revise. After computing the plan, we use the length of the actual plan to annotate each of the states in the trajectory from the initial state to the goal. Although the generated plan is not necessarily optimal, this still helps\n",
    "- **Retain:** After the solution has been successfully adapted to the target problem, store the resulting experience as a new case in memory. We have decided to add each vector of heuristics and its associated revised length to the data base, so they can be used in the future."
   ]
  },
  {
   "cell_type": "markdown",
   "metadata": {},
   "source": [
    "## 5. Testing\n",
    "\n",
    "We will test the effectiveness of the KNN approach to predict the actual plan length associated to a particular vector of heuristics. This is done before applying the CBR full pipeline and continuous learning, with the intent of estimating the performance of a CBR that has been solving problems for a long time.\n",
    "\n",
    "To do this, we generate several simple random problems for each domain (for generating the results of this report, we have used 1000 examples of each). Then we solve each problem with a search algorithm that is guaranteed to solve the problem optimally. We store the heuristics computed by Fast Downward in a matrix (input attributes) and the length of the plan in a vector (output target). Then we perform the classical train/test split and feed a KNN regressor with the train data. After that, we compute two sources of error in the test set:\n",
    "* The RMS (Root Mean Square) error between the predictions and the targets\n",
    "* The ranking error. This is, we check all the pairs of test examples and see whether the order induced by the target differs from the order induced by the prediction.\n",
    "\n",
    "First of all, in order to give a flavour of the heuristic's behaviour, let us plot some relations among them and with respect to the optimal planning length:\n",
    "\n",
    "**Hanoi**"
   ]
  },
  {
   "cell_type": "code",
   "execution_count": 19,
   "metadata": {
    "hideCode": true
   },
   "outputs": [],
   "source": [
    "g = planning.heuristics.AccumulatedCost()\n",
    "hadd = planning.heuristics.AdditiveHeuristic()\n",
    "rpg = planning.heuristics.RelaxedPlanningGraphHeuristic()\n",
    "hlinear = planning.heuristics.LinearCombination([g, rpg], (1, 1)) # 5 A-star with additive heuristic\n",
    "h = planning.heuristics.ConcatenateHeuristic([hlinear, rpg])"
   ]
  },
  {
   "cell_type": "code",
   "execution_count": null,
   "metadata": {
    "hideCode": true,
    "hideOutput": false
   },
   "outputs": [],
   "source": [
    "domain = planning.domains[\"Hanoi\"]\n",
    "\n",
    "import random\n",
    "import tqdm\n",
    "import numpy as np\n",
    "import os\n",
    "\n",
    "random.seed(42)\n",
    "\n",
    "m = 4 # 4-peg Hanoi towers\n",
    "\n",
    "load = True\n",
    "\n",
    "datadir = os.path.join(\"data\", \"hanoi\", str(m))\n",
    "\n",
    "try:\n",
    "    os.makedirs(datadir)\n",
    "except OSError:\n",
    "    pass\n",
    "\n",
    "X_file = os.path.join(datadir, \"X.npy\")\n",
    "y_file = os.path.join(datadir, \"y.npy\")\n",
    "\n",
    "if load:\n",
    "    X = np.load(X_file)\n",
    "    y = np.load(y_file)\n",
    "else:\n",
    "\n",
    "    X = []\n",
    "    y = []\n",
    "\n",
    "    N = 1000\n",
    "\n",
    "    generated = set()\n",
    "    \n",
    "    # Available heuristics:\n",
    "    # \"add()\", \"ff()\", \"cg()\", \"lmcut()\", \"cegar()\", \n",
    "    # \"hmax()\", \"cpdbs()\", \"cea()\", \"zopdbs()\", \"goalcount()\"\n",
    "    fd = planning.heuristics.FDHeuristic(domain, \"add()\", \"ff()\", \"cg()\", \"lmcut()\", \"cegar()\",\n",
    "                                         \"hmax()\", \"cpdbs()\", \"goalcount()\")\n",
    "#     fd = planning.heuristics.FDHeuristic(domain, \"add()\", \"ff()\", \"cg()\", \"lmcut()\", \"cegar()\")\n",
    "\n",
    "    for _ in tqdm.tqdm_notebook(range(N)):\n",
    "        while True:\n",
    "            n = random.randint(3, 5)\n",
    "    #         m = random.randint(3, 4)\n",
    "            problem = domain.generate_problem(n, m, random=True)\n",
    "            if not problem.trivial() and (problem.init(), problem.goal()) not in generated:\n",
    "                break\n",
    "        generated.add((state, problem.goal()))\n",
    "        bfs = planning.BestFirstSearch(problem, verbose=0, timeout=300.0, node_bound=20000,\n",
    "                                       heuristic=h, close_forever=False)\n",
    "        status = bfs()\n",
    "        if status == planning.search.FOUND:\n",
    "            plan_len = len(bfs.plan())\n",
    "            X.append(fd.h(problem.init(), problem.goal()))\n",
    "            y.append(plan_len)\n",
    "#             for i, state in enumerate(bfs.state_sequence()):\n",
    "#                 generated.add((state, problem.goal()))\n",
    "#                 X.append(fd.h(state, problem.goal()))\n",
    "#                 y.append(plan_len - i)\n",
    "\n",
    "    X = np.array(X)\n",
    "    y = np.array(y)\n",
    "    \n",
    "    np.save(X_file, X)\n",
    "    np.save(y_file, y)"
   ]
  },
  {
   "cell_type": "code",
   "execution_count": 28,
   "metadata": {
    "hideCode": true,
    "hidePrompt": false
   },
   "outputs": [
    {
     "data": {
      "image/png": "[encoded data removed]",
      "text/plain": [
       "<matplotlib.figure.Figure at 0x7ff4eb02a898>"
      ]
     },
     "metadata": {},
     "output_type": "display_data"
    }
   ],
   "source": [
    "import matplotlib as mlp\n",
    "%matplotlib inline\n",
    "plt = mlp.pyplot\n",
    "plt.rcParams[\"figure.figsize\"] = [11, 6]\n",
    "mlp.rcParams[\"figure.dpi\"] = 72\n",
    "\n",
    "plt.subplot(2, 3, 1)\n",
    "plt.scatter(X[:,0], X[:,1])\n",
    "plt.grid(\"on\")\n",
    "plt.xlabel(\"additive heuristic\")\n",
    "plt.ylabel(\"ff heuristic\")\n",
    "plt.title(\"Additive vs FF heuristic\")\n",
    "\n",
    "plt.subplot(2, 3, 2)\n",
    "plt.scatter(X[:,1], X[:,2])\n",
    "plt.grid(\"on\")\n",
    "plt.xlabel(\"FF heuristic\")\n",
    "plt.ylabel(\"Causal Graph heuristic\")\n",
    "plt.title(\"FF vs Causal Graph heuristic\")\n",
    "\n",
    "plt.subplot(2, 3, 3)\n",
    "plt.scatter(X[:,1], y)\n",
    "plt.grid(\"on\")\n",
    "plt.xlabel(\"FF heuristic\")\n",
    "plt.ylabel(\"h*\")\n",
    "plt.title(\"FF heuristic vs Optimal plan length\")\n",
    "\n",
    "plt.subplot(2, 3, 4)\n",
    "plt.scatter(X[:,0], y)\n",
    "plt.grid(\"on\")\n",
    "plt.xlabel(\"Additive heuristic\")\n",
    "plt.ylabel(\"h*\")\n",
    "plt.title(\"Additive heuristic vs Optimal plan length\")\n",
    "\n",
    "plt.subplot(2, 3, 5)\n",
    "plt.scatter(X[:,2], y)\n",
    "plt.grid(\"on\")\n",
    "plt.xlabel(\"Causal Graph heuristic\")\n",
    "plt.ylabel(\"h*\")\n",
    "plt.title(\"Causal Graph heuristic vs Optimal plan length\")\n",
    "\n",
    "plt.subplot(2, 3, 6)\n",
    "plt.scatter(X[:,-2], y)\n",
    "plt.grid(\"on\")\n",
    "plt.xlabel(\"Canonical PDB\")\n",
    "plt.ylabel(\"h*\")\n",
    "plt.title(\"Canonical PDB vs Optimal plan length\")\n",
    "\n",
    "plt.tight_layout()\n",
    "plt.show()"
   ]
  },
  {
   "cell_type": "code",
   "execution_count": null,
   "metadata": {
    "hideCode": true,
    "hideOutput": false
   },
   "outputs": [],
   "source": [
    "from scipy.linalg import sqrtm\n",
    "\n",
    "from sklearn import neighbors\n",
    "from sklearn.model_selection import cross_val_score\n",
    "\n",
    "psplit = 0.8\n",
    "\n",
    "n = X.shape[0]\n",
    "n_train = int(n*psplit)\n",
    "n_test = n - n_train\n",
    "\n",
    "# weights = [1,1,1,1,1,1,1,1]\n",
    "\n",
    "X_train = X[:n_train,:]\n",
    "y_train = y[:n_train]\n",
    "\n",
    "# V = np.matrix(np.cov(X_train.T))\n",
    "# VI_sqrt = sqrtm(V.I)\n",
    "\n",
    "# X_train = np.matmul(X_train, VI_sqrt)*weights\n",
    "\n",
    "X_test = X[n_train:,:]\n",
    "# X_test = np.matmul(X[n_train:, columns], VI_sqrt)*weights\n",
    "y_test = y[n_train:]\n",
    "\n",
    "knn = neighbors.KNeighborsRegressor(4, weights=\"distance\")\n",
    "\n",
    "knn.fit(X_train, y_train)\n",
    "\n",
    "y_ = knn.predict(X_test)\n",
    "\n",
    "# print(y_test[10:20])\n",
    "# print(y_[10:20])\n",
    "# print(X_test[10:20,:])\n",
    "\n",
    "error = np.sqrt(np.sum((y_ - y_test)**2)/n_test)\n",
    "\n",
    "print(\"RMS error: {:.02}\".format(error))\n",
    "\n",
    "ranking_errors = 0\n",
    "ranking_errors_simple = 0\n",
    "\n",
    "for i in range(n_test):\n",
    "    for j in range(n_test):\n",
    "        y1, y1_ = y_test[i], y_[i]\n",
    "        y2, y2_ = y_test[j], y_[j]\n",
    "        x1, x2 = X_test[i,0], X_test[j,0]\n",
    "        if y1 < y2 and y1_ >= y2_:\n",
    "            ranking_errors += 1\n",
    "        elif y1 > y2 and y1_ <= y2_:\n",
    "            ranking_errors += 1\n",
    "        if y1 < y2 and x1 >= x2:\n",
    "            ranking_errors_simple += 1\n",
    "        elif y1 > y2 and x1 <= x2:\n",
    "            ranking_errors_simple += 1\n",
    "            \n",
    "print(\"Ranking error (KNN): {:.02f}%\".format(100*ranking_errors/(n_test*n_test)))\n",
    "print(\"Ranking error (hadd): {:.02f}%\".format(100*ranking_errors_simple/(n_test*n_test)))"
   ]
  },
  {
   "cell_type": "code",
   "execution_count": null,
   "metadata": {
    "hideCode": true,
    "hideOutput": false
   },
   "outputs": [],
   "source": [
    "domain = planning.domains[\"Blocks\"]\n",
    "\n",
    "import random\n",
    "import tqdm\n",
    "import numpy as np\n",
    "import os\n",
    "\n",
    "random.seed(42)\n",
    "\n",
    "load = True\n",
    "\n",
    "datadir = os.path.join(\"data\", \"blocks\")\n",
    "\n",
    "try:\n",
    "    os.makedirs(datadir)\n",
    "except OSError:\n",
    "    pass\n",
    "\n",
    "X_file = os.path.join(datadir, \"X.npy\")\n",
    "y_file = os.path.join(datadir, \"y.npy\")\n",
    "\n",
    "if load:\n",
    "    X = np.load(X_file)\n",
    "    y = np.load(y_file)\n",
    "else:\n",
    "\n",
    "    X = []\n",
    "    y = []\n",
    "\n",
    "    N = 1000\n",
    "\n",
    "    generated = set()\n",
    "    \n",
    "    # Available heuristics:\n",
    "    # \"add()\", \"ff()\", \"cg()\", \"lmcut()\", \"cegar()\", \n",
    "    # \"hmax()\", \"cpdbs()\", \"cea()\", \"zopdbs()\", \"goalcount()\"\n",
    "    fd = planning.heuristics.FDHeuristic(domain, \"add()\", \"ff()\", \"cg()\", \"lmcut()\", \"cegar()\",\n",
    "                                         \"hmax()\", \"cpdbs()\", \"goalcount()\")\n",
    "#     fd = planning.heuristics.FDHeuristic(domain, \"add()\", \"ff()\", \"cg()\", \"lmcut()\", \"cegar()\")\n",
    "\n",
    "    for _ in tqdm.tqdm_notebook(range(N)):\n",
    "        while True:\n",
    "            n = random.randint(3, 5)\n",
    "            m = random.randint(3, 5) # number of slots\n",
    "            problem = domain.generate_problem(n, m, forced_goal=False)\n",
    "            if not problem.trivial() and (problem.init(), problem.goal()) not in generated:\n",
    "                break\n",
    "        generated.add((state, problem.goal()))\n",
    "        bfs = planning.BestFirstSearch(problem, verbose=0, timeout=30.0, node_bound=20000,\n",
    "                                       heuristic=h, close_forever=False)\n",
    "        status = bfs()\n",
    "        if status == planning.search.FOUND:\n",
    "            plan_len = len(bfs.plan())\n",
    "            X.append(fd.h(problem.init(), problem.goal()))\n",
    "            y.append(plan_len)\n",
    "#             for i, state in enumerate(bfs.state_sequence()):\n",
    "#                 generated.add((state, problem.goal()))\n",
    "#                 X.append(fd.h(state, problem.goal()))\n",
    "#                 y.append(plan_len - i)\n",
    "\n",
    "    X = np.array(X)\n",
    "    y = np.array(y)\n",
    "    \n",
    "    np.save(X_file, X)\n",
    "    np.save(y_file, y)"
   ]
  },
  {
   "cell_type": "markdown",
   "metadata": {
    "hideCode": false
   },
   "source": [
    "**Blocks**"
   ]
  },
  {
   "cell_type": "code",
   "execution_count": 27,
   "metadata": {
    "hideCode": true
   },
   "outputs": [
    {
     "data": {
      "image/png": "[encoded data removed]",
      "text/plain": [
       "<matplotlib.figure.Figure at 0x7ff4e8b3ae10>"
      ]
     },
     "metadata": {},
     "output_type": "display_data"
    }
   ],
   "source": [
    "import matplotlib as mlp\n",
    "%matplotlib inline\n",
    "plt = mlp.pyplot\n",
    "plt.rcParams[\"figure.figsize\"] = [11, 6]\n",
    "mlp.rcParams[\"figure.dpi\"] = 72\n",
    "\n",
    "plt.subplot(2, 3, 1)\n",
    "plt.scatter(X[:,0], X[:,1])\n",
    "plt.grid(\"on\")\n",
    "plt.xlabel(\"additive heuristic\")\n",
    "plt.ylabel(\"ff heuristic\")\n",
    "plt.title(\"Additive vs FF heuristic\")\n",
    "\n",
    "plt.subplot(2, 3, 2)\n",
    "plt.scatter(X[:,1], X[:,2])\n",
    "plt.grid(\"on\")\n",
    "plt.xlabel(\"FF heuristic\")\n",
    "plt.ylabel(\"Causal Graph heuristic\")\n",
    "plt.title(\"FF vs Causal Graph heuristic\")\n",
    "\n",
    "plt.subplot(2, 3, 3)\n",
    "plt.scatter(X[:,1], y)\n",
    "plt.grid(\"on\")\n",
    "plt.xlabel(\"FF heuristic\")\n",
    "plt.ylabel(\"h*\")\n",
    "plt.title(\"FF heuristic vs Optimal plan length\")\n",
    "\n",
    "plt.subplot(2, 3, 4)\n",
    "plt.scatter(X[:,0], y)\n",
    "plt.grid(\"on\")\n",
    "plt.xlabel(\"Additive heuristic\")\n",
    "plt.ylabel(\"h*\")\n",
    "plt.title(\"Additive heuristic vs Optimal plan length\")\n",
    "\n",
    "plt.subplot(2, 3, 5)\n",
    "plt.scatter(X[:,2], y)\n",
    "plt.grid(\"on\")\n",
    "plt.xlabel(\"Causal Graph heuristic\")\n",
    "plt.ylabel(\"h*\")\n",
    "plt.title(\"Causal Graph heuristic vs Optimal plan length\")\n",
    "\n",
    "plt.subplot(2, 3, 6)\n",
    "plt.scatter(X[:,-2], y)\n",
    "plt.grid(\"on\")\n",
    "plt.xlabel(\"Canonical PDB\")\n",
    "plt.ylabel(\"h*\")\n",
    "plt.title(\"Canonical PDB vs Optimal plan length\")\n",
    "\n",
    "plt.tight_layout()\n",
    "plt.show()"
   ]
  },
  {
   "cell_type": "code",
   "execution_count": null,
   "metadata": {
    "hideCode": true,
    "hideOutput": false
   },
   "outputs": [],
   "source": [
    "from scipy.linalg import sqrtm\n",
    "\n",
    "from sklearn import neighbors\n",
    "from sklearn.model_selection import cross_val_score\n",
    "\n",
    "psplit = 0.8\n",
    "\n",
    "n = X.shape[0]\n",
    "n_train = int(n*psplit)\n",
    "n_test = n - n_train\n",
    "\n",
    "# weights = [1,1,1,1,1,1,1,1]\n",
    "\n",
    "X_train = X[:n_train,:]\n",
    "y_train = y[:n_train]\n",
    "\n",
    "# V = np.matrix(np.cov(X_train.T))\n",
    "# VI_sqrt = sqrtm(V.I)\n",
    "\n",
    "# X_train = np.matmul(X_train, VI_sqrt)*weights\n",
    "\n",
    "X_test = X[n_train:,:]\n",
    "# X_test = np.matmul(X[n_train:, columns], VI_sqrt)*weights\n",
    "y_test = y[n_train:]\n",
    "\n",
    "knn = neighbors.KNeighborsRegressor(4, weights=\"distance\")\n",
    "\n",
    "knn.fit(X_train, y_train)\n",
    "\n",
    "y_ = knn.predict(X_test)\n",
    "\n",
    "# print(y_test[10:20])\n",
    "# print(y_[10:20])\n",
    "# print(X_test[10:20,:])\n",
    "\n",
    "error = np.sqrt(np.sum((y_ - y_test)**2)/n_test)\n",
    "\n",
    "print(\"RMS error: {:.02}\".format(error))\n",
    "\n",
    "ranking_errors = 0\n",
    "ranking_errors_simple = 0\n",
    "\n",
    "for i in range(n_test):\n",
    "    for j in range(n_test):\n",
    "        y1, y1_ = y_test[i], y_[i]\n",
    "        y2, y2_ = y_test[j], y_[j]\n",
    "        x1, x2 = X_test[i,0], X_test[j,0]\n",
    "        if y1 < y2 and y1_ >= y2_:\n",
    "            ranking_errors += 1\n",
    "        elif y1 > y2 and y1_ <= y2_:\n",
    "            ranking_errors += 1\n",
    "        if y1 < y2 and x1 >= x2:\n",
    "            ranking_errors_simple += 1\n",
    "        elif y1 > y2 and x1 <= x2:\n",
    "            ranking_errors_simple += 1\n",
    "            \n",
    "print(\"Ranking error (KNN): {:.02f}%\".format(100*ranking_errors/(n_test*n_test)))\n",
    "print(\"Ranking error (hadd): {:.02f}%\".format(100*ranking_errors_simple/(n_test*n_test)))"
   ]
  },
  {
   "cell_type": "markdown",
   "metadata": {},
   "source": [
    "**Elevators**"
   ]
  },
  {
   "cell_type": "code",
   "execution_count": null,
   "metadata": {
    "hideCode": true,
    "hideOutput": false
   },
   "outputs": [],
   "source": [
    "domain = planning.domains[\"Elevator\"]\n",
    "\n",
    "import random\n",
    "import tqdm\n",
    "import numpy as np\n",
    "import os\n",
    "\n",
    "random.seed(42)\n",
    "\n",
    "m = 4 # 4-peg Hanoi towers\n",
    "\n",
    "load = True\n",
    "\n",
    "datadir = os.path.join(\"data\", \"elevators\")\n",
    "\n",
    "try:\n",
    "    os.makedirs(datadir)\n",
    "except OSError:\n",
    "    pass\n",
    "\n",
    "X_file = os.path.join(datadir, \"X.npy\")\n",
    "y_file = os.path.join(datadir, \"y.npy\")\n",
    "\n",
    "if load:\n",
    "    X = np.load(X_file)\n",
    "    y = np.load(y_file)\n",
    "else:\n",
    "\n",
    "    X = []\n",
    "    y = []\n",
    "\n",
    "    N = 1000\n",
    "\n",
    "    generated = set()\n",
    "    \n",
    "    # Available heuristics:\n",
    "    # \"add()\", \"ff()\", \"cg()\", \"lmcut()\", \"cegar()\", \n",
    "    # \"hmax()\", \"cpdbs()\", \"cea()\", \"zopdbs()\", \"goalcount()\"\n",
    "    fd = planning.heuristics.FDHeuristic(domain, \"add()\", \"ff()\", \"cg()\", \"lmcut()\", \"cegar()\",\n",
    "                                         \"hmax()\", \"cpdbs()\", \"goalcount()\")\n",
    "#     fd = planning.heuristics.FDHeuristic(domain, \"add()\", \"ff()\", \"cg()\", \"lmcut()\", \"cegar()\")\n",
    "\n",
    "    for _ in tqdm.tqdm_notebook(range(N)):\n",
    "        while True:\n",
    "            n = random.randint(1, 5)\n",
    "            m = random.randint(3, 4)\n",
    "            problem = domain.generate_problem(n, m, goal=False)\n",
    "            if not problem.trivial() and (problem.init(), problem.goal()) not in generated:\n",
    "                break\n",
    "        generated.add((state, problem.goal()))\n",
    "        bfs = planning.BestFirstSearch(problem, verbose=0, timeout=300.0, node_bound=20000,\n",
    "                                       heuristic=h, close_forever=False)\n",
    "        status = bfs()\n",
    "        if status == planning.search.FOUND:\n",
    "            plan_len = len(bfs.plan())\n",
    "            X.append(fd.h(problem.init(), problem.goal()))\n",
    "            y.append(plan_len)\n",
    "#             for i, state in enumerate(bfs.state_sequence()):\n",
    "#                 generated.add((state, problem.goal()))\n",
    "#                 X.append(fd.h(state, problem.goal()))\n",
    "#                 y.append(plan_len - i)\n",
    "\n",
    "    X = np.array(X)\n",
    "    y = np.array(y)\n",
    "    \n",
    "    np.save(X_file, X)\n",
    "    np.save(y_file, y)"
   ]
  },
  {
   "cell_type": "code",
   "execution_count": 36,
   "metadata": {
    "hideCode": true
   },
   "outputs": [
    {
     "data": {
      "image/png": "[encoded data removed]",
      "text/plain": [
       "<matplotlib.figure.Figure at 0x7ff4e8fa3dd8>"
      ]
     },
     "metadata": {},
     "output_type": "display_data"
    }
   ],
   "source": [
    "import matplotlib as mlp\n",
    "%matplotlib inline\n",
    "plt = mlp.pyplot\n",
    "plt.rcParams[\"figure.figsize\"] = [11, 6]\n",
    "mlp.rcParams[\"figure.dpi\"] = 72\n",
    "\n",
    "plt.subplot(2, 3, 1)\n",
    "plt.scatter(X[:,0], X[:,1])\n",
    "plt.grid(\"on\")\n",
    "plt.xlabel(\"additive heuristic\")\n",
    "plt.ylabel(\"ff heuristic\")\n",
    "plt.title(\"Additive vs FF heuristic\")\n",
    "\n",
    "plt.subplot(2, 3, 2)\n",
    "plt.scatter(X[:,1], X[:,2])\n",
    "plt.grid(\"on\")\n",
    "plt.xlabel(\"FF heuristic\")\n",
    "plt.ylabel(\"Causal Graph heuristic\")\n",
    "plt.title(\"FF vs Causal Graph heuristic\")\n",
    "\n",
    "plt.subplot(2, 3, 3)\n",
    "plt.scatter(X[:,1], y)\n",
    "plt.grid(\"on\")\n",
    "plt.xlabel(\"FF heuristic\")\n",
    "plt.ylabel(\"h*\")\n",
    "plt.title(\"FF heuristic vs Optimal plan length\")\n",
    "\n",
    "plt.subplot(2, 3, 4)\n",
    "plt.scatter(X[:,0], y)\n",
    "plt.grid(\"on\")\n",
    "plt.xlabel(\"Additive heuristic\")\n",
    "plt.ylabel(\"h*\")\n",
    "plt.title(\"Additive heuristic vs Optimal plan length\")\n",
    "\n",
    "plt.subplot(2, 3, 5)\n",
    "plt.scatter(X[:,2], y)\n",
    "plt.grid(\"on\")\n",
    "plt.xlabel(\"Causal Graph heuristic\")\n",
    "plt.ylabel(\"h*\")\n",
    "plt.title(\"Causal Graph heuristic vs Optimal plan length\")\n",
    "\n",
    "plt.subplot(2, 3, 6)\n",
    "plt.scatter(X[:,-2], y)\n",
    "plt.grid(\"on\")\n",
    "plt.xlabel(\"Canonical PDB\")\n",
    "plt.ylabel(\"h*\")\n",
    "plt.title(\"Canonical PDB vs Optimal plan length\")\n",
    "\n",
    "plt.tight_layout()\n",
    "plt.show()"
   ]
  },
  {
   "cell_type": "markdown",
   "metadata": {},
   "source": [
    "These plots indicate that the heuristics are indeed correlated to the optimum length of the plan, some more sparsely than other. This is, of course, as expected, but it also implies that the attributes are correlated among them. This is, in general, something that we would like to avoid in most of Machine Learning techniques, and it is typically addressed with whitening transforms (e.g. multiplying the data by the square root of its covariance matrix) or orthogonalization. However, it is not much of an concern with KNN, and dealing explicitly with this issue has led to results that are actually worse than the ones presented below.\n",
    "\n",
    "We have computed the error of the KNN regressor and represented it in the following table:\n",
    "\n",
    "| Domain    | RMS error | Ranking error (KNN) | Ranking error ($h_{add}$) |\n",
    "|----------:|----------:|--------------------:|----------------------------:|\n",
    "| Hanoi     |      0.85 |               5.57% |                      13.73% |\n",
    "| Blocks    |      1.00 |               2.00% |                      14.42% |\n",
    "| Elevators |      0.70 |               3.62% |                       9.31% |\n",
    "\n",
    "The first two error columns refer to the KNN regressor itself, while the third one refers to the ranking error of one of the top performing heuristics. From this table of results it would seem that the KNN regressor has the potential to perform well in these domains.\n",
    "\n",
    "Unfortunatelly, when switching to continuous learning, we have had trouble collecting big samples of data for evaluating appropriately the CBR because of the enormous overhead of the Python-Fast Downward interaction. However, so far the tentative results in the Hanoi problem (not quantitatively measured) have been discouraging because a search algorithm that uses the CBR actually expands more nodes than one that employs $ h_{add} $ as heuristic. We have reasons to believe that this is because of the high difficulty of the Hanoi problem with respect to the other domains. We also believe that another possible cause for this is that KNN, in its most standard form, is not adequate for solving this kind of problems.\n",
    "\n",
    "In the future, it is our intention to confirm and extend these results."
   ]
  },
  {
   "cell_type": "code",
   "execution_count": null,
   "metadata": {
    "hideCode": true,
    "hideOutput": false
   },
   "outputs": [],
   "source": [
    "from scipy.linalg import sqrtm\n",
    "\n",
    "from sklearn import neighbors\n",
    "from sklearn.model_selection import cross_val_score\n",
    "\n",
    "psplit = 0.8\n",
    "\n",
    "n = X.shape[0]\n",
    "n_train = int(n*psplit)\n",
    "n_test = n - n_train\n",
    "\n",
    "# weights = [1,1,1,1,1,1,1,1]\n",
    "\n",
    "X_train = X[:n_train,:]\n",
    "y_train = y[:n_train]\n",
    "\n",
    "# V = np.matrix(np.cov(X_train.T))\n",
    "# VI_sqrt = sqrtm(V.I)\n",
    "\n",
    "# X_train = np.matmul(X_train, VI_sqrt)*weights\n",
    "\n",
    "X_test = X[n_train:,:]\n",
    "# X_test = np.matmul(X[n_train:, columns], VI_sqrt)*weights\n",
    "y_test = y[n_train:]\n",
    "\n",
    "knn = neighbors.KNeighborsRegressor(4, weights=\"distance\")\n",
    "\n",
    "knn.fit(X_train, y_train)\n",
    "\n",
    "y_ = knn.predict(X_test)\n",
    "\n",
    "# print(y_test[10:20])\n",
    "# print(y_[10:20])\n",
    "# print(X_test[10:20,:])\n",
    "\n",
    "error = np.sqrt(np.sum((y_ - y_test)**2)/n_test)\n",
    "\n",
    "print(\"RMS error: {:.02}\".format(error))\n",
    "\n",
    "ranking_errors = 0\n",
    "ranking_errors_simple = 0\n",
    "\n",
    "for i in range(n_test):\n",
    "    for j in range(n_test):\n",
    "        y1, y1_ = y_test[i], y_[i]\n",
    "        y2, y2_ = y_test[j], y_[j]\n",
    "        x1, x2 = X_test[i,0], X_test[j,0]\n",
    "        if y1 < y2 and y1_ >= y2_:\n",
    "            ranking_errors += 1\n",
    "        elif y1 > y2 and y1_ <= y2_:\n",
    "            ranking_errors += 1\n",
    "        if y1 < y2 and x1 >= x2:\n",
    "            ranking_errors_simple += 1\n",
    "        elif y1 > y2 and x1 <= x2:\n",
    "            ranking_errors_simple += 1\n",
    "            \n",
    "print(\"Ranking error (KNN): {:.02f}%\".format(100*ranking_errors/(n_test*n_test)))\n",
    "print(\"Ranking error (hadd): {:.02f}%\".format(100*ranking_errors_simple/(n_test*n_test)))"
   ]
  },
  {
   "cell_type": "markdown",
   "metadata": {},
   "source": [
    "## 6. Discussion\n",
    "\n",
    "A KNN armed with a reasonably big training data set seems quite capable of obtaining a low regression error, as it became apparent in the previous section. However, in our tentative experiments in the Hanoi domain, the continuous learning CBR did not perform as well as these results suggest. We have reasons to believe that achieving a low RMS alone is not a strong enough guarantee for outperforming classical heuristic search in terms of expanded nodes. This suspicion is confirmed by some authors [2] that argue that more important than approximating the value of the target is inducing the same relative order among states. For this very reason, in the previous section we have shown the ranking error in addition to the RMS error.\n",
    "\n",
    "Although a fully trained KNN seems to achieve a lower ranking error than one of the top performing heuristics, we have no obvious way to optimize the induced order instead of the absolute value. This is a matter of further research."
   ]
  },
  {
   "cell_type": "markdown",
   "metadata": {},
   "source": [
    "## 7. Conclusions and future work\n",
    "\n",
    "We believe that our initial goal was indeed very ambitious. At the time of the delivery of this report, we recognize that this is more of a preliminary study on the applicability of CBR than a finished product. However, we strongly believe that the topic covered in this document is quite interesting and deserving of attention.\n",
    "\n",
    "More experiments have to be conducted in the future to draw complete conclusions about this work. As of today, we consider this a still ongoing research. We aim at extending our results for the presentation day.\n",
    "\n",
    "There is plenty of room for further experimentation in our current set-up. One idea is, for example, to use alternative distance measures in the KNN (e.g. weighting each of the attributes differently). Parameterized distances can be also optimized (e.g. using evolutionary algorithms).\n",
    "\n",
    "Another alternative that we were considering at the beginning of the project and that we willing to explore in the future was based on computing similarities between planning states, representing them as graphs. We discarded this for the tremendous computational effort that would be required to execute the similarity algorithm against a whole data base of graphs (more work has to be done to make this efficient). The following is an example of how would this look like (more information in the `demo_graph_similarities` notebook):"
   ]
  },
  {
   "cell_type": "code",
   "execution_count": 1,
   "metadata": {
    "hideCode": true
   },
   "outputs": [
    {
     "ename": "ImportError",
     "evalue": "No module named 'graphviz'",
     "output_type": "error",
     "traceback": [
      "\u001b[0;31m---------------------------------------------------------------------------\u001b[0m",
      "\u001b[0;31mImportError\u001b[0m                               Traceback (most recent call last)",
      "\u001b[0;32m<ipython-input-1-8c1cbe612b49>\u001b[0m in \u001b[0;36m<module>\u001b[0;34m()\u001b[0m\n\u001b[0;32m----> 1\u001b[0;31m \u001b[0;32mfrom\u001b[0m \u001b[0mgraphsim\u001b[0m \u001b[0;32mimport\u001b[0m \u001b[0mGraph\u001b[0m\u001b[0;34m\u001b[0m\u001b[0m\n\u001b[0m\u001b[1;32m      2\u001b[0m \u001b[0;32mfrom\u001b[0m \u001b[0mgraphsim\u001b[0m \u001b[0;32mimport\u001b[0m \u001b[0mgraph_match_dot\u001b[0m\u001b[0;34m,\u001b[0m \u001b[0mdefault_f_score\u001b[0m\u001b[0;34m,\u001b[0m \u001b[0mdefault_g_cost\u001b[0m\u001b[0;34m\u001b[0m\u001b[0m\n\u001b[1;32m      3\u001b[0m \u001b[0;32mfrom\u001b[0m \u001b[0mgraphsim\u001b[0m \u001b[0;32mimport\u001b[0m \u001b[0mbest_mapping\u001b[0m\u001b[0;34m,\u001b[0m \u001b[0mgreedy_mapping\u001b[0m\u001b[0;34m,\u001b[0m \u001b[0mr_greedy_mapping\u001b[0m\u001b[0;34m\u001b[0m\u001b[0m\n\u001b[1;32m      4\u001b[0m \u001b[0;32mfrom\u001b[0m \u001b[0mIPython\u001b[0m\u001b[0;34m.\u001b[0m\u001b[0mcore\u001b[0m\u001b[0;34m.\u001b[0m\u001b[0mdisplay\u001b[0m \u001b[0;32mimport\u001b[0m \u001b[0mdisplay\u001b[0m\u001b[0;34m\u001b[0m\u001b[0m\n\u001b[1;32m      5\u001b[0m \u001b[0;32mfrom\u001b[0m \u001b[0mtime\u001b[0m \u001b[0;32mimport\u001b[0m \u001b[0mclock\u001b[0m\u001b[0;34m\u001b[0m\u001b[0m\n",
      "\u001b[0;32m~/Documents/git/planning-cbr/nb-example/graphsim/__init__.py\u001b[0m in \u001b[0;36m<module>\u001b[0;34m()\u001b[0m\n\u001b[0;32m----> 1\u001b[0;31m \u001b[0;32mfrom\u001b[0m \u001b[0;34m.\u001b[0m\u001b[0mclasses\u001b[0m \u001b[0;32mimport\u001b[0m \u001b[0mGraph\u001b[0m\u001b[0;34m\u001b[0m\u001b[0m\n\u001b[0m\u001b[1;32m      2\u001b[0m \u001b[0;32mfrom\u001b[0m \u001b[0;34m.\u001b[0m\u001b[0mutils\u001b[0m \u001b[0;32mimport\u001b[0m \u001b[0;34m*\u001b[0m\u001b[0;34m\u001b[0m\u001b[0m\n\u001b[1;32m      3\u001b[0m \u001b[0;32mfrom\u001b[0m \u001b[0;34m.\u001b[0m\u001b[0malgorithms\u001b[0m \u001b[0;32mimport\u001b[0m \u001b[0;34m*\u001b[0m\u001b[0;34m\u001b[0m\u001b[0m\n\u001b[1;32m      4\u001b[0m \u001b[0;34m\u001b[0m\u001b[0m\n",
      "\u001b[0;32m~/Documents/git/planning-cbr/nb-example/graphsim/classes.py\u001b[0m in \u001b[0;36m<module>\u001b[0;34m()\u001b[0m\n\u001b[0;32m----> 1\u001b[0;31m \u001b[0;32mimport\u001b[0m \u001b[0mgraphviz\u001b[0m \u001b[0;32mas\u001b[0m \u001b[0mgv\u001b[0m\u001b[0;34m\u001b[0m\u001b[0m\n\u001b[0m\u001b[1;32m      2\u001b[0m \u001b[0;34m\u001b[0m\u001b[0m\n\u001b[1;32m      3\u001b[0m \u001b[0;32mfrom\u001b[0m \u001b[0;34m.\u001b[0m\u001b[0mutils\u001b[0m \u001b[0;32mimport\u001b[0m \u001b[0mlist_to_pretty_str\u001b[0m\u001b[0;34m,\u001b[0m \u001b[0madd_value_to_dict\u001b[0m\u001b[0;34m,\u001b[0m \u001b[0mexists\u001b[0m\u001b[0;34m,\u001b[0m\u001b[0;31m\\\u001b[0m\u001b[0;34m\u001b[0m\u001b[0m\n\u001b[1;32m      4\u001b[0m                    \u001b[0mremove_value_from_dict\u001b[0m\u001b[0;34m,\u001b[0m \u001b[0mdefault_g_cost\u001b[0m\u001b[0;34m,\u001b[0m \u001b[0mdefault_f_score\u001b[0m\u001b[0;34m,\u001b[0m\u001b[0;31m\\\u001b[0m\u001b[0;34m\u001b[0m\u001b[0m\n\u001b[1;32m      5\u001b[0m                    \u001b[0mindex_by_length_and_label\u001b[0m\u001b[0;34m,\u001b[0m \u001b[0mmatch_feature\u001b[0m\u001b[0;34m\u001b[0m\u001b[0m\n",
      "\u001b[0;31mImportError\u001b[0m: No module named 'graphviz'"
     ]
    }
   ],
   "source": [
    "from graphsim import Graph\n",
    "from graphsim import graph_match_dot, default_f_score, default_g_cost\n",
    "from graphsim import best_mapping, greedy_mapping, r_greedy_mapping\n",
    "from IPython.core.display import display\n",
    "from time import clock\n",
    "\n",
    "def demo(graph1, graph2, method=best_mapping, f=default_f_score, g=default_g_cost, display_before=False):\n",
    "    if display_before: display(graph_match_dot(graph1, graph2))\n",
    "    start = clock()\n",
    "    mapping, similarity = method(graph1, graph2, f, g)\n",
    "    elapsed = clock() - start\n",
    "    display(graph_match_dot(graph1, graph2, mapping))\n",
    "    print(\"similarity: {:.02f}%\\nelapsed: {:.03f}s\".format(similarity*100, elapsed))\n",
    "    \n",
    "graph1 = Graph(('a', 'beam'), ('a', 'I'), ('b', 'beam'), ('b', 'I'), ('c', 'beam'),\n",
    "               ('c', 'I'), ('d', 'beam'), ('d', 'I'), ('e', 'wall'), ('f', 'wall'),\n",
    "               ('a', 'b', 'next_to'), ('b', 'c', 'next_to'), ('c', 'd', 'next_to'),\n",
    "               ('a', 'e', 'on'), ('b', 'e', 'on'), ('c', 'f', 'on'), ('d', 'f', 'on'))\n",
    "\n",
    "graph2 = Graph((1, 'beam'), (1, 'U'), (2, 'beam'), (2, 'U'), (3, 'beam'),\n",
    "               (3, 'U'), (4, 'beam'), (4, 'U'), (5, 'wall'), (1, 2, 'next_to'),\n",
    "               (2, 3, 'next_to'), (3, 4, 'next_to'), (1, 5, 'on'), (2, 5, 'on'),\n",
    "               (3, 5, 'on'), (4, 5, 'on'))\n",
    "\n",
    "demo(graph1, graph2)"
   ]
  },
  {
   "cell_type": "markdown",
   "metadata": {},
   "source": [
    "All things considered, we have gained a great amount of insight from this project, and we hope that the results, although not as conclusive as we would like, settle a starting point for a promising branch of research."
   ]
  },
  {
   "cell_type": "markdown",
   "metadata": {},
   "source": [
    "[1] M. Helmert (2006) \"The Fast Downward Planning System\", Volume 26, pages 191-246\n",
    "\n",
    "[2] Garrett, C. R., Kaelbling, L. P., & Lozano-Pérez, T. (2016). Learning to rank for synthesizing planning heuristics. arXiv preprint arXiv:1608.01302."
   ]
  }
 ],
 "metadata": {
  "celltoolbar": "Hide code",
  "kernelspec": {
   "display_name": "Python 3",
   "language": "python",
   "name": "python3"
  },
  "language_info": {
   "codemirror_mode": {
    "name": "ipython",
    "version": 3
   },
   "file_extension": ".py",
   "mimetype": "text/x-python",
   "name": "python",
   "nbconvert_exporter": "python",
   "pygments_lexer": "ipython3",
   "version": "3.5.2"
  }
 },
 "nbformat": 4,
 "nbformat_minor": 2
}
