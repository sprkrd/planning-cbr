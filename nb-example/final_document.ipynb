{
 "cells": [
  {
   "cell_type": "markdown",
   "metadata": {},
   "source": [
    "# SEL 2017/18 - Practical Work 3 - CBR prototype for planning\n",
    "\n",
    "1. Introduction\n",
    "    1. Basic principles of the CBR engine project. The general ideas of the CBR engine implemented, from a technical point of view. That means explaining what are the general implementation guidelines of your project (which kind of Case Library structure, which kind of case structure, etc., without giving more details).\n",
    "    2. Chosen application domain\n",
    "    \n",
    "2. Requirement Analysis of the CBR engine Project. The requirements include both the user requirements (main functionalities of the system that user needs, i.e., what the system must do?) and the technical requirements of the system (maximum time response of the system, maximum memory size of the system, etc.).\n",
    "\n",
    "3. Functional Architecture of the CBR engine Project, describing the input, the output, the different components of the system and their interactions.\n",
    "\n",
    "4. Proposed CBR engine Project solution design:\n",
    "    1. Case Structure and Case Library structure designed\n",
    "    2. Methods implementing each CBR cycle step (retrieval, adaptation, evaluation and learning)\n",
    "    \n",
    "5. Testing and evaluation.\n",
    "\n",
    "6. Discussion of results."
   ]
  },
  {
   "cell_type": "markdown",
   "metadata": {},
   "source": [
    "## 1. Introduction\n",
    " \n",
    "In this document we present the work done for the third delivery of the subject Supervised and Experimental Learning (SEL), which is about designing a CBR for planning. A CBR based on the use of several Heuristics has been developed and used in three different well known planning domains. A discussion about the results is also provided at the end of the document.\n",
    "\n",
    "\n",
    "### 1.1. Basic Principles of the CBR engine project\n",
    "\n",
    "Our aim was to implement a CBR engine which combined several heuristics in order to give a closer estimation of the optimal length of the plan to solve one of our domain's problems. In our project, we have considered that the cost of performing an action is uniform, so that we will not make any difference between number of states and cost of a plan. \n",
    "\n",
    "The general idea of our work is to use the heuristic calculated by the CBR as the perfect heuristic of any search algorithm used in pathfinding and graph traversal (IDA*, A*, etc.). We use A*, which guarantees to find the optimal plan if an only if the found heuristic is admissible, that is, it is smaller or equal to the perfect heuristic. However, in our case, we have relaxed the condition of  finding the optimal plan, in order to save computational cost and find a valid path quicker. Specifically, we do not look at the absolute value of the heuristic, but at the order that the heuristic produces in the states which are part of the plan.\n",
    "\n",
    "The Case Library Structure we have used is *k-d tree*, the reason is that we work with numerical values which can be organised following such a structure. For us, each case is a vector of numbers, specifically, a vector of heuristics. \n",
    "\n",
    "\n",
    "### 1.2. Chosen application domain\n",
    "\n",
    "For this practical work we have chosen three different domains: The Tower of Hanoi, Blocks World and Elevators. All of them are typical domains used in Planning. We present the three domains and show examples of them using blind search methods (BFS and IDS). We also use those methods as target in order to test our CBR system. \n",
    "\n",
    "Nevertheless, our project is quite ambitious because we have implemented it for general purpose. It can be apply to any kind of problem which can be written using the sintax used in STRIPS. \n",
    "\n",
    "#### 1.2.1. The Tower of Hanoi\n",
    "The Tower of Hanoi is a mathematical game or puzzle. It consists of three rods and a number of disks of different sizes, which can slide onto any rod. The puzzle starts with the disks in a neat stack in ascending order of size on one rod, the smallest at the top, thus making a conical shape.\n",
    "\n",
    "The objective of the puzzle is to move the entire stack to another rod, obeying the following simple rules:\n",
    "\n",
    "1. Only one disk can be moved at a time.\n",
    "2. Each move consists of taking the upper disk from one of the stacks and placing it on top of another stack.\n",
    "3. No disk may be placed on top of a smaller disk.\n",
    "\n",
    "We have defined the domain in Python and it contains a single operator: `move(?what-disk, ?from-object, ?to-object)`, which moves disk `?what` from object `?from` (either a peg or another disk) to object `?to` (also, either a peg or a disk). Our planning framework can take care of static preconditions. That is, it does not instantiate the move operator for moving a disk onto a smaller disk) so it is not necessary to encode static predicates in the state (the `smaller(?disk1,?disk2)` predicates that are typically seen in PDDL Hanoi domains).\n",
    "\n",
    "We have also implemented a problem generator. The generator can create problems for any number of disks and pegs. It also allows random initial and ending configurations. Our first example will be fairly simple and will have 3 pegs, all the disks in the first peg in the initial state and all the disks in the third peg in the goal configuration. Although the goal in this case details the position of every disk, notice that this does not necessarily has to be the case always. The goal does not need to be a complete description of the end configuration. It is perfectly reasonable, and our framework allows it, to consider partial states (e.g. we want the biggest disk in the third peg, and we do not care about the rest)."
   ]
  },
  {
   "cell_type": "code",
   "execution_count": 1,
   "metadata": {},
   "outputs": [],
   "source": [
    "import planning\n",
    "\n",
    "from IPython.display import display"
   ]
  },
  {
   "cell_type": "code",
   "execution_count": 2,
   "metadata": {
    "scrolled": false
   },
   "outputs": [
    {
     "name": "stdout",
     "output_type": "stream",
     "text": [
      "Domain: Hanoi\n",
      "Types: {'peg': 'object', 'disk': 'object'}\n",
      "Operators:\n",
      "  - move(?what-disk,?from-object,?to-object):\n",
      "    Pre: clear(?what), clear(?to), on(?what,?from), smaller(?what,?to)\n",
      "    Add: clear(?from), on(?what,?to)\n",
      "    Delete: clear(?to), on(?what,?from)\n",
      "Init:\n"
     ]
    },
    {
     "data": {
      "image/svg+xml": [
       "<svg baseProfile=\"full\" height=\"200\" version=\"1.1\" width=\"500\" xmlns=\"http://www.w3.org/2000/svg\" xmlns:ev=\"http://www.w3.org/2001/xml-events\" xmlns:xlink=\"http://www.w3.org/1999/xlink\"><defs /><line stroke=\"black\" x1=\"5%\" x2=\"95%\" y1=\"95%\" y2=\"95%\" /><rect fill=\"white\" height=\"80%\" stroke=\"black\" width=\"1%\" x=\"27.0%\" y=\"15.0%\" /><rect fill=\"white\" height=\"80%\" stroke=\"black\" width=\"1%\" x=\"49.5%\" y=\"15.0%\" /><rect fill=\"white\" height=\"80%\" stroke=\"black\" width=\"1%\" x=\"72.0%\" y=\"15.0%\" /><rect fill=\"white\" height=\"4%\" stroke=\"black\" width=\"4.854%\" x=\"25.073%\" y=\"91.0%\" /><rect fill=\"white\" height=\"4%\" stroke=\"black\" width=\"3.236%\" x=\"25.882%\" y=\"87.0%\" /><rect fill=\"white\" height=\"4%\" stroke=\"black\" width=\"1.618%\" x=\"26.691%\" y=\"83.0%\" /></svg>"
      ],
      "text/plain": [
       "<planning.planning.State at 0x7f5d410ec9e8>"
      ]
     },
     "metadata": {},
     "output_type": "display_data"
    },
    {
     "name": "stdout",
     "output_type": "stream",
     "text": [
      "Goal:\n"
     ]
    },
    {
     "data": {
      "image/svg+xml": [
       "<svg baseProfile=\"full\" height=\"200\" version=\"1.1\" width=\"500\" xmlns=\"http://www.w3.org/2000/svg\" xmlns:ev=\"http://www.w3.org/2001/xml-events\" xmlns:xlink=\"http://www.w3.org/1999/xlink\"><defs /><line stroke=\"black\" x1=\"5%\" x2=\"95%\" y1=\"95%\" y2=\"95%\" /><rect fill=\"white\" height=\"80%\" stroke=\"black\" width=\"1%\" x=\"27.0%\" y=\"15.0%\" /><rect fill=\"white\" height=\"80%\" stroke=\"black\" width=\"1%\" x=\"49.5%\" y=\"15.0%\" /><rect fill=\"white\" height=\"80%\" stroke=\"black\" width=\"1%\" x=\"72.0%\" y=\"15.0%\" /><rect fill=\"white\" height=\"4%\" stroke=\"black\" width=\"4.854%\" x=\"70.073%\" y=\"91.0%\" /><rect fill=\"white\" height=\"4%\" stroke=\"black\" width=\"3.236%\" x=\"70.882%\" y=\"87.0%\" /><rect fill=\"white\" height=\"4%\" stroke=\"black\" width=\"1.618%\" x=\"71.691%\" y=\"83.0%\" /></svg>"
      ],
      "text/plain": [
       "<planning.planning.State at 0x7f5d410eca20>"
      ]
     },
     "metadata": {},
     "output_type": "display_data"
    },
    {
     "name": "stdout",
     "output_type": "stream",
     "text": [
      "Applicable actions in 1st state:\n",
      "move(disk01,disk02,peg2)\n",
      "move(disk01,disk02,peg3)\n"
     ]
    }
   ],
   "source": [
    "domain_name = \"Hanoi\"\n",
    "domain = planning.domains[domain_name]\n",
    "problem = domain.generate_problem(3, 3, random=False)\n",
    "print(domain)\n",
    "# print(problem)\n",
    "print(\"Init:\")\n",
    "display(problem.init())\n",
    "print(\"Goal:\")\n",
    "display(problem.goal())\n",
    "print(\"Applicable actions in 1st state:\")\n",
    "l = list(filter(problem.init().can_apply, problem.operators()))\n",
    "print(\"\\n\".join(map(str, l)))\n",
    "# print(planning.pddl_utility.pddl_actions(l))\n",
    "# print(planning.pddl_utility.pddl_domain(domain, problem.operators()))\n",
    "# print(planning.pddl_utility.pddl_problem(problem))\n",
    "\n",
    "with open(\"domain\"+domain_name+\".pddl\", \"w\") as d, open(\"problem\"+domain_name+\".pddl\",\"w\") as p:\n",
    "    d.write(planning.pddl_utility.pddl_domain(domain, problem.operators()))\n",
    "    p.write(planning.pddl_utility.pddl_problem(problem))\n"
   ]
  },
  {
   "cell_type": "markdown",
   "metadata": {},
   "source": [
    "We can solve this problem so that we get the following result."
   ]
  },
  {
   "cell_type": "code",
   "execution_count": 3,
   "metadata": {
    "scrolled": false
   },
   "outputs": [
    {
     "name": "stdout",
     "output_type": "stream",
     "text": [
      "[0.003s] Plan found with 7 action(s)\n",
      "#Generated nodes: 24\n",
      "Plan:\n",
      "  move(disk01,disk02,peg3)\n",
      "  move(disk02,disk03,peg2)\n",
      "  move(disk01,peg3,disk02)\n",
      "  move(disk03,peg1,peg3)\n",
      "  move(disk01,disk02,peg1)\n",
      "  move(disk02,peg2,disk03)\n",
      "  move(disk01,peg1,disk02)\n",
      "step 0\n"
     ]
    },
    {
     "data": {
      "image/svg+xml": [
       "<svg baseProfile=\"full\" height=\"200\" version=\"1.1\" width=\"500\" xmlns=\"http://www.w3.org/2000/svg\" xmlns:ev=\"http://www.w3.org/2001/xml-events\" xmlns:xlink=\"http://www.w3.org/1999/xlink\"><defs /><line stroke=\"black\" x1=\"5%\" x2=\"95%\" y1=\"95%\" y2=\"95%\" /><rect fill=\"white\" height=\"80%\" stroke=\"black\" width=\"1%\" x=\"27.0%\" y=\"15.0%\" /><rect fill=\"white\" height=\"80%\" stroke=\"black\" width=\"1%\" x=\"49.5%\" y=\"15.0%\" /><rect fill=\"white\" height=\"80%\" stroke=\"black\" width=\"1%\" x=\"72.0%\" y=\"15.0%\" /><rect fill=\"white\" height=\"4%\" stroke=\"black\" width=\"4.854%\" x=\"25.073%\" y=\"91.0%\" /><rect fill=\"white\" height=\"4%\" stroke=\"black\" width=\"3.236%\" x=\"25.882%\" y=\"87.0%\" /><rect fill=\"white\" height=\"4%\" stroke=\"black\" width=\"1.618%\" x=\"26.691%\" y=\"83.0%\" /></svg>"
      ],
      "text/plain": [
       "<planning.planning.State at 0x7f5d410ec9e8>"
      ]
     },
     "metadata": {},
     "output_type": "display_data"
    },
    {
     "name": "stdout",
     "output_type": "stream",
     "text": [
      "step 1\n"
     ]
    },
    {
     "data": {
      "image/svg+xml": [
       "<svg baseProfile=\"full\" height=\"200\" version=\"1.1\" width=\"500\" xmlns=\"http://www.w3.org/2000/svg\" xmlns:ev=\"http://www.w3.org/2001/xml-events\" xmlns:xlink=\"http://www.w3.org/1999/xlink\"><defs /><line stroke=\"black\" x1=\"5%\" x2=\"95%\" y1=\"95%\" y2=\"95%\" /><rect fill=\"white\" height=\"80%\" stroke=\"black\" width=\"1%\" x=\"27.0%\" y=\"15.0%\" /><rect fill=\"white\" height=\"80%\" stroke=\"black\" width=\"1%\" x=\"49.5%\" y=\"15.0%\" /><rect fill=\"white\" height=\"80%\" stroke=\"black\" width=\"1%\" x=\"72.0%\" y=\"15.0%\" /><rect fill=\"white\" height=\"4%\" stroke=\"black\" width=\"4.854%\" x=\"25.073%\" y=\"91.0%\" /><rect fill=\"white\" height=\"4%\" stroke=\"black\" width=\"3.236%\" x=\"25.882%\" y=\"87.0%\" /><rect fill=\"white\" height=\"4%\" stroke=\"black\" width=\"1.618%\" x=\"71.691%\" y=\"91.0%\" /></svg>"
      ],
      "text/plain": [
       "<planning.planning.State at 0x7f5d410ec5c0>"
      ]
     },
     "metadata": {},
     "output_type": "display_data"
    },
    {
     "name": "stdout",
     "output_type": "stream",
     "text": [
      "step 2\n"
     ]
    },
    {
     "data": {
      "image/svg+xml": [
       "<svg baseProfile=\"full\" height=\"200\" version=\"1.1\" width=\"500\" xmlns=\"http://www.w3.org/2000/svg\" xmlns:ev=\"http://www.w3.org/2001/xml-events\" xmlns:xlink=\"http://www.w3.org/1999/xlink\"><defs /><line stroke=\"black\" x1=\"5%\" x2=\"95%\" y1=\"95%\" y2=\"95%\" /><rect fill=\"white\" height=\"80%\" stroke=\"black\" width=\"1%\" x=\"27.0%\" y=\"15.0%\" /><rect fill=\"white\" height=\"80%\" stroke=\"black\" width=\"1%\" x=\"49.5%\" y=\"15.0%\" /><rect fill=\"white\" height=\"80%\" stroke=\"black\" width=\"1%\" x=\"72.0%\" y=\"15.0%\" /><rect fill=\"white\" height=\"4%\" stroke=\"black\" width=\"4.854%\" x=\"25.073%\" y=\"91.0%\" /><rect fill=\"white\" height=\"4%\" stroke=\"black\" width=\"3.236%\" x=\"48.382%\" y=\"91.0%\" /><rect fill=\"white\" height=\"4%\" stroke=\"black\" width=\"1.618%\" x=\"71.691%\" y=\"91.0%\" /></svg>"
      ],
      "text/plain": [
       "<planning.planning.State at 0x7f5d410ec780>"
      ]
     },
     "metadata": {},
     "output_type": "display_data"
    },
    {
     "name": "stdout",
     "output_type": "stream",
     "text": [
      "step 3\n"
     ]
    },
    {
     "data": {
      "image/svg+xml": [
       "<svg baseProfile=\"full\" height=\"200\" version=\"1.1\" width=\"500\" xmlns=\"http://www.w3.org/2000/svg\" xmlns:ev=\"http://www.w3.org/2001/xml-events\" xmlns:xlink=\"http://www.w3.org/1999/xlink\"><defs /><line stroke=\"black\" x1=\"5%\" x2=\"95%\" y1=\"95%\" y2=\"95%\" /><rect fill=\"white\" height=\"80%\" stroke=\"black\" width=\"1%\" x=\"27.0%\" y=\"15.0%\" /><rect fill=\"white\" height=\"80%\" stroke=\"black\" width=\"1%\" x=\"49.5%\" y=\"15.0%\" /><rect fill=\"white\" height=\"80%\" stroke=\"black\" width=\"1%\" x=\"72.0%\" y=\"15.0%\" /><rect fill=\"white\" height=\"4%\" stroke=\"black\" width=\"4.854%\" x=\"25.073%\" y=\"91.0%\" /><rect fill=\"white\" height=\"4%\" stroke=\"black\" width=\"3.236%\" x=\"48.382%\" y=\"91.0%\" /><rect fill=\"white\" height=\"4%\" stroke=\"black\" width=\"1.618%\" x=\"49.191%\" y=\"87.0%\" /></svg>"
      ],
      "text/plain": [
       "<planning.planning.State at 0x7f5d410ec5f8>"
      ]
     },
     "metadata": {},
     "output_type": "display_data"
    },
    {
     "name": "stdout",
     "output_type": "stream",
     "text": [
      "step 4\n"
     ]
    },
    {
     "data": {
      "image/svg+xml": [
       "<svg baseProfile=\"full\" height=\"200\" version=\"1.1\" width=\"500\" xmlns=\"http://www.w3.org/2000/svg\" xmlns:ev=\"http://www.w3.org/2001/xml-events\" xmlns:xlink=\"http://www.w3.org/1999/xlink\"><defs /><line stroke=\"black\" x1=\"5%\" x2=\"95%\" y1=\"95%\" y2=\"95%\" /><rect fill=\"white\" height=\"80%\" stroke=\"black\" width=\"1%\" x=\"27.0%\" y=\"15.0%\" /><rect fill=\"white\" height=\"80%\" stroke=\"black\" width=\"1%\" x=\"49.5%\" y=\"15.0%\" /><rect fill=\"white\" height=\"80%\" stroke=\"black\" width=\"1%\" x=\"72.0%\" y=\"15.0%\" /><rect fill=\"white\" height=\"4%\" stroke=\"black\" width=\"3.236%\" x=\"48.382%\" y=\"91.0%\" /><rect fill=\"white\" height=\"4%\" stroke=\"black\" width=\"1.618%\" x=\"49.191%\" y=\"87.0%\" /><rect fill=\"white\" height=\"4%\" stroke=\"black\" width=\"4.854%\" x=\"70.073%\" y=\"91.0%\" /></svg>"
      ],
      "text/plain": [
       "<planning.planning.State at 0x7f5d410ec748>"
      ]
     },
     "metadata": {},
     "output_type": "display_data"
    },
    {
     "name": "stdout",
     "output_type": "stream",
     "text": [
      "step 5\n"
     ]
    },
    {
     "data": {
      "image/svg+xml": [
       "<svg baseProfile=\"full\" height=\"200\" version=\"1.1\" width=\"500\" xmlns=\"http://www.w3.org/2000/svg\" xmlns:ev=\"http://www.w3.org/2001/xml-events\" xmlns:xlink=\"http://www.w3.org/1999/xlink\"><defs /><line stroke=\"black\" x1=\"5%\" x2=\"95%\" y1=\"95%\" y2=\"95%\" /><rect fill=\"white\" height=\"80%\" stroke=\"black\" width=\"1%\" x=\"27.0%\" y=\"15.0%\" /><rect fill=\"white\" height=\"80%\" stroke=\"black\" width=\"1%\" x=\"49.5%\" y=\"15.0%\" /><rect fill=\"white\" height=\"80%\" stroke=\"black\" width=\"1%\" x=\"72.0%\" y=\"15.0%\" /><rect fill=\"white\" height=\"4%\" stroke=\"black\" width=\"1.618%\" x=\"26.691%\" y=\"91.0%\" /><rect fill=\"white\" height=\"4%\" stroke=\"black\" width=\"3.236%\" x=\"48.382%\" y=\"91.0%\" /><rect fill=\"white\" height=\"4%\" stroke=\"black\" width=\"4.854%\" x=\"70.073%\" y=\"91.0%\" /></svg>"
      ],
      "text/plain": [
       "<planning.planning.State at 0x7f5d410ec630>"
      ]
     },
     "metadata": {},
     "output_type": "display_data"
    },
    {
     "name": "stdout",
     "output_type": "stream",
     "text": [
      "step 6\n"
     ]
    },
    {
     "data": {
      "image/svg+xml": [
       "<svg baseProfile=\"full\" height=\"200\" version=\"1.1\" width=\"500\" xmlns=\"http://www.w3.org/2000/svg\" xmlns:ev=\"http://www.w3.org/2001/xml-events\" xmlns:xlink=\"http://www.w3.org/1999/xlink\"><defs /><line stroke=\"black\" x1=\"5%\" x2=\"95%\" y1=\"95%\" y2=\"95%\" /><rect fill=\"white\" height=\"80%\" stroke=\"black\" width=\"1%\" x=\"27.0%\" y=\"15.0%\" /><rect fill=\"white\" height=\"80%\" stroke=\"black\" width=\"1%\" x=\"49.5%\" y=\"15.0%\" /><rect fill=\"white\" height=\"80%\" stroke=\"black\" width=\"1%\" x=\"72.0%\" y=\"15.0%\" /><rect fill=\"white\" height=\"4%\" stroke=\"black\" width=\"1.618%\" x=\"26.691%\" y=\"91.0%\" /><rect fill=\"white\" height=\"4%\" stroke=\"black\" width=\"4.854%\" x=\"70.073%\" y=\"91.0%\" /><rect fill=\"white\" height=\"4%\" stroke=\"black\" width=\"3.236%\" x=\"70.882%\" y=\"87.0%\" /></svg>"
      ],
      "text/plain": [
       "<planning.planning.State at 0x7f5d410ec278>"
      ]
     },
     "metadata": {},
     "output_type": "display_data"
    },
    {
     "name": "stdout",
     "output_type": "stream",
     "text": [
      "step 7\n"
     ]
    },
    {
     "data": {
      "image/svg+xml": [
       "<svg baseProfile=\"full\" height=\"200\" version=\"1.1\" width=\"500\" xmlns=\"http://www.w3.org/2000/svg\" xmlns:ev=\"http://www.w3.org/2001/xml-events\" xmlns:xlink=\"http://www.w3.org/1999/xlink\"><defs /><line stroke=\"black\" x1=\"5%\" x2=\"95%\" y1=\"95%\" y2=\"95%\" /><rect fill=\"white\" height=\"80%\" stroke=\"black\" width=\"1%\" x=\"27.0%\" y=\"15.0%\" /><rect fill=\"white\" height=\"80%\" stroke=\"black\" width=\"1%\" x=\"49.5%\" y=\"15.0%\" /><rect fill=\"white\" height=\"80%\" stroke=\"black\" width=\"1%\" x=\"72.0%\" y=\"15.0%\" /><rect fill=\"white\" height=\"4%\" stroke=\"black\" width=\"4.854%\" x=\"70.073%\" y=\"91.0%\" /><rect fill=\"white\" height=\"4%\" stroke=\"black\" width=\"3.236%\" x=\"70.882%\" y=\"87.0%\" /><rect fill=\"white\" height=\"4%\" stroke=\"black\" width=\"1.618%\" x=\"71.691%\" y=\"83.0%\" /></svg>"
      ],
      "text/plain": [
       "<planning.planning.State at 0x7f5d410ecbe0>"
      ]
     },
     "metadata": {},
     "output_type": "display_data"
    }
   ],
   "source": [
    "bfs = planning.BreadthFirstSearch(problem, verbose=1, timeout=30.0, node_bound=None)\n",
    "status = bfs()\n",
    "if status == planning.search.FOUND:\n",
    "    plan = bfs.plan()\n",
    "    state_sequence = bfs.state_sequence()\n",
    "    print(\"#Generated nodes: \" + str(bfs.info()[\"generated\"]))\n",
    "    if True: #len(plan) < 10:\n",
    "        print(\"Plan:\\n  \" + \"\\n  \".join([str(op) for op in bfs.plan()]))\n",
    "        for i, state in enumerate(bfs.state_sequence()):\n",
    "            print(\"step \" + str(i))\n",
    "            display(state)"
   ]
  },
  {
   "cell_type": "markdown",
   "metadata": {},
   "source": [
    "#### 1.2.2. Blocks World\n",
    "The blocks world is one of the most famous planning domains in artificial intelligence. Imagine a set of wooden blocks of various shapes and colors sitting on a table. The goal is to build one or more vertical stacks of blocks. The catch is that only one block may be moved at a time: it may either be placed on the table or placed atop another block. Because of this, any blocks that are, at a given time, under another block cannot be moved. Moreover, some kinds of blocks cannot have other blocks stacked on top of them.\n",
    "\n",
    "The simplicity of this toy world lends itself readily to symbolic or classical A.I. approaches, in which the world is modeled as a set of abstract symbols which may be reasoned about.\n",
    "\n",
    "One relevant difference between our implementation of the domain with respect to the original one, is that our table is not infinite, we actually let users choose the number of slots (positions) that the table will have. \n",
    "\n",
    "We have defined the domain in Python and it contains a two operators: `pick(?what-block, ?from-object, ?to-object)`, which picks block `?what` from object `?from` (either a slot of the table or another block) and `put(?what-block, ?to-object)`, which puts block to object `?to` (also, either one position of the table or a block). Our planning framework can take care of static preconditions (no instantiations of operators for one block with itself).\n",
    "\n",
    "We have also implemented a problem generator. The generator can create problems for any number of blocks and slots on the table. Our first example will be fairly simple and will have 3 blocks, and 3 slots."
   ]
  },
  {
   "cell_type": "code",
   "execution_count": 4,
   "metadata": {},
   "outputs": [],
   "source": [
    "import planning\n",
    "\n",
    "from IPython.display import display"
   ]
  },
  {
   "cell_type": "code",
   "execution_count": 5,
   "metadata": {
    "scrolled": true
   },
   "outputs": [
    {
     "name": "stdout",
     "output_type": "stream",
     "text": [
      "Domain: Blocks\n",
      "Types: {'block': 'object', 'slot': 'object'}\n",
      "Operators:\n",
      "  - pick(?what-block,?from-object):\n",
      "    Pre: clear(?what), on(?what,?from), handempty()\n",
      "    Add: clear(?from), holding(?what)\n",
      "    Delete: clear(?what), on(?what,?from), handempty()\n",
      "  - put(?what-block,?to-object):\n",
      "    Pre: holding(?what), clear(?to)\n",
      "    Add: clear(?what), on(?what,?to), handempty()\n",
      "    Delete: holding(?what), clear(?to)\n",
      "Init:\n"
     ]
    },
    {
     "data": {
      "image/svg+xml": [
       "<svg baseProfile=\"full\" height=\"300\" version=\"1.1\" width=\"600\" xmlns=\"http://www.w3.org/2000/svg\" xmlns:ev=\"http://www.w3.org/2001/xml-events\" xmlns:xlink=\"http://www.w3.org/1999/xlink\"><defs /><line stroke=\"black\" x1=\"5%\" x2=\"95%\" y1=\"95%\" y2=\"95%\" /><line stroke=\"blue\" x1=\"15.0%\" x2=\"15.0%\" y1=\"0%\" y2=\"5%\" /><line stroke=\"blue\" x1=\"5.5%\" x2=\"5.5%\" y1=\"5%\" y2=\"10%\" /><line stroke=\"blue\" x1=\"24.5%\" x2=\"24.5%\" y1=\"5%\" y2=\"10%\" /><line stroke=\"blue\" x1=\"5.5%\" x2=\"24.5%\" y1=\"5%\" y2=\"5%\" /><rect fill=\"white\" height=\"18.0%\" stroke=\"black\" width=\"18.0%\" x=\"41.0%\" y=\"77.0%\" /><text fill=\"black\" x=\"43.7%\" y=\"90.0%\">block03</text><rect fill=\"white\" height=\"18.0%\" stroke=\"black\" width=\"18.0%\" x=\"41.0%\" y=\"59.0%\" /><text fill=\"black\" x=\"43.7%\" y=\"72.0%\">block02</text><rect fill=\"white\" height=\"18.0%\" stroke=\"black\" width=\"18.0%\" x=\"41.0%\" y=\"41.0%\" /><text fill=\"black\" x=\"43.7%\" y=\"54.0%\">block01</text></svg>"
      ],
      "text/plain": [
       "<planning.planning.State at 0x7f5d410ec7b8>"
      ]
     },
     "metadata": {},
     "output_type": "display_data"
    },
    {
     "name": "stdout",
     "output_type": "stream",
     "text": [
      "Goal:\n"
     ]
    },
    {
     "data": {
      "image/svg+xml": [
       "<svg baseProfile=\"full\" height=\"300\" version=\"1.1\" width=\"600\" xmlns=\"http://www.w3.org/2000/svg\" xmlns:ev=\"http://www.w3.org/2001/xml-events\" xmlns:xlink=\"http://www.w3.org/1999/xlink\"><defs /><line stroke=\"black\" x1=\"5%\" x2=\"95%\" y1=\"95%\" y2=\"95%\" /><line stroke=\"blue\" x1=\"15.0%\" x2=\"15.0%\" y1=\"0%\" y2=\"5%\" /><line stroke=\"blue\" x1=\"5.5%\" x2=\"5.5%\" y1=\"5%\" y2=\"10%\" /><line stroke=\"blue\" x1=\"24.5%\" x2=\"24.5%\" y1=\"5%\" y2=\"10%\" /><line stroke=\"blue\" x1=\"5.5%\" x2=\"24.5%\" y1=\"5%\" y2=\"5%\" /><rect fill=\"white\" height=\"18.0%\" stroke=\"black\" width=\"18.0%\" x=\"18.5%\" y=\"77.0%\" /><text fill=\"black\" x=\"21.2%\" y=\"90.0%\">block02</text><rect fill=\"white\" height=\"18.0%\" stroke=\"black\" width=\"18.0%\" x=\"41.0%\" y=\"77.0%\" /><text fill=\"black\" x=\"43.7%\" y=\"90.0%\">block03</text><rect fill=\"white\" height=\"18.0%\" stroke=\"black\" width=\"18.0%\" x=\"63.5%\" y=\"77.0%\" /><text fill=\"black\" x=\"66.2%\" y=\"90.0%\">block01</text></svg>"
      ],
      "text/plain": [
       "<planning.planning.State at 0x7f5d410ecf28>"
      ]
     },
     "metadata": {},
     "output_type": "display_data"
    },
    {
     "name": "stdout",
     "output_type": "stream",
     "text": [
      "Applicable actions in 1st state:\n",
      "pick(block01,block02)\n"
     ]
    }
   ],
   "source": [
    "domain_name = \"Blocks\"\n",
    "domain = planning.domains[domain_name]\n",
    "problem = domain.generate_problem(3, 3)\n",
    "print(domain)\n",
    "# print(problem)\n",
    "print(\"Init:\")\n",
    "display(problem.init())\n",
    "print(\"Goal:\")\n",
    "display(problem.goal())\n",
    "print(\"Applicable actions in 1st state:\")\n",
    "l = list(filter(problem.init().can_apply, problem.operators()))\n",
    "print(\"\\n\".join(map(str, l)))\n",
    "\n",
    "with open(\"domain\"+domain_name+\".pddl\", \"w\") as d, open(\"problem\"+domain_name+\".pddl\",\"w\") as p:\n",
    "    d.write(planning.pddl_utility.pddl_domain(domain, problem.operators()))\n",
    "    p.write(planning.pddl_utility.pddl_problem(problem))\n"
   ]
  },
  {
   "cell_type": "markdown",
   "metadata": {},
   "source": [
    "We can solve this problem so that we get the following result."
   ]
  },
  {
   "cell_type": "code",
   "execution_count": 6,
   "metadata": {
    "scrolled": true
   },
   "outputs": [
    {
     "name": "stdout",
     "output_type": "stream",
     "text": [
      "[0.001s] Plan found with 4 action(s)\n",
      "#Generated nodes: 8\n",
      "Plan:\n",
      "  pick(block01,block02)\n",
      "  put(block01,slot3)\n",
      "  pick(block02,block03)\n",
      "  put(block02,slot1)\n",
      "step 0\n"
     ]
    },
    {
     "data": {
      "image/svg+xml": [
       "<svg baseProfile=\"full\" height=\"300\" version=\"1.1\" width=\"600\" xmlns=\"http://www.w3.org/2000/svg\" xmlns:ev=\"http://www.w3.org/2001/xml-events\" xmlns:xlink=\"http://www.w3.org/1999/xlink\"><defs /><line stroke=\"black\" x1=\"5%\" x2=\"95%\" y1=\"95%\" y2=\"95%\" /><line stroke=\"blue\" x1=\"15.0%\" x2=\"15.0%\" y1=\"0%\" y2=\"5%\" /><line stroke=\"blue\" x1=\"5.5%\" x2=\"5.5%\" y1=\"5%\" y2=\"10%\" /><line stroke=\"blue\" x1=\"24.5%\" x2=\"24.5%\" y1=\"5%\" y2=\"10%\" /><line stroke=\"blue\" x1=\"5.5%\" x2=\"24.5%\" y1=\"5%\" y2=\"5%\" /><rect fill=\"white\" height=\"18.0%\" stroke=\"black\" width=\"18.0%\" x=\"41.0%\" y=\"77.0%\" /><text fill=\"black\" x=\"43.7%\" y=\"90.0%\">block03</text><rect fill=\"white\" height=\"18.0%\" stroke=\"black\" width=\"18.0%\" x=\"41.0%\" y=\"59.0%\" /><text fill=\"black\" x=\"43.7%\" y=\"72.0%\">block02</text><rect fill=\"white\" height=\"18.0%\" stroke=\"black\" width=\"18.0%\" x=\"41.0%\" y=\"41.0%\" /><text fill=\"black\" x=\"43.7%\" y=\"54.0%\">block01</text></svg>"
      ],
      "text/plain": [
       "<planning.planning.State at 0x7f5d410ec7b8>"
      ]
     },
     "metadata": {},
     "output_type": "display_data"
    },
    {
     "name": "stdout",
     "output_type": "stream",
     "text": [
      "step 1\n"
     ]
    },
    {
     "data": {
      "image/svg+xml": [
       "<svg baseProfile=\"full\" height=\"300\" version=\"1.1\" width=\"600\" xmlns=\"http://www.w3.org/2000/svg\" xmlns:ev=\"http://www.w3.org/2001/xml-events\" xmlns:xlink=\"http://www.w3.org/1999/xlink\"><defs /><line stroke=\"black\" x1=\"5%\" x2=\"95%\" y1=\"95%\" y2=\"95%\" /><line stroke=\"blue\" x1=\"15.0%\" x2=\"15.0%\" y1=\"0%\" y2=\"5%\" /><line stroke=\"blue\" x1=\"5.5%\" x2=\"5.5%\" y1=\"5%\" y2=\"10%\" /><line stroke=\"blue\" x1=\"24.5%\" x2=\"24.5%\" y1=\"5%\" y2=\"10%\" /><line stroke=\"blue\" x1=\"5.5%\" x2=\"24.5%\" y1=\"5%\" y2=\"5%\" /><rect fill=\"white\" height=\"18.0%\" stroke=\"black\" width=\"18.0%\" x=\"6.0%\" y=\"6.5%\" /><text fill=\"black\" x=\"8.7%\" y=\"19.5%\">block01</text><rect fill=\"white\" height=\"18.0%\" stroke=\"black\" width=\"18.0%\" x=\"41.0%\" y=\"77.0%\" /><text fill=\"black\" x=\"43.7%\" y=\"90.0%\">block03</text><rect fill=\"white\" height=\"18.0%\" stroke=\"black\" width=\"18.0%\" x=\"41.0%\" y=\"59.0%\" /><text fill=\"black\" x=\"43.7%\" y=\"72.0%\">block02</text></svg>"
      ],
      "text/plain": [
       "<planning.planning.State at 0x7f5d410d4320>"
      ]
     },
     "metadata": {},
     "output_type": "display_data"
    },
    {
     "name": "stdout",
     "output_type": "stream",
     "text": [
      "step 2\n"
     ]
    },
    {
     "data": {
      "image/svg+xml": [
       "<svg baseProfile=\"full\" height=\"300\" version=\"1.1\" width=\"600\" xmlns=\"http://www.w3.org/2000/svg\" xmlns:ev=\"http://www.w3.org/2001/xml-events\" xmlns:xlink=\"http://www.w3.org/1999/xlink\"><defs /><line stroke=\"black\" x1=\"5%\" x2=\"95%\" y1=\"95%\" y2=\"95%\" /><line stroke=\"blue\" x1=\"15.0%\" x2=\"15.0%\" y1=\"0%\" y2=\"5%\" /><line stroke=\"blue\" x1=\"5.5%\" x2=\"5.5%\" y1=\"5%\" y2=\"10%\" /><line stroke=\"blue\" x1=\"24.5%\" x2=\"24.5%\" y1=\"5%\" y2=\"10%\" /><line stroke=\"blue\" x1=\"5.5%\" x2=\"24.5%\" y1=\"5%\" y2=\"5%\" /><rect fill=\"white\" height=\"18.0%\" stroke=\"black\" width=\"18.0%\" x=\"41.0%\" y=\"77.0%\" /><text fill=\"black\" x=\"43.7%\" y=\"90.0%\">block03</text><rect fill=\"white\" height=\"18.0%\" stroke=\"black\" width=\"18.0%\" x=\"41.0%\" y=\"59.0%\" /><text fill=\"black\" x=\"43.7%\" y=\"72.0%\">block02</text><rect fill=\"white\" height=\"18.0%\" stroke=\"black\" width=\"18.0%\" x=\"63.5%\" y=\"77.0%\" /><text fill=\"black\" x=\"66.2%\" y=\"90.0%\">block01</text></svg>"
      ],
      "text/plain": [
       "<planning.planning.State at 0x7f5d410fa550>"
      ]
     },
     "metadata": {},
     "output_type": "display_data"
    },
    {
     "name": "stdout",
     "output_type": "stream",
     "text": [
      "step 3\n"
     ]
    },
    {
     "data": {
      "image/svg+xml": [
       "<svg baseProfile=\"full\" height=\"300\" version=\"1.1\" width=\"600\" xmlns=\"http://www.w3.org/2000/svg\" xmlns:ev=\"http://www.w3.org/2001/xml-events\" xmlns:xlink=\"http://www.w3.org/1999/xlink\"><defs /><line stroke=\"black\" x1=\"5%\" x2=\"95%\" y1=\"95%\" y2=\"95%\" /><line stroke=\"blue\" x1=\"15.0%\" x2=\"15.0%\" y1=\"0%\" y2=\"5%\" /><line stroke=\"blue\" x1=\"5.5%\" x2=\"5.5%\" y1=\"5%\" y2=\"10%\" /><line stroke=\"blue\" x1=\"24.5%\" x2=\"24.5%\" y1=\"5%\" y2=\"10%\" /><line stroke=\"blue\" x1=\"5.5%\" x2=\"24.5%\" y1=\"5%\" y2=\"5%\" /><rect fill=\"white\" height=\"18.0%\" stroke=\"black\" width=\"18.0%\" x=\"6.0%\" y=\"6.5%\" /><text fill=\"black\" x=\"8.7%\" y=\"19.5%\">block02</text><rect fill=\"white\" height=\"18.0%\" stroke=\"black\" width=\"18.0%\" x=\"41.0%\" y=\"77.0%\" /><text fill=\"black\" x=\"43.7%\" y=\"90.0%\">block03</text><rect fill=\"white\" height=\"18.0%\" stroke=\"black\" width=\"18.0%\" x=\"63.5%\" y=\"77.0%\" /><text fill=\"black\" x=\"66.2%\" y=\"90.0%\">block01</text></svg>"
      ],
      "text/plain": [
       "<planning.planning.State at 0x7f5d410fa3c8>"
      ]
     },
     "metadata": {},
     "output_type": "display_data"
    },
    {
     "name": "stdout",
     "output_type": "stream",
     "text": [
      "step 4\n"
     ]
    },
    {
     "data": {
      "image/svg+xml": [
       "<svg baseProfile=\"full\" height=\"300\" version=\"1.1\" width=\"600\" xmlns=\"http://www.w3.org/2000/svg\" xmlns:ev=\"http://www.w3.org/2001/xml-events\" xmlns:xlink=\"http://www.w3.org/1999/xlink\"><defs /><line stroke=\"black\" x1=\"5%\" x2=\"95%\" y1=\"95%\" y2=\"95%\" /><line stroke=\"blue\" x1=\"15.0%\" x2=\"15.0%\" y1=\"0%\" y2=\"5%\" /><line stroke=\"blue\" x1=\"5.5%\" x2=\"5.5%\" y1=\"5%\" y2=\"10%\" /><line stroke=\"blue\" x1=\"24.5%\" x2=\"24.5%\" y1=\"5%\" y2=\"10%\" /><line stroke=\"blue\" x1=\"5.5%\" x2=\"24.5%\" y1=\"5%\" y2=\"5%\" /><rect fill=\"white\" height=\"18.0%\" stroke=\"black\" width=\"18.0%\" x=\"18.5%\" y=\"77.0%\" /><text fill=\"black\" x=\"21.2%\" y=\"90.0%\">block02</text><rect fill=\"white\" height=\"18.0%\" stroke=\"black\" width=\"18.0%\" x=\"41.0%\" y=\"77.0%\" /><text fill=\"black\" x=\"43.7%\" y=\"90.0%\">block03</text><rect fill=\"white\" height=\"18.0%\" stroke=\"black\" width=\"18.0%\" x=\"63.5%\" y=\"77.0%\" /><text fill=\"black\" x=\"66.2%\" y=\"90.0%\">block01</text></svg>"
      ],
      "text/plain": [
       "<planning.planning.State at 0x7f5d410ec320>"
      ]
     },
     "metadata": {},
     "output_type": "display_data"
    }
   ],
   "source": [
    "bfs = planning.BreadthFirstSearch(problem, verbose=1, timeout=30.0, node_bound=None)\n",
    "status = bfs()\n",
    "if status == planning.search.FOUND:\n",
    "    plan = bfs.plan()\n",
    "    state_sequence = bfs.state_sequence()\n",
    "    print(\"#Generated nodes: \" + str(bfs.info()[\"generated\"]))\n",
    "    if True: #len(plan) < 10:\n",
    "        print(\"Plan:\\n  \" + \"\\n  \".join([str(op) for op in bfs.plan()]))\n",
    "        for i, state in enumerate(bfs.state_sequence()):\n",
    "            print(\"step \" + str(i))\n",
    "            display(state)"
   ]
  },
  {
   "cell_type": "markdown",
   "metadata": {},
   "source": [
    "#### 1.2.3. Elevators Domain\n",
    "Let's consider we have a building with several foors and people who want to go from one floor to another one. A lift, starting from one of the floors, has to satisfy all people petitions. The resctrictions are the following:\n",
    "\n",
    "1. The lift can just move one floor each step\n",
    "2. Just one person can get into/outo the lift each step\n",
    "\n",
    "\n",
    "We have defined the domain in Python and it contains a four operators: \n",
    "\n",
    "1. `board(?f-floor, ?p-passenger)`, which boards the passenger `?p` which is in the floor `?f`.\n",
    "2. `depart(?f-floor, ?p-passenger)`, which departs the passenger `?p` in the floor `?f`. The passenger passes to be served.\n",
    "3. `drive_up(?f1-floor, ?f2-floor)`, the lift goes up from floor `?f1` to floor `?f2`.\n",
    "4. `drive_down(?f1-floor, ?f2-floor)`, the lift goes down from floor `?f1` to floor `?f2`.\n",
    "\n",
    "Our planning framework can take care of static preconditions (no instantiations of operators for the same instance).\n",
    "\n",
    "We have also implemented a problem generator. The generator can create problems for any number of people and floors. Our first example will be fairly simple and will have 4 people and 4 floors. Again, we use BFS and IDS."
   ]
  },
  {
   "cell_type": "code",
   "execution_count": 7,
   "metadata": {
    "scrolled": false
   },
   "outputs": [
    {
     "name": "stdout",
     "output_type": "stream",
     "text": [
      "Domain: Elevator\n",
      "Types: {'passenger': 'object', 'floor': 'object'}\n",
      "Operators:\n",
      "  - board(?f-floor,?p-passenger):\n",
      "    Pre: lift-at(?f), origin(?p,?f)\n",
      "    Add: boarded(?p)\n",
      "    Delete: \n",
      "  - depart(?f-floor,?p-passenger):\n",
      "    Pre: lift-at(?f), destin(?p,?f), boarded(?p)\n",
      "    Add: served(?p)\n",
      "    Delete: boarded(?p)\n",
      "  - drive_down(?f1-floor,?f2-floor):\n",
      "    Pre: lift-at(?f1), above(?f2,?f1)\n",
      "    Add: lift-at(?f2)\n",
      "    Delete: lift-at(?f1)\n",
      "  - drive_up(?f1-floor,?f2-floor):\n",
      "    Pre: lift-at(?f1), above(?f1,?f2)\n",
      "    Add: lift-at(?f2)\n",
      "    Delete: lift-at(?f1)\n",
      "Problem: elevator-00\n",
      "Domain: Elevator\n",
      "Initial state:\n",
      "  above(floor1,floor2)\n",
      "  above(floor2,floor3)\n",
      "  above(floor3,floor4)\n",
      "  destin(passenger01,floor1)\n",
      "  destin(passenger02,floor3)\n",
      "  destin(passenger03,floor1)\n",
      "  lift-at(floor4)\n",
      "  origin(passenger01,floor2)\n",
      "  origin(passenger02,floor1)\n",
      "  origin(passenger03,floor2)\n",
      "Goal:\n",
      "  above(floor1,floor2)\n",
      "  above(floor2,floor3)\n",
      "  above(floor3,floor4)\n",
      "  destin(passenger01,floor1)\n",
      "  destin(passenger02,floor3)\n",
      "  destin(passenger03,floor1)\n",
      "  origin(passenger01,floor2)\n",
      "  origin(passenger02,floor1)\n",
      "  origin(passenger03,floor2)\n",
      "  served(passenger01)\n",
      "  served(passenger02)\n",
      "  served(passenger03)\n",
      "Ground operators:\n",
      "  board(floor1,passenger01)\n",
      "  board(floor1,passenger02)\n",
      "  board(floor1,passenger03)\n",
      "  board(floor2,passenger01)\n",
      "  board(floor2,passenger02)\n",
      "  board(floor2,passenger03)\n",
      "  board(floor3,passenger01)\n",
      "  board(floor3,passenger02)\n",
      "  board(floor3,passenger03)\n",
      "  board(floor4,passenger01)\n",
      "  board(floor4,passenger02)\n",
      "  board(floor4,passenger03)\n",
      "  depart(floor1,passenger01)\n",
      "  depart(floor1,passenger02)\n",
      "  depart(floor1,passenger03)\n",
      "  depart(floor2,passenger01)\n",
      "  depart(floor2,passenger02)\n",
      "  depart(floor2,passenger03)\n",
      "  depart(floor3,passenger01)\n",
      "  depart(floor3,passenger02)\n",
      "  depart(floor3,passenger03)\n",
      "  depart(floor4,passenger01)\n",
      "  depart(floor4,passenger02)\n",
      "  depart(floor4,passenger03)\n",
      "  drive_down(floor1,floor2)\n",
      "  drive_down(floor1,floor3)\n",
      "  drive_down(floor1,floor4)\n",
      "  drive_down(floor2,floor1)\n",
      "  drive_down(floor2,floor3)\n",
      "  drive_down(floor2,floor4)\n",
      "  drive_down(floor3,floor1)\n",
      "  drive_down(floor3,floor2)\n",
      "  drive_down(floor3,floor4)\n",
      "  drive_down(floor4,floor1)\n",
      "  drive_down(floor4,floor2)\n",
      "  drive_down(floor4,floor3)\n",
      "  drive_up(floor1,floor2)\n",
      "  drive_up(floor1,floor3)\n",
      "  drive_up(floor1,floor4)\n",
      "  drive_up(floor2,floor1)\n",
      "  drive_up(floor2,floor3)\n",
      "  drive_up(floor2,floor4)\n",
      "  drive_up(floor3,floor1)\n",
      "  drive_up(floor3,floor2)\n",
      "  drive_up(floor3,floor4)\n",
      "  drive_up(floor4,floor1)\n",
      "  drive_up(floor4,floor2)\n",
      "  drive_up(floor4,floor3)\n",
      "Init:\n",
      "{'floor2': 2, 'floor3': 0, 'floor1': 1, 'floor4': 0}\n"
     ]
    },
    {
     "data": {
      "image/svg+xml": [
       "<svg baseProfile=\"full\" height=\"300\" version=\"1.1\" width=\"600\" xmlns=\"http://www.w3.org/2000/svg\" xmlns:ev=\"http://www.w3.org/2001/xml-events\" xmlns:xlink=\"http://www.w3.org/1999/xlink\"><defs /><rect fill=\"white\" height=\"90%\" stroke=\"black\" width=\"90%\" x=\"10.0%\" y=\"0.0%\" /><line stroke=\"black\" x1=\"55.0%\" x2=\"55.0%\" y1=\"0%\" y2=\"90%\" /><line stroke=\"black\" x1=\"55%\" x2=\"100%\" y1=\"67.5%\" y2=\"67.5%\" /><circle cx=\"60%\" cy=\"72.5%\" fill=\"black\" r=\"2\" /><text x=\"62%\" y=\"72.5%\">1</text><line stroke=\"black\" x1=\"55%\" x2=\"100%\" y1=\"45.0%\" y2=\"45.0%\" /><circle cx=\"60%\" cy=\"50.0%\" fill=\"black\" r=\"2\" /><text x=\"62%\" y=\"50.0%\">2</text><line stroke=\"black\" x1=\"55%\" x2=\"100%\" y1=\"22.5%\" y2=\"22.5%\" /><circle cx=\"60%\" cy=\"27.5%\" fill=\"black\" r=\"2\" /><text x=\"62%\" y=\"27.5%\">0</text><line stroke=\"black\" x1=\"55%\" x2=\"100%\" y1=\"0.0%\" y2=\"0.0%\" /><circle cx=\"60%\" cy=\"5.0%\" fill=\"black\" r=\"2\" /><text x=\"62%\" y=\"5.0%\">0</text><rect fill=\"white\" height=\"17.5%\" stroke=\"black\" width=\"17.5%\" x=\"21.25%\" y=\"2.5%\" /><circle cx=\"30.0%\" cy=\"11.25%\" fill=\"black\" r=\"2\" /><text x=\"32.0%\" y=\"11.25%\">0</text></svg>"
      ],
      "text/plain": [
       "<planning.planning.State at 0x7f5d410ec080>"
      ]
     },
     "metadata": {},
     "output_type": "display_data"
    },
    {
     "name": "stdout",
     "output_type": "stream",
     "text": [
      "Goal:\n",
      "Applicable actions in 1st state:\n",
      "drive_down(floor4,floor3)\n"
     ]
    }
   ],
   "source": [
    "domain_name = \"Elevator\"\n",
    "domain = planning.domains[domain_name]\n",
    "problem = domain.generate_problem(3, 4)\n",
    "print(domain)\n",
    "print(problem)\n",
    "print(\"Init:\")\n",
    "display(problem.init())\n",
    "print(\"Goal:\")\n",
    "#display(problem.goal())\n",
    "print(\"Applicable actions in 1st state:\")\n",
    "print(\"\\n\".join(map(str, filter(problem.init().can_apply, problem.operators()))))\n",
    "\n",
    "with open(\"domain\"+domain_name+\".pddl\", \"w\") as d, open(\"problem\"+domain_name+\".pddl\",\"w\") as p:\n",
    "    d.write(planning.pddl_utility.pddl_domain(domain, problem.operators()))\n",
    "    p.write(planning.pddl_utility.pddl_problem(problem))"
   ]
  },
  {
   "cell_type": "markdown",
   "metadata": {},
   "source": [
    "We can solve this problem so that we get the following result."
   ]
  },
  {
   "cell_type": "code",
   "execution_count": 8,
   "metadata": {
    "scrolled": false
   },
   "outputs": [
    {
     "name": "stdout",
     "output_type": "stream",
     "text": [
      "[0.016s] Plan found with 11 action(s)\n",
      "#Generated nodes: 141\n",
      "Plan:\n",
      "  drive_down(floor4,floor3)\n",
      "  drive_down(floor3,floor2)\n",
      "  board(floor2,passenger01)\n",
      "  board(floor2,passenger03)\n",
      "  drive_down(floor2,floor1)\n",
      "  board(floor1,passenger02)\n",
      "  depart(floor1,passenger01)\n",
      "  depart(floor1,passenger03)\n",
      "  drive_up(floor1,floor2)\n",
      "  drive_up(floor2,floor3)\n",
      "  depart(floor3,passenger02)\n",
      "step 0\n",
      "{'floor2': 2, 'floor3': 0, 'floor1': 1, 'floor4': 0}\n"
     ]
    },
    {
     "data": {
      "image/svg+xml": [
       "<svg baseProfile=\"full\" height=\"300\" version=\"1.1\" width=\"600\" xmlns=\"http://www.w3.org/2000/svg\" xmlns:ev=\"http://www.w3.org/2001/xml-events\" xmlns:xlink=\"http://www.w3.org/1999/xlink\"><defs /><rect fill=\"white\" height=\"90%\" stroke=\"black\" width=\"90%\" x=\"10.0%\" y=\"0.0%\" /><line stroke=\"black\" x1=\"55.0%\" x2=\"55.0%\" y1=\"0%\" y2=\"90%\" /><line stroke=\"black\" x1=\"55%\" x2=\"100%\" y1=\"67.5%\" y2=\"67.5%\" /><circle cx=\"60%\" cy=\"72.5%\" fill=\"black\" r=\"2\" /><text x=\"62%\" y=\"72.5%\">1</text><line stroke=\"black\" x1=\"55%\" x2=\"100%\" y1=\"45.0%\" y2=\"45.0%\" /><circle cx=\"60%\" cy=\"50.0%\" fill=\"black\" r=\"2\" /><text x=\"62%\" y=\"50.0%\">2</text><line stroke=\"black\" x1=\"55%\" x2=\"100%\" y1=\"22.5%\" y2=\"22.5%\" /><circle cx=\"60%\" cy=\"27.5%\" fill=\"black\" r=\"2\" /><text x=\"62%\" y=\"27.5%\">0</text><line stroke=\"black\" x1=\"55%\" x2=\"100%\" y1=\"0.0%\" y2=\"0.0%\" /><circle cx=\"60%\" cy=\"5.0%\" fill=\"black\" r=\"2\" /><text x=\"62%\" y=\"5.0%\">0</text><rect fill=\"white\" height=\"17.5%\" stroke=\"black\" width=\"17.5%\" x=\"21.25%\" y=\"2.5%\" /><circle cx=\"30.0%\" cy=\"11.25%\" fill=\"black\" r=\"2\" /><text x=\"32.0%\" y=\"11.25%\">0</text></svg>"
      ],
      "text/plain": [
       "<planning.planning.State at 0x7f5d410ec080>"
      ]
     },
     "metadata": {},
     "output_type": "display_data"
    },
    {
     "name": "stdout",
     "output_type": "stream",
     "text": [
      "step 1\n",
      "{'floor2': 2, 'floor3': 0, 'floor1': 1, 'floor4': 0}\n"
     ]
    },
    {
     "data": {
      "image/svg+xml": [
       "<svg baseProfile=\"full\" height=\"300\" version=\"1.1\" width=\"600\" xmlns=\"http://www.w3.org/2000/svg\" xmlns:ev=\"http://www.w3.org/2001/xml-events\" xmlns:xlink=\"http://www.w3.org/1999/xlink\"><defs /><rect fill=\"white\" height=\"90%\" stroke=\"black\" width=\"90%\" x=\"10.0%\" y=\"0.0%\" /><line stroke=\"black\" x1=\"55.0%\" x2=\"55.0%\" y1=\"0%\" y2=\"90%\" /><line stroke=\"black\" x1=\"55%\" x2=\"100%\" y1=\"67.5%\" y2=\"67.5%\" /><circle cx=\"60%\" cy=\"72.5%\" fill=\"black\" r=\"2\" /><text x=\"62%\" y=\"72.5%\">1</text><line stroke=\"black\" x1=\"55%\" x2=\"100%\" y1=\"45.0%\" y2=\"45.0%\" /><circle cx=\"60%\" cy=\"50.0%\" fill=\"black\" r=\"2\" /><text x=\"62%\" y=\"50.0%\">2</text><line stroke=\"black\" x1=\"55%\" x2=\"100%\" y1=\"22.5%\" y2=\"22.5%\" /><circle cx=\"60%\" cy=\"27.5%\" fill=\"black\" r=\"2\" /><text x=\"62%\" y=\"27.5%\">0</text><line stroke=\"black\" x1=\"55%\" x2=\"100%\" y1=\"0.0%\" y2=\"0.0%\" /><circle cx=\"60%\" cy=\"5.0%\" fill=\"black\" r=\"2\" /><text x=\"62%\" y=\"5.0%\">0</text><rect fill=\"white\" height=\"17.5%\" stroke=\"black\" width=\"17.5%\" x=\"21.25%\" y=\"25.0%\" /><circle cx=\"30.0%\" cy=\"33.75%\" fill=\"black\" r=\"2\" /><text x=\"32.0%\" y=\"33.75%\">0</text></svg>"
      ],
      "text/plain": [
       "<planning.planning.State at 0x7f5d40e95e80>"
      ]
     },
     "metadata": {},
     "output_type": "display_data"
    },
    {
     "name": "stdout",
     "output_type": "stream",
     "text": [
      "step 2\n",
      "{'floor2': 2, 'floor3': 0, 'floor1': 1, 'floor4': 0}\n"
     ]
    },
    {
     "data": {
      "image/svg+xml": [
       "<svg baseProfile=\"full\" height=\"300\" version=\"1.1\" width=\"600\" xmlns=\"http://www.w3.org/2000/svg\" xmlns:ev=\"http://www.w3.org/2001/xml-events\" xmlns:xlink=\"http://www.w3.org/1999/xlink\"><defs /><rect fill=\"white\" height=\"90%\" stroke=\"black\" width=\"90%\" x=\"10.0%\" y=\"0.0%\" /><line stroke=\"black\" x1=\"55.0%\" x2=\"55.0%\" y1=\"0%\" y2=\"90%\" /><line stroke=\"black\" x1=\"55%\" x2=\"100%\" y1=\"67.5%\" y2=\"67.5%\" /><circle cx=\"60%\" cy=\"72.5%\" fill=\"black\" r=\"2\" /><text x=\"62%\" y=\"72.5%\">1</text><line stroke=\"black\" x1=\"55%\" x2=\"100%\" y1=\"45.0%\" y2=\"45.0%\" /><circle cx=\"60%\" cy=\"50.0%\" fill=\"black\" r=\"2\" /><text x=\"62%\" y=\"50.0%\">2</text><line stroke=\"black\" x1=\"55%\" x2=\"100%\" y1=\"22.5%\" y2=\"22.5%\" /><circle cx=\"60%\" cy=\"27.5%\" fill=\"black\" r=\"2\" /><text x=\"62%\" y=\"27.5%\">0</text><line stroke=\"black\" x1=\"55%\" x2=\"100%\" y1=\"0.0%\" y2=\"0.0%\" /><circle cx=\"60%\" cy=\"5.0%\" fill=\"black\" r=\"2\" /><text x=\"62%\" y=\"5.0%\">0</text><rect fill=\"white\" height=\"17.5%\" stroke=\"black\" width=\"17.5%\" x=\"21.25%\" y=\"47.5%\" /><circle cx=\"30.0%\" cy=\"56.25%\" fill=\"black\" r=\"2\" /><text x=\"32.0%\" y=\"56.25%\">0</text></svg>"
      ],
      "text/plain": [
       "<planning.planning.State at 0x7f5d40e95cc0>"
      ]
     },
     "metadata": {},
     "output_type": "display_data"
    },
    {
     "name": "stdout",
     "output_type": "stream",
     "text": [
      "step 3\n",
      "{'floor2': 1, 'floor3': 0, 'floor1': 1, 'floor4': 0}\n"
     ]
    },
    {
     "data": {
      "image/svg+xml": [
       "<svg baseProfile=\"full\" height=\"300\" version=\"1.1\" width=\"600\" xmlns=\"http://www.w3.org/2000/svg\" xmlns:ev=\"http://www.w3.org/2001/xml-events\" xmlns:xlink=\"http://www.w3.org/1999/xlink\"><defs /><rect fill=\"white\" height=\"90%\" stroke=\"black\" width=\"90%\" x=\"10.0%\" y=\"0.0%\" /><line stroke=\"black\" x1=\"55.0%\" x2=\"55.0%\" y1=\"0%\" y2=\"90%\" /><line stroke=\"black\" x1=\"55%\" x2=\"100%\" y1=\"67.5%\" y2=\"67.5%\" /><circle cx=\"60%\" cy=\"72.5%\" fill=\"black\" r=\"2\" /><text x=\"62%\" y=\"72.5%\">1</text><line stroke=\"black\" x1=\"55%\" x2=\"100%\" y1=\"45.0%\" y2=\"45.0%\" /><circle cx=\"60%\" cy=\"50.0%\" fill=\"black\" r=\"2\" /><text x=\"62%\" y=\"50.0%\">1</text><line stroke=\"black\" x1=\"55%\" x2=\"100%\" y1=\"22.5%\" y2=\"22.5%\" /><circle cx=\"60%\" cy=\"27.5%\" fill=\"black\" r=\"2\" /><text x=\"62%\" y=\"27.5%\">0</text><line stroke=\"black\" x1=\"55%\" x2=\"100%\" y1=\"0.0%\" y2=\"0.0%\" /><circle cx=\"60%\" cy=\"5.0%\" fill=\"black\" r=\"2\" /><text x=\"62%\" y=\"5.0%\">0</text><rect fill=\"white\" height=\"17.5%\" stroke=\"black\" width=\"17.5%\" x=\"21.25%\" y=\"47.5%\" /><circle cx=\"30.0%\" cy=\"56.25%\" fill=\"black\" r=\"2\" /><text x=\"32.0%\" y=\"56.25%\">1</text></svg>"
      ],
      "text/plain": [
       "<planning.planning.State at 0x7f5d40e94320>"
      ]
     },
     "metadata": {},
     "output_type": "display_data"
    },
    {
     "name": "stdout",
     "output_type": "stream",
     "text": [
      "step 4\n",
      "{'floor2': 0, 'floor3': 0, 'floor1': 1, 'floor4': 0}\n"
     ]
    },
    {
     "data": {
      "image/svg+xml": [
       "<svg baseProfile=\"full\" height=\"300\" version=\"1.1\" width=\"600\" xmlns=\"http://www.w3.org/2000/svg\" xmlns:ev=\"http://www.w3.org/2001/xml-events\" xmlns:xlink=\"http://www.w3.org/1999/xlink\"><defs /><rect fill=\"white\" height=\"90%\" stroke=\"black\" width=\"90%\" x=\"10.0%\" y=\"0.0%\" /><line stroke=\"black\" x1=\"55.0%\" x2=\"55.0%\" y1=\"0%\" y2=\"90%\" /><line stroke=\"black\" x1=\"55%\" x2=\"100%\" y1=\"67.5%\" y2=\"67.5%\" /><circle cx=\"60%\" cy=\"72.5%\" fill=\"black\" r=\"2\" /><text x=\"62%\" y=\"72.5%\">1</text><line stroke=\"black\" x1=\"55%\" x2=\"100%\" y1=\"45.0%\" y2=\"45.0%\" /><circle cx=\"60%\" cy=\"50.0%\" fill=\"black\" r=\"2\" /><text x=\"62%\" y=\"50.0%\">0</text><line stroke=\"black\" x1=\"55%\" x2=\"100%\" y1=\"22.5%\" y2=\"22.5%\" /><circle cx=\"60%\" cy=\"27.5%\" fill=\"black\" r=\"2\" /><text x=\"62%\" y=\"27.5%\">0</text><line stroke=\"black\" x1=\"55%\" x2=\"100%\" y1=\"0.0%\" y2=\"0.0%\" /><circle cx=\"60%\" cy=\"5.0%\" fill=\"black\" r=\"2\" /><text x=\"62%\" y=\"5.0%\">0</text><rect fill=\"white\" height=\"17.5%\" stroke=\"black\" width=\"17.5%\" x=\"21.25%\" y=\"47.5%\" /><circle cx=\"30.0%\" cy=\"56.25%\" fill=\"black\" r=\"2\" /><text x=\"32.0%\" y=\"56.25%\">2</text></svg>"
      ],
      "text/plain": [
       "<planning.planning.State at 0x7f5d40e95f60>"
      ]
     },
     "metadata": {},
     "output_type": "display_data"
    },
    {
     "name": "stdout",
     "output_type": "stream",
     "text": [
      "step 5\n",
      "{'floor2': 0, 'floor3': 0, 'floor1': 1, 'floor4': 0}\n"
     ]
    },
    {
     "data": {
      "image/svg+xml": [
       "<svg baseProfile=\"full\" height=\"300\" version=\"1.1\" width=\"600\" xmlns=\"http://www.w3.org/2000/svg\" xmlns:ev=\"http://www.w3.org/2001/xml-events\" xmlns:xlink=\"http://www.w3.org/1999/xlink\"><defs /><rect fill=\"white\" height=\"90%\" stroke=\"black\" width=\"90%\" x=\"10.0%\" y=\"0.0%\" /><line stroke=\"black\" x1=\"55.0%\" x2=\"55.0%\" y1=\"0%\" y2=\"90%\" /><line stroke=\"black\" x1=\"55%\" x2=\"100%\" y1=\"67.5%\" y2=\"67.5%\" /><circle cx=\"60%\" cy=\"72.5%\" fill=\"black\" r=\"2\" /><text x=\"62%\" y=\"72.5%\">1</text><line stroke=\"black\" x1=\"55%\" x2=\"100%\" y1=\"45.0%\" y2=\"45.0%\" /><circle cx=\"60%\" cy=\"50.0%\" fill=\"black\" r=\"2\" /><text x=\"62%\" y=\"50.0%\">0</text><line stroke=\"black\" x1=\"55%\" x2=\"100%\" y1=\"22.5%\" y2=\"22.5%\" /><circle cx=\"60%\" cy=\"27.5%\" fill=\"black\" r=\"2\" /><text x=\"62%\" y=\"27.5%\">0</text><line stroke=\"black\" x1=\"55%\" x2=\"100%\" y1=\"0.0%\" y2=\"0.0%\" /><circle cx=\"60%\" cy=\"5.0%\" fill=\"black\" r=\"2\" /><text x=\"62%\" y=\"5.0%\">0</text><rect fill=\"white\" height=\"17.5%\" stroke=\"black\" width=\"17.5%\" x=\"21.25%\" y=\"70.0%\" /><circle cx=\"30.0%\" cy=\"78.75%\" fill=\"black\" r=\"2\" /><text x=\"32.0%\" y=\"78.75%\">2</text></svg>"
      ],
      "text/plain": [
       "<planning.planning.State at 0x7f5d410ec748>"
      ]
     },
     "metadata": {},
     "output_type": "display_data"
    },
    {
     "name": "stdout",
     "output_type": "stream",
     "text": [
      "step 6\n",
      "{'floor2': 0, 'floor3': 0, 'floor1': 0, 'floor4': 0}\n"
     ]
    },
    {
     "data": {
      "image/svg+xml": [
       "<svg baseProfile=\"full\" height=\"300\" version=\"1.1\" width=\"600\" xmlns=\"http://www.w3.org/2000/svg\" xmlns:ev=\"http://www.w3.org/2001/xml-events\" xmlns:xlink=\"http://www.w3.org/1999/xlink\"><defs /><rect fill=\"white\" height=\"90%\" stroke=\"black\" width=\"90%\" x=\"10.0%\" y=\"0.0%\" /><line stroke=\"black\" x1=\"55.0%\" x2=\"55.0%\" y1=\"0%\" y2=\"90%\" /><line stroke=\"black\" x1=\"55%\" x2=\"100%\" y1=\"67.5%\" y2=\"67.5%\" /><circle cx=\"60%\" cy=\"72.5%\" fill=\"black\" r=\"2\" /><text x=\"62%\" y=\"72.5%\">0</text><line stroke=\"black\" x1=\"55%\" x2=\"100%\" y1=\"45.0%\" y2=\"45.0%\" /><circle cx=\"60%\" cy=\"50.0%\" fill=\"black\" r=\"2\" /><text x=\"62%\" y=\"50.0%\">0</text><line stroke=\"black\" x1=\"55%\" x2=\"100%\" y1=\"22.5%\" y2=\"22.5%\" /><circle cx=\"60%\" cy=\"27.5%\" fill=\"black\" r=\"2\" /><text x=\"62%\" y=\"27.5%\">0</text><line stroke=\"black\" x1=\"55%\" x2=\"100%\" y1=\"0.0%\" y2=\"0.0%\" /><circle cx=\"60%\" cy=\"5.0%\" fill=\"black\" r=\"2\" /><text x=\"62%\" y=\"5.0%\">0</text><rect fill=\"white\" height=\"17.5%\" stroke=\"black\" width=\"17.5%\" x=\"21.25%\" y=\"70.0%\" /><circle cx=\"30.0%\" cy=\"78.75%\" fill=\"black\" r=\"2\" /><text x=\"32.0%\" y=\"78.75%\">3</text></svg>"
      ],
      "text/plain": [
       "<planning.planning.State at 0x7f5d40e8d4e0>"
      ]
     },
     "metadata": {},
     "output_type": "display_data"
    },
    {
     "name": "stdout",
     "output_type": "stream",
     "text": [
      "step 7\n",
      "{'floor2': 0, 'floor3': 0, 'floor1': 1, 'floor4': 0}\n"
     ]
    },
    {
     "data": {
      "image/svg+xml": [
       "<svg baseProfile=\"full\" height=\"300\" version=\"1.1\" width=\"600\" xmlns=\"http://www.w3.org/2000/svg\" xmlns:ev=\"http://www.w3.org/2001/xml-events\" xmlns:xlink=\"http://www.w3.org/1999/xlink\"><defs /><rect fill=\"white\" height=\"90%\" stroke=\"black\" width=\"90%\" x=\"10.0%\" y=\"0.0%\" /><line stroke=\"black\" x1=\"55.0%\" x2=\"55.0%\" y1=\"0%\" y2=\"90%\" /><line stroke=\"black\" x1=\"55%\" x2=\"100%\" y1=\"67.5%\" y2=\"67.5%\" /><circle cx=\"60%\" cy=\"72.5%\" fill=\"black\" r=\"2\" /><text x=\"62%\" y=\"72.5%\">1</text><line stroke=\"black\" x1=\"55%\" x2=\"100%\" y1=\"45.0%\" y2=\"45.0%\" /><circle cx=\"60%\" cy=\"50.0%\" fill=\"black\" r=\"2\" /><text x=\"62%\" y=\"50.0%\">0</text><line stroke=\"black\" x1=\"55%\" x2=\"100%\" y1=\"22.5%\" y2=\"22.5%\" /><circle cx=\"60%\" cy=\"27.5%\" fill=\"black\" r=\"2\" /><text x=\"62%\" y=\"27.5%\">0</text><line stroke=\"black\" x1=\"55%\" x2=\"100%\" y1=\"0.0%\" y2=\"0.0%\" /><circle cx=\"60%\" cy=\"5.0%\" fill=\"black\" r=\"2\" /><text x=\"62%\" y=\"5.0%\">0</text><rect fill=\"white\" height=\"17.5%\" stroke=\"black\" width=\"17.5%\" x=\"21.25%\" y=\"70.0%\" /><circle cx=\"30.0%\" cy=\"78.75%\" fill=\"black\" r=\"2\" /><text x=\"32.0%\" y=\"78.75%\">2</text></svg>"
      ],
      "text/plain": [
       "<planning.planning.State at 0x7f5d40e936a0>"
      ]
     },
     "metadata": {},
     "output_type": "display_data"
    },
    {
     "name": "stdout",
     "output_type": "stream",
     "text": [
      "step 8\n",
      "{'floor2': 0, 'floor3': 0, 'floor1': 2, 'floor4': 0}\n"
     ]
    },
    {
     "data": {
      "image/svg+xml": [
       "<svg baseProfile=\"full\" height=\"300\" version=\"1.1\" width=\"600\" xmlns=\"http://www.w3.org/2000/svg\" xmlns:ev=\"http://www.w3.org/2001/xml-events\" xmlns:xlink=\"http://www.w3.org/1999/xlink\"><defs /><rect fill=\"white\" height=\"90%\" stroke=\"black\" width=\"90%\" x=\"10.0%\" y=\"0.0%\" /><line stroke=\"black\" x1=\"55.0%\" x2=\"55.0%\" y1=\"0%\" y2=\"90%\" /><line stroke=\"black\" x1=\"55%\" x2=\"100%\" y1=\"67.5%\" y2=\"67.5%\" /><circle cx=\"60%\" cy=\"72.5%\" fill=\"black\" r=\"2\" /><text x=\"62%\" y=\"72.5%\">2</text><line stroke=\"black\" x1=\"55%\" x2=\"100%\" y1=\"45.0%\" y2=\"45.0%\" /><circle cx=\"60%\" cy=\"50.0%\" fill=\"black\" r=\"2\" /><text x=\"62%\" y=\"50.0%\">0</text><line stroke=\"black\" x1=\"55%\" x2=\"100%\" y1=\"22.5%\" y2=\"22.5%\" /><circle cx=\"60%\" cy=\"27.5%\" fill=\"black\" r=\"2\" /><text x=\"62%\" y=\"27.5%\">0</text><line stroke=\"black\" x1=\"55%\" x2=\"100%\" y1=\"0.0%\" y2=\"0.0%\" /><circle cx=\"60%\" cy=\"5.0%\" fill=\"black\" r=\"2\" /><text x=\"62%\" y=\"5.0%\">0</text><rect fill=\"white\" height=\"17.5%\" stroke=\"black\" width=\"17.5%\" x=\"21.25%\" y=\"70.0%\" /><circle cx=\"30.0%\" cy=\"78.75%\" fill=\"black\" r=\"2\" /><text x=\"32.0%\" y=\"78.75%\">1</text></svg>"
      ],
      "text/plain": [
       "<planning.planning.State at 0x7f5d40e92320>"
      ]
     },
     "metadata": {},
     "output_type": "display_data"
    },
    {
     "name": "stdout",
     "output_type": "stream",
     "text": [
      "step 9\n",
      "{'floor2': 0, 'floor3': 0, 'floor1': 2, 'floor4': 0}\n"
     ]
    },
    {
     "data": {
      "image/svg+xml": [
       "<svg baseProfile=\"full\" height=\"300\" version=\"1.1\" width=\"600\" xmlns=\"http://www.w3.org/2000/svg\" xmlns:ev=\"http://www.w3.org/2001/xml-events\" xmlns:xlink=\"http://www.w3.org/1999/xlink\"><defs /><rect fill=\"white\" height=\"90%\" stroke=\"black\" width=\"90%\" x=\"10.0%\" y=\"0.0%\" /><line stroke=\"black\" x1=\"55.0%\" x2=\"55.0%\" y1=\"0%\" y2=\"90%\" /><line stroke=\"black\" x1=\"55%\" x2=\"100%\" y1=\"67.5%\" y2=\"67.5%\" /><circle cx=\"60%\" cy=\"72.5%\" fill=\"black\" r=\"2\" /><text x=\"62%\" y=\"72.5%\">2</text><line stroke=\"black\" x1=\"55%\" x2=\"100%\" y1=\"45.0%\" y2=\"45.0%\" /><circle cx=\"60%\" cy=\"50.0%\" fill=\"black\" r=\"2\" /><text x=\"62%\" y=\"50.0%\">0</text><line stroke=\"black\" x1=\"55%\" x2=\"100%\" y1=\"22.5%\" y2=\"22.5%\" /><circle cx=\"60%\" cy=\"27.5%\" fill=\"black\" r=\"2\" /><text x=\"62%\" y=\"27.5%\">0</text><line stroke=\"black\" x1=\"55%\" x2=\"100%\" y1=\"0.0%\" y2=\"0.0%\" /><circle cx=\"60%\" cy=\"5.0%\" fill=\"black\" r=\"2\" /><text x=\"62%\" y=\"5.0%\">0</text><rect fill=\"white\" height=\"17.5%\" stroke=\"black\" width=\"17.5%\" x=\"21.25%\" y=\"47.5%\" /><circle cx=\"30.0%\" cy=\"56.25%\" fill=\"black\" r=\"2\" /><text x=\"32.0%\" y=\"56.25%\">1</text></svg>"
      ],
      "text/plain": [
       "<planning.planning.State at 0x7f5d40e92898>"
      ]
     },
     "metadata": {},
     "output_type": "display_data"
    },
    {
     "name": "stdout",
     "output_type": "stream",
     "text": [
      "step 10\n",
      "{'floor2': 0, 'floor3': 0, 'floor1': 2, 'floor4': 0}\n"
     ]
    },
    {
     "data": {
      "image/svg+xml": [
       "<svg baseProfile=\"full\" height=\"300\" version=\"1.1\" width=\"600\" xmlns=\"http://www.w3.org/2000/svg\" xmlns:ev=\"http://www.w3.org/2001/xml-events\" xmlns:xlink=\"http://www.w3.org/1999/xlink\"><defs /><rect fill=\"white\" height=\"90%\" stroke=\"black\" width=\"90%\" x=\"10.0%\" y=\"0.0%\" /><line stroke=\"black\" x1=\"55.0%\" x2=\"55.0%\" y1=\"0%\" y2=\"90%\" /><line stroke=\"black\" x1=\"55%\" x2=\"100%\" y1=\"67.5%\" y2=\"67.5%\" /><circle cx=\"60%\" cy=\"72.5%\" fill=\"black\" r=\"2\" /><text x=\"62%\" y=\"72.5%\">2</text><line stroke=\"black\" x1=\"55%\" x2=\"100%\" y1=\"45.0%\" y2=\"45.0%\" /><circle cx=\"60%\" cy=\"50.0%\" fill=\"black\" r=\"2\" /><text x=\"62%\" y=\"50.0%\">0</text><line stroke=\"black\" x1=\"55%\" x2=\"100%\" y1=\"22.5%\" y2=\"22.5%\" /><circle cx=\"60%\" cy=\"27.5%\" fill=\"black\" r=\"2\" /><text x=\"62%\" y=\"27.5%\">0</text><line stroke=\"black\" x1=\"55%\" x2=\"100%\" y1=\"0.0%\" y2=\"0.0%\" /><circle cx=\"60%\" cy=\"5.0%\" fill=\"black\" r=\"2\" /><text x=\"62%\" y=\"5.0%\">0</text><rect fill=\"white\" height=\"17.5%\" stroke=\"black\" width=\"17.5%\" x=\"21.25%\" y=\"25.0%\" /><circle cx=\"30.0%\" cy=\"33.75%\" fill=\"black\" r=\"2\" /><text x=\"32.0%\" y=\"33.75%\">1</text></svg>"
      ],
      "text/plain": [
       "<planning.planning.State at 0x7f5d40e9a860>"
      ]
     },
     "metadata": {},
     "output_type": "display_data"
    },
    {
     "name": "stdout",
     "output_type": "stream",
     "text": [
      "step 11\n",
      "{'floor2': 0, 'floor3': 1, 'floor1': 2, 'floor4': 0}\n"
     ]
    },
    {
     "data": {
      "image/svg+xml": [
       "<svg baseProfile=\"full\" height=\"300\" version=\"1.1\" width=\"600\" xmlns=\"http://www.w3.org/2000/svg\" xmlns:ev=\"http://www.w3.org/2001/xml-events\" xmlns:xlink=\"http://www.w3.org/1999/xlink\"><defs /><rect fill=\"white\" height=\"90%\" stroke=\"black\" width=\"90%\" x=\"10.0%\" y=\"0.0%\" /><line stroke=\"black\" x1=\"55.0%\" x2=\"55.0%\" y1=\"0%\" y2=\"90%\" /><line stroke=\"black\" x1=\"55%\" x2=\"100%\" y1=\"67.5%\" y2=\"67.5%\" /><circle cx=\"60%\" cy=\"72.5%\" fill=\"black\" r=\"2\" /><text x=\"62%\" y=\"72.5%\">2</text><line stroke=\"black\" x1=\"55%\" x2=\"100%\" y1=\"45.0%\" y2=\"45.0%\" /><circle cx=\"60%\" cy=\"50.0%\" fill=\"black\" r=\"2\" /><text x=\"62%\" y=\"50.0%\">0</text><line stroke=\"black\" x1=\"55%\" x2=\"100%\" y1=\"22.5%\" y2=\"22.5%\" /><circle cx=\"60%\" cy=\"27.5%\" fill=\"black\" r=\"2\" /><text x=\"62%\" y=\"27.5%\">1</text><line stroke=\"black\" x1=\"55%\" x2=\"100%\" y1=\"0.0%\" y2=\"0.0%\" /><circle cx=\"60%\" cy=\"5.0%\" fill=\"black\" r=\"2\" /><text x=\"62%\" y=\"5.0%\">0</text><rect fill=\"white\" height=\"17.5%\" stroke=\"black\" width=\"17.5%\" x=\"21.25%\" y=\"25.0%\" /><circle cx=\"30.0%\" cy=\"33.75%\" fill=\"black\" r=\"2\" /><text x=\"32.0%\" y=\"33.75%\">0</text></svg>"
      ],
      "text/plain": [
       "<planning.planning.State at 0x7f5d40e9a828>"
      ]
     },
     "metadata": {},
     "output_type": "display_data"
    }
   ],
   "source": [
    "bfs = planning.BreadthFirstSearch(problem, verbose=1, timeout=30.0, node_bound=None)\n",
    "status = bfs()\n",
    "if status == planning.search.FOUND:\n",
    "    plan = bfs.plan()\n",
    "    state_sequence = bfs.state_sequence()\n",
    "    print(\"#Generated nodes: \" + str(bfs.info()[\"generated\"]))\n",
    "    if True: #len(plan) < 10:\n",
    "        print(\"Plan:\\n  \" + \"\\n  \".join([str(op) for op in bfs.plan()]))\n",
    "        for i, state in enumerate(bfs.state_sequence()):\n",
    "            print(\"step \" + str(i))\n",
    "            display(state)"
   ]
  },
  {
   "cell_type": "markdown",
   "metadata": {},
   "source": [
    "## 2. Requirement Analysis of the CBR engine Project\n",
    "\n",
    "In this section we analayse both, the requirements from a user perspective and from a technical point of view. \n",
    "\n",
    "### 2.1. Requirements: Users's perspective\n",
    "\n",
    "Our system, general as it is, can be used in any sort of application in which is interesting the use of a planning system. In any domain in which a user has a problem which can be solved with planning techniques, our project is useful, so that, there are no requirements from the perspective of potential users. They will depend on the specific application of use.\n",
    "\n",
    "Note that the work developed in this project could be used by specialized people with technical knowledge and this include both, researchers and product designers at private companies. \n",
    "\n",
    "Among the possible domains in which our system could be used we find: robotics, industrial organization, assembly lines or applications related to the use of satellites.\n",
    "\n",
    "### 2.2. Requirements: Technical view\n",
    "\n",
    "As it is explained just above, our system is too general to present requirements as specific as: maximum time response of the system or maximum memory size of the system. All these requirements will show up once the our potential users start using our system in a specific application domain. \n",
    "\n",
    "When designing our system we tried to address the following specific requirements:\n",
    "\n",
    "1. The system should be faster than a conventional planner and expand less nodes when searching the solution.\n",
    "\n",
    "2. The computed heuristic should be as precise as possible. \n",
    "\n",
    "3. The CBR system was thought to start learning with simple problems of the specific domain and continue doing so with more difficult and specific problems."
   ]
  },
  {
   "cell_type": "markdown",
   "metadata": {},
   "source": [
    "## 3. Functional Architecture of the CBR engine Project\n",
    "\n",
    "In this project we have designed a system of general purpose, so that the functional architecture is quite simple to be used. Just four different entities take part in our Functional Architecture: \n",
    "\n",
    "- **Planner:** It is our system itself, a CBR trained for planning purposes.\n",
    "- **Domain:** The domain has to be coded (just once) by the user. In order to do so, it is necessary to follow the same syntaxis we have used for our three domains, which is quite intuitive and tries to be as close as possible to PDDL. This is one of the inputs of our CBR system.\n",
    "- **Problem:** Again, the problem has to be written by the user and it will be another input of our Planner.\n",
    "- **Plan:** This is the output of our system, the final plan with the actions to be performed in order to solve the input problem. \n",
    "\n",
    "Below, we can see an image of how this four elements interact.\n",
    "\n",
    "<img src='report_figures/functional_architecture.png'>\n"
   ]
  },
  {
   "cell_type": "markdown",
   "metadata": {},
   "source": [
    "## 4. Proposed CBR engine Project solution design:\n",
    "\n",
    "In this section we analyse in depth the design of our CBR engine: the Case Structure and Case Library Structure and the methods used for every CBR cycle step.\n",
    "\n",
    "### 4.1. Case Structure and Case Library Structure designed\n",
    "\n",
    "As said in the introduction of this document, our cases are vectors of heuristics. Specificially, we are using eight different heuristics which are computed using an implementation in C of Fast Downward. Fast Downward is a classical planning system based on heuristic search. It can deal with general deterministic planning problems encoded in the propositional fragment of PDDL2.2, including advanced features like ADL conditions and effects and derived predicates (axioms). \n",
    "\n",
    "**put reference for FD...M. Helmert (2006) \"The Fast Downward Planning System\", Volume 26, pages 191-246**\n",
    "\n",
    "The implementation of Fast Downward includes several heuristics, each of them has four different characteristics we have used to choose them:\n",
    "\n",
    "- Admissible: h(s) <= h*(s) for all states s\n",
    "\n",
    "- Consistent: h(s) <= c(s, s') + h(s') for all states s connected to states s' by an action with cost c(s, s')\n",
    "\n",
    "- Safe: h(s) = infinity is only true for states with h*(s) = infinity\n",
    "\n",
    "- Preferred operators: this heuristic identifies preferred operators\n",
    "\n",
    "From all heuristics provided by the cited implementation, we have chosen the following eight to conform our cases vectors:\n",
    "\n",
    "- Additive (add)\n",
    "\n",
    "- Additive CEGAR (cegar) \n",
    "\n",
    "- Causal Graph (cg)\n",
    "\n",
    "- Canonical PDB (cpdbs)\n",
    "\n",
    "- FF (ff)\n",
    "\n",
    "- Global Count (globalcount)\n",
    "\n",
    "- Max Heuristic (hmax)\n",
    "\n",
    "- Landmark Cut (lmcut)\n",
    "\n",
    "The computation of all these heuristics increases the time of execution of our code, since it is necesary to call C code from Python. That is one of the reasons why we decided to implement some of the heuristics in Python. However, we just have time to do so with the ones we identify as fast and good enough: Additive and Relaxed Planning Graph.\n",
    "\n",
    "Regarding the Case Library Structure, we have used *k-d tree*, which is useful for recover the sublinear time in the most similar cases, in our case, the vector of heuristics. The value of 'k' corresponds to the number of heuristics we use, eitght.\n",
    "\n",
    "### 4.2. Methods of every CBR cycle step\n",
    "\n",
    "Case-based reasoning has been formalized for purposes of computer reasoning as a four-step process:\n",
    "\n",
    "- **Retrieve:** Given a target problem, retrieve from memory cases relevant to solving it. In our case, we select the retrieved solution using the K-Nearest Neighbors (KNN) algorithm. The value of K has been chosen empirically after some experiments. This election should be improved in future versions of our system.\n",
    "\n",
    "- **Reuse (Adaptation):** Map the solution from the previous case to the target problem. This may involve adapting the solution as needed to fit the new situation. In our case we do not adapt the retrieved solution, of course, a more intelligent behaviour should be implemented in future work.\n",
    "\n",
    "- **Revise:** Having mapped the previous solution to the target situation, test the new solution in the real world (or a simulation) and, if necessary, revise. We compare our solution to the solution given by the A* algorithm in the case of using just one heuristic, the additive. We have chosen that heuristic because it works pretty well and is faster. Those are some of the reasons why we directly have implemented it in Python.\n",
    "\n",
    "- **Retain:** After the solution has been successfully adapted to the target problem, store the resulting experience as a new case in memory. We have decided to learn every plan we generate, of course, we could improve this with a smarter strategy."
   ]
  },
  {
   "cell_type": "markdown",
   "metadata": {},
   "source": [
    "## 5. Testing"
   ]
  },
  {
   "cell_type": "markdown",
   "metadata": {},
   "source": [
    "## 6. Evaluation"
   ]
  }
 ],
 "metadata": {
  "kernelspec": {
   "display_name": "Python 3",
   "language": "python",
   "name": "python3"
  },
  "language_info": {
   "codemirror_mode": {
    "name": "ipython",
    "version": 3
   },
   "file_extension": ".py",
   "mimetype": "text/x-python",
   "name": "python",
   "nbconvert_exporter": "python",
   "pygments_lexer": "ipython3",
   "version": "3.5.2"
  }
 },
 "nbformat": 4,
 "nbformat_minor": 2
}
