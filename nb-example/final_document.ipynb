{
 "cells": [
  {
   "cell_type": "markdown",
   "metadata": {},
   "source": [
    "# SEL 2017/18 - Practical Work 3 - CBR prototype for planning\n",
    "*by Alberto Olivares Alarcos and Alejandro Suárez Hernández*\n",
    "\n",
    "\n",
    "1. Introduction\n",
    "    1. Basic principles of the CBR engine project. The general ideas of the CBR engine implemented, from a technical point of view. That means explaining what are the general implementation guidelines of your project (which kind of Case Library structure, which kind of case structure, etc., without giving more details).\n",
    "    2. Chosen application domain\n",
    "    \n",
    "2. Requirement Analysis of the CBR engine Project. The requirements include both the user requirements (main functionalities of the system that user needs, i.e., what the system must do?) and the technical requirements of the system (maximum time response of the system, maximum memory size of the system, etc.).\n",
    "\n",
    "3. Functional Architecture of the CBR engine Project, describing the input, the output, the different components of the system and their interactions.\n",
    "\n",
    "4. Proposed CBR engine Project solution design:\n",
    "    1. Case Structure and Case Library structure designed\n",
    "    2. Methods implementing each CBR cycle step (retrieval, adaptation, evaluation and learning)\n",
    "    \n",
    "5. Testing and evaluation.\n",
    "\n",
    "6. Discussion of results."
   ]
  },
  {
   "cell_type": "markdown",
   "metadata": {},
   "source": [
    "## 1. Introduction\n",
    " \n",
    "In this document we present the work done for the third delivery of the *Supervised and Experimental Learning* (SEL) course. The main theme of this project is the design and implementation of a CBR system for planning. A CBR based on the use of several heuristics has been developed for general STRIPS-based domain. We exemplify this report with three different well known planning domains. We provide empirical results for these domain at the end of the document.\n",
    "\n",
    "### 1.1. Theoretical principles of planning\n",
    "\n",
    "We devote this section to briefly introduce the unfamiliar reader to the realm of planning. We target the problem of planning for arbitrary problems with **STRIPS**-like expressivity. A problem is given by a tuple $ (\\mathcal{D}, \\mathcal{P}) $, where $ \\mathcal{D} $ is the domain and $ \\mathcal{P} $ is a particular instance of the problem in this domain.\n",
    "\n",
    "The domain $ \\mathcal{D} $ represents generic knowledge about the problem. This includes:\n",
    "* A **type hierarchy** for the problem's objects.\n",
    "* A set of **propositional predicates** that are used to describe the problem's states. The predicates are composed of a name and a list of optionally typed arguments.\n",
    "* A set of *actions* or **operators**. At the same time, an action is composed of:\n",
    "    * A list of optionally typed **parameters** (objects from the world).\n",
    "    * A **precondition**, expressed as a conjunction of predicates. For an operator to be applicable in a given state, this precondition must be satisfied by the state.\n",
    "    * An **add list**, describing the predicates that will be added to the state after the application of this operator.\n",
    "    * A **delete list**, describing the predicates that will be deleted from the state after the application of this operator.\n",
    "    * A real positive number that represents the **cost** for this action.\n",
    "\n",
    "On the other hand, the instance $ \\mathcal{P} $ represents the facts of a specific problem. This includes:\n",
    "* A set of optionally typed **objects** relevant for this problem.\n",
    "* Specification of the initial state, as a set of predicates.\n",
    "* Specification of the goal condition (it does not have to be a complete state), as a set of predicates.\n",
    "\n",
    "Notice that the domain is generic and shared among all the problems of the same type (e.g. the blocks world or the Towers of Hanoi), while the instance is specific to each problem. Notice too that, when specifying the domain, the operators are typically left unground (i.e. with free variables as parameters), and are instantiated for each particular problem.\n",
    "\n",
    "STRIPS adopts the closed-world assumption. That is: predicates that are present in the state are true, while predicates that are not are false. That is in contraposition to the open world assumption, in which predicates that are in the state are marked explicitly as true or false and predicates that are not in the state are unknown.\n",
    "\n",
    "In this context, planning consists in finding an applicable sequence of operator that can be executed in chain from the initial state and that result in a state that satisfies the goal condition. That is, a sequence of operators $ o_1, o_2, \\dots, o_n $ such that\n",
    "\n",
    "$$ o_1(s_0) \\rightarrow s_1 $$\n",
    "$$ o_2(s_1) \\rightarrow s_2 $$\n",
    "$$ \\dots $$\n",
    "$$ o_{n}(s_{n-1}) \\rightarrow s_n $$\n",
    "$$ s_n \\models g $$\n",
    "\n",
    "In this work, we address this in the most general way possible. That is, we do not make any assumption over the underlying domain.\n",
    "\n",
    "\n",
    "### 1.2. Basic principles of the CBR engine project\n",
    "\n",
    "Our aim was to implement a CBR engine that operates in the framework introduced in the former section. The role of the CBR in our project is to infer the cost of the optimum plan between a state and a goal. Our CBR combines several planning heuristics (numerical attributes) in order to give an estimation of the optimum plan's cost. Ideally, this estimation should be better than each of the individual heuristics. That is, we seek to enable the planner to learn from experience (i.e. problems solved in the past) so it can perform better in the future. In our project, we have considered that the cost of performing an action is unitary, so plan cost and plan length are effectively the same.\n",
    "\n",
    "An heuristic that is able to exactly compute the optimum cost is called perfect heuristic and it is often denoted as h\\*. Therefore, in light of what we have just explained, the general idea of our work is to train a system that approximates h* as good as possible. This way, we can use our system to guide pathfinding and graph traversal heuristic search algorithms (IDA*, A*, etc.). We use A*, which guarantees to find the optimal plan if an only if the found heuristic is admissible, that is, it is smaller or equal to the perfect heuristic. Although the admissibility of a learned heuriscit cannot be always guaranteed, it is often desired to tradeoff optimality with search speed. That is, we prefer to find a good and reasonable plan quickly that spend a high amount of time in finding the optimum plan.\n",
    "\n",
    "(Specifically, we do not look at the absolute value of the heuristic, but at the order that the heuristic produces in the states which are part of the plan.)\n",
    "\n",
    "The Case Library Structure we have used is **k-d tree**, the reason is that we work with purely numerical cases which can be organised and retrieved efficiently following such a structure. Namely, each case is a vector of heuristics. We are trying to solve a regression problem, so we want to aggregate the retrieved cases' targets to estimate the optimum heuristic. We use the **Scikit learn**'s **knn** regressor for this. We train an base regressor with a bunch of easy problems solved with exhaustive search, and from that point on the CBR updates the knn's data base with the data discovered in subsequent problems.\n",
    "\n",
    "\n",
    "### 1.3. Chosen application domain\n",
    "\n",
    "For this practical work we have chosen three different domains: The Tower of Hanoi, Blocks World and Elevators. All of them are typical domains used in Planning. We present the three domains and show examples of them using blind search methods (BFS and IDS). We also use those methods as target in order to test our CBR system. \n",
    "\n",
    "Nevertheless, our project is quite ambitious because we have implemented it for general purpose. It can be apply to any kind of problem which can be written with STRIPS expressivity. \n",
    "\n",
    "#### 1.3.1. The Tower of Hanoi\n",
    "The Tower of Hanoi is a mathematical game or puzzle often used in psychology. It consists of three rods or pegs and a number of disks of different sizes, which can slide onto any rod. The puzzle typically starts with all the disks stacked in the first peg (with the small disks on top of the bigger ones), although we consider a more general puzzle in which the initial configuration is arbitrary.\n",
    "\n",
    "The objective of the puzzle is to reach a particular configuration of the disks, obeying the following simple rules:\n",
    "\n",
    "1. Only one disk can be moved at a time.\n",
    "2. Each move consists of taking the upper disk from one of the stacks and placing it on top of another stack.\n",
    "3. No disk may be placed on top of a smaller disk.\n",
    "\n",
    "We have defined the domain in Python and it contains a single operator: `move(?what-disk, ?from-object, ?to-object)`, which moves disk `?what` from object `?from` (either a peg or another disk) to object `?to` (also, either a peg or a disk). Our planning framework can take care of static preconditions. That is, it does not instantiate the move operator for moving a disk onto a smaller disk) so it is not necessary to encode static predicates in the state (the `smaller(?disk1,?disk2)` predicates that are typically seen in PDDL Hanoi domains).\n",
    "\n",
    "We have also implemented a problem generator. The generator can create problems for any number of disks and pegs. It also allows random initial and ending configurations. Our first example will be fairly simple and will have 3 pegs, all the disks in the first peg in the initial state and all the disks in the third peg in the goal configuration. Although the goal in this case details the position of every disk, notice that this does not necessarily has to be the case always. The goal does not need to be a complete description of the end configuration. It is perfectly reasonable, and our framework allows it, to consider partial states (e.g. we want the biggest disk in the third peg, and we do not care about the rest).\n",
    "\n",
    "Next we show an example problem and its resolution:"
   ]
  },
  {
   "cell_type": "code",
   "execution_count": 1,
   "metadata": {},
   "outputs": [],
   "source": [
    "import planning\n",
    "import random\n",
    "\n",
    "from IPython.display import display"
   ]
  },
  {
   "cell_type": "code",
   "execution_count": 2,
   "metadata": {
    "scrolled": false
   },
   "outputs": [
    {
     "name": "stdout",
     "output_type": "stream",
     "text": [
      "Init:\n"
     ]
    },
    {
     "data": {
      "image/svg+xml": [
       "<svg baseProfile=\"full\" height=\"175\" version=\"1.1\" width=\"350\" xmlns=\"http://www.w3.org/2000/svg\" xmlns:ev=\"http://www.w3.org/2001/xml-events\" xmlns:xlink=\"http://www.w3.org/1999/xlink\"><defs /><line stroke=\"black\" x1=\"5%\" x2=\"95%\" y1=\"95%\" y2=\"95%\" /><rect fill=\"white\" height=\"80%\" stroke=\"black\" width=\"1%\" x=\"27.0%\" y=\"15.0%\" /><rect fill=\"white\" height=\"80%\" stroke=\"black\" width=\"1%\" x=\"49.5%\" y=\"15.0%\" /><rect fill=\"white\" height=\"80%\" stroke=\"black\" width=\"1%\" x=\"72.0%\" y=\"15.0%\" /><rect fill=\"white\" height=\"4%\" stroke=\"black\" width=\"4.854%\" x=\"25.073%\" y=\"91.0%\" /><rect fill=\"white\" height=\"4%\" stroke=\"black\" width=\"3.236%\" x=\"25.882%\" y=\"87.0%\" /><rect fill=\"white\" height=\"4%\" stroke=\"black\" width=\"1.618%\" x=\"26.691%\" y=\"83.0%\" /></svg>"
      ],
      "text/plain": [
       "<planning.planning.State at 0x7ff4ec173be0>"
      ]
     },
     "metadata": {},
     "output_type": "display_data"
    },
    {
     "name": "stdout",
     "output_type": "stream",
     "text": [
      "Goal:\n"
     ]
    },
    {
     "data": {
      "image/svg+xml": [
       "<svg baseProfile=\"full\" height=\"175\" version=\"1.1\" width=\"350\" xmlns=\"http://www.w3.org/2000/svg\" xmlns:ev=\"http://www.w3.org/2001/xml-events\" xmlns:xlink=\"http://www.w3.org/1999/xlink\"><defs /><line stroke=\"black\" x1=\"5%\" x2=\"95%\" y1=\"95%\" y2=\"95%\" /><rect fill=\"white\" height=\"80%\" stroke=\"black\" width=\"1%\" x=\"27.0%\" y=\"15.0%\" /><rect fill=\"white\" height=\"80%\" stroke=\"black\" width=\"1%\" x=\"49.5%\" y=\"15.0%\" /><rect fill=\"white\" height=\"80%\" stroke=\"black\" width=\"1%\" x=\"72.0%\" y=\"15.0%\" /><rect fill=\"white\" height=\"4%\" stroke=\"black\" width=\"4.854%\" x=\"70.073%\" y=\"91.0%\" /><rect fill=\"white\" height=\"4%\" stroke=\"black\" width=\"3.236%\" x=\"70.882%\" y=\"87.0%\" /><rect fill=\"white\" height=\"4%\" stroke=\"black\" width=\"1.618%\" x=\"71.691%\" y=\"83.0%\" /></svg>"
      ],
      "text/plain": [
       "<planning.planning.State at 0x7ff4ec173c18>"
      ]
     },
     "metadata": {},
     "output_type": "display_data"
    }
   ],
   "source": [
    "domain_name = \"Hanoi\"\n",
    "domain = planning.domains[domain_name]\n",
    "problem = domain.generate_problem(3, 3, random=False)\n",
    "# print(domain)\n",
    "# print(problem)\n",
    "print(\"Init:\")\n",
    "display(problem.init())\n",
    "print(\"Goal:\")\n",
    "display(problem.goal())\n",
    "# print(\"Applicable actions in 1st state:\")\n",
    "# l = list(filter(problem.init().can_apply, problem.operators()))\n",
    "# print(\"\\n\".join(map(str, l)))\n",
    "# print(planning.pddl_utility.pddl_actions(l))\n",
    "# print(planning.pddl_utility.pddl_domain(domain, problem.operators()))\n",
    "# print(planning.pddl_utility.pddl_problem(problem))\n",
    "\n",
    "# with open(\"domain\"+domain_name+\".pddl\", \"w\") as d, open(\"problem\"+domain_name+\".pddl\",\"w\") as p:\n",
    "#     d.write(planning.pddl_utility.pddl_domain(domain, problem.operators()))\n",
    "#     p.write(planning.pddl_utility.pddl_problem(problem))\n"
   ]
  },
  {
   "cell_type": "code",
   "execution_count": 3,
   "metadata": {
    "scrolled": false
   },
   "outputs": [
    {
     "name": "stdout",
     "output_type": "stream",
     "text": [
      "[0.002s] Plan found with 7 action(s)\n",
      "#Generated nodes: 24\n",
      "Plan:\n",
      "  move(disk01,disk02,peg3)\n",
      "  move(disk02,disk03,peg2)\n",
      "  move(disk01,peg3,disk02)\n",
      "  move(disk03,peg1,peg3)\n",
      "  move(disk01,disk02,peg1)\n",
      "  move(disk02,peg2,disk03)\n",
      "  move(disk01,peg1,disk02)\n",
      "step 0\n"
     ]
    },
    {
     "data": {
      "image/svg+xml": [
       "<svg baseProfile=\"full\" height=\"175\" version=\"1.1\" width=\"350\" xmlns=\"http://www.w3.org/2000/svg\" xmlns:ev=\"http://www.w3.org/2001/xml-events\" xmlns:xlink=\"http://www.w3.org/1999/xlink\"><defs /><line stroke=\"black\" x1=\"5%\" x2=\"95%\" y1=\"95%\" y2=\"95%\" /><rect fill=\"white\" height=\"80%\" stroke=\"black\" width=\"1%\" x=\"27.0%\" y=\"15.0%\" /><rect fill=\"white\" height=\"80%\" stroke=\"black\" width=\"1%\" x=\"49.5%\" y=\"15.0%\" /><rect fill=\"white\" height=\"80%\" stroke=\"black\" width=\"1%\" x=\"72.0%\" y=\"15.0%\" /><rect fill=\"white\" height=\"4%\" stroke=\"black\" width=\"4.854%\" x=\"25.073%\" y=\"91.0%\" /><rect fill=\"white\" height=\"4%\" stroke=\"black\" width=\"3.236%\" x=\"25.882%\" y=\"87.0%\" /><rect fill=\"white\" height=\"4%\" stroke=\"black\" width=\"1.618%\" x=\"26.691%\" y=\"83.0%\" /></svg>"
      ],
      "text/plain": [
       "<planning.planning.State at 0x7ff4ec173be0>"
      ]
     },
     "metadata": {},
     "output_type": "display_data"
    },
    {
     "name": "stdout",
     "output_type": "stream",
     "text": [
      "step 1\n"
     ]
    },
    {
     "data": {
      "image/svg+xml": [
       "<svg baseProfile=\"full\" height=\"175\" version=\"1.1\" width=\"350\" xmlns=\"http://www.w3.org/2000/svg\" xmlns:ev=\"http://www.w3.org/2001/xml-events\" xmlns:xlink=\"http://www.w3.org/1999/xlink\"><defs /><line stroke=\"black\" x1=\"5%\" x2=\"95%\" y1=\"95%\" y2=\"95%\" /><rect fill=\"white\" height=\"80%\" stroke=\"black\" width=\"1%\" x=\"27.0%\" y=\"15.0%\" /><rect fill=\"white\" height=\"80%\" stroke=\"black\" width=\"1%\" x=\"49.5%\" y=\"15.0%\" /><rect fill=\"white\" height=\"80%\" stroke=\"black\" width=\"1%\" x=\"72.0%\" y=\"15.0%\" /><rect fill=\"white\" height=\"4%\" stroke=\"black\" width=\"4.854%\" x=\"25.073%\" y=\"91.0%\" /><rect fill=\"white\" height=\"4%\" stroke=\"black\" width=\"3.236%\" x=\"25.882%\" y=\"87.0%\" /><rect fill=\"white\" height=\"4%\" stroke=\"black\" width=\"1.618%\" x=\"71.691%\" y=\"91.0%\" /></svg>"
      ],
      "text/plain": [
       "<planning.planning.State at 0x7ff4ec84cc50>"
      ]
     },
     "metadata": {},
     "output_type": "display_data"
    },
    {
     "name": "stdout",
     "output_type": "stream",
     "text": [
      "step 2\n"
     ]
    },
    {
     "data": {
      "image/svg+xml": [
       "<svg baseProfile=\"full\" height=\"175\" version=\"1.1\" width=\"350\" xmlns=\"http://www.w3.org/2000/svg\" xmlns:ev=\"http://www.w3.org/2001/xml-events\" xmlns:xlink=\"http://www.w3.org/1999/xlink\"><defs /><line stroke=\"black\" x1=\"5%\" x2=\"95%\" y1=\"95%\" y2=\"95%\" /><rect fill=\"white\" height=\"80%\" stroke=\"black\" width=\"1%\" x=\"27.0%\" y=\"15.0%\" /><rect fill=\"white\" height=\"80%\" stroke=\"black\" width=\"1%\" x=\"49.5%\" y=\"15.0%\" /><rect fill=\"white\" height=\"80%\" stroke=\"black\" width=\"1%\" x=\"72.0%\" y=\"15.0%\" /><rect fill=\"white\" height=\"4%\" stroke=\"black\" width=\"4.854%\" x=\"25.073%\" y=\"91.0%\" /><rect fill=\"white\" height=\"4%\" stroke=\"black\" width=\"3.236%\" x=\"48.382%\" y=\"91.0%\" /><rect fill=\"white\" height=\"4%\" stroke=\"black\" width=\"1.618%\" x=\"71.691%\" y=\"91.0%\" /></svg>"
      ],
      "text/plain": [
       "<planning.planning.State at 0x7ff4ec19a8d0>"
      ]
     },
     "metadata": {},
     "output_type": "display_data"
    },
    {
     "name": "stdout",
     "output_type": "stream",
     "text": [
      "step 3\n"
     ]
    },
    {
     "data": {
      "image/svg+xml": [
       "<svg baseProfile=\"full\" height=\"175\" version=\"1.1\" width=\"350\" xmlns=\"http://www.w3.org/2000/svg\" xmlns:ev=\"http://www.w3.org/2001/xml-events\" xmlns:xlink=\"http://www.w3.org/1999/xlink\"><defs /><line stroke=\"black\" x1=\"5%\" x2=\"95%\" y1=\"95%\" y2=\"95%\" /><rect fill=\"white\" height=\"80%\" stroke=\"black\" width=\"1%\" x=\"27.0%\" y=\"15.0%\" /><rect fill=\"white\" height=\"80%\" stroke=\"black\" width=\"1%\" x=\"49.5%\" y=\"15.0%\" /><rect fill=\"white\" height=\"80%\" stroke=\"black\" width=\"1%\" x=\"72.0%\" y=\"15.0%\" /><rect fill=\"white\" height=\"4%\" stroke=\"black\" width=\"4.854%\" x=\"25.073%\" y=\"91.0%\" /><rect fill=\"white\" height=\"4%\" stroke=\"black\" width=\"3.236%\" x=\"48.382%\" y=\"91.0%\" /><rect fill=\"white\" height=\"4%\" stroke=\"black\" width=\"1.618%\" x=\"49.191%\" y=\"87.0%\" /></svg>"
      ],
      "text/plain": [
       "<planning.planning.State at 0x7ff4ec19a7f0>"
      ]
     },
     "metadata": {},
     "output_type": "display_data"
    },
    {
     "name": "stdout",
     "output_type": "stream",
     "text": [
      "step 4\n"
     ]
    },
    {
     "data": {
      "image/svg+xml": [
       "<svg baseProfile=\"full\" height=\"175\" version=\"1.1\" width=\"350\" xmlns=\"http://www.w3.org/2000/svg\" xmlns:ev=\"http://www.w3.org/2001/xml-events\" xmlns:xlink=\"http://www.w3.org/1999/xlink\"><defs /><line stroke=\"black\" x1=\"5%\" x2=\"95%\" y1=\"95%\" y2=\"95%\" /><rect fill=\"white\" height=\"80%\" stroke=\"black\" width=\"1%\" x=\"27.0%\" y=\"15.0%\" /><rect fill=\"white\" height=\"80%\" stroke=\"black\" width=\"1%\" x=\"49.5%\" y=\"15.0%\" /><rect fill=\"white\" height=\"80%\" stroke=\"black\" width=\"1%\" x=\"72.0%\" y=\"15.0%\" /><rect fill=\"white\" height=\"4%\" stroke=\"black\" width=\"3.236%\" x=\"48.382%\" y=\"91.0%\" /><rect fill=\"white\" height=\"4%\" stroke=\"black\" width=\"1.618%\" x=\"49.191%\" y=\"87.0%\" /><rect fill=\"white\" height=\"4%\" stroke=\"black\" width=\"4.854%\" x=\"70.073%\" y=\"91.0%\" /></svg>"
      ],
      "text/plain": [
       "<planning.planning.State at 0x7ff4ec19a908>"
      ]
     },
     "metadata": {},
     "output_type": "display_data"
    },
    {
     "name": "stdout",
     "output_type": "stream",
     "text": [
      "step 5\n"
     ]
    },
    {
     "data": {
      "image/svg+xml": [
       "<svg baseProfile=\"full\" height=\"175\" version=\"1.1\" width=\"350\" xmlns=\"http://www.w3.org/2000/svg\" xmlns:ev=\"http://www.w3.org/2001/xml-events\" xmlns:xlink=\"http://www.w3.org/1999/xlink\"><defs /><line stroke=\"black\" x1=\"5%\" x2=\"95%\" y1=\"95%\" y2=\"95%\" /><rect fill=\"white\" height=\"80%\" stroke=\"black\" width=\"1%\" x=\"27.0%\" y=\"15.0%\" /><rect fill=\"white\" height=\"80%\" stroke=\"black\" width=\"1%\" x=\"49.5%\" y=\"15.0%\" /><rect fill=\"white\" height=\"80%\" stroke=\"black\" width=\"1%\" x=\"72.0%\" y=\"15.0%\" /><rect fill=\"white\" height=\"4%\" stroke=\"black\" width=\"1.618%\" x=\"26.691%\" y=\"91.0%\" /><rect fill=\"white\" height=\"4%\" stroke=\"black\" width=\"3.236%\" x=\"48.382%\" y=\"91.0%\" /><rect fill=\"white\" height=\"4%\" stroke=\"black\" width=\"4.854%\" x=\"70.073%\" y=\"91.0%\" /></svg>"
      ],
      "text/plain": [
       "<planning.planning.State at 0x7ff4ec19aa58>"
      ]
     },
     "metadata": {},
     "output_type": "display_data"
    },
    {
     "name": "stdout",
     "output_type": "stream",
     "text": [
      "step 6\n"
     ]
    },
    {
     "data": {
      "image/svg+xml": [
       "<svg baseProfile=\"full\" height=\"175\" version=\"1.1\" width=\"350\" xmlns=\"http://www.w3.org/2000/svg\" xmlns:ev=\"http://www.w3.org/2001/xml-events\" xmlns:xlink=\"http://www.w3.org/1999/xlink\"><defs /><line stroke=\"black\" x1=\"5%\" x2=\"95%\" y1=\"95%\" y2=\"95%\" /><rect fill=\"white\" height=\"80%\" stroke=\"black\" width=\"1%\" x=\"27.0%\" y=\"15.0%\" /><rect fill=\"white\" height=\"80%\" stroke=\"black\" width=\"1%\" x=\"49.5%\" y=\"15.0%\" /><rect fill=\"white\" height=\"80%\" stroke=\"black\" width=\"1%\" x=\"72.0%\" y=\"15.0%\" /><rect fill=\"white\" height=\"4%\" stroke=\"black\" width=\"1.618%\" x=\"26.691%\" y=\"91.0%\" /><rect fill=\"white\" height=\"4%\" stroke=\"black\" width=\"4.854%\" x=\"70.073%\" y=\"91.0%\" /><rect fill=\"white\" height=\"4%\" stroke=\"black\" width=\"3.236%\" x=\"70.882%\" y=\"87.0%\" /></svg>"
      ],
      "text/plain": [
       "<planning.planning.State at 0x7ff4ec19ac18>"
      ]
     },
     "metadata": {},
     "output_type": "display_data"
    },
    {
     "name": "stdout",
     "output_type": "stream",
     "text": [
      "step 7\n"
     ]
    },
    {
     "data": {
      "image/svg+xml": [
       "<svg baseProfile=\"full\" height=\"175\" version=\"1.1\" width=\"350\" xmlns=\"http://www.w3.org/2000/svg\" xmlns:ev=\"http://www.w3.org/2001/xml-events\" xmlns:xlink=\"http://www.w3.org/1999/xlink\"><defs /><line stroke=\"black\" x1=\"5%\" x2=\"95%\" y1=\"95%\" y2=\"95%\" /><rect fill=\"white\" height=\"80%\" stroke=\"black\" width=\"1%\" x=\"27.0%\" y=\"15.0%\" /><rect fill=\"white\" height=\"80%\" stroke=\"black\" width=\"1%\" x=\"49.5%\" y=\"15.0%\" /><rect fill=\"white\" height=\"80%\" stroke=\"black\" width=\"1%\" x=\"72.0%\" y=\"15.0%\" /><rect fill=\"white\" height=\"4%\" stroke=\"black\" width=\"4.854%\" x=\"70.073%\" y=\"91.0%\" /><rect fill=\"white\" height=\"4%\" stroke=\"black\" width=\"3.236%\" x=\"70.882%\" y=\"87.0%\" /><rect fill=\"white\" height=\"4%\" stroke=\"black\" width=\"1.618%\" x=\"71.691%\" y=\"83.0%\" /></svg>"
      ],
      "text/plain": [
       "<planning.planning.State at 0x7ff4ec19ae10>"
      ]
     },
     "metadata": {},
     "output_type": "display_data"
    }
   ],
   "source": [
    "bfs = planning.BreadthFirstSearch(problem, verbose=1, timeout=30.0, node_bound=None)\n",
    "status = bfs()\n",
    "if status == planning.search.FOUND:\n",
    "    plan = bfs.plan()\n",
    "    state_sequence = bfs.state_sequence()\n",
    "    print(\"#Generated nodes: \" + str(bfs.info()[\"generated\"]))\n",
    "    if True: #len(plan) < 10:\n",
    "        print(\"Plan:\\n  \" + \"\\n  \".join([str(op) for op in bfs.plan()]))\n",
    "        for i, state in enumerate(bfs.state_sequence()):\n",
    "            print(\"step \" + str(i))\n",
    "            display(state)"
   ]
  },
  {
   "cell_type": "markdown",
   "metadata": {},
   "source": [
    "#### 1.3.2. Blocks World\n",
    "The blocks world is one of the most famous planning domains in artificial intelligence. Imagine a set of wooden blocks of various shapes and colors sitting on a table. The goal is to build one or more vertical stacks of blocks. The catch is that only one block may be moved at a time: it may either be placed on the table or placed atop another block. Because of this, any blocks that are, at a given time, under another block cannot be moved. Moreover, some kinds of blocks cannot have other blocks stacked on top of them.\n",
    "\n",
    "The simplicity of this toy world lends itself readily to symbolic or classical A.I. approaches, in which the world is modeled as a set of abstract symbols which may be reasoned about.\n",
    "\n",
    "One relevant difference between our implementation of the domain with respect to the original one, is that our table is not infinite. Instead, there are a number of limited slots.\n",
    "\n",
    "We have defined the domain in Python and it contains a two operators: `pick(?what-block, ?from-object)`, which picks block `?what` from object `?from` (either a slot of the table or another block) and `put(?what-block, ?to-object)`, which puts block `?what` onto object `?to` (also, either one position of the table or a block).\n",
    "\n",
    "Here is an example problem and its resolution:"
   ]
  },
  {
   "cell_type": "code",
   "execution_count": 4,
   "metadata": {
    "scrolled": false
   },
   "outputs": [
    {
     "name": "stdout",
     "output_type": "stream",
     "text": [
      "Init:\n"
     ]
    },
    {
     "data": {
      "image/svg+xml": [
       "<svg baseProfile=\"full\" height=\"175\" version=\"1.1\" width=\"350\" xmlns=\"http://www.w3.org/2000/svg\" xmlns:ev=\"http://www.w3.org/2001/xml-events\" xmlns:xlink=\"http://www.w3.org/1999/xlink\"><defs /><line stroke=\"black\" x1=\"5%\" x2=\"95%\" y1=\"95%\" y2=\"95%\" /><line stroke=\"blue\" x1=\"15.0%\" x2=\"15.0%\" y1=\"0%\" y2=\"5%\" /><line stroke=\"blue\" x1=\"5.5%\" x2=\"5.5%\" y1=\"5%\" y2=\"10%\" /><line stroke=\"blue\" x1=\"24.5%\" x2=\"24.5%\" y1=\"5%\" y2=\"10%\" /><line stroke=\"blue\" x1=\"5.5%\" x2=\"24.5%\" y1=\"5%\" y2=\"5%\" /><rect fill=\"white\" height=\"18.0%\" stroke=\"black\" width=\"18.0%\" x=\"41.0%\" y=\"77.0%\" /><text fill=\"black\" x=\"152.95000000000002\" y=\"157.5\">block03</text><rect fill=\"white\" height=\"18.0%\" stroke=\"black\" width=\"18.0%\" x=\"41.0%\" y=\"59.0%\" /><text fill=\"black\" x=\"152.95000000000002\" y=\"126.0\">block02</text><rect fill=\"white\" height=\"18.0%\" stroke=\"black\" width=\"18.0%\" x=\"41.0%\" y=\"41.0%\" /><text fill=\"black\" x=\"152.95000000000002\" y=\"94.5\">block01</text></svg>"
      ],
      "text/plain": [
       "<planning.planning.State at 0x7ff4ec1739e8>"
      ]
     },
     "metadata": {},
     "output_type": "display_data"
    },
    {
     "name": "stdout",
     "output_type": "stream",
     "text": [
      "Goal:\n"
     ]
    },
    {
     "data": {
      "image/svg+xml": [
       "<svg baseProfile=\"full\" height=\"175\" version=\"1.1\" width=\"350\" xmlns=\"http://www.w3.org/2000/svg\" xmlns:ev=\"http://www.w3.org/2001/xml-events\" xmlns:xlink=\"http://www.w3.org/1999/xlink\"><defs /><line stroke=\"black\" x1=\"5%\" x2=\"95%\" y1=\"95%\" y2=\"95%\" /><line stroke=\"blue\" x1=\"15.0%\" x2=\"15.0%\" y1=\"0%\" y2=\"5%\" /><line stroke=\"blue\" x1=\"5.5%\" x2=\"5.5%\" y1=\"5%\" y2=\"10%\" /><line stroke=\"blue\" x1=\"24.5%\" x2=\"24.5%\" y1=\"5%\" y2=\"10%\" /><line stroke=\"blue\" x1=\"5.5%\" x2=\"24.5%\" y1=\"5%\" y2=\"5%\" /><rect fill=\"white\" height=\"18.0%\" stroke=\"black\" width=\"18.0%\" x=\"18.5%\" y=\"77.0%\" /><text fill=\"black\" x=\"74.2\" y=\"157.5\">block02</text><rect fill=\"white\" height=\"18.0%\" stroke=\"black\" width=\"18.0%\" x=\"41.0%\" y=\"77.0%\" /><text fill=\"black\" x=\"152.95000000000002\" y=\"157.5\">block03</text><rect fill=\"white\" height=\"18.0%\" stroke=\"black\" width=\"18.0%\" x=\"41.0%\" y=\"59.0%\" /><text fill=\"black\" x=\"152.95000000000002\" y=\"126.0\">block01</text></svg>"
      ],
      "text/plain": [
       "<planning.planning.State at 0x7ff524974f28>"
      ]
     },
     "metadata": {},
     "output_type": "display_data"
    }
   ],
   "source": [
    "random.seed(45)\n",
    "\n",
    "domain_name = \"Blocks\"\n",
    "domain = planning.domains[domain_name]\n",
    "problem = domain.generate_problem(3, 3)\n",
    "# print(domain)\n",
    "# print(problem)\n",
    "print(\"Init:\")\n",
    "display(problem.init())\n",
    "print(\"Goal:\")\n",
    "display(problem.goal())\n",
    "# print(\"Applicable actions in 1st state:\")\n",
    "# l = list(filter(problem.init().can_apply, problem.operators()))\n",
    "# print(\"\\n\".join(map(str, l)))\n",
    "\n",
    "# with open(\"domain\"+domain_name+\".pddl\", \"w\") as d, open(\"problem\"+domain_name+\".pddl\",\"w\") as p:\n",
    "#     d.write(planning.pddl_utility.pddl_domain(domain, problem.operators()))\n",
    "#     p.write(planning.pddl_utility.pddl_problem(problem))\n"
   ]
  },
  {
   "cell_type": "markdown",
   "metadata": {},
   "source": [
    "We can solve this problem so that we get the following result."
   ]
  },
  {
   "cell_type": "code",
   "execution_count": 5,
   "metadata": {
    "scrolled": false
   },
   "outputs": [
    {
     "name": "stdout",
     "output_type": "stream",
     "text": [
      "[0.002s] Plan found with 6 action(s)\n",
      "#Generated nodes: 23\n",
      "Plan:\n",
      "  pick(block01,block02)\n",
      "  put(block01,slot3)\n",
      "  pick(block02,block03)\n",
      "  put(block02,slot1)\n",
      "  pick(block01,slot3)\n",
      "  put(block01,block03)\n",
      "step 0\n"
     ]
    },
    {
     "data": {
      "image/svg+xml": [
       "<svg baseProfile=\"full\" height=\"175\" version=\"1.1\" width=\"350\" xmlns=\"http://www.w3.org/2000/svg\" xmlns:ev=\"http://www.w3.org/2001/xml-events\" xmlns:xlink=\"http://www.w3.org/1999/xlink\"><defs /><line stroke=\"black\" x1=\"5%\" x2=\"95%\" y1=\"95%\" y2=\"95%\" /><line stroke=\"blue\" x1=\"15.0%\" x2=\"15.0%\" y1=\"0%\" y2=\"5%\" /><line stroke=\"blue\" x1=\"5.5%\" x2=\"5.5%\" y1=\"5%\" y2=\"10%\" /><line stroke=\"blue\" x1=\"24.5%\" x2=\"24.5%\" y1=\"5%\" y2=\"10%\" /><line stroke=\"blue\" x1=\"5.5%\" x2=\"24.5%\" y1=\"5%\" y2=\"5%\" /><rect fill=\"white\" height=\"18.0%\" stroke=\"black\" width=\"18.0%\" x=\"41.0%\" y=\"77.0%\" /><text fill=\"black\" x=\"152.95000000000002\" y=\"157.5\">block03</text><rect fill=\"white\" height=\"18.0%\" stroke=\"black\" width=\"18.0%\" x=\"41.0%\" y=\"59.0%\" /><text fill=\"black\" x=\"152.95000000000002\" y=\"126.0\">block02</text><rect fill=\"white\" height=\"18.0%\" stroke=\"black\" width=\"18.0%\" x=\"41.0%\" y=\"41.0%\" /><text fill=\"black\" x=\"152.95000000000002\" y=\"94.5\">block01</text></svg>"
      ],
      "text/plain": [
       "<planning.planning.State at 0x7ff4ec1739e8>"
      ]
     },
     "metadata": {},
     "output_type": "display_data"
    },
    {
     "name": "stdout",
     "output_type": "stream",
     "text": [
      "step 1\n"
     ]
    },
    {
     "data": {
      "image/svg+xml": [
       "<svg baseProfile=\"full\" height=\"175\" version=\"1.1\" width=\"350\" xmlns=\"http://www.w3.org/2000/svg\" xmlns:ev=\"http://www.w3.org/2001/xml-events\" xmlns:xlink=\"http://www.w3.org/1999/xlink\"><defs /><line stroke=\"black\" x1=\"5%\" x2=\"95%\" y1=\"95%\" y2=\"95%\" /><line stroke=\"blue\" x1=\"15.0%\" x2=\"15.0%\" y1=\"0%\" y2=\"5%\" /><line stroke=\"blue\" x1=\"5.5%\" x2=\"5.5%\" y1=\"5%\" y2=\"10%\" /><line stroke=\"blue\" x1=\"24.5%\" x2=\"24.5%\" y1=\"5%\" y2=\"10%\" /><line stroke=\"blue\" x1=\"5.5%\" x2=\"24.5%\" y1=\"5%\" y2=\"5%\" /><rect fill=\"white\" height=\"18.0%\" stroke=\"black\" width=\"18.0%\" x=\"6.0%\" y=\"6.5%\" /><text fill=\"black\" x=\"30.449999999999996\" y=\"34.125\">block01</text><rect fill=\"white\" height=\"18.0%\" stroke=\"black\" width=\"18.0%\" x=\"41.0%\" y=\"77.0%\" /><text fill=\"black\" x=\"152.95000000000002\" y=\"157.5\">block03</text><rect fill=\"white\" height=\"18.0%\" stroke=\"black\" width=\"18.0%\" x=\"41.0%\" y=\"59.0%\" /><text fill=\"black\" x=\"152.95000000000002\" y=\"126.0\">block02</text></svg>"
      ],
      "text/plain": [
       "<planning.planning.State at 0x7ff4eb93ce48>"
      ]
     },
     "metadata": {},
     "output_type": "display_data"
    },
    {
     "name": "stdout",
     "output_type": "stream",
     "text": [
      "step 2\n"
     ]
    },
    {
     "data": {
      "image/svg+xml": [
       "<svg baseProfile=\"full\" height=\"175\" version=\"1.1\" width=\"350\" xmlns=\"http://www.w3.org/2000/svg\" xmlns:ev=\"http://www.w3.org/2001/xml-events\" xmlns:xlink=\"http://www.w3.org/1999/xlink\"><defs /><line stroke=\"black\" x1=\"5%\" x2=\"95%\" y1=\"95%\" y2=\"95%\" /><line stroke=\"blue\" x1=\"15.0%\" x2=\"15.0%\" y1=\"0%\" y2=\"5%\" /><line stroke=\"blue\" x1=\"5.5%\" x2=\"5.5%\" y1=\"5%\" y2=\"10%\" /><line stroke=\"blue\" x1=\"24.5%\" x2=\"24.5%\" y1=\"5%\" y2=\"10%\" /><line stroke=\"blue\" x1=\"5.5%\" x2=\"24.5%\" y1=\"5%\" y2=\"5%\" /><rect fill=\"white\" height=\"18.0%\" stroke=\"black\" width=\"18.0%\" x=\"41.0%\" y=\"77.0%\" /><text fill=\"black\" x=\"152.95000000000002\" y=\"157.5\">block03</text><rect fill=\"white\" height=\"18.0%\" stroke=\"black\" width=\"18.0%\" x=\"41.0%\" y=\"59.0%\" /><text fill=\"black\" x=\"152.95000000000002\" y=\"126.0\">block02</text><rect fill=\"white\" height=\"18.0%\" stroke=\"black\" width=\"18.0%\" x=\"63.5%\" y=\"77.0%\" /><text fill=\"black\" x=\"231.7\" y=\"157.5\">block01</text></svg>"
      ],
      "text/plain": [
       "<planning.planning.State at 0x7ff4eb93cfd0>"
      ]
     },
     "metadata": {},
     "output_type": "display_data"
    },
    {
     "name": "stdout",
     "output_type": "stream",
     "text": [
      "step 3\n"
     ]
    },
    {
     "data": {
      "image/svg+xml": [
       "<svg baseProfile=\"full\" height=\"175\" version=\"1.1\" width=\"350\" xmlns=\"http://www.w3.org/2000/svg\" xmlns:ev=\"http://www.w3.org/2001/xml-events\" xmlns:xlink=\"http://www.w3.org/1999/xlink\"><defs /><line stroke=\"black\" x1=\"5%\" x2=\"95%\" y1=\"95%\" y2=\"95%\" /><line stroke=\"blue\" x1=\"15.0%\" x2=\"15.0%\" y1=\"0%\" y2=\"5%\" /><line stroke=\"blue\" x1=\"5.5%\" x2=\"5.5%\" y1=\"5%\" y2=\"10%\" /><line stroke=\"blue\" x1=\"24.5%\" x2=\"24.5%\" y1=\"5%\" y2=\"10%\" /><line stroke=\"blue\" x1=\"5.5%\" x2=\"24.5%\" y1=\"5%\" y2=\"5%\" /><rect fill=\"white\" height=\"18.0%\" stroke=\"black\" width=\"18.0%\" x=\"6.0%\" y=\"6.5%\" /><text fill=\"black\" x=\"30.449999999999996\" y=\"34.125\">block02</text><rect fill=\"white\" height=\"18.0%\" stroke=\"black\" width=\"18.0%\" x=\"41.0%\" y=\"77.0%\" /><text fill=\"black\" x=\"152.95000000000002\" y=\"157.5\">block03</text><rect fill=\"white\" height=\"18.0%\" stroke=\"black\" width=\"18.0%\" x=\"63.5%\" y=\"77.0%\" /><text fill=\"black\" x=\"231.7\" y=\"157.5\">block01</text></svg>"
      ],
      "text/plain": [
       "<planning.planning.State at 0x7ff4eb93cf98>"
      ]
     },
     "metadata": {},
     "output_type": "display_data"
    },
    {
     "name": "stdout",
     "output_type": "stream",
     "text": [
      "step 4\n"
     ]
    },
    {
     "data": {
      "image/svg+xml": [
       "<svg baseProfile=\"full\" height=\"175\" version=\"1.1\" width=\"350\" xmlns=\"http://www.w3.org/2000/svg\" xmlns:ev=\"http://www.w3.org/2001/xml-events\" xmlns:xlink=\"http://www.w3.org/1999/xlink\"><defs /><line stroke=\"black\" x1=\"5%\" x2=\"95%\" y1=\"95%\" y2=\"95%\" /><line stroke=\"blue\" x1=\"15.0%\" x2=\"15.0%\" y1=\"0%\" y2=\"5%\" /><line stroke=\"blue\" x1=\"5.5%\" x2=\"5.5%\" y1=\"5%\" y2=\"10%\" /><line stroke=\"blue\" x1=\"24.5%\" x2=\"24.5%\" y1=\"5%\" y2=\"10%\" /><line stroke=\"blue\" x1=\"5.5%\" x2=\"24.5%\" y1=\"5%\" y2=\"5%\" /><rect fill=\"white\" height=\"18.0%\" stroke=\"black\" width=\"18.0%\" x=\"18.5%\" y=\"77.0%\" /><text fill=\"black\" x=\"74.2\" y=\"157.5\">block02</text><rect fill=\"white\" height=\"18.0%\" stroke=\"black\" width=\"18.0%\" x=\"41.0%\" y=\"77.0%\" /><text fill=\"black\" x=\"152.95000000000002\" y=\"157.5\">block03</text><rect fill=\"white\" height=\"18.0%\" stroke=\"black\" width=\"18.0%\" x=\"63.5%\" y=\"77.0%\" /><text fill=\"black\" x=\"231.7\" y=\"157.5\">block01</text></svg>"
      ],
      "text/plain": [
       "<planning.planning.State at 0x7ff4eb945048>"
      ]
     },
     "metadata": {},
     "output_type": "display_data"
    },
    {
     "name": "stdout",
     "output_type": "stream",
     "text": [
      "step 5\n"
     ]
    },
    {
     "data": {
      "image/svg+xml": [
       "<svg baseProfile=\"full\" height=\"175\" version=\"1.1\" width=\"350\" xmlns=\"http://www.w3.org/2000/svg\" xmlns:ev=\"http://www.w3.org/2001/xml-events\" xmlns:xlink=\"http://www.w3.org/1999/xlink\"><defs /><line stroke=\"black\" x1=\"5%\" x2=\"95%\" y1=\"95%\" y2=\"95%\" /><line stroke=\"blue\" x1=\"15.0%\" x2=\"15.0%\" y1=\"0%\" y2=\"5%\" /><line stroke=\"blue\" x1=\"5.5%\" x2=\"5.5%\" y1=\"5%\" y2=\"10%\" /><line stroke=\"blue\" x1=\"24.5%\" x2=\"24.5%\" y1=\"5%\" y2=\"10%\" /><line stroke=\"blue\" x1=\"5.5%\" x2=\"24.5%\" y1=\"5%\" y2=\"5%\" /><rect fill=\"white\" height=\"18.0%\" stroke=\"black\" width=\"18.0%\" x=\"6.0%\" y=\"6.5%\" /><text fill=\"black\" x=\"30.449999999999996\" y=\"34.125\">block01</text><rect fill=\"white\" height=\"18.0%\" stroke=\"black\" width=\"18.0%\" x=\"18.5%\" y=\"77.0%\" /><text fill=\"black\" x=\"74.2\" y=\"157.5\">block02</text><rect fill=\"white\" height=\"18.0%\" stroke=\"black\" width=\"18.0%\" x=\"41.0%\" y=\"77.0%\" /><text fill=\"black\" x=\"152.95000000000002\" y=\"157.5\">block03</text></svg>"
      ],
      "text/plain": [
       "<planning.planning.State at 0x7ff4eb945128>"
      ]
     },
     "metadata": {},
     "output_type": "display_data"
    },
    {
     "name": "stdout",
     "output_type": "stream",
     "text": [
      "step 6\n"
     ]
    },
    {
     "data": {
      "image/svg+xml": [
       "<svg baseProfile=\"full\" height=\"175\" version=\"1.1\" width=\"350\" xmlns=\"http://www.w3.org/2000/svg\" xmlns:ev=\"http://www.w3.org/2001/xml-events\" xmlns:xlink=\"http://www.w3.org/1999/xlink\"><defs /><line stroke=\"black\" x1=\"5%\" x2=\"95%\" y1=\"95%\" y2=\"95%\" /><line stroke=\"blue\" x1=\"15.0%\" x2=\"15.0%\" y1=\"0%\" y2=\"5%\" /><line stroke=\"blue\" x1=\"5.5%\" x2=\"5.5%\" y1=\"5%\" y2=\"10%\" /><line stroke=\"blue\" x1=\"24.5%\" x2=\"24.5%\" y1=\"5%\" y2=\"10%\" /><line stroke=\"blue\" x1=\"5.5%\" x2=\"24.5%\" y1=\"5%\" y2=\"5%\" /><rect fill=\"white\" height=\"18.0%\" stroke=\"black\" width=\"18.0%\" x=\"18.5%\" y=\"77.0%\" /><text fill=\"black\" x=\"74.2\" y=\"157.5\">block02</text><rect fill=\"white\" height=\"18.0%\" stroke=\"black\" width=\"18.0%\" x=\"41.0%\" y=\"77.0%\" /><text fill=\"black\" x=\"152.95000000000002\" y=\"157.5\">block03</text><rect fill=\"white\" height=\"18.0%\" stroke=\"black\" width=\"18.0%\" x=\"41.0%\" y=\"59.0%\" /><text fill=\"black\" x=\"152.95000000000002\" y=\"126.0\">block01</text></svg>"
      ],
      "text/plain": [
       "<planning.planning.State at 0x7ff4eb9455c0>"
      ]
     },
     "metadata": {},
     "output_type": "display_data"
    }
   ],
   "source": [
    "bfs = planning.BreadthFirstSearch(problem, verbose=1, timeout=30.0, node_bound=None)\n",
    "status = bfs()\n",
    "if status == planning.search.FOUND:\n",
    "    plan = bfs.plan()\n",
    "    state_sequence = bfs.state_sequence()\n",
    "    print(\"#Generated nodes: \" + str(bfs.info()[\"generated\"]))\n",
    "    if True: #len(plan) < 10:\n",
    "        print(\"Plan:\\n  \" + \"\\n  \".join([str(op) for op in bfs.plan()]))\n",
    "        for i, state in enumerate(bfs.state_sequence()):\n",
    "            print(\"step \" + str(i))\n",
    "            display(state)"
   ]
  },
  {
   "cell_type": "markdown",
   "metadata": {},
   "source": [
    "#### 1.3.3. Elevators Domain\n",
    "\n",
    "Let us consider we have a building with several floors and people who want to go from one floor to another one. An elevator, starting from one of the floors, has to satisfy all people petitions. The resctrictions are the following:\n",
    "\n",
    "1. The elevator can just move one floor each step\n",
    "2. Just one person can get into/outo the elevator each step\n",
    "\n",
    "\n",
    "We have defined the domain in Python and it contains a four operators: \n",
    "\n",
    "1. `board(?f-floor, ?p-passenger)`, which boards the passenger `?p` which is in the floor `?f`.\n",
    "2. `depart(?f-floor, ?p-passenger)`, which departs the passenger `?p` in the floor `?f`. The passenger is now served.\n",
    "3. `drive_up(?f1-floor, ?f2-floor)`, the lift goes up from floor `?f1` to floor `?f2`.\n",
    "4. `drive_down(?f1-floor, ?f2-floor)`, the lift goes down from floor `?f1` to floor `?f2`.\n",
    "\n",
    "Again, we show an example problem and resolution:"
   ]
  },
  {
   "cell_type": "code",
   "execution_count": 6,
   "metadata": {
    "scrolled": false
   },
   "outputs": [
    {
     "name": "stdout",
     "output_type": "stream",
     "text": [
      "Init:\n"
     ]
    },
    {
     "data": {
      "image/svg+xml": [
       "<svg baseProfile=\"full\" height=\"220\" version=\"1.1\" width=\"400\" xmlns=\"http://www.w3.org/2000/svg\" xmlns:ev=\"http://www.w3.org/2001/xml-events\" xmlns:xlink=\"http://www.w3.org/1999/xlink\"><defs /><rect fill=\"white\" height=\"90%\" stroke=\"black\" width=\"90%\" x=\"10.0%\" y=\"0.0%\" /><line stroke=\"black\" x1=\"55.0%\" x2=\"55.0%\" y1=\"0%\" y2=\"90%\" /><line stroke=\"black\" x1=\"55%\" x2=\"100%\" y1=\"67.5%\" y2=\"67.5%\" /><circle cx=\"60%\" cy=\"72.5%\" fill=\"black\" r=\"2\" /><text x=\"248.0\" y=\"159.5\">2</text><line stroke=\"black\" x1=\"55%\" x2=\"100%\" y1=\"45.0%\" y2=\"45.0%\" /><circle cx=\"60%\" cy=\"50.0%\" fill=\"black\" r=\"2\" /><text x=\"248.0\" y=\"110.0\">0</text><line stroke=\"black\" x1=\"55%\" x2=\"100%\" y1=\"22.5%\" y2=\"22.5%\" /><circle cx=\"60%\" cy=\"27.5%\" fill=\"black\" r=\"2\" /><text x=\"248.0\" y=\"60.5\">1</text><line stroke=\"black\" x1=\"55%\" x2=\"100%\" y1=\"0.0%\" y2=\"0.0%\" /><circle cx=\"60%\" cy=\"5.0%\" fill=\"black\" r=\"2\" /><text x=\"248.0\" y=\"11.0\">0</text><rect fill=\"white\" height=\"17.5%\" stroke=\"black\" width=\"17.5%\" x=\"21.25%\" y=\"70.0%\" /><circle cx=\"30.0%\" cy=\"78.75%\" fill=\"black\" r=\"2\" /><text x=\"128.0\" y=\"173.25\">0</text></svg>"
      ],
      "text/plain": [
       "<planning.planning.State at 0x7ff4eb93ca20>"
      ]
     },
     "metadata": {},
     "output_type": "display_data"
    },
    {
     "name": "stdout",
     "output_type": "stream",
     "text": [
      "destin(passenger01,floor2)\n",
      "destin(passenger02,floor2)\n",
      "destin(passenger03,floor2)\n",
      "origin(passenger01,floor1)\n",
      "origin(passenger02,floor1)\n",
      "origin(passenger03,floor3)\n",
      "\n",
      "Goal:\n",
      "served(passenger01)\n",
      "served(passenger02)\n",
      "served(passenger03)\n"
     ]
    }
   ],
   "source": [
    "random.seed(42)\n",
    "\n",
    "domain_name = \"Elevator\"\n",
    "domain = planning.domains[domain_name]\n",
    "problem = domain.generate_problem(3, 4)\n",
    "# print(domain)\n",
    "# print(problem)\n",
    "print(\"Init:\")\n",
    "display(problem.init())\n",
    "p_destin_orig = sorted([p for p in problem.init() if p[0] in (\"origin\", \"destin\")])\n",
    "print(planning.predicate_list_to_str(p_destin_orig, delim=\"\\n\"), end=\"\\n\\n\")\n",
    "print(\"Goal:\")\n",
    "p_served = sorted([p for p in problem.goal() if p[0] == \"served\"])\n",
    "print(planning.predicate_list_to_str(p_served, delim=\"\\n\"))\n",
    "#display(problem.goal())\n",
    "# print(\"Applicable actions in 1st state:\")\n",
    "# print(\"\\n\".join(map(str, filter(problem.init().can_apply, problem.operators()))))\n",
    "\n",
    "# with open(\"domain\"+domain_name+\".pddl\", \"w\") as d, open(\"problem\"+domain_name+\".pddl\",\"w\") as p:\n",
    "#     d.write(planning.pddl_utility.pddl_domain(domain, problem.operators()))\n",
    "#     p.write(planning.pddl_utility.pddl_problem(problem))"
   ]
  },
  {
   "cell_type": "code",
   "execution_count": 7,
   "metadata": {
    "scrolled": false
   },
   "outputs": [
    {
     "name": "stdout",
     "output_type": "stream",
     "text": [
      "[0.011s] Plan found with 9 action(s)\n",
      "#Generated nodes: 125\n",
      "Plan:\n",
      "  board(floor1,passenger01)\n",
      "  board(floor1,passenger02)\n",
      "  drive_up(floor1,floor2)\n",
      "  depart(floor2,passenger01)\n",
      "  depart(floor2,passenger02)\n",
      "  drive_up(floor2,floor3)\n",
      "  board(floor3,passenger03)\n",
      "  drive_down(floor3,floor2)\n",
      "  depart(floor2,passenger03)\n",
      "step 0\n"
     ]
    },
    {
     "data": {
      "image/svg+xml": [
       "<svg baseProfile=\"full\" height=\"220\" version=\"1.1\" width=\"400\" xmlns=\"http://www.w3.org/2000/svg\" xmlns:ev=\"http://www.w3.org/2001/xml-events\" xmlns:xlink=\"http://www.w3.org/1999/xlink\"><defs /><rect fill=\"white\" height=\"90%\" stroke=\"black\" width=\"90%\" x=\"10.0%\" y=\"0.0%\" /><line stroke=\"black\" x1=\"55.0%\" x2=\"55.0%\" y1=\"0%\" y2=\"90%\" /><line stroke=\"black\" x1=\"55%\" x2=\"100%\" y1=\"67.5%\" y2=\"67.5%\" /><circle cx=\"60%\" cy=\"72.5%\" fill=\"black\" r=\"2\" /><text x=\"248.0\" y=\"159.5\">2</text><line stroke=\"black\" x1=\"55%\" x2=\"100%\" y1=\"45.0%\" y2=\"45.0%\" /><circle cx=\"60%\" cy=\"50.0%\" fill=\"black\" r=\"2\" /><text x=\"248.0\" y=\"110.0\">0</text><line stroke=\"black\" x1=\"55%\" x2=\"100%\" y1=\"22.5%\" y2=\"22.5%\" /><circle cx=\"60%\" cy=\"27.5%\" fill=\"black\" r=\"2\" /><text x=\"248.0\" y=\"60.5\">1</text><line stroke=\"black\" x1=\"55%\" x2=\"100%\" y1=\"0.0%\" y2=\"0.0%\" /><circle cx=\"60%\" cy=\"5.0%\" fill=\"black\" r=\"2\" /><text x=\"248.0\" y=\"11.0\">0</text><rect fill=\"white\" height=\"17.5%\" stroke=\"black\" width=\"17.5%\" x=\"21.25%\" y=\"70.0%\" /><circle cx=\"30.0%\" cy=\"78.75%\" fill=\"black\" r=\"2\" /><text x=\"128.0\" y=\"173.25\">0</text></svg>"
      ],
      "text/plain": [
       "<planning.planning.State at 0x7ff4eb93ca20>"
      ]
     },
     "metadata": {},
     "output_type": "display_data"
    },
    {
     "name": "stdout",
     "output_type": "stream",
     "text": [
      "step 1\n"
     ]
    },
    {
     "data": {
      "image/svg+xml": [
       "<svg baseProfile=\"full\" height=\"220\" version=\"1.1\" width=\"400\" xmlns=\"http://www.w3.org/2000/svg\" xmlns:ev=\"http://www.w3.org/2001/xml-events\" xmlns:xlink=\"http://www.w3.org/1999/xlink\"><defs /><rect fill=\"white\" height=\"90%\" stroke=\"black\" width=\"90%\" x=\"10.0%\" y=\"0.0%\" /><line stroke=\"black\" x1=\"55.0%\" x2=\"55.0%\" y1=\"0%\" y2=\"90%\" /><line stroke=\"black\" x1=\"55%\" x2=\"100%\" y1=\"67.5%\" y2=\"67.5%\" /><circle cx=\"60%\" cy=\"72.5%\" fill=\"black\" r=\"2\" /><text x=\"248.0\" y=\"159.5\">1</text><line stroke=\"black\" x1=\"55%\" x2=\"100%\" y1=\"45.0%\" y2=\"45.0%\" /><circle cx=\"60%\" cy=\"50.0%\" fill=\"black\" r=\"2\" /><text x=\"248.0\" y=\"110.0\">0</text><line stroke=\"black\" x1=\"55%\" x2=\"100%\" y1=\"22.5%\" y2=\"22.5%\" /><circle cx=\"60%\" cy=\"27.5%\" fill=\"black\" r=\"2\" /><text x=\"248.0\" y=\"60.5\">1</text><line stroke=\"black\" x1=\"55%\" x2=\"100%\" y1=\"0.0%\" y2=\"0.0%\" /><circle cx=\"60%\" cy=\"5.0%\" fill=\"black\" r=\"2\" /><text x=\"248.0\" y=\"11.0\">0</text><rect fill=\"white\" height=\"17.5%\" stroke=\"black\" width=\"17.5%\" x=\"21.25%\" y=\"70.0%\" /><circle cx=\"30.0%\" cy=\"78.75%\" fill=\"black\" r=\"2\" /><text x=\"128.0\" y=\"173.25\">1</text></svg>"
      ],
      "text/plain": [
       "<planning.planning.State at 0x7ff4eb93ca90>"
      ]
     },
     "metadata": {},
     "output_type": "display_data"
    },
    {
     "name": "stdout",
     "output_type": "stream",
     "text": [
      "step 2\n"
     ]
    },
    {
     "data": {
      "image/svg+xml": [
       "<svg baseProfile=\"full\" height=\"220\" version=\"1.1\" width=\"400\" xmlns=\"http://www.w3.org/2000/svg\" xmlns:ev=\"http://www.w3.org/2001/xml-events\" xmlns:xlink=\"http://www.w3.org/1999/xlink\"><defs /><rect fill=\"white\" height=\"90%\" stroke=\"black\" width=\"90%\" x=\"10.0%\" y=\"0.0%\" /><line stroke=\"black\" x1=\"55.0%\" x2=\"55.0%\" y1=\"0%\" y2=\"90%\" /><line stroke=\"black\" x1=\"55%\" x2=\"100%\" y1=\"67.5%\" y2=\"67.5%\" /><circle cx=\"60%\" cy=\"72.5%\" fill=\"black\" r=\"2\" /><text x=\"248.0\" y=\"159.5\">0</text><line stroke=\"black\" x1=\"55%\" x2=\"100%\" y1=\"45.0%\" y2=\"45.0%\" /><circle cx=\"60%\" cy=\"50.0%\" fill=\"black\" r=\"2\" /><text x=\"248.0\" y=\"110.0\">0</text><line stroke=\"black\" x1=\"55%\" x2=\"100%\" y1=\"22.5%\" y2=\"22.5%\" /><circle cx=\"60%\" cy=\"27.5%\" fill=\"black\" r=\"2\" /><text x=\"248.0\" y=\"60.5\">1</text><line stroke=\"black\" x1=\"55%\" x2=\"100%\" y1=\"0.0%\" y2=\"0.0%\" /><circle cx=\"60%\" cy=\"5.0%\" fill=\"black\" r=\"2\" /><text x=\"248.0\" y=\"11.0\">0</text><rect fill=\"white\" height=\"17.5%\" stroke=\"black\" width=\"17.5%\" x=\"21.25%\" y=\"70.0%\" /><circle cx=\"30.0%\" cy=\"78.75%\" fill=\"black\" r=\"2\" /><text x=\"128.0\" y=\"173.25\">2</text></svg>"
      ],
      "text/plain": [
       "<planning.planning.State at 0x7ff4eb93ccc0>"
      ]
     },
     "metadata": {},
     "output_type": "display_data"
    },
    {
     "name": "stdout",
     "output_type": "stream",
     "text": [
      "step 3\n"
     ]
    },
    {
     "data": {
      "image/svg+xml": [
       "<svg baseProfile=\"full\" height=\"220\" version=\"1.1\" width=\"400\" xmlns=\"http://www.w3.org/2000/svg\" xmlns:ev=\"http://www.w3.org/2001/xml-events\" xmlns:xlink=\"http://www.w3.org/1999/xlink\"><defs /><rect fill=\"white\" height=\"90%\" stroke=\"black\" width=\"90%\" x=\"10.0%\" y=\"0.0%\" /><line stroke=\"black\" x1=\"55.0%\" x2=\"55.0%\" y1=\"0%\" y2=\"90%\" /><line stroke=\"black\" x1=\"55%\" x2=\"100%\" y1=\"67.5%\" y2=\"67.5%\" /><circle cx=\"60%\" cy=\"72.5%\" fill=\"black\" r=\"2\" /><text x=\"248.0\" y=\"159.5\">0</text><line stroke=\"black\" x1=\"55%\" x2=\"100%\" y1=\"45.0%\" y2=\"45.0%\" /><circle cx=\"60%\" cy=\"50.0%\" fill=\"black\" r=\"2\" /><text x=\"248.0\" y=\"110.0\">0</text><line stroke=\"black\" x1=\"55%\" x2=\"100%\" y1=\"22.5%\" y2=\"22.5%\" /><circle cx=\"60%\" cy=\"27.5%\" fill=\"black\" r=\"2\" /><text x=\"248.0\" y=\"60.5\">1</text><line stroke=\"black\" x1=\"55%\" x2=\"100%\" y1=\"0.0%\" y2=\"0.0%\" /><circle cx=\"60%\" cy=\"5.0%\" fill=\"black\" r=\"2\" /><text x=\"248.0\" y=\"11.0\">0</text><rect fill=\"white\" height=\"17.5%\" stroke=\"black\" width=\"17.5%\" x=\"21.25%\" y=\"47.5%\" /><circle cx=\"30.0%\" cy=\"56.25%\" fill=\"black\" r=\"2\" /><text x=\"128.0\" y=\"123.75\">2</text></svg>"
      ],
      "text/plain": [
       "<planning.planning.State at 0x7ff4eb93c1d0>"
      ]
     },
     "metadata": {},
     "output_type": "display_data"
    },
    {
     "name": "stdout",
     "output_type": "stream",
     "text": [
      "step 4\n"
     ]
    },
    {
     "data": {
      "image/svg+xml": [
       "<svg baseProfile=\"full\" height=\"220\" version=\"1.1\" width=\"400\" xmlns=\"http://www.w3.org/2000/svg\" xmlns:ev=\"http://www.w3.org/2001/xml-events\" xmlns:xlink=\"http://www.w3.org/1999/xlink\"><defs /><rect fill=\"white\" height=\"90%\" stroke=\"black\" width=\"90%\" x=\"10.0%\" y=\"0.0%\" /><line stroke=\"black\" x1=\"55.0%\" x2=\"55.0%\" y1=\"0%\" y2=\"90%\" /><line stroke=\"black\" x1=\"55%\" x2=\"100%\" y1=\"67.5%\" y2=\"67.5%\" /><circle cx=\"60%\" cy=\"72.5%\" fill=\"black\" r=\"2\" /><text x=\"248.0\" y=\"159.5\">0</text><line stroke=\"black\" x1=\"55%\" x2=\"100%\" y1=\"45.0%\" y2=\"45.0%\" /><circle cx=\"60%\" cy=\"50.0%\" fill=\"black\" r=\"2\" /><text x=\"248.0\" y=\"110.0\">1</text><line stroke=\"black\" x1=\"55%\" x2=\"100%\" y1=\"22.5%\" y2=\"22.5%\" /><circle cx=\"60%\" cy=\"27.5%\" fill=\"black\" r=\"2\" /><text x=\"248.0\" y=\"60.5\">1</text><line stroke=\"black\" x1=\"55%\" x2=\"100%\" y1=\"0.0%\" y2=\"0.0%\" /><circle cx=\"60%\" cy=\"5.0%\" fill=\"black\" r=\"2\" /><text x=\"248.0\" y=\"11.0\">0</text><rect fill=\"white\" height=\"17.5%\" stroke=\"black\" width=\"17.5%\" x=\"21.25%\" y=\"47.5%\" /><circle cx=\"30.0%\" cy=\"56.25%\" fill=\"black\" r=\"2\" /><text x=\"128.0\" y=\"123.75\">1</text></svg>"
      ],
      "text/plain": [
       "<planning.planning.State at 0x7ff4eb93c908>"
      ]
     },
     "metadata": {},
     "output_type": "display_data"
    },
    {
     "name": "stdout",
     "output_type": "stream",
     "text": [
      "step 5\n"
     ]
    },
    {
     "data": {
      "image/svg+xml": [
       "<svg baseProfile=\"full\" height=\"220\" version=\"1.1\" width=\"400\" xmlns=\"http://www.w3.org/2000/svg\" xmlns:ev=\"http://www.w3.org/2001/xml-events\" xmlns:xlink=\"http://www.w3.org/1999/xlink\"><defs /><rect fill=\"white\" height=\"90%\" stroke=\"black\" width=\"90%\" x=\"10.0%\" y=\"0.0%\" /><line stroke=\"black\" x1=\"55.0%\" x2=\"55.0%\" y1=\"0%\" y2=\"90%\" /><line stroke=\"black\" x1=\"55%\" x2=\"100%\" y1=\"67.5%\" y2=\"67.5%\" /><circle cx=\"60%\" cy=\"72.5%\" fill=\"black\" r=\"2\" /><text x=\"248.0\" y=\"159.5\">0</text><line stroke=\"black\" x1=\"55%\" x2=\"100%\" y1=\"45.0%\" y2=\"45.0%\" /><circle cx=\"60%\" cy=\"50.0%\" fill=\"black\" r=\"2\" /><text x=\"248.0\" y=\"110.0\">2</text><line stroke=\"black\" x1=\"55%\" x2=\"100%\" y1=\"22.5%\" y2=\"22.5%\" /><circle cx=\"60%\" cy=\"27.5%\" fill=\"black\" r=\"2\" /><text x=\"248.0\" y=\"60.5\">1</text><line stroke=\"black\" x1=\"55%\" x2=\"100%\" y1=\"0.0%\" y2=\"0.0%\" /><circle cx=\"60%\" cy=\"5.0%\" fill=\"black\" r=\"2\" /><text x=\"248.0\" y=\"11.0\">0</text><rect fill=\"white\" height=\"17.5%\" stroke=\"black\" width=\"17.5%\" x=\"21.25%\" y=\"47.5%\" /><circle cx=\"30.0%\" cy=\"56.25%\" fill=\"black\" r=\"2\" /><text x=\"128.0\" y=\"123.75\">0</text></svg>"
      ],
      "text/plain": [
       "<planning.planning.State at 0x7ff4eb93ce10>"
      ]
     },
     "metadata": {},
     "output_type": "display_data"
    },
    {
     "name": "stdout",
     "output_type": "stream",
     "text": [
      "step 6\n"
     ]
    },
    {
     "data": {
      "image/svg+xml": [
       "<svg baseProfile=\"full\" height=\"220\" version=\"1.1\" width=\"400\" xmlns=\"http://www.w3.org/2000/svg\" xmlns:ev=\"http://www.w3.org/2001/xml-events\" xmlns:xlink=\"http://www.w3.org/1999/xlink\"><defs /><rect fill=\"white\" height=\"90%\" stroke=\"black\" width=\"90%\" x=\"10.0%\" y=\"0.0%\" /><line stroke=\"black\" x1=\"55.0%\" x2=\"55.0%\" y1=\"0%\" y2=\"90%\" /><line stroke=\"black\" x1=\"55%\" x2=\"100%\" y1=\"67.5%\" y2=\"67.5%\" /><circle cx=\"60%\" cy=\"72.5%\" fill=\"black\" r=\"2\" /><text x=\"248.0\" y=\"159.5\">0</text><line stroke=\"black\" x1=\"55%\" x2=\"100%\" y1=\"45.0%\" y2=\"45.0%\" /><circle cx=\"60%\" cy=\"50.0%\" fill=\"black\" r=\"2\" /><text x=\"248.0\" y=\"110.0\">2</text><line stroke=\"black\" x1=\"55%\" x2=\"100%\" y1=\"22.5%\" y2=\"22.5%\" /><circle cx=\"60%\" cy=\"27.5%\" fill=\"black\" r=\"2\" /><text x=\"248.0\" y=\"60.5\">1</text><line stroke=\"black\" x1=\"55%\" x2=\"100%\" y1=\"0.0%\" y2=\"0.0%\" /><circle cx=\"60%\" cy=\"5.0%\" fill=\"black\" r=\"2\" /><text x=\"248.0\" y=\"11.0\">0</text><rect fill=\"white\" height=\"17.5%\" stroke=\"black\" width=\"17.5%\" x=\"21.25%\" y=\"25.0%\" /><circle cx=\"30.0%\" cy=\"33.75%\" fill=\"black\" r=\"2\" /><text x=\"128.0\" y=\"74.25\">0</text></svg>"
      ],
      "text/plain": [
       "<planning.planning.State at 0x7ff4eb95b9e8>"
      ]
     },
     "metadata": {},
     "output_type": "display_data"
    },
    {
     "name": "stdout",
     "output_type": "stream",
     "text": [
      "step 7\n"
     ]
    },
    {
     "data": {
      "image/svg+xml": [
       "<svg baseProfile=\"full\" height=\"220\" version=\"1.1\" width=\"400\" xmlns=\"http://www.w3.org/2000/svg\" xmlns:ev=\"http://www.w3.org/2001/xml-events\" xmlns:xlink=\"http://www.w3.org/1999/xlink\"><defs /><rect fill=\"white\" height=\"90%\" stroke=\"black\" width=\"90%\" x=\"10.0%\" y=\"0.0%\" /><line stroke=\"black\" x1=\"55.0%\" x2=\"55.0%\" y1=\"0%\" y2=\"90%\" /><line stroke=\"black\" x1=\"55%\" x2=\"100%\" y1=\"67.5%\" y2=\"67.5%\" /><circle cx=\"60%\" cy=\"72.5%\" fill=\"black\" r=\"2\" /><text x=\"248.0\" y=\"159.5\">0</text><line stroke=\"black\" x1=\"55%\" x2=\"100%\" y1=\"45.0%\" y2=\"45.0%\" /><circle cx=\"60%\" cy=\"50.0%\" fill=\"black\" r=\"2\" /><text x=\"248.0\" y=\"110.0\">2</text><line stroke=\"black\" x1=\"55%\" x2=\"100%\" y1=\"22.5%\" y2=\"22.5%\" /><circle cx=\"60%\" cy=\"27.5%\" fill=\"black\" r=\"2\" /><text x=\"248.0\" y=\"60.5\">0</text><line stroke=\"black\" x1=\"55%\" x2=\"100%\" y1=\"0.0%\" y2=\"0.0%\" /><circle cx=\"60%\" cy=\"5.0%\" fill=\"black\" r=\"2\" /><text x=\"248.0\" y=\"11.0\">0</text><rect fill=\"white\" height=\"17.5%\" stroke=\"black\" width=\"17.5%\" x=\"21.25%\" y=\"25.0%\" /><circle cx=\"30.0%\" cy=\"33.75%\" fill=\"black\" r=\"2\" /><text x=\"128.0\" y=\"74.25\">1</text></svg>"
      ],
      "text/plain": [
       "<planning.planning.State at 0x7ff4eb95ba20>"
      ]
     },
     "metadata": {},
     "output_type": "display_data"
    },
    {
     "name": "stdout",
     "output_type": "stream",
     "text": [
      "step 8\n"
     ]
    },
    {
     "data": {
      "image/svg+xml": [
       "<svg baseProfile=\"full\" height=\"220\" version=\"1.1\" width=\"400\" xmlns=\"http://www.w3.org/2000/svg\" xmlns:ev=\"http://www.w3.org/2001/xml-events\" xmlns:xlink=\"http://www.w3.org/1999/xlink\"><defs /><rect fill=\"white\" height=\"90%\" stroke=\"black\" width=\"90%\" x=\"10.0%\" y=\"0.0%\" /><line stroke=\"black\" x1=\"55.0%\" x2=\"55.0%\" y1=\"0%\" y2=\"90%\" /><line stroke=\"black\" x1=\"55%\" x2=\"100%\" y1=\"67.5%\" y2=\"67.5%\" /><circle cx=\"60%\" cy=\"72.5%\" fill=\"black\" r=\"2\" /><text x=\"248.0\" y=\"159.5\">0</text><line stroke=\"black\" x1=\"55%\" x2=\"100%\" y1=\"45.0%\" y2=\"45.0%\" /><circle cx=\"60%\" cy=\"50.0%\" fill=\"black\" r=\"2\" /><text x=\"248.0\" y=\"110.0\">2</text><line stroke=\"black\" x1=\"55%\" x2=\"100%\" y1=\"22.5%\" y2=\"22.5%\" /><circle cx=\"60%\" cy=\"27.5%\" fill=\"black\" r=\"2\" /><text x=\"248.0\" y=\"60.5\">0</text><line stroke=\"black\" x1=\"55%\" x2=\"100%\" y1=\"0.0%\" y2=\"0.0%\" /><circle cx=\"60%\" cy=\"5.0%\" fill=\"black\" r=\"2\" /><text x=\"248.0\" y=\"11.0\">0</text><rect fill=\"white\" height=\"17.5%\" stroke=\"black\" width=\"17.5%\" x=\"21.25%\" y=\"47.5%\" /><circle cx=\"30.0%\" cy=\"56.25%\" fill=\"black\" r=\"2\" /><text x=\"128.0\" y=\"123.75\">1</text></svg>"
      ],
      "text/plain": [
       "<planning.planning.State at 0x7ff4eb95bf98>"
      ]
     },
     "metadata": {},
     "output_type": "display_data"
    },
    {
     "name": "stdout",
     "output_type": "stream",
     "text": [
      "step 9\n"
     ]
    },
    {
     "data": {
      "image/svg+xml": [
       "<svg baseProfile=\"full\" height=\"220\" version=\"1.1\" width=\"400\" xmlns=\"http://www.w3.org/2000/svg\" xmlns:ev=\"http://www.w3.org/2001/xml-events\" xmlns:xlink=\"http://www.w3.org/1999/xlink\"><defs /><rect fill=\"white\" height=\"90%\" stroke=\"black\" width=\"90%\" x=\"10.0%\" y=\"0.0%\" /><line stroke=\"black\" x1=\"55.0%\" x2=\"55.0%\" y1=\"0%\" y2=\"90%\" /><line stroke=\"black\" x1=\"55%\" x2=\"100%\" y1=\"67.5%\" y2=\"67.5%\" /><circle cx=\"60%\" cy=\"72.5%\" fill=\"black\" r=\"2\" /><text x=\"248.0\" y=\"159.5\">0</text><line stroke=\"black\" x1=\"55%\" x2=\"100%\" y1=\"45.0%\" y2=\"45.0%\" /><circle cx=\"60%\" cy=\"50.0%\" fill=\"black\" r=\"2\" /><text x=\"248.0\" y=\"110.0\">3</text><line stroke=\"black\" x1=\"55%\" x2=\"100%\" y1=\"22.5%\" y2=\"22.5%\" /><circle cx=\"60%\" cy=\"27.5%\" fill=\"black\" r=\"2\" /><text x=\"248.0\" y=\"60.5\">0</text><line stroke=\"black\" x1=\"55%\" x2=\"100%\" y1=\"0.0%\" y2=\"0.0%\" /><circle cx=\"60%\" cy=\"5.0%\" fill=\"black\" r=\"2\" /><text x=\"248.0\" y=\"11.0\">0</text><rect fill=\"white\" height=\"17.5%\" stroke=\"black\" width=\"17.5%\" x=\"21.25%\" y=\"47.5%\" /><circle cx=\"30.0%\" cy=\"56.25%\" fill=\"black\" r=\"2\" /><text x=\"128.0\" y=\"123.75\">0</text></svg>"
      ],
      "text/plain": [
       "<planning.planning.State at 0x7ff4eb95c5f8>"
      ]
     },
     "metadata": {},
     "output_type": "display_data"
    }
   ],
   "source": [
    "bfs = planning.BreadthFirstSearch(problem, verbose=1, timeout=30.0, node_bound=None)\n",
    "status = bfs()\n",
    "if status == planning.search.FOUND:\n",
    "    plan = bfs.plan()\n",
    "    state_sequence = bfs.state_sequence()\n",
    "    print(\"#Generated nodes: \" + str(bfs.info()[\"generated\"]))\n",
    "    if True: #len(plan) < 10:\n",
    "        print(\"Plan:\\n  \" + \"\\n  \".join([str(op) for op in bfs.plan()]))\n",
    "        for i, state in enumerate(bfs.state_sequence()):\n",
    "            print(\"step \" + str(i))\n",
    "            display(state)"
   ]
  },
  {
   "cell_type": "markdown",
   "metadata": {},
   "source": [
    "## 2. Requirement Analysis of the CBR engine Project\n",
    "\n",
    "In this section we analayse both, the requirements from a user perspective and from a technical point of view. \n",
    "\n",
    "### 2.1. Requirements: Users's perspective\n",
    "\n",
    "Our system, general as it is, can be used in any sort of application in which is interesting the use of a planning system. In any domain in which a user has a problem which can be solved with planning techniques, our project is useful, so that, there are no requirements from the perspective of potential users. They will depend on the specific application of use. The main appeal of a planner capable of learning from its experience is its potential to reach the performance of domain-specific heuristic guided planners, but without having to explicitly code the specialized heuristic which can be very complicated and difficult to express.\n",
    "\n",
    "Note that the work developed in this project could be used by specialized people with technical knowledge and this include both, researchers and product designers at private companies. \n",
    "\n",
    "Among the possible domains in which our system could be used we find: robotics, industrial organization, assembly lines or applications related to the use of satellites.\n",
    "\n",
    "### 2.2. Requirements: Technical view\n",
    "\n",
    "As it is explained just above, our system is too general to present requirements as specific as: maximum time response of the system or maximum memory size of the system. All these requirements will show up once the our potential users start using our system in a specific application domain. \n",
    "\n",
    "When designing our system we tried to address the following specific requirements:\n",
    "\n",
    "1. The system should be faster than a conventional planner and expand less nodes when searching the solution.\n",
    "\n",
    "2. The computed heuristic should be as precise as possible. \n",
    "\n",
    "3. The CBR system was thought to start learning with simple problems of the specific domain and continue doing so with more difficult and specific problems."
   ]
  },
  {
   "cell_type": "markdown",
   "metadata": {},
   "source": [
    "## 3. Functional Architecture of the CBR engine Project\n",
    "\n",
    "In this project we have designed a system of general purpose, so that the functional architecture is quite simple to be used. Just four different entities take part in our Functional Architecture: \n",
    "\n",
    "* **Planner:** It implements an heuristic search algorithm. To guide the search, it can use:\n",
    "    * Any of the heuristic implemented by ourselves ($ h_{add} $, $ rpg $ $ goal\\_counting $...)\n",
    "    * Fast Downward planner as a proxy to compute any of the heuristics that come with the planner\n",
    "    * Our continuous learning CBR.\n",
    "* **Domain:** The domain has to be coded (just once) by the user. In order to do so, it is necessary to follow the same syntaxis we have used for our three domains, which is quite intuitive and tries to be as close as possible to PDDL. This is one of the inputs of our CBR system.\n",
    "* **Problem:** Again, the problem has to be written by the user and it will be another input of our Planner. For our experiments, the problems will be generated randomly.\n",
    "* **Plan:** This is the output of our system, the final plan with the sequence to be performed in order to solve the input problem. \n",
    "\n",
    "Below, we can see an image of how this four elements interact.\n",
    "\n",
    "<img src='report_figures/functional_architecture.png'>\n"
   ]
  },
  {
   "cell_type": "markdown",
   "metadata": {},
   "source": [
    "## 4. Proposed CBR engine Project solution design:\n",
    "\n",
    "In this section we analyse in depth the design of our CBR engine: the Case Structure and Case Library Structure and the methods used for every CBR cycle step.\n",
    "\n",
    "### 4.1. Case Structure and Case Library Structure designed\n",
    "\n",
    "As said in the introduction of this document, our cases are vectors of heuristics. \n",
    "\n",
    "We have resorted to the Fast Downward planning system [1] (downloadable at http://www.fast-downward.org/) to compute a great deal of additional heuristics. Fast Downward is a classical planning system based on heuristic search. It can deal with general deterministic planning problems encoded in the propositional fragment of PDDL2.2, including advanced features like ADL expressivity (which, of course, it is not used since we are restricting ourselves to STRIPS). \n",
    "\n",
    "Although we have effectively managed to interface with the planner to retrieve these heuristics, each call requires a very long time (more than 100ms in our computers, which yields an unpractically high planning time when thousands of states have to be evaluated), so it is not practical for a production system. Nonetheless, Fast Downward has been useful to learn how the CBR would benefit from using a wide range of heuristics if we could implement them natively in Python.\n",
    "\n",
    "Specificially, we have used eight different heuristics from Fast Downward (3 of which are the ones we have also implemented in Python). This means that a CBR based on Fast Downward operates with 8 numerical inputs:\n",
    "- Additive (add)\n",
    "- Additive CEGAR (cegar) \n",
    "- Causal Graph (cg)\n",
    "- Canonical PDB (cpdbs)\n",
    "- FF (ff)\n",
    "- Goal Count (gloalcount)\n",
    "- Max Heuristic (hmax)\n",
    "- Landmark Cut (lmcut)\n",
    "\n",
    "It goes beyond the scope of this document to detail of each heuristics thoroughly.\n",
    "\n",
    "Since computing these heuristics externally has associated a large overhead, we decided to implement some of the heuristics in Python. However, due to time constraints we could implement only the additive heuristic and the Relaxed planning graph heuristic ($ rpg $, same as $ h_{max} $ above for unitary costs) and $ goalcount $.\n",
    "\n",
    "Regarding the Case Library Structure, we have used *k-d tree*, which is useful for retrieve in sublinear time the most similar cases, in our case, the vector of heuristics. The value of `d` corresponds to the number of heuristics we use, eitght.\n",
    "\n",
    "### 4.2. Methods of every CBR cycle step\n",
    "\n",
    "Case-based reasoning has been formalized for purposes of computer reasoning as a four-step process:\n",
    "\n",
    "- **Retrieve:** Given a target problem, retrieve from memory cases relevant to solving it. We select the most similar vectors of heuristics and their associated targets (actual length of the plan) via K-Nearest Neighbors (KNN) algorithm. The value of K has been chosen empirically after some experiments. This choice can be improved in future versions of our system.\n",
    "\n",
    "- **Reuse (Adaptation):** Map the solution from the previous case to the target problem. This may involve adapting the solution as needed to fit the new situation. In our case we do not adapt the retrieved solution, of course, a more intelligent behaviour should be implemented in future work.\n",
    "\n",
    "- **Revise:** Having mapped the previous solution to the target situation, test the new solution in the real world (or a simulation) and, if necessary, revise. We compare our solution to the solution given by the A* algorithm in the case of using just one heuristic, the additive. We have chosen that heuristic because it works pretty well and is faster. Those are some of the reasons why we directly have implemented it in Python.\n",
    "\n",
    "- **Retain:** After the solution has been successfully adapted to the target problem, store the resulting experience as a new case in memory. We have decided to learn every plan we generate, of course, we could improve this with a smarter strategy."
   ]
  },
  {
   "cell_type": "markdown",
   "metadata": {},
   "source": [
    "## 5. Testing"
   ]
  },
  {
   "cell_type": "markdown",
   "metadata": {},
   "source": [
    "## 6. Evaluation"
   ]
  },
  {
   "cell_type": "code",
   "execution_count": null,
   "metadata": {},
   "outputs": [],
   "source": []
  },
  {
   "cell_type": "markdown",
   "metadata": {},
   "source": [
    "[1] M. Helmert (2006) \"The Fast Downward Planning System\", Volume 26, pages 191-246"
   ]
  }
 ],
 "metadata": {
  "kernelspec": {
   "display_name": "Python 3",
   "language": "python",
   "name": "python3"
  },
  "language_info": {
   "codemirror_mode": {
    "name": "ipython",
    "version": 3
   },
   "file_extension": ".py",
   "mimetype": "text/x-python",
   "name": "python",
   "nbconvert_exporter": "python",
   "pygments_lexer": "ipython3",
   "version": "3.5.2"
  }
 },
 "nbformat": 4,
 "nbformat_minor": 2
}
