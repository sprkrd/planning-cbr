{
 "cells": [
  {
   "cell_type": "markdown",
   "metadata": {
    "slideshow": {
     "slide_type": "slide"
    }
   },
   "source": [
    "# SEL 2017/18 - Practical Work 3 - CBR prototype for planning\n",
    "\n",
    "\n",
    "\n",
    "\n",
    "\n",
    "\n",
    "\n",
    "                                                                                  Alberto Olivares Alarcos\n",
    "\n",
    "                                                                                  Alejandro Suárez Hernández"
   ]
  },
  {
   "cell_type": "markdown",
   "metadata": {
    "slideshow": {
     "slide_type": "slide"
    }
   },
   "source": [
    "## Outline\n",
    "\n",
    "1. Introduction\n",
    "    1. Theoretical principles of Planning\n",
    "    2. Basic principles of the CBR engine project\n",
    "    3. Chosen application domain\n",
    "    \n",
    "2. Requirement Analysis of the CBR engine Project\n",
    "\n",
    "3. Functional Architecture of the CBR engine Project\n",
    "\n",
    "4. Proposed CBR engine Project solution design:\n",
    "    1. Case Structure and Case Library Structure designed\n",
    "    2. Methods implementing each CBR cycle step \n",
    "    \n",
    "5. Testing and evaluation\n",
    "\n",
    "6. Discussion of results"
   ]
  },
  {
   "cell_type": "markdown",
   "metadata": {
    "slideshow": {
     "slide_type": "slide"
    }
   },
   "source": [
    "## Introduction\n",
    "The main theme of this project is the design and implementation of a **CBR system for planning**. A CBR based on the use of **several heuristics** has been developed for **general STRIPS-based domain**. We exemplify this report with **three different well known planning domains**. We provide empirical results for these domain at the end of the document.\n",
    "\n",
    "The whole project is available in Github (https://github.com/sprkrd/planning-cbr)."
   ]
  },
  {
   "cell_type": "markdown",
   "metadata": {
    "slideshow": {
     "slide_type": "slide"
    }
   },
   "source": [
    "## Theoretical principles of planning\n",
    "\n",
    "We target the problem of planning for arbitrary problems with **STRIPS**-like expressivity. A problem is given by a tuple $(\\mathcal{D}, \\mathcal{P})$, where $\\mathcal{D}$ is the domain and $\\mathcal{P}$ is a particular instance of the problem in this domain.\n",
    "\n",
    "The domain $\\mathcal{D}$ represents generic knowledge about the problem. This includes:\n",
    "\n",
    "* A **type hierarchy** for the problem's objects\n",
    "* A set of **propositional predicates**\n",
    "* A set of *actions* or **operators**:\n",
    "    * A list of optionally typed **parameters** (objects from the world)\n",
    "    * A **precondition**\n",
    "    * An **add list**\n",
    "    * A **delete list**\n",
    "    * A real positive number that represents the **cost** for this action\n",
    "    \n",
    "On the other hand, the instance $\\mathcal{P}$ represents the facts of a specific problem. This includes:\n",
    "\n",
    "* A set of optionally typed **objects** relevant for this problem\n",
    "* Specification of the **initial state**, as a set of predicates\n",
    "* Specification of the **goal condition** (it does not have to be a complete state), as a set of predicates"
   ]
  },
  {
   "cell_type": "markdown",
   "metadata": {
    "slideshow": {
     "slide_type": "subslide"
    }
   },
   "source": [
    "Notice that the **domain is generic** and shared among all the problems of the same type (e.g. the blocks world or the Towers of Hanoi), while the **instance is specific to each problem**. Notice too that, when specifying the domain, the operators are typically **left unground** (i.e. with free variables as parameters), and are **instantiated** for each particular problem.\n",
    "\n",
    "**STRIPS** adopts the **closed-world assumption**. That is: predicates that are present in the state are true, while predicates that are not are false. That is in **contraposition** to the **open world assumption**, in which predicates that are in the state are marked explicitly as true or false and predicates that are not in the state are unknown.\n",
    "\n",
    "In this context, planning consists in **finding an applicable sequence of operator that can be executed in chain from the initial state and that result in a state that satisfies the goal condition**. That is, a sequence of operators $o_1, o_2, \\dots, o_n$ such that\n",
    "\n",
    "$$o_1(s_0) \\rightarrow s_1$$\n",
    "$$o_2(s_1) \\rightarrow s_2$$\n",
    "$$\\dots $$\n",
    "$$o_{n}(s_{n-1}) \\rightarrow s_n$$\n",
    "$$s_n \\models g$$\n",
    "\n",
    "In this work, we address this in the most general way possible. That is, we do not make any assumption over the underlying domain."
   ]
  },
  {
   "cell_type": "markdown",
   "metadata": {
    "slideshow": {
     "slide_type": "slide"
    }
   },
   "source": [
    "## Basic Principles of the CBR engine project I\n",
    "\n",
    "\n",
    "Our aim was to implement a CBR engine which combined several heuristics in order to give a closer estimation of the optimal length of the plan to solve one of our domain's problems. \n",
    "\n",
    "The general idea of our work is to use the heuristic calculated by the CBR as the perfect heuristic of any search algorithm used in pathfinding and graph traversal (IDA\\*, **A\\***, etc.). \n",
    "\n",
    "**Case Library Structure**  -  k-d Tree\n",
    "\n",
    "\n",
    "**Case Structure**  -  Vector of heuristics\n"
   ]
  },
  {
   "cell_type": "markdown",
   "metadata": {
    "slideshow": {
     "slide_type": "slide"
    }
   },
   "source": [
    "## Basic Principles of the CBR engine project II\n",
    "\n",
    "\n",
    "A\\* guarantees to find the optimal plan if the heuristic is admissible. However, in our approach, we do not look at the absolute value of the heuristic, but at the order that the heuristic induces in the plan states. \n",
    "\n",
    "<img src='report_figures/heuristic_basic_introduction.png'>\n",
    "\n",
    "\n",
    "\n",
    "\n"
   ]
  },
  {
   "cell_type": "markdown",
   "metadata": {
    "slideshow": {
     "slide_type": "slide"
    }
   },
   "source": [
    "## Chosen application domain I - The tower of Hanoi\n",
    "\n",
    "<img src='report_figures/hanoi.png'>\n",
    "\n",
    "The objective of the puzzle is to move the entire stack to another rod, obeying the following simple rules:\n",
    "\n",
    "1. Only one disk can be moved at a time.\n",
    "2. Each move consists of taking the upper disk from one of the stacks and placing it on top of another stack.\n",
    "3. No disk may be placed on top of a smaller disk."
   ]
  },
  {
   "cell_type": "markdown",
   "metadata": {
    "slideshow": {
     "slide_type": "slide"
    }
   },
   "source": [
    "## Chosen application domain I - The tower of Hanoi\n",
    "\n",
    "We have defined the domain in Python and it contains a single operator: `move(?what-disk, ?from-object, ?to-object)`, which moves disk `?what` from object `?from` (either a peg or another disk) to object `?to` (also, either a peg or a disk). Our planning framework can take care of static preconditions. That is, it does not instantiate the move operator for moving a disk onto a smaller disk) so it is not necessary to encode static predicates in the state (the `smaller(?disk1,?disk2)` predicates that are typically seen in PDDL Hanoi domains).\n",
    "\n",
    "We have also implemented a problem generator. The generator can create problems for any number of disks and pegs. "
   ]
  },
  {
   "cell_type": "code",
   "execution_count": 1,
   "metadata": {
    "slideshow": {
     "slide_type": "skip"
    }
   },
   "outputs": [],
   "source": [
    "import planning\n",
    "\n",
    "from IPython.display import display\n",
    "\n",
    "import random\n",
    "\n",
    "random.seed(42)"
   ]
  },
  {
   "cell_type": "code",
   "execution_count": 2,
   "metadata": {
    "scrolled": false,
    "slideshow": {
     "slide_type": "slide"
    }
   },
   "outputs": [
    {
     "name": "stdout",
     "output_type": "stream",
     "text": [
      "Domain: Hanoi\n",
      "Types: {'peg': 'object', 'disk': 'object'}\n",
      "Operators:\n",
      "  - move(?what-disk,?from-object,?to-object):\n",
      "    Pre: clear(?what), clear(?to), on(?what,?from), smaller(?what,?to)\n",
      "    Add: clear(?from), on(?what,?to)\n",
      "    Delete: clear(?to), on(?what,?from)\n",
      "Applicable actions in 1st state:\n",
      "move(disk01,disk02,peg2)\n",
      "move(disk01,disk02,peg3)\n"
     ]
    }
   ],
   "source": [
    "domain_name = \"Hanoi\"\n",
    "domain = planning.domains[domain_name]\n",
    "problem = domain.generate_problem(3, 3, random=False)\n",
    "print(domain)\n",
    "\n",
    "print(\"Applicable actions in 1st state:\")\n",
    "l = list(filter(problem.init().can_apply, problem.operators()))\n",
    "print(\"\\n\".join(map(str, l)))"
   ]
  },
  {
   "cell_type": "code",
   "execution_count": 3,
   "metadata": {
    "slideshow": {
     "slide_type": "subslide"
    }
   },
   "outputs": [
    {
     "name": "stdout",
     "output_type": "stream",
     "text": [
      "Init:\n"
     ]
    },
    {
     "data": {
      "image/svg+xml": [
       "<svg baseProfile=\"full\" height=\"200\" version=\"1.1\" width=\"500\" xmlns=\"http://www.w3.org/2000/svg\" xmlns:ev=\"http://www.w3.org/2001/xml-events\" xmlns:xlink=\"http://www.w3.org/1999/xlink\"><defs /><line stroke=\"black\" x1=\"5%\" x2=\"95%\" y1=\"95%\" y2=\"95%\" /><rect fill=\"white\" height=\"80%\" stroke=\"black\" width=\"1%\" x=\"27.0%\" y=\"15.0%\" /><rect fill=\"white\" height=\"80%\" stroke=\"black\" width=\"1%\" x=\"49.5%\" y=\"15.0%\" /><rect fill=\"white\" height=\"80%\" stroke=\"black\" width=\"1%\" x=\"72.0%\" y=\"15.0%\" /><rect fill=\"white\" height=\"4%\" stroke=\"black\" width=\"4.854%\" x=\"25.073%\" y=\"91.0%\" /><rect fill=\"white\" height=\"4%\" stroke=\"black\" width=\"3.236%\" x=\"25.882%\" y=\"87.0%\" /><rect fill=\"white\" height=\"4%\" stroke=\"black\" width=\"1.618%\" x=\"26.691%\" y=\"83.0%\" /></svg>"
      ],
      "text/plain": [
       "<planning.planning.State at 0x7fcf4cce5a58>"
      ]
     },
     "metadata": {},
     "output_type": "display_data"
    },
    {
     "name": "stdout",
     "output_type": "stream",
     "text": [
      "Goal:\n"
     ]
    },
    {
     "data": {
      "image/svg+xml": [
       "<svg baseProfile=\"full\" height=\"200\" version=\"1.1\" width=\"500\" xmlns=\"http://www.w3.org/2000/svg\" xmlns:ev=\"http://www.w3.org/2001/xml-events\" xmlns:xlink=\"http://www.w3.org/1999/xlink\"><defs /><line stroke=\"black\" x1=\"5%\" x2=\"95%\" y1=\"95%\" y2=\"95%\" /><rect fill=\"white\" height=\"80%\" stroke=\"black\" width=\"1%\" x=\"27.0%\" y=\"15.0%\" /><rect fill=\"white\" height=\"80%\" stroke=\"black\" width=\"1%\" x=\"49.5%\" y=\"15.0%\" /><rect fill=\"white\" height=\"80%\" stroke=\"black\" width=\"1%\" x=\"72.0%\" y=\"15.0%\" /><rect fill=\"white\" height=\"4%\" stroke=\"black\" width=\"4.854%\" x=\"70.073%\" y=\"91.0%\" /><rect fill=\"white\" height=\"4%\" stroke=\"black\" width=\"3.236%\" x=\"70.882%\" y=\"87.0%\" /><rect fill=\"white\" height=\"4%\" stroke=\"black\" width=\"1.618%\" x=\"71.691%\" y=\"83.0%\" /></svg>"
      ],
      "text/plain": [
       "<planning.planning.State at 0x7fcf4cce5a90>"
      ]
     },
     "metadata": {},
     "output_type": "display_data"
    }
   ],
   "source": [
    "print(\"Init:\")\n",
    "display(problem.init())\n",
    "print(\"Goal:\")\n",
    "display(problem.goal())"
   ]
  },
  {
   "cell_type": "code",
   "execution_count": 4,
   "metadata": {
    "scrolled": false,
    "slideshow": {
     "slide_type": "subslide"
    }
   },
   "outputs": [
    {
     "name": "stdout",
     "output_type": "stream",
     "text": [
      "[0.003s] Plan found with 7 action(s)\n",
      "#Generated nodes: 24\n",
      "Plan:\n",
      "  move(disk01,disk02,peg3)\n",
      "  move(disk02,disk03,peg2)\n",
      "  move(disk01,peg3,disk02)\n",
      "  move(disk03,peg1,peg3)\n",
      "  move(disk01,disk02,peg1)\n",
      "  move(disk02,peg2,disk03)\n",
      "  move(disk01,peg1,disk02)\n"
     ]
    }
   ],
   "source": [
    "bfs = planning.BreadthFirstSearch(problem, verbose=1, timeout=30.0, node_bound=None)\n",
    "status = bfs()\n",
    "if status == planning.search.FOUND:\n",
    "    plan = bfs.plan()\n",
    "    state_sequence = bfs.state_sequence()\n",
    "    print(\"#Generated nodes: \" + str(bfs.info()[\"generated\"]))\n",
    "\n",
    "    print(\"Plan:\\n  \" + \"\\n  \".join([str(op) for op in bfs.plan()]))"
   ]
  },
  {
   "cell_type": "code",
   "execution_count": 5,
   "metadata": {
    "slideshow": {
     "slide_type": "skip"
    }
   },
   "outputs": [],
   "source": [
    "step = 0\n",
    "plan_lenght = len(state_sequence)"
   ]
  },
  {
   "cell_type": "code",
   "execution_count": 6,
   "metadata": {
    "slideshow": {
     "slide_type": "subslide"
    }
   },
   "outputs": [
    {
     "name": "stdout",
     "output_type": "stream",
     "text": [
      "step 0\n"
     ]
    },
    {
     "data": {
      "image/svg+xml": [
       "<svg baseProfile=\"full\" height=\"200\" version=\"1.1\" width=\"500\" xmlns=\"http://www.w3.org/2000/svg\" xmlns:ev=\"http://www.w3.org/2001/xml-events\" xmlns:xlink=\"http://www.w3.org/1999/xlink\"><defs /><line stroke=\"black\" x1=\"5%\" x2=\"95%\" y1=\"95%\" y2=\"95%\" /><rect fill=\"white\" height=\"80%\" stroke=\"black\" width=\"1%\" x=\"27.0%\" y=\"15.0%\" /><rect fill=\"white\" height=\"80%\" stroke=\"black\" width=\"1%\" x=\"49.5%\" y=\"15.0%\" /><rect fill=\"white\" height=\"80%\" stroke=\"black\" width=\"1%\" x=\"72.0%\" y=\"15.0%\" /><rect fill=\"white\" height=\"4%\" stroke=\"black\" width=\"4.854%\" x=\"25.073%\" y=\"91.0%\" /><rect fill=\"white\" height=\"4%\" stroke=\"black\" width=\"3.236%\" x=\"25.882%\" y=\"87.0%\" /><rect fill=\"white\" height=\"4%\" stroke=\"black\" width=\"1.618%\" x=\"26.691%\" y=\"83.0%\" /></svg>"
      ],
      "text/plain": [
       "<planning.planning.State at 0x7fcf4cce5a58>"
      ]
     },
     "metadata": {},
     "output_type": "display_data"
    }
   ],
   "source": [
    "print(\"step \" + str(step))\n",
    "display(state_sequence[step])\n",
    "step += 1"
   ]
  },
  {
   "cell_type": "code",
   "execution_count": 7,
   "metadata": {
    "slideshow": {
     "slide_type": "subslide"
    }
   },
   "outputs": [
    {
     "name": "stdout",
     "output_type": "stream",
     "text": [
      "step 1\n"
     ]
    },
    {
     "data": {
      "image/svg+xml": [
       "<svg baseProfile=\"full\" height=\"200\" version=\"1.1\" width=\"500\" xmlns=\"http://www.w3.org/2000/svg\" xmlns:ev=\"http://www.w3.org/2001/xml-events\" xmlns:xlink=\"http://www.w3.org/1999/xlink\"><defs /><line stroke=\"black\" x1=\"5%\" x2=\"95%\" y1=\"95%\" y2=\"95%\" /><rect fill=\"white\" height=\"80%\" stroke=\"black\" width=\"1%\" x=\"27.0%\" y=\"15.0%\" /><rect fill=\"white\" height=\"80%\" stroke=\"black\" width=\"1%\" x=\"49.5%\" y=\"15.0%\" /><rect fill=\"white\" height=\"80%\" stroke=\"black\" width=\"1%\" x=\"72.0%\" y=\"15.0%\" /><rect fill=\"white\" height=\"4%\" stroke=\"black\" width=\"4.854%\" x=\"25.073%\" y=\"91.0%\" /><rect fill=\"white\" height=\"4%\" stroke=\"black\" width=\"3.236%\" x=\"25.882%\" y=\"87.0%\" /><rect fill=\"white\" height=\"4%\" stroke=\"black\" width=\"1.618%\" x=\"71.691%\" y=\"91.0%\" /></svg>"
      ],
      "text/plain": [
       "<planning.planning.State at 0x7fcf4ccffcf8>"
      ]
     },
     "metadata": {},
     "output_type": "display_data"
    }
   ],
   "source": [
    "print(\"step \" + str(step))\n",
    "display(state_sequence[step])\n",
    "step += 1"
   ]
  },
  {
   "cell_type": "code",
   "execution_count": 8,
   "metadata": {
    "slideshow": {
     "slide_type": "subslide"
    }
   },
   "outputs": [
    {
     "name": "stdout",
     "output_type": "stream",
     "text": [
      "step 2\n"
     ]
    },
    {
     "data": {
      "image/svg+xml": [
       "<svg baseProfile=\"full\" height=\"200\" version=\"1.1\" width=\"500\" xmlns=\"http://www.w3.org/2000/svg\" xmlns:ev=\"http://www.w3.org/2001/xml-events\" xmlns:xlink=\"http://www.w3.org/1999/xlink\"><defs /><line stroke=\"black\" x1=\"5%\" x2=\"95%\" y1=\"95%\" y2=\"95%\" /><rect fill=\"white\" height=\"80%\" stroke=\"black\" width=\"1%\" x=\"27.0%\" y=\"15.0%\" /><rect fill=\"white\" height=\"80%\" stroke=\"black\" width=\"1%\" x=\"49.5%\" y=\"15.0%\" /><rect fill=\"white\" height=\"80%\" stroke=\"black\" width=\"1%\" x=\"72.0%\" y=\"15.0%\" /><rect fill=\"white\" height=\"4%\" stroke=\"black\" width=\"4.854%\" x=\"25.073%\" y=\"91.0%\" /><rect fill=\"white\" height=\"4%\" stroke=\"black\" width=\"3.236%\" x=\"48.382%\" y=\"91.0%\" /><rect fill=\"white\" height=\"4%\" stroke=\"black\" width=\"1.618%\" x=\"71.691%\" y=\"91.0%\" /></svg>"
      ],
      "text/plain": [
       "<planning.planning.State at 0x7fcf4cce5b38>"
      ]
     },
     "metadata": {},
     "output_type": "display_data"
    }
   ],
   "source": [
    "print(\"step \" + str(step))\n",
    "display(state_sequence[step])\n",
    "step += 1"
   ]
  },
  {
   "cell_type": "code",
   "execution_count": 9,
   "metadata": {
    "slideshow": {
     "slide_type": "subslide"
    }
   },
   "outputs": [
    {
     "name": "stdout",
     "output_type": "stream",
     "text": [
      "step 3\n"
     ]
    },
    {
     "data": {
      "image/svg+xml": [
       "<svg baseProfile=\"full\" height=\"200\" version=\"1.1\" width=\"500\" xmlns=\"http://www.w3.org/2000/svg\" xmlns:ev=\"http://www.w3.org/2001/xml-events\" xmlns:xlink=\"http://www.w3.org/1999/xlink\"><defs /><line stroke=\"black\" x1=\"5%\" x2=\"95%\" y1=\"95%\" y2=\"95%\" /><rect fill=\"white\" height=\"80%\" stroke=\"black\" width=\"1%\" x=\"27.0%\" y=\"15.0%\" /><rect fill=\"white\" height=\"80%\" stroke=\"black\" width=\"1%\" x=\"49.5%\" y=\"15.0%\" /><rect fill=\"white\" height=\"80%\" stroke=\"black\" width=\"1%\" x=\"72.0%\" y=\"15.0%\" /><rect fill=\"white\" height=\"4%\" stroke=\"black\" width=\"4.854%\" x=\"25.073%\" y=\"91.0%\" /><rect fill=\"white\" height=\"4%\" stroke=\"black\" width=\"3.236%\" x=\"48.382%\" y=\"91.0%\" /><rect fill=\"white\" height=\"4%\" stroke=\"black\" width=\"1.618%\" x=\"49.191%\" y=\"87.0%\" /></svg>"
      ],
      "text/plain": [
       "<planning.planning.State at 0x7fcf4cd04198>"
      ]
     },
     "metadata": {},
     "output_type": "display_data"
    }
   ],
   "source": [
    "print(\"step \" + str(step))\n",
    "display(state_sequence[step])\n",
    "step += 1"
   ]
  },
  {
   "cell_type": "code",
   "execution_count": 10,
   "metadata": {
    "slideshow": {
     "slide_type": "subslide"
    }
   },
   "outputs": [
    {
     "name": "stdout",
     "output_type": "stream",
     "text": [
      "step 4\n"
     ]
    },
    {
     "data": {
      "image/svg+xml": [
       "<svg baseProfile=\"full\" height=\"200\" version=\"1.1\" width=\"500\" xmlns=\"http://www.w3.org/2000/svg\" xmlns:ev=\"http://www.w3.org/2001/xml-events\" xmlns:xlink=\"http://www.w3.org/1999/xlink\"><defs /><line stroke=\"black\" x1=\"5%\" x2=\"95%\" y1=\"95%\" y2=\"95%\" /><rect fill=\"white\" height=\"80%\" stroke=\"black\" width=\"1%\" x=\"27.0%\" y=\"15.0%\" /><rect fill=\"white\" height=\"80%\" stroke=\"black\" width=\"1%\" x=\"49.5%\" y=\"15.0%\" /><rect fill=\"white\" height=\"80%\" stroke=\"black\" width=\"1%\" x=\"72.0%\" y=\"15.0%\" /><rect fill=\"white\" height=\"4%\" stroke=\"black\" width=\"3.236%\" x=\"48.382%\" y=\"91.0%\" /><rect fill=\"white\" height=\"4%\" stroke=\"black\" width=\"1.618%\" x=\"49.191%\" y=\"87.0%\" /><rect fill=\"white\" height=\"4%\" stroke=\"black\" width=\"4.854%\" x=\"70.073%\" y=\"91.0%\" /></svg>"
      ],
      "text/plain": [
       "<planning.planning.State at 0x7fcf4cd04240>"
      ]
     },
     "metadata": {},
     "output_type": "display_data"
    }
   ],
   "source": [
    "print(\"step \" + str(step))\n",
    "display(state_sequence[step])\n",
    "step += 1"
   ]
  },
  {
   "cell_type": "code",
   "execution_count": 11,
   "metadata": {
    "slideshow": {
     "slide_type": "subslide"
    }
   },
   "outputs": [
    {
     "name": "stdout",
     "output_type": "stream",
     "text": [
      "step 5\n"
     ]
    },
    {
     "data": {
      "image/svg+xml": [
       "<svg baseProfile=\"full\" height=\"200\" version=\"1.1\" width=\"500\" xmlns=\"http://www.w3.org/2000/svg\" xmlns:ev=\"http://www.w3.org/2001/xml-events\" xmlns:xlink=\"http://www.w3.org/1999/xlink\"><defs /><line stroke=\"black\" x1=\"5%\" x2=\"95%\" y1=\"95%\" y2=\"95%\" /><rect fill=\"white\" height=\"80%\" stroke=\"black\" width=\"1%\" x=\"27.0%\" y=\"15.0%\" /><rect fill=\"white\" height=\"80%\" stroke=\"black\" width=\"1%\" x=\"49.5%\" y=\"15.0%\" /><rect fill=\"white\" height=\"80%\" stroke=\"black\" width=\"1%\" x=\"72.0%\" y=\"15.0%\" /><rect fill=\"white\" height=\"4%\" stroke=\"black\" width=\"1.618%\" x=\"26.691%\" y=\"91.0%\" /><rect fill=\"white\" height=\"4%\" stroke=\"black\" width=\"3.236%\" x=\"48.382%\" y=\"91.0%\" /><rect fill=\"white\" height=\"4%\" stroke=\"black\" width=\"4.854%\" x=\"70.073%\" y=\"91.0%\" /></svg>"
      ],
      "text/plain": [
       "<planning.planning.State at 0x7fcf4cd04278>"
      ]
     },
     "metadata": {},
     "output_type": "display_data"
    }
   ],
   "source": [
    "print(\"step \" + str(step))\n",
    "display(state_sequence[step])\n",
    "step += 1"
   ]
  },
  {
   "cell_type": "code",
   "execution_count": 12,
   "metadata": {
    "slideshow": {
     "slide_type": "subslide"
    }
   },
   "outputs": [
    {
     "name": "stdout",
     "output_type": "stream",
     "text": [
      "step 6\n"
     ]
    },
    {
     "data": {
      "image/svg+xml": [
       "<svg baseProfile=\"full\" height=\"200\" version=\"1.1\" width=\"500\" xmlns=\"http://www.w3.org/2000/svg\" xmlns:ev=\"http://www.w3.org/2001/xml-events\" xmlns:xlink=\"http://www.w3.org/1999/xlink\"><defs /><line stroke=\"black\" x1=\"5%\" x2=\"95%\" y1=\"95%\" y2=\"95%\" /><rect fill=\"white\" height=\"80%\" stroke=\"black\" width=\"1%\" x=\"27.0%\" y=\"15.0%\" /><rect fill=\"white\" height=\"80%\" stroke=\"black\" width=\"1%\" x=\"49.5%\" y=\"15.0%\" /><rect fill=\"white\" height=\"80%\" stroke=\"black\" width=\"1%\" x=\"72.0%\" y=\"15.0%\" /><rect fill=\"white\" height=\"4%\" stroke=\"black\" width=\"1.618%\" x=\"26.691%\" y=\"91.0%\" /><rect fill=\"white\" height=\"4%\" stroke=\"black\" width=\"4.854%\" x=\"70.073%\" y=\"91.0%\" /><rect fill=\"white\" height=\"4%\" stroke=\"black\" width=\"3.236%\" x=\"70.882%\" y=\"87.0%\" /></svg>"
      ],
      "text/plain": [
       "<planning.planning.State at 0x7fcf4cd044e0>"
      ]
     },
     "metadata": {},
     "output_type": "display_data"
    }
   ],
   "source": [
    "print(\"step \" + str(step))\n",
    "display(state_sequence[step])\n",
    "step += 1"
   ]
  },
  {
   "cell_type": "code",
   "execution_count": 13,
   "metadata": {
    "slideshow": {
     "slide_type": "subslide"
    }
   },
   "outputs": [
    {
     "name": "stdout",
     "output_type": "stream",
     "text": [
      "step 7\n"
     ]
    },
    {
     "data": {
      "image/svg+xml": [
       "<svg baseProfile=\"full\" height=\"200\" version=\"1.1\" width=\"500\" xmlns=\"http://www.w3.org/2000/svg\" xmlns:ev=\"http://www.w3.org/2001/xml-events\" xmlns:xlink=\"http://www.w3.org/1999/xlink\"><defs /><line stroke=\"black\" x1=\"5%\" x2=\"95%\" y1=\"95%\" y2=\"95%\" /><rect fill=\"white\" height=\"80%\" stroke=\"black\" width=\"1%\" x=\"27.0%\" y=\"15.0%\" /><rect fill=\"white\" height=\"80%\" stroke=\"black\" width=\"1%\" x=\"49.5%\" y=\"15.0%\" /><rect fill=\"white\" height=\"80%\" stroke=\"black\" width=\"1%\" x=\"72.0%\" y=\"15.0%\" /><rect fill=\"white\" height=\"4%\" stroke=\"black\" width=\"4.854%\" x=\"70.073%\" y=\"91.0%\" /><rect fill=\"white\" height=\"4%\" stroke=\"black\" width=\"3.236%\" x=\"70.882%\" y=\"87.0%\" /><rect fill=\"white\" height=\"4%\" stroke=\"black\" width=\"1.618%\" x=\"71.691%\" y=\"83.0%\" /></svg>"
      ],
      "text/plain": [
       "<planning.planning.State at 0x7fcf4cd046d8>"
      ]
     },
     "metadata": {},
     "output_type": "display_data"
    }
   ],
   "source": [
    "print(\"step \" + str(step))\n",
    "display(state_sequence[step])\n",
    "step += 1"
   ]
  },
  {
   "cell_type": "markdown",
   "metadata": {
    "slideshow": {
     "slide_type": "slide"
    }
   },
   "source": [
    "## Chosen application domain II - Blocks World\n",
    "\n",
    "<img src='report_figures/blocks.png'>\n"
   ]
  },
  {
   "cell_type": "markdown",
   "metadata": {
    "slideshow": {
     "slide_type": "slide"
    }
   },
   "source": [
    "## Chosen application domain II - Blocks World\n",
    "\n",
    "We have defined the domain in Python and it contains a two operators: `pick(?what-block, ?from-object, ?to-object)`, which picks block `?what` from object `?from` (either a slot of the table or another block) and `put(?what-block, ?to-object)`, which puts block to object `?to` (also, either one position of the table or a block). Our planning framework can take care of static preconditions (no instantiations of operators for one block with itself).\n",
    "\n",
    "We have also implemented a problem generator. The generator can create problems for any number of blocks and slots on the table. "
   ]
  },
  {
   "cell_type": "code",
   "execution_count": 19,
   "metadata": {
    "slideshow": {
     "slide_type": "skip"
    }
   },
   "outputs": [],
   "source": [
    "import planning\n",
    "\n",
    "from IPython.display import display\n",
    "\n",
    "import random\n",
    "\n",
    "random.seed(42)"
   ]
  },
  {
   "cell_type": "code",
   "execution_count": 20,
   "metadata": {
    "slideshow": {
     "slide_type": "slide"
    }
   },
   "outputs": [
    {
     "name": "stdout",
     "output_type": "stream",
     "text": [
      "Domain: Blocks\n",
      "Types: {'slot': 'object', 'block': 'object'}\n",
      "Operators:\n",
      "  - pick(?what-block,?from-object):\n",
      "    Pre: clear(?what), on(?what,?from), handempty()\n",
      "    Add: clear(?from), holding(?what)\n",
      "    Delete: clear(?what), on(?what,?from), handempty()\n",
      "  - put(?what-block,?to-object):\n",
      "    Pre: holding(?what), clear(?to)\n",
      "    Add: clear(?what), on(?what,?to), handempty()\n",
      "    Delete: holding(?what), clear(?to)\n",
      "Applicable actions in 1st state:\n",
      "pick(block01,block02)\n",
      "pick(block03,slot3)\n"
     ]
    }
   ],
   "source": [
    "domain_name = \"Blocks\"\n",
    "domain = planning.domains[domain_name]\n",
    "problem = domain.generate_problem(3, 3)\n",
    "print(domain)\n",
    "print(\"Applicable actions in 1st state:\")\n",
    "l = list(filter(problem.init().can_apply, problem.operators()))\n",
    "print(\"\\n\".join(map(str, l)))"
   ]
  },
  {
   "cell_type": "code",
   "execution_count": 21,
   "metadata": {
    "scrolled": true,
    "slideshow": {
     "slide_type": "subslide"
    }
   },
   "outputs": [
    {
     "name": "stdout",
     "output_type": "stream",
     "text": [
      "Init:\n"
     ]
    },
    {
     "data": {
      "image/svg+xml": [
       "<svg baseProfile=\"full\" height=\"300\" version=\"1.1\" width=\"600\" xmlns=\"http://www.w3.org/2000/svg\" xmlns:ev=\"http://www.w3.org/2001/xml-events\" xmlns:xlink=\"http://www.w3.org/1999/xlink\"><defs /><line stroke=\"black\" x1=\"5%\" x2=\"95%\" y1=\"95%\" y2=\"95%\" /><line stroke=\"blue\" x1=\"15.0%\" x2=\"15.0%\" y1=\"0%\" y2=\"5%\" /><line stroke=\"blue\" x1=\"5.5%\" x2=\"5.5%\" y1=\"5%\" y2=\"10%\" /><line stroke=\"blue\" x1=\"24.5%\" x2=\"24.5%\" y1=\"5%\" y2=\"10%\" /><line stroke=\"blue\" x1=\"5.5%\" x2=\"24.5%\" y1=\"5%\" y2=\"5%\" /><rect fill=\"white\" height=\"18.0%\" stroke=\"black\" width=\"18.0%\" x=\"18.5%\" y=\"77.0%\" /><text fill=\"black\" x=\"127.2\" y=\"270.0\">block02</text><rect fill=\"white\" height=\"18.0%\" stroke=\"black\" width=\"18.0%\" x=\"18.5%\" y=\"59.0%\" /><text fill=\"black\" x=\"127.2\" y=\"216.0\">block01</text><rect fill=\"white\" height=\"18.0%\" stroke=\"black\" width=\"18.0%\" x=\"63.5%\" y=\"77.0%\" /><text fill=\"black\" x=\"397.2\" y=\"270.0\">block03</text></svg>"
      ],
      "text/plain": [
       "<planning.planning.State at 0x7fcf4cce5550>"
      ]
     },
     "metadata": {},
     "output_type": "display_data"
    }
   ],
   "source": [
    "print(\"Init:\")\n",
    "display(problem.init())"
   ]
  },
  {
   "cell_type": "code",
   "execution_count": 22,
   "metadata": {
    "slideshow": {
     "slide_type": "subslide"
    }
   },
   "outputs": [
    {
     "name": "stdout",
     "output_type": "stream",
     "text": [
      "Goal:\n"
     ]
    },
    {
     "data": {
      "image/svg+xml": [
       "<svg baseProfile=\"full\" height=\"300\" version=\"1.1\" width=\"600\" xmlns=\"http://www.w3.org/2000/svg\" xmlns:ev=\"http://www.w3.org/2001/xml-events\" xmlns:xlink=\"http://www.w3.org/1999/xlink\"><defs /><line stroke=\"black\" x1=\"5%\" x2=\"95%\" y1=\"95%\" y2=\"95%\" /><line stroke=\"blue\" x1=\"15.0%\" x2=\"15.0%\" y1=\"0%\" y2=\"5%\" /><line stroke=\"blue\" x1=\"5.5%\" x2=\"5.5%\" y1=\"5%\" y2=\"10%\" /><line stroke=\"blue\" x1=\"24.5%\" x2=\"24.5%\" y1=\"5%\" y2=\"10%\" /><line stroke=\"blue\" x1=\"5.5%\" x2=\"24.5%\" y1=\"5%\" y2=\"5%\" /><rect fill=\"white\" height=\"18.0%\" stroke=\"black\" width=\"18.0%\" x=\"18.5%\" y=\"77.0%\" /><text fill=\"black\" x=\"127.2\" y=\"270.0\">block01</text><rect fill=\"white\" height=\"18.0%\" stroke=\"black\" width=\"18.0%\" x=\"41.0%\" y=\"77.0%\" /><text fill=\"black\" x=\"262.2\" y=\"270.0\">block02</text><rect fill=\"white\" height=\"18.0%\" stroke=\"black\" width=\"18.0%\" x=\"63.5%\" y=\"77.0%\" /><text fill=\"black\" x=\"397.2\" y=\"270.0\">block03</text></svg>"
      ],
      "text/plain": [
       "<planning.planning.State at 0x7fcf4cce5c18>"
      ]
     },
     "metadata": {},
     "output_type": "display_data"
    }
   ],
   "source": [
    "print(\"Goal:\")\n",
    "display(problem.goal())"
   ]
  },
  {
   "cell_type": "code",
   "execution_count": 23,
   "metadata": {
    "scrolled": true,
    "slideshow": {
     "slide_type": "subslide"
    }
   },
   "outputs": [
    {
     "name": "stdout",
     "output_type": "stream",
     "text": [
      "[0.002s] Plan found with 6 action(s)\n",
      "#Generated nodes: 35\n",
      "Plan:\n",
      "  pick(block01,block02)\n",
      "  put(block01,block03)\n",
      "  pick(block02,slot1)\n",
      "  put(block02,slot2)\n",
      "  pick(block01,block03)\n",
      "  put(block01,slot1)\n"
     ]
    }
   ],
   "source": [
    "bfs = planning.BreadthFirstSearch(problem, verbose=1, timeout=30.0, node_bound=None)\n",
    "status = bfs()\n",
    "if status == planning.search.FOUND:\n",
    "    plan = bfs.plan()\n",
    "    state_sequence = bfs.state_sequence()\n",
    "    print(\"#Generated nodes: \" + str(bfs.info()[\"generated\"]))\n",
    "    print(\"Plan:\\n  \" + \"\\n  \".join([str(op) for op in bfs.plan()]))"
   ]
  },
  {
   "cell_type": "code",
   "execution_count": 24,
   "metadata": {
    "slideshow": {
     "slide_type": "skip"
    }
   },
   "outputs": [],
   "source": [
    "step = 0\n",
    "plan_lenght = len(state_sequence)"
   ]
  },
  {
   "cell_type": "code",
   "execution_count": 25,
   "metadata": {
    "slideshow": {
     "slide_type": "subslide"
    }
   },
   "outputs": [
    {
     "name": "stdout",
     "output_type": "stream",
     "text": [
      "step 0\n"
     ]
    },
    {
     "data": {
      "image/svg+xml": [
       "<svg baseProfile=\"full\" height=\"300\" version=\"1.1\" width=\"600\" xmlns=\"http://www.w3.org/2000/svg\" xmlns:ev=\"http://www.w3.org/2001/xml-events\" xmlns:xlink=\"http://www.w3.org/1999/xlink\"><defs /><line stroke=\"black\" x1=\"5%\" x2=\"95%\" y1=\"95%\" y2=\"95%\" /><line stroke=\"blue\" x1=\"15.0%\" x2=\"15.0%\" y1=\"0%\" y2=\"5%\" /><line stroke=\"blue\" x1=\"5.5%\" x2=\"5.5%\" y1=\"5%\" y2=\"10%\" /><line stroke=\"blue\" x1=\"24.5%\" x2=\"24.5%\" y1=\"5%\" y2=\"10%\" /><line stroke=\"blue\" x1=\"5.5%\" x2=\"24.5%\" y1=\"5%\" y2=\"5%\" /><rect fill=\"white\" height=\"18.0%\" stroke=\"black\" width=\"18.0%\" x=\"18.5%\" y=\"77.0%\" /><text fill=\"black\" x=\"127.2\" y=\"270.0\">block02</text><rect fill=\"white\" height=\"18.0%\" stroke=\"black\" width=\"18.0%\" x=\"18.5%\" y=\"59.0%\" /><text fill=\"black\" x=\"127.2\" y=\"216.0\">block01</text><rect fill=\"white\" height=\"18.0%\" stroke=\"black\" width=\"18.0%\" x=\"63.5%\" y=\"77.0%\" /><text fill=\"black\" x=\"397.2\" y=\"270.0\">block03</text></svg>"
      ],
      "text/plain": [
       "<planning.planning.State at 0x7fcf4cce5550>"
      ]
     },
     "metadata": {},
     "output_type": "display_data"
    }
   ],
   "source": [
    "print(\"step \" + str(step))\n",
    "display(state_sequence[step])\n",
    "step += 1"
   ]
  },
  {
   "cell_type": "code",
   "execution_count": 26,
   "metadata": {
    "slideshow": {
     "slide_type": "subslide"
    }
   },
   "outputs": [
    {
     "name": "stdout",
     "output_type": "stream",
     "text": [
      "step 1\n"
     ]
    },
    {
     "data": {
      "image/svg+xml": [
       "<svg baseProfile=\"full\" height=\"300\" version=\"1.1\" width=\"600\" xmlns=\"http://www.w3.org/2000/svg\" xmlns:ev=\"http://www.w3.org/2001/xml-events\" xmlns:xlink=\"http://www.w3.org/1999/xlink\"><defs /><line stroke=\"black\" x1=\"5%\" x2=\"95%\" y1=\"95%\" y2=\"95%\" /><line stroke=\"blue\" x1=\"15.0%\" x2=\"15.0%\" y1=\"0%\" y2=\"5%\" /><line stroke=\"blue\" x1=\"5.5%\" x2=\"5.5%\" y1=\"5%\" y2=\"10%\" /><line stroke=\"blue\" x1=\"24.5%\" x2=\"24.5%\" y1=\"5%\" y2=\"10%\" /><line stroke=\"blue\" x1=\"5.5%\" x2=\"24.5%\" y1=\"5%\" y2=\"5%\" /><rect fill=\"white\" height=\"18.0%\" stroke=\"black\" width=\"18.0%\" x=\"6.0%\" y=\"6.5%\" /><text fill=\"black\" x=\"52.2\" y=\"58.5\">block01</text><rect fill=\"white\" height=\"18.0%\" stroke=\"black\" width=\"18.0%\" x=\"18.5%\" y=\"77.0%\" /><text fill=\"black\" x=\"127.2\" y=\"270.0\">block02</text><rect fill=\"white\" height=\"18.0%\" stroke=\"black\" width=\"18.0%\" x=\"63.5%\" y=\"77.0%\" /><text fill=\"black\" x=\"397.2\" y=\"270.0\">block03</text></svg>"
      ],
      "text/plain": [
       "<planning.planning.State at 0x7fcf4caa1fd0>"
      ]
     },
     "metadata": {},
     "output_type": "display_data"
    }
   ],
   "source": [
    "print(\"step \" + str(step))\n",
    "display(state_sequence[step])\n",
    "step += 1"
   ]
  },
  {
   "cell_type": "code",
   "execution_count": 27,
   "metadata": {
    "slideshow": {
     "slide_type": "subslide"
    }
   },
   "outputs": [
    {
     "name": "stdout",
     "output_type": "stream",
     "text": [
      "step 2\n"
     ]
    },
    {
     "data": {
      "image/svg+xml": [
       "<svg baseProfile=\"full\" height=\"300\" version=\"1.1\" width=\"600\" xmlns=\"http://www.w3.org/2000/svg\" xmlns:ev=\"http://www.w3.org/2001/xml-events\" xmlns:xlink=\"http://www.w3.org/1999/xlink\"><defs /><line stroke=\"black\" x1=\"5%\" x2=\"95%\" y1=\"95%\" y2=\"95%\" /><line stroke=\"blue\" x1=\"15.0%\" x2=\"15.0%\" y1=\"0%\" y2=\"5%\" /><line stroke=\"blue\" x1=\"5.5%\" x2=\"5.5%\" y1=\"5%\" y2=\"10%\" /><line stroke=\"blue\" x1=\"24.5%\" x2=\"24.5%\" y1=\"5%\" y2=\"10%\" /><line stroke=\"blue\" x1=\"5.5%\" x2=\"24.5%\" y1=\"5%\" y2=\"5%\" /><rect fill=\"white\" height=\"18.0%\" stroke=\"black\" width=\"18.0%\" x=\"18.5%\" y=\"77.0%\" /><text fill=\"black\" x=\"127.2\" y=\"270.0\">block02</text><rect fill=\"white\" height=\"18.0%\" stroke=\"black\" width=\"18.0%\" x=\"63.5%\" y=\"77.0%\" /><text fill=\"black\" x=\"397.2\" y=\"270.0\">block03</text><rect fill=\"white\" height=\"18.0%\" stroke=\"black\" width=\"18.0%\" x=\"63.5%\" y=\"59.0%\" /><text fill=\"black\" x=\"397.2\" y=\"216.0\">block01</text></svg>"
      ],
      "text/plain": [
       "<planning.planning.State at 0x7fcf4caa4080>"
      ]
     },
     "metadata": {},
     "output_type": "display_data"
    }
   ],
   "source": [
    "print(\"step \" + str(step))\n",
    "display(state_sequence[step])\n",
    "step += 1"
   ]
  },
  {
   "cell_type": "code",
   "execution_count": 28,
   "metadata": {
    "slideshow": {
     "slide_type": "subslide"
    }
   },
   "outputs": [
    {
     "name": "stdout",
     "output_type": "stream",
     "text": [
      "step 3\n"
     ]
    },
    {
     "data": {
      "image/svg+xml": [
       "<svg baseProfile=\"full\" height=\"300\" version=\"1.1\" width=\"600\" xmlns=\"http://www.w3.org/2000/svg\" xmlns:ev=\"http://www.w3.org/2001/xml-events\" xmlns:xlink=\"http://www.w3.org/1999/xlink\"><defs /><line stroke=\"black\" x1=\"5%\" x2=\"95%\" y1=\"95%\" y2=\"95%\" /><line stroke=\"blue\" x1=\"15.0%\" x2=\"15.0%\" y1=\"0%\" y2=\"5%\" /><line stroke=\"blue\" x1=\"5.5%\" x2=\"5.5%\" y1=\"5%\" y2=\"10%\" /><line stroke=\"blue\" x1=\"24.5%\" x2=\"24.5%\" y1=\"5%\" y2=\"10%\" /><line stroke=\"blue\" x1=\"5.5%\" x2=\"24.5%\" y1=\"5%\" y2=\"5%\" /><rect fill=\"white\" height=\"18.0%\" stroke=\"black\" width=\"18.0%\" x=\"6.0%\" y=\"6.5%\" /><text fill=\"black\" x=\"52.2\" y=\"58.5\">block02</text><rect fill=\"white\" height=\"18.0%\" stroke=\"black\" width=\"18.0%\" x=\"63.5%\" y=\"77.0%\" /><text fill=\"black\" x=\"397.2\" y=\"270.0\">block03</text><rect fill=\"white\" height=\"18.0%\" stroke=\"black\" width=\"18.0%\" x=\"63.5%\" y=\"59.0%\" /><text fill=\"black\" x=\"397.2\" y=\"216.0\">block01</text></svg>"
      ],
      "text/plain": [
       "<planning.planning.State at 0x7fcf4caa4208>"
      ]
     },
     "metadata": {},
     "output_type": "display_data"
    }
   ],
   "source": [
    "print(\"step \" + str(step))\n",
    "display(state_sequence[step])\n",
    "step += 1"
   ]
  },
  {
   "cell_type": "code",
   "execution_count": 29,
   "metadata": {
    "slideshow": {
     "slide_type": "subslide"
    }
   },
   "outputs": [
    {
     "name": "stdout",
     "output_type": "stream",
     "text": [
      "step 4\n"
     ]
    },
    {
     "data": {
      "image/svg+xml": [
       "<svg baseProfile=\"full\" height=\"300\" version=\"1.1\" width=\"600\" xmlns=\"http://www.w3.org/2000/svg\" xmlns:ev=\"http://www.w3.org/2001/xml-events\" xmlns:xlink=\"http://www.w3.org/1999/xlink\"><defs /><line stroke=\"black\" x1=\"5%\" x2=\"95%\" y1=\"95%\" y2=\"95%\" /><line stroke=\"blue\" x1=\"15.0%\" x2=\"15.0%\" y1=\"0%\" y2=\"5%\" /><line stroke=\"blue\" x1=\"5.5%\" x2=\"5.5%\" y1=\"5%\" y2=\"10%\" /><line stroke=\"blue\" x1=\"24.5%\" x2=\"24.5%\" y1=\"5%\" y2=\"10%\" /><line stroke=\"blue\" x1=\"5.5%\" x2=\"24.5%\" y1=\"5%\" y2=\"5%\" /><rect fill=\"white\" height=\"18.0%\" stroke=\"black\" width=\"18.0%\" x=\"41.0%\" y=\"77.0%\" /><text fill=\"black\" x=\"262.2\" y=\"270.0\">block02</text><rect fill=\"white\" height=\"18.0%\" stroke=\"black\" width=\"18.0%\" x=\"63.5%\" y=\"77.0%\" /><text fill=\"black\" x=\"397.2\" y=\"270.0\">block03</text><rect fill=\"white\" height=\"18.0%\" stroke=\"black\" width=\"18.0%\" x=\"63.5%\" y=\"59.0%\" /><text fill=\"black\" x=\"397.2\" y=\"216.0\">block01</text></svg>"
      ],
      "text/plain": [
       "<planning.planning.State at 0x7fcf4caa4390>"
      ]
     },
     "metadata": {},
     "output_type": "display_data"
    }
   ],
   "source": [
    "print(\"step \" + str(step))\n",
    "display(state_sequence[step])\n",
    "step += 1"
   ]
  },
  {
   "cell_type": "code",
   "execution_count": 30,
   "metadata": {
    "slideshow": {
     "slide_type": "subslide"
    }
   },
   "outputs": [
    {
     "name": "stdout",
     "output_type": "stream",
     "text": [
      "step 5\n"
     ]
    },
    {
     "data": {
      "image/svg+xml": [
       "<svg baseProfile=\"full\" height=\"300\" version=\"1.1\" width=\"600\" xmlns=\"http://www.w3.org/2000/svg\" xmlns:ev=\"http://www.w3.org/2001/xml-events\" xmlns:xlink=\"http://www.w3.org/1999/xlink\"><defs /><line stroke=\"black\" x1=\"5%\" x2=\"95%\" y1=\"95%\" y2=\"95%\" /><line stroke=\"blue\" x1=\"15.0%\" x2=\"15.0%\" y1=\"0%\" y2=\"5%\" /><line stroke=\"blue\" x1=\"5.5%\" x2=\"5.5%\" y1=\"5%\" y2=\"10%\" /><line stroke=\"blue\" x1=\"24.5%\" x2=\"24.5%\" y1=\"5%\" y2=\"10%\" /><line stroke=\"blue\" x1=\"5.5%\" x2=\"24.5%\" y1=\"5%\" y2=\"5%\" /><rect fill=\"white\" height=\"18.0%\" stroke=\"black\" width=\"18.0%\" x=\"6.0%\" y=\"6.5%\" /><text fill=\"black\" x=\"52.2\" y=\"58.5\">block01</text><rect fill=\"white\" height=\"18.0%\" stroke=\"black\" width=\"18.0%\" x=\"41.0%\" y=\"77.0%\" /><text fill=\"black\" x=\"262.2\" y=\"270.0\">block02</text><rect fill=\"white\" height=\"18.0%\" stroke=\"black\" width=\"18.0%\" x=\"63.5%\" y=\"77.0%\" /><text fill=\"black\" x=\"397.2\" y=\"270.0\">block03</text></svg>"
      ],
      "text/plain": [
       "<planning.planning.State at 0x7fcf4caa4048>"
      ]
     },
     "metadata": {},
     "output_type": "display_data"
    }
   ],
   "source": [
    "print(\"step \" + str(step))\n",
    "display(state_sequence[step])\n",
    "step += 1"
   ]
  },
  {
   "cell_type": "code",
   "execution_count": 31,
   "metadata": {
    "slideshow": {
     "slide_type": "subslide"
    }
   },
   "outputs": [
    {
     "name": "stdout",
     "output_type": "stream",
     "text": [
      "step 6\n"
     ]
    },
    {
     "data": {
      "image/svg+xml": [
       "<svg baseProfile=\"full\" height=\"300\" version=\"1.1\" width=\"600\" xmlns=\"http://www.w3.org/2000/svg\" xmlns:ev=\"http://www.w3.org/2001/xml-events\" xmlns:xlink=\"http://www.w3.org/1999/xlink\"><defs /><line stroke=\"black\" x1=\"5%\" x2=\"95%\" y1=\"95%\" y2=\"95%\" /><line stroke=\"blue\" x1=\"15.0%\" x2=\"15.0%\" y1=\"0%\" y2=\"5%\" /><line stroke=\"blue\" x1=\"5.5%\" x2=\"5.5%\" y1=\"5%\" y2=\"10%\" /><line stroke=\"blue\" x1=\"24.5%\" x2=\"24.5%\" y1=\"5%\" y2=\"10%\" /><line stroke=\"blue\" x1=\"5.5%\" x2=\"24.5%\" y1=\"5%\" y2=\"5%\" /><rect fill=\"white\" height=\"18.0%\" stroke=\"black\" width=\"18.0%\" x=\"18.5%\" y=\"77.0%\" /><text fill=\"black\" x=\"127.2\" y=\"270.0\">block01</text><rect fill=\"white\" height=\"18.0%\" stroke=\"black\" width=\"18.0%\" x=\"41.0%\" y=\"77.0%\" /><text fill=\"black\" x=\"262.2\" y=\"270.0\">block02</text><rect fill=\"white\" height=\"18.0%\" stroke=\"black\" width=\"18.0%\" x=\"63.5%\" y=\"77.0%\" /><text fill=\"black\" x=\"397.2\" y=\"270.0\">block03</text></svg>"
      ],
      "text/plain": [
       "<planning.planning.State at 0x7fcf4caa45c0>"
      ]
     },
     "metadata": {},
     "output_type": "display_data"
    }
   ],
   "source": [
    "print(\"step \" + str(step))\n",
    "display(state_sequence[step])\n",
    "step += 1"
   ]
  },
  {
   "cell_type": "markdown",
   "metadata": {
    "slideshow": {
     "slide_type": "slide"
    }
   },
   "source": [
    "## Chosen application domain III - Elevators\n",
    "\n",
    "\n",
    "Let's consider we have a building with several foors and people who want to go from one floor to another one. A lift, starting from one of the floors, has to satisfy all people petitions. The resctrictions are the following:\n",
    "\n",
    "1. The lift can just move one floor each step\n",
    "2. Just one person can get into/outo the lift each step"
   ]
  },
  {
   "cell_type": "markdown",
   "metadata": {
    "slideshow": {
     "slide_type": "slide"
    }
   },
   "source": [
    "## Chosen application domain III - Elevators\n",
    "\n",
    "We have defined the domain in Python and it contains a four operators: \n",
    "\n",
    "1. `board(?f-floor, ?p-passenger)`, which boards the passenger `?p` which is in the floor `?f`.\n",
    "2. `depart(?f-floor, ?p-passenger)`, which departs the passenger `?p` in the floor `?f`. The passenger passes to be served.\n",
    "3. `drive_up(?f1-floor, ?f2-floor)`, the lift goes up from floor `?f1` to floor `?f2`.\n",
    "4. `drive_down(?f1-floor, ?f2-floor)`, the lift goes down from floor `?f1` to floor `?f2`.\n",
    "\n",
    "Our planning framework can take care of static preconditions (no instantiations of operators for the same instance).\n",
    "\n",
    "We have also implemented a problem generator. The generator can create problems for any number of people and floors. "
   ]
  },
  {
   "cell_type": "code",
   "execution_count": 71,
   "metadata": {
    "slideshow": {
     "slide_type": "skip"
    }
   },
   "outputs": [],
   "source": [
    "import planning\n",
    "\n",
    "from IPython.display import display\n",
    "\n",
    "import random\n",
    "\n",
    "random.seed(1)"
   ]
  },
  {
   "cell_type": "code",
   "execution_count": 72,
   "metadata": {
    "scrolled": false,
    "slideshow": {
     "slide_type": "slide"
    }
   },
   "outputs": [
    {
     "name": "stdout",
     "output_type": "stream",
     "text": [
      "Domain: Elevator\n",
      "Types: {'passenger': 'object', 'floor': 'object'}\n",
      "Operators:\n",
      "  - board(?f-floor,?p-passenger):\n",
      "    Pre: lift-at(?f), origin(?p,?f)\n",
      "    Add: boarded(?p)\n",
      "    Delete: \n",
      "  - depart(?f-floor,?p-passenger):\n",
      "    Pre: lift-at(?f), destin(?p,?f), boarded(?p)\n",
      "    Add: served(?p)\n",
      "    Delete: boarded(?p)\n",
      "  - drive_down(?f1-floor,?f2-floor):\n",
      "    Pre: lift-at(?f1), above(?f2,?f1)\n",
      "    Add: lift-at(?f2)\n",
      "    Delete: lift-at(?f1)\n",
      "  - drive_up(?f1-floor,?f2-floor):\n",
      "    Pre: lift-at(?f1), above(?f1,?f2)\n",
      "    Add: lift-at(?f2)\n",
      "    Delete: lift-at(?f1)\n",
      "Applicable actions in 1st state:\n",
      "drive_down(floor4,floor3)\n"
     ]
    }
   ],
   "source": [
    "domain_name = \"Elevator\"\n",
    "domain = planning.domains[domain_name]\n",
    "problem = domain.generate_problem(3, 4)\n",
    "print(domain)\n",
    "\n",
    "print(\"Applicable actions in 1st state:\")\n",
    "print(\"\\n\".join(map(str, filter(problem.init().can_apply, problem.operators()))))"
   ]
  },
  {
   "cell_type": "code",
   "execution_count": 73,
   "metadata": {
    "slideshow": {
     "slide_type": "subslide"
    }
   },
   "outputs": [
    {
     "name": "stdout",
     "output_type": "stream",
     "text": [
      "Init:\n",
      "{'floor2': 1, 'floor1': 1, 'floor4': 0, 'floor3': 1}\n"
     ]
    },
    {
     "data": {
      "image/svg+xml": [
       "<svg baseProfile=\"full\" height=\"300\" version=\"1.1\" width=\"600\" xmlns=\"http://www.w3.org/2000/svg\" xmlns:ev=\"http://www.w3.org/2001/xml-events\" xmlns:xlink=\"http://www.w3.org/1999/xlink\"><defs /><rect fill=\"white\" height=\"90%\" stroke=\"black\" width=\"90%\" x=\"10.0%\" y=\"0.0%\" /><line stroke=\"black\" x1=\"55.0%\" x2=\"55.0%\" y1=\"0%\" y2=\"90%\" /><line stroke=\"black\" x1=\"55%\" x2=\"100%\" y1=\"67.5%\" y2=\"67.5%\" /><circle cx=\"60%\" cy=\"72.5%\" fill=\"black\" r=\"2\" /><text x=\"372.0\" y=\"217.5\">1</text><line stroke=\"black\" x1=\"55%\" x2=\"100%\" y1=\"45.0%\" y2=\"45.0%\" /><circle cx=\"60%\" cy=\"50.0%\" fill=\"black\" r=\"2\" /><text x=\"372.0\" y=\"150.0\">1</text><line stroke=\"black\" x1=\"55%\" x2=\"100%\" y1=\"22.5%\" y2=\"22.5%\" /><circle cx=\"60%\" cy=\"27.5%\" fill=\"black\" r=\"2\" /><text x=\"372.0\" y=\"82.5\">1</text><line stroke=\"black\" x1=\"55%\" x2=\"100%\" y1=\"0.0%\" y2=\"0.0%\" /><circle cx=\"60%\" cy=\"5.0%\" fill=\"black\" r=\"2\" /><text x=\"372.0\" y=\"15.0\">0</text><rect fill=\"white\" height=\"17.5%\" stroke=\"black\" width=\"17.5%\" x=\"21.25%\" y=\"2.5%\" /><circle cx=\"30.0%\" cy=\"11.25%\" fill=\"black\" r=\"2\" /><text x=\"192.0\" y=\"33.75\">0</text></svg>"
      ],
      "text/plain": [
       "<planning.planning.State at 0x7fcf4c252b70>"
      ]
     },
     "metadata": {},
     "output_type": "display_data"
    }
   ],
   "source": [
    "print(\"Init:\")\n",
    "display(problem.init())"
   ]
  },
  {
   "cell_type": "code",
   "execution_count": 74,
   "metadata": {
    "scrolled": false,
    "slideshow": {
     "slide_type": "subslide"
    }
   },
   "outputs": [
    {
     "name": "stdout",
     "output_type": "stream",
     "text": [
      "[0.017s] Plan found with 12 action(s)\n",
      "#Generated nodes: 126\n",
      "Plan:\n",
      "  drive_down(floor4,floor3)\n",
      "  board(floor3,passenger01)\n",
      "  drive_down(floor3,floor2)\n",
      "  board(floor2,passenger03)\n",
      "  drive_down(floor2,floor1)\n",
      "  board(floor1,passenger02)\n",
      "  depart(floor1,passenger03)\n",
      "  drive_up(floor1,floor2)\n",
      "  drive_up(floor2,floor3)\n",
      "  drive_up(floor3,floor4)\n",
      "  depart(floor4,passenger01)\n",
      "  depart(floor4,passenger02)\n"
     ]
    }
   ],
   "source": [
    "bfs = planning.BreadthFirstSearch(problem, verbose=1, timeout=30.0, node_bound=None)\n",
    "status = bfs()\n",
    "if status == planning.search.FOUND:\n",
    "    plan = bfs.plan()\n",
    "    state_sequence = bfs.state_sequence()\n",
    "    print(\"#Generated nodes: \" + str(bfs.info()[\"generated\"]))\n",
    "    \n",
    "    print(\"Plan:\\n  \" + \"\\n  \".join([str(op) for op in bfs.plan()]))"
   ]
  },
  {
   "cell_type": "code",
   "execution_count": 75,
   "metadata": {
    "slideshow": {
     "slide_type": "skip"
    }
   },
   "outputs": [],
   "source": [
    "step = 0\n",
    "plan_lenght = len(state_sequence)"
   ]
  },
  {
   "cell_type": "code",
   "execution_count": 76,
   "metadata": {
    "slideshow": {
     "slide_type": "subslide"
    }
   },
   "outputs": [
    {
     "name": "stdout",
     "output_type": "stream",
     "text": [
      "step 0\n",
      "{'floor2': 1, 'floor1': 1, 'floor4': 0, 'floor3': 1}\n"
     ]
    },
    {
     "data": {
      "image/svg+xml": [
       "<svg baseProfile=\"full\" height=\"300\" version=\"1.1\" width=\"600\" xmlns=\"http://www.w3.org/2000/svg\" xmlns:ev=\"http://www.w3.org/2001/xml-events\" xmlns:xlink=\"http://www.w3.org/1999/xlink\"><defs /><rect fill=\"white\" height=\"90%\" stroke=\"black\" width=\"90%\" x=\"10.0%\" y=\"0.0%\" /><line stroke=\"black\" x1=\"55.0%\" x2=\"55.0%\" y1=\"0%\" y2=\"90%\" /><line stroke=\"black\" x1=\"55%\" x2=\"100%\" y1=\"67.5%\" y2=\"67.5%\" /><circle cx=\"60%\" cy=\"72.5%\" fill=\"black\" r=\"2\" /><text x=\"372.0\" y=\"217.5\">1</text><line stroke=\"black\" x1=\"55%\" x2=\"100%\" y1=\"45.0%\" y2=\"45.0%\" /><circle cx=\"60%\" cy=\"50.0%\" fill=\"black\" r=\"2\" /><text x=\"372.0\" y=\"150.0\">1</text><line stroke=\"black\" x1=\"55%\" x2=\"100%\" y1=\"22.5%\" y2=\"22.5%\" /><circle cx=\"60%\" cy=\"27.5%\" fill=\"black\" r=\"2\" /><text x=\"372.0\" y=\"82.5\">1</text><line stroke=\"black\" x1=\"55%\" x2=\"100%\" y1=\"0.0%\" y2=\"0.0%\" /><circle cx=\"60%\" cy=\"5.0%\" fill=\"black\" r=\"2\" /><text x=\"372.0\" y=\"15.0\">0</text><rect fill=\"white\" height=\"17.5%\" stroke=\"black\" width=\"17.5%\" x=\"21.25%\" y=\"2.5%\" /><circle cx=\"30.0%\" cy=\"11.25%\" fill=\"black\" r=\"2\" /><text x=\"192.0\" y=\"33.75\">0</text></svg>"
      ],
      "text/plain": [
       "<planning.planning.State at 0x7fcf4c252b70>"
      ]
     },
     "metadata": {},
     "output_type": "display_data"
    }
   ],
   "source": [
    "print(\"step \" + str(step))\n",
    "display(state_sequence[step])\n",
    "step += 1"
   ]
  },
  {
   "cell_type": "code",
   "execution_count": 77,
   "metadata": {
    "slideshow": {
     "slide_type": "subslide"
    }
   },
   "outputs": [
    {
     "name": "stdout",
     "output_type": "stream",
     "text": [
      "step 1\n",
      "{'floor2': 1, 'floor1': 1, 'floor4': 0, 'floor3': 1}\n"
     ]
    },
    {
     "data": {
      "image/svg+xml": [
       "<svg baseProfile=\"full\" height=\"300\" version=\"1.1\" width=\"600\" xmlns=\"http://www.w3.org/2000/svg\" xmlns:ev=\"http://www.w3.org/2001/xml-events\" xmlns:xlink=\"http://www.w3.org/1999/xlink\"><defs /><rect fill=\"white\" height=\"90%\" stroke=\"black\" width=\"90%\" x=\"10.0%\" y=\"0.0%\" /><line stroke=\"black\" x1=\"55.0%\" x2=\"55.0%\" y1=\"0%\" y2=\"90%\" /><line stroke=\"black\" x1=\"55%\" x2=\"100%\" y1=\"67.5%\" y2=\"67.5%\" /><circle cx=\"60%\" cy=\"72.5%\" fill=\"black\" r=\"2\" /><text x=\"372.0\" y=\"217.5\">1</text><line stroke=\"black\" x1=\"55%\" x2=\"100%\" y1=\"45.0%\" y2=\"45.0%\" /><circle cx=\"60%\" cy=\"50.0%\" fill=\"black\" r=\"2\" /><text x=\"372.0\" y=\"150.0\">1</text><line stroke=\"black\" x1=\"55%\" x2=\"100%\" y1=\"22.5%\" y2=\"22.5%\" /><circle cx=\"60%\" cy=\"27.5%\" fill=\"black\" r=\"2\" /><text x=\"372.0\" y=\"82.5\">1</text><line stroke=\"black\" x1=\"55%\" x2=\"100%\" y1=\"0.0%\" y2=\"0.0%\" /><circle cx=\"60%\" cy=\"5.0%\" fill=\"black\" r=\"2\" /><text x=\"372.0\" y=\"15.0\">0</text><rect fill=\"white\" height=\"17.5%\" stroke=\"black\" width=\"17.5%\" x=\"21.25%\" y=\"25.0%\" /><circle cx=\"30.0%\" cy=\"33.75%\" fill=\"black\" r=\"2\" /><text x=\"192.0\" y=\"101.25\">0</text></svg>"
      ],
      "text/plain": [
       "<planning.planning.State at 0x7fcf4c2659b0>"
      ]
     },
     "metadata": {},
     "output_type": "display_data"
    }
   ],
   "source": [
    "print(\"step \" + str(step))\n",
    "display(state_sequence[step])\n",
    "step += 1"
   ]
  },
  {
   "cell_type": "code",
   "execution_count": 78,
   "metadata": {
    "slideshow": {
     "slide_type": "subslide"
    }
   },
   "outputs": [
    {
     "name": "stdout",
     "output_type": "stream",
     "text": [
      "step 2\n",
      "{'floor2': 1, 'floor1': 1, 'floor4': 0, 'floor3': 0}\n"
     ]
    },
    {
     "data": {
      "image/svg+xml": [
       "<svg baseProfile=\"full\" height=\"300\" version=\"1.1\" width=\"600\" xmlns=\"http://www.w3.org/2000/svg\" xmlns:ev=\"http://www.w3.org/2001/xml-events\" xmlns:xlink=\"http://www.w3.org/1999/xlink\"><defs /><rect fill=\"white\" height=\"90%\" stroke=\"black\" width=\"90%\" x=\"10.0%\" y=\"0.0%\" /><line stroke=\"black\" x1=\"55.0%\" x2=\"55.0%\" y1=\"0%\" y2=\"90%\" /><line stroke=\"black\" x1=\"55%\" x2=\"100%\" y1=\"67.5%\" y2=\"67.5%\" /><circle cx=\"60%\" cy=\"72.5%\" fill=\"black\" r=\"2\" /><text x=\"372.0\" y=\"217.5\">1</text><line stroke=\"black\" x1=\"55%\" x2=\"100%\" y1=\"45.0%\" y2=\"45.0%\" /><circle cx=\"60%\" cy=\"50.0%\" fill=\"black\" r=\"2\" /><text x=\"372.0\" y=\"150.0\">1</text><line stroke=\"black\" x1=\"55%\" x2=\"100%\" y1=\"22.5%\" y2=\"22.5%\" /><circle cx=\"60%\" cy=\"27.5%\" fill=\"black\" r=\"2\" /><text x=\"372.0\" y=\"82.5\">0</text><line stroke=\"black\" x1=\"55%\" x2=\"100%\" y1=\"0.0%\" y2=\"0.0%\" /><circle cx=\"60%\" cy=\"5.0%\" fill=\"black\" r=\"2\" /><text x=\"372.0\" y=\"15.0\">0</text><rect fill=\"white\" height=\"17.5%\" stroke=\"black\" width=\"17.5%\" x=\"21.25%\" y=\"25.0%\" /><circle cx=\"30.0%\" cy=\"33.75%\" fill=\"black\" r=\"2\" /><text x=\"192.0\" y=\"101.25\">1</text></svg>"
      ],
      "text/plain": [
       "<planning.planning.State at 0x7fcf4c265a90>"
      ]
     },
     "metadata": {},
     "output_type": "display_data"
    }
   ],
   "source": [
    "print(\"step \" + str(step))\n",
    "display(state_sequence[step])\n",
    "step += 1"
   ]
  },
  {
   "cell_type": "code",
   "execution_count": 79,
   "metadata": {
    "slideshow": {
     "slide_type": "subslide"
    }
   },
   "outputs": [
    {
     "name": "stdout",
     "output_type": "stream",
     "text": [
      "step 3\n",
      "{'floor2': 1, 'floor1': 1, 'floor4': 0, 'floor3': 0}\n"
     ]
    },
    {
     "data": {
      "image/svg+xml": [
       "<svg baseProfile=\"full\" height=\"300\" version=\"1.1\" width=\"600\" xmlns=\"http://www.w3.org/2000/svg\" xmlns:ev=\"http://www.w3.org/2001/xml-events\" xmlns:xlink=\"http://www.w3.org/1999/xlink\"><defs /><rect fill=\"white\" height=\"90%\" stroke=\"black\" width=\"90%\" x=\"10.0%\" y=\"0.0%\" /><line stroke=\"black\" x1=\"55.0%\" x2=\"55.0%\" y1=\"0%\" y2=\"90%\" /><line stroke=\"black\" x1=\"55%\" x2=\"100%\" y1=\"67.5%\" y2=\"67.5%\" /><circle cx=\"60%\" cy=\"72.5%\" fill=\"black\" r=\"2\" /><text x=\"372.0\" y=\"217.5\">1</text><line stroke=\"black\" x1=\"55%\" x2=\"100%\" y1=\"45.0%\" y2=\"45.0%\" /><circle cx=\"60%\" cy=\"50.0%\" fill=\"black\" r=\"2\" /><text x=\"372.0\" y=\"150.0\">1</text><line stroke=\"black\" x1=\"55%\" x2=\"100%\" y1=\"22.5%\" y2=\"22.5%\" /><circle cx=\"60%\" cy=\"27.5%\" fill=\"black\" r=\"2\" /><text x=\"372.0\" y=\"82.5\">0</text><line stroke=\"black\" x1=\"55%\" x2=\"100%\" y1=\"0.0%\" y2=\"0.0%\" /><circle cx=\"60%\" cy=\"5.0%\" fill=\"black\" r=\"2\" /><text x=\"372.0\" y=\"15.0\">0</text><rect fill=\"white\" height=\"17.5%\" stroke=\"black\" width=\"17.5%\" x=\"21.25%\" y=\"47.5%\" /><circle cx=\"30.0%\" cy=\"56.25%\" fill=\"black\" r=\"2\" /><text x=\"192.0\" y=\"168.75\">1</text></svg>"
      ],
      "text/plain": [
       "<planning.planning.State at 0x7fcf4c265b00>"
      ]
     },
     "metadata": {},
     "output_type": "display_data"
    }
   ],
   "source": [
    "print(\"step \" + str(step))\n",
    "display(state_sequence[step])\n",
    "step += 1"
   ]
  },
  {
   "cell_type": "code",
   "execution_count": 80,
   "metadata": {
    "slideshow": {
     "slide_type": "subslide"
    }
   },
   "outputs": [
    {
     "name": "stdout",
     "output_type": "stream",
     "text": [
      "step 4\n",
      "{'floor2': 0, 'floor1': 1, 'floor4': 0, 'floor3': 0}\n"
     ]
    },
    {
     "data": {
      "image/svg+xml": [
       "<svg baseProfile=\"full\" height=\"300\" version=\"1.1\" width=\"600\" xmlns=\"http://www.w3.org/2000/svg\" xmlns:ev=\"http://www.w3.org/2001/xml-events\" xmlns:xlink=\"http://www.w3.org/1999/xlink\"><defs /><rect fill=\"white\" height=\"90%\" stroke=\"black\" width=\"90%\" x=\"10.0%\" y=\"0.0%\" /><line stroke=\"black\" x1=\"55.0%\" x2=\"55.0%\" y1=\"0%\" y2=\"90%\" /><line stroke=\"black\" x1=\"55%\" x2=\"100%\" y1=\"67.5%\" y2=\"67.5%\" /><circle cx=\"60%\" cy=\"72.5%\" fill=\"black\" r=\"2\" /><text x=\"372.0\" y=\"217.5\">1</text><line stroke=\"black\" x1=\"55%\" x2=\"100%\" y1=\"45.0%\" y2=\"45.0%\" /><circle cx=\"60%\" cy=\"50.0%\" fill=\"black\" r=\"2\" /><text x=\"372.0\" y=\"150.0\">0</text><line stroke=\"black\" x1=\"55%\" x2=\"100%\" y1=\"22.5%\" y2=\"22.5%\" /><circle cx=\"60%\" cy=\"27.5%\" fill=\"black\" r=\"2\" /><text x=\"372.0\" y=\"82.5\">0</text><line stroke=\"black\" x1=\"55%\" x2=\"100%\" y1=\"0.0%\" y2=\"0.0%\" /><circle cx=\"60%\" cy=\"5.0%\" fill=\"black\" r=\"2\" /><text x=\"372.0\" y=\"15.0\">0</text><rect fill=\"white\" height=\"17.5%\" stroke=\"black\" width=\"17.5%\" x=\"21.25%\" y=\"47.5%\" /><circle cx=\"30.0%\" cy=\"56.25%\" fill=\"black\" r=\"2\" /><text x=\"192.0\" y=\"168.75\">2</text></svg>"
      ],
      "text/plain": [
       "<planning.planning.State at 0x7fcf4c265ba8>"
      ]
     },
     "metadata": {},
     "output_type": "display_data"
    }
   ],
   "source": [
    "print(\"step \" + str(step))\n",
    "display(state_sequence[step])\n",
    "step += 1"
   ]
  },
  {
   "cell_type": "code",
   "execution_count": 81,
   "metadata": {
    "slideshow": {
     "slide_type": "subslide"
    }
   },
   "outputs": [
    {
     "name": "stdout",
     "output_type": "stream",
     "text": [
      "step 5\n",
      "{'floor2': 0, 'floor1': 1, 'floor4': 0, 'floor3': 0}\n"
     ]
    },
    {
     "data": {
      "image/svg+xml": [
       "<svg baseProfile=\"full\" height=\"300\" version=\"1.1\" width=\"600\" xmlns=\"http://www.w3.org/2000/svg\" xmlns:ev=\"http://www.w3.org/2001/xml-events\" xmlns:xlink=\"http://www.w3.org/1999/xlink\"><defs /><rect fill=\"white\" height=\"90%\" stroke=\"black\" width=\"90%\" x=\"10.0%\" y=\"0.0%\" /><line stroke=\"black\" x1=\"55.0%\" x2=\"55.0%\" y1=\"0%\" y2=\"90%\" /><line stroke=\"black\" x1=\"55%\" x2=\"100%\" y1=\"67.5%\" y2=\"67.5%\" /><circle cx=\"60%\" cy=\"72.5%\" fill=\"black\" r=\"2\" /><text x=\"372.0\" y=\"217.5\">1</text><line stroke=\"black\" x1=\"55%\" x2=\"100%\" y1=\"45.0%\" y2=\"45.0%\" /><circle cx=\"60%\" cy=\"50.0%\" fill=\"black\" r=\"2\" /><text x=\"372.0\" y=\"150.0\">0</text><line stroke=\"black\" x1=\"55%\" x2=\"100%\" y1=\"22.5%\" y2=\"22.5%\" /><circle cx=\"60%\" cy=\"27.5%\" fill=\"black\" r=\"2\" /><text x=\"372.0\" y=\"82.5\">0</text><line stroke=\"black\" x1=\"55%\" x2=\"100%\" y1=\"0.0%\" y2=\"0.0%\" /><circle cx=\"60%\" cy=\"5.0%\" fill=\"black\" r=\"2\" /><text x=\"372.0\" y=\"15.0\">0</text><rect fill=\"white\" height=\"17.5%\" stroke=\"black\" width=\"17.5%\" x=\"21.25%\" y=\"70.0%\" /><circle cx=\"30.0%\" cy=\"78.75%\" fill=\"black\" r=\"2\" /><text x=\"192.0\" y=\"236.25\">2</text></svg>"
      ],
      "text/plain": [
       "<planning.planning.State at 0x7fcf4c265d30>"
      ]
     },
     "metadata": {},
     "output_type": "display_data"
    }
   ],
   "source": [
    "print(\"step \" + str(step))\n",
    "display(state_sequence[step])\n",
    "step += 1"
   ]
  },
  {
   "cell_type": "code",
   "execution_count": 82,
   "metadata": {
    "slideshow": {
     "slide_type": "subslide"
    }
   },
   "outputs": [
    {
     "name": "stdout",
     "output_type": "stream",
     "text": [
      "step 6\n",
      "{'floor2': 0, 'floor1': 0, 'floor4': 0, 'floor3': 0}\n"
     ]
    },
    {
     "data": {
      "image/svg+xml": [
       "<svg baseProfile=\"full\" height=\"300\" version=\"1.1\" width=\"600\" xmlns=\"http://www.w3.org/2000/svg\" xmlns:ev=\"http://www.w3.org/2001/xml-events\" xmlns:xlink=\"http://www.w3.org/1999/xlink\"><defs /><rect fill=\"white\" height=\"90%\" stroke=\"black\" width=\"90%\" x=\"10.0%\" y=\"0.0%\" /><line stroke=\"black\" x1=\"55.0%\" x2=\"55.0%\" y1=\"0%\" y2=\"90%\" /><line stroke=\"black\" x1=\"55%\" x2=\"100%\" y1=\"67.5%\" y2=\"67.5%\" /><circle cx=\"60%\" cy=\"72.5%\" fill=\"black\" r=\"2\" /><text x=\"372.0\" y=\"217.5\">0</text><line stroke=\"black\" x1=\"55%\" x2=\"100%\" y1=\"45.0%\" y2=\"45.0%\" /><circle cx=\"60%\" cy=\"50.0%\" fill=\"black\" r=\"2\" /><text x=\"372.0\" y=\"150.0\">0</text><line stroke=\"black\" x1=\"55%\" x2=\"100%\" y1=\"22.5%\" y2=\"22.5%\" /><circle cx=\"60%\" cy=\"27.5%\" fill=\"black\" r=\"2\" /><text x=\"372.0\" y=\"82.5\">0</text><line stroke=\"black\" x1=\"55%\" x2=\"100%\" y1=\"0.0%\" y2=\"0.0%\" /><circle cx=\"60%\" cy=\"5.0%\" fill=\"black\" r=\"2\" /><text x=\"372.0\" y=\"15.0\">0</text><rect fill=\"white\" height=\"17.5%\" stroke=\"black\" width=\"17.5%\" x=\"21.25%\" y=\"70.0%\" /><circle cx=\"30.0%\" cy=\"78.75%\" fill=\"black\" r=\"2\" /><text x=\"192.0\" y=\"236.25\">3</text></svg>"
      ],
      "text/plain": [
       "<planning.planning.State at 0x7fcf4c265f28>"
      ]
     },
     "metadata": {},
     "output_type": "display_data"
    }
   ],
   "source": [
    "print(\"step \" + str(step))\n",
    "display(state_sequence[step])\n",
    "step += 1"
   ]
  },
  {
   "cell_type": "code",
   "execution_count": 83,
   "metadata": {
    "slideshow": {
     "slide_type": "subslide"
    }
   },
   "outputs": [
    {
     "name": "stdout",
     "output_type": "stream",
     "text": [
      "step 7\n",
      "{'floor2': 0, 'floor1': 1, 'floor4': 0, 'floor3': 0}\n"
     ]
    },
    {
     "data": {
      "image/svg+xml": [
       "<svg baseProfile=\"full\" height=\"300\" version=\"1.1\" width=\"600\" xmlns=\"http://www.w3.org/2000/svg\" xmlns:ev=\"http://www.w3.org/2001/xml-events\" xmlns:xlink=\"http://www.w3.org/1999/xlink\"><defs /><rect fill=\"white\" height=\"90%\" stroke=\"black\" width=\"90%\" x=\"10.0%\" y=\"0.0%\" /><line stroke=\"black\" x1=\"55.0%\" x2=\"55.0%\" y1=\"0%\" y2=\"90%\" /><line stroke=\"black\" x1=\"55%\" x2=\"100%\" y1=\"67.5%\" y2=\"67.5%\" /><circle cx=\"60%\" cy=\"72.5%\" fill=\"black\" r=\"2\" /><text x=\"372.0\" y=\"217.5\">1</text><line stroke=\"black\" x1=\"55%\" x2=\"100%\" y1=\"45.0%\" y2=\"45.0%\" /><circle cx=\"60%\" cy=\"50.0%\" fill=\"black\" r=\"2\" /><text x=\"372.0\" y=\"150.0\">0</text><line stroke=\"black\" x1=\"55%\" x2=\"100%\" y1=\"22.5%\" y2=\"22.5%\" /><circle cx=\"60%\" cy=\"27.5%\" fill=\"black\" r=\"2\" /><text x=\"372.0\" y=\"82.5\">0</text><line stroke=\"black\" x1=\"55%\" x2=\"100%\" y1=\"0.0%\" y2=\"0.0%\" /><circle cx=\"60%\" cy=\"5.0%\" fill=\"black\" r=\"2\" /><text x=\"372.0\" y=\"15.0\">0</text><rect fill=\"white\" height=\"17.5%\" stroke=\"black\" width=\"17.5%\" x=\"21.25%\" y=\"70.0%\" /><circle cx=\"30.0%\" cy=\"78.75%\" fill=\"black\" r=\"2\" /><text x=\"192.0\" y=\"236.25\">2</text></svg>"
      ],
      "text/plain": [
       "<planning.planning.State at 0x7fcf4c26c0f0>"
      ]
     },
     "metadata": {},
     "output_type": "display_data"
    }
   ],
   "source": [
    "print(\"step \" + str(step))\n",
    "display(state_sequence[step])\n",
    "step += 1"
   ]
  },
  {
   "cell_type": "code",
   "execution_count": 84,
   "metadata": {
    "slideshow": {
     "slide_type": "subslide"
    }
   },
   "outputs": [
    {
     "name": "stdout",
     "output_type": "stream",
     "text": [
      "step 8\n",
      "{'floor2': 0, 'floor1': 1, 'floor4': 0, 'floor3': 0}\n"
     ]
    },
    {
     "data": {
      "image/svg+xml": [
       "<svg baseProfile=\"full\" height=\"300\" version=\"1.1\" width=\"600\" xmlns=\"http://www.w3.org/2000/svg\" xmlns:ev=\"http://www.w3.org/2001/xml-events\" xmlns:xlink=\"http://www.w3.org/1999/xlink\"><defs /><rect fill=\"white\" height=\"90%\" stroke=\"black\" width=\"90%\" x=\"10.0%\" y=\"0.0%\" /><line stroke=\"black\" x1=\"55.0%\" x2=\"55.0%\" y1=\"0%\" y2=\"90%\" /><line stroke=\"black\" x1=\"55%\" x2=\"100%\" y1=\"67.5%\" y2=\"67.5%\" /><circle cx=\"60%\" cy=\"72.5%\" fill=\"black\" r=\"2\" /><text x=\"372.0\" y=\"217.5\">1</text><line stroke=\"black\" x1=\"55%\" x2=\"100%\" y1=\"45.0%\" y2=\"45.0%\" /><circle cx=\"60%\" cy=\"50.0%\" fill=\"black\" r=\"2\" /><text x=\"372.0\" y=\"150.0\">0</text><line stroke=\"black\" x1=\"55%\" x2=\"100%\" y1=\"22.5%\" y2=\"22.5%\" /><circle cx=\"60%\" cy=\"27.5%\" fill=\"black\" r=\"2\" /><text x=\"372.0\" y=\"82.5\">0</text><line stroke=\"black\" x1=\"55%\" x2=\"100%\" y1=\"0.0%\" y2=\"0.0%\" /><circle cx=\"60%\" cy=\"5.0%\" fill=\"black\" r=\"2\" /><text x=\"372.0\" y=\"15.0\">0</text><rect fill=\"white\" height=\"17.5%\" stroke=\"black\" width=\"17.5%\" x=\"21.25%\" y=\"47.5%\" /><circle cx=\"30.0%\" cy=\"56.25%\" fill=\"black\" r=\"2\" /><text x=\"192.0\" y=\"168.75\">2</text></svg>"
      ],
      "text/plain": [
       "<planning.planning.State at 0x7fcf4c26c390>"
      ]
     },
     "metadata": {},
     "output_type": "display_data"
    }
   ],
   "source": [
    "print(\"step \" + str(step))\n",
    "display(state_sequence[step])\n",
    "step += 1"
   ]
  },
  {
   "cell_type": "code",
   "execution_count": 85,
   "metadata": {
    "slideshow": {
     "slide_type": "subslide"
    }
   },
   "outputs": [
    {
     "name": "stdout",
     "output_type": "stream",
     "text": [
      "step 9\n",
      "{'floor2': 0, 'floor1': 1, 'floor4': 0, 'floor3': 0}\n"
     ]
    },
    {
     "data": {
      "image/svg+xml": [
       "<svg baseProfile=\"full\" height=\"300\" version=\"1.1\" width=\"600\" xmlns=\"http://www.w3.org/2000/svg\" xmlns:ev=\"http://www.w3.org/2001/xml-events\" xmlns:xlink=\"http://www.w3.org/1999/xlink\"><defs /><rect fill=\"white\" height=\"90%\" stroke=\"black\" width=\"90%\" x=\"10.0%\" y=\"0.0%\" /><line stroke=\"black\" x1=\"55.0%\" x2=\"55.0%\" y1=\"0%\" y2=\"90%\" /><line stroke=\"black\" x1=\"55%\" x2=\"100%\" y1=\"67.5%\" y2=\"67.5%\" /><circle cx=\"60%\" cy=\"72.5%\" fill=\"black\" r=\"2\" /><text x=\"372.0\" y=\"217.5\">1</text><line stroke=\"black\" x1=\"55%\" x2=\"100%\" y1=\"45.0%\" y2=\"45.0%\" /><circle cx=\"60%\" cy=\"50.0%\" fill=\"black\" r=\"2\" /><text x=\"372.0\" y=\"150.0\">0</text><line stroke=\"black\" x1=\"55%\" x2=\"100%\" y1=\"22.5%\" y2=\"22.5%\" /><circle cx=\"60%\" cy=\"27.5%\" fill=\"black\" r=\"2\" /><text x=\"372.0\" y=\"82.5\">0</text><line stroke=\"black\" x1=\"55%\" x2=\"100%\" y1=\"0.0%\" y2=\"0.0%\" /><circle cx=\"60%\" cy=\"5.0%\" fill=\"black\" r=\"2\" /><text x=\"372.0\" y=\"15.0\">0</text><rect fill=\"white\" height=\"17.5%\" stroke=\"black\" width=\"17.5%\" x=\"21.25%\" y=\"25.0%\" /><circle cx=\"30.0%\" cy=\"33.75%\" fill=\"black\" r=\"2\" /><text x=\"192.0\" y=\"101.25\">2</text></svg>"
      ],
      "text/plain": [
       "<planning.planning.State at 0x7fcf4c26cbe0>"
      ]
     },
     "metadata": {},
     "output_type": "display_data"
    }
   ],
   "source": [
    "print(\"step \" + str(step))\n",
    "display(state_sequence[step])\n",
    "step += 1"
   ]
  },
  {
   "cell_type": "code",
   "execution_count": 86,
   "metadata": {
    "slideshow": {
     "slide_type": "subslide"
    }
   },
   "outputs": [
    {
     "name": "stdout",
     "output_type": "stream",
     "text": [
      "step 10\n",
      "{'floor2': 0, 'floor1': 1, 'floor4': 0, 'floor3': 0}\n"
     ]
    },
    {
     "data": {
      "image/svg+xml": [
       "<svg baseProfile=\"full\" height=\"300\" version=\"1.1\" width=\"600\" xmlns=\"http://www.w3.org/2000/svg\" xmlns:ev=\"http://www.w3.org/2001/xml-events\" xmlns:xlink=\"http://www.w3.org/1999/xlink\"><defs /><rect fill=\"white\" height=\"90%\" stroke=\"black\" width=\"90%\" x=\"10.0%\" y=\"0.0%\" /><line stroke=\"black\" x1=\"55.0%\" x2=\"55.0%\" y1=\"0%\" y2=\"90%\" /><line stroke=\"black\" x1=\"55%\" x2=\"100%\" y1=\"67.5%\" y2=\"67.5%\" /><circle cx=\"60%\" cy=\"72.5%\" fill=\"black\" r=\"2\" /><text x=\"372.0\" y=\"217.5\">1</text><line stroke=\"black\" x1=\"55%\" x2=\"100%\" y1=\"45.0%\" y2=\"45.0%\" /><circle cx=\"60%\" cy=\"50.0%\" fill=\"black\" r=\"2\" /><text x=\"372.0\" y=\"150.0\">0</text><line stroke=\"black\" x1=\"55%\" x2=\"100%\" y1=\"22.5%\" y2=\"22.5%\" /><circle cx=\"60%\" cy=\"27.5%\" fill=\"black\" r=\"2\" /><text x=\"372.0\" y=\"82.5\">0</text><line stroke=\"black\" x1=\"55%\" x2=\"100%\" y1=\"0.0%\" y2=\"0.0%\" /><circle cx=\"60%\" cy=\"5.0%\" fill=\"black\" r=\"2\" /><text x=\"372.0\" y=\"15.0\">0</text><rect fill=\"white\" height=\"17.5%\" stroke=\"black\" width=\"17.5%\" x=\"21.25%\" y=\"2.5%\" /><circle cx=\"30.0%\" cy=\"11.25%\" fill=\"black\" r=\"2\" /><text x=\"192.0\" y=\"33.75\">2</text></svg>"
      ],
      "text/plain": [
       "<planning.planning.State at 0x7fcf4c265eb8>"
      ]
     },
     "metadata": {},
     "output_type": "display_data"
    }
   ],
   "source": [
    "print(\"step \" + str(step))\n",
    "display(state_sequence[step])\n",
    "step += 1"
   ]
  },
  {
   "cell_type": "code",
   "execution_count": 87,
   "metadata": {
    "slideshow": {
     "slide_type": "subslide"
    }
   },
   "outputs": [
    {
     "name": "stdout",
     "output_type": "stream",
     "text": [
      "step 11\n",
      "{'floor2': 0, 'floor1': 1, 'floor4': 1, 'floor3': 0}\n"
     ]
    },
    {
     "data": {
      "image/svg+xml": [
       "<svg baseProfile=\"full\" height=\"300\" version=\"1.1\" width=\"600\" xmlns=\"http://www.w3.org/2000/svg\" xmlns:ev=\"http://www.w3.org/2001/xml-events\" xmlns:xlink=\"http://www.w3.org/1999/xlink\"><defs /><rect fill=\"white\" height=\"90%\" stroke=\"black\" width=\"90%\" x=\"10.0%\" y=\"0.0%\" /><line stroke=\"black\" x1=\"55.0%\" x2=\"55.0%\" y1=\"0%\" y2=\"90%\" /><line stroke=\"black\" x1=\"55%\" x2=\"100%\" y1=\"67.5%\" y2=\"67.5%\" /><circle cx=\"60%\" cy=\"72.5%\" fill=\"black\" r=\"2\" /><text x=\"372.0\" y=\"217.5\">1</text><line stroke=\"black\" x1=\"55%\" x2=\"100%\" y1=\"45.0%\" y2=\"45.0%\" /><circle cx=\"60%\" cy=\"50.0%\" fill=\"black\" r=\"2\" /><text x=\"372.0\" y=\"150.0\">0</text><line stroke=\"black\" x1=\"55%\" x2=\"100%\" y1=\"22.5%\" y2=\"22.5%\" /><circle cx=\"60%\" cy=\"27.5%\" fill=\"black\" r=\"2\" /><text x=\"372.0\" y=\"82.5\">0</text><line stroke=\"black\" x1=\"55%\" x2=\"100%\" y1=\"0.0%\" y2=\"0.0%\" /><circle cx=\"60%\" cy=\"5.0%\" fill=\"black\" r=\"2\" /><text x=\"372.0\" y=\"15.0\">1</text><rect fill=\"white\" height=\"17.5%\" stroke=\"black\" width=\"17.5%\" x=\"21.25%\" y=\"2.5%\" /><circle cx=\"30.0%\" cy=\"11.25%\" fill=\"black\" r=\"2\" /><text x=\"192.0\" y=\"33.75\">1</text></svg>"
      ],
      "text/plain": [
       "<planning.planning.State at 0x7fcf4c2660b8>"
      ]
     },
     "metadata": {},
     "output_type": "display_data"
    }
   ],
   "source": [
    "print(\"step \" + str(step))\n",
    "display(state_sequence[step])\n",
    "step += 1"
   ]
  },
  {
   "cell_type": "code",
   "execution_count": 88,
   "metadata": {
    "slideshow": {
     "slide_type": "subslide"
    }
   },
   "outputs": [
    {
     "name": "stdout",
     "output_type": "stream",
     "text": [
      "step 12\n",
      "{'floor2': 0, 'floor1': 1, 'floor4': 2, 'floor3': 0}\n"
     ]
    },
    {
     "data": {
      "image/svg+xml": [
       "<svg baseProfile=\"full\" height=\"300\" version=\"1.1\" width=\"600\" xmlns=\"http://www.w3.org/2000/svg\" xmlns:ev=\"http://www.w3.org/2001/xml-events\" xmlns:xlink=\"http://www.w3.org/1999/xlink\"><defs /><rect fill=\"white\" height=\"90%\" stroke=\"black\" width=\"90%\" x=\"10.0%\" y=\"0.0%\" /><line stroke=\"black\" x1=\"55.0%\" x2=\"55.0%\" y1=\"0%\" y2=\"90%\" /><line stroke=\"black\" x1=\"55%\" x2=\"100%\" y1=\"67.5%\" y2=\"67.5%\" /><circle cx=\"60%\" cy=\"72.5%\" fill=\"black\" r=\"2\" /><text x=\"372.0\" y=\"217.5\">1</text><line stroke=\"black\" x1=\"55%\" x2=\"100%\" y1=\"45.0%\" y2=\"45.0%\" /><circle cx=\"60%\" cy=\"50.0%\" fill=\"black\" r=\"2\" /><text x=\"372.0\" y=\"150.0\">0</text><line stroke=\"black\" x1=\"55%\" x2=\"100%\" y1=\"22.5%\" y2=\"22.5%\" /><circle cx=\"60%\" cy=\"27.5%\" fill=\"black\" r=\"2\" /><text x=\"372.0\" y=\"82.5\">0</text><line stroke=\"black\" x1=\"55%\" x2=\"100%\" y1=\"0.0%\" y2=\"0.0%\" /><circle cx=\"60%\" cy=\"5.0%\" fill=\"black\" r=\"2\" /><text x=\"372.0\" y=\"15.0\">2</text><rect fill=\"white\" height=\"17.5%\" stroke=\"black\" width=\"17.5%\" x=\"21.25%\" y=\"2.5%\" /><circle cx=\"30.0%\" cy=\"11.25%\" fill=\"black\" r=\"2\" /><text x=\"192.0\" y=\"33.75\">0</text></svg>"
      ],
      "text/plain": [
       "<planning.planning.State at 0x7fcf4c2664e0>"
      ]
     },
     "metadata": {},
     "output_type": "display_data"
    }
   ],
   "source": [
    "print(\"step \" + str(step))\n",
    "display(state_sequence[step])\n",
    "step += 1"
   ]
  },
  {
   "cell_type": "markdown",
   "metadata": {
    "slideshow": {
     "slide_type": "slide"
    }
   },
   "source": [
    "## Requirements: Users's perspective\n",
    "\n",
    "Our system, general as it is, can be used in any sort of application in which is interesting the use of a planning system. In any domain in which a user has a problem which can be solved with planning techniques, our project is useful, so that, there are no requirements from the perspective of potential users. They will depend on the specific application of use.\n",
    "\n",
    "Note that the work developed in this project could be used by specialized people with technical knowledge and this include both, researchers and product designers at private companies. \n",
    "\n",
    "Among the possible domains in which our system could be used we find: robotics, industrial organization, assembly lines or applications related to the use of satellites."
   ]
  },
  {
   "cell_type": "markdown",
   "metadata": {
    "slideshow": {
     "slide_type": "slide"
    }
   },
   "source": [
    "## Requirements: Technical view\n",
    "\n",
    "As it is explained just above, our system is too general to present requirements as specific as: maximum time response of the system or maximum memory size of the system. All these requirements will show up once the our potential users start using our system in a specific application domain. \n",
    "\n",
    "When designing our system we tried to address the following specific requirements:\n",
    "\n",
    "1. The system should be faster than a conventional planner and expand less nodes when searching the solution.\n",
    "\n",
    "2. The computed heuristic should be as precise as possible. \n",
    "\n",
    "3. The CBR system was thought to start learning with simple problems of the specific domain and continue doing so with more difficult and specific problems."
   ]
  },
  {
   "cell_type": "markdown",
   "metadata": {
    "slideshow": {
     "slide_type": "slide"
    }
   },
   "source": [
    "## Functional Architecture of the CBR engine Project\n",
    "\n",
    "In this project we have designed a system of general purpose, so that the functional architecture is quite simple to be used. Just four different entities take part in our Functional Architecture: \n",
    "\n",
    "\n",
    "<img src='report_figures/functional_architecture.png'>\n"
   ]
  },
  {
   "cell_type": "markdown",
   "metadata": {
    "slideshow": {
     "slide_type": "slide"
    }
   },
   "source": [
    "## Case Structure and Case Library Structure designed\n",
    "\n",
    "Case Structure as a vector of Heuristics.\n",
    "\n",
    "- Additive (add)\n",
    "\n",
    "- Additive CEGAR (cegar) \n",
    "\n",
    "- Causal Graph (cg)\n",
    "\n",
    "- Canonical PDB (cpdbs)\n",
    "\n",
    "- FF (ff)\n",
    "\n",
    "- Global Count (globalcount)\n",
    "\n",
    "- Max Heuristic (hmax)\n",
    "\n",
    "- Landmark Cut (lmcut)\n",
    "\n",
    "\n",
    "Regarding the Case Library Structure, we have used *k-d tree*, which is useful for recover the sublinear time in the most similar cases, in our case, the vector of heuristics. The value of 'k' corresponds to the number of heuristics we use, eitght."
   ]
  },
  {
   "cell_type": "markdown",
   "metadata": {
    "slideshow": {
     "slide_type": "slide"
    }
   },
   "source": [
    "## Methods of every CBR cycle step\n",
    "\n",
    "- **Retrieve:** Given a target problem, retrieve from memory cases relevant to solving it. In our case, we select the retrieved solution using the K-Nearest Neighbors (KNN) algorithm. The value of K has been chosen empirically after some experiments. This election should be improved in future versions of our system.\n",
    "\n",
    "- **Reuse (Adaptation):** Map the solution from the previous case to the target problem. This may involve adapting the solution as needed to fit the new situation. In our case we do not adapt the retrieved solution, of course, a more intelligent behaviour should be implemented in future work.\n",
    "\n",
    "- **Revise:** Having mapped the previous solution to the target situation, test the new solution in the real world (or a simulation) and, if necessary, revise. We compare our solution to the solution given by the A* algorithm in the case of using just one heuristic, the additive. We have chosen that heuristic because it works pretty well and is faster. Those are some of the reasons why we directly have implemented it in Python.\n",
    "\n",
    "- **Retain:** After the solution has been successfully adapted to the target problem, store the resulting experience as a new case in memory. We have decided to learn every plan we generate, of course, we could improve this with a smarter strategy."
   ]
  },
  {
   "cell_type": "markdown",
   "metadata": {
    "slideshow": {
     "slide_type": "slide"
    }
   },
   "source": [
    "## 5. Testing"
   ]
  },
  {
   "cell_type": "markdown",
   "metadata": {
    "slideshow": {
     "slide_type": "slide"
    }
   },
   "source": [
    "## 6. Evaluation"
   ]
  },
  {
   "cell_type": "code",
   "execution_count": null,
   "metadata": {},
   "outputs": [],
   "source": []
  }
 ],
 "metadata": {
  "celltoolbar": "Slideshow",
  "kernelspec": {
   "display_name": "Python 3",
   "language": "python",
   "name": "python3"
  },
  "language_info": {
   "codemirror_mode": {
    "name": "ipython",
    "version": 3
   },
   "file_extension": ".py",
   "mimetype": "text/x-python",
   "name": "python",
   "nbconvert_exporter": "python",
   "pygments_lexer": "ipython3",
   "version": "3.5.2"
  }
 },
 "nbformat": 4,
 "nbformat_minor": 2
}
