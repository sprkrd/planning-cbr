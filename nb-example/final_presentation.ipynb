{
 "cells": [
  {
   "cell_type": "markdown",
   "metadata": {
    "slideshow": {
     "slide_type": "slide"
    }
   },
   "source": [
    "# SEL 2017/18 - Practical Work 3 - CBR prototype for planning\n",
    "\n",
    "\n",
    "\n",
    "\n",
    "\n",
    "\n",
    "\n",
    "                                                                                  Alberto Olivares Alarcos\n",
    "\n",
    "                                                                                  Alejandro Suárez Hernández"
   ]
  },
  {
   "cell_type": "markdown",
   "metadata": {
    "slideshow": {
     "slide_type": "slide"
    }
   },
   "source": [
    "## Outline\n",
    "\n",
    "1. Introduction\n",
    "    1. Background\n",
    "    2. Principles of the CBR engine project\n",
    "    3. Chosen application domain\n",
    "    \n",
    "2. Requirement Analysis of the CBR engine Project\n",
    "\n",
    "3. Functional Architecture of the CBR engine Project\n",
    "\n",
    "4. Proposed CBR engine Project solution design:\n",
    "    1. Case Structure and Case Library Structure designed\n",
    "    2. Methods implementing each CBR cycle step \n",
    "    \n",
    "5. Testing and evaluation\n",
    "\n",
    "6. Discussion of results"
   ]
  },
  {
   "cell_type": "markdown",
   "metadata": {
    "slideshow": {
     "slide_type": "slide"
    }
   },
   "source": [
    "## Introduction\n",
    "\n",
    "- General purpose planner\n",
    "    - Arbitrary domains\n",
    "- Learn from experience\n",
    "- Code at https://github.com/sprkrd/planning-cbr"
   ]
  },
  {
   "cell_type": "markdown",
   "metadata": {
    "slideshow": {
     "slide_type": "notes"
    }
   },
   "source": [
    "The main theme of this project is the design and implementation of a **CBR system for planning**. A CBR based on the use of **several heuristics** has been developed for **general STRIPS-based domain**. We exemplify this report with **three different well known planning domains**. We provide empirical results for these domain at the end of the document.\n",
    "\n",
    "The whole project is available in Github (https://github.com/sprkrd/planning-cbr)."
   ]
  },
  {
   "cell_type": "markdown",
   "metadata": {
    "slideshow": {
     "slide_type": "slide"
    }
   },
   "source": [
    "# Background: STRIPS planning\n",
    "\n",
    "- Problem described with propositional predicates.\n",
    "    - E.g. (Hanoi) `{on(disk03, peg1), on(disk02, disk03), on(disk01, disk03), clear(disk01)}`"
   ]
  },
  {
   "cell_type": "code",
   "execution_count": 12,
   "metadata": {
    "slideshow": {
     "slide_type": "fragment"
    }
   },
   "outputs": [
    {
     "data": {
      "image/svg+xml": [
       "<svg baseProfile=\"full\" height=\"175\" version=\"1.1\" width=\"350\" xmlns=\"http://www.w3.org/2000/svg\" xmlns:ev=\"http://www.w3.org/2001/xml-events\" xmlns:xlink=\"http://www.w3.org/1999/xlink\"><defs /><line stroke=\"black\" x1=\"5%\" x2=\"95%\" y1=\"95%\" y2=\"95%\" /><rect fill=\"white\" height=\"80%\" stroke=\"black\" width=\"1%\" x=\"27.0%\" y=\"15.0%\" /><rect fill=\"white\" height=\"80%\" stroke=\"black\" width=\"1%\" x=\"49.5%\" y=\"15.0%\" /><rect fill=\"white\" height=\"80%\" stroke=\"black\" width=\"1%\" x=\"72.0%\" y=\"15.0%\" /><rect fill=\"white\" height=\"4%\" stroke=\"black\" width=\"4.854%\" x=\"25.073%\" y=\"91.0%\" /><rect fill=\"white\" height=\"4%\" stroke=\"black\" width=\"3.236%\" x=\"25.882%\" y=\"87.0%\" /><rect fill=\"white\" height=\"4%\" stroke=\"black\" width=\"1.618%\" x=\"26.691%\" y=\"83.0%\" /></svg>"
      ],
      "text/plain": [
       "<planning.planning.State at 0x7fb1241a9b38>"
      ]
     },
     "metadata": {},
     "output_type": "display_data"
    }
   ],
   "source": [
    "import planning\n",
    "\n",
    "from IPython.display import display, HTML\n",
    "\n",
    "domain_name = \"Hanoi\"\n",
    "domain = planning.domains[domain_name]\n",
    "problem = domain.generate_problem(3, 3, random=False)\n",
    "display(problem.init())"
   ]
  },
  {
   "cell_type": "markdown",
   "metadata": {
    "slideshow": {
     "slide_type": "fragment"
    }
   },
   "source": [
    "- Domain knowledge\n",
    "- Problem specific facts"
   ]
  },
  {
   "cell_type": "markdown",
   "metadata": {
    "slideshow": {
     "slide_type": "subslide"
    }
   },
   "source": [
    "- The domain consists of:\n",
    "    - Type hierarchy of objects\n",
    "    - The predicates' \"signature\"\n",
    "    - The abstract operators (unground parameters, precondition, effect and cost)\n",
    "- The specific facts consist of:\n",
    "    - Objects\n",
    "    - Initial state\n",
    "    - Goal condition"
   ]
  },
  {
   "cell_type": "markdown",
   "metadata": {
    "slideshow": {
     "slide_type": "notes"
    }
   },
   "source": [
    "## Theoretical principles of planning\n",
    "\n",
    "We target the problem of planning for arbitrary problems with **STRIPS**-like expressivity. A problem is given by a tuple $(\\mathcal{D}, \\mathcal{P})$, where $\\mathcal{D}$ is the domain and $\\mathcal{P}$ is a particular instance of the problem in this domain.\n",
    "\n",
    "The domain $\\mathcal{D}$ represents generic knowledge about the problem. This includes:\n",
    "\n",
    "* A **type hierarchy** for the problem's objects\n",
    "* A set of **propositional predicates**\n",
    "* A set of *actions* or **operators**:\n",
    "    * A list of optionally typed **parameters** (objects from the world)\n",
    "    * A **precondition**\n",
    "    * An **add list**\n",
    "    * A **delete list**\n",
    "    * A real positive number that represents the **cost** for this action\n",
    "    \n",
    "On the other hand, the instance $\\mathcal{P}$ represents the facts of a specific problem. This includes:\n",
    "\n",
    "* A set of optionally typed **objects** relevant for this problem\n",
    "* Specification of the **initial state**, as a set of predicates\n",
    "* Specification of the **goal condition** (it does not have to be a complete state), as a set of predicates\n",
    "\n",
    "Notice that the **domain is generic** and shared among all the problems of the same type (e.g. the blocks world or the Towers of Hanoi), while the **instance is specific to each problem**. Notice too that, when specifying the domain, the operators are typically **left unground** (i.e. with free variables as parameters), and are **instantiated** for each particular problem.\n",
    "\n",
    "**STRIPS** adopts the **closed-world assumption**. That is: predicates that are present in the state are true, while predicates that are not are false. That is in **contraposition** to the **open world assumption**, in which predicates that are in the state are marked explicitly as true or false and predicates that are not in the state are unknown.\n",
    "\n",
    "In this context, planning consists in **finding an applicable sequence of operator that can be executed in chain from the initial state and that result in a state that satisfies the goal condition**. That is, a sequence of operators $o_1, o_2, \\dots, o_n$ such that\n",
    "\n",
    "$$o_1(s_0) \\rightarrow s_1$$\n",
    "$$o_2(s_1) \\rightarrow s_2$$\n",
    "$$\\dots $$\n",
    "$$o_{n}(s_{n-1}) \\rightarrow s_n$$\n",
    "$$s_n \\models g$$\n",
    "\n",
    "In this work, we address this in the most general way possible. That is, we do not make any assumption over the underlying domain."
   ]
  },
  {
   "cell_type": "markdown",
   "metadata": {
    "slideshow": {
     "slide_type": "slide"
    }
   },
   "source": [
    "## Principles of the CBR engine project I\n",
    "\n",
    "- Heuristic function. Given planning state $s$ and goal $g$:\n",
    "    - $h(s,g)$ approximates cost of optimum plan from $s$ to $g$\n",
    "    - Goal often subsumed $h(s,g) = h(s)$\n",
    "    - Perfect heuristic $h^*(s)$: ~~Approximation of the~~ Optimum plan cost\n",
    "    - Guides search algorithms (**A\\***, IDA\\*, ...)."
   ]
  },
  {
   "cell_type": "markdown",
   "metadata": {
    "slideshow": {
     "slide_type": "notes"
    }
   },
   "source": [
    "Our aim was to implement a CBR engine which combined several heuristics in order to give a closer estimation of the optimal length of the plan to solve one of our domain's problems. \n",
    "\n",
    "The general idea of our work is to use the heuristic calculated by the CBR as the perfect heuristic of any search algorithm used in pathfinding and graph traversal (IDA\\*, **A\\***, etc.). \n",
    "\n",
    "**Case Library Structure**  -  k-d Tree\n",
    "\n",
    "\n",
    "**Case Structure**  -  Vector of heuristics"
   ]
  },
  {
   "cell_type": "markdown",
   "metadata": {
    "slideshow": {
     "slide_type": "slide"
    }
   },
   "source": [
    "## Basic Principles of the CBR engine project II\n",
    "\n",
    "- CBR: heuristic learning. Better approximator of $h^*(s)$\n",
    "    - KNN regressor (K-d Tree based)\n",
    "    - X (input): vector of imperfect heuristics ($h_{add}$, $h_{max}$, $h_{cg}$, $h_{lmcut}$, ...)\n",
    "    - y (output): $h^*(s)$\n",
    "- Desired properties:\n",
    "\n",
    "<img src='report_figures/heuristic_basic_introduction.png'>\n"
   ]
  },
  {
   "cell_type": "markdown",
   "metadata": {
    "slideshow": {
     "slide_type": "notes"
    }
   },
   "source": [
    "A\\* guarantees to find the optimal plan if the heuristic is admissible. However, in our approach, we do not look at the absolute value of the heuristic, but at the order that the heuristic induces in the plan states. "
   ]
  },
  {
   "cell_type": "markdown",
   "metadata": {
    "slideshow": {
     "slide_type": "slide"
    }
   },
   "source": [
    "## Chosen application domain I - The tower of Hanoi\n",
    "\n",
    "<img src='report_figures/hanoi.png'>\n",
    "\n",
    "The objective of the puzzle is to move the entire stack to another rod, obeying the following simple rules:\n",
    "\n",
    "1. Only one disk can be moved at a time.\n",
    "2. Each move consists of taking the upper disk from one of the stacks and placing it on top of another stack.\n",
    "3. No disk may be placed on top of a smaller disk."
   ]
  },
  {
   "cell_type": "markdown",
   "metadata": {
    "slideshow": {
     "slide_type": "slide"
    }
   },
   "source": [
    "## Chosen application domain I - The tower of Hanoi\n",
    "\n",
    "- **Single operator**: `move(?what-disk, ?from-object, ?to-object)`\n",
    "- Entangled subgoals\n",
    "- Difficult in its most general setting:\n",
    "    - Arbitrary goal\n",
    "    - Arbitrary initial state\n",
    "    - Arbitrary number of disks\n",
    "    - **Arbitrary number of pegs** $\\rightarrow$ branching factor"
   ]
  },
  {
   "cell_type": "markdown",
   "metadata": {
    "slideshow": {
     "slide_type": "notes"
    }
   },
   "source": [
    "We have defined the domain in Python and it contains a **single operator**: `move(?what-disk, ?from-object, ?to-object)`, which moves disk `?what` from object `?from` (either a peg or another disk) to object `?to` (also, either a peg or a disk). \n",
    "\n",
    "We have implemented static preconditions:\n",
    "\n",
    "- Not possible to apply operator to move one disk onto a smaller one.\n",
    "- Not possible to apply operator to move one disk onto itself.\n",
    "\n",
    "We have also implemented a **problem generator**. The generator can create problems for any number of disks and pegs. "
   ]
  },
  {
   "cell_type": "code",
   "execution_count": 7,
   "metadata": {
    "scrolled": false,
    "slideshow": {
     "slide_type": "skip"
    }
   },
   "outputs": [
    {
     "name": "stdout",
     "output_type": "stream",
     "text": [
      "Domain: Hanoi\n",
      "Types: {'peg': 'object', 'disk': 'object'}\n",
      "Operators:\n",
      "  - move(?what-disk,?from-object,?to-object):\n",
      "    Pre: clear(?what), clear(?to), on(?what,?from), smaller(?what,?to)\n",
      "    Add: clear(?from), on(?what,?to)\n",
      "    Delete: clear(?to), on(?what,?from)\n",
      "Applicable actions in 1st state:\n",
      "move(disk01,disk02,peg2)\n",
      "move(disk01,disk02,peg3)\n"
     ]
    }
   ],
   "source": [
    "domain_name = \"Hanoi\"\n",
    "domain = planning.domains[domain_name]\n",
    "problem = domain.generate_problem(3, 3, random=False)\n",
    "print(domain)\n",
    "\n",
    "print(\"Applicable actions in 1st state:\")\n",
    "l = list(filter(problem.init().can_apply, problem.operators()))\n",
    "print(\"\\n\".join(map(str, l)))"
   ]
  },
  {
   "cell_type": "code",
   "execution_count": 15,
   "metadata": {
    "slideshow": {
     "slide_type": "subslide"
    }
   },
   "outputs": [
    {
     "data": {
      "text/html": [
       "Init:"
      ],
      "text/plain": [
       "<IPython.core.display.HTML object>"
      ]
     },
     "metadata": {},
     "output_type": "display_data"
    },
    {
     "data": {
      "image/svg+xml": [
       "<svg baseProfile=\"full\" height=\"175\" version=\"1.1\" width=\"350\" xmlns=\"http://www.w3.org/2000/svg\" xmlns:ev=\"http://www.w3.org/2001/xml-events\" xmlns:xlink=\"http://www.w3.org/1999/xlink\"><defs /><line stroke=\"black\" x1=\"5%\" x2=\"95%\" y1=\"95%\" y2=\"95%\" /><rect fill=\"white\" height=\"80%\" stroke=\"black\" width=\"1%\" x=\"27.0%\" y=\"15.0%\" /><rect fill=\"white\" height=\"80%\" stroke=\"black\" width=\"1%\" x=\"49.5%\" y=\"15.0%\" /><rect fill=\"white\" height=\"80%\" stroke=\"black\" width=\"1%\" x=\"72.0%\" y=\"15.0%\" /><rect fill=\"white\" height=\"4%\" stroke=\"black\" width=\"4.854%\" x=\"25.073%\" y=\"91.0%\" /><rect fill=\"white\" height=\"4%\" stroke=\"black\" width=\"3.236%\" x=\"25.882%\" y=\"87.0%\" /><rect fill=\"white\" height=\"4%\" stroke=\"black\" width=\"1.618%\" x=\"26.691%\" y=\"83.0%\" /></svg>"
      ],
      "text/plain": [
       "<planning.planning.State at 0x7fb1241a9b38>"
      ]
     },
     "metadata": {},
     "output_type": "display_data"
    },
    {
     "data": {
      "text/html": [
       "Goal:"
      ],
      "text/plain": [
       "<IPython.core.display.HTML object>"
      ]
     },
     "metadata": {},
     "output_type": "display_data"
    },
    {
     "data": {
      "image/svg+xml": [
       "<svg baseProfile=\"full\" height=\"175\" version=\"1.1\" width=\"350\" xmlns=\"http://www.w3.org/2000/svg\" xmlns:ev=\"http://www.w3.org/2001/xml-events\" xmlns:xlink=\"http://www.w3.org/1999/xlink\"><defs /><line stroke=\"black\" x1=\"5%\" x2=\"95%\" y1=\"95%\" y2=\"95%\" /><rect fill=\"white\" height=\"80%\" stroke=\"black\" width=\"1%\" x=\"27.0%\" y=\"15.0%\" /><rect fill=\"white\" height=\"80%\" stroke=\"black\" width=\"1%\" x=\"49.5%\" y=\"15.0%\" /><rect fill=\"white\" height=\"80%\" stroke=\"black\" width=\"1%\" x=\"72.0%\" y=\"15.0%\" /><rect fill=\"white\" height=\"4%\" stroke=\"black\" width=\"4.854%\" x=\"70.073%\" y=\"91.0%\" /><rect fill=\"white\" height=\"4%\" stroke=\"black\" width=\"3.236%\" x=\"70.882%\" y=\"87.0%\" /><rect fill=\"white\" height=\"4%\" stroke=\"black\" width=\"1.618%\" x=\"71.691%\" y=\"83.0%\" /></svg>"
      ],
      "text/plain": [
       "<planning.planning.State at 0x7fb1241a9b70>"
      ]
     },
     "metadata": {},
     "output_type": "display_data"
    }
   ],
   "source": [
    "display(HTML(\"Init:\"))\n",
    "display(problem.init())\n",
    "display(HTML(\"Goal:\"))\n",
    "display(problem.goal())"
   ]
  },
  {
   "cell_type": "code",
   "execution_count": 16,
   "metadata": {
    "scrolled": false,
    "slideshow": {
     "slide_type": "skip"
    }
   },
   "outputs": [
    {
     "name": "stdout",
     "output_type": "stream",
     "text": [
      "[0.002s] Plan found with 7 action(s)\n",
      "#Generated nodes: 24\n",
      "Plan:\n",
      "  move(disk01,disk02,peg3)\n",
      "  move(disk02,disk03,peg2)\n",
      "  move(disk01,peg3,disk02)\n",
      "  move(disk03,peg1,peg3)\n",
      "  move(disk01,disk02,peg1)\n",
      "  move(disk02,peg2,disk03)\n",
      "  move(disk01,peg1,disk02)\n"
     ]
    }
   ],
   "source": [
    "bfs = planning.BreadthFirstSearch(problem, verbose=1, timeout=30.0, node_bound=None)\n",
    "status = bfs()\n",
    "if status == planning.search.FOUND:\n",
    "    plan = bfs.plan()\n",
    "    state_sequence = bfs.state_sequence()\n",
    "    print(\"#Generated nodes: \" + str(bfs.info()[\"generated\"]))\n",
    "\n",
    "    print(\"Plan:\\n  \" + \"\\n  \".join([str(op) for op in bfs.plan()]))"
   ]
  },
  {
   "cell_type": "code",
   "execution_count": 5,
   "metadata": {
    "slideshow": {
     "slide_type": "skip"
    }
   },
   "outputs": [],
   "source": [
    "step = 0\n",
    "plan_lenght = len(state_sequence)"
   ]
  },
  {
   "cell_type": "code",
   "execution_count": 6,
   "metadata": {
    "slideshow": {
     "slide_type": "subslide"
    }
   },
   "outputs": [
    {
     "name": "stdout",
     "output_type": "stream",
     "text": [
      "step 0\n"
     ]
    },
    {
     "data": {
      "image/svg+xml": [
       "<svg baseProfile=\"full\" height=\"175\" version=\"1.1\" width=\"350\" xmlns=\"http://www.w3.org/2000/svg\" xmlns:ev=\"http://www.w3.org/2001/xml-events\" xmlns:xlink=\"http://www.w3.org/1999/xlink\"><defs /><line stroke=\"black\" x1=\"5%\" x2=\"95%\" y1=\"95%\" y2=\"95%\" /><rect fill=\"white\" height=\"80%\" stroke=\"black\" width=\"1%\" x=\"27.0%\" y=\"15.0%\" /><rect fill=\"white\" height=\"80%\" stroke=\"black\" width=\"1%\" x=\"49.5%\" y=\"15.0%\" /><rect fill=\"white\" height=\"80%\" stroke=\"black\" width=\"1%\" x=\"72.0%\" y=\"15.0%\" /><rect fill=\"white\" height=\"4%\" stroke=\"black\" width=\"4.854%\" x=\"25.073%\" y=\"91.0%\" /><rect fill=\"white\" height=\"4%\" stroke=\"black\" width=\"3.236%\" x=\"25.882%\" y=\"87.0%\" /><rect fill=\"white\" height=\"4%\" stroke=\"black\" width=\"1.618%\" x=\"26.691%\" y=\"83.0%\" /></svg>"
      ],
      "text/plain": [
       "<planning.planning.State at 0x7fb355d312b0>"
      ]
     },
     "metadata": {},
     "output_type": "display_data"
    }
   ],
   "source": [
    "print(\"step \" + str(step))\n",
    "display(state_sequence[step])\n",
    "step += 1"
   ]
  },
  {
   "cell_type": "code",
   "execution_count": 7,
   "metadata": {
    "slideshow": {
     "slide_type": "subslide"
    }
   },
   "outputs": [
    {
     "name": "stdout",
     "output_type": "stream",
     "text": [
      "step 1\n"
     ]
    },
    {
     "data": {
      "image/svg+xml": [
       "<svg baseProfile=\"full\" height=\"175\" version=\"1.1\" width=\"350\" xmlns=\"http://www.w3.org/2000/svg\" xmlns:ev=\"http://www.w3.org/2001/xml-events\" xmlns:xlink=\"http://www.w3.org/1999/xlink\"><defs /><line stroke=\"black\" x1=\"5%\" x2=\"95%\" y1=\"95%\" y2=\"95%\" /><rect fill=\"white\" height=\"80%\" stroke=\"black\" width=\"1%\" x=\"27.0%\" y=\"15.0%\" /><rect fill=\"white\" height=\"80%\" stroke=\"black\" width=\"1%\" x=\"49.5%\" y=\"15.0%\" /><rect fill=\"white\" height=\"80%\" stroke=\"black\" width=\"1%\" x=\"72.0%\" y=\"15.0%\" /><rect fill=\"white\" height=\"4%\" stroke=\"black\" width=\"4.854%\" x=\"25.073%\" y=\"91.0%\" /><rect fill=\"white\" height=\"4%\" stroke=\"black\" width=\"3.236%\" x=\"25.882%\" y=\"87.0%\" /><rect fill=\"white\" height=\"4%\" stroke=\"black\" width=\"1.618%\" x=\"71.691%\" y=\"91.0%\" /></svg>"
      ],
      "text/plain": [
       "<planning.planning.State at 0x7fb355d31320>"
      ]
     },
     "metadata": {},
     "output_type": "display_data"
    }
   ],
   "source": [
    "print(\"step \" + str(step))\n",
    "display(state_sequence[step])\n",
    "step += 1"
   ]
  },
  {
   "cell_type": "code",
   "execution_count": 8,
   "metadata": {
    "slideshow": {
     "slide_type": "subslide"
    }
   },
   "outputs": [
    {
     "name": "stdout",
     "output_type": "stream",
     "text": [
      "step 2\n"
     ]
    },
    {
     "data": {
      "image/svg+xml": [
       "<svg baseProfile=\"full\" height=\"175\" version=\"1.1\" width=\"350\" xmlns=\"http://www.w3.org/2000/svg\" xmlns:ev=\"http://www.w3.org/2001/xml-events\" xmlns:xlink=\"http://www.w3.org/1999/xlink\"><defs /><line stroke=\"black\" x1=\"5%\" x2=\"95%\" y1=\"95%\" y2=\"95%\" /><rect fill=\"white\" height=\"80%\" stroke=\"black\" width=\"1%\" x=\"27.0%\" y=\"15.0%\" /><rect fill=\"white\" height=\"80%\" stroke=\"black\" width=\"1%\" x=\"49.5%\" y=\"15.0%\" /><rect fill=\"white\" height=\"80%\" stroke=\"black\" width=\"1%\" x=\"72.0%\" y=\"15.0%\" /><rect fill=\"white\" height=\"4%\" stroke=\"black\" width=\"4.854%\" x=\"25.073%\" y=\"91.0%\" /><rect fill=\"white\" height=\"4%\" stroke=\"black\" width=\"3.236%\" x=\"48.382%\" y=\"91.0%\" /><rect fill=\"white\" height=\"4%\" stroke=\"black\" width=\"1.618%\" x=\"71.691%\" y=\"91.0%\" /></svg>"
      ],
      "text/plain": [
       "<planning.planning.State at 0x7fb355d31908>"
      ]
     },
     "metadata": {},
     "output_type": "display_data"
    }
   ],
   "source": [
    "print(\"step \" + str(step))\n",
    "display(state_sequence[step])\n",
    "step += 1"
   ]
  },
  {
   "cell_type": "code",
   "execution_count": 9,
   "metadata": {
    "slideshow": {
     "slide_type": "subslide"
    }
   },
   "outputs": [
    {
     "name": "stdout",
     "output_type": "stream",
     "text": [
      "step 3\n"
     ]
    },
    {
     "data": {
      "image/svg+xml": [
       "<svg baseProfile=\"full\" height=\"175\" version=\"1.1\" width=\"350\" xmlns=\"http://www.w3.org/2000/svg\" xmlns:ev=\"http://www.w3.org/2001/xml-events\" xmlns:xlink=\"http://www.w3.org/1999/xlink\"><defs /><line stroke=\"black\" x1=\"5%\" x2=\"95%\" y1=\"95%\" y2=\"95%\" /><rect fill=\"white\" height=\"80%\" stroke=\"black\" width=\"1%\" x=\"27.0%\" y=\"15.0%\" /><rect fill=\"white\" height=\"80%\" stroke=\"black\" width=\"1%\" x=\"49.5%\" y=\"15.0%\" /><rect fill=\"white\" height=\"80%\" stroke=\"black\" width=\"1%\" x=\"72.0%\" y=\"15.0%\" /><rect fill=\"white\" height=\"4%\" stroke=\"black\" width=\"4.854%\" x=\"25.073%\" y=\"91.0%\" /><rect fill=\"white\" height=\"4%\" stroke=\"black\" width=\"3.236%\" x=\"48.382%\" y=\"91.0%\" /><rect fill=\"white\" height=\"4%\" stroke=\"black\" width=\"1.618%\" x=\"49.191%\" y=\"87.0%\" /></svg>"
      ],
      "text/plain": [
       "<planning.planning.State at 0x7fb355d47518>"
      ]
     },
     "metadata": {},
     "output_type": "display_data"
    }
   ],
   "source": [
    "print(\"step \" + str(step))\n",
    "display(state_sequence[step])\n",
    "step += 1"
   ]
  },
  {
   "cell_type": "code",
   "execution_count": 10,
   "metadata": {
    "slideshow": {
     "slide_type": "subslide"
    }
   },
   "outputs": [
    {
     "name": "stdout",
     "output_type": "stream",
     "text": [
      "step 4\n"
     ]
    },
    {
     "data": {
      "image/svg+xml": [
       "<svg baseProfile=\"full\" height=\"175\" version=\"1.1\" width=\"350\" xmlns=\"http://www.w3.org/2000/svg\" xmlns:ev=\"http://www.w3.org/2001/xml-events\" xmlns:xlink=\"http://www.w3.org/1999/xlink\"><defs /><line stroke=\"black\" x1=\"5%\" x2=\"95%\" y1=\"95%\" y2=\"95%\" /><rect fill=\"white\" height=\"80%\" stroke=\"black\" width=\"1%\" x=\"27.0%\" y=\"15.0%\" /><rect fill=\"white\" height=\"80%\" stroke=\"black\" width=\"1%\" x=\"49.5%\" y=\"15.0%\" /><rect fill=\"white\" height=\"80%\" stroke=\"black\" width=\"1%\" x=\"72.0%\" y=\"15.0%\" /><rect fill=\"white\" height=\"4%\" stroke=\"black\" width=\"3.236%\" x=\"48.382%\" y=\"91.0%\" /><rect fill=\"white\" height=\"4%\" stroke=\"black\" width=\"1.618%\" x=\"49.191%\" y=\"87.0%\" /><rect fill=\"white\" height=\"4%\" stroke=\"black\" width=\"4.854%\" x=\"70.073%\" y=\"91.0%\" /></svg>"
      ],
      "text/plain": [
       "<planning.planning.State at 0x7fb355d47978>"
      ]
     },
     "metadata": {},
     "output_type": "display_data"
    }
   ],
   "source": [
    "print(\"step \" + str(step))\n",
    "display(state_sequence[step])\n",
    "step += 1"
   ]
  },
  {
   "cell_type": "code",
   "execution_count": 11,
   "metadata": {
    "slideshow": {
     "slide_type": "subslide"
    }
   },
   "outputs": [
    {
     "name": "stdout",
     "output_type": "stream",
     "text": [
      "step 5\n"
     ]
    },
    {
     "data": {
      "image/svg+xml": [
       "<svg baseProfile=\"full\" height=\"175\" version=\"1.1\" width=\"350\" xmlns=\"http://www.w3.org/2000/svg\" xmlns:ev=\"http://www.w3.org/2001/xml-events\" xmlns:xlink=\"http://www.w3.org/1999/xlink\"><defs /><line stroke=\"black\" x1=\"5%\" x2=\"95%\" y1=\"95%\" y2=\"95%\" /><rect fill=\"white\" height=\"80%\" stroke=\"black\" width=\"1%\" x=\"27.0%\" y=\"15.0%\" /><rect fill=\"white\" height=\"80%\" stroke=\"black\" width=\"1%\" x=\"49.5%\" y=\"15.0%\" /><rect fill=\"white\" height=\"80%\" stroke=\"black\" width=\"1%\" x=\"72.0%\" y=\"15.0%\" /><rect fill=\"white\" height=\"4%\" stroke=\"black\" width=\"1.618%\" x=\"26.691%\" y=\"91.0%\" /><rect fill=\"white\" height=\"4%\" stroke=\"black\" width=\"3.236%\" x=\"48.382%\" y=\"91.0%\" /><rect fill=\"white\" height=\"4%\" stroke=\"black\" width=\"4.854%\" x=\"70.073%\" y=\"91.0%\" /></svg>"
      ],
      "text/plain": [
       "<planning.planning.State at 0x7fb355d479b0>"
      ]
     },
     "metadata": {},
     "output_type": "display_data"
    }
   ],
   "source": [
    "print(\"step \" + str(step))\n",
    "display(state_sequence[step])\n",
    "step += 1"
   ]
  },
  {
   "cell_type": "code",
   "execution_count": 12,
   "metadata": {
    "slideshow": {
     "slide_type": "subslide"
    }
   },
   "outputs": [
    {
     "name": "stdout",
     "output_type": "stream",
     "text": [
      "step 6\n"
     ]
    },
    {
     "data": {
      "image/svg+xml": [
       "<svg baseProfile=\"full\" height=\"175\" version=\"1.1\" width=\"350\" xmlns=\"http://www.w3.org/2000/svg\" xmlns:ev=\"http://www.w3.org/2001/xml-events\" xmlns:xlink=\"http://www.w3.org/1999/xlink\"><defs /><line stroke=\"black\" x1=\"5%\" x2=\"95%\" y1=\"95%\" y2=\"95%\" /><rect fill=\"white\" height=\"80%\" stroke=\"black\" width=\"1%\" x=\"27.0%\" y=\"15.0%\" /><rect fill=\"white\" height=\"80%\" stroke=\"black\" width=\"1%\" x=\"49.5%\" y=\"15.0%\" /><rect fill=\"white\" height=\"80%\" stroke=\"black\" width=\"1%\" x=\"72.0%\" y=\"15.0%\" /><rect fill=\"white\" height=\"4%\" stroke=\"black\" width=\"1.618%\" x=\"26.691%\" y=\"91.0%\" /><rect fill=\"white\" height=\"4%\" stroke=\"black\" width=\"4.854%\" x=\"70.073%\" y=\"91.0%\" /><rect fill=\"white\" height=\"4%\" stroke=\"black\" width=\"3.236%\" x=\"70.882%\" y=\"87.0%\" /></svg>"
      ],
      "text/plain": [
       "<planning.planning.State at 0x7fb355d47c18>"
      ]
     },
     "metadata": {},
     "output_type": "display_data"
    }
   ],
   "source": [
    "print(\"step \" + str(step))\n",
    "display(state_sequence[step])\n",
    "step += 1"
   ]
  },
  {
   "cell_type": "code",
   "execution_count": 13,
   "metadata": {
    "slideshow": {
     "slide_type": "subslide"
    }
   },
   "outputs": [
    {
     "name": "stdout",
     "output_type": "stream",
     "text": [
      "step 7\n"
     ]
    },
    {
     "data": {
      "image/svg+xml": [
       "<svg baseProfile=\"full\" height=\"175\" version=\"1.1\" width=\"350\" xmlns=\"http://www.w3.org/2000/svg\" xmlns:ev=\"http://www.w3.org/2001/xml-events\" xmlns:xlink=\"http://www.w3.org/1999/xlink\"><defs /><line stroke=\"black\" x1=\"5%\" x2=\"95%\" y1=\"95%\" y2=\"95%\" /><rect fill=\"white\" height=\"80%\" stroke=\"black\" width=\"1%\" x=\"27.0%\" y=\"15.0%\" /><rect fill=\"white\" height=\"80%\" stroke=\"black\" width=\"1%\" x=\"49.5%\" y=\"15.0%\" /><rect fill=\"white\" height=\"80%\" stroke=\"black\" width=\"1%\" x=\"72.0%\" y=\"15.0%\" /><rect fill=\"white\" height=\"4%\" stroke=\"black\" width=\"4.854%\" x=\"70.073%\" y=\"91.0%\" /><rect fill=\"white\" height=\"4%\" stroke=\"black\" width=\"3.236%\" x=\"70.882%\" y=\"87.0%\" /><rect fill=\"white\" height=\"4%\" stroke=\"black\" width=\"1.618%\" x=\"71.691%\" y=\"83.0%\" /></svg>"
      ],
      "text/plain": [
       "<planning.planning.State at 0x7fb355d47e10>"
      ]
     },
     "metadata": {},
     "output_type": "display_data"
    }
   ],
   "source": [
    "print(\"step \" + str(step))\n",
    "display(state_sequence[step])\n",
    "step += 1"
   ]
  },
  {
   "cell_type": "markdown",
   "metadata": {
    "slideshow": {
     "slide_type": "slide"
    }
   },
   "source": [
    "## Chosen application domain II - Blocks World\n",
    "\n",
    "<img src='report_figures/blocks.png'>\n"
   ]
  },
  {
   "cell_type": "markdown",
   "metadata": {
    "slideshow": {
     "slide_type": "slide"
    }
   },
   "source": [
    "## Chosen application domain II - Blocks World\n",
    "\n",
    "We have defined the domain in Python and it contains a two operators:\n",
    "\n",
    "- `pick(?what-block, ?from-object, ?to-object)`, which picks block `?what` from object `?from` (either a slot of the table or another block) \n",
    "- `put(?what-block, ?to-object)`, which puts block to object `?to` (also, either one position of the table or a block). \n",
    "\n",
    "Our planning framework can take care of static preconditions (no instantiations of operators for one block with itself).\n",
    "\n",
    "We have also implemented a problem generator. The generator can create problems for any number of blocks and slots on the table. "
   ]
  },
  {
   "cell_type": "code",
   "execution_count": null,
   "metadata": {},
   "outputs": [],
   "source": []
  },
  {
   "cell_type": "code",
   "execution_count": 14,
   "metadata": {
    "slideshow": {
     "slide_type": "skip"
    }
   },
   "outputs": [],
   "source": [
    "import planning\n",
    "\n",
    "from IPython.display import display\n",
    "\n",
    "import random\n",
    "\n",
    "random.seed(42)"
   ]
  },
  {
   "cell_type": "code",
   "execution_count": 15,
   "metadata": {
    "slideshow": {
     "slide_type": "slide"
    }
   },
   "outputs": [
    {
     "name": "stdout",
     "output_type": "stream",
     "text": [
      "Domain: Blocks\n",
      "Types: {'slot': 'object', 'block': 'object'}\n",
      "Operators:\n",
      "  - pick(?what-block,?from-object):\n",
      "    Pre: clear(?what), on(?what,?from), handempty()\n",
      "    Add: clear(?from), holding(?what)\n",
      "    Delete: clear(?what), on(?what,?from), handempty()\n",
      "  - put(?what-block,?to-object):\n",
      "    Pre: holding(?what), clear(?to)\n",
      "    Add: clear(?what), on(?what,?to), handempty()\n",
      "    Delete: holding(?what), clear(?to)\n",
      "Applicable actions in 1st state:\n",
      "pick(block01,block02)\n",
      "pick(block03,slot3)\n"
     ]
    }
   ],
   "source": [
    "domain_name = \"Blocks\"\n",
    "domain = planning.domains[domain_name]\n",
    "problem = domain.generate_problem(3, 3)\n",
    "print(domain)\n",
    "print(\"Applicable actions in 1st state:\")\n",
    "l = list(filter(problem.init().can_apply, problem.operators()))\n",
    "print(\"\\n\".join(map(str, l)))"
   ]
  },
  {
   "cell_type": "code",
   "execution_count": 16,
   "metadata": {
    "scrolled": true,
    "slideshow": {
     "slide_type": "subslide"
    }
   },
   "outputs": [
    {
     "name": "stdout",
     "output_type": "stream",
     "text": [
      "Init:\n"
     ]
    },
    {
     "data": {
      "image/svg+xml": [
       "<svg baseProfile=\"full\" height=\"250\" version=\"1.1\" width=\"500\" xmlns=\"http://www.w3.org/2000/svg\" xmlns:ev=\"http://www.w3.org/2001/xml-events\" xmlns:xlink=\"http://www.w3.org/1999/xlink\"><defs /><line stroke=\"black\" x1=\"5%\" x2=\"95%\" y1=\"95%\" y2=\"95%\" /><line stroke=\"blue\" x1=\"15.0%\" x2=\"15.0%\" y1=\"0%\" y2=\"5%\" /><line stroke=\"blue\" x1=\"5.5%\" x2=\"5.5%\" y1=\"5%\" y2=\"10%\" /><line stroke=\"blue\" x1=\"24.5%\" x2=\"24.5%\" y1=\"5%\" y2=\"10%\" /><line stroke=\"blue\" x1=\"5.5%\" x2=\"24.5%\" y1=\"5%\" y2=\"5%\" /><rect fill=\"white\" height=\"18.0%\" stroke=\"black\" width=\"18.0%\" x=\"18.5%\" y=\"77.0%\" /><text fill=\"black\" x=\"106.0\" y=\"225.0\">block02</text><rect fill=\"white\" height=\"18.0%\" stroke=\"black\" width=\"18.0%\" x=\"18.5%\" y=\"59.0%\" /><text fill=\"black\" x=\"106.0\" y=\"180.0\">block01</text><rect fill=\"white\" height=\"18.0%\" stroke=\"black\" width=\"18.0%\" x=\"63.5%\" y=\"77.0%\" /><text fill=\"black\" x=\"331.0\" y=\"225.0\">block03</text></svg>"
      ],
      "text/plain": [
       "<planning.planning.State at 0x7fb390515940>"
      ]
     },
     "metadata": {},
     "output_type": "display_data"
    }
   ],
   "source": [
    "print(\"Init:\")\n",
    "display(problem.init())"
   ]
  },
  {
   "cell_type": "code",
   "execution_count": 17,
   "metadata": {
    "slideshow": {
     "slide_type": "subslide"
    }
   },
   "outputs": [
    {
     "name": "stdout",
     "output_type": "stream",
     "text": [
      "Goal:\n"
     ]
    },
    {
     "data": {
      "image/svg+xml": [
       "<svg baseProfile=\"full\" height=\"250\" version=\"1.1\" width=\"500\" xmlns=\"http://www.w3.org/2000/svg\" xmlns:ev=\"http://www.w3.org/2001/xml-events\" xmlns:xlink=\"http://www.w3.org/1999/xlink\"><defs /><line stroke=\"black\" x1=\"5%\" x2=\"95%\" y1=\"95%\" y2=\"95%\" /><line stroke=\"blue\" x1=\"15.0%\" x2=\"15.0%\" y1=\"0%\" y2=\"5%\" /><line stroke=\"blue\" x1=\"5.5%\" x2=\"5.5%\" y1=\"5%\" y2=\"10%\" /><line stroke=\"blue\" x1=\"24.5%\" x2=\"24.5%\" y1=\"5%\" y2=\"10%\" /><line stroke=\"blue\" x1=\"5.5%\" x2=\"24.5%\" y1=\"5%\" y2=\"5%\" /><rect fill=\"white\" height=\"18.0%\" stroke=\"black\" width=\"18.0%\" x=\"18.5%\" y=\"77.0%\" /><text fill=\"black\" x=\"106.0\" y=\"225.0\">block01</text><rect fill=\"white\" height=\"18.0%\" stroke=\"black\" width=\"18.0%\" x=\"41.0%\" y=\"77.0%\" /><text fill=\"black\" x=\"218.5\" y=\"225.0\">block02</text><rect fill=\"white\" height=\"18.0%\" stroke=\"black\" width=\"18.0%\" x=\"63.5%\" y=\"77.0%\" /><text fill=\"black\" x=\"331.0\" y=\"225.0\">block03</text></svg>"
      ],
      "text/plain": [
       "<planning.planning.State at 0x7fb390515278>"
      ]
     },
     "metadata": {},
     "output_type": "display_data"
    }
   ],
   "source": [
    "print(\"Goal:\")\n",
    "display(problem.goal())"
   ]
  },
  {
   "cell_type": "code",
   "execution_count": 18,
   "metadata": {
    "scrolled": true,
    "slideshow": {
     "slide_type": "subslide"
    }
   },
   "outputs": [
    {
     "name": "stdout",
     "output_type": "stream",
     "text": [
      "[0.002s] Plan found with 6 action(s)\n",
      "#Generated nodes: 35\n",
      "Plan:\n",
      "  pick(block01,block02)\n",
      "  put(block01,block03)\n",
      "  pick(block02,slot1)\n",
      "  put(block02,slot2)\n",
      "  pick(block01,block03)\n",
      "  put(block01,slot1)\n"
     ]
    }
   ],
   "source": [
    "bfs = planning.BreadthFirstSearch(problem, verbose=1, timeout=30.0, node_bound=None)\n",
    "status = bfs()\n",
    "if status == planning.search.FOUND:\n",
    "    plan = bfs.plan()\n",
    "    state_sequence = bfs.state_sequence()\n",
    "    print(\"#Generated nodes: \" + str(bfs.info()[\"generated\"]))\n",
    "    print(\"Plan:\\n  \" + \"\\n  \".join([str(op) for op in bfs.plan()]))"
   ]
  },
  {
   "cell_type": "code",
   "execution_count": 19,
   "metadata": {
    "slideshow": {
     "slide_type": "skip"
    }
   },
   "outputs": [],
   "source": [
    "step = 0\n",
    "plan_lenght = len(state_sequence)"
   ]
  },
  {
   "cell_type": "code",
   "execution_count": 20,
   "metadata": {
    "slideshow": {
     "slide_type": "subslide"
    }
   },
   "outputs": [
    {
     "name": "stdout",
     "output_type": "stream",
     "text": [
      "step 0\n"
     ]
    },
    {
     "data": {
      "image/svg+xml": [
       "<svg baseProfile=\"full\" height=\"250\" version=\"1.1\" width=\"500\" xmlns=\"http://www.w3.org/2000/svg\" xmlns:ev=\"http://www.w3.org/2001/xml-events\" xmlns:xlink=\"http://www.w3.org/1999/xlink\"><defs /><line stroke=\"black\" x1=\"5%\" x2=\"95%\" y1=\"95%\" y2=\"95%\" /><line stroke=\"blue\" x1=\"15.0%\" x2=\"15.0%\" y1=\"0%\" y2=\"5%\" /><line stroke=\"blue\" x1=\"5.5%\" x2=\"5.5%\" y1=\"5%\" y2=\"10%\" /><line stroke=\"blue\" x1=\"24.5%\" x2=\"24.5%\" y1=\"5%\" y2=\"10%\" /><line stroke=\"blue\" x1=\"5.5%\" x2=\"24.5%\" y1=\"5%\" y2=\"5%\" /><rect fill=\"white\" height=\"18.0%\" stroke=\"black\" width=\"18.0%\" x=\"18.5%\" y=\"77.0%\" /><text fill=\"black\" x=\"106.0\" y=\"225.0\">block02</text><rect fill=\"white\" height=\"18.0%\" stroke=\"black\" width=\"18.0%\" x=\"18.5%\" y=\"59.0%\" /><text fill=\"black\" x=\"106.0\" y=\"180.0\">block01</text><rect fill=\"white\" height=\"18.0%\" stroke=\"black\" width=\"18.0%\" x=\"63.5%\" y=\"77.0%\" /><text fill=\"black\" x=\"331.0\" y=\"225.0\">block03</text></svg>"
      ],
      "text/plain": [
       "<planning.planning.State at 0x7fb390515940>"
      ]
     },
     "metadata": {},
     "output_type": "display_data"
    }
   ],
   "source": [
    "print(\"step \" + str(step))\n",
    "display(state_sequence[step])\n",
    "step += 1"
   ]
  },
  {
   "cell_type": "code",
   "execution_count": 21,
   "metadata": {
    "slideshow": {
     "slide_type": "subslide"
    }
   },
   "outputs": [
    {
     "name": "stdout",
     "output_type": "stream",
     "text": [
      "step 1\n"
     ]
    },
    {
     "data": {
      "image/svg+xml": [
       "<svg baseProfile=\"full\" height=\"250\" version=\"1.1\" width=\"500\" xmlns=\"http://www.w3.org/2000/svg\" xmlns:ev=\"http://www.w3.org/2001/xml-events\" xmlns:xlink=\"http://www.w3.org/1999/xlink\"><defs /><line stroke=\"black\" x1=\"5%\" x2=\"95%\" y1=\"95%\" y2=\"95%\" /><line stroke=\"blue\" x1=\"15.0%\" x2=\"15.0%\" y1=\"0%\" y2=\"5%\" /><line stroke=\"blue\" x1=\"5.5%\" x2=\"5.5%\" y1=\"5%\" y2=\"10%\" /><line stroke=\"blue\" x1=\"24.5%\" x2=\"24.5%\" y1=\"5%\" y2=\"10%\" /><line stroke=\"blue\" x1=\"5.5%\" x2=\"24.5%\" y1=\"5%\" y2=\"5%\" /><rect fill=\"white\" height=\"18.0%\" stroke=\"black\" width=\"18.0%\" x=\"6.0%\" y=\"6.5%\" /><text fill=\"black\" x=\"43.5\" y=\"48.75\">block01</text><rect fill=\"white\" height=\"18.0%\" stroke=\"black\" width=\"18.0%\" x=\"18.5%\" y=\"77.0%\" /><text fill=\"black\" x=\"106.0\" y=\"225.0\">block02</text><rect fill=\"white\" height=\"18.0%\" stroke=\"black\" width=\"18.0%\" x=\"63.5%\" y=\"77.0%\" /><text fill=\"black\" x=\"331.0\" y=\"225.0\">block03</text></svg>"
      ],
      "text/plain": [
       "<planning.planning.State at 0x7fb3554ee208>"
      ]
     },
     "metadata": {},
     "output_type": "display_data"
    }
   ],
   "source": [
    "print(\"step \" + str(step))\n",
    "display(state_sequence[step])\n",
    "step += 1"
   ]
  },
  {
   "cell_type": "code",
   "execution_count": 22,
   "metadata": {
    "slideshow": {
     "slide_type": "subslide"
    }
   },
   "outputs": [
    {
     "name": "stdout",
     "output_type": "stream",
     "text": [
      "step 2\n"
     ]
    },
    {
     "data": {
      "image/svg+xml": [
       "<svg baseProfile=\"full\" height=\"250\" version=\"1.1\" width=\"500\" xmlns=\"http://www.w3.org/2000/svg\" xmlns:ev=\"http://www.w3.org/2001/xml-events\" xmlns:xlink=\"http://www.w3.org/1999/xlink\"><defs /><line stroke=\"black\" x1=\"5%\" x2=\"95%\" y1=\"95%\" y2=\"95%\" /><line stroke=\"blue\" x1=\"15.0%\" x2=\"15.0%\" y1=\"0%\" y2=\"5%\" /><line stroke=\"blue\" x1=\"5.5%\" x2=\"5.5%\" y1=\"5%\" y2=\"10%\" /><line stroke=\"blue\" x1=\"24.5%\" x2=\"24.5%\" y1=\"5%\" y2=\"10%\" /><line stroke=\"blue\" x1=\"5.5%\" x2=\"24.5%\" y1=\"5%\" y2=\"5%\" /><rect fill=\"white\" height=\"18.0%\" stroke=\"black\" width=\"18.0%\" x=\"18.5%\" y=\"77.0%\" /><text fill=\"black\" x=\"106.0\" y=\"225.0\">block02</text><rect fill=\"white\" height=\"18.0%\" stroke=\"black\" width=\"18.0%\" x=\"63.5%\" y=\"77.0%\" /><text fill=\"black\" x=\"331.0\" y=\"225.0\">block03</text><rect fill=\"white\" height=\"18.0%\" stroke=\"black\" width=\"18.0%\" x=\"63.5%\" y=\"59.0%\" /><text fill=\"black\" x=\"331.0\" y=\"180.0\">block01</text></svg>"
      ],
      "text/plain": [
       "<planning.planning.State at 0x7fb3554ee2b0>"
      ]
     },
     "metadata": {},
     "output_type": "display_data"
    }
   ],
   "source": [
    "print(\"step \" + str(step))\n",
    "display(state_sequence[step])\n",
    "step += 1"
   ]
  },
  {
   "cell_type": "code",
   "execution_count": 23,
   "metadata": {
    "slideshow": {
     "slide_type": "subslide"
    }
   },
   "outputs": [
    {
     "name": "stdout",
     "output_type": "stream",
     "text": [
      "step 3\n"
     ]
    },
    {
     "data": {
      "image/svg+xml": [
       "<svg baseProfile=\"full\" height=\"250\" version=\"1.1\" width=\"500\" xmlns=\"http://www.w3.org/2000/svg\" xmlns:ev=\"http://www.w3.org/2001/xml-events\" xmlns:xlink=\"http://www.w3.org/1999/xlink\"><defs /><line stroke=\"black\" x1=\"5%\" x2=\"95%\" y1=\"95%\" y2=\"95%\" /><line stroke=\"blue\" x1=\"15.0%\" x2=\"15.0%\" y1=\"0%\" y2=\"5%\" /><line stroke=\"blue\" x1=\"5.5%\" x2=\"5.5%\" y1=\"5%\" y2=\"10%\" /><line stroke=\"blue\" x1=\"24.5%\" x2=\"24.5%\" y1=\"5%\" y2=\"10%\" /><line stroke=\"blue\" x1=\"5.5%\" x2=\"24.5%\" y1=\"5%\" y2=\"5%\" /><rect fill=\"white\" height=\"18.0%\" stroke=\"black\" width=\"18.0%\" x=\"6.0%\" y=\"6.5%\" /><text fill=\"black\" x=\"43.5\" y=\"48.75\">block02</text><rect fill=\"white\" height=\"18.0%\" stroke=\"black\" width=\"18.0%\" x=\"63.5%\" y=\"77.0%\" /><text fill=\"black\" x=\"331.0\" y=\"225.0\">block03</text><rect fill=\"white\" height=\"18.0%\" stroke=\"black\" width=\"18.0%\" x=\"63.5%\" y=\"59.0%\" /><text fill=\"black\" x=\"331.0\" y=\"180.0\">block01</text></svg>"
      ],
      "text/plain": [
       "<planning.planning.State at 0x7fb3554ee400>"
      ]
     },
     "metadata": {},
     "output_type": "display_data"
    }
   ],
   "source": [
    "print(\"step \" + str(step))\n",
    "display(state_sequence[step])\n",
    "step += 1"
   ]
  },
  {
   "cell_type": "code",
   "execution_count": 24,
   "metadata": {
    "slideshow": {
     "slide_type": "subslide"
    }
   },
   "outputs": [
    {
     "name": "stdout",
     "output_type": "stream",
     "text": [
      "step 4\n"
     ]
    },
    {
     "data": {
      "image/svg+xml": [
       "<svg baseProfile=\"full\" height=\"250\" version=\"1.1\" width=\"500\" xmlns=\"http://www.w3.org/2000/svg\" xmlns:ev=\"http://www.w3.org/2001/xml-events\" xmlns:xlink=\"http://www.w3.org/1999/xlink\"><defs /><line stroke=\"black\" x1=\"5%\" x2=\"95%\" y1=\"95%\" y2=\"95%\" /><line stroke=\"blue\" x1=\"15.0%\" x2=\"15.0%\" y1=\"0%\" y2=\"5%\" /><line stroke=\"blue\" x1=\"5.5%\" x2=\"5.5%\" y1=\"5%\" y2=\"10%\" /><line stroke=\"blue\" x1=\"24.5%\" x2=\"24.5%\" y1=\"5%\" y2=\"10%\" /><line stroke=\"blue\" x1=\"5.5%\" x2=\"24.5%\" y1=\"5%\" y2=\"5%\" /><rect fill=\"white\" height=\"18.0%\" stroke=\"black\" width=\"18.0%\" x=\"41.0%\" y=\"77.0%\" /><text fill=\"black\" x=\"218.5\" y=\"225.0\">block02</text><rect fill=\"white\" height=\"18.0%\" stroke=\"black\" width=\"18.0%\" x=\"63.5%\" y=\"77.0%\" /><text fill=\"black\" x=\"331.0\" y=\"225.0\">block03</text><rect fill=\"white\" height=\"18.0%\" stroke=\"black\" width=\"18.0%\" x=\"63.5%\" y=\"59.0%\" /><text fill=\"black\" x=\"331.0\" y=\"180.0\">block01</text></svg>"
      ],
      "text/plain": [
       "<planning.planning.State at 0x7fb3554ee588>"
      ]
     },
     "metadata": {},
     "output_type": "display_data"
    }
   ],
   "source": [
    "print(\"step \" + str(step))\n",
    "display(state_sequence[step])\n",
    "step += 1"
   ]
  },
  {
   "cell_type": "code",
   "execution_count": 25,
   "metadata": {
    "slideshow": {
     "slide_type": "subslide"
    }
   },
   "outputs": [
    {
     "name": "stdout",
     "output_type": "stream",
     "text": [
      "step 5\n"
     ]
    },
    {
     "data": {
      "image/svg+xml": [
       "<svg baseProfile=\"full\" height=\"250\" version=\"1.1\" width=\"500\" xmlns=\"http://www.w3.org/2000/svg\" xmlns:ev=\"http://www.w3.org/2001/xml-events\" xmlns:xlink=\"http://www.w3.org/1999/xlink\"><defs /><line stroke=\"black\" x1=\"5%\" x2=\"95%\" y1=\"95%\" y2=\"95%\" /><line stroke=\"blue\" x1=\"15.0%\" x2=\"15.0%\" y1=\"0%\" y2=\"5%\" /><line stroke=\"blue\" x1=\"5.5%\" x2=\"5.5%\" y1=\"5%\" y2=\"10%\" /><line stroke=\"blue\" x1=\"24.5%\" x2=\"24.5%\" y1=\"5%\" y2=\"10%\" /><line stroke=\"blue\" x1=\"5.5%\" x2=\"24.5%\" y1=\"5%\" y2=\"5%\" /><rect fill=\"white\" height=\"18.0%\" stroke=\"black\" width=\"18.0%\" x=\"6.0%\" y=\"6.5%\" /><text fill=\"black\" x=\"43.5\" y=\"48.75\">block01</text><rect fill=\"white\" height=\"18.0%\" stroke=\"black\" width=\"18.0%\" x=\"41.0%\" y=\"77.0%\" /><text fill=\"black\" x=\"218.5\" y=\"225.0\">block02</text><rect fill=\"white\" height=\"18.0%\" stroke=\"black\" width=\"18.0%\" x=\"63.5%\" y=\"77.0%\" /><text fill=\"black\" x=\"331.0\" y=\"225.0\">block03</text></svg>"
      ],
      "text/plain": [
       "<planning.planning.State at 0x7fb3554ee550>"
      ]
     },
     "metadata": {},
     "output_type": "display_data"
    }
   ],
   "source": [
    "print(\"step \" + str(step))\n",
    "display(state_sequence[step])\n",
    "step += 1"
   ]
  },
  {
   "cell_type": "code",
   "execution_count": 26,
   "metadata": {
    "slideshow": {
     "slide_type": "subslide"
    }
   },
   "outputs": [
    {
     "name": "stdout",
     "output_type": "stream",
     "text": [
      "step 6\n"
     ]
    },
    {
     "data": {
      "image/svg+xml": [
       "<svg baseProfile=\"full\" height=\"250\" version=\"1.1\" width=\"500\" xmlns=\"http://www.w3.org/2000/svg\" xmlns:ev=\"http://www.w3.org/2001/xml-events\" xmlns:xlink=\"http://www.w3.org/1999/xlink\"><defs /><line stroke=\"black\" x1=\"5%\" x2=\"95%\" y1=\"95%\" y2=\"95%\" /><line stroke=\"blue\" x1=\"15.0%\" x2=\"15.0%\" y1=\"0%\" y2=\"5%\" /><line stroke=\"blue\" x1=\"5.5%\" x2=\"5.5%\" y1=\"5%\" y2=\"10%\" /><line stroke=\"blue\" x1=\"24.5%\" x2=\"24.5%\" y1=\"5%\" y2=\"10%\" /><line stroke=\"blue\" x1=\"5.5%\" x2=\"24.5%\" y1=\"5%\" y2=\"5%\" /><rect fill=\"white\" height=\"18.0%\" stroke=\"black\" width=\"18.0%\" x=\"18.5%\" y=\"77.0%\" /><text fill=\"black\" x=\"106.0\" y=\"225.0\">block01</text><rect fill=\"white\" height=\"18.0%\" stroke=\"black\" width=\"18.0%\" x=\"41.0%\" y=\"77.0%\" /><text fill=\"black\" x=\"218.5\" y=\"225.0\">block02</text><rect fill=\"white\" height=\"18.0%\" stroke=\"black\" width=\"18.0%\" x=\"63.5%\" y=\"77.0%\" /><text fill=\"black\" x=\"331.0\" y=\"225.0\">block03</text></svg>"
      ],
      "text/plain": [
       "<planning.planning.State at 0x7fb3554ee780>"
      ]
     },
     "metadata": {},
     "output_type": "display_data"
    }
   ],
   "source": [
    "print(\"step \" + str(step))\n",
    "display(state_sequence[step])\n",
    "step += 1"
   ]
  },
  {
   "cell_type": "markdown",
   "metadata": {
    "slideshow": {
     "slide_type": "slide"
    }
   },
   "source": [
    "## Chosen application domain III - Elevators\n",
    "\n",
    "\n",
    "Let's consider we have a building with several foors and people who want to go from one floor to another one. A lift, starting from one of the floors, has to satisfy all people petitions. The resctrictions are the following:\n",
    "\n",
    "1. The lift can just move one floor each step\n",
    "2. Just one person can get into/outo the lift each step"
   ]
  },
  {
   "cell_type": "markdown",
   "metadata": {
    "slideshow": {
     "slide_type": "slide"
    }
   },
   "source": [
    "## Chosen application domain III - Elevators\n",
    "\n",
    "We have defined the domain in Python and it contains a four operators: \n",
    "\n",
    "1. `board(?f-floor, ?p-passenger)`, which boards the passenger `?p` which is in the floor `?f`.\n",
    "2. `depart(?f-floor, ?p-passenger)`, which departs the passenger `?p` in the floor `?f`. The passenger passes to be served.\n",
    "3. `drive_up(?f1-floor, ?f2-floor)`, the lift goes up from floor `?f1` to floor `?f2`.\n",
    "4. `drive_down(?f1-floor, ?f2-floor)`, the lift goes down from floor `?f1` to floor `?f2`.\n",
    "\n",
    "Our planning framework can take care of static preconditions (no instantiations of operators for the same instance).\n",
    "\n",
    "We have also implemented a problem generator. The generator can create problems for any number of people and floors. "
   ]
  },
  {
   "cell_type": "code",
   "execution_count": 27,
   "metadata": {
    "slideshow": {
     "slide_type": "skip"
    }
   },
   "outputs": [],
   "source": [
    "import planning\n",
    "\n",
    "from IPython.display import display\n",
    "\n",
    "import random\n",
    "\n",
    "random.seed(1)"
   ]
  },
  {
   "cell_type": "code",
   "execution_count": 28,
   "metadata": {
    "scrolled": false,
    "slideshow": {
     "slide_type": "slide"
    }
   },
   "outputs": [
    {
     "name": "stdout",
     "output_type": "stream",
     "text": [
      "Domain: Elevator\n",
      "Types: {'passenger': 'object', 'floor': 'object'}\n",
      "Operators:\n",
      "  - board(?f-floor,?p-passenger):\n",
      "    Pre: lift-at(?f), origin(?p,?f)\n",
      "    Add: boarded(?p)\n",
      "    Delete: \n",
      "  - depart(?f-floor,?p-passenger):\n",
      "    Pre: lift-at(?f), destin(?p,?f), boarded(?p)\n",
      "    Add: served(?p)\n",
      "    Delete: boarded(?p)\n",
      "  - drive_down(?f1-floor,?f2-floor):\n",
      "    Pre: lift-at(?f1), above(?f2,?f1)\n",
      "    Add: lift-at(?f2)\n",
      "    Delete: lift-at(?f1)\n",
      "  - drive_up(?f1-floor,?f2-floor):\n",
      "    Pre: lift-at(?f1), above(?f1,?f2)\n",
      "    Add: lift-at(?f2)\n",
      "    Delete: lift-at(?f1)\n",
      "Applicable actions in 1st state:\n",
      "drive_down(floor4,floor3)\n"
     ]
    }
   ],
   "source": [
    "domain_name = \"Elevator\"\n",
    "domain = planning.domains[domain_name]\n",
    "problem = domain.generate_problem(3, 4)\n",
    "print(domain)\n",
    "\n",
    "print(\"Applicable actions in 1st state:\")\n",
    "print(\"\\n\".join(map(str, filter(problem.init().can_apply, problem.operators()))))"
   ]
  },
  {
   "cell_type": "code",
   "execution_count": 29,
   "metadata": {
    "slideshow": {
     "slide_type": "subslide"
    }
   },
   "outputs": [
    {
     "name": "stdout",
     "output_type": "stream",
     "text": [
      "Init:\n"
     ]
    },
    {
     "data": {
      "image/svg+xml": [
       "<svg baseProfile=\"full\" height=\"220\" version=\"1.1\" width=\"400\" xmlns=\"http://www.w3.org/2000/svg\" xmlns:ev=\"http://www.w3.org/2001/xml-events\" xmlns:xlink=\"http://www.w3.org/1999/xlink\"><defs /><rect fill=\"white\" height=\"90%\" stroke=\"black\" width=\"90%\" x=\"10.0%\" y=\"0.0%\" /><line stroke=\"black\" x1=\"55.0%\" x2=\"55.0%\" y1=\"0%\" y2=\"90%\" /><line stroke=\"black\" x1=\"55%\" x2=\"100%\" y1=\"67.5%\" y2=\"67.5%\" /><circle cx=\"60%\" cy=\"72.5%\" fill=\"black\" r=\"2\" /><text x=\"248.0\" y=\"159.5\">1</text><line stroke=\"black\" x1=\"55%\" x2=\"100%\" y1=\"45.0%\" y2=\"45.0%\" /><circle cx=\"60%\" cy=\"50.0%\" fill=\"black\" r=\"2\" /><text x=\"248.0\" y=\"110.0\">1</text><line stroke=\"black\" x1=\"55%\" x2=\"100%\" y1=\"22.5%\" y2=\"22.5%\" /><circle cx=\"60%\" cy=\"27.5%\" fill=\"black\" r=\"2\" /><text x=\"248.0\" y=\"60.5\">1</text><line stroke=\"black\" x1=\"55%\" x2=\"100%\" y1=\"0.0%\" y2=\"0.0%\" /><circle cx=\"60%\" cy=\"5.0%\" fill=\"black\" r=\"2\" /><text x=\"248.0\" y=\"11.0\">0</text><rect fill=\"white\" height=\"17.5%\" stroke=\"black\" width=\"17.5%\" x=\"21.25%\" y=\"2.5%\" /><circle cx=\"30.0%\" cy=\"11.25%\" fill=\"black\" r=\"2\" /><text x=\"128.0\" y=\"24.75\">0</text></svg>"
      ],
      "text/plain": [
       "<planning.planning.State at 0x7fb356405e48>"
      ]
     },
     "metadata": {},
     "output_type": "display_data"
    }
   ],
   "source": [
    "print(\"Init:\")\n",
    "display(problem.init())"
   ]
  },
  {
   "cell_type": "code",
   "execution_count": 30,
   "metadata": {
    "scrolled": false,
    "slideshow": {
     "slide_type": "subslide"
    }
   },
   "outputs": [
    {
     "name": "stdout",
     "output_type": "stream",
     "text": [
      "[0.043s] Plan found with 12 action(s)\n",
      "#Generated nodes: 126\n",
      "Plan:\n",
      "  drive_down(floor4,floor3)\n",
      "  board(floor3,passenger03)\n",
      "  drive_down(floor3,floor2)\n",
      "  board(floor2,passenger01)\n",
      "  drive_down(floor2,floor1)\n",
      "  board(floor1,passenger02)\n",
      "  depart(floor1,passenger01)\n",
      "  drive_up(floor1,floor2)\n",
      "  drive_up(floor2,floor3)\n",
      "  drive_up(floor3,floor4)\n",
      "  depart(floor4,passenger02)\n",
      "  depart(floor4,passenger03)\n"
     ]
    }
   ],
   "source": [
    "bfs = planning.BreadthFirstSearch(problem, verbose=1, timeout=30.0, node_bound=None)\n",
    "status = bfs()\n",
    "if status == planning.search.FOUND:\n",
    "    plan = bfs.plan()\n",
    "    state_sequence = bfs.state_sequence()\n",
    "    print(\"#Generated nodes: \" + str(bfs.info()[\"generated\"]))\n",
    "    \n",
    "    print(\"Plan:\\n  \" + \"\\n  \".join([str(op) for op in bfs.plan()]))"
   ]
  },
  {
   "cell_type": "code",
   "execution_count": 31,
   "metadata": {
    "slideshow": {
     "slide_type": "skip"
    }
   },
   "outputs": [],
   "source": [
    "step = 0\n",
    "plan_lenght = len(state_sequence)"
   ]
  },
  {
   "cell_type": "code",
   "execution_count": 32,
   "metadata": {
    "slideshow": {
     "slide_type": "subslide"
    }
   },
   "outputs": [
    {
     "name": "stdout",
     "output_type": "stream",
     "text": [
      "step 0\n"
     ]
    },
    {
     "data": {
      "image/svg+xml": [
       "<svg baseProfile=\"full\" height=\"220\" version=\"1.1\" width=\"400\" xmlns=\"http://www.w3.org/2000/svg\" xmlns:ev=\"http://www.w3.org/2001/xml-events\" xmlns:xlink=\"http://www.w3.org/1999/xlink\"><defs /><rect fill=\"white\" height=\"90%\" stroke=\"black\" width=\"90%\" x=\"10.0%\" y=\"0.0%\" /><line stroke=\"black\" x1=\"55.0%\" x2=\"55.0%\" y1=\"0%\" y2=\"90%\" /><line stroke=\"black\" x1=\"55%\" x2=\"100%\" y1=\"67.5%\" y2=\"67.5%\" /><circle cx=\"60%\" cy=\"72.5%\" fill=\"black\" r=\"2\" /><text x=\"248.0\" y=\"159.5\">1</text><line stroke=\"black\" x1=\"55%\" x2=\"100%\" y1=\"45.0%\" y2=\"45.0%\" /><circle cx=\"60%\" cy=\"50.0%\" fill=\"black\" r=\"2\" /><text x=\"248.0\" y=\"110.0\">1</text><line stroke=\"black\" x1=\"55%\" x2=\"100%\" y1=\"22.5%\" y2=\"22.5%\" /><circle cx=\"60%\" cy=\"27.5%\" fill=\"black\" r=\"2\" /><text x=\"248.0\" y=\"60.5\">1</text><line stroke=\"black\" x1=\"55%\" x2=\"100%\" y1=\"0.0%\" y2=\"0.0%\" /><circle cx=\"60%\" cy=\"5.0%\" fill=\"black\" r=\"2\" /><text x=\"248.0\" y=\"11.0\">0</text><rect fill=\"white\" height=\"17.5%\" stroke=\"black\" width=\"17.5%\" x=\"21.25%\" y=\"2.5%\" /><circle cx=\"30.0%\" cy=\"11.25%\" fill=\"black\" r=\"2\" /><text x=\"128.0\" y=\"24.75\">0</text></svg>"
      ],
      "text/plain": [
       "<planning.planning.State at 0x7fb356405e48>"
      ]
     },
     "metadata": {},
     "output_type": "display_data"
    }
   ],
   "source": [
    "print(\"step \" + str(step))\n",
    "display(state_sequence[step])\n",
    "step += 1"
   ]
  },
  {
   "cell_type": "code",
   "execution_count": 33,
   "metadata": {
    "slideshow": {
     "slide_type": "subslide"
    }
   },
   "outputs": [
    {
     "name": "stdout",
     "output_type": "stream",
     "text": [
      "step 1\n"
     ]
    },
    {
     "data": {
      "image/svg+xml": [
       "<svg baseProfile=\"full\" height=\"220\" version=\"1.1\" width=\"400\" xmlns=\"http://www.w3.org/2000/svg\" xmlns:ev=\"http://www.w3.org/2001/xml-events\" xmlns:xlink=\"http://www.w3.org/1999/xlink\"><defs /><rect fill=\"white\" height=\"90%\" stroke=\"black\" width=\"90%\" x=\"10.0%\" y=\"0.0%\" /><line stroke=\"black\" x1=\"55.0%\" x2=\"55.0%\" y1=\"0%\" y2=\"90%\" /><line stroke=\"black\" x1=\"55%\" x2=\"100%\" y1=\"67.5%\" y2=\"67.5%\" /><circle cx=\"60%\" cy=\"72.5%\" fill=\"black\" r=\"2\" /><text x=\"248.0\" y=\"159.5\">1</text><line stroke=\"black\" x1=\"55%\" x2=\"100%\" y1=\"45.0%\" y2=\"45.0%\" /><circle cx=\"60%\" cy=\"50.0%\" fill=\"black\" r=\"2\" /><text x=\"248.0\" y=\"110.0\">1</text><line stroke=\"black\" x1=\"55%\" x2=\"100%\" y1=\"22.5%\" y2=\"22.5%\" /><circle cx=\"60%\" cy=\"27.5%\" fill=\"black\" r=\"2\" /><text x=\"248.0\" y=\"60.5\">1</text><line stroke=\"black\" x1=\"55%\" x2=\"100%\" y1=\"0.0%\" y2=\"0.0%\" /><circle cx=\"60%\" cy=\"5.0%\" fill=\"black\" r=\"2\" /><text x=\"248.0\" y=\"11.0\">0</text><rect fill=\"white\" height=\"17.5%\" stroke=\"black\" width=\"17.5%\" x=\"21.25%\" y=\"25.0%\" /><circle cx=\"30.0%\" cy=\"33.75%\" fill=\"black\" r=\"2\" /><text x=\"128.0\" y=\"74.25\">0</text></svg>"
      ],
      "text/plain": [
       "<planning.planning.State at 0x7fb355507048>"
      ]
     },
     "metadata": {},
     "output_type": "display_data"
    }
   ],
   "source": [
    "print(\"step \" + str(step))\n",
    "display(state_sequence[step])\n",
    "step += 1"
   ]
  },
  {
   "cell_type": "code",
   "execution_count": 34,
   "metadata": {
    "slideshow": {
     "slide_type": "subslide"
    }
   },
   "outputs": [
    {
     "name": "stdout",
     "output_type": "stream",
     "text": [
      "step 2\n"
     ]
    },
    {
     "data": {
      "image/svg+xml": [
       "<svg baseProfile=\"full\" height=\"220\" version=\"1.1\" width=\"400\" xmlns=\"http://www.w3.org/2000/svg\" xmlns:ev=\"http://www.w3.org/2001/xml-events\" xmlns:xlink=\"http://www.w3.org/1999/xlink\"><defs /><rect fill=\"white\" height=\"90%\" stroke=\"black\" width=\"90%\" x=\"10.0%\" y=\"0.0%\" /><line stroke=\"black\" x1=\"55.0%\" x2=\"55.0%\" y1=\"0%\" y2=\"90%\" /><line stroke=\"black\" x1=\"55%\" x2=\"100%\" y1=\"67.5%\" y2=\"67.5%\" /><circle cx=\"60%\" cy=\"72.5%\" fill=\"black\" r=\"2\" /><text x=\"248.0\" y=\"159.5\">1</text><line stroke=\"black\" x1=\"55%\" x2=\"100%\" y1=\"45.0%\" y2=\"45.0%\" /><circle cx=\"60%\" cy=\"50.0%\" fill=\"black\" r=\"2\" /><text x=\"248.0\" y=\"110.0\">1</text><line stroke=\"black\" x1=\"55%\" x2=\"100%\" y1=\"22.5%\" y2=\"22.5%\" /><circle cx=\"60%\" cy=\"27.5%\" fill=\"black\" r=\"2\" /><text x=\"248.0\" y=\"60.5\">0</text><line stroke=\"black\" x1=\"55%\" x2=\"100%\" y1=\"0.0%\" y2=\"0.0%\" /><circle cx=\"60%\" cy=\"5.0%\" fill=\"black\" r=\"2\" /><text x=\"248.0\" y=\"11.0\">0</text><rect fill=\"white\" height=\"17.5%\" stroke=\"black\" width=\"17.5%\" x=\"21.25%\" y=\"25.0%\" /><circle cx=\"30.0%\" cy=\"33.75%\" fill=\"black\" r=\"2\" /><text x=\"128.0\" y=\"74.25\">1</text></svg>"
      ],
      "text/plain": [
       "<planning.planning.State at 0x7fb355507080>"
      ]
     },
     "metadata": {},
     "output_type": "display_data"
    }
   ],
   "source": [
    "print(\"step \" + str(step))\n",
    "display(state_sequence[step])\n",
    "step += 1"
   ]
  },
  {
   "cell_type": "code",
   "execution_count": 35,
   "metadata": {
    "slideshow": {
     "slide_type": "subslide"
    }
   },
   "outputs": [
    {
     "name": "stdout",
     "output_type": "stream",
     "text": [
      "step 3\n"
     ]
    },
    {
     "data": {
      "image/svg+xml": [
       "<svg baseProfile=\"full\" height=\"220\" version=\"1.1\" width=\"400\" xmlns=\"http://www.w3.org/2000/svg\" xmlns:ev=\"http://www.w3.org/2001/xml-events\" xmlns:xlink=\"http://www.w3.org/1999/xlink\"><defs /><rect fill=\"white\" height=\"90%\" stroke=\"black\" width=\"90%\" x=\"10.0%\" y=\"0.0%\" /><line stroke=\"black\" x1=\"55.0%\" x2=\"55.0%\" y1=\"0%\" y2=\"90%\" /><line stroke=\"black\" x1=\"55%\" x2=\"100%\" y1=\"67.5%\" y2=\"67.5%\" /><circle cx=\"60%\" cy=\"72.5%\" fill=\"black\" r=\"2\" /><text x=\"248.0\" y=\"159.5\">1</text><line stroke=\"black\" x1=\"55%\" x2=\"100%\" y1=\"45.0%\" y2=\"45.0%\" /><circle cx=\"60%\" cy=\"50.0%\" fill=\"black\" r=\"2\" /><text x=\"248.0\" y=\"110.0\">1</text><line stroke=\"black\" x1=\"55%\" x2=\"100%\" y1=\"22.5%\" y2=\"22.5%\" /><circle cx=\"60%\" cy=\"27.5%\" fill=\"black\" r=\"2\" /><text x=\"248.0\" y=\"60.5\">0</text><line stroke=\"black\" x1=\"55%\" x2=\"100%\" y1=\"0.0%\" y2=\"0.0%\" /><circle cx=\"60%\" cy=\"5.0%\" fill=\"black\" r=\"2\" /><text x=\"248.0\" y=\"11.0\">0</text><rect fill=\"white\" height=\"17.5%\" stroke=\"black\" width=\"17.5%\" x=\"21.25%\" y=\"47.5%\" /><circle cx=\"30.0%\" cy=\"56.25%\" fill=\"black\" r=\"2\" /><text x=\"128.0\" y=\"123.75\">1</text></svg>"
      ],
      "text/plain": [
       "<planning.planning.State at 0x7fb3555070b8>"
      ]
     },
     "metadata": {},
     "output_type": "display_data"
    }
   ],
   "source": [
    "print(\"step \" + str(step))\n",
    "display(state_sequence[step])\n",
    "step += 1"
   ]
  },
  {
   "cell_type": "code",
   "execution_count": 36,
   "metadata": {
    "slideshow": {
     "slide_type": "subslide"
    }
   },
   "outputs": [
    {
     "name": "stdout",
     "output_type": "stream",
     "text": [
      "step 4\n"
     ]
    },
    {
     "data": {
      "image/svg+xml": [
       "<svg baseProfile=\"full\" height=\"220\" version=\"1.1\" width=\"400\" xmlns=\"http://www.w3.org/2000/svg\" xmlns:ev=\"http://www.w3.org/2001/xml-events\" xmlns:xlink=\"http://www.w3.org/1999/xlink\"><defs /><rect fill=\"white\" height=\"90%\" stroke=\"black\" width=\"90%\" x=\"10.0%\" y=\"0.0%\" /><line stroke=\"black\" x1=\"55.0%\" x2=\"55.0%\" y1=\"0%\" y2=\"90%\" /><line stroke=\"black\" x1=\"55%\" x2=\"100%\" y1=\"67.5%\" y2=\"67.5%\" /><circle cx=\"60%\" cy=\"72.5%\" fill=\"black\" r=\"2\" /><text x=\"248.0\" y=\"159.5\">1</text><line stroke=\"black\" x1=\"55%\" x2=\"100%\" y1=\"45.0%\" y2=\"45.0%\" /><circle cx=\"60%\" cy=\"50.0%\" fill=\"black\" r=\"2\" /><text x=\"248.0\" y=\"110.0\">0</text><line stroke=\"black\" x1=\"55%\" x2=\"100%\" y1=\"22.5%\" y2=\"22.5%\" /><circle cx=\"60%\" cy=\"27.5%\" fill=\"black\" r=\"2\" /><text x=\"248.0\" y=\"60.5\">0</text><line stroke=\"black\" x1=\"55%\" x2=\"100%\" y1=\"0.0%\" y2=\"0.0%\" /><circle cx=\"60%\" cy=\"5.0%\" fill=\"black\" r=\"2\" /><text x=\"248.0\" y=\"11.0\">0</text><rect fill=\"white\" height=\"17.5%\" stroke=\"black\" width=\"17.5%\" x=\"21.25%\" y=\"47.5%\" /><circle cx=\"30.0%\" cy=\"56.25%\" fill=\"black\" r=\"2\" /><text x=\"128.0\" y=\"123.75\">2</text></svg>"
      ],
      "text/plain": [
       "<planning.planning.State at 0x7fb355507160>"
      ]
     },
     "metadata": {},
     "output_type": "display_data"
    }
   ],
   "source": [
    "print(\"step \" + str(step))\n",
    "display(state_sequence[step])\n",
    "step += 1"
   ]
  },
  {
   "cell_type": "code",
   "execution_count": 37,
   "metadata": {
    "slideshow": {
     "slide_type": "subslide"
    }
   },
   "outputs": [
    {
     "name": "stdout",
     "output_type": "stream",
     "text": [
      "step 5\n"
     ]
    },
    {
     "data": {
      "image/svg+xml": [
       "<svg baseProfile=\"full\" height=\"220\" version=\"1.1\" width=\"400\" xmlns=\"http://www.w3.org/2000/svg\" xmlns:ev=\"http://www.w3.org/2001/xml-events\" xmlns:xlink=\"http://www.w3.org/1999/xlink\"><defs /><rect fill=\"white\" height=\"90%\" stroke=\"black\" width=\"90%\" x=\"10.0%\" y=\"0.0%\" /><line stroke=\"black\" x1=\"55.0%\" x2=\"55.0%\" y1=\"0%\" y2=\"90%\" /><line stroke=\"black\" x1=\"55%\" x2=\"100%\" y1=\"67.5%\" y2=\"67.5%\" /><circle cx=\"60%\" cy=\"72.5%\" fill=\"black\" r=\"2\" /><text x=\"248.0\" y=\"159.5\">1</text><line stroke=\"black\" x1=\"55%\" x2=\"100%\" y1=\"45.0%\" y2=\"45.0%\" /><circle cx=\"60%\" cy=\"50.0%\" fill=\"black\" r=\"2\" /><text x=\"248.0\" y=\"110.0\">0</text><line stroke=\"black\" x1=\"55%\" x2=\"100%\" y1=\"22.5%\" y2=\"22.5%\" /><circle cx=\"60%\" cy=\"27.5%\" fill=\"black\" r=\"2\" /><text x=\"248.0\" y=\"60.5\">0</text><line stroke=\"black\" x1=\"55%\" x2=\"100%\" y1=\"0.0%\" y2=\"0.0%\" /><circle cx=\"60%\" cy=\"5.0%\" fill=\"black\" r=\"2\" /><text x=\"248.0\" y=\"11.0\">0</text><rect fill=\"white\" height=\"17.5%\" stroke=\"black\" width=\"17.5%\" x=\"21.25%\" y=\"70.0%\" /><circle cx=\"30.0%\" cy=\"78.75%\" fill=\"black\" r=\"2\" /><text x=\"128.0\" y=\"173.25\">2</text></svg>"
      ],
      "text/plain": [
       "<planning.planning.State at 0x7fb3555072b0>"
      ]
     },
     "metadata": {},
     "output_type": "display_data"
    }
   ],
   "source": [
    "print(\"step \" + str(step))\n",
    "display(state_sequence[step])\n",
    "step += 1"
   ]
  },
  {
   "cell_type": "code",
   "execution_count": 38,
   "metadata": {
    "slideshow": {
     "slide_type": "subslide"
    }
   },
   "outputs": [
    {
     "name": "stdout",
     "output_type": "stream",
     "text": [
      "step 6\n"
     ]
    },
    {
     "data": {
      "image/svg+xml": [
       "<svg baseProfile=\"full\" height=\"220\" version=\"1.1\" width=\"400\" xmlns=\"http://www.w3.org/2000/svg\" xmlns:ev=\"http://www.w3.org/2001/xml-events\" xmlns:xlink=\"http://www.w3.org/1999/xlink\"><defs /><rect fill=\"white\" height=\"90%\" stroke=\"black\" width=\"90%\" x=\"10.0%\" y=\"0.0%\" /><line stroke=\"black\" x1=\"55.0%\" x2=\"55.0%\" y1=\"0%\" y2=\"90%\" /><line stroke=\"black\" x1=\"55%\" x2=\"100%\" y1=\"67.5%\" y2=\"67.5%\" /><circle cx=\"60%\" cy=\"72.5%\" fill=\"black\" r=\"2\" /><text x=\"248.0\" y=\"159.5\">0</text><line stroke=\"black\" x1=\"55%\" x2=\"100%\" y1=\"45.0%\" y2=\"45.0%\" /><circle cx=\"60%\" cy=\"50.0%\" fill=\"black\" r=\"2\" /><text x=\"248.0\" y=\"110.0\">0</text><line stroke=\"black\" x1=\"55%\" x2=\"100%\" y1=\"22.5%\" y2=\"22.5%\" /><circle cx=\"60%\" cy=\"27.5%\" fill=\"black\" r=\"2\" /><text x=\"248.0\" y=\"60.5\">0</text><line stroke=\"black\" x1=\"55%\" x2=\"100%\" y1=\"0.0%\" y2=\"0.0%\" /><circle cx=\"60%\" cy=\"5.0%\" fill=\"black\" r=\"2\" /><text x=\"248.0\" y=\"11.0\">0</text><rect fill=\"white\" height=\"17.5%\" stroke=\"black\" width=\"17.5%\" x=\"21.25%\" y=\"70.0%\" /><circle cx=\"30.0%\" cy=\"78.75%\" fill=\"black\" r=\"2\" /><text x=\"128.0\" y=\"173.25\">3</text></svg>"
      ],
      "text/plain": [
       "<planning.planning.State at 0x7fb355507470>"
      ]
     },
     "metadata": {},
     "output_type": "display_data"
    }
   ],
   "source": [
    "print(\"step \" + str(step))\n",
    "display(state_sequence[step])\n",
    "step += 1"
   ]
  },
  {
   "cell_type": "code",
   "execution_count": 39,
   "metadata": {
    "slideshow": {
     "slide_type": "subslide"
    }
   },
   "outputs": [
    {
     "name": "stdout",
     "output_type": "stream",
     "text": [
      "step 7\n"
     ]
    },
    {
     "data": {
      "image/svg+xml": [
       "<svg baseProfile=\"full\" height=\"220\" version=\"1.1\" width=\"400\" xmlns=\"http://www.w3.org/2000/svg\" xmlns:ev=\"http://www.w3.org/2001/xml-events\" xmlns:xlink=\"http://www.w3.org/1999/xlink\"><defs /><rect fill=\"white\" height=\"90%\" stroke=\"black\" width=\"90%\" x=\"10.0%\" y=\"0.0%\" /><line stroke=\"black\" x1=\"55.0%\" x2=\"55.0%\" y1=\"0%\" y2=\"90%\" /><line stroke=\"black\" x1=\"55%\" x2=\"100%\" y1=\"67.5%\" y2=\"67.5%\" /><circle cx=\"60%\" cy=\"72.5%\" fill=\"black\" r=\"2\" /><text x=\"248.0\" y=\"159.5\">1</text><line stroke=\"black\" x1=\"55%\" x2=\"100%\" y1=\"45.0%\" y2=\"45.0%\" /><circle cx=\"60%\" cy=\"50.0%\" fill=\"black\" r=\"2\" /><text x=\"248.0\" y=\"110.0\">0</text><line stroke=\"black\" x1=\"55%\" x2=\"100%\" y1=\"22.5%\" y2=\"22.5%\" /><circle cx=\"60%\" cy=\"27.5%\" fill=\"black\" r=\"2\" /><text x=\"248.0\" y=\"60.5\">0</text><line stroke=\"black\" x1=\"55%\" x2=\"100%\" y1=\"0.0%\" y2=\"0.0%\" /><circle cx=\"60%\" cy=\"5.0%\" fill=\"black\" r=\"2\" /><text x=\"248.0\" y=\"11.0\">0</text><rect fill=\"white\" height=\"17.5%\" stroke=\"black\" width=\"17.5%\" x=\"21.25%\" y=\"70.0%\" /><circle cx=\"30.0%\" cy=\"78.75%\" fill=\"black\" r=\"2\" /><text x=\"128.0\" y=\"173.25\">2</text></svg>"
      ],
      "text/plain": [
       "<planning.planning.State at 0x7fb3555076a0>"
      ]
     },
     "metadata": {},
     "output_type": "display_data"
    }
   ],
   "source": [
    "print(\"step \" + str(step))\n",
    "display(state_sequence[step])\n",
    "step += 1"
   ]
  },
  {
   "cell_type": "code",
   "execution_count": 40,
   "metadata": {
    "slideshow": {
     "slide_type": "subslide"
    }
   },
   "outputs": [
    {
     "name": "stdout",
     "output_type": "stream",
     "text": [
      "step 8\n"
     ]
    },
    {
     "data": {
      "image/svg+xml": [
       "<svg baseProfile=\"full\" height=\"220\" version=\"1.1\" width=\"400\" xmlns=\"http://www.w3.org/2000/svg\" xmlns:ev=\"http://www.w3.org/2001/xml-events\" xmlns:xlink=\"http://www.w3.org/1999/xlink\"><defs /><rect fill=\"white\" height=\"90%\" stroke=\"black\" width=\"90%\" x=\"10.0%\" y=\"0.0%\" /><line stroke=\"black\" x1=\"55.0%\" x2=\"55.0%\" y1=\"0%\" y2=\"90%\" /><line stroke=\"black\" x1=\"55%\" x2=\"100%\" y1=\"67.5%\" y2=\"67.5%\" /><circle cx=\"60%\" cy=\"72.5%\" fill=\"black\" r=\"2\" /><text x=\"248.0\" y=\"159.5\">1</text><line stroke=\"black\" x1=\"55%\" x2=\"100%\" y1=\"45.0%\" y2=\"45.0%\" /><circle cx=\"60%\" cy=\"50.0%\" fill=\"black\" r=\"2\" /><text x=\"248.0\" y=\"110.0\">0</text><line stroke=\"black\" x1=\"55%\" x2=\"100%\" y1=\"22.5%\" y2=\"22.5%\" /><circle cx=\"60%\" cy=\"27.5%\" fill=\"black\" r=\"2\" /><text x=\"248.0\" y=\"60.5\">0</text><line stroke=\"black\" x1=\"55%\" x2=\"100%\" y1=\"0.0%\" y2=\"0.0%\" /><circle cx=\"60%\" cy=\"5.0%\" fill=\"black\" r=\"2\" /><text x=\"248.0\" y=\"11.0\">0</text><rect fill=\"white\" height=\"17.5%\" stroke=\"black\" width=\"17.5%\" x=\"21.25%\" y=\"47.5%\" /><circle cx=\"30.0%\" cy=\"56.25%\" fill=\"black\" r=\"2\" /><text x=\"128.0\" y=\"123.75\">2</text></svg>"
      ],
      "text/plain": [
       "<planning.planning.State at 0x7fb355507940>"
      ]
     },
     "metadata": {},
     "output_type": "display_data"
    }
   ],
   "source": [
    "print(\"step \" + str(step))\n",
    "display(state_sequence[step])\n",
    "step += 1"
   ]
  },
  {
   "cell_type": "code",
   "execution_count": 41,
   "metadata": {
    "slideshow": {
     "slide_type": "subslide"
    }
   },
   "outputs": [
    {
     "name": "stdout",
     "output_type": "stream",
     "text": [
      "step 9\n"
     ]
    },
    {
     "data": {
      "image/svg+xml": [
       "<svg baseProfile=\"full\" height=\"220\" version=\"1.1\" width=\"400\" xmlns=\"http://www.w3.org/2000/svg\" xmlns:ev=\"http://www.w3.org/2001/xml-events\" xmlns:xlink=\"http://www.w3.org/1999/xlink\"><defs /><rect fill=\"white\" height=\"90%\" stroke=\"black\" width=\"90%\" x=\"10.0%\" y=\"0.0%\" /><line stroke=\"black\" x1=\"55.0%\" x2=\"55.0%\" y1=\"0%\" y2=\"90%\" /><line stroke=\"black\" x1=\"55%\" x2=\"100%\" y1=\"67.5%\" y2=\"67.5%\" /><circle cx=\"60%\" cy=\"72.5%\" fill=\"black\" r=\"2\" /><text x=\"248.0\" y=\"159.5\">1</text><line stroke=\"black\" x1=\"55%\" x2=\"100%\" y1=\"45.0%\" y2=\"45.0%\" /><circle cx=\"60%\" cy=\"50.0%\" fill=\"black\" r=\"2\" /><text x=\"248.0\" y=\"110.0\">0</text><line stroke=\"black\" x1=\"55%\" x2=\"100%\" y1=\"22.5%\" y2=\"22.5%\" /><circle cx=\"60%\" cy=\"27.5%\" fill=\"black\" r=\"2\" /><text x=\"248.0\" y=\"60.5\">0</text><line stroke=\"black\" x1=\"55%\" x2=\"100%\" y1=\"0.0%\" y2=\"0.0%\" /><circle cx=\"60%\" cy=\"5.0%\" fill=\"black\" r=\"2\" /><text x=\"248.0\" y=\"11.0\">0</text><rect fill=\"white\" height=\"17.5%\" stroke=\"black\" width=\"17.5%\" x=\"21.25%\" y=\"25.0%\" /><circle cx=\"30.0%\" cy=\"33.75%\" fill=\"black\" r=\"2\" /><text x=\"128.0\" y=\"74.25\">2</text></svg>"
      ],
      "text/plain": [
       "<planning.planning.State at 0x7fb355508198>"
      ]
     },
     "metadata": {},
     "output_type": "display_data"
    }
   ],
   "source": [
    "print(\"step \" + str(step))\n",
    "display(state_sequence[step])\n",
    "step += 1"
   ]
  },
  {
   "cell_type": "code",
   "execution_count": 42,
   "metadata": {
    "slideshow": {
     "slide_type": "subslide"
    }
   },
   "outputs": [
    {
     "name": "stdout",
     "output_type": "stream",
     "text": [
      "step 10\n"
     ]
    },
    {
     "data": {
      "image/svg+xml": [
       "<svg baseProfile=\"full\" height=\"220\" version=\"1.1\" width=\"400\" xmlns=\"http://www.w3.org/2000/svg\" xmlns:ev=\"http://www.w3.org/2001/xml-events\" xmlns:xlink=\"http://www.w3.org/1999/xlink\"><defs /><rect fill=\"white\" height=\"90%\" stroke=\"black\" width=\"90%\" x=\"10.0%\" y=\"0.0%\" /><line stroke=\"black\" x1=\"55.0%\" x2=\"55.0%\" y1=\"0%\" y2=\"90%\" /><line stroke=\"black\" x1=\"55%\" x2=\"100%\" y1=\"67.5%\" y2=\"67.5%\" /><circle cx=\"60%\" cy=\"72.5%\" fill=\"black\" r=\"2\" /><text x=\"248.0\" y=\"159.5\">1</text><line stroke=\"black\" x1=\"55%\" x2=\"100%\" y1=\"45.0%\" y2=\"45.0%\" /><circle cx=\"60%\" cy=\"50.0%\" fill=\"black\" r=\"2\" /><text x=\"248.0\" y=\"110.0\">0</text><line stroke=\"black\" x1=\"55%\" x2=\"100%\" y1=\"22.5%\" y2=\"22.5%\" /><circle cx=\"60%\" cy=\"27.5%\" fill=\"black\" r=\"2\" /><text x=\"248.0\" y=\"60.5\">0</text><line stroke=\"black\" x1=\"55%\" x2=\"100%\" y1=\"0.0%\" y2=\"0.0%\" /><circle cx=\"60%\" cy=\"5.0%\" fill=\"black\" r=\"2\" /><text x=\"248.0\" y=\"11.0\">0</text><rect fill=\"white\" height=\"17.5%\" stroke=\"black\" width=\"17.5%\" x=\"21.25%\" y=\"2.5%\" /><circle cx=\"30.0%\" cy=\"11.25%\" fill=\"black\" r=\"2\" /><text x=\"128.0\" y=\"24.75\">2</text></svg>"
      ],
      "text/plain": [
       "<planning.planning.State at 0x7fb3555081d0>"
      ]
     },
     "metadata": {},
     "output_type": "display_data"
    }
   ],
   "source": [
    "print(\"step \" + str(step))\n",
    "display(state_sequence[step])\n",
    "step += 1"
   ]
  },
  {
   "cell_type": "code",
   "execution_count": 43,
   "metadata": {
    "slideshow": {
     "slide_type": "subslide"
    }
   },
   "outputs": [
    {
     "name": "stdout",
     "output_type": "stream",
     "text": [
      "step 11\n"
     ]
    },
    {
     "data": {
      "image/svg+xml": [
       "<svg baseProfile=\"full\" height=\"220\" version=\"1.1\" width=\"400\" xmlns=\"http://www.w3.org/2000/svg\" xmlns:ev=\"http://www.w3.org/2001/xml-events\" xmlns:xlink=\"http://www.w3.org/1999/xlink\"><defs /><rect fill=\"white\" height=\"90%\" stroke=\"black\" width=\"90%\" x=\"10.0%\" y=\"0.0%\" /><line stroke=\"black\" x1=\"55.0%\" x2=\"55.0%\" y1=\"0%\" y2=\"90%\" /><line stroke=\"black\" x1=\"55%\" x2=\"100%\" y1=\"67.5%\" y2=\"67.5%\" /><circle cx=\"60%\" cy=\"72.5%\" fill=\"black\" r=\"2\" /><text x=\"248.0\" y=\"159.5\">1</text><line stroke=\"black\" x1=\"55%\" x2=\"100%\" y1=\"45.0%\" y2=\"45.0%\" /><circle cx=\"60%\" cy=\"50.0%\" fill=\"black\" r=\"2\" /><text x=\"248.0\" y=\"110.0\">0</text><line stroke=\"black\" x1=\"55%\" x2=\"100%\" y1=\"22.5%\" y2=\"22.5%\" /><circle cx=\"60%\" cy=\"27.5%\" fill=\"black\" r=\"2\" /><text x=\"248.0\" y=\"60.5\">0</text><line stroke=\"black\" x1=\"55%\" x2=\"100%\" y1=\"0.0%\" y2=\"0.0%\" /><circle cx=\"60%\" cy=\"5.0%\" fill=\"black\" r=\"2\" /><text x=\"248.0\" y=\"11.0\">1</text><rect fill=\"white\" height=\"17.5%\" stroke=\"black\" width=\"17.5%\" x=\"21.25%\" y=\"2.5%\" /><circle cx=\"30.0%\" cy=\"11.25%\" fill=\"black\" r=\"2\" /><text x=\"128.0\" y=\"24.75\">1</text></svg>"
      ],
      "text/plain": [
       "<planning.planning.State at 0x7fb355508710>"
      ]
     },
     "metadata": {},
     "output_type": "display_data"
    }
   ],
   "source": [
    "print(\"step \" + str(step))\n",
    "display(state_sequence[step])\n",
    "step += 1"
   ]
  },
  {
   "cell_type": "code",
   "execution_count": 44,
   "metadata": {
    "slideshow": {
     "slide_type": "subslide"
    }
   },
   "outputs": [
    {
     "name": "stdout",
     "output_type": "stream",
     "text": [
      "step 12\n"
     ]
    },
    {
     "data": {
      "image/svg+xml": [
       "<svg baseProfile=\"full\" height=\"220\" version=\"1.1\" width=\"400\" xmlns=\"http://www.w3.org/2000/svg\" xmlns:ev=\"http://www.w3.org/2001/xml-events\" xmlns:xlink=\"http://www.w3.org/1999/xlink\"><defs /><rect fill=\"white\" height=\"90%\" stroke=\"black\" width=\"90%\" x=\"10.0%\" y=\"0.0%\" /><line stroke=\"black\" x1=\"55.0%\" x2=\"55.0%\" y1=\"0%\" y2=\"90%\" /><line stroke=\"black\" x1=\"55%\" x2=\"100%\" y1=\"67.5%\" y2=\"67.5%\" /><circle cx=\"60%\" cy=\"72.5%\" fill=\"black\" r=\"2\" /><text x=\"248.0\" y=\"159.5\">1</text><line stroke=\"black\" x1=\"55%\" x2=\"100%\" y1=\"45.0%\" y2=\"45.0%\" /><circle cx=\"60%\" cy=\"50.0%\" fill=\"black\" r=\"2\" /><text x=\"248.0\" y=\"110.0\">0</text><line stroke=\"black\" x1=\"55%\" x2=\"100%\" y1=\"22.5%\" y2=\"22.5%\" /><circle cx=\"60%\" cy=\"27.5%\" fill=\"black\" r=\"2\" /><text x=\"248.0\" y=\"60.5\">0</text><line stroke=\"black\" x1=\"55%\" x2=\"100%\" y1=\"0.0%\" y2=\"0.0%\" /><circle cx=\"60%\" cy=\"5.0%\" fill=\"black\" r=\"2\" /><text x=\"248.0\" y=\"11.0\">2</text><rect fill=\"white\" height=\"17.5%\" stroke=\"black\" width=\"17.5%\" x=\"21.25%\" y=\"2.5%\" /><circle cx=\"30.0%\" cy=\"11.25%\" fill=\"black\" r=\"2\" /><text x=\"128.0\" y=\"24.75\">0</text></svg>"
      ],
      "text/plain": [
       "<planning.planning.State at 0x7fb355507fd0>"
      ]
     },
     "metadata": {},
     "output_type": "display_data"
    }
   ],
   "source": [
    "print(\"step \" + str(step))\n",
    "display(state_sequence[step])\n",
    "step += 1"
   ]
  },
  {
   "cell_type": "markdown",
   "metadata": {
    "slideshow": {
     "slide_type": "slide"
    }
   },
   "source": [
    "## Requirements: Users's perspective\n",
    "\n",
    "Our system, **general** as it is, can be used in any sort of application in which is interesting the use of a planning system. In **any domain** in which a user has a problem which can be solved with planning techniques, our project is useful. Requirements will depend on the **specific use application**.\n",
    "\n",
    "Target users (specialised people):\n",
    "\n",
    "- Researchers\n",
    "- Designers and developers from priver companies\n",
    "\n",
    "Possible domains: robotics, industrial organization, assembly lines or applications related to the use of satellites."
   ]
  },
  {
   "cell_type": "markdown",
   "metadata": {
    "slideshow": {
     "slide_type": "slide"
    }
   },
   "source": [
    "## Requirements: Technical view\n",
    "\n",
    "Our system is pretty general so we do not have specific requirements like maximum response time.\n",
    "\n",
    "When designing our system we tried to address the following specific requirements:\n",
    "\n",
    "1. The system should be **faster** than a conventional planner and expand **less nodes** when searching the solution.\n",
    "\n",
    "2. The computed **heuristic** should be as **precise** as possible. \n",
    "\n",
    "3. The CBR system was thought to start learning with **simple problems** of the specific domain and continue doing so with **more difficult** and specific problems."
   ]
  },
  {
   "cell_type": "markdown",
   "metadata": {
    "slideshow": {
     "slide_type": "slide"
    }
   },
   "source": [
    "## Functional Architecture of the CBR engine Project\n",
    "\n",
    "In this project we have designed a system of general purpose, so that the functional architecture is quite simple to be used. Just four different entities take part in our Functional Architecture: \n",
    "\n",
    "\n",
    "<img src='report_figures/functional_architecture.png'>\n"
   ]
  },
  {
   "cell_type": "markdown",
   "metadata": {
    "slideshow": {
     "slide_type": "slide"
    }
   },
   "source": [
    "## Case Structure and Case Library Structure designed\n",
    "\n",
    "Case Structure as a vector of Heuristics.\n",
    "\n",
    "- Additive (add)\n",
    "\n",
    "- Additive CEGAR (cegar) \n",
    "\n",
    "- Causal Graph (cg)\n",
    "\n",
    "- Canonical PDB (cpdbs)\n",
    "\n",
    "- FF (ff)\n",
    "\n",
    "- Global Count (globalcount)\n",
    "\n",
    "- Max Heuristic (hmax)\n",
    "\n",
    "- Landmark Cut (lmcut)\n",
    "\n",
    "\n",
    "Regarding the **Case Library Structure**, we have used *k-d tree*, which is useful for recover the sublinear time in the most similar cases, in our case, the vector of heuristics. The value of 'k' corresponds to the number of heuristics we use, eitght."
   ]
  },
  {
   "cell_type": "markdown",
   "metadata": {
    "slideshow": {
     "slide_type": "slide"
    }
   },
   "source": [
    "## Methods of every CBR cycle step\n",
    "\n",
    "- **Retrieve:** K-Nearest Neighbors (KNN) algorithm. \n",
    "\n",
    "- **Reuse (Adaptation):** In our case we do not adapt the retrieved solution, of course, a more intelligent behaviour should be implemented in future work.\n",
    "\n",
    "- **Revise:** We compare our solution to the solution given by the A* algorithm in the case of using just one heuristic, the additive. \n",
    "\n",
    "- **Retain (Learning):** All generated plans are learned."
   ]
  },
  {
   "cell_type": "markdown",
   "metadata": {
    "slideshow": {
     "slide_type": "slide"
    }
   },
   "source": [
    "## Testing\n",
    "\n",
    "- Generation of several simple random problems for each domain (1000). \n",
    "- Solving each problem with a search algorithm that is guaranteed to solve the problem optimally. \n",
    "- Storing the heuristics computed by Fast Downward in a matrix (input attributes) and the length of the plan in a vector (output target). \n",
    "- Training/testing split and feed a KNN regressor with the train data. \n",
    "- Computing error on the test:\n",
    "    * The RMS (Root Mean Square) error between the predictions and the targets\n",
    "    * The ranking error. This is, we check all the pairs of test examples and see whether the order induced by the target differs from the order induced by the prediction."
   ]
  },
  {
   "cell_type": "markdown",
   "metadata": {
    "slideshow": {
     "slide_type": "slide"
    }
   },
   "source": [
    "## Results I\n",
    "\n",
    "<img src='report_figures/Elevator_Results.png'>"
   ]
  },
  {
   "cell_type": "markdown",
   "metadata": {
    "slideshow": {
     "slide_type": "slide"
    }
   },
   "source": [
    "## Results II\n",
    "\n",
    "We have computed the error of the KNN regressor and represented it in the following table:\n",
    "\n",
    "| Domain    | RMS error | Ranking error (KNN) | Ranking error ($h_{add}$) |\n",
    "|----------:|----------:|--------------------:|----------------------------:|\n",
    "| Hanoi     |      0.85 |               5.57% |                      13.73% |\n",
    "| Blocks    |      1.00 |               2.00% |                      14.42% |\n",
    "| Elevators |      0.70 |               3.62% |                       9.31% |"
   ]
  },
  {
   "cell_type": "markdown",
   "metadata": {
    "slideshow": {
     "slide_type": "slide"
    }
   },
   "source": [
    "## Conclusions\n",
    "\n",
    "- A KNN armed with a reasonably big training data set seems quite capable of obtaining a low regression error.\n",
    "\n",
    "- Achieving a low RMS alone is not a strong enough guarantee for outperforming classical heuristic search in terms of expanded nodes. \n",
    "\n",
    "- No obvious way to optimize the induced order instead of the absolute value. This is a matter of further research."
   ]
  },
  {
   "cell_type": "markdown",
   "metadata": {
    "slideshow": {
     "slide_type": "slide"
    }
   },
   "source": [
    "## Future Work"
   ]
  },
  {
   "cell_type": "code",
   "execution_count": 45,
   "metadata": {
    "slideshow": {
     "slide_type": "fragment"
    }
   },
   "outputs": [
    {
     "data": {
      "image/svg+xml": [
       "<?xml version=\"1.0\" encoding=\"UTF-8\" standalone=\"no\"?>\n",
       "<!DOCTYPE svg PUBLIC \"-//W3C//DTD SVG 1.1//EN\"\n",
       " \"http://www.w3.org/Graphics/SVG/1.1/DTD/svg11.dtd\">\n",
       "<!-- Generated by graphviz version 2.38.0 (20140413.2041)\n",
       " -->\n",
       "<!-- Title: %3 Pages: 1 -->\n",
       "<svg width=\"464pt\" height=\"447pt\"\n",
       " viewBox=\"0.00 0.00 464.26 447.00\" xmlns=\"http://www.w3.org/2000/svg\" xmlns:xlink=\"http://www.w3.org/1999/xlink\">\n",
       "<g id=\"graph0\" class=\"graph\" transform=\"scale(1 1) rotate(0) translate(4 443)\">\n",
       "<title>%3</title>\n",
       "<polygon fill=\"white\" stroke=\"none\" points=\"-4,4 -4,-443 460.256,-443 460.256,4 -4,4\"/>\n",
       "<g id=\"clust1\" class=\"cluster\"><title>cluster&#45;0</title>\n",
       "<polygon fill=\"none\" stroke=\"black\" points=\"224,-8 224,-431 446,-431 446,-8 224,-8\"/>\n",
       "<text text-anchor=\"middle\" x=\"335\" y=\"-415.8\" font-family=\"Times,serif\" font-size=\"14.00\">Source graph</text>\n",
       "</g>\n",
       "<g id=\"clust3\" class=\"cluster\"><title>cluster&#45;1</title>\n",
       "<polygon fill=\"none\" stroke=\"black\" points=\"8,-8 8,-431 216,-431 216,-8 8,-8\"/>\n",
       "<text text-anchor=\"middle\" x=\"112\" y=\"-415.8\" font-family=\"Times,serif\" font-size=\"14.00\">Target graph</text>\n",
       "</g>\n",
       "<!-- c -->\n",
       "<g id=\"node1\" class=\"node\"><title>c</title>\n",
       "<polygon fill=\"none\" stroke=\"black\" points=\"438.07,-208 411.035,-226 356.965,-226 329.93,-208 356.965,-190 411.035,-190 438.07,-208\"/>\n",
       "<text text-anchor=\"middle\" x=\"384\" y=\"-204.3\" font-family=\"Times,serif\" font-size=\"14.00\">c: I, beam</text>\n",
       "</g>\n",
       "<!-- f -->\n",
       "<g id=\"node5\" class=\"node\"><title>f</title>\n",
       "<polygon fill=\"none\" stroke=\"black\" points=\"347.051,-34 327.525,-52 288.475,-52 268.949,-34 288.475,-16 327.525,-16 347.051,-34\"/>\n",
       "<text text-anchor=\"middle\" x=\"308\" y=\"-30.3\" font-family=\"Times,serif\" font-size=\"14.00\">f: wall</text>\n",
       "</g>\n",
       "<!-- c&#45;&gt;f -->\n",
       "<g id=\"edge7\" class=\"edge\"><title>c&#45;&gt;f</title>\n",
       "<path fill=\"none\" stroke=\"black\" d=\"M354.962,-190.929C336.915,-179.163 315.261,-161.37 305,-139 293.869,-114.732 296.592,-83.8162 300.881,-62.0204\"/>\n",
       "<polygon fill=\"black\" stroke=\"black\" points=\"304.329,-62.6408 303.059,-52.1223 297.492,-61.1365 304.329,-62.6408\"/>\n",
       "<text text-anchor=\"middle\" x=\"312\" y=\"-117.3\" font-family=\"Times,serif\" font-size=\"14.00\">on</text>\n",
       "</g>\n",
       "<!-- d -->\n",
       "<g id=\"node6\" class=\"node\"><title>d</title>\n",
       "<polygon fill=\"none\" stroke=\"black\" points=\"437.572,-121 410.286,-139 355.714,-139 328.428,-121 355.714,-103 410.286,-103 437.572,-121\"/>\n",
       "<text text-anchor=\"middle\" x=\"383\" y=\"-117.3\" font-family=\"Times,serif\" font-size=\"14.00\">d: I, beam</text>\n",
       "</g>\n",
       "<!-- c&#45;&gt;d -->\n",
       "<g id=\"edge2\" class=\"edge\"><title>c&#45;&gt;d</title>\n",
       "<path fill=\"none\" stroke=\"black\" d=\"M383.798,-189.799C383.661,-178.163 383.477,-162.548 383.32,-149.237\"/>\n",
       "<polygon fill=\"black\" stroke=\"black\" points=\"386.82,-149.134 383.202,-139.175 379.82,-149.216 386.82,-149.134\"/>\n",
       "<text text-anchor=\"middle\" x=\"403.5\" y=\"-160.8\" font-family=\"Times,serif\" font-size=\"14.00\">next_to</text>\n",
       "</g>\n",
       "<!-- 3 -->\n",
       "<g id=\"node9\" class=\"node\"><title>3</title>\n",
       "<ellipse fill=\"#cccccc\" stroke=\"black\" cx=\"87\" cy=\"-208\" rx=\"50.8918\" ry=\"18\"/>\n",
       "<text text-anchor=\"middle\" x=\"87\" y=\"-204.3\" font-family=\"Times,serif\" font-size=\"14.00\">3: U, beam</text>\n",
       "</g>\n",
       "<!-- c&#45;&gt;3 -->\n",
       "<g id=\"edge15\" class=\"edge\"><title>c&#45;&gt;3</title>\n",
       "<path fill=\"none\" stroke=\"black\" stroke-dasharray=\"5,2\" d=\"M361.188,-226.213C347.726,-235.777 329.867,-246.522 312,-251.5 255.914,-267.127 237.86,-264.019 181,-251.5 156.589,-246.126 130.975,-233.763 112.66,-223.585\"/>\n",
       "</g>\n",
       "<!-- a -->\n",
       "<g id=\"node2\" class=\"node\"><title>a</title>\n",
       "<polygon fill=\"none\" stroke=\"black\" points=\"361.07,-382 334.035,-400 279.965,-400 252.93,-382 279.965,-364 334.035,-364 361.07,-382\"/>\n",
       "<text text-anchor=\"middle\" x=\"307\" y=\"-378.3\" font-family=\"Times,serif\" font-size=\"14.00\">a: I, beam</text>\n",
       "</g>\n",
       "<!-- e -->\n",
       "<g id=\"node3\" class=\"node\"><title>e</title>\n",
       "<polygon fill=\"none\" stroke=\"black\" points=\"311.553,-208 291.777,-226 252.223,-226 232.447,-208 252.223,-190 291.777,-190 311.553,-208\"/>\n",
       "<text text-anchor=\"middle\" x=\"272\" y=\"-204.3\" font-family=\"Times,serif\" font-size=\"14.00\">e: wall</text>\n",
       "</g>\n",
       "<!-- a&#45;&gt;e -->\n",
       "<g id=\"edge6\" class=\"edge\"><title>a&#45;&gt;e</title>\n",
       "<path fill=\"none\" stroke=\"black\" d=\"M298.888,-363.808C292.899,-350.305 285.102,-330.862 281,-313 275.127,-287.43 273.018,-257.522 272.295,-236.359\"/>\n",
       "<polygon fill=\"black\" stroke=\"black\" points=\"275.788,-236.064 272.03,-226.159 268.791,-236.246 275.788,-236.064\"/>\n",
       "<text text-anchor=\"middle\" x=\"288\" y=\"-291.3\" font-family=\"Times,serif\" font-size=\"14.00\">on</text>\n",
       "</g>\n",
       "<!-- b -->\n",
       "<g id=\"node4\" class=\"node\"><title>b</title>\n",
       "<polygon fill=\"none\" stroke=\"black\" points=\"413.572,-295 386.286,-313 331.714,-313 304.428,-295 331.714,-277 386.286,-277 413.572,-295\"/>\n",
       "<text text-anchor=\"middle\" x=\"359\" y=\"-291.3\" font-family=\"Times,serif\" font-size=\"14.00\">b: I, beam</text>\n",
       "</g>\n",
       "<!-- a&#45;&gt;b -->\n",
       "<g id=\"edge1\" class=\"edge\"><title>a&#45;&gt;b</title>\n",
       "<path fill=\"none\" stroke=\"black\" d=\"M317.523,-363.799C324.853,-351.817 334.764,-335.617 343.059,-322.057\"/>\n",
       "<polygon fill=\"black\" stroke=\"black\" points=\"346.26,-323.532 348.493,-313.175 340.288,-319.879 346.26,-323.532\"/>\n",
       "<text text-anchor=\"middle\" x=\"356.5\" y=\"-334.8\" font-family=\"Times,serif\" font-size=\"14.00\">next_to</text>\n",
       "</g>\n",
       "<!-- 1 -->\n",
       "<g id=\"node7\" class=\"node\"><title>1</title>\n",
       "<ellipse fill=\"#cccccc\" stroke=\"black\" cx=\"148\" cy=\"-382\" rx=\"50.8918\" ry=\"18\"/>\n",
       "<text text-anchor=\"middle\" x=\"148\" y=\"-378.3\" font-family=\"Times,serif\" font-size=\"14.00\">1: U, beam</text>\n",
       "</g>\n",
       "<!-- a&#45;&gt;1 -->\n",
       "<g id=\"edge16\" class=\"edge\"><title>a&#45;&gt;1</title>\n",
       "<path fill=\"none\" stroke=\"black\" stroke-dasharray=\"5,2\" d=\"M252.543,-382C234.672,-382 216.801,-382 198.93,-382\"/>\n",
       "</g>\n",
       "<!-- 5 -->\n",
       "<g id=\"node11\" class=\"node\"><title>5</title>\n",
       "<ellipse fill=\"#cccccc\" stroke=\"black\" cx=\"163\" cy=\"-34\" rx=\"35.194\" ry=\"18\"/>\n",
       "<text text-anchor=\"middle\" x=\"163\" y=\"-30.3\" font-family=\"Times,serif\" font-size=\"14.00\">5: wall</text>\n",
       "</g>\n",
       "<!-- e&#45;&gt;5 -->\n",
       "<g id=\"edge17\" class=\"edge\"><title>e&#45;&gt;5</title>\n",
       "<path fill=\"none\" stroke=\"black\" stroke-dasharray=\"5,2\" d=\"M299.224,-196.65C306.248,-194.23 313.847,-191.829 321,-190 367.721,-178.055 388.405,-199.528 428,-172 454.116,-153.843 464.691,-129.435 447,-103 389.489,-17.0649 321.221,-73.1351 220,-52 210.7,-50.0582 200.723,-47.3165 191.756,-44.6006\"/>\n",
       "</g>\n",
       "<!-- b&#45;&gt;c -->\n",
       "<g id=\"edge3\" class=\"edge\"><title>b&#45;&gt;c</title>\n",
       "<path fill=\"none\" stroke=\"black\" d=\"M364.059,-276.799C367.515,-265.047 372.165,-249.238 376.105,-235.842\"/>\n",
       "<polygon fill=\"black\" stroke=\"black\" points=\"379.484,-236.757 378.948,-226.175 372.769,-234.781 379.484,-236.757\"/>\n",
       "<text text-anchor=\"middle\" x=\"392.5\" y=\"-247.8\" font-family=\"Times,serif\" font-size=\"14.00\">next_to</text>\n",
       "</g>\n",
       "<!-- b&#45;&gt;e -->\n",
       "<g id=\"edge5\" class=\"edge\"><title>b&#45;&gt;e</title>\n",
       "<path fill=\"none\" stroke=\"black\" d=\"M341.394,-276.799C328.659,-264.356 311.267,-247.364 297.081,-233.504\"/>\n",
       "<polygon fill=\"black\" stroke=\"black\" points=\"299.178,-230.66 289.58,-226.175 294.286,-235.667 299.178,-230.66\"/>\n",
       "<text text-anchor=\"middle\" x=\"327\" y=\"-247.8\" font-family=\"Times,serif\" font-size=\"14.00\">on</text>\n",
       "</g>\n",
       "<!-- 2 -->\n",
       "<g id=\"node8\" class=\"node\"><title>2</title>\n",
       "<ellipse fill=\"#cccccc\" stroke=\"black\" cx=\"124\" cy=\"-295\" rx=\"50.8918\" ry=\"18\"/>\n",
       "<text text-anchor=\"middle\" x=\"124\" y=\"-291.3\" font-family=\"Times,serif\" font-size=\"14.00\">2: U, beam</text>\n",
       "</g>\n",
       "<!-- b&#45;&gt;2 -->\n",
       "<g id=\"edge18\" class=\"edge\"><title>b&#45;&gt;2</title>\n",
       "<path fill=\"none\" stroke=\"black\" stroke-dasharray=\"5,2\" d=\"M334.406,-313.004C319.708,-322.631 300.208,-333.506 281,-338.5 234.601,-350.563 180.818,-327.582 149.769,-310.675\"/>\n",
       "</g>\n",
       "<!-- f&#45;&gt;5 -->\n",
       "<g id=\"edge19\" class=\"edge\"><title>f&#45;&gt;5</title>\n",
       "<path fill=\"none\" stroke=\"black\" stroke-dasharray=\"5,2\" d=\"M268.94,-34C245.332,-34 221.725,-34 198.117,-34\"/>\n",
       "</g>\n",
       "<!-- d&#45;&gt;f -->\n",
       "<g id=\"edge4\" class=\"edge\"><title>d&#45;&gt;f</title>\n",
       "<path fill=\"none\" stroke=\"black\" d=\"M367.823,-102.799C356.945,-90.4713 342.128,-73.6787 329.962,-59.8902\"/>\n",
       "<polygon fill=\"black\" stroke=\"black\" points=\"332.395,-57.3582 323.155,-52.1754 327.147,-61.9895 332.395,-57.3582\"/>\n",
       "<text text-anchor=\"middle\" x=\"356\" y=\"-73.8\" font-family=\"Times,serif\" font-size=\"14.00\">on</text>\n",
       "</g>\n",
       "<!-- 4 -->\n",
       "<g id=\"node10\" class=\"node\"><title>4</title>\n",
       "<ellipse fill=\"#cccccc\" stroke=\"black\" cx=\"67\" cy=\"-121\" rx=\"50.8918\" ry=\"18\"/>\n",
       "<text text-anchor=\"middle\" x=\"67\" y=\"-117.3\" font-family=\"Times,serif\" font-size=\"14.00\">4: U, beam</text>\n",
       "</g>\n",
       "<!-- d&#45;&gt;4 -->\n",
       "<g id=\"edge20\" class=\"edge\"><title>d&#45;&gt;4</title>\n",
       "<path fill=\"none\" stroke=\"black\" stroke-dasharray=\"5,2\" d=\"M358.406,-139.004C343.708,-148.631 324.208,-159.506 305,-164.5 234.456,-182.841 211.331,-183.641 141,-164.5 121.588,-159.217 102.07,-147.409 87.9575,-137.427\"/>\n",
       "</g>\n",
       "<!-- 1&#45;&gt;2 -->\n",
       "<g id=\"edge8\" class=\"edge\"><title>1&#45;&gt;2</title>\n",
       "<path fill=\"none\" stroke=\"black\" d=\"M143.143,-363.799C139.825,-352.047 135.361,-336.238 131.579,-322.842\"/>\n",
       "<polygon fill=\"black\" stroke=\"black\" points=\"134.935,-321.848 128.85,-313.175 128.199,-323.75 134.935,-321.848\"/>\n",
       "<text text-anchor=\"middle\" x=\"158.5\" y=\"-334.8\" font-family=\"Times,serif\" font-size=\"14.00\">next_to</text>\n",
       "</g>\n",
       "<!-- 1&#45;&gt;5 -->\n",
       "<g id=\"edge9\" class=\"edge\"><title>1&#45;&gt;5</title>\n",
       "<path fill=\"none\" stroke=\"black\" d=\"M168.758,-365.217C174.389,-359.787 179.808,-353.233 183,-346 216.95,-269.084 198.635,-240.728 191,-157 187.43,-117.847 184.958,-108.033 175,-70 174.268,-67.2036 173.422,-64.3089 172.526,-61.4368\"/>\n",
       "<polygon fill=\"black\" stroke=\"black\" points=\"175.844,-60.3236 169.373,-51.9349 169.2,-62.5283 175.844,-60.3236\"/>\n",
       "<text text-anchor=\"middle\" x=\"207\" y=\"-204.3\" font-family=\"Times,serif\" font-size=\"14.00\">on</text>\n",
       "</g>\n",
       "<!-- 2&#45;&gt;3 -->\n",
       "<g id=\"edge10\" class=\"edge\"><title>2&#45;&gt;3</title>\n",
       "<path fill=\"none\" stroke=\"black\" d=\"M116.512,-276.799C111.313,-264.854 104.289,-248.717 98.3973,-235.183\"/>\n",
       "<polygon fill=\"black\" stroke=\"black\" points=\"101.551,-233.657 94.3501,-225.885 95.1322,-236.451 101.551,-233.657\"/>\n",
       "<text text-anchor=\"middle\" x=\"128.5\" y=\"-247.8\" font-family=\"Times,serif\" font-size=\"14.00\">next_to</text>\n",
       "</g>\n",
       "<!-- 2&#45;&gt;5 -->\n",
       "<g id=\"edge12\" class=\"edge\"><title>2&#45;&gt;5</title>\n",
       "<path fill=\"none\" stroke=\"black\" d=\"M139.962,-277.758C144.554,-272.218 149.099,-265.715 152,-259 180.466,-193.097 173.635,-105.932 167.584,-62.3156\"/>\n",
       "<polygon fill=\"black\" stroke=\"black\" points=\"171.013,-61.5827 166.084,-52.2044 164.089,-62.6097 171.013,-61.5827\"/>\n",
       "<text text-anchor=\"middle\" x=\"180\" y=\"-160.8\" font-family=\"Times,serif\" font-size=\"14.00\">on</text>\n",
       "</g>\n",
       "<!-- 3&#45;&gt;4 -->\n",
       "<g id=\"edge13\" class=\"edge\"><title>3&#45;&gt;4</title>\n",
       "<path fill=\"none\" stroke=\"black\" d=\"M82.9527,-189.799C80.2147,-178.163 76.5407,-162.548 73.4087,-149.237\"/>\n",
       "<polygon fill=\"black\" stroke=\"black\" points=\"76.7387,-148.108 71.0413,-139.175 69.9248,-149.711 76.7387,-148.108\"/>\n",
       "<text text-anchor=\"middle\" x=\"99.5\" y=\"-160.8\" font-family=\"Times,serif\" font-size=\"14.00\">next_to</text>\n",
       "</g>\n",
       "<!-- 3&#45;&gt;5 -->\n",
       "<g id=\"edge14\" class=\"edge\"><title>3&#45;&gt;5</title>\n",
       "<path fill=\"none\" stroke=\"black\" d=\"M107.519,-191.229C113.556,-185.713 119.689,-179.106 124,-172 144.926,-137.503 155.02,-91.3298 159.589,-62.3762\"/>\n",
       "<polygon fill=\"black\" stroke=\"black\" points=\"163.096,-62.5842 161.081,-52.1827 156.169,-61.5705 163.096,-62.5842\"/>\n",
       "<text text-anchor=\"middle\" x=\"158\" y=\"-117.3\" font-family=\"Times,serif\" font-size=\"14.00\">on</text>\n",
       "</g>\n",
       "<!-- 4&#45;&gt;5 -->\n",
       "<g id=\"edge11\" class=\"edge\"><title>4&#45;&gt;5</title>\n",
       "<path fill=\"none\" stroke=\"black\" d=\"M85.0569,-104.012C100.087,-90.7046 121.638,-71.6229 138.271,-56.8957\"/>\n",
       "<polygon fill=\"black\" stroke=\"black\" points=\"140.824,-59.3097 145.991,-50.0602 136.184,-54.0688 140.824,-59.3097\"/>\n",
       "<text text-anchor=\"middle\" x=\"128\" y=\"-73.8\" font-family=\"Times,serif\" font-size=\"14.00\">on</text>\n",
       "</g>\n",
       "</g>\n",
       "</svg>\n"
      ],
      "text/plain": [
       "<graphviz.dot.Digraph at 0x7fb355518780>"
      ]
     },
     "metadata": {},
     "output_type": "display_data"
    },
    {
     "name": "stdout",
     "output_type": "stream",
     "text": [
      "similarity: 72.73%\n",
      "elapsed: 1.379s\n"
     ]
    }
   ],
   "source": [
    "from graphsim import Graph\n",
    "from graphsim import graph_match_dot, default_f_score, default_g_cost\n",
    "from graphsim import best_mapping, greedy_mapping, r_greedy_mapping\n",
    "from IPython.core.display import display\n",
    "from time import clock\n",
    "\n",
    "def demo(graph1, graph2, method=best_mapping, f=default_f_score, g=default_g_cost, display_before=False):\n",
    "    if display_before: display(graph_match_dot(graph1, graph2))\n",
    "    start = clock()\n",
    "    mapping, similarity = method(graph1, graph2, f, g)\n",
    "    elapsed = clock() - start\n",
    "    display(graph_match_dot(graph1, graph2, mapping))\n",
    "    print(\"similarity: {:.02f}%\\nelapsed: {:.03f}s\".format(similarity*100, elapsed))\n",
    "    \n",
    "graph1 = Graph(('a', 'beam'), ('a', 'I'), ('b', 'beam'), ('b', 'I'), ('c', 'beam'),\n",
    "               ('c', 'I'), ('d', 'beam'), ('d', 'I'), ('e', 'wall'), ('f', 'wall'),\n",
    "               ('a', 'b', 'next_to'), ('b', 'c', 'next_to'), ('c', 'd', 'next_to'),\n",
    "               ('a', 'e', 'on'), ('b', 'e', 'on'), ('c', 'f', 'on'), ('d', 'f', 'on'))\n",
    "\n",
    "graph2 = Graph((1, 'beam'), (1, 'U'), (2, 'beam'), (2, 'U'), (3, 'beam'),\n",
    "               (3, 'U'), (4, 'beam'), (4, 'U'), (5, 'wall'), (1, 2, 'next_to'),\n",
    "               (2, 3, 'next_to'), (3, 4, 'next_to'), (1, 5, 'on'), (2, 5, 'on'),\n",
    "               (3, 5, 'on'), (4, 5, 'on'))\n",
    "\n",
    "demo(graph1, graph2)"
   ]
  },
  {
   "cell_type": "markdown",
   "metadata": {
    "slideshow": {
     "slide_type": "slide"
    }
   },
   "source": [
    "# Thanks for your attention!"
   ]
  },
  {
   "cell_type": "code",
   "execution_count": null,
   "metadata": {},
   "outputs": [],
   "source": []
  }
 ],
 "metadata": {
  "celltoolbar": "Slideshow",
  "kernelspec": {
   "display_name": "Python 3",
   "language": "python",
   "name": "python3"
  },
  "language_info": {
   "codemirror_mode": {
    "name": "ipython",
    "version": 3
   },
   "file_extension": ".py",
   "mimetype": "text/x-python",
   "name": "python",
   "nbconvert_exporter": "python",
   "pygments_lexer": "ipython3",
   "version": "3.5.2"
  }
 },
 "nbformat": 4,
 "nbformat_minor": 2
}
