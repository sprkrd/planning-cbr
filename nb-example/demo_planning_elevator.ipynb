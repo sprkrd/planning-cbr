{
 "cells": [
  {
   "cell_type": "markdown",
   "metadata": {},
   "source": [
    "# Planning in Python\n",
    "\n",
    "Here we illustrate how to use our library to pose the classical 'Elevetors' problem and solve it with our planning framework. We have implemented both blind search algorithms and informed (heuristic) search. This notebook gives a flavour of these techniques.\n",
    "\n",
    "\n",
    "We start importing the relevant modules:"
   ]
  },
  {
   "cell_type": "code",
   "execution_count": 1,
   "metadata": {},
   "outputs": [],
   "source": [
    "import planning\n",
    "\n",
    "from IPython.display import display\n",
    "\n",
    "#import random \n",
    "\n",
    "#random.seed(42)"
   ]
  },
  {
   "cell_type": "markdown",
   "metadata": {},
   "source": [
    "Now let us pose a simple problem with 4 pegs and 5 disks. The domain is already defined and it contains a single operator: `move(?what-disk, ?from-object, ?to-object)`, which moves disk `?what` from object `?from` (either a peg or another disk) to object `?to` (also, either a peg or a disk). Our planning framework can take care of static preconditions. That is, it does not instantiate the move operator for moving a disk onto a smaller disk) so it is not necessary to encode static predicates in the state (the `smaller(?disk1,?disk2)` predicates that are typically seen in PDDL Hanoi domains).\n",
    "\n",
    "We have also implemented a problem generator. The generator can create problems for any number of disks and pegs. It also allows random initial and ending configurations. Our first example will be fairly simple and will have 3 pegs, all the disks in the first peg in the initial state and all the disks in the third peg in the goal configuration. Although the goal in this case details the position of every disk, notice that this does not necessarily has to be the case always. The goal does not need to be a complete description of the end configuration. It is perfectly reasonable, and our framework allows it, to consider partial states (e.g. we want the biggest disk in the third peg, and we do not care about the rest)."
   ]
  },
  {
   "cell_type": "code",
   "execution_count": 2,
   "metadata": {
    "scrolled": false
   },
   "outputs": [
    {
     "name": "stdout",
     "output_type": "stream",
     "text": [
      "Domain: Elevator\n",
      "Types: {'passenger': 'object', 'floor': 'object'}\n",
      "Operators:\n",
      "  - board(?f-floor,?p-passenger):\n",
      "    Pre: lift-at(?f), origin(?p,?f)\n",
      "    Add: boarded(?p)\n",
      "    Delete: \n",
      "  - depart(?f-floor,?p-passenger):\n",
      "    Pre: lift-at(?f), destin(?p,?f), boarded(?p)\n",
      "    Add: served(?p)\n",
      "    Delete: boarded(?p)\n",
      "  - drive_down(?f1-floor,?f2-floor):\n",
      "    Pre: lift-at(?f1), above(?f2,?f1)\n",
      "    Add: lift-at(?f2)\n",
      "    Delete: lift-at(?f1)\n",
      "  - drive_up(?f1-floor,?f2-floor):\n",
      "    Pre: lift-at(?f1), above(?f1,?f2)\n",
      "    Add: lift-at(?f2)\n",
      "    Delete: lift-at(?f1)\n",
      "Problem: elevator-00\n",
      "Domain: Elevator\n",
      "Initial state:\n",
      "  above(floor1,floor2)\n",
      "  above(floor2,floor3)\n",
      "  above(floor3,floor4)\n",
      "  destin(passenger01,floor4)\n",
      "  destin(passenger02,floor4)\n",
      "  destin(passenger03,floor3)\n",
      "  destin(passenger04,floor3)\n",
      "  lift-at(floor1)\n",
      "  origin(passenger01,floor1)\n",
      "  origin(passenger02,floor1)\n",
      "  origin(passenger03,floor2)\n",
      "  origin(passenger04,floor1)\n",
      "Goal:\n",
      "  above(floor1,floor2)\n",
      "  above(floor2,floor3)\n",
      "  above(floor3,floor4)\n",
      "  destin(passenger01,floor4)\n",
      "  destin(passenger02,floor4)\n",
      "  destin(passenger03,floor3)\n",
      "  destin(passenger04,floor3)\n",
      "  origin(passenger01,floor1)\n",
      "  origin(passenger02,floor1)\n",
      "  origin(passenger03,floor2)\n",
      "  origin(passenger04,floor1)\n",
      "  served(passenger01)\n",
      "  served(passenger02)\n",
      "  served(passenger03)\n",
      "  served(passenger04)\n",
      "Ground operators:\n",
      "  board(floor1,passenger01)\n",
      "  board(floor1,passenger02)\n",
      "  board(floor1,passenger03)\n",
      "  board(floor1,passenger04)\n",
      "  board(floor2,passenger01)\n",
      "  board(floor2,passenger02)\n",
      "  board(floor2,passenger03)\n",
      "  board(floor2,passenger04)\n",
      "  board(floor3,passenger01)\n",
      "  board(floor3,passenger02)\n",
      "  board(floor3,passenger03)\n",
      "  board(floor3,passenger04)\n",
      "  board(floor4,passenger01)\n",
      "  board(floor4,passenger02)\n",
      "  board(floor4,passenger03)\n",
      "  board(floor4,passenger04)\n",
      "  depart(floor1,passenger01)\n",
      "  depart(floor1,passenger02)\n",
      "  depart(floor1,passenger03)\n",
      "  depart(floor1,passenger04)\n",
      "  depart(floor2,passenger01)\n",
      "  depart(floor2,passenger02)\n",
      "  depart(floor2,passenger03)\n",
      "  depart(floor2,passenger04)\n",
      "  depart(floor3,passenger01)\n",
      "  depart(floor3,passenger02)\n",
      "  depart(floor3,passenger03)\n",
      "  depart(floor3,passenger04)\n",
      "  depart(floor4,passenger01)\n",
      "  depart(floor4,passenger02)\n",
      "  depart(floor4,passenger03)\n",
      "  depart(floor4,passenger04)\n",
      "  drive_down(floor1,floor2)\n",
      "  drive_down(floor1,floor3)\n",
      "  drive_down(floor1,floor4)\n",
      "  drive_down(floor2,floor1)\n",
      "  drive_down(floor2,floor3)\n",
      "  drive_down(floor2,floor4)\n",
      "  drive_down(floor3,floor1)\n",
      "  drive_down(floor3,floor2)\n",
      "  drive_down(floor3,floor4)\n",
      "  drive_down(floor4,floor1)\n",
      "  drive_down(floor4,floor2)\n",
      "  drive_down(floor4,floor3)\n",
      "  drive_up(floor1,floor2)\n",
      "  drive_up(floor1,floor3)\n",
      "  drive_up(floor1,floor4)\n",
      "  drive_up(floor2,floor1)\n",
      "  drive_up(floor2,floor3)\n",
      "  drive_up(floor2,floor4)\n",
      "  drive_up(floor3,floor1)\n",
      "  drive_up(floor3,floor2)\n",
      "  drive_up(floor3,floor4)\n",
      "  drive_up(floor4,floor1)\n",
      "  drive_up(floor4,floor2)\n",
      "  drive_up(floor4,floor3)\n",
      "Init:\n",
      "{'floor4': 0, 'floor2': 1, 'floor1': 3, 'floor3': 0}\n"
     ]
    },
    {
     "data": {
      "image/svg+xml": [
       "<svg baseProfile=\"full\" height=\"300\" version=\"1.1\" width=\"600\" xmlns=\"http://www.w3.org/2000/svg\" xmlns:ev=\"http://www.w3.org/2001/xml-events\" xmlns:xlink=\"http://www.w3.org/1999/xlink\"><defs /><rect fill=\"white\" height=\"90%\" stroke=\"black\" width=\"90%\" x=\"10.0%\" y=\"0.0%\" /><line stroke=\"black\" x1=\"55.0%\" x2=\"55.0%\" y1=\"0%\" y2=\"90%\" /><line stroke=\"black\" x1=\"55%\" x2=\"100%\" y1=\"67.5%\" y2=\"67.5%\" /><circle cx=\"60%\" cy=\"72.5%\" fill=\"black\" r=\"2\" /><text x=\"62%\" y=\"72.5%\">3</text><line stroke=\"black\" x1=\"55%\" x2=\"100%\" y1=\"45.0%\" y2=\"45.0%\" /><circle cx=\"60%\" cy=\"50.0%\" fill=\"black\" r=\"2\" /><text x=\"62%\" y=\"50.0%\">1</text><line stroke=\"black\" x1=\"55%\" x2=\"100%\" y1=\"22.5%\" y2=\"22.5%\" /><circle cx=\"60%\" cy=\"27.5%\" fill=\"black\" r=\"2\" /><text x=\"62%\" y=\"27.5%\">0</text><line stroke=\"black\" x1=\"55%\" x2=\"100%\" y1=\"0.0%\" y2=\"0.0%\" /><circle cx=\"60%\" cy=\"5.0%\" fill=\"black\" r=\"2\" /><text x=\"62%\" y=\"5.0%\">0</text><rect fill=\"white\" height=\"17.5%\" stroke=\"black\" width=\"17.5%\" x=\"21.25%\" y=\"70.0%\" /><circle cx=\"30.0%\" cy=\"78.75%\" fill=\"black\" r=\"2\" /><text x=\"32.0%\" y=\"78.75%\">0</text></svg>"
      ],
      "text/plain": [
       "<planning.planning.State at 0x7f180c269898>"
      ]
     },
     "metadata": {},
     "output_type": "display_data"
    },
    {
     "name": "stdout",
     "output_type": "stream",
     "text": [
      "Goal:\n",
      "Applicable actions in 1st state:\n",
      "board(floor1,passenger01)\n",
      "board(floor1,passenger02)\n",
      "board(floor1,passenger04)\n",
      "drive_up(floor1,floor2)\n"
     ]
    }
   ],
   "source": [
    "domain = planning.domains[\"Elevator\"]\n",
    "problem = domain.generate_problem(4, 4)\n",
    "print(domain)\n",
    "print(problem)\n",
    "print(\"Init:\")\n",
    "display(problem.init())\n",
    "print(\"Goal:\")\n",
    "#display(problem.goal())\n",
    "print(\"Applicable actions in 1st state:\")\n",
    "print(\"\\n\".join(map(str, filter(problem.init().can_apply, problem.operators()))))"
   ]
  },
  {
   "cell_type": "markdown",
   "metadata": {},
   "source": [
    "Let us start applying blind search algorithms. Namely, we have implemented Breadth First Search (BFS) and Iterative Deepening Search (IDS). The algorithms have an exponential worst time complexity. More specifically, both have a time complexity of $ O(b^d) $ where $ b $ is the branching factor and $ d $ is the length of the plan. Moreover, BFS is very memory intensive, requiring also an exponential amount of memory. IDS sacrifices speed for memory efficiency: it has a linear memory usage, but requires more time than BFS to find a plan, namely, a constant factor times the time required by BFS which, of course, is hidden in the big O notation.\n",
    "\n",
    "Let us start with BFS:"
   ]
  },
  {
   "cell_type": "code",
   "execution_count": 3,
   "metadata": {
    "scrolled": false
   },
   "outputs": [
    {
     "name": "stdout",
     "output_type": "stream",
     "text": [
      "[0.093s] Plan found with 11 action(s)\n",
      "#Generated nodes: 362\n",
      "Plan:\n",
      "  board(floor1,passenger01)\n",
      "  board(floor1,passenger02)\n",
      "  board(floor1,passenger04)\n",
      "  drive_up(floor1,floor2)\n",
      "  board(floor2,passenger03)\n",
      "  drive_up(floor2,floor3)\n",
      "  depart(floor3,passenger03)\n",
      "  depart(floor3,passenger04)\n",
      "  drive_up(floor3,floor4)\n",
      "  depart(floor4,passenger01)\n",
      "  depart(floor4,passenger02)\n",
      "step 0\n",
      "{'floor4': 0, 'floor2': 1, 'floor1': 3, 'floor3': 0}\n"
     ]
    },
    {
     "data": {
      "image/svg+xml": [
       "<svg baseProfile=\"full\" height=\"300\" version=\"1.1\" width=\"600\" xmlns=\"http://www.w3.org/2000/svg\" xmlns:ev=\"http://www.w3.org/2001/xml-events\" xmlns:xlink=\"http://www.w3.org/1999/xlink\"><defs /><rect fill=\"white\" height=\"90%\" stroke=\"black\" width=\"90%\" x=\"10.0%\" y=\"0.0%\" /><line stroke=\"black\" x1=\"55.0%\" x2=\"55.0%\" y1=\"0%\" y2=\"90%\" /><line stroke=\"black\" x1=\"55%\" x2=\"100%\" y1=\"67.5%\" y2=\"67.5%\" /><circle cx=\"60%\" cy=\"72.5%\" fill=\"black\" r=\"2\" /><text x=\"62%\" y=\"72.5%\">3</text><line stroke=\"black\" x1=\"55%\" x2=\"100%\" y1=\"45.0%\" y2=\"45.0%\" /><circle cx=\"60%\" cy=\"50.0%\" fill=\"black\" r=\"2\" /><text x=\"62%\" y=\"50.0%\">1</text><line stroke=\"black\" x1=\"55%\" x2=\"100%\" y1=\"22.5%\" y2=\"22.5%\" /><circle cx=\"60%\" cy=\"27.5%\" fill=\"black\" r=\"2\" /><text x=\"62%\" y=\"27.5%\">0</text><line stroke=\"black\" x1=\"55%\" x2=\"100%\" y1=\"0.0%\" y2=\"0.0%\" /><circle cx=\"60%\" cy=\"5.0%\" fill=\"black\" r=\"2\" /><text x=\"62%\" y=\"5.0%\">0</text><rect fill=\"white\" height=\"17.5%\" stroke=\"black\" width=\"17.5%\" x=\"21.25%\" y=\"70.0%\" /><circle cx=\"30.0%\" cy=\"78.75%\" fill=\"black\" r=\"2\" /><text x=\"32.0%\" y=\"78.75%\">0</text></svg>"
      ],
      "text/plain": [
       "<planning.planning.State at 0x7f180c269898>"
      ]
     },
     "metadata": {},
     "output_type": "display_data"
    },
    {
     "name": "stdout",
     "output_type": "stream",
     "text": [
      "step 1\n",
      "{'floor4': 0, 'floor2': 1, 'floor1': 2, 'floor3': 0}\n"
     ]
    },
    {
     "data": {
      "image/svg+xml": [
       "<svg baseProfile=\"full\" height=\"300\" version=\"1.1\" width=\"600\" xmlns=\"http://www.w3.org/2000/svg\" xmlns:ev=\"http://www.w3.org/2001/xml-events\" xmlns:xlink=\"http://www.w3.org/1999/xlink\"><defs /><rect fill=\"white\" height=\"90%\" stroke=\"black\" width=\"90%\" x=\"10.0%\" y=\"0.0%\" /><line stroke=\"black\" x1=\"55.0%\" x2=\"55.0%\" y1=\"0%\" y2=\"90%\" /><line stroke=\"black\" x1=\"55%\" x2=\"100%\" y1=\"67.5%\" y2=\"67.5%\" /><circle cx=\"60%\" cy=\"72.5%\" fill=\"black\" r=\"2\" /><text x=\"62%\" y=\"72.5%\">2</text><line stroke=\"black\" x1=\"55%\" x2=\"100%\" y1=\"45.0%\" y2=\"45.0%\" /><circle cx=\"60%\" cy=\"50.0%\" fill=\"black\" r=\"2\" /><text x=\"62%\" y=\"50.0%\">1</text><line stroke=\"black\" x1=\"55%\" x2=\"100%\" y1=\"22.5%\" y2=\"22.5%\" /><circle cx=\"60%\" cy=\"27.5%\" fill=\"black\" r=\"2\" /><text x=\"62%\" y=\"27.5%\">0</text><line stroke=\"black\" x1=\"55%\" x2=\"100%\" y1=\"0.0%\" y2=\"0.0%\" /><circle cx=\"60%\" cy=\"5.0%\" fill=\"black\" r=\"2\" /><text x=\"62%\" y=\"5.0%\">0</text><rect fill=\"white\" height=\"17.5%\" stroke=\"black\" width=\"17.5%\" x=\"21.25%\" y=\"70.0%\" /><circle cx=\"30.0%\" cy=\"78.75%\" fill=\"black\" r=\"2\" /><text x=\"32.0%\" y=\"78.75%\">1</text></svg>"
      ],
      "text/plain": [
       "<planning.planning.State at 0x7f180c27aac8>"
      ]
     },
     "metadata": {},
     "output_type": "display_data"
    },
    {
     "name": "stdout",
     "output_type": "stream",
     "text": [
      "step 2\n",
      "{'floor4': 0, 'floor2': 1, 'floor1': 1, 'floor3': 0}\n"
     ]
    },
    {
     "data": {
      "image/svg+xml": [
       "<svg baseProfile=\"full\" height=\"300\" version=\"1.1\" width=\"600\" xmlns=\"http://www.w3.org/2000/svg\" xmlns:ev=\"http://www.w3.org/2001/xml-events\" xmlns:xlink=\"http://www.w3.org/1999/xlink\"><defs /><rect fill=\"white\" height=\"90%\" stroke=\"black\" width=\"90%\" x=\"10.0%\" y=\"0.0%\" /><line stroke=\"black\" x1=\"55.0%\" x2=\"55.0%\" y1=\"0%\" y2=\"90%\" /><line stroke=\"black\" x1=\"55%\" x2=\"100%\" y1=\"67.5%\" y2=\"67.5%\" /><circle cx=\"60%\" cy=\"72.5%\" fill=\"black\" r=\"2\" /><text x=\"62%\" y=\"72.5%\">1</text><line stroke=\"black\" x1=\"55%\" x2=\"100%\" y1=\"45.0%\" y2=\"45.0%\" /><circle cx=\"60%\" cy=\"50.0%\" fill=\"black\" r=\"2\" /><text x=\"62%\" y=\"50.0%\">1</text><line stroke=\"black\" x1=\"55%\" x2=\"100%\" y1=\"22.5%\" y2=\"22.5%\" /><circle cx=\"60%\" cy=\"27.5%\" fill=\"black\" r=\"2\" /><text x=\"62%\" y=\"27.5%\">0</text><line stroke=\"black\" x1=\"55%\" x2=\"100%\" y1=\"0.0%\" y2=\"0.0%\" /><circle cx=\"60%\" cy=\"5.0%\" fill=\"black\" r=\"2\" /><text x=\"62%\" y=\"5.0%\">0</text><rect fill=\"white\" height=\"17.5%\" stroke=\"black\" width=\"17.5%\" x=\"21.25%\" y=\"70.0%\" /><circle cx=\"30.0%\" cy=\"78.75%\" fill=\"black\" r=\"2\" /><text x=\"32.0%\" y=\"78.75%\">2</text></svg>"
      ],
      "text/plain": [
       "<planning.planning.State at 0x7f180c27ad30>"
      ]
     },
     "metadata": {},
     "output_type": "display_data"
    },
    {
     "name": "stdout",
     "output_type": "stream",
     "text": [
      "step 3\n",
      "{'floor4': 0, 'floor2': 1, 'floor1': 0, 'floor3': 0}\n"
     ]
    },
    {
     "data": {
      "image/svg+xml": [
       "<svg baseProfile=\"full\" height=\"300\" version=\"1.1\" width=\"600\" xmlns=\"http://www.w3.org/2000/svg\" xmlns:ev=\"http://www.w3.org/2001/xml-events\" xmlns:xlink=\"http://www.w3.org/1999/xlink\"><defs /><rect fill=\"white\" height=\"90%\" stroke=\"black\" width=\"90%\" x=\"10.0%\" y=\"0.0%\" /><line stroke=\"black\" x1=\"55.0%\" x2=\"55.0%\" y1=\"0%\" y2=\"90%\" /><line stroke=\"black\" x1=\"55%\" x2=\"100%\" y1=\"67.5%\" y2=\"67.5%\" /><circle cx=\"60%\" cy=\"72.5%\" fill=\"black\" r=\"2\" /><text x=\"62%\" y=\"72.5%\">0</text><line stroke=\"black\" x1=\"55%\" x2=\"100%\" y1=\"45.0%\" y2=\"45.0%\" /><circle cx=\"60%\" cy=\"50.0%\" fill=\"black\" r=\"2\" /><text x=\"62%\" y=\"50.0%\">1</text><line stroke=\"black\" x1=\"55%\" x2=\"100%\" y1=\"22.5%\" y2=\"22.5%\" /><circle cx=\"60%\" cy=\"27.5%\" fill=\"black\" r=\"2\" /><text x=\"62%\" y=\"27.5%\">0</text><line stroke=\"black\" x1=\"55%\" x2=\"100%\" y1=\"0.0%\" y2=\"0.0%\" /><circle cx=\"60%\" cy=\"5.0%\" fill=\"black\" r=\"2\" /><text x=\"62%\" y=\"5.0%\">0</text><rect fill=\"white\" height=\"17.5%\" stroke=\"black\" width=\"17.5%\" x=\"21.25%\" y=\"70.0%\" /><circle cx=\"30.0%\" cy=\"78.75%\" fill=\"black\" r=\"2\" /><text x=\"32.0%\" y=\"78.75%\">3</text></svg>"
      ],
      "text/plain": [
       "<planning.planning.State at 0x7f180c27afd0>"
      ]
     },
     "metadata": {},
     "output_type": "display_data"
    },
    {
     "name": "stdout",
     "output_type": "stream",
     "text": [
      "step 4\n",
      "{'floor4': 0, 'floor2': 1, 'floor1': 0, 'floor3': 0}\n"
     ]
    },
    {
     "data": {
      "image/svg+xml": [
       "<svg baseProfile=\"full\" height=\"300\" version=\"1.1\" width=\"600\" xmlns=\"http://www.w3.org/2000/svg\" xmlns:ev=\"http://www.w3.org/2001/xml-events\" xmlns:xlink=\"http://www.w3.org/1999/xlink\"><defs /><rect fill=\"white\" height=\"90%\" stroke=\"black\" width=\"90%\" x=\"10.0%\" y=\"0.0%\" /><line stroke=\"black\" x1=\"55.0%\" x2=\"55.0%\" y1=\"0%\" y2=\"90%\" /><line stroke=\"black\" x1=\"55%\" x2=\"100%\" y1=\"67.5%\" y2=\"67.5%\" /><circle cx=\"60%\" cy=\"72.5%\" fill=\"black\" r=\"2\" /><text x=\"62%\" y=\"72.5%\">0</text><line stroke=\"black\" x1=\"55%\" x2=\"100%\" y1=\"45.0%\" y2=\"45.0%\" /><circle cx=\"60%\" cy=\"50.0%\" fill=\"black\" r=\"2\" /><text x=\"62%\" y=\"50.0%\">1</text><line stroke=\"black\" x1=\"55%\" x2=\"100%\" y1=\"22.5%\" y2=\"22.5%\" /><circle cx=\"60%\" cy=\"27.5%\" fill=\"black\" r=\"2\" /><text x=\"62%\" y=\"27.5%\">0</text><line stroke=\"black\" x1=\"55%\" x2=\"100%\" y1=\"0.0%\" y2=\"0.0%\" /><circle cx=\"60%\" cy=\"5.0%\" fill=\"black\" r=\"2\" /><text x=\"62%\" y=\"5.0%\">0</text><rect fill=\"white\" height=\"17.5%\" stroke=\"black\" width=\"17.5%\" x=\"21.25%\" y=\"47.5%\" /><circle cx=\"30.0%\" cy=\"56.25%\" fill=\"black\" r=\"2\" /><text x=\"32.0%\" y=\"56.25%\">3</text></svg>"
      ],
      "text/plain": [
       "<planning.planning.State at 0x7f180c27af98>"
      ]
     },
     "metadata": {},
     "output_type": "display_data"
    },
    {
     "name": "stdout",
     "output_type": "stream",
     "text": [
      "step 5\n",
      "{'floor4': 0, 'floor2': 0, 'floor1': 0, 'floor3': 0}\n"
     ]
    },
    {
     "data": {
      "image/svg+xml": [
       "<svg baseProfile=\"full\" height=\"300\" version=\"1.1\" width=\"600\" xmlns=\"http://www.w3.org/2000/svg\" xmlns:ev=\"http://www.w3.org/2001/xml-events\" xmlns:xlink=\"http://www.w3.org/1999/xlink\"><defs /><rect fill=\"white\" height=\"90%\" stroke=\"black\" width=\"90%\" x=\"10.0%\" y=\"0.0%\" /><line stroke=\"black\" x1=\"55.0%\" x2=\"55.0%\" y1=\"0%\" y2=\"90%\" /><line stroke=\"black\" x1=\"55%\" x2=\"100%\" y1=\"67.5%\" y2=\"67.5%\" /><circle cx=\"60%\" cy=\"72.5%\" fill=\"black\" r=\"2\" /><text x=\"62%\" y=\"72.5%\">0</text><line stroke=\"black\" x1=\"55%\" x2=\"100%\" y1=\"45.0%\" y2=\"45.0%\" /><circle cx=\"60%\" cy=\"50.0%\" fill=\"black\" r=\"2\" /><text x=\"62%\" y=\"50.0%\">0</text><line stroke=\"black\" x1=\"55%\" x2=\"100%\" y1=\"22.5%\" y2=\"22.5%\" /><circle cx=\"60%\" cy=\"27.5%\" fill=\"black\" r=\"2\" /><text x=\"62%\" y=\"27.5%\">0</text><line stroke=\"black\" x1=\"55%\" x2=\"100%\" y1=\"0.0%\" y2=\"0.0%\" /><circle cx=\"60%\" cy=\"5.0%\" fill=\"black\" r=\"2\" /><text x=\"62%\" y=\"5.0%\">0</text><rect fill=\"white\" height=\"17.5%\" stroke=\"black\" width=\"17.5%\" x=\"21.25%\" y=\"47.5%\" /><circle cx=\"30.0%\" cy=\"56.25%\" fill=\"black\" r=\"2\" /><text x=\"32.0%\" y=\"56.25%\">4</text></svg>"
      ],
      "text/plain": [
       "<planning.planning.State at 0x7f180c28c5c0>"
      ]
     },
     "metadata": {},
     "output_type": "display_data"
    },
    {
     "name": "stdout",
     "output_type": "stream",
     "text": [
      "step 6\n",
      "{'floor4': 0, 'floor2': 0, 'floor1': 0, 'floor3': 0}\n"
     ]
    },
    {
     "data": {
      "image/svg+xml": [
       "<svg baseProfile=\"full\" height=\"300\" version=\"1.1\" width=\"600\" xmlns=\"http://www.w3.org/2000/svg\" xmlns:ev=\"http://www.w3.org/2001/xml-events\" xmlns:xlink=\"http://www.w3.org/1999/xlink\"><defs /><rect fill=\"white\" height=\"90%\" stroke=\"black\" width=\"90%\" x=\"10.0%\" y=\"0.0%\" /><line stroke=\"black\" x1=\"55.0%\" x2=\"55.0%\" y1=\"0%\" y2=\"90%\" /><line stroke=\"black\" x1=\"55%\" x2=\"100%\" y1=\"67.5%\" y2=\"67.5%\" /><circle cx=\"60%\" cy=\"72.5%\" fill=\"black\" r=\"2\" /><text x=\"62%\" y=\"72.5%\">0</text><line stroke=\"black\" x1=\"55%\" x2=\"100%\" y1=\"45.0%\" y2=\"45.0%\" /><circle cx=\"60%\" cy=\"50.0%\" fill=\"black\" r=\"2\" /><text x=\"62%\" y=\"50.0%\">0</text><line stroke=\"black\" x1=\"55%\" x2=\"100%\" y1=\"22.5%\" y2=\"22.5%\" /><circle cx=\"60%\" cy=\"27.5%\" fill=\"black\" r=\"2\" /><text x=\"62%\" y=\"27.5%\">0</text><line stroke=\"black\" x1=\"55%\" x2=\"100%\" y1=\"0.0%\" y2=\"0.0%\" /><circle cx=\"60%\" cy=\"5.0%\" fill=\"black\" r=\"2\" /><text x=\"62%\" y=\"5.0%\">0</text><rect fill=\"white\" height=\"17.5%\" stroke=\"black\" width=\"17.5%\" x=\"21.25%\" y=\"25.0%\" /><circle cx=\"30.0%\" cy=\"33.75%\" fill=\"black\" r=\"2\" /><text x=\"32.0%\" y=\"33.75%\">4</text></svg>"
      ],
      "text/plain": [
       "<planning.planning.State at 0x7f180c29b0f0>"
      ]
     },
     "metadata": {},
     "output_type": "display_data"
    },
    {
     "name": "stdout",
     "output_type": "stream",
     "text": [
      "step 7\n",
      "{'floor4': 0, 'floor2': 0, 'floor1': 0, 'floor3': 1}\n"
     ]
    },
    {
     "data": {
      "image/svg+xml": [
       "<svg baseProfile=\"full\" height=\"300\" version=\"1.1\" width=\"600\" xmlns=\"http://www.w3.org/2000/svg\" xmlns:ev=\"http://www.w3.org/2001/xml-events\" xmlns:xlink=\"http://www.w3.org/1999/xlink\"><defs /><rect fill=\"white\" height=\"90%\" stroke=\"black\" width=\"90%\" x=\"10.0%\" y=\"0.0%\" /><line stroke=\"black\" x1=\"55.0%\" x2=\"55.0%\" y1=\"0%\" y2=\"90%\" /><line stroke=\"black\" x1=\"55%\" x2=\"100%\" y1=\"67.5%\" y2=\"67.5%\" /><circle cx=\"60%\" cy=\"72.5%\" fill=\"black\" r=\"2\" /><text x=\"62%\" y=\"72.5%\">0</text><line stroke=\"black\" x1=\"55%\" x2=\"100%\" y1=\"45.0%\" y2=\"45.0%\" /><circle cx=\"60%\" cy=\"50.0%\" fill=\"black\" r=\"2\" /><text x=\"62%\" y=\"50.0%\">0</text><line stroke=\"black\" x1=\"55%\" x2=\"100%\" y1=\"22.5%\" y2=\"22.5%\" /><circle cx=\"60%\" cy=\"27.5%\" fill=\"black\" r=\"2\" /><text x=\"62%\" y=\"27.5%\">1</text><line stroke=\"black\" x1=\"55%\" x2=\"100%\" y1=\"0.0%\" y2=\"0.0%\" /><circle cx=\"60%\" cy=\"5.0%\" fill=\"black\" r=\"2\" /><text x=\"62%\" y=\"5.0%\">0</text><rect fill=\"white\" height=\"17.5%\" stroke=\"black\" width=\"17.5%\" x=\"21.25%\" y=\"25.0%\" /><circle cx=\"30.0%\" cy=\"33.75%\" fill=\"black\" r=\"2\" /><text x=\"32.0%\" y=\"33.75%\">3</text></svg>"
      ],
      "text/plain": [
       "<planning.planning.State at 0x7f1816cc1278>"
      ]
     },
     "metadata": {},
     "output_type": "display_data"
    },
    {
     "name": "stdout",
     "output_type": "stream",
     "text": [
      "step 8\n",
      "{'floor4': 0, 'floor2': 0, 'floor1': 0, 'floor3': 2}\n"
     ]
    },
    {
     "data": {
      "image/svg+xml": [
       "<svg baseProfile=\"full\" height=\"300\" version=\"1.1\" width=\"600\" xmlns=\"http://www.w3.org/2000/svg\" xmlns:ev=\"http://www.w3.org/2001/xml-events\" xmlns:xlink=\"http://www.w3.org/1999/xlink\"><defs /><rect fill=\"white\" height=\"90%\" stroke=\"black\" width=\"90%\" x=\"10.0%\" y=\"0.0%\" /><line stroke=\"black\" x1=\"55.0%\" x2=\"55.0%\" y1=\"0%\" y2=\"90%\" /><line stroke=\"black\" x1=\"55%\" x2=\"100%\" y1=\"67.5%\" y2=\"67.5%\" /><circle cx=\"60%\" cy=\"72.5%\" fill=\"black\" r=\"2\" /><text x=\"62%\" y=\"72.5%\">0</text><line stroke=\"black\" x1=\"55%\" x2=\"100%\" y1=\"45.0%\" y2=\"45.0%\" /><circle cx=\"60%\" cy=\"50.0%\" fill=\"black\" r=\"2\" /><text x=\"62%\" y=\"50.0%\">0</text><line stroke=\"black\" x1=\"55%\" x2=\"100%\" y1=\"22.5%\" y2=\"22.5%\" /><circle cx=\"60%\" cy=\"27.5%\" fill=\"black\" r=\"2\" /><text x=\"62%\" y=\"27.5%\">2</text><line stroke=\"black\" x1=\"55%\" x2=\"100%\" y1=\"0.0%\" y2=\"0.0%\" /><circle cx=\"60%\" cy=\"5.0%\" fill=\"black\" r=\"2\" /><text x=\"62%\" y=\"5.0%\">0</text><rect fill=\"white\" height=\"17.5%\" stroke=\"black\" width=\"17.5%\" x=\"21.25%\" y=\"25.0%\" /><circle cx=\"30.0%\" cy=\"33.75%\" fill=\"black\" r=\"2\" /><text x=\"32.0%\" y=\"33.75%\">2</text></svg>"
      ],
      "text/plain": [
       "<planning.planning.State at 0x7f180c29bac8>"
      ]
     },
     "metadata": {},
     "output_type": "display_data"
    },
    {
     "name": "stdout",
     "output_type": "stream",
     "text": [
      "step 9\n",
      "{'floor4': 0, 'floor2': 0, 'floor1': 0, 'floor3': 2}\n"
     ]
    },
    {
     "data": {
      "image/svg+xml": [
       "<svg baseProfile=\"full\" height=\"300\" version=\"1.1\" width=\"600\" xmlns=\"http://www.w3.org/2000/svg\" xmlns:ev=\"http://www.w3.org/2001/xml-events\" xmlns:xlink=\"http://www.w3.org/1999/xlink\"><defs /><rect fill=\"white\" height=\"90%\" stroke=\"black\" width=\"90%\" x=\"10.0%\" y=\"0.0%\" /><line stroke=\"black\" x1=\"55.0%\" x2=\"55.0%\" y1=\"0%\" y2=\"90%\" /><line stroke=\"black\" x1=\"55%\" x2=\"100%\" y1=\"67.5%\" y2=\"67.5%\" /><circle cx=\"60%\" cy=\"72.5%\" fill=\"black\" r=\"2\" /><text x=\"62%\" y=\"72.5%\">0</text><line stroke=\"black\" x1=\"55%\" x2=\"100%\" y1=\"45.0%\" y2=\"45.0%\" /><circle cx=\"60%\" cy=\"50.0%\" fill=\"black\" r=\"2\" /><text x=\"62%\" y=\"50.0%\">0</text><line stroke=\"black\" x1=\"55%\" x2=\"100%\" y1=\"22.5%\" y2=\"22.5%\" /><circle cx=\"60%\" cy=\"27.5%\" fill=\"black\" r=\"2\" /><text x=\"62%\" y=\"27.5%\">2</text><line stroke=\"black\" x1=\"55%\" x2=\"100%\" y1=\"0.0%\" y2=\"0.0%\" /><circle cx=\"60%\" cy=\"5.0%\" fill=\"black\" r=\"2\" /><text x=\"62%\" y=\"5.0%\">0</text><rect fill=\"white\" height=\"17.5%\" stroke=\"black\" width=\"17.5%\" x=\"21.25%\" y=\"2.5%\" /><circle cx=\"30.0%\" cy=\"11.25%\" fill=\"black\" r=\"2\" /><text x=\"32.0%\" y=\"11.25%\">2</text></svg>"
      ],
      "text/plain": [
       "<planning.planning.State at 0x7f180c2a58d0>"
      ]
     },
     "metadata": {},
     "output_type": "display_data"
    },
    {
     "name": "stdout",
     "output_type": "stream",
     "text": [
      "step 10\n",
      "{'floor4': 1, 'floor2': 0, 'floor1': 0, 'floor3': 2}\n"
     ]
    },
    {
     "data": {
      "image/svg+xml": [
       "<svg baseProfile=\"full\" height=\"300\" version=\"1.1\" width=\"600\" xmlns=\"http://www.w3.org/2000/svg\" xmlns:ev=\"http://www.w3.org/2001/xml-events\" xmlns:xlink=\"http://www.w3.org/1999/xlink\"><defs /><rect fill=\"white\" height=\"90%\" stroke=\"black\" width=\"90%\" x=\"10.0%\" y=\"0.0%\" /><line stroke=\"black\" x1=\"55.0%\" x2=\"55.0%\" y1=\"0%\" y2=\"90%\" /><line stroke=\"black\" x1=\"55%\" x2=\"100%\" y1=\"67.5%\" y2=\"67.5%\" /><circle cx=\"60%\" cy=\"72.5%\" fill=\"black\" r=\"2\" /><text x=\"62%\" y=\"72.5%\">0</text><line stroke=\"black\" x1=\"55%\" x2=\"100%\" y1=\"45.0%\" y2=\"45.0%\" /><circle cx=\"60%\" cy=\"50.0%\" fill=\"black\" r=\"2\" /><text x=\"62%\" y=\"50.0%\">0</text><line stroke=\"black\" x1=\"55%\" x2=\"100%\" y1=\"22.5%\" y2=\"22.5%\" /><circle cx=\"60%\" cy=\"27.5%\" fill=\"black\" r=\"2\" /><text x=\"62%\" y=\"27.5%\">2</text><line stroke=\"black\" x1=\"55%\" x2=\"100%\" y1=\"0.0%\" y2=\"0.0%\" /><circle cx=\"60%\" cy=\"5.0%\" fill=\"black\" r=\"2\" /><text x=\"62%\" y=\"5.0%\">1</text><rect fill=\"white\" height=\"17.5%\" stroke=\"black\" width=\"17.5%\" x=\"21.25%\" y=\"2.5%\" /><circle cx=\"30.0%\" cy=\"11.25%\" fill=\"black\" r=\"2\" /><text x=\"32.0%\" y=\"11.25%\">1</text></svg>"
      ],
      "text/plain": [
       "<planning.planning.State at 0x7f180c2a0860>"
      ]
     },
     "metadata": {},
     "output_type": "display_data"
    },
    {
     "name": "stdout",
     "output_type": "stream",
     "text": [
      "step 11\n",
      "{'floor4': 2, 'floor2': 0, 'floor1': 0, 'floor3': 2}\n"
     ]
    },
    {
     "data": {
      "image/svg+xml": [
       "<svg baseProfile=\"full\" height=\"300\" version=\"1.1\" width=\"600\" xmlns=\"http://www.w3.org/2000/svg\" xmlns:ev=\"http://www.w3.org/2001/xml-events\" xmlns:xlink=\"http://www.w3.org/1999/xlink\"><defs /><rect fill=\"white\" height=\"90%\" stroke=\"black\" width=\"90%\" x=\"10.0%\" y=\"0.0%\" /><line stroke=\"black\" x1=\"55.0%\" x2=\"55.0%\" y1=\"0%\" y2=\"90%\" /><line stroke=\"black\" x1=\"55%\" x2=\"100%\" y1=\"67.5%\" y2=\"67.5%\" /><circle cx=\"60%\" cy=\"72.5%\" fill=\"black\" r=\"2\" /><text x=\"62%\" y=\"72.5%\">0</text><line stroke=\"black\" x1=\"55%\" x2=\"100%\" y1=\"45.0%\" y2=\"45.0%\" /><circle cx=\"60%\" cy=\"50.0%\" fill=\"black\" r=\"2\" /><text x=\"62%\" y=\"50.0%\">0</text><line stroke=\"black\" x1=\"55%\" x2=\"100%\" y1=\"22.5%\" y2=\"22.5%\" /><circle cx=\"60%\" cy=\"27.5%\" fill=\"black\" r=\"2\" /><text x=\"62%\" y=\"27.5%\">2</text><line stroke=\"black\" x1=\"55%\" x2=\"100%\" y1=\"0.0%\" y2=\"0.0%\" /><circle cx=\"60%\" cy=\"5.0%\" fill=\"black\" r=\"2\" /><text x=\"62%\" y=\"5.0%\">2</text><rect fill=\"white\" height=\"17.5%\" stroke=\"black\" width=\"17.5%\" x=\"21.25%\" y=\"2.5%\" /><circle cx=\"30.0%\" cy=\"11.25%\" fill=\"black\" r=\"2\" /><text x=\"32.0%\" y=\"11.25%\">0</text></svg>"
      ],
      "text/plain": [
       "<planning.planning.State at 0x7f180c2aa978>"
      ]
     },
     "metadata": {},
     "output_type": "display_data"
    }
   ],
   "source": [
    "bfs = planning.BreadthFirstSearch(problem, verbose=1, timeout=None, node_bound=None)\n",
    "status = bfs()\n",
    "if status == planning.search.FOUND:\n",
    "    plan = bfs.plan()\n",
    "    state_sequence = bfs.state_sequence()\n",
    "    print(\"#Generated nodes: \" + str(bfs.info()[\"generated\"]))\n",
    "    if True: #len(plan) < 10:\n",
    "        print(\"Plan:\\n  \" + \"\\n  \".join([str(op) for op in bfs.plan()]))\n",
    "        for i, state in enumerate(bfs.state_sequence()):\n",
    "            print(\"step \" + str(i))\n",
    "            display(state)"
   ]
  },
  {
   "cell_type": "markdown",
   "metadata": {},
   "source": [
    "Let us apply IDS now:"
   ]
  },
  {
   "cell_type": "code",
   "execution_count": null,
   "metadata": {
    "scrolled": false
   },
   "outputs": [],
   "source": [
    "ids = planning.IterativeDeepeningSearch(problem, verbose=1, timeout=30.0)\n",
    "status = ids()\n",
    "if status == planning.search.FOUND:\n",
    "    plan = ids.plan()\n",
    "    state_sequence = ids.state_sequence()\n",
    "    if len(plan) < 10:\n",
    "        print(\"Plan:\\n  \" + \"\\n  \".join([str(op) for op in ids.plan()]))\n",
    "        for i, state in enumerate(ids.state_sequence()):\n",
    "            print(\"step \" + str(i))\n",
    "            display(state)"
   ]
  },
  {
   "cell_type": "markdown",
   "metadata": {},
   "source": [
    "Now, let us apply heuristic search. We have implemented a generic Best First Search algorithm that accepts any heuristic and uses it to guide the search. We have implemented the following heuristics:\n",
    "- Goal counting heuristic\n",
    "- Relaxed goal counting heuristic\n",
    "- Novelty-based heuristics\n",
    "- Additive heuristic ($ h_{add} $)\n",
    "- Relaxed planning graph heuristic (equivalent to $ h_{max} $)\n",
    "\n",
    "We can combine these heuristics to achieve certain behaviour. For instance, we can use a linear combination of the accumulated cost and the novelty or additive heuristic to get the $\\epsilon-A*$ (epsilon A-star) behaviour. The improvement with respect to the blind search is evident:"
   ]
  },
  {
   "cell_type": "code",
   "execution_count": 12,
   "metadata": {
    "scrolled": true
   },
   "outputs": [
    {
     "name": "stdout",
     "output_type": "stream",
     "text": [
      "[0.145s] Plan found with 45 action(s)\n",
      "#Generated nodes: 163\n"
     ]
    }
   ],
   "source": [
    "g = planning.heuristics.AccumulatedCost()\n",
    "hadd = planning.heuristics.AdditiveHeuristic()\n",
    "rpg = planning.heuristics.RelaxedPlanningGraphHeuristic()\n",
    "hlinear = planning.heuristics.LinearCombination([g, hadd], (1, 5)) # 5 A-star with additive heuristic\n",
    "h = planning.heuristics.ConcatenateHeuristic([hlinear, hadd])\n",
    "\n",
    "bfs = planning.BestFirstSearch(problem, verbose=1, timeout=300.0, node_bound=20000,\n",
    "                               heuristic=h, close_forever=False)\n",
    "bfs()\n",
    "plan = bfs.plan()\n",
    "state_sequence = bfs.state_sequence()\n",
    "print(\"#Generated nodes: \" + str(bfs.info()[\"generated\"]))\n",
    "if len(plan) < 15:\n",
    "    print(\"Plan:\\n  \" + \"\\n  \".join([str(op) for op in bfs.plan()]))\n",
    "    for i, state in enumerate(bfs.state_sequence()):\n",
    "        print(\"step \" + str(i))\n",
    "        display(state)"
   ]
  },
  {
   "cell_type": "code",
   "execution_count": 13,
   "metadata": {},
   "outputs": [
    {
     "name": "stderr",
     "output_type": "stream",
     "text": [
      "100%|██████████| 1000/1000 [01:11<00:00, 14.01it/s]\n"
     ]
    }
   ],
   "source": [
    "import random\n",
    "import tqdm\n",
    "import matplotlib.pyplot as plt\n",
    "%matplotlib inline\n",
    "\n",
    "random.seed(42)\n",
    "\n",
    "h0_3 = []\n",
    "h1_3 = []\n",
    "h2_3 = []\n",
    "h3_3 = []\n",
    "\n",
    "N = 1000\n",
    "\n",
    "generated = set()\n",
    "\n",
    "for _ in tqdm.tqdm(range(N)):\n",
    "    while True:\n",
    "        n = random.randint(3, 4)\n",
    "#         m = random.randint(3, 4)\n",
    "        problem = domain.generate_problem(n, 3)\n",
    "        if (problem.init(), problem.goal()) not in generated:\n",
    "            generated.add((problem.init(), problem.goal()))\n",
    "            break\n",
    "    bfs = planning.BreadthFirstSearch(problem, verbose=0, timeout=5.0, node_bound=None)\n",
    "    status = bfs()\n",
    "    if status == planning.search.FOUND:\n",
    "        h0_3.append(len(bfs.plan()))\n",
    "        h1_3.append(hadd.h(problem.init(), problem.goal()))\n",
    "        if h1_3[-1] == 0 and h0_3[-1] != 0:\n",
    "            print(problem.trivial())\n",
    "        h2_3.append(rpg.h(problem.init(), problem.goal()))\n",
    "        h3_3.append(len(problem.goal().difference(problem.init())))\n"
   ]
  },
  {
   "cell_type": "code",
   "execution_count": null,
   "metadata": {
    "scrolled": false
   },
   "outputs": [],
   "source": [
    "print(len(h0_3))\n",
    "print(len(generated))\n",
    "\n",
    "plt.scatter(h2_3, h1_3)\n",
    "plt.grid(\"on\")\n",
    "plt.show()\n",
    "\n",
    "plt.scatter(h0_3, h1_3)\n",
    "plt.grid(\"on\")\n",
    "plt.show()\n",
    "\n",
    "plt.scatter(h0_3, h2_3)\n",
    "plt.grid(\"on\")\n",
    "plt.show()\n",
    "\n",
    "plt.scatter(h0_3, h3_3)\n",
    "plt.grid(\"on\")\n",
    "plt.show()"
   ]
  },
  {
   "cell_type": "code",
   "execution_count": null,
   "metadata": {
    "scrolled": false
   },
   "outputs": [],
   "source": [
    "# Good for approximating the optimal heuristic... not so good for ranking\n",
    "\n",
    "import numpy as np\n",
    "from scipy.spatial import KDTree\n",
    "\n",
    "random\n",
    "\n",
    "X = np.array(list(zip(h1_3, h2_3, h3_3)))\n",
    "y = np.array(h0_3)\n",
    "\n",
    "n = X.shape[0]\n",
    "\n",
    "p_split = 0.8\n",
    "\n",
    "X_train = X[:int(p_split*n),:]\n",
    "y_train = y[:int(p_split*n)]\n",
    "\n",
    "X_test = X[int(p_split*n):,:]\n",
    "y_test = y[int(p_split*n):]\n",
    "\n",
    "xy_map = {}\n",
    "for x, y in zip(X_train, y_train):\n",
    "    try:\n",
    "        xy_map[tuple(x)].append(y)\n",
    "    except KeyError:\n",
    "        xy_map[tuple(x)] = [y]\n",
    "        \n",
    "tree = KDTree(X_train)\n",
    "\n",
    "error_abs_1 = 0\n",
    "error_abs_2 = 0\n",
    "error_abs_3 = 0\n",
    "\n",
    "y_guess = []\n",
    "\n",
    "for x,y in zip(X_test, y_test):\n",
    "    _, nearest_i = tree.query(x)\n",
    "    nearest = tuple(tree.data[nearest_i,:])\n",
    "    guess = np.mean(xy_map[nearest])\n",
    "    y_guess.append(guess)\n",
    "#     print(\"{}, {}, {}\".format(x,y,guess))\n",
    "    error_abs_1 += abs(y-guess)\n",
    "    error_abs_2 += abs(y-x[0])\n",
    "    error_abs_3 += abs(y-x[1])\n",
    "error_abs_1 /= X_test.shape[0]\n",
    "error_abs_2 /= X_test.shape[0]\n",
    "error_abs_3 /= X_test.shape[0]\n",
    "\n",
    "ranking_errors_1 = 0\n",
    "\n",
    "for diff1, diff2 in tqdm.tqdm_notebook([(y1-y1_, y2-y2_) for y1,y2 in zip(y_test, y_guess)\n",
    "                                                         for y1_,y2_ in zip(y_test, y_guess)]):\n",
    "    if diff1*diff2 < 0 or ((diff1 == 0) ^ (diff2 == 0)):\n",
    "        ranking_errors_1 += 1\n",
    "            \n",
    "ranking_errors_2 = 0\n",
    "\n",
    "for diff1, diff2 in tqdm.tqdm_notebook([(x[0]-x_[0], y-y_) for x,y in zip(X_test, y_test)\n",
    "                                                           for x_,y_ in zip(X_test, y_test)]):\n",
    "    if diff1*diff2 < 0 or ((diff1 == 0) ^ (diff2 == 0)):\n",
    "        ranking_errors_2 += 1\n",
    "\n",
    "print(error_abs_1)\n",
    "print(error_abs_2)\n",
    "print(error_abs_3)\n",
    "              \n",
    "print(ranking_errors_1)\n",
    "print(ranking_errors_2)"
   ]
  },
  {
   "cell_type": "code",
   "execution_count": 4,
   "metadata": {},
   "outputs": [
    {
     "ename": "AttributeError",
     "evalue": "'list' object has no attribute 'empty'",
     "output_type": "error",
     "traceback": [
      "\u001b[0;31m---------------------------------------------------------------------------\u001b[0m",
      "\u001b[0;31mAttributeError\u001b[0m                            Traceback (most recent call last)",
      "\u001b[0;32m<ipython-input-4-b0c48d63a9b3>\u001b[0m in \u001b[0;36m<module>\u001b[0;34m()\u001b[0m\n\u001b[1;32m      1\u001b[0m \u001b[0mp\u001b[0m \u001b[0;34m=\u001b[0m \u001b[0;34m[\u001b[0m\u001b[0;34m]\u001b[0m\u001b[0;34m\u001b[0m\u001b[0m\n\u001b[1;32m      2\u001b[0m \u001b[0;34m\u001b[0m\u001b[0m\n\u001b[0;32m----> 3\u001b[0;31m \u001b[0mprint\u001b[0m\u001b[0;34m(\u001b[0m\u001b[0mp\u001b[0m\u001b[0;34m.\u001b[0m\u001b[0mempty\u001b[0m\u001b[0;34m(\u001b[0m\u001b[0;34m)\u001b[0m\u001b[0;34m)\u001b[0m\u001b[0;34m\u001b[0m\u001b[0m\n\u001b[0m",
      "\u001b[0;31mAttributeError\u001b[0m: 'list' object has no attribute 'empty'"
     ]
    }
   ],
   "source": [
    "p = []\n",
    "\n",
    "print(p.empty())"
   ]
  },
  {
   "cell_type": "code",
   "execution_count": null,
   "metadata": {},
   "outputs": [],
   "source": []
  }
 ],
 "metadata": {
  "kernelspec": {
   "display_name": "Python 3",
   "language": "python",
   "name": "python3"
  },
  "language_info": {
   "codemirror_mode": {
    "name": "ipython",
    "version": 3
   },
   "file_extension": ".py",
   "mimetype": "text/x-python",
   "name": "python",
   "nbconvert_exporter": "python",
   "pygments_lexer": "ipython3",
   "version": "3.5.2"
  }
 },
 "nbformat": 4,
 "nbformat_minor": 2
}
