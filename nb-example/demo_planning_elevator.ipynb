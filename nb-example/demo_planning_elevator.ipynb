{
 "cells": [
  {
   "cell_type": "markdown",
   "metadata": {},
   "source": [
    "# Planning in Python\n",
    "\n",
    "Here we illustrate how to use our library to pose the classical 'Elevetors' problem and solve it with our planning framework. We have implemented both blind search algorithms and informed (heuristic) search. This notebook gives a flavour of these techniques.\n",
    "\n",
    "\n",
    "We start importing the relevant modules:"
   ]
  },
  {
   "cell_type": "code",
   "execution_count": 1,
   "metadata": {},
   "outputs": [],
   "source": [
    "import planning\n",
    "\n",
    "from IPython.display import display\n",
    "\n",
    "#import random \n",
    "\n",
    "#random.seed(42)"
   ]
  },
  {
   "cell_type": "markdown",
   "metadata": {},
   "source": [
    "Now let us pose a simple problem with 4 pegs and 5 disks. The domain is already defined and it contains a single operator: `move(?what-disk, ?from-object, ?to-object)`, which moves disk `?what` from object `?from` (either a peg or another disk) to object `?to` (also, either a peg or a disk). Our planning framework can take care of static preconditions. That is, it does not instantiate the move operator for moving a disk onto a smaller disk) so it is not necessary to encode static predicates in the state (the `smaller(?disk1,?disk2)` predicates that are typically seen in PDDL Hanoi domains).\n",
    "\n",
    "We have also implemented a problem generator. The generator can create problems for any number of disks and pegs. It also allows random initial and ending configurations. Our first example will be fairly simple and will have 3 pegs, all the disks in the first peg in the initial state and all the disks in the third peg in the goal configuration. Although the goal in this case details the position of every disk, notice that this does not necessarily has to be the case always. The goal does not need to be a complete description of the end configuration. It is perfectly reasonable, and our framework allows it, to consider partial states (e.g. we want the biggest disk in the third peg, and we do not care about the rest)."
   ]
  },
  {
   "cell_type": "code",
   "execution_count": 2,
   "metadata": {
    "scrolled": false
   },
   "outputs": [
    {
     "name": "stdout",
     "output_type": "stream",
     "text": [
      "Domain: Elevator\n",
      "Types: {'passenger': 'object', 'floor': 'object'}\n",
      "Operators:\n",
      "  - board(?f-floor,?p-passenger):\n",
      "    Pre: lift-at(?f), origin(?p,?f)\n",
      "    Add: boarded(?p)\n",
      "    Delete: \n",
      "  - depart(?f-floor,?p-passenger):\n",
      "    Pre: lift-at(?f), destin(?p,?f), boarded(?p)\n",
      "    Add: served(?p)\n",
      "    Delete: boarded(?p)\n",
      "  - drive_down(?f1-floor,?f2-floor):\n",
      "    Pre: lift-at(?f1), above(?f2,?f1)\n",
      "    Add: lift-at(?f2)\n",
      "    Delete: lift-at(?f1)\n",
      "  - drive_up(?f1-floor,?f2-floor):\n",
      "    Pre: lift-at(?f1), above(?f1,?f2)\n",
      "    Add: lift-at(?f2)\n",
      "    Delete: lift-at(?f1)\n",
      "Problem: elevator-00\n",
      "Domain: Elevator\n",
      "Initial state:\n",
      "  above(floor1,floor2)\n",
      "  above(floor2,floor3)\n",
      "  above(floor3,floor4)\n",
      "  destin(passenger01,floor1)\n",
      "  destin(passenger02,floor3)\n",
      "  destin(passenger03,floor2)\n",
      "  lift-at(floor1)\n",
      "  origin(passenger01,floor1)\n",
      "  origin(passenger02,floor4)\n",
      "  origin(passenger03,floor3)\n",
      "Goal:\n",
      "  served(passenger01)\n",
      "  served(passenger02)\n",
      "  served(passenger03)\n",
      "Ground operators:\n",
      "  board(floor1,passenger01)\n",
      "  board(floor1,passenger02)\n",
      "  board(floor1,passenger03)\n",
      "  board(floor2,passenger01)\n",
      "  board(floor2,passenger02)\n",
      "  board(floor2,passenger03)\n",
      "  board(floor3,passenger01)\n",
      "  board(floor3,passenger02)\n",
      "  board(floor3,passenger03)\n",
      "  board(floor4,passenger01)\n",
      "  board(floor4,passenger02)\n",
      "  board(floor4,passenger03)\n",
      "  depart(floor1,passenger01)\n",
      "  depart(floor1,passenger02)\n",
      "  depart(floor1,passenger03)\n",
      "  depart(floor2,passenger01)\n",
      "  depart(floor2,passenger02)\n",
      "  depart(floor2,passenger03)\n",
      "  depart(floor3,passenger01)\n",
      "  depart(floor3,passenger02)\n",
      "  depart(floor3,passenger03)\n",
      "  depart(floor4,passenger01)\n",
      "  depart(floor4,passenger02)\n",
      "  depart(floor4,passenger03)\n",
      "  drive_down(floor1,floor2)\n",
      "  drive_down(floor1,floor3)\n",
      "  drive_down(floor1,floor4)\n",
      "  drive_down(floor2,floor1)\n",
      "  drive_down(floor2,floor3)\n",
      "  drive_down(floor2,floor4)\n",
      "  drive_down(floor3,floor1)\n",
      "  drive_down(floor3,floor2)\n",
      "  drive_down(floor3,floor4)\n",
      "  drive_down(floor4,floor1)\n",
      "  drive_down(floor4,floor2)\n",
      "  drive_down(floor4,floor3)\n",
      "  drive_up(floor1,floor2)\n",
      "  drive_up(floor1,floor3)\n",
      "  drive_up(floor1,floor4)\n",
      "  drive_up(floor2,floor1)\n",
      "  drive_up(floor2,floor3)\n",
      "  drive_up(floor2,floor4)\n",
      "  drive_up(floor3,floor1)\n",
      "  drive_up(floor3,floor2)\n",
      "  drive_up(floor3,floor4)\n",
      "  drive_up(floor4,floor1)\n",
      "  drive_up(floor4,floor2)\n",
      "  drive_up(floor4,floor3)\n",
      "Init:\n"
     ]
    },
    {
     "data": {
      "image/svg+xml": [
       "<svg baseProfile=\"full\" height=\"300\" version=\"1.1\" width=\"600\" xmlns=\"http://www.w3.org/2000/svg\" xmlns:ev=\"http://www.w3.org/2001/xml-events\" xmlns:xlink=\"http://www.w3.org/1999/xlink\"><defs /><line stroke=\"black\" x1=\"5%\" x2=\"95%\" y1=\"15%\" y2=\"15%\" /><circle cx=\"300.0\" cy=\"150.0\" fill=\"black\" r=\"2\" /><text x=\"305.0%\" y=\"150.0%\">3</text></svg>"
      ],
      "text/plain": [
       "<planning.planning.State at 0x7efc545e5d30>"
      ]
     },
     "metadata": {},
     "output_type": "display_data"
    },
    {
     "name": "stdout",
     "output_type": "stream",
     "text": [
      "Goal:\n"
     ]
    },
    {
     "data": {
      "image/svg+xml": [
       "<svg baseProfile=\"full\" height=\"300\" version=\"1.1\" width=\"600\" xmlns=\"http://www.w3.org/2000/svg\" xmlns:ev=\"http://www.w3.org/2001/xml-events\" xmlns:xlink=\"http://www.w3.org/1999/xlink\"><defs /><line stroke=\"black\" x1=\"5%\" x2=\"95%\" y1=\"15%\" y2=\"15%\" /><circle cx=\"300.0\" cy=\"150.0\" fill=\"black\" r=\"2\" /><text x=\"305.0%\" y=\"150.0%\">3</text></svg>"
      ],
      "text/plain": [
       "<planning.planning.State at 0x7efc545e5d68>"
      ]
     },
     "metadata": {},
     "output_type": "display_data"
    },
    {
     "name": "stdout",
     "output_type": "stream",
     "text": [
      "Applicable actions in 1st state:\n",
      "board(floor1,passenger01)\n",
      "drive_up(floor1,floor2)\n"
     ]
    }
   ],
   "source": [
    "domain = planning.domains[\"Elevator\"]\n",
    "problem = domain.generate_problem(3, 4)\n",
    "print(domain)\n",
    "print(problem)\n",
    "print(\"Init:\")\n",
    "display(problem.init())\n",
    "print(\"Goal:\")\n",
    "display(problem.goal())\n",
    "print(\"Applicable actions in 1st state:\")\n",
    "print(\"\\n\".join(map(str, filter(problem.init().can_apply, problem.operators()))))"
   ]
  },
  {
   "cell_type": "markdown",
   "metadata": {},
   "source": [
    "Let us start applying blind search algorithms. Namely, we have implemented Breadth First Search (BFS) and Iterative Deepening Search (IDS). The algorithms have an exponential worst time complexity. More specifically, both have a time complexity of $ O(b^d) $ where $ b $ is the branching factor and $ d $ is the length of the plan. Moreover, BFS is very memory intensive, requiring also an exponential amount of memory. IDS sacrifices speed for memory efficiency: it has a linear memory usage, but requires more time than BFS to find a plan, namely, a constant factor times the time required by BFS which, of course, is hidden in the big O notation.\n",
    "\n",
    "Let us start with BFS:"
   ]
  },
  {
   "cell_type": "code",
   "execution_count": 3,
   "metadata": {
    "scrolled": false
   },
   "outputs": [
    {
     "name": "stdout",
     "output_type": "stream",
     "text": [
      "[0.013s] Plan found with 9 action(s)\n",
      "#Generated nodes: 125\n",
      "Plan:\n",
      "  board(floor1,passenger01)\n",
      "  board(floor1,passenger03)\n",
      "  drive_up(floor1,floor2)\n",
      "  depart(floor2,passenger01)\n",
      "  depart(floor2,passenger03)\n",
      "  drive_up(floor2,floor3)\n",
      "  board(floor3,passenger02)\n",
      "  drive_down(floor3,floor2)\n",
      "  depart(floor2,passenger02)\n",
      "step 0\n"
     ]
    },
    {
     "data": {
      "image/svg+xml": [
       "<svg baseProfile=\"full\" height=\"300\" version=\"1.1\" width=\"600\" xmlns=\"http://www.w3.org/2000/svg\" xmlns:ev=\"http://www.w3.org/2001/xml-events\" xmlns:xlink=\"http://www.w3.org/1999/xlink\"><defs /><line stroke=\"black\" x1=\"5%\" x2=\"95%\" y1=\"95%\" y2=\"95%\" /><line stroke=\"blue\" x1=\"15.0%\" x2=\"15.0%\" y1=\"0%\" y2=\"5%\" /><line stroke=\"blue\" x1=\"7.3%\" x2=\"7.3%\" y1=\"5%\" y2=\"10%\" /><line stroke=\"blue\" x1=\"22.7%\" x2=\"22.7%\" y1=\"5%\" y2=\"10%\" /><line stroke=\"blue\" x1=\"7.3%\" x2=\"22.7%\" y1=\"5%\" y2=\"5%\" /></svg>"
      ],
      "text/plain": [
       "<planning.planning.State at 0x7fc7f033fb00>"
      ]
     },
     "metadata": {},
     "output_type": "display_data"
    },
    {
     "name": "stdout",
     "output_type": "stream",
     "text": [
      "step 1\n"
     ]
    },
    {
     "data": {
      "image/svg+xml": [
       "<svg baseProfile=\"full\" height=\"300\" version=\"1.1\" width=\"600\" xmlns=\"http://www.w3.org/2000/svg\" xmlns:ev=\"http://www.w3.org/2001/xml-events\" xmlns:xlink=\"http://www.w3.org/1999/xlink\"><defs /><line stroke=\"black\" x1=\"5%\" x2=\"95%\" y1=\"95%\" y2=\"95%\" /><line stroke=\"blue\" x1=\"15.0%\" x2=\"15.0%\" y1=\"0%\" y2=\"5%\" /><line stroke=\"blue\" x1=\"7.3%\" x2=\"7.3%\" y1=\"5%\" y2=\"10%\" /><line stroke=\"blue\" x1=\"22.7%\" x2=\"22.7%\" y1=\"5%\" y2=\"10%\" /><line stroke=\"blue\" x1=\"7.3%\" x2=\"22.7%\" y1=\"5%\" y2=\"5%\" /></svg>"
      ],
      "text/plain": [
       "<planning.planning.State at 0x7fc7f02cce48>"
      ]
     },
     "metadata": {},
     "output_type": "display_data"
    },
    {
     "name": "stdout",
     "output_type": "stream",
     "text": [
      "step 2\n"
     ]
    },
    {
     "data": {
      "image/svg+xml": [
       "<svg baseProfile=\"full\" height=\"300\" version=\"1.1\" width=\"600\" xmlns=\"http://www.w3.org/2000/svg\" xmlns:ev=\"http://www.w3.org/2001/xml-events\" xmlns:xlink=\"http://www.w3.org/1999/xlink\"><defs /><line stroke=\"black\" x1=\"5%\" x2=\"95%\" y1=\"95%\" y2=\"95%\" /><line stroke=\"blue\" x1=\"15.0%\" x2=\"15.0%\" y1=\"0%\" y2=\"5%\" /><line stroke=\"blue\" x1=\"7.3%\" x2=\"7.3%\" y1=\"5%\" y2=\"10%\" /><line stroke=\"blue\" x1=\"22.7%\" x2=\"22.7%\" y1=\"5%\" y2=\"10%\" /><line stroke=\"blue\" x1=\"7.3%\" x2=\"22.7%\" y1=\"5%\" y2=\"5%\" /></svg>"
      ],
      "text/plain": [
       "<planning.planning.State at 0x7fc7f02cc9e8>"
      ]
     },
     "metadata": {},
     "output_type": "display_data"
    },
    {
     "name": "stdout",
     "output_type": "stream",
     "text": [
      "step 3\n"
     ]
    },
    {
     "data": {
      "image/svg+xml": [
       "<svg baseProfile=\"full\" height=\"300\" version=\"1.1\" width=\"600\" xmlns=\"http://www.w3.org/2000/svg\" xmlns:ev=\"http://www.w3.org/2001/xml-events\" xmlns:xlink=\"http://www.w3.org/1999/xlink\"><defs /><line stroke=\"black\" x1=\"5%\" x2=\"95%\" y1=\"95%\" y2=\"95%\" /><line stroke=\"blue\" x1=\"15.0%\" x2=\"15.0%\" y1=\"0%\" y2=\"5%\" /><line stroke=\"blue\" x1=\"7.3%\" x2=\"7.3%\" y1=\"5%\" y2=\"10%\" /><line stroke=\"blue\" x1=\"22.7%\" x2=\"22.7%\" y1=\"5%\" y2=\"10%\" /><line stroke=\"blue\" x1=\"7.3%\" x2=\"22.7%\" y1=\"5%\" y2=\"5%\" /></svg>"
      ],
      "text/plain": [
       "<planning.planning.State at 0x7fc7f02d9048>"
      ]
     },
     "metadata": {},
     "output_type": "display_data"
    },
    {
     "name": "stdout",
     "output_type": "stream",
     "text": [
      "step 4\n"
     ]
    },
    {
     "data": {
      "image/svg+xml": [
       "<svg baseProfile=\"full\" height=\"300\" version=\"1.1\" width=\"600\" xmlns=\"http://www.w3.org/2000/svg\" xmlns:ev=\"http://www.w3.org/2001/xml-events\" xmlns:xlink=\"http://www.w3.org/1999/xlink\"><defs /><line stroke=\"black\" x1=\"5%\" x2=\"95%\" y1=\"95%\" y2=\"95%\" /><line stroke=\"blue\" x1=\"15.0%\" x2=\"15.0%\" y1=\"0%\" y2=\"5%\" /><line stroke=\"blue\" x1=\"7.3%\" x2=\"7.3%\" y1=\"5%\" y2=\"10%\" /><line stroke=\"blue\" x1=\"22.7%\" x2=\"22.7%\" y1=\"5%\" y2=\"10%\" /><line stroke=\"blue\" x1=\"7.3%\" x2=\"22.7%\" y1=\"5%\" y2=\"5%\" /></svg>"
      ],
      "text/plain": [
       "<planning.planning.State at 0x7fc7f02d92e8>"
      ]
     },
     "metadata": {},
     "output_type": "display_data"
    },
    {
     "name": "stdout",
     "output_type": "stream",
     "text": [
      "step 5\n"
     ]
    },
    {
     "data": {
      "image/svg+xml": [
       "<svg baseProfile=\"full\" height=\"300\" version=\"1.1\" width=\"600\" xmlns=\"http://www.w3.org/2000/svg\" xmlns:ev=\"http://www.w3.org/2001/xml-events\" xmlns:xlink=\"http://www.w3.org/1999/xlink\"><defs /><line stroke=\"black\" x1=\"5%\" x2=\"95%\" y1=\"95%\" y2=\"95%\" /><line stroke=\"blue\" x1=\"15.0%\" x2=\"15.0%\" y1=\"0%\" y2=\"5%\" /><line stroke=\"blue\" x1=\"7.3%\" x2=\"7.3%\" y1=\"5%\" y2=\"10%\" /><line stroke=\"blue\" x1=\"22.7%\" x2=\"22.7%\" y1=\"5%\" y2=\"10%\" /><line stroke=\"blue\" x1=\"7.3%\" x2=\"22.7%\" y1=\"5%\" y2=\"5%\" /></svg>"
      ],
      "text/plain": [
       "<planning.planning.State at 0x7fc7f02d94e0>"
      ]
     },
     "metadata": {},
     "output_type": "display_data"
    },
    {
     "name": "stdout",
     "output_type": "stream",
     "text": [
      "step 6\n"
     ]
    },
    {
     "data": {
      "image/svg+xml": [
       "<svg baseProfile=\"full\" height=\"300\" version=\"1.1\" width=\"600\" xmlns=\"http://www.w3.org/2000/svg\" xmlns:ev=\"http://www.w3.org/2001/xml-events\" xmlns:xlink=\"http://www.w3.org/1999/xlink\"><defs /><line stroke=\"black\" x1=\"5%\" x2=\"95%\" y1=\"95%\" y2=\"95%\" /><line stroke=\"blue\" x1=\"15.0%\" x2=\"15.0%\" y1=\"0%\" y2=\"5%\" /><line stroke=\"blue\" x1=\"7.3%\" x2=\"7.3%\" y1=\"5%\" y2=\"10%\" /><line stroke=\"blue\" x1=\"22.7%\" x2=\"22.7%\" y1=\"5%\" y2=\"10%\" /><line stroke=\"blue\" x1=\"7.3%\" x2=\"22.7%\" y1=\"5%\" y2=\"5%\" /></svg>"
      ],
      "text/plain": [
       "<planning.planning.State at 0x7fc7f02d9eb8>"
      ]
     },
     "metadata": {},
     "output_type": "display_data"
    },
    {
     "name": "stdout",
     "output_type": "stream",
     "text": [
      "step 7\n"
     ]
    },
    {
     "data": {
      "image/svg+xml": [
       "<svg baseProfile=\"full\" height=\"300\" version=\"1.1\" width=\"600\" xmlns=\"http://www.w3.org/2000/svg\" xmlns:ev=\"http://www.w3.org/2001/xml-events\" xmlns:xlink=\"http://www.w3.org/1999/xlink\"><defs /><line stroke=\"black\" x1=\"5%\" x2=\"95%\" y1=\"95%\" y2=\"95%\" /><line stroke=\"blue\" x1=\"15.0%\" x2=\"15.0%\" y1=\"0%\" y2=\"5%\" /><line stroke=\"blue\" x1=\"7.3%\" x2=\"7.3%\" y1=\"5%\" y2=\"10%\" /><line stroke=\"blue\" x1=\"22.7%\" x2=\"22.7%\" y1=\"5%\" y2=\"10%\" /><line stroke=\"blue\" x1=\"7.3%\" x2=\"22.7%\" y1=\"5%\" y2=\"5%\" /></svg>"
      ],
      "text/plain": [
       "<planning.planning.State at 0x7fc7f02d9908>"
      ]
     },
     "metadata": {},
     "output_type": "display_data"
    },
    {
     "name": "stdout",
     "output_type": "stream",
     "text": [
      "step 8\n"
     ]
    },
    {
     "data": {
      "image/svg+xml": [
       "<svg baseProfile=\"full\" height=\"300\" version=\"1.1\" width=\"600\" xmlns=\"http://www.w3.org/2000/svg\" xmlns:ev=\"http://www.w3.org/2001/xml-events\" xmlns:xlink=\"http://www.w3.org/1999/xlink\"><defs /><line stroke=\"black\" x1=\"5%\" x2=\"95%\" y1=\"95%\" y2=\"95%\" /><line stroke=\"blue\" x1=\"15.0%\" x2=\"15.0%\" y1=\"0%\" y2=\"5%\" /><line stroke=\"blue\" x1=\"7.3%\" x2=\"7.3%\" y1=\"5%\" y2=\"10%\" /><line stroke=\"blue\" x1=\"22.7%\" x2=\"22.7%\" y1=\"5%\" y2=\"10%\" /><line stroke=\"blue\" x1=\"7.3%\" x2=\"22.7%\" y1=\"5%\" y2=\"5%\" /></svg>"
      ],
      "text/plain": [
       "<planning.planning.State at 0x7fc7f02e74e0>"
      ]
     },
     "metadata": {},
     "output_type": "display_data"
    },
    {
     "name": "stdout",
     "output_type": "stream",
     "text": [
      "step 9\n"
     ]
    },
    {
     "data": {
      "image/svg+xml": [
       "<svg baseProfile=\"full\" height=\"300\" version=\"1.1\" width=\"600\" xmlns=\"http://www.w3.org/2000/svg\" xmlns:ev=\"http://www.w3.org/2001/xml-events\" xmlns:xlink=\"http://www.w3.org/1999/xlink\"><defs /><line stroke=\"black\" x1=\"5%\" x2=\"95%\" y1=\"95%\" y2=\"95%\" /><line stroke=\"blue\" x1=\"15.0%\" x2=\"15.0%\" y1=\"0%\" y2=\"5%\" /><line stroke=\"blue\" x1=\"7.3%\" x2=\"7.3%\" y1=\"5%\" y2=\"10%\" /><line stroke=\"blue\" x1=\"22.7%\" x2=\"22.7%\" y1=\"5%\" y2=\"10%\" /><line stroke=\"blue\" x1=\"7.3%\" x2=\"22.7%\" y1=\"5%\" y2=\"5%\" /></svg>"
      ],
      "text/plain": [
       "<planning.planning.State at 0x7fc7f02e7a90>"
      ]
     },
     "metadata": {},
     "output_type": "display_data"
    }
   ],
   "source": [
    "bfs = planning.BreadthFirstSearch(problem, verbose=1, timeout=None, node_bound=None)\n",
    "status = bfs()\n",
    "if status == planning.search.FOUND:\n",
    "    plan = bfs.plan()\n",
    "    state_sequence = bfs.state_sequence()\n",
    "    print(\"#Generated nodes: \" + str(bfs.info()[\"generated\"]))\n",
    "    if True: #len(plan) < 10:\n",
    "        print(\"Plan:\\n  \" + \"\\n  \".join([str(op) for op in bfs.plan()]))\n",
    "        for i, state in enumerate(bfs.state_sequence()):\n",
    "            print(\"step \" + str(i))\n",
    "            display(state)"
   ]
  },
  {
   "cell_type": "markdown",
   "metadata": {},
   "source": [
    "Let us apply IDS now:"
   ]
  },
  {
   "cell_type": "code",
   "execution_count": 5,
   "metadata": {
    "scrolled": false
   },
   "outputs": [
    {
     "name": "stdout",
     "output_type": "stream",
     "text": [
      "[0.000s] Plan found with 0 action(s)\n",
      "Plan:\n",
      "  \n",
      "step 0\n"
     ]
    },
    {
     "data": {
      "image/svg+xml": [
       "<svg baseProfile=\"full\" height=\"300\" version=\"1.1\" width=\"600\" xmlns=\"http://www.w3.org/2000/svg\" xmlns:ev=\"http://www.w3.org/2001/xml-events\" xmlns:xlink=\"http://www.w3.org/1999/xlink\"><defs /><line stroke=\"black\" x1=\"5%\" x2=\"95%\" y1=\"95%\" y2=\"95%\" /><line stroke=\"blue\" x1=\"15.0%\" x2=\"15.0%\" y1=\"0%\" y2=\"5%\" /><line stroke=\"blue\" x1=\"7.3%\" x2=\"7.3%\" y1=\"5%\" y2=\"10%\" /><line stroke=\"blue\" x1=\"22.7%\" x2=\"22.7%\" y1=\"5%\" y2=\"10%\" /><line stroke=\"blue\" x1=\"7.3%\" x2=\"22.7%\" y1=\"5%\" y2=\"5%\" /><rect fill=\"white\" height=\"14.4%\" stroke=\"black\" width=\"14.4%\" x=\"15.8%\" y=\"80.6%\" /><text fill=\"black\" x=\"17.96%\" y=\"91.0%\">block01</text></svg>"
      ],
      "text/plain": [
       "<planning.planning.State at 0x7f97b24719e8>"
      ]
     },
     "metadata": {},
     "output_type": "display_data"
    }
   ],
   "source": [
    "ids = planning.IterativeDeepeningSearch(problem, verbose=1, timeout=30.0)\n",
    "status = ids()\n",
    "if status == planning.search.FOUND:\n",
    "    plan = ids.plan()\n",
    "    state_sequence = ids.state_sequence()\n",
    "    if len(plan) < 10:\n",
    "        print(\"Plan:\\n  \" + \"\\n  \".join([str(op) for op in ids.plan()]))\n",
    "        for i, state in enumerate(ids.state_sequence()):\n",
    "            print(\"step \" + str(i))\n",
    "            display(state)"
   ]
  },
  {
   "cell_type": "markdown",
   "metadata": {},
   "source": [
    "Now, let us apply heuristic search. We have implemented a generic Best First Search algorithm that accepts any heuristic and uses it to guide the search. We have implemented the following heuristics:\n",
    "- Goal counting heuristic\n",
    "- Relaxed goal counting heuristic\n",
    "- Novelty-based heuristics\n",
    "- Additive heuristic ($ h_{add} $)\n",
    "- Relaxed planning graph heuristic (equivalent to $ h_{max} $)\n",
    "\n",
    "We can combine these heuristics to achieve certain behaviour. For instance, we can use a linear combination of the accumulated cost and the novelty or additive heuristic to get the $\\epsilon-A*$ (epsilon A-star) behaviour. The improvement with respect to the blind search is evident:"
   ]
  },
  {
   "cell_type": "code",
   "execution_count": 6,
   "metadata": {
    "scrolled": false
   },
   "outputs": [
    {
     "name": "stdout",
     "output_type": "stream",
     "text": [
      "[0.001s] Plan found with 0 action(s)\n"
     ]
    },
    {
     "ename": "KeyError",
     "evalue": "'generated'",
     "output_type": "error",
     "traceback": [
      "\u001b[0;31m---------------------------------------------------------------------------\u001b[0m",
      "\u001b[0;31mKeyError\u001b[0m                                  Traceback (most recent call last)",
      "\u001b[0;32m<ipython-input-6-63e0d2d0105c>\u001b[0m in \u001b[0;36m<module>\u001b[0;34m()\u001b[0m\n\u001b[1;32m     10\u001b[0m \u001b[0mplan\u001b[0m \u001b[0;34m=\u001b[0m \u001b[0mbfs\u001b[0m\u001b[0;34m.\u001b[0m\u001b[0mplan\u001b[0m\u001b[0;34m(\u001b[0m\u001b[0;34m)\u001b[0m\u001b[0;34m\u001b[0m\u001b[0m\n\u001b[1;32m     11\u001b[0m \u001b[0mstate_sequence\u001b[0m \u001b[0;34m=\u001b[0m \u001b[0mbfs\u001b[0m\u001b[0;34m.\u001b[0m\u001b[0mstate_sequence\u001b[0m\u001b[0;34m(\u001b[0m\u001b[0;34m)\u001b[0m\u001b[0;34m\u001b[0m\u001b[0m\n\u001b[0;32m---> 12\u001b[0;31m \u001b[0mprint\u001b[0m\u001b[0;34m(\u001b[0m\u001b[0;34m\"#Generated nodes: \"\u001b[0m \u001b[0;34m+\u001b[0m \u001b[0mstr\u001b[0m\u001b[0;34m(\u001b[0m\u001b[0mbfs\u001b[0m\u001b[0;34m.\u001b[0m\u001b[0minfo\u001b[0m\u001b[0;34m(\u001b[0m\u001b[0;34m)\u001b[0m\u001b[0;34m[\u001b[0m\u001b[0;34m\"generated\"\u001b[0m\u001b[0;34m]\u001b[0m\u001b[0;34m)\u001b[0m\u001b[0;34m)\u001b[0m\u001b[0;34m\u001b[0m\u001b[0m\n\u001b[0m\u001b[1;32m     13\u001b[0m \u001b[0;32mif\u001b[0m \u001b[0mlen\u001b[0m\u001b[0;34m(\u001b[0m\u001b[0mplan\u001b[0m\u001b[0;34m)\u001b[0m \u001b[0;34m<\u001b[0m \u001b[0;36m15\u001b[0m\u001b[0;34m:\u001b[0m\u001b[0;34m\u001b[0m\u001b[0m\n\u001b[1;32m     14\u001b[0m     \u001b[0mprint\u001b[0m\u001b[0;34m(\u001b[0m\u001b[0;34m\"Plan:\\n  \"\u001b[0m \u001b[0;34m+\u001b[0m \u001b[0;34m\"\\n  \"\u001b[0m\u001b[0;34m.\u001b[0m\u001b[0mjoin\u001b[0m\u001b[0;34m(\u001b[0m\u001b[0;34m[\u001b[0m\u001b[0mstr\u001b[0m\u001b[0;34m(\u001b[0m\u001b[0mop\u001b[0m\u001b[0;34m)\u001b[0m \u001b[0;32mfor\u001b[0m \u001b[0mop\u001b[0m \u001b[0;32min\u001b[0m \u001b[0mbfs\u001b[0m\u001b[0;34m.\u001b[0m\u001b[0mplan\u001b[0m\u001b[0;34m(\u001b[0m\u001b[0;34m)\u001b[0m\u001b[0;34m]\u001b[0m\u001b[0;34m)\u001b[0m\u001b[0;34m)\u001b[0m\u001b[0;34m\u001b[0m\u001b[0m\n",
      "\u001b[0;31mKeyError\u001b[0m: 'generated'"
     ]
    }
   ],
   "source": [
    "g = planning.heuristics.AccumulatedCost()\n",
    "hadd = planning.heuristics.AdditiveHeuristic()\n",
    "rpg = planning.heuristics.RelaxedPlanningGraphHeuristic()\n",
    "hlinear = planning.heuristics.LinearCombination([g, hadd], (1, 5)) # 5 A-star with additive heuristic\n",
    "h = planning.heuristics.ConcatenateHeuristic([hlinear, hadd])\n",
    "\n",
    "bfs = planning.BestFirstSearch(problem, verbose=1, timeout=300.0, node_bound=20000,\n",
    "                               heuristic=h, close_forever=False)\n",
    "bfs()\n",
    "plan = bfs.plan()\n",
    "state_sequence = bfs.state_sequence()\n",
    "print(\"#Generated nodes: \" + str(bfs.info()[\"generated\"]))\n",
    "if len(plan) < 15:\n",
    "    print(\"Plan:\\n  \" + \"\\n  \".join([str(op) for op in bfs.plan()]))\n",
    "    for i, state in enumerate(bfs.state_sequence()):\n",
    "        print(\"step \" + str(i))\n",
    "        display(state)"
   ]
  },
  {
   "cell_type": "code",
   "execution_count": 8,
   "metadata": {},
   "outputs": [
    {
     "name": "stderr",
     "output_type": "stream",
     "text": [
      "100%|██████████| 1000/1000 [00:15<00:00, 66.67it/s]\n"
     ]
    }
   ],
   "source": [
    "import random\n",
    "import tqdm\n",
    "import matplotlib.pyplot as plt\n",
    "%matplotlib inline\n",
    "\n",
    "random.seed(42)\n",
    "\n",
    "h0_3 = []\n",
    "h1_3 = []\n",
    "h2_3 = []\n",
    "h3_3 = []\n",
    "\n",
    "N = 1000\n",
    "\n",
    "generated = set()\n",
    "\n",
    "for _ in tqdm.tqdm(range(N)):\n",
    "    while True:\n",
    "        n = random.randint(3, 4)\n",
    "#         m = random.randint(3, 4)\n",
    "        problem = domain.generate_problem(n, 3)\n",
    "        if (problem.init(), problem.goal()) not in generated:\n",
    "            generated.add((problem.init(), problem.goal()))\n",
    "            break\n",
    "    bfs = planning.BreadthFirstSearch(problem, verbose=0, timeout=5.0, node_bound=None)\n",
    "    status = bfs()\n",
    "    if status == planning.search.FOUND:\n",
    "        h0_3.append(len(bfs.plan()))\n",
    "        h1_3.append(hadd.h(problem.init(), problem.goal()))\n",
    "        if h1_3[-1] == 0 and h0_3[-1] != 0:\n",
    "            print(problem.trivial())\n",
    "        h2_3.append(rpg.h(problem.init(), problem.goal()))\n",
    "        h3_3.append(len(problem.goal().difference(problem.init())))\n"
   ]
  },
  {
   "cell_type": "code",
   "execution_count": 9,
   "metadata": {
    "scrolled": false
   },
   "outputs": [
    {
     "name": "stdout",
     "output_type": "stream",
     "text": [
      "1000\n",
      "1000\n"
     ]
    },
    {
     "data": {
      "image/png": "[encoded data removed]",
      "text/plain": [
       "<matplotlib.figure.Figure at 0x7f97b239c4a8>"
      ]
     },
     "metadata": {},
     "output_type": "display_data"
    },
    {
     "data": {
      "image/png": "[encoded data removed]",
      "text/plain": [
       "<matplotlib.figure.Figure at 0x7f97a1c114e0>"
      ]
     },
     "metadata": {},
     "output_type": "display_data"
    },
    {
     "data": {
      "image/png": "[encoded data removed]",
      "text/plain": [
       "<matplotlib.figure.Figure at 0x7f97a18c0a90>"
      ]
     },
     "metadata": {},
     "output_type": "display_data"
    },
    {
     "data": {
      "image/png": "[encoded data removed]",
      "text/plain": [
       "<matplotlib.figure.Figure at 0x7f97b2318438>"
      ]
     },
     "metadata": {},
     "output_type": "display_data"
    }
   ],
   "source": [
    "print(len(h0_3))\n",
    "print(len(generated))\n",
    "\n",
    "plt.scatter(h2_3, h1_3)\n",
    "plt.grid(\"on\")\n",
    "plt.show()\n",
    "\n",
    "plt.scatter(h0_3, h1_3)\n",
    "plt.grid(\"on\")\n",
    "plt.show()\n",
    "\n",
    "plt.scatter(h0_3, h2_3)\n",
    "plt.grid(\"on\")\n",
    "plt.show()\n",
    "\n",
    "plt.scatter(h0_3, h3_3)\n",
    "plt.grid(\"on\")\n",
    "plt.show()"
   ]
  },
  {
   "cell_type": "code",
   "execution_count": 16,
   "metadata": {
    "scrolled": false
   },
   "outputs": [
    {
     "data": {
      "application/vnd.jupyter.widget-view+json": {
       "model_id": "f348f62f8cd5468896007079086a341d",
       "version_major": 2,
       "version_minor": 0
      },
      "text/html": [
       "<p>Failed to display Jupyter Widget of type <code>HBox</code>.</p>\n",
       "<p>\n",
       "  If you're reading this message in the Jupyter Notebook or JupyterLab Notebook, it may mean\n",
       "  that the widgets JavaScript is still loading. If this message persists, it\n",
       "  likely means that the widgets JavaScript library is either not installed or\n",
       "  not enabled. See the <a href=\"https://ipywidgets.readthedocs.io/en/stable/user_install.html\">Jupyter\n",
       "  Widgets Documentation</a> for setup instructions.\n",
       "</p>\n",
       "<p>\n",
       "  If you're reading this message in another frontend (for example, a static\n",
       "  rendering on GitHub or <a href=\"https://nbviewer.jupyter.org/\">NBViewer</a>),\n",
       "  it may mean that your frontend doesn't currently support widgets.\n",
       "</p>\n"
      ],
      "text/plain": [
       "HBox(children=(IntProgress(value=0, max=21316), HTML(value='')))"
      ]
     },
     "metadata": {},
     "output_type": "display_data"
    },
    {
     "name": "stdout",
     "output_type": "stream",
     "text": [
      "\n"
     ]
    },
    {
     "data": {
      "application/vnd.jupyter.widget-view+json": {
       "model_id": "30da4b9e64214e6faeac34922fabb54b",
       "version_major": 2,
       "version_minor": 0
      },
      "text/html": [
       "<p>Failed to display Jupyter Widget of type <code>HBox</code>.</p>\n",
       "<p>\n",
       "  If you're reading this message in the Jupyter Notebook or JupyterLab Notebook, it may mean\n",
       "  that the widgets JavaScript is still loading. If this message persists, it\n",
       "  likely means that the widgets JavaScript library is either not installed or\n",
       "  not enabled. See the <a href=\"https://ipywidgets.readthedocs.io/en/stable/user_install.html\">Jupyter\n",
       "  Widgets Documentation</a> for setup instructions.\n",
       "</p>\n",
       "<p>\n",
       "  If you're reading this message in another frontend (for example, a static\n",
       "  rendering on GitHub or <a href=\"https://nbviewer.jupyter.org/\">NBViewer</a>),\n",
       "  it may mean that your frontend doesn't currently support widgets.\n",
       "</p>\n"
      ],
      "text/plain": [
       "HBox(children=(IntProgress(value=0, max=21316), HTML(value='')))"
      ]
     },
     "metadata": {},
     "output_type": "display_data"
    },
    {
     "name": "stdout",
     "output_type": "stream",
     "text": [
      "\n",
      "1.6013107602249421\n",
      "2.835616438356164\n",
      "6.109589041095891\n",
      "5332\n",
      "6838\n"
     ]
    }
   ],
   "source": [
    "# Good for approximating the optimal heuristic... not so good for ranking\n",
    "\n",
    "import numpy as np\n",
    "from scipy.spatial import KDTree\n",
    "\n",
    "random\n",
    "\n",
    "X = np.array(list(zip(h1_3, h2_3, h3_3)))\n",
    "y = np.array(h0_3)\n",
    "\n",
    "n = X.shape[0]\n",
    "\n",
    "p_split = 0.8\n",
    "\n",
    "X_train = X[:int(p_split*n),:]\n",
    "y_train = y[:int(p_split*n)]\n",
    "\n",
    "X_test = X[int(p_split*n):,:]\n",
    "y_test = y[int(p_split*n):]\n",
    "\n",
    "xy_map = {}\n",
    "for x, y in zip(X_train, y_train):\n",
    "    try:\n",
    "        xy_map[tuple(x)].append(y)\n",
    "    except KeyError:\n",
    "        xy_map[tuple(x)] = [y]\n",
    "        \n",
    "tree = KDTree(X_train)\n",
    "\n",
    "error_abs_1 = 0\n",
    "error_abs_2 = 0\n",
    "error_abs_3 = 0\n",
    "\n",
    "y_guess = []\n",
    "\n",
    "for x,y in zip(X_test, y_test):\n",
    "    _, nearest_i = tree.query(x)\n",
    "    nearest = tuple(tree.data[nearest_i,:])\n",
    "    guess = np.mean(xy_map[nearest])\n",
    "    y_guess.append(guess)\n",
    "#     print(\"{}, {}, {}\".format(x,y,guess))\n",
    "    error_abs_1 += abs(y-guess)\n",
    "    error_abs_2 += abs(y-x[0])\n",
    "    error_abs_3 += abs(y-x[1])\n",
    "error_abs_1 /= X_test.shape[0]\n",
    "error_abs_2 /= X_test.shape[0]\n",
    "error_abs_3 /= X_test.shape[0]\n",
    "\n",
    "ranking_errors_1 = 0\n",
    "\n",
    "for diff1, diff2 in tqdm.tqdm_notebook([(y1-y1_, y2-y2_) for y1,y2 in zip(y_test, y_guess)\n",
    "                                                         for y1_,y2_ in zip(y_test, y_guess)]):\n",
    "    if diff1*diff2 < 0 or ((diff1 == 0) ^ (diff2 == 0)):\n",
    "        ranking_errors_1 += 1\n",
    "            \n",
    "ranking_errors_2 = 0\n",
    "\n",
    "for diff1, diff2 in tqdm.tqdm_notebook([(x[0]-x_[0], y-y_) for x,y in zip(X_test, y_test)\n",
    "                                                           for x_,y_ in zip(X_test, y_test)]):\n",
    "    if diff1*diff2 < 0 or ((diff1 == 0) ^ (diff2 == 0)):\n",
    "        ranking_errors_2 += 1\n",
    "\n",
    "print(error_abs_1)\n",
    "print(error_abs_2)\n",
    "print(error_abs_3)\n",
    "              \n",
    "print(ranking_errors_1)\n",
    "print(ranking_errors_2)"
   ]
  },
  {
   "cell_type": "code",
   "execution_count": null,
   "metadata": {},
   "outputs": [],
   "source": []
  }
 ],
 "metadata": {
  "kernelspec": {
   "display_name": "Python 3",
   "language": "python",
   "name": "python3"
  },
  "language_info": {
   "codemirror_mode": {
    "name": "ipython",
    "version": 3
   },
   "file_extension": ".py",
   "mimetype": "text/x-python",
   "name": "python",
   "nbconvert_exporter": "python",
   "pygments_lexer": "ipython3",
   "version": "3.5.2"
  }
 },
 "nbformat": 4,
 "nbformat_minor": 2
}
